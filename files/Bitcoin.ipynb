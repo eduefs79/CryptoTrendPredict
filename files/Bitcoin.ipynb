{
 "cells": [
  {
   "cell_type": "code",
   "execution_count": 1,
   "id": "4f17af33-7359-4d55-8069-6b89dbfbcd97",
   "metadata": {},
   "outputs": [],
   "source": [
    "#pip install requests"
   ]
  },
  {
   "cell_type": "code",
   "execution_count": 2,
   "id": "639b855e-efc2-4661-beab-9159d6f06698",
   "metadata": {},
   "outputs": [],
   "source": [
    "#pip install simplejson"
   ]
  },
  {
   "cell_type": "code",
   "execution_count": 3,
   "id": "9f9d6474-8cda-4ce1-8de6-02682b71ded3",
   "metadata": {},
   "outputs": [],
   "source": [
    "#pip install matplotlib"
   ]
  },
  {
   "cell_type": "code",
   "execution_count": 4,
   "id": "a5555599-b2d0-41ef-b45f-3dad4811b5f5",
   "metadata": {},
   "outputs": [
    {
     "name": "stdout",
     "output_type": "stream",
     "text": [
      "Requirement already satisfied: yfinance in /opt/conda/lib/python3.11/site-packages (0.2.52)\n",
      "Requirement already satisfied: pandas>=1.3.0 in /opt/conda/lib/python3.11/site-packages (from yfinance) (2.1.1)\n",
      "Requirement already satisfied: numpy>=1.16.5 in /opt/conda/lib/python3.11/site-packages (from yfinance) (1.24.4)\n",
      "Requirement already satisfied: requests>=2.31 in /opt/conda/lib/python3.11/site-packages (from yfinance) (2.31.0)\n",
      "Requirement already satisfied: multitasking>=0.0.7 in /opt/conda/lib/python3.11/site-packages (from yfinance) (0.0.11)\n",
      "Requirement already satisfied: lxml>=4.9.1 in /opt/conda/lib/python3.11/site-packages (from yfinance) (5.3.1)\n",
      "Requirement already satisfied: platformdirs>=2.0.0 in /opt/conda/lib/python3.11/site-packages (from yfinance) (3.11.0)\n",
      "Requirement already satisfied: pytz>=2022.5 in /opt/conda/lib/python3.11/site-packages (from yfinance) (2023.3.post1)\n",
      "Requirement already satisfied: frozendict>=2.3.4 in /opt/conda/lib/python3.11/site-packages (from yfinance) (2.4.6)\n",
      "Requirement already satisfied: peewee>=3.16.2 in /opt/conda/lib/python3.11/site-packages (from yfinance) (3.17.9)\n",
      "Requirement already satisfied: beautifulsoup4>=4.11.1 in /opt/conda/lib/python3.11/site-packages (from yfinance) (4.12.2)\n",
      "Requirement already satisfied: html5lib>=1.1 in /opt/conda/lib/python3.11/site-packages (from yfinance) (1.1)\n",
      "Requirement already satisfied: soupsieve>1.2 in /opt/conda/lib/python3.11/site-packages (from beautifulsoup4>=4.11.1->yfinance) (2.5)\n",
      "Requirement already satisfied: six>=1.9 in /opt/conda/lib/python3.11/site-packages (from html5lib>=1.1->yfinance) (1.16.0)\n",
      "Requirement already satisfied: webencodings in /opt/conda/lib/python3.11/site-packages (from html5lib>=1.1->yfinance) (0.5.1)\n",
      "Requirement already satisfied: python-dateutil>=2.8.2 in /opt/conda/lib/python3.11/site-packages (from pandas>=1.3.0->yfinance) (2.8.2)\n",
      "Requirement already satisfied: tzdata>=2022.1 in /opt/conda/lib/python3.11/site-packages (from pandas>=1.3.0->yfinance) (2023.3)\n",
      "Requirement already satisfied: charset-normalizer<4,>=2 in /opt/conda/lib/python3.11/site-packages (from requests>=2.31->yfinance) (3.3.0)\n",
      "Requirement already satisfied: idna<4,>=2.5 in /opt/conda/lib/python3.11/site-packages (from requests>=2.31->yfinance) (3.4)\n",
      "Requirement already satisfied: urllib3<3,>=1.21.1 in /opt/conda/lib/python3.11/site-packages (from requests>=2.31->yfinance) (2.0.7)\n",
      "Requirement already satisfied: certifi>=2017.4.17 in /opt/conda/lib/python3.11/site-packages (from requests>=2.31->yfinance) (2023.7.22)\n",
      "Note: you may need to restart the kernel to use updated packages.\n"
     ]
    }
   ],
   "source": [
    "pip install yfinance"
   ]
  },
  {
   "cell_type": "code",
   "execution_count": 5,
   "id": "c3f96dc3-8420-4830-acb6-fc83d4ed5f32",
   "metadata": {},
   "outputs": [],
   "source": [
    "#pip install sqlalchemy"
   ]
  },
  {
   "cell_type": "code",
   "execution_count": 6,
   "id": "63166c48-52e5-43be-9864-1acdabcd7801",
   "metadata": {},
   "outputs": [
    {
     "name": "stdout",
     "output_type": "stream",
     "text": [
      "Requirement already satisfied: pymysql in /opt/conda/lib/python3.11/site-packages (1.1.1)\n",
      "Note: you may need to restart the kernel to use updated packages.\n"
     ]
    }
   ],
   "source": [
    "pip install pymysql"
   ]
  },
  {
   "cell_type": "code",
   "execution_count": 7,
   "id": "3c5025d7-5277-4873-89d0-b13d572316d3",
   "metadata": {},
   "outputs": [],
   "source": [
    "#pip install pandas_datareader"
   ]
  },
  {
   "cell_type": "code",
   "execution_count": 8,
   "id": "e47e4a3e-d4dd-421c-bb9d-458fcef5d3d3",
   "metadata": {},
   "outputs": [
    {
     "name": "stdout",
     "output_type": "stream",
     "text": [
      "Requirement already satisfied: ta in /opt/conda/lib/python3.11/site-packages (0.11.0)\n",
      "Requirement already satisfied: numpy in /opt/conda/lib/python3.11/site-packages (from ta) (1.24.4)\n",
      "Requirement already satisfied: pandas in /opt/conda/lib/python3.11/site-packages (from ta) (2.1.1)\n",
      "Requirement already satisfied: python-dateutil>=2.8.2 in /opt/conda/lib/python3.11/site-packages (from pandas->ta) (2.8.2)\n",
      "Requirement already satisfied: pytz>=2020.1 in /opt/conda/lib/python3.11/site-packages (from pandas->ta) (2023.3.post1)\n",
      "Requirement already satisfied: tzdata>=2022.1 in /opt/conda/lib/python3.11/site-packages (from pandas->ta) (2023.3)\n",
      "Requirement already satisfied: six>=1.5 in /opt/conda/lib/python3.11/site-packages (from python-dateutil>=2.8.2->pandas->ta) (1.16.0)\n",
      "Note: you may need to restart the kernel to use updated packages.\n"
     ]
    }
   ],
   "source": [
    "pip install ta"
   ]
  },
  {
   "cell_type": "code",
   "execution_count": 9,
   "id": "ca8a597c-3676-49ba-a1c4-25dd188ae5f3",
   "metadata": {},
   "outputs": [
    {
     "data": {
      "text/plain": [
       "'\\nimport importlib\\nimport subprocess\\nimport sys\\n\\ndef install_dependencies(packages):\\n    \"\"\"\\n    Installs only the missing packages or reinstalls them if they already exist.\\n\\n    Args:\\n        packages (dict): A dictionary where the key is the package name \\n                         and the value is the version (optional).\\n    \"\"\"\\n    for package, version in packages.items():\\n        try:\\n            # Check if the package is already installed\\n            importlib.import_module(package)\\n            print(f\"{package} is already installed. Uninstalling and reinstalling...\")\\n            # Uninstall the package if it\\'s already installed\\n            #subprocess.check_call([sys.executable, \"-m\", \"pip\", \"uninstall\", f\"{package}\", \"-y\"])\\n        except ImportError:\\n            print(f\"{package} is not installed. Installing now...\")\\n\\n        # Install the package (after uninstalling if it existed)\\n        if version:\\n            subprocess.check_call([sys.executable, \"-m\", \"pip\", \"install\", f\"{package}=={version}\", \"--upgrade\", \"--no-cache-dir\"])\\n        else:\\n            subprocess.check_call([sys.executable, \"-m\", \"pip\", \"install\", package, \"--upgrade\", \"--no-cache-dir\"])\\n\\n# Define your dependencies (key: package name, value: version or None for latest)\\ndependencies = {\\n    \"requests\": None,\\n    \"numpy\": \"1.24.4\",\\n    \"yfinance\": \"0.2.52\",\\n    \"simplejson\": \"3.19.3\",\\n    \"matplotlib\": None,\\n    \"sqlalchemy\": \"2.0.38\",\\n    \"pymysql\": \"1.1.1\",\\n    \"pandas_datareader\": \"0.10.0\",\\n    \"ta\": \"0.11.0\"   \\n}\\n\\n# Install the required dependencies\\ninstall_dependencies(dependencies)\\n'"
      ]
     },
     "execution_count": 9,
     "metadata": {},
     "output_type": "execute_result"
    }
   ],
   "source": [
    "'''\n",
    "import importlib\n",
    "import subprocess\n",
    "import sys\n",
    "\n",
    "def install_dependencies(packages):\n",
    "    \"\"\"\n",
    "    Installs only the missing packages or reinstalls them if they already exist.\n",
    "\n",
    "    Args:\n",
    "        packages (dict): A dictionary where the key is the package name \n",
    "                         and the value is the version (optional).\n",
    "    \"\"\"\n",
    "    for package, version in packages.items():\n",
    "        try:\n",
    "            # Check if the package is already installed\n",
    "            importlib.import_module(package)\n",
    "            print(f\"{package} is already installed. Uninstalling and reinstalling...\")\n",
    "            # Uninstall the package if it's already installed\n",
    "            #subprocess.check_call([sys.executable, \"-m\", \"pip\", \"uninstall\", f\"{package}\", \"-y\"])\n",
    "        except ImportError:\n",
    "            print(f\"{package} is not installed. Installing now...\")\n",
    "\n",
    "        # Install the package (after uninstalling if it existed)\n",
    "        if version:\n",
    "            subprocess.check_call([sys.executable, \"-m\", \"pip\", \"install\", f\"{package}=={version}\", \"--upgrade\", \"--no-cache-dir\"])\n",
    "        else:\n",
    "            subprocess.check_call([sys.executable, \"-m\", \"pip\", \"install\", package, \"--upgrade\", \"--no-cache-dir\"])\n",
    "\n",
    "# Define your dependencies (key: package name, value: version or None for latest)\n",
    "dependencies = {\n",
    "    \"requests\": None,\n",
    "    \"numpy\": \"1.24.4\",\n",
    "    \"yfinance\": \"0.2.52\",\n",
    "    \"simplejson\": \"3.19.3\",\n",
    "    \"matplotlib\": None,\n",
    "    \"sqlalchemy\": \"2.0.38\",\n",
    "    \"pymysql\": \"1.1.1\",\n",
    "    \"pandas_datareader\": \"0.10.0\",\n",
    "    \"ta\": \"0.11.0\"   \n",
    "}\n",
    "\n",
    "# Install the required dependencies\n",
    "install_dependencies(dependencies)\n",
    "'''\n",
    "\n"
   ]
  },
  {
   "cell_type": "code",
   "execution_count": 10,
   "id": "7f1db9ea-992b-4b03-af1d-c8a6922cf06b",
   "metadata": {},
   "outputs": [],
   "source": [
    "import numpy as np\n",
    "import matplotlib.pyplot as plt\n",
    "import pandas as pd"
   ]
  },
  {
   "cell_type": "code",
   "execution_count": 11,
   "id": "de6a443f-03b8-4bad-9637-1e0c7a7e4aac",
   "metadata": {},
   "outputs": [],
   "source": [
    "import json\n",
    "from datetime import datetime,timedelta"
   ]
  },
  {
   "cell_type": "code",
   "execution_count": 12,
   "id": "621be772-03b1-4854-b765-cdceafe0b9a8",
   "metadata": {},
   "outputs": [],
   "source": [
    "import requests"
   ]
  },
  {
   "cell_type": "code",
   "execution_count": 13,
   "id": "25e88474-5bde-41a1-bcc3-3368fefdaf7b",
   "metadata": {},
   "outputs": [],
   "source": [
    "import os\n",
    "path = os.path.join('/home','jovyan','files', 'datasets')"
   ]
  },
  {
   "cell_type": "code",
   "execution_count": 14,
   "id": "3621ade1-c87b-4e89-b0dc-5425cf3a8d0f",
   "metadata": {},
   "outputs": [],
   "source": [
    "from datetime import datetime\n",
    "\n",
    "def convert_to_date(date_string, date_format=\"%Y-%m-%d\"):\n",
    "    \"\"\"\n",
    "    Converts a date string to a datetime object.\n",
    "    \n",
    "    Args:\n",
    "        date_string (str): The date as a string.\n",
    "        date_format (str): The format of the date string (default is '%Y-%m-%d').\n",
    "    \n",
    "    Returns:\n",
    "        datetime: A datetime object representing the date, or None if conversion fails.\n",
    "    \"\"\"\n",
    "    try:\n",
    "        return datetime.strptime(date_string, date_format)\n",
    "    except ValueError:\n",
    "        print(f\"Error: '{date_string}' does not match the format '{date_format}'\")\n",
    "        return None\n",
    "\n"
   ]
  },
  {
   "cell_type": "code",
   "execution_count": 15,
   "id": "748fc897-695e-4ef6-8f80-999d880c337d",
   "metadata": {},
   "outputs": [],
   "source": [
    "import yfinance as yf\n",
    "\n",
    "\n",
    "\n",
    "def fetch_daily_data(symbol, start_date, end_date):\n",
    "    # Download historical data from Yahoo Finance\n",
    "    ticker = yf.Ticker(symbol)  # Symbol is like 'BTC-USD', 'ETH-USD', etc.\n",
    "    #path =f'/../datasets'\n",
    "   \n",
    "    # Fetch data for the specified date range\n",
    "    data = ticker.history(start=start_date, end=end_date, interval=\"1d\")\n",
    "  \n",
    "    if data.empty:\n",
    "        print(f\"No data available for {symbol} between {start_date} and {end_date}\")\n",
    "    else:\n",
    "        # File name based on symbol and start date\n",
    "        filename = f'Yahoo_Finance_{symbol}_{start_date.strftime(\"%Y_%m_%d\")}.csv'\n",
    "\n",
    "           \n",
    "         # Convert 'Date' column to datetime if not already\n",
    "        #data['NewDate'] = convert_to_date (data['Date'])\n",
    "\n",
    "        # Process data\n",
    "        data['vol_fiat'] = data['Volume'] * data['Close']  # Calculate fiat volume\n",
    "        data['Provider'] = \"Yahoo Finance\"\n",
    "        data['Asset'] = symbol\n",
    "        \n",
    "        # Save to CSV\n",
    "        file_path = os.path.join(path, filename)\n",
    "        data.to_csv(file_path, index=True)  # 'index=True' to include the date column\n",
    "        print(f\"Data saved to {filename}\")\n",
    "\n",
    "\n",
    "\n",
    "        "
   ]
  },
  {
   "cell_type": "code",
   "execution_count": 16,
   "id": "775f781e-7854-4fb4-80ce-cffadac0b5ce",
   "metadata": {},
   "outputs": [
    {
     "name": "stdout",
     "output_type": "stream",
     "text": [
      "Data saved to Yahoo_Finance_BTC-USD_2015_01_01.csv\n",
      "Data saved to Yahoo_Finance_BTC-USD_2015_07_01.csv\n",
      "Data saved to Yahoo_Finance_BTC-USD_2015_12_29.csv\n",
      "Data saved to Yahoo_Finance_BTC-USD_2016_06_27.csv\n",
      "Data saved to Yahoo_Finance_BTC-USD_2016_12_25.csv\n",
      "Data saved to Yahoo_Finance_BTC-USD_2017_06_24.csv\n",
      "Data saved to Yahoo_Finance_BTC-USD_2017_12_22.csv\n",
      "Data saved to Yahoo_Finance_BTC-USD_2018_06_21.csv\n",
      "Data saved to Yahoo_Finance_BTC-USD_2018_12_19.csv\n",
      "Data saved to Yahoo_Finance_BTC-USD_2019_06_18.csv\n",
      "Data saved to Yahoo_Finance_BTC-USD_2019_12_16.csv\n",
      "Data saved to Yahoo_Finance_BTC-USD_2020_06_14.csv\n",
      "Data saved to Yahoo_Finance_BTC-USD_2020_12_12.csv\n",
      "Data saved to Yahoo_Finance_BTC-USD_2021_06_11.csv\n",
      "Data saved to Yahoo_Finance_BTC-USD_2021_12_09.csv\n",
      "Data saved to Yahoo_Finance_BTC-USD_2022_06_08.csv\n",
      "Data saved to Yahoo_Finance_BTC-USD_2022_12_06.csv\n",
      "Data saved to Yahoo_Finance_BTC-USD_2023_06_05.csv\n",
      "Data saved to Yahoo_Finance_BTC-USD_2023_12_03.csv\n",
      "Data saved to Yahoo_Finance_BTC-USD_2024_06_01.csv\n",
      "Data saved to Yahoo_Finance_BTC-USD_2024_11_29.csv\n"
     ]
    }
   ],
   "source": [
    "if __name__ == \"__main__\":\n",
    "    pair = \"BTC-USD\"\n",
    "    start = datetime.strptime(\"2015-01-01\",\"%Y-%m-%d\")\n",
    "    today = pd.to_datetime('today').normalize()\n",
    "    while(start <= today):\n",
    "        end = start + timedelta(days=180)\n",
    "        fetch_daily_data(symbol=pair,start_date=start,end_date=end)\n",
    "        start = end + timedelta(days=1)"
   ]
  },
  {
   "cell_type": "code",
   "execution_count": 17,
   "id": "f38d0a77-b166-4935-87e8-209f9a811f60",
   "metadata": {},
   "outputs": [
    {
     "data": {
      "text/html": [
       "<div>\n",
       "<style scoped>\n",
       "    .dataframe tbody tr th:only-of-type {\n",
       "        vertical-align: middle;\n",
       "    }\n",
       "\n",
       "    .dataframe tbody tr th {\n",
       "        vertical-align: top;\n",
       "    }\n",
       "\n",
       "    .dataframe thead th {\n",
       "        text-align: right;\n",
       "    }\n",
       "</style>\n",
       "<table border=\"1\" class=\"dataframe\">\n",
       "  <thead>\n",
       "    <tr style=\"text-align: right;\">\n",
       "      <th></th>\n",
       "      <th>Date</th>\n",
       "      <th>Open</th>\n",
       "      <th>High</th>\n",
       "      <th>Low</th>\n",
       "      <th>Close</th>\n",
       "      <th>Volume</th>\n",
       "      <th>Dividends</th>\n",
       "      <th>Stock Splits</th>\n",
       "      <th>vol_fiat</th>\n",
       "      <th>Provider</th>\n",
       "      <th>Asset</th>\n",
       "    </tr>\n",
       "  </thead>\n",
       "  <tbody>\n",
       "    <tr>\n",
       "      <th>0</th>\n",
       "      <td>2015-01-01 00:00:00+00:00</td>\n",
       "      <td>320.434998</td>\n",
       "      <td>320.434998</td>\n",
       "      <td>314.002991</td>\n",
       "      <td>314.248993</td>\n",
       "      <td>8036550</td>\n",
       "      <td>0.0</td>\n",
       "      <td>0.0</td>\n",
       "      <td>2.525478e+09</td>\n",
       "      <td>Yahoo Finance</td>\n",
       "      <td>BTC-USD</td>\n",
       "    </tr>\n",
       "    <tr>\n",
       "      <th>1</th>\n",
       "      <td>2015-01-02 00:00:00+00:00</td>\n",
       "      <td>314.079010</td>\n",
       "      <td>315.838989</td>\n",
       "      <td>313.565002</td>\n",
       "      <td>315.032013</td>\n",
       "      <td>7860650</td>\n",
       "      <td>0.0</td>\n",
       "      <td>0.0</td>\n",
       "      <td>2.476356e+09</td>\n",
       "      <td>Yahoo Finance</td>\n",
       "      <td>BTC-USD</td>\n",
       "    </tr>\n",
       "    <tr>\n",
       "      <th>2</th>\n",
       "      <td>2015-01-03 00:00:00+00:00</td>\n",
       "      <td>314.846008</td>\n",
       "      <td>315.149994</td>\n",
       "      <td>281.082001</td>\n",
       "      <td>281.082001</td>\n",
       "      <td>33054400</td>\n",
       "      <td>0.0</td>\n",
       "      <td>0.0</td>\n",
       "      <td>9.290997e+09</td>\n",
       "      <td>Yahoo Finance</td>\n",
       "      <td>BTC-USD</td>\n",
       "    </tr>\n",
       "    <tr>\n",
       "      <th>3</th>\n",
       "      <td>2015-01-04 00:00:00+00:00</td>\n",
       "      <td>281.145996</td>\n",
       "      <td>287.230011</td>\n",
       "      <td>257.612000</td>\n",
       "      <td>264.195007</td>\n",
       "      <td>55629100</td>\n",
       "      <td>0.0</td>\n",
       "      <td>0.0</td>\n",
       "      <td>1.469693e+10</td>\n",
       "      <td>Yahoo Finance</td>\n",
       "      <td>BTC-USD</td>\n",
       "    </tr>\n",
       "    <tr>\n",
       "      <th>4</th>\n",
       "      <td>2015-01-05 00:00:00+00:00</td>\n",
       "      <td>265.084015</td>\n",
       "      <td>278.341003</td>\n",
       "      <td>265.084015</td>\n",
       "      <td>274.473999</td>\n",
       "      <td>43962800</td>\n",
       "      <td>0.0</td>\n",
       "      <td>0.0</td>\n",
       "      <td>1.206665e+10</td>\n",
       "      <td>Yahoo Finance</td>\n",
       "      <td>BTC-USD</td>\n",
       "    </tr>\n",
       "    <tr>\n",
       "      <th>...</th>\n",
       "      <td>...</td>\n",
       "      <td>...</td>\n",
       "      <td>...</td>\n",
       "      <td>...</td>\n",
       "      <td>...</td>\n",
       "      <td>...</td>\n",
       "      <td>...</td>\n",
       "      <td>...</td>\n",
       "      <td>...</td>\n",
       "      <td>...</td>\n",
       "      <td>...</td>\n",
       "    </tr>\n",
       "    <tr>\n",
       "      <th>3672</th>\n",
       "      <td>2025-02-09 00:00:00+00:00</td>\n",
       "      <td>96481.312500</td>\n",
       "      <td>97325.281250</td>\n",
       "      <td>94745.257812</td>\n",
       "      <td>96500.093750</td>\n",
       "      <td>27732901800</td>\n",
       "      <td>0.0</td>\n",
       "      <td>0.0</td>\n",
       "      <td>2.676228e+15</td>\n",
       "      <td>Yahoo Finance</td>\n",
       "      <td>BTC-USD</td>\n",
       "    </tr>\n",
       "    <tr>\n",
       "      <th>3673</th>\n",
       "      <td>2025-02-10 00:00:00+00:00</td>\n",
       "      <td>96499.460938</td>\n",
       "      <td>98333.218750</td>\n",
       "      <td>95320.843750</td>\n",
       "      <td>97437.554688</td>\n",
       "      <td>40078962391</td>\n",
       "      <td>0.0</td>\n",
       "      <td>0.0</td>\n",
       "      <td>3.905196e+15</td>\n",
       "      <td>Yahoo Finance</td>\n",
       "      <td>BTC-USD</td>\n",
       "    </tr>\n",
       "    <tr>\n",
       "      <th>3674</th>\n",
       "      <td>2025-02-11 00:00:00+00:00</td>\n",
       "      <td>97438.132812</td>\n",
       "      <td>98492.898438</td>\n",
       "      <td>94875.039062</td>\n",
       "      <td>95747.429688</td>\n",
       "      <td>37488783272</td>\n",
       "      <td>0.0</td>\n",
       "      <td>0.0</td>\n",
       "      <td>3.589455e+15</td>\n",
       "      <td>Yahoo Finance</td>\n",
       "      <td>BTC-USD</td>\n",
       "    </tr>\n",
       "    <tr>\n",
       "      <th>3675</th>\n",
       "      <td>2025-02-12 00:00:00+00:00</td>\n",
       "      <td>95745.695312</td>\n",
       "      <td>98151.023438</td>\n",
       "      <td>94101.203125</td>\n",
       "      <td>97885.859375</td>\n",
       "      <td>49340445530</td>\n",
       "      <td>0.0</td>\n",
       "      <td>0.0</td>\n",
       "      <td>4.829732e+15</td>\n",
       "      <td>Yahoo Finance</td>\n",
       "      <td>BTC-USD</td>\n",
       "    </tr>\n",
       "    <tr>\n",
       "      <th>3676</th>\n",
       "      <td>2025-02-13 00:00:00+00:00</td>\n",
       "      <td>97867.468750</td>\n",
       "      <td>98073.687500</td>\n",
       "      <td>95529.703125</td>\n",
       "      <td>95986.367188</td>\n",
       "      <td>43217809408</td>\n",
       "      <td>0.0</td>\n",
       "      <td>0.0</td>\n",
       "      <td>4.148321e+15</td>\n",
       "      <td>Yahoo Finance</td>\n",
       "      <td>BTC-USD</td>\n",
       "    </tr>\n",
       "  </tbody>\n",
       "</table>\n",
       "<p>3677 rows × 11 columns</p>\n",
       "</div>"
      ],
      "text/plain": [
       "                           Date          Open          High           Low  \\\n",
       "0     2015-01-01 00:00:00+00:00    320.434998    320.434998    314.002991   \n",
       "1     2015-01-02 00:00:00+00:00    314.079010    315.838989    313.565002   \n",
       "2     2015-01-03 00:00:00+00:00    314.846008    315.149994    281.082001   \n",
       "3     2015-01-04 00:00:00+00:00    281.145996    287.230011    257.612000   \n",
       "4     2015-01-05 00:00:00+00:00    265.084015    278.341003    265.084015   \n",
       "...                         ...           ...           ...           ...   \n",
       "3672  2025-02-09 00:00:00+00:00  96481.312500  97325.281250  94745.257812   \n",
       "3673  2025-02-10 00:00:00+00:00  96499.460938  98333.218750  95320.843750   \n",
       "3674  2025-02-11 00:00:00+00:00  97438.132812  98492.898438  94875.039062   \n",
       "3675  2025-02-12 00:00:00+00:00  95745.695312  98151.023438  94101.203125   \n",
       "3676  2025-02-13 00:00:00+00:00  97867.468750  98073.687500  95529.703125   \n",
       "\n",
       "             Close       Volume  Dividends  Stock Splits      vol_fiat  \\\n",
       "0       314.248993      8036550        0.0           0.0  2.525478e+09   \n",
       "1       315.032013      7860650        0.0           0.0  2.476356e+09   \n",
       "2       281.082001     33054400        0.0           0.0  9.290997e+09   \n",
       "3       264.195007     55629100        0.0           0.0  1.469693e+10   \n",
       "4       274.473999     43962800        0.0           0.0  1.206665e+10   \n",
       "...            ...          ...        ...           ...           ...   \n",
       "3672  96500.093750  27732901800        0.0           0.0  2.676228e+15   \n",
       "3673  97437.554688  40078962391        0.0           0.0  3.905196e+15   \n",
       "3674  95747.429688  37488783272        0.0           0.0  3.589455e+15   \n",
       "3675  97885.859375  49340445530        0.0           0.0  4.829732e+15   \n",
       "3676  95986.367188  43217809408        0.0           0.0  4.148321e+15   \n",
       "\n",
       "           Provider    Asset  \n",
       "0     Yahoo Finance  BTC-USD  \n",
       "1     Yahoo Finance  BTC-USD  \n",
       "2     Yahoo Finance  BTC-USD  \n",
       "3     Yahoo Finance  BTC-USD  \n",
       "4     Yahoo Finance  BTC-USD  \n",
       "...             ...      ...  \n",
       "3672  Yahoo Finance  BTC-USD  \n",
       "3673  Yahoo Finance  BTC-USD  \n",
       "3674  Yahoo Finance  BTC-USD  \n",
       "3675  Yahoo Finance  BTC-USD  \n",
       "3676  Yahoo Finance  BTC-USD  \n",
       "\n",
       "[3677 rows x 11 columns]"
      ]
     },
     "execution_count": 17,
     "metadata": {},
     "output_type": "execute_result"
    }
   ],
   "source": [
    "import glob\n",
    "\n",
    "combined_df = \"\"\n",
    "\n",
    "csv_files = glob.glob(f\"{path}/Yahoo_Finance_BTC-USD*.csv\")\n",
    "\n",
    "dataframes = []\n",
    "\n",
    "for file in csv_files:\n",
    "    df = pd.read_csv(file)\n",
    "    dataframes.append(df)\n",
    "\n",
    "combined_df = pd.concat(dataframes, ignore_index=True)\n",
    "\n",
    "combined_df.drop_duplicates()"
   ]
  },
  {
   "cell_type": "code",
   "execution_count": 18,
   "id": "6f9f7928-ba11-4178-9f99-d8629f09adc4",
   "metadata": {},
   "outputs": [],
   "source": [
    "import os\n",
    "from sqlalchemy import create_engine\n",
    "\n",
    "# Load environment variables\n",
    "MYSQL_USER = \"bitcoin_user\"\n",
    "MYSQL_PASSWORD = os.getenv(\"MYSQL_PASSWORD\", \"default_password\")  # Ensure this is set in .env\n",
    "MYSQL_HOST = \"172.29.0.2\"  # Matches the MySQL container IP in docker-compose\n",
    "MYSQL_DB = \"bitcoin_db\"\n",
    "\n",
    "\n"
   ]
  },
  {
   "cell_type": "code",
   "execution_count": 19,
   "id": "257739d4-6beb-4e6d-a3e6-eef2c5324f09",
   "metadata": {},
   "outputs": [
    {
     "name": "stdout",
     "output_type": "stream",
     "text": [
      "bitcoin_user\n"
     ]
    }
   ],
   "source": [
    "print (MYSQL_USER)"
   ]
  },
  {
   "cell_type": "code",
   "execution_count": 20,
   "id": "8fad531b-87b5-4255-bb54-a27e569bbd35",
   "metadata": {},
   "outputs": [
    {
     "name": "stdout",
     "output_type": "stream",
     "text": [
      "Connection successful!\n"
     ]
    }
   ],
   "source": [
    "# Create the SQLAlchemy engine\n",
    "engine = create_engine(f'mysql+pymysql://{MYSQL_USER}:{MYSQL_PASSWORD}@{MYSQL_HOST}:3306/{MYSQL_DB}')\n",
    "\n",
    "# Test connection\n",
    "try:\n",
    "    with engine.connect() as connection:\n",
    "        print(\"Connection successful!\")\n",
    "except Exception as e:\n",
    "    print(f\"Connection failed: {e}\")"
   ]
  },
  {
   "cell_type": "code",
   "execution_count": 21,
   "id": "43ee379b-10c4-419b-952b-cd3cdf43077d",
   "metadata": {},
   "outputs": [
    {
     "data": {
      "text/plain": [
       "3677"
      ]
     },
     "execution_count": 21,
     "metadata": {},
     "output_type": "execute_result"
    }
   ],
   "source": [
    "combined_df.to_sql('crypto', con=engine, if_exists='replace', index=False)"
   ]
  },
  {
   "cell_type": "code",
   "execution_count": 22,
   "id": "a86b1279-d749-4444-88e9-76bc5701245f",
   "metadata": {},
   "outputs": [
    {
     "name": "stderr",
     "output_type": "stream",
     "text": [
      "/tmp/ipykernel_4387/3393799420.py:13: FutureWarning: The behavior of 'to_datetime' with 'unit' when parsing strings is deprecated. In a future version, strings will be parsed as datetime strings, matching the behavior without a 'unit'. To retain the old behavior, explicitly cast ints or floats to numeric type before calling to_datetime.\n",
      "  df['timestamp'] = pd.to_datetime(df['timestamp'], unit='s', utc=True)\n"
     ]
    },
    {
     "data": {
      "text/plain": [
       "2566"
      ]
     },
     "execution_count": 22,
     "metadata": {},
     "output_type": "execute_result"
    }
   ],
   "source": [
    "#https://alternative.me/crypto/fear-and-greed-index/\n",
    "import requests\n",
    "import pandas as pd\n",
    "\n",
    "\n",
    "url = 'https://api.alternative.me/fng/?limit=0'\n",
    "\n",
    "response = requests.get(url)\n",
    "response.raise_for_status()  \n",
    "data = response.json()['data']\n",
    "df = pd.DataFrame(data)\n",
    "# Convert 'timestamp' to datetime and set timezone to UTC\n",
    "df['timestamp'] = pd.to_datetime(df['timestamp'], unit='s', utc=True)\n",
    "df.to_sql('FearGreedIndex', con=engine, if_exists='replace', index=False)"
   ]
  },
  {
   "cell_type": "code",
   "execution_count": 23,
   "id": "fd390824-2efe-4168-8b8c-5fbc8e36cc85",
   "metadata": {},
   "outputs": [
    {
     "data": {
      "text/html": [
       "<div>\n",
       "<style scoped>\n",
       "    .dataframe tbody tr th:only-of-type {\n",
       "        vertical-align: middle;\n",
       "    }\n",
       "\n",
       "    .dataframe tbody tr th {\n",
       "        vertical-align: top;\n",
       "    }\n",
       "\n",
       "    .dataframe thead th {\n",
       "        text-align: right;\n",
       "    }\n",
       "</style>\n",
       "<table border=\"1\" class=\"dataframe\">\n",
       "  <thead>\n",
       "    <tr style=\"text-align: right;\">\n",
       "      <th></th>\n",
       "      <th>Date</th>\n",
       "      <th>Open</th>\n",
       "      <th>High</th>\n",
       "      <th>Low</th>\n",
       "      <th>Close</th>\n",
       "      <th>Volume</th>\n",
       "      <th>FGI</th>\n",
       "    </tr>\n",
       "  </thead>\n",
       "  <tbody>\n",
       "    <tr>\n",
       "      <th>0</th>\n",
       "      <td>2015-01-01 00:00:00+00:00</td>\n",
       "      <td>320.434998</td>\n",
       "      <td>320.434998</td>\n",
       "      <td>314.002991</td>\n",
       "      <td>314.248993</td>\n",
       "      <td>8036550</td>\n",
       "      <td>NaN</td>\n",
       "    </tr>\n",
       "    <tr>\n",
       "      <th>1</th>\n",
       "      <td>2015-01-02 00:00:00+00:00</td>\n",
       "      <td>314.079010</td>\n",
       "      <td>315.838989</td>\n",
       "      <td>313.565002</td>\n",
       "      <td>315.032013</td>\n",
       "      <td>7860650</td>\n",
       "      <td>NaN</td>\n",
       "    </tr>\n",
       "    <tr>\n",
       "      <th>2</th>\n",
       "      <td>2015-01-03 00:00:00+00:00</td>\n",
       "      <td>314.846008</td>\n",
       "      <td>315.149994</td>\n",
       "      <td>281.082001</td>\n",
       "      <td>281.082001</td>\n",
       "      <td>33054400</td>\n",
       "      <td>NaN</td>\n",
       "    </tr>\n",
       "    <tr>\n",
       "      <th>3</th>\n",
       "      <td>2015-01-04 00:00:00+00:00</td>\n",
       "      <td>281.145996</td>\n",
       "      <td>287.230011</td>\n",
       "      <td>257.612000</td>\n",
       "      <td>264.195007</td>\n",
       "      <td>55629100</td>\n",
       "      <td>NaN</td>\n",
       "    </tr>\n",
       "    <tr>\n",
       "      <th>4</th>\n",
       "      <td>2015-01-05 00:00:00+00:00</td>\n",
       "      <td>265.084015</td>\n",
       "      <td>278.341003</td>\n",
       "      <td>265.084015</td>\n",
       "      <td>274.473999</td>\n",
       "      <td>43962800</td>\n",
       "      <td>NaN</td>\n",
       "    </tr>\n",
       "  </tbody>\n",
       "</table>\n",
       "</div>"
      ],
      "text/plain": [
       "                        Date        Open        High         Low       Close  \\\n",
       "0  2015-01-01 00:00:00+00:00  320.434998  320.434998  314.002991  314.248993   \n",
       "1  2015-01-02 00:00:00+00:00  314.079010  315.838989  313.565002  315.032013   \n",
       "2  2015-01-03 00:00:00+00:00  314.846008  315.149994  281.082001  281.082001   \n",
       "3  2015-01-04 00:00:00+00:00  281.145996  287.230011  257.612000  264.195007   \n",
       "4  2015-01-05 00:00:00+00:00  265.084015  278.341003  265.084015  274.473999   \n",
       "\n",
       "     Volume  FGI  \n",
       "0   8036550  NaN  \n",
       "1   7860650  NaN  \n",
       "2  33054400  NaN  \n",
       "3  55629100  NaN  \n",
       "4  43962800  NaN  "
      ]
     },
     "execution_count": 23,
     "metadata": {},
     "output_type": "execute_result"
    }
   ],
   "source": [
    "query = \"\"\"\n",
    "SELECT `Date`, `Open`, High, Low, `Close`, Volume, cast(fgi.value AS UNSIGNED) as FGI\n",
    "FROM bitcoin_db.crypto btc\n",
    "LEFT JOIN bitcoin_db.FearGreedIndex fgi\n",
    "ON btc.`Date` = fgi.`timestamp`\n",
    "Order by 1\n",
    "\"\"\"\n",
    "\n",
    "data = pd.read_sql(query,con=engine)\n",
    "data.head()"
   ]
  },
  {
   "cell_type": "code",
   "execution_count": 24,
   "id": "b5536e7d-b5be-4de2-8008-c227abe8b3ec",
   "metadata": {},
   "outputs": [],
   "source": [
    "# Calculate the average of the FGI column, excluding NaN values\n",
    "fg_average = data['FGI'].mean()\n",
    "\n",
    "# Fill NaN values in the FGI column with the calculated average\n",
    "data['FGI'].fillna(fg_average, inplace=True)"
   ]
  },
  {
   "cell_type": "code",
   "execution_count": 25,
   "id": "ea93d942-1fc5-462d-b43b-19bd61bdaf38",
   "metadata": {},
   "outputs": [],
   "source": [
    "import ta"
   ]
  },
  {
   "cell_type": "code",
   "execution_count": 26,
   "id": "6560449d-4060-4430-b7f4-6a1c2cf84a0e",
   "metadata": {},
   "outputs": [],
   "source": [
    "#https://www.investopedia.com/terms/m/macd.asp\n",
    "#macd_object = ta.trend.MACD(data['close'])\n",
    "macd_object = ta.trend.MACD(data['Close'], window_slow = 26, window_fast = 12, window_sign = 9, fillna= True)\n",
    "data['MACD'] = macd_object.macd()\n",
    "data['MACD_Signal'] = macd_object.macd_signal()\n",
    "data['MACD_Diff'] = macd_object.macd_diff()\n",
    "#data.tail()"
   ]
  },
  {
   "cell_type": "code",
   "execution_count": 27,
   "id": "09f70b4f-e403-451d-9e67-cf36ff45fdba",
   "metadata": {},
   "outputs": [],
   "source": [
    "#https://www.investopedia.com/terms/m/mfi.asp\n",
    "mfi_indicator = ta.volume.MFIIndicator(high=data['High'], low=data['Low'], close=data['Close'], volume=data['Volume'], window=14)\n",
    "data['mfi'] = mfi_indicator.money_flow_index()"
   ]
  },
  {
   "cell_type": "code",
   "execution_count": 28,
   "id": "5aad93b0-9ffd-4047-a6e6-1faf6db69d3b",
   "metadata": {},
   "outputs": [],
   "source": [
    "# RSI\n",
    "rsi = ta.momentum.rsi(data['Close'], window=14, fillna=True)\n",
    "data['RSI'] = rsi"
   ]
  },
  {
   "cell_type": "code",
   "execution_count": 29,
   "id": "b6d6f094-01d4-4ac9-8553-50c51036afa7",
   "metadata": {},
   "outputs": [],
   "source": [
    "# EMA\n",
    "ema_short = ta.trend.EMAIndicator(data['Close'], window=12, fillna=True)\n",
    "ema_long = ta.trend.EMAIndicator(data['Close'], window=26, fillna=True)\n",
    "data['EMA_Short'] = ema_short.ema_indicator()\n",
    "data['EMA_Long'] = ema_long.ema_indicator()"
   ]
  },
  {
   "cell_type": "code",
   "execution_count": 30,
   "id": "ae344ddb-1c91-4179-895b-21d91f8ac9a2",
   "metadata": {},
   "outputs": [],
   "source": [
    "# Bollinger Bands\n",
    "bollinger = ta.volatility.BollingerBands(data['Close'], window=20, window_dev=2, fillna=True)\n",
    "data['Bollinger_Upper'] = bollinger.bollinger_hband()\n",
    "data['Bollinger_Lower'] = bollinger.bollinger_lband()\n",
    "data['Bollinger_Middle'] = bollinger.bollinger_mavg()"
   ]
  },
  {
   "cell_type": "code",
   "execution_count": 31,
   "id": "49b91148-d15e-4e00-8d89-0c1545cfb970",
   "metadata": {},
   "outputs": [],
   "source": [
    "# Stochastic Oscillator\n",
    "stoch = ta.momentum.StochasticOscillator(data['High'], data['Low'], data['Close'], window=14, smooth_window=3, fillna=True)\n",
    "data['Stochastic'] = stoch.stoch()\n",
    "data['Stochastic_Signal'] = stoch.stoch_signal()"
   ]
  },
  {
   "cell_type": "code",
   "execution_count": 32,
   "id": "fe1daf30-3b21-4799-86da-af35952b4413",
   "metadata": {},
   "outputs": [],
   "source": [
    "# ATR\n",
    "atr = ta.volatility.AverageTrueRange(data['High'], data['Low'], data['Close'], window=14, fillna=True)\n",
    "data['ATR'] = atr.average_true_range()"
   ]
  },
  {
   "cell_type": "code",
   "execution_count": 33,
   "id": "403f1e49-9637-4616-8956-721b9369596b",
   "metadata": {},
   "outputs": [],
   "source": [
    "# Parabolic SAR\n",
    "sar = ta.trend.PSARIndicator(data['High'], data['Low'], data['Close'], fillna=True)\n",
    "data['SAR'] = sar.psar()"
   ]
  },
  {
   "cell_type": "code",
   "execution_count": 34,
   "id": "38249fea-31b5-4d52-9320-d539534346de",
   "metadata": {},
   "outputs": [],
   "source": [
    "from sklearn.preprocessing import StandardScaler\n",
    "from sklearn.model_selection import train_test_split\n",
    "from sklearn.linear_model import LinearRegression\n",
    "from sklearn.metrics import mean_absolute_error, mean_squared_error, r2_score\n",
    "\n",
    "# Prepare the data (assuming 'data' is already pre-processed with features)\n",
    "data['Date'] = pd.to_datetime(data['Date'], utc=True)\n",
    "data['Target'] = data['Close'].shift(-1)\n",
    "data = data.dropna(subset=['Target'])\n",
    "\n",
    "# Select features (excluding 'Date')\n",
    "features = [\n",
    "     'Bollinger_Upper', 'Bollinger_Lower', 'Bollinger_Middle','FGI', 'Close'\n",
    "]\n",
    "\n",
    "X = data[features]\n",
    "y = data['Target']"
   ]
  },
  {
   "cell_type": "code",
   "execution_count": 35,
   "id": "fe107683-4e1e-4f70-9ae9-378a272549c2",
   "metadata": {},
   "outputs": [],
   "source": [
    "# Split the data into training and testing sets (80% train, 20% test)\n",
    "X_train, X_test, y_train, y_test = train_test_split(X, y, test_size=0.2, shuffle=False)"
   ]
  },
  {
   "cell_type": "code",
   "execution_count": 36,
   "id": "1ff12fe6-6ff6-4928-b193-f1f64ef830ef",
   "metadata": {},
   "outputs": [],
   "source": [
    "# Standardize the features\n",
    "scaler = StandardScaler()\n",
    "\n",
    "# Fit the scaler on the training data and transform both train and test data\n",
    "X_train_scaled = scaler.fit_transform(X_train)\n",
    "X_test_scaled = scaler.transform(X_test)\n",
    "\n",
    "# Train the model\n",
    "model = LinearRegression()\n",
    "model.fit(X_train_scaled, y_train)\n",
    "\n",
    "# Make predictions on the test data\n",
    "y_pred = model.predict(X_test_scaled)"
   ]
  },
  {
   "cell_type": "code",
   "execution_count": 37,
   "id": "1b652149-ee7c-4e5b-b07f-66c8d9c57100",
   "metadata": {},
   "outputs": [
    {
     "name": "stdout",
     "output_type": "stream",
     "text": [
      "Mean Absolute Error: 969.7023837614101\n",
      "Mean Squared Error: 2230225.6787954727\n",
      "R-squared: 0.9960855873729787\n",
      "Predicted next closing price: 97570.76962379733\n"
     ]
    }
   ],
   "source": [
    "# Evaluate the model\n",
    "mae = mean_absolute_error(y_test, y_pred)\n",
    "mse = mean_squared_error(y_test, y_pred)\n",
    "r2 = r2_score(y_test, y_pred)\n",
    "\n",
    "print(f\"Mean Absolute Error: {mae}\")\n",
    "print(f\"Mean Squared Error: {mse}\")\n",
    "print(f\"R-squared: {r2}\")\n",
    "\n",
    "# Make predictions for the next closing price\n",
    "# Use the last row from X_test (or any new data)\n",
    "latest_data = X_test.iloc[-1:]  # Keep it as a DataFrame (not numpy array)\n",
    "\n",
    "# Apply the same scaling to the latest data\n",
    "latest_data_scaled = scaler.transform(latest_data)  # The feature names are kept\n",
    "\n",
    "# Make prediction for the next closing price\n",
    "next_close_pred = model.predict(latest_data_scaled)\n",
    "print(f\"Predicted next closing price: {next_close_pred[0]}\")"
   ]
  },
  {
   "cell_type": "code",
   "execution_count": 38,
   "id": "fa5656a3-5aad-4898-be4c-feaba7e7bbf2",
   "metadata": {},
   "outputs": [
    {
     "name": "stdout",
     "output_type": "stream",
     "text": [
      "Final equation for predicting the next closing price:\n",
      "Predicted next closing price = 13407.77 + (-440303213374149.56) * Bollinger_Upper + (-342681006077270.69) * Bollinger_Lower + (780111339648421.50) * Bollinger_Middle + (41.48) * FGI + (16081.45) * Close\n"
     ]
    }
   ],
   "source": [
    "# Extract the coefficients and the intercept\n",
    "coefficients = model.coef_\n",
    "intercept = model.intercept_\n",
    "\n",
    "# Create a dictionary mapping feature names to their corresponding coefficients\n",
    "feature_names = X.columns\n",
    "equation = f\"Predicted next closing price = {intercept:.2f}\"\n",
    "\n",
    "# Add each feature and its coefficient to the equation\n",
    "for feature, coef in zip(feature_names, coefficients):\n",
    "    equation += f\" + ({coef:.2f}) * {feature}\"\n",
    "\n",
    "# Display the equation\n",
    "print(\"Final equation for predicting the next closing price:\")\n",
    "print(equation)\n"
   ]
  },
  {
   "cell_type": "code",
   "execution_count": 39,
   "id": "a696a450-b367-42d0-bd29-aee107e6ee0c",
   "metadata": {},
   "outputs": [
    {
     "data": {
      "image/png": "[encoded data removed]",
      "text/plain": [
       "<Figure size 1400x700 with 1 Axes>"
      ]
     },
     "metadata": {},
     "output_type": "display_data"
    }
   ],
   "source": [
    "import matplotlib.pyplot as plt\n",
    "\n",
    "# Create a DataFrame to store the actual vs predicted values\n",
    "results = pd.DataFrame({\n",
    "    'Date': X_test.index,\n",
    "    'Actual': y_test,\n",
    "    'Predicted': y_pred\n",
    "})\n",
    "\n",
    "# Plotting the actual vs predicted closing prices\n",
    "plt.figure(figsize=(14, 7))\n",
    "plt.plot(results['Date'], results['Actual'], label='Actual Closing Price', color='blue', alpha=0.7)\n",
    "plt.plot(results['Date'], results['Predicted'], label='Predicted Closing Price', color='red', linestyle='--', alpha=0.7)\n",
    "\n",
    "# Add titles and labels\n",
    "plt.title('Actual vs Predicted Closing Prices', fontsize=16)\n",
    "plt.xlabel('Date', fontsize=14)\n",
    "plt.ylabel('Price (USD)', fontsize=14)\n",
    "plt.legend()\n",
    "plt.grid(True)\n",
    "\n",
    "# Display the plot\n",
    "plt.xticks(rotation=45)\n",
    "plt.tight_layout()  # Adjust layout to fit labels\n",
    "plt.show()\n"
   ]
  },
  {
   "cell_type": "code",
   "execution_count": 40,
   "id": "ecc6c3b7-10e8-4600-a5dd-3d995cb794d0",
   "metadata": {
    "scrolled": true
   },
   "outputs": [
    {
     "name": "stdout",
     "output_type": "stream",
     "text": [
      "Feature p-values (human-readable labels):\n",
      "Bollinger_Upper: 0.0023 (Significant)\n",
      "Bollinger_Lower: 0.0087 (Significant)\n",
      "Bollinger_Middle: 0.1759 (Not Significant)\n",
      "FGI: 0.0187 (Significant)\n",
      "Close: 0.0000 (Significant)\n",
      "\n",
      "Full summary with p-values:\n",
      "                            OLS Regression Results                            \n",
      "==============================================================================\n",
      "Dep. Variable:                      y   R-squared:                       0.998\n",
      "Model:                            OLS   Adj. R-squared:                  0.998\n",
      "Method:                 Least Squares   F-statistic:                 2.963e+05\n",
      "Date:                Thu, 13 Feb 2025   Prob (F-statistic):               0.00\n",
      "Time:                        15:36:28   Log-Likelihood:                -23849.\n",
      "No. Observations:                2940   AIC:                         4.771e+04\n",
      "Df Residuals:                    2935   BIC:                         4.774e+04\n",
      "Df Model:                           4                                         \n",
      "Covariance Type:            nonrobust                                         \n",
      "==============================================================================\n",
      "                 coef    std err          t      P>|t|      [0.025      0.975]\n",
      "------------------------------------------------------------------------------\n",
      "const       1.341e+04     14.889    900.504      0.000    1.34e+04    1.34e+04\n",
      "x1           309.7824    101.651      3.048      0.002     110.467     509.097\n",
      "x2          -250.8163     95.570     -2.624      0.009    -438.207     -63.426\n",
      "x3            64.6679     47.766      1.354      0.176     -28.990     158.326\n",
      "x4            41.4696     17.627      2.353      0.019       6.907      76.032\n",
      "x5          1.608e+04    138.421    116.179      0.000    1.58e+04    1.64e+04\n",
      "==============================================================================\n",
      "Omnibus:                      689.540   Durbin-Watson:                   2.040\n",
      "Prob(Omnibus):                  0.000   Jarque-Bera (JB):            32014.201\n",
      "Skew:                          -0.217   Prob(JB):                         0.00\n",
      "Kurtosis:                      19.160   Cond. No.                     8.23e+15\n",
      "==============================================================================\n",
      "\n",
      "Notes:\n",
      "[1] Standard Errors assume that the covariance matrix of the errors is correctly specified.\n",
      "[2] The smallest eigenvalue is 1.73e-28. This might indicate that there are\n",
      "strong multicollinearity problems or that the design matrix is singular.\n"
     ]
    }
   ],
   "source": [
    "import statsmodels.api as sm\n",
    "\n",
    "# Store original column names\n",
    "original_columns = X_train.columns\n",
    "\n",
    "# Standardize the features (X_train_scaled) for fitting the model\n",
    "X_with_intercept = sm.add_constant(X_train_scaled)  # Add intercept term to the features\n",
    "y_train_array = y_train.values  # Convert to numpy array for Statsmodels compatibility\n",
    "\n",
    "# Fit the model using Statsmodels\n",
    "model_sm = sm.OLS(y_train_array, X_with_intercept)  # Ordinary Least Squares Regression\n",
    "results = model_sm.fit()  # Fit the model\n",
    "\n",
    "# Display the summary, which includes the p-values for each feature\n",
    "summary = results.summary()\n",
    "\n",
    "# Map p-values to the original feature names\n",
    "p_values = results.pvalues[1:]  # Exclude the intercept (constant)\n",
    "features_with_p_values = dict(zip(original_columns, p_values))\n",
    "\n",
    "# Print the p-values for each feature and check significance\n",
    "print(\"Feature p-values (human-readable labels):\")\n",
    "for feature, p_value in features_with_p_values.items():\n",
    "    significance = \"Significant\" if p_value < 0.05 else \"Not Significant\"\n",
    "    print(f\"{feature}: {p_value:.4f} ({significance})\")\n",
    "\n",
    "# Optionally, print the full summary\n",
    "print(\"\\nFull summary with p-values:\")\n",
    "print(summary)\n",
    "\n",
    "\n"
   ]
  },
  {
   "cell_type": "code",
   "execution_count": null,
   "id": "7e74f729-d5e7-4fbe-b386-39f32b7458ee",
   "metadata": {},
   "outputs": [],
   "source": []
  }
 ],
 "metadata": {
  "kernelspec": {
   "display_name": "Python 3 (ipykernel)",
   "language": "python",
   "name": "python3"
  },
  "language_info": {
   "codemirror_mode": {
    "name": "ipython",
    "version": 3
   },
   "file_extension": ".py",
   "mimetype": "text/x-python",
   "name": "python",
   "nbconvert_exporter": "python",
   "pygments_lexer": "ipython3",
   "version": "3.11.6"
  }
 },
 "nbformat": 4,
 "nbformat_minor": 5
}
