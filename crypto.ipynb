{
 "cells": [
  {
   "cell_type": "code",
   "execution_count": 56,
   "id": "a19cdf4d-e3e7-496f-8509-948431d149b5",
   "metadata": {},
   "outputs": [
    {
     "data": {
      "text/plain": [
       "<module 'utilities' from '/home/jovyan/files/utilities.py'>"
      ]
     },
     "execution_count": 56,
     "metadata": {},
     "output_type": "execute_result"
    }
   ],
   "source": [
    "import importlib\n",
    "import utilities  # your module\n",
    "\n",
    "importlib.reload(utilities)\n"
   ]
  },
  {
   "cell_type": "code",
   "execution_count": 2,
   "id": "7f1db9ea-992b-4b03-af1d-c8a6922cf06b",
   "metadata": {
    "id": "7f1db9ea-992b-4b03-af1d-c8a6922cf06b"
   },
   "outputs": [],
   "source": [
    "import numpy as np\n",
    "import matplotlib.pyplot as plt\n",
    "import pandas as pd\n",
    "import json\n",
    "from datetime import datetime,timedelta\n",
    "import requests\n",
    "import ta\n",
    "import base64\n",
    "from cryptography.hazmat.primitives import serialization\n",
    "from cryptography.hazmat.backends import default_backend\n",
    "from snowflake.sqlalchemy import URL\n",
    "from sqlalchemy import create_engine\n",
    "from sqlalchemy import text"
   ]
  },
  {
   "cell_type": "code",
   "execution_count": 3,
   "id": "0f10b363",
   "metadata": {
    "colab": {
     "base_uri": "https://localhost:8080/"
    },
    "id": "0f10b363",
    "outputId": "d50ecd1d-fccd-40f3-c0c1-34dd0ef4cafa"
   },
   "outputs": [
    {
     "data": {
      "text/plain": [
       "True"
      ]
     },
     "execution_count": 3,
     "metadata": {},
     "output_type": "execute_result"
    }
   ],
   "source": [
    "import os\n",
    "from dotenv import load_dotenv\n",
    "\n",
    "load_dotenv()"
   ]
  },
  {
   "cell_type": "code",
   "execution_count": 4,
   "id": "438709e3",
   "metadata": {
    "colab": {
     "base_uri": "https://localhost:8080/"
    },
    "id": "438709e3",
    "outputId": "e154e80c-cc4c-40b1-b91e-7271d0bc6978"
   },
   "outputs": [
    {
     "name": "stdout",
     "output_type": "stream",
     "text": [
      "✅ Snowflake connected: ('CRYPTO_USER', 'CRYPTO_ROLE', datetime.datetime(2025, 4, 21, 17, 37, 19, 750000, tzinfo=<DstTzInfo 'America/Los_Angeles' PDT-1 day, 17:00:00 DST>))\n"
     ]
    }
   ],
   "source": [
    "with open(os.getenv(\"PRIVATE_KEY_PATH\"), \"rb\") as key_file:\n",
    "    private_key = serialization.load_pem_private_key(\n",
    "        key_file.read(),\n",
    "        password=None,\n",
    "        backend=default_backend()\n",
    "    )\n",
    "\n",
    "private_key_pkcs8 = base64.b64encode(\n",
    "    private_key.private_bytes(\n",
    "        encoding=serialization.Encoding.DER,\n",
    "        format=serialization.PrivateFormat.PKCS8,\n",
    "        encryption_algorithm=serialization.NoEncryption()\n",
    "    )\n",
    ").decode(\"utf-8\")  # ✅ base64 string, not bytes!\n",
    "\n",
    "engine = create_engine(URL(\n",
    "    account=os.getenv(\"SNOWFLAKE_ACCOUNT\"),\n",
    "    user=os.getenv(\"SNOWFLAKE_USER\"),\n",
    "    private_key=private_key_pkcs8,\n",
    "    warehouse=os.getenv(\"SNOWFLAKE_WAREHOUSE\"),\n",
    "    database=os.getenv(\"SNOWFLAKE_DATABASE\"),\n",
    "    schema=os.getenv(\"SNOWFLAKE_SCHEMA\"),\n",
    "    role=os.getenv(\"SNOWFLAKE_ROLE\")\n",
    "))\n",
    "\n",
    "with engine.connect() as conn:\n",
    "    result = conn.execute(text(\"SELECT CURRENT_USER(), CURRENT_ROLE(), CURRENT_TIMESTAMP();\"))\n",
    "    for row in result:\n",
    "        print(\"✅ Snowflake connected:\", row)\n"
   ]
  },
  {
   "cell_type": "code",
   "execution_count": 5,
   "id": "8003286e-cc1a-44b3-8bfb-c5da0ea162a0",
   "metadata": {},
   "outputs": [],
   "source": [
    "from datetime import datetime\n",
    "\n",
    "execution_time = datetime.now().strftime(\"%Y%m%d%H%M%S\")"
   ]
  },
  {
   "cell_type": "code",
   "execution_count": 6,
   "id": "28e2dc6f-6a49-419e-b63f-fceef275cef8",
   "metadata": {},
   "outputs": [],
   "source": [
    "top100 = pd.read_csv('Assets_Categorized.csv')"
   ]
  },
  {
   "cell_type": "code",
   "execution_count": 7,
   "id": "277cc975-af83-464d-97ef-7bc4b23143e3",
   "metadata": {},
   "outputs": [],
   "source": [
    "top100['staging'] = '@cryptodatasource'\n",
    "top100.drop(columns=['realticker'],inplace=True)\n",
    "#if top100['market'] == 'Crypto':\n",
    "#    top100['ticker'] = top100['ticker']+'-USD'\n"
   ]
  },
  {
   "cell_type": "code",
   "execution_count": 8,
   "id": "47a4a481-b9a2-45d0-9c76-1d264282bd41",
   "metadata": {},
   "outputs": [
    {
     "data": {
      "text/html": [
       "<div>\n",
       "<style scoped>\n",
       "    .dataframe tbody tr th:only-of-type {\n",
       "        vertical-align: middle;\n",
       "    }\n",
       "\n",
       "    .dataframe tbody tr th {\n",
       "        vertical-align: top;\n",
       "    }\n",
       "\n",
       "    .dataframe thead th {\n",
       "        text-align: right;\n",
       "    }\n",
       "</style>\n",
       "<table border=\"1\" class=\"dataframe\">\n",
       "  <thead>\n",
       "    <tr style=\"text-align: right;\">\n",
       "      <th></th>\n",
       "      <th>name</th>\n",
       "      <th>category</th>\n",
       "      <th>market</th>\n",
       "      <th>ticker</th>\n",
       "      <th>staging</th>\n",
       "    </tr>\n",
       "  </thead>\n",
       "  <tbody>\n",
       "    <tr>\n",
       "      <th>0</th>\n",
       "      <td>Bitcoin</td>\n",
       "      <td>Layer 1</td>\n",
       "      <td>Crypto</td>\n",
       "      <td>BTC-USD</td>\n",
       "      <td>@cryptodatasource</td>\n",
       "    </tr>\n",
       "    <tr>\n",
       "      <th>1</th>\n",
       "      <td>Ethereum</td>\n",
       "      <td>Layer 1</td>\n",
       "      <td>Crypto</td>\n",
       "      <td>ETH-USD</td>\n",
       "      <td>@cryptodatasource</td>\n",
       "    </tr>\n",
       "    <tr>\n",
       "      <th>2</th>\n",
       "      <td>Tether</td>\n",
       "      <td>Stablecoin</td>\n",
       "      <td>Crypto</td>\n",
       "      <td>USDT-USD</td>\n",
       "      <td>@cryptodatasource</td>\n",
       "    </tr>\n",
       "    <tr>\n",
       "      <th>3</th>\n",
       "      <td>XRP</td>\n",
       "      <td>Layer 1</td>\n",
       "      <td>Crypto</td>\n",
       "      <td>XRP-USD</td>\n",
       "      <td>@cryptodatasource</td>\n",
       "    </tr>\n",
       "    <tr>\n",
       "      <th>4</th>\n",
       "      <td>BNB</td>\n",
       "      <td>Layer 1</td>\n",
       "      <td>Crypto</td>\n",
       "      <td>BNB-USD</td>\n",
       "      <td>@cryptodatasource</td>\n",
       "    </tr>\n",
       "  </tbody>\n",
       "</table>\n",
       "</div>"
      ],
      "text/plain": [
       "       name    category  market    ticker            staging\n",
       "0   Bitcoin     Layer 1  Crypto   BTC-USD  @cryptodatasource\n",
       "1  Ethereum     Layer 1  Crypto   ETH-USD  @cryptodatasource\n",
       "2    Tether  Stablecoin  Crypto  USDT-USD  @cryptodatasource\n",
       "3       XRP     Layer 1  Crypto   XRP-USD  @cryptodatasource\n",
       "4       BNB     Layer 1  Crypto   BNB-USD  @cryptodatasource"
      ]
     },
     "execution_count": 8,
     "metadata": {},
     "output_type": "execute_result"
    }
   ],
   "source": [
    "top100.head()"
   ]
  },
  {
   "cell_type": "code",
   "execution_count": 9,
   "id": "3519776f-0da5-4fe2-8b8c-f2bb0a48edf8",
   "metadata": {},
   "outputs": [
    {
     "name": "stdout",
     "output_type": "stream",
     "text": [
      "🔍 Downloading data for BTC-USD from Yahoo Finance...\n",
      "YF.download() has changed argument auto_adjust default to True\n"
     ]
    },
    {
     "name": "stderr",
     "output_type": "stream",
     "text": [
      "[*********************100%***********************]  1 of 1 completed\n"
     ]
    },
    {
     "name": "stdout",
     "output_type": "stream",
     "text": [
      "✅ Starting upload file process: BTC_USD_history_20250422003719.parquet → @cryptodatasource\n",
      "✅ Connected to database: CRYPTONETWORKANALYSIS\n",
      "✅ File uploaded to @cryptodatasource: BTC_USD_history_20250422003719.parquet\n",
      "🧹 Temp file removed: BTC_USD_history_20250422003719.parquet\n",
      "✅ Upload complete for BTC-USD → @cryptodatasource\n"
     ]
    },
    {
     "name": "stderr",
     "output_type": "stream",
     "text": [
      "[*********************100%***********************]  1 of 1 completed"
     ]
    },
    {
     "name": "stdout",
     "output_type": "stream",
     "text": [
      "🔍 Downloading data for ETH-USD from Yahoo Finance...\n",
      "✅ Starting upload file process: ETH_USD_history_20250422003719.parquet → @cryptodatasource\n"
     ]
    },
    {
     "name": "stderr",
     "output_type": "stream",
     "text": [
      "\n"
     ]
    },
    {
     "name": "stdout",
     "output_type": "stream",
     "text": [
      "✅ Connected to database: CRYPTONETWORKANALYSIS\n",
      "✅ File uploaded to @cryptodatasource: ETH_USD_history_20250422003719.parquet\n",
      "🧹 Temp file removed: ETH_USD_history_20250422003719.parquet\n",
      "✅ Upload complete for ETH-USD → @cryptodatasource\n"
     ]
    },
    {
     "name": "stderr",
     "output_type": "stream",
     "text": [
      "[*********************100%***********************]  1 of 1 completed"
     ]
    },
    {
     "name": "stdout",
     "output_type": "stream",
     "text": [
      "🔍 Downloading data for USDT-USD from Yahoo Finance...\n",
      "✅ Starting upload file process: USDT_USD_history_20250422003719.parquet → @cryptodatasource\n"
     ]
    },
    {
     "name": "stderr",
     "output_type": "stream",
     "text": [
      "\n"
     ]
    },
    {
     "name": "stdout",
     "output_type": "stream",
     "text": [
      "✅ Connected to database: CRYPTONETWORKANALYSIS\n",
      "✅ File uploaded to @cryptodatasource: USDT_USD_history_20250422003719.parquet\n",
      "🧹 Temp file removed: USDT_USD_history_20250422003719.parquet\n",
      "✅ Upload complete for USDT-USD → @cryptodatasource\n"
     ]
    },
    {
     "name": "stderr",
     "output_type": "stream",
     "text": [
      "[*********************100%***********************]  1 of 1 completed"
     ]
    },
    {
     "name": "stdout",
     "output_type": "stream",
     "text": [
      "🔍 Downloading data for XRP-USD from Yahoo Finance...\n",
      "✅ Starting upload file process: XRP_USD_history_20250422003719.parquet → @cryptodatasource\n"
     ]
    },
    {
     "name": "stderr",
     "output_type": "stream",
     "text": [
      "\n"
     ]
    },
    {
     "name": "stdout",
     "output_type": "stream",
     "text": [
      "✅ Connected to database: CRYPTONETWORKANALYSIS\n",
      "✅ File uploaded to @cryptodatasource: XRP_USD_history_20250422003719.parquet\n",
      "🧹 Temp file removed: XRP_USD_history_20250422003719.parquet\n",
      "✅ Upload complete for XRP-USD → @cryptodatasource\n"
     ]
    },
    {
     "name": "stderr",
     "output_type": "stream",
     "text": [
      "[*********************100%***********************]  1 of 1 completed"
     ]
    },
    {
     "name": "stdout",
     "output_type": "stream",
     "text": [
      "🔍 Downloading data for BNB-USD from Yahoo Finance...\n",
      "✅ Starting upload file process: BNB_USD_history_20250422003719.parquet → @cryptodatasource\n"
     ]
    },
    {
     "name": "stderr",
     "output_type": "stream",
     "text": [
      "\n"
     ]
    },
    {
     "name": "stdout",
     "output_type": "stream",
     "text": [
      "✅ Connected to database: CRYPTONETWORKANALYSIS\n",
      "✅ File uploaded to @cryptodatasource: BNB_USD_history_20250422003719.parquet\n",
      "🧹 Temp file removed: BNB_USD_history_20250422003719.parquet\n",
      "✅ Upload complete for BNB-USD → @cryptodatasource\n"
     ]
    },
    {
     "name": "stderr",
     "output_type": "stream",
     "text": [
      "[*********************100%***********************]  1 of 1 completed"
     ]
    },
    {
     "name": "stdout",
     "output_type": "stream",
     "text": [
      "🔍 Downloading data for SOL-USD from Yahoo Finance...\n",
      "✅ Starting upload file process: SOL_USD_history_20250422003719.parquet → @cryptodatasource\n"
     ]
    },
    {
     "name": "stderr",
     "output_type": "stream",
     "text": [
      "\n"
     ]
    },
    {
     "name": "stdout",
     "output_type": "stream",
     "text": [
      "✅ Connected to database: CRYPTONETWORKANALYSIS\n",
      "✅ File uploaded to @cryptodatasource: SOL_USD_history_20250422003719.parquet\n",
      "🧹 Temp file removed: SOL_USD_history_20250422003719.parquet\n",
      "✅ Upload complete for SOL-USD → @cryptodatasource\n"
     ]
    },
    {
     "name": "stderr",
     "output_type": "stream",
     "text": [
      "[*********************100%***********************]  1 of 1 completed"
     ]
    },
    {
     "name": "stdout",
     "output_type": "stream",
     "text": [
      "🔍 Downloading data for USDC-USD from Yahoo Finance...\n"
     ]
    },
    {
     "name": "stderr",
     "output_type": "stream",
     "text": [
      "\n"
     ]
    },
    {
     "name": "stdout",
     "output_type": "stream",
     "text": [
      "✅ Starting upload file process: USDC_USD_history_20250422003719.parquet → @cryptodatasource\n",
      "✅ Connected to database: CRYPTONETWORKANALYSIS\n",
      "✅ File uploaded to @cryptodatasource: USDC_USD_history_20250422003719.parquet\n",
      "🧹 Temp file removed: USDC_USD_history_20250422003719.parquet\n",
      "✅ Upload complete for USDC-USD → @cryptodatasource\n"
     ]
    },
    {
     "name": "stderr",
     "output_type": "stream",
     "text": [
      "[*********************100%***********************]  1 of 1 completed"
     ]
    },
    {
     "name": "stdout",
     "output_type": "stream",
     "text": [
      "🔍 Downloading data for DOGE-USD from Yahoo Finance...\n"
     ]
    },
    {
     "name": "stderr",
     "output_type": "stream",
     "text": [
      "\n"
     ]
    },
    {
     "name": "stdout",
     "output_type": "stream",
     "text": [
      "✅ Starting upload file process: DOGE_USD_history_20250422003719.parquet → @cryptodatasource\n",
      "✅ Connected to database: CRYPTONETWORKANALYSIS\n",
      "✅ File uploaded to @cryptodatasource: DOGE_USD_history_20250422003719.parquet\n",
      "🧹 Temp file removed: DOGE_USD_history_20250422003719.parquet\n",
      "✅ Upload complete for DOGE-USD → @cryptodatasource\n"
     ]
    },
    {
     "name": "stderr",
     "output_type": "stream",
     "text": [
      "[*********************100%***********************]  1 of 1 completed"
     ]
    },
    {
     "name": "stdout",
     "output_type": "stream",
     "text": [
      "🔍 Downloading data for ADA-USD from Yahoo Finance...\n",
      "✅ Starting upload file process: ADA_USD_history_20250422003719.parquet → @cryptodatasource\n"
     ]
    },
    {
     "name": "stderr",
     "output_type": "stream",
     "text": [
      "\n"
     ]
    },
    {
     "name": "stdout",
     "output_type": "stream",
     "text": [
      "✅ Connected to database: CRYPTONETWORKANALYSIS\n",
      "✅ File uploaded to @cryptodatasource: ADA_USD_history_20250422003719.parquet\n",
      "🧹 Temp file removed: ADA_USD_history_20250422003719.parquet\n",
      "✅ Upload complete for ADA-USD → @cryptodatasource\n"
     ]
    },
    {
     "name": "stderr",
     "output_type": "stream",
     "text": [
      "[*********************100%***********************]  1 of 1 completed"
     ]
    },
    {
     "name": "stdout",
     "output_type": "stream",
     "text": [
      "🔍 Downloading data for TRX-USD from Yahoo Finance...\n",
      "✅ Starting upload file process: TRX_USD_history_20250422003719.parquet → @cryptodatasource\n"
     ]
    },
    {
     "name": "stderr",
     "output_type": "stream",
     "text": [
      "\n"
     ]
    },
    {
     "name": "stdout",
     "output_type": "stream",
     "text": [
      "✅ Connected to database: CRYPTONETWORKANALYSIS\n",
      "✅ File uploaded to @cryptodatasource: TRX_USD_history_20250422003719.parquet\n",
      "🧹 Temp file removed: TRX_USD_history_20250422003719.parquet\n",
      "✅ Upload complete for TRX-USD → @cryptodatasource\n"
     ]
    },
    {
     "name": "stderr",
     "output_type": "stream",
     "text": [
      "[*********************100%***********************]  1 of 1 completed"
     ]
    },
    {
     "name": "stdout",
     "output_type": "stream",
     "text": [
      "🔍 Downloading data for LEO-USD from Yahoo Finance...\n",
      "✅ Starting upload file process: LEO_USD_history_20250422003719.parquet → @cryptodatasource\n"
     ]
    },
    {
     "name": "stderr",
     "output_type": "stream",
     "text": [
      "\n"
     ]
    },
    {
     "name": "stdout",
     "output_type": "stream",
     "text": [
      "✅ Connected to database: CRYPTONETWORKANALYSIS\n",
      "✅ File uploaded to @cryptodatasource: LEO_USD_history_20250422003719.parquet\n",
      "🧹 Temp file removed: LEO_USD_history_20250422003719.parquet\n",
      "✅ Upload complete for LEO-USD → @cryptodatasource\n"
     ]
    },
    {
     "name": "stderr",
     "output_type": "stream",
     "text": [
      "[*********************100%***********************]  1 of 1 completed"
     ]
    },
    {
     "name": "stdout",
     "output_type": "stream",
     "text": [
      "🔍 Downloading data for LINK-USD from Yahoo Finance...\n"
     ]
    },
    {
     "name": "stderr",
     "output_type": "stream",
     "text": [
      "\n"
     ]
    },
    {
     "name": "stdout",
     "output_type": "stream",
     "text": [
      "✅ Starting upload file process: LINK_USD_history_20250422003719.parquet → @cryptodatasource\n",
      "✅ Connected to database: CRYPTONETWORKANALYSIS\n",
      "✅ File uploaded to @cryptodatasource: LINK_USD_history_20250422003719.parquet\n",
      "🧹 Temp file removed: LINK_USD_history_20250422003719.parquet\n",
      "✅ Upload complete for LINK-USD → @cryptodatasource\n"
     ]
    },
    {
     "name": "stderr",
     "output_type": "stream",
     "text": [
      "[*********************100%***********************]  1 of 1 completed"
     ]
    },
    {
     "name": "stdout",
     "output_type": "stream",
     "text": [
      "🔍 Downloading data for TON-USD from Yahoo Finance...\n",
      "✅ Starting upload file process: TON_USD_history_20250422003719.parquet → @cryptodatasource\n"
     ]
    },
    {
     "name": "stderr",
     "output_type": "stream",
     "text": [
      "\n"
     ]
    },
    {
     "name": "stdout",
     "output_type": "stream",
     "text": [
      "✅ Connected to database: CRYPTONETWORKANALYSIS\n",
      "✅ File uploaded to @cryptodatasource: TON_USD_history_20250422003719.parquet\n",
      "🧹 Temp file removed: TON_USD_history_20250422003719.parquet\n",
      "✅ Upload complete for TON-USD → @cryptodatasource\n"
     ]
    },
    {
     "name": "stderr",
     "output_type": "stream",
     "text": [
      "[*********************100%***********************]  1 of 1 completed"
     ]
    },
    {
     "name": "stdout",
     "output_type": "stream",
     "text": [
      "🔍 Downloading data for XLM-USD from Yahoo Finance...\n",
      "✅ Starting upload file process: XLM_USD_history_20250422003719.parquet → @cryptodatasource\n"
     ]
    },
    {
     "name": "stderr",
     "output_type": "stream",
     "text": [
      "\n"
     ]
    },
    {
     "name": "stdout",
     "output_type": "stream",
     "text": [
      "✅ Connected to database: CRYPTONETWORKANALYSIS\n",
      "✅ File uploaded to @cryptodatasource: XLM_USD_history_20250422003719.parquet\n",
      "🧹 Temp file removed: XLM_USD_history_20250422003719.parquet\n",
      "✅ Upload complete for XLM-USD → @cryptodatasource\n"
     ]
    },
    {
     "name": "stderr",
     "output_type": "stream",
     "text": [
      "[*********************100%***********************]  1 of 1 completed"
     ]
    },
    {
     "name": "stdout",
     "output_type": "stream",
     "text": [
      "🔍 Downloading data for AVAX-USD from Yahoo Finance...\n",
      "✅ Starting upload file process: AVAX_USD_history_20250422003719.parquet → @cryptodatasource\n"
     ]
    },
    {
     "name": "stderr",
     "output_type": "stream",
     "text": [
      "\n"
     ]
    },
    {
     "name": "stdout",
     "output_type": "stream",
     "text": [
      "✅ Connected to database: CRYPTONETWORKANALYSIS\n",
      "✅ File uploaded to @cryptodatasource: AVAX_USD_history_20250422003719.parquet\n",
      "🧹 Temp file removed: AVAX_USD_history_20250422003719.parquet\n",
      "✅ Upload complete for AVAX-USD → @cryptodatasource\n"
     ]
    },
    {
     "name": "stderr",
     "output_type": "stream",
     "text": [
      "[*********************100%***********************]  1 of 1 completed"
     ]
    },
    {
     "name": "stdout",
     "output_type": "stream",
     "text": [
      "🔍 Downloading data for SUI-USD from Yahoo Finance...\n",
      "✅ Starting upload file process: SUI_USD_history_20250422003719.parquet → @cryptodatasource\n"
     ]
    },
    {
     "name": "stderr",
     "output_type": "stream",
     "text": [
      "\n"
     ]
    },
    {
     "name": "stdout",
     "output_type": "stream",
     "text": [
      "✅ Connected to database: CRYPTONETWORKANALYSIS\n",
      "✅ File uploaded to @cryptodatasource: SUI_USD_history_20250422003719.parquet\n",
      "🧹 Temp file removed: SUI_USD_history_20250422003719.parquet\n",
      "✅ Upload complete for SUI-USD → @cryptodatasource\n"
     ]
    },
    {
     "name": "stderr",
     "output_type": "stream",
     "text": [
      "[*********************100%***********************]  1 of 1 completed"
     ]
    },
    {
     "name": "stdout",
     "output_type": "stream",
     "text": [
      "🔍 Downloading data for SHIB-USD from Yahoo Finance...\n",
      "✅ Starting upload file process: SHIB_USD_history_20250422003719.parquet → @cryptodatasource\n"
     ]
    },
    {
     "name": "stderr",
     "output_type": "stream",
     "text": [
      "\n"
     ]
    },
    {
     "name": "stdout",
     "output_type": "stream",
     "text": [
      "✅ Connected to database: CRYPTONETWORKANALYSIS\n",
      "✅ File uploaded to @cryptodatasource: SHIB_USD_history_20250422003719.parquet\n",
      "🧹 Temp file removed: SHIB_USD_history_20250422003719.parquet\n",
      "✅ Upload complete for SHIB-USD → @cryptodatasource\n"
     ]
    },
    {
     "name": "stderr",
     "output_type": "stream",
     "text": [
      "[*********************100%***********************]  1 of 1 completed"
     ]
    },
    {
     "name": "stdout",
     "output_type": "stream",
     "text": [
      "🔍 Downloading data for HBAR-USD from Yahoo Finance...\n",
      "✅ Starting upload file process: HBAR_USD_history_20250422003719.parquet → @cryptodatasource\n"
     ]
    },
    {
     "name": "stderr",
     "output_type": "stream",
     "text": [
      "\n"
     ]
    },
    {
     "name": "stdout",
     "output_type": "stream",
     "text": [
      "✅ Connected to database: CRYPTONETWORKANALYSIS\n",
      "✅ File uploaded to @cryptodatasource: HBAR_USD_history_20250422003719.parquet\n",
      "🧹 Temp file removed: HBAR_USD_history_20250422003719.parquet\n",
      "✅ Upload complete for HBAR-USD → @cryptodatasource\n"
     ]
    },
    {
     "name": "stderr",
     "output_type": "stream",
     "text": [
      "[*********************100%***********************]  1 of 1 completed"
     ]
    },
    {
     "name": "stdout",
     "output_type": "stream",
     "text": [
      "🔍 Downloading data for LTC-USD from Yahoo Finance...\n",
      "✅ Starting upload file process: LTC_USD_history_20250422003719.parquet → @cryptodatasource\n"
     ]
    },
    {
     "name": "stderr",
     "output_type": "stream",
     "text": [
      "\n"
     ]
    },
    {
     "name": "stdout",
     "output_type": "stream",
     "text": [
      "✅ Connected to database: CRYPTONETWORKANALYSIS\n",
      "✅ File uploaded to @cryptodatasource: LTC_USD_history_20250422003719.parquet\n",
      "🧹 Temp file removed: LTC_USD_history_20250422003719.parquet\n",
      "✅ Upload complete for LTC-USD → @cryptodatasource\n"
     ]
    },
    {
     "name": "stderr",
     "output_type": "stream",
     "text": [
      "[*********************100%***********************]  1 of 1 completed"
     ]
    },
    {
     "name": "stdout",
     "output_type": "stream",
     "text": [
      "🔍 Downloading data for DOT-USD from Yahoo Finance...\n",
      "✅ Starting upload file process: DOT_USD_history_20250422003719.parquet → @cryptodatasource\n"
     ]
    },
    {
     "name": "stderr",
     "output_type": "stream",
     "text": [
      "\n"
     ]
    },
    {
     "name": "stdout",
     "output_type": "stream",
     "text": [
      "✅ Connected to database: CRYPTONETWORKANALYSIS\n",
      "✅ File uploaded to @cryptodatasource: DOT_USD_history_20250422003719.parquet\n",
      "🧹 Temp file removed: DOT_USD_history_20250422003719.parquet\n",
      "✅ Upload complete for DOT-USD → @cryptodatasource\n"
     ]
    },
    {
     "name": "stderr",
     "output_type": "stream",
     "text": [
      "[*********************100%***********************]  1 of 1 completed"
     ]
    },
    {
     "name": "stdout",
     "output_type": "stream",
     "text": [
      "🔍 Downloading data for OM-USD from Yahoo Finance...\n",
      "✅ Starting upload file process: OM_USD_history_20250422003719.parquet → @cryptodatasource\n"
     ]
    },
    {
     "name": "stderr",
     "output_type": "stream",
     "text": [
      "\n"
     ]
    },
    {
     "name": "stdout",
     "output_type": "stream",
     "text": [
      "✅ Connected to database: CRYPTONETWORKANALYSIS\n",
      "✅ File uploaded to @cryptodatasource: OM_USD_history_20250422003719.parquet\n",
      "🧹 Temp file removed: OM_USD_history_20250422003719.parquet\n",
      "✅ Upload complete for OM-USD → @cryptodatasource\n"
     ]
    },
    {
     "name": "stderr",
     "output_type": "stream",
     "text": [
      "[*********************100%***********************]  1 of 1 completed"
     ]
    },
    {
     "name": "stdout",
     "output_type": "stream",
     "text": [
      "🔍 Downloading data for BCH-USD from Yahoo Finance...\n",
      "✅ Starting upload file process: BCH_USD_history_20250422003719.parquet → @cryptodatasource\n"
     ]
    },
    {
     "name": "stderr",
     "output_type": "stream",
     "text": [
      "\n"
     ]
    },
    {
     "name": "stdout",
     "output_type": "stream",
     "text": [
      "✅ Connected to database: CRYPTONETWORKANALYSIS\n",
      "✅ File uploaded to @cryptodatasource: BCH_USD_history_20250422003719.parquet\n",
      "🧹 Temp file removed: BCH_USD_history_20250422003719.parquet\n",
      "✅ Upload complete for BCH-USD → @cryptodatasource\n"
     ]
    },
    {
     "name": "stderr",
     "output_type": "stream",
     "text": [
      "[*********************100%***********************]  1 of 1 completed"
     ]
    },
    {
     "name": "stdout",
     "output_type": "stream",
     "text": [
      "🔍 Downloading data for BGB-USD from Yahoo Finance...\n",
      "✅ Starting upload file process: BGB_USD_history_20250422003719.parquet → @cryptodatasource\n"
     ]
    },
    {
     "name": "stderr",
     "output_type": "stream",
     "text": [
      "\n"
     ]
    },
    {
     "name": "stdout",
     "output_type": "stream",
     "text": [
      "✅ Connected to database: CRYPTONETWORKANALYSIS\n",
      "✅ File uploaded to @cryptodatasource: BGB_USD_history_20250422003719.parquet\n",
      "🧹 Temp file removed: BGB_USD_history_20250422003719.parquet\n",
      "✅ Upload complete for BGB-USD → @cryptodatasource\n"
     ]
    },
    {
     "name": "stderr",
     "output_type": "stream",
     "text": [
      "[*********************100%***********************]  1 of 1 completed"
     ]
    },
    {
     "name": "stdout",
     "output_type": "stream",
     "text": [
      "🔍 Downloading data for DAI-USD from Yahoo Finance...\n",
      "✅ Starting upload file process: DAI_USD_history_20250422003719.parquet → @cryptodatasource\n"
     ]
    },
    {
     "name": "stderr",
     "output_type": "stream",
     "text": [
      "\n"
     ]
    },
    {
     "name": "stdout",
     "output_type": "stream",
     "text": [
      "✅ Connected to database: CRYPTONETWORKANALYSIS\n",
      "✅ File uploaded to @cryptodatasource: DAI_USD_history_20250422003719.parquet\n",
      "🧹 Temp file removed: DAI_USD_history_20250422003719.parquet\n",
      "✅ Upload complete for DAI-USD → @cryptodatasource\n"
     ]
    },
    {
     "name": "stderr",
     "output_type": "stream",
     "text": [
      "[*********************100%***********************]  1 of 1 completed"
     ]
    },
    {
     "name": "stdout",
     "output_type": "stream",
     "text": [
      "🔍 Downloading data for USDe-USD from Yahoo Finance...\n",
      "✅ Starting upload file process: USDe_USD_history_20250422003719.parquet → @cryptodatasource\n"
     ]
    },
    {
     "name": "stderr",
     "output_type": "stream",
     "text": [
      "\n"
     ]
    },
    {
     "name": "stdout",
     "output_type": "stream",
     "text": [
      "✅ Connected to database: CRYPTONETWORKANALYSIS\n",
      "✅ File uploaded to @cryptodatasource: USDe_USD_history_20250422003719.parquet\n",
      "🧹 Temp file removed: USDe_USD_history_20250422003719.parquet\n",
      "✅ Upload complete for USDe-USD → @cryptodatasource\n"
     ]
    },
    {
     "name": "stderr",
     "output_type": "stream",
     "text": [
      "[*********************100%***********************]  1 of 1 completed"
     ]
    },
    {
     "name": "stdout",
     "output_type": "stream",
     "text": [
      "🔍 Downloading data for HYPE-USD from Yahoo Finance...\n",
      "✅ Starting upload file process: HYPE_USD_history_20250422003719.parquet → @cryptodatasource\n"
     ]
    },
    {
     "name": "stderr",
     "output_type": "stream",
     "text": [
      "\n"
     ]
    },
    {
     "name": "stdout",
     "output_type": "stream",
     "text": [
      "✅ Connected to database: CRYPTONETWORKANALYSIS\n",
      "✅ File uploaded to @cryptodatasource: HYPE_USD_history_20250422003719.parquet\n",
      "🧹 Temp file removed: HYPE_USD_history_20250422003719.parquet\n",
      "✅ Upload complete for HYPE-USD → @cryptodatasource\n",
      "🔍 Downloading data for XMR-USD from Yahoo Finance...\n"
     ]
    },
    {
     "name": "stderr",
     "output_type": "stream",
     "text": [
      "[*********************100%***********************]  1 of 1 completed\n"
     ]
    },
    {
     "name": "stdout",
     "output_type": "stream",
     "text": [
      "✅ Starting upload file process: XMR_USD_history_20250422003719.parquet → @cryptodatasource\n",
      "✅ Connected to database: CRYPTONETWORKANALYSIS\n",
      "✅ File uploaded to @cryptodatasource: XMR_USD_history_20250422003719.parquet\n",
      "🧹 Temp file removed: XMR_USD_history_20250422003719.parquet\n",
      "✅ Upload complete for XMR-USD → @cryptodatasource\n"
     ]
    },
    {
     "name": "stderr",
     "output_type": "stream",
     "text": [
      "[*********************100%***********************]  1 of 1 completed"
     ]
    },
    {
     "name": "stdout",
     "output_type": "stream",
     "text": [
      "🔍 Downloading data for UNI-USD from Yahoo Finance...\n",
      "✅ Starting upload file process: UNI_USD_history_20250422003719.parquet → @cryptodatasource\n"
     ]
    },
    {
     "name": "stderr",
     "output_type": "stream",
     "text": [
      "\n"
     ]
    },
    {
     "name": "stdout",
     "output_type": "stream",
     "text": [
      "✅ Connected to database: CRYPTONETWORKANALYSIS\n",
      "✅ File uploaded to @cryptodatasource: UNI_USD_history_20250422003719.parquet\n",
      "🧹 Temp file removed: UNI_USD_history_20250422003719.parquet\n",
      "✅ Upload complete for UNI-USD → @cryptodatasource\n"
     ]
    },
    {
     "name": "stderr",
     "output_type": "stream",
     "text": [
      "[*********************100%***********************]  1 of 1 completed"
     ]
    },
    {
     "name": "stdout",
     "output_type": "stream",
     "text": [
      "🔍 Downloading data for PI-USD from Yahoo Finance...\n"
     ]
    },
    {
     "name": "stderr",
     "output_type": "stream",
     "text": [
      "\n"
     ]
    },
    {
     "name": "stdout",
     "output_type": "stream",
     "text": [
      "✅ Starting upload file process: PI_USD_history_20250422003719.parquet → @cryptodatasource\n",
      "✅ Connected to database: CRYPTONETWORKANALYSIS\n",
      "✅ File uploaded to @cryptodatasource: PI_USD_history_20250422003719.parquet\n",
      "🧹 Temp file removed: PI_USD_history_20250422003719.parquet\n",
      "✅ Upload complete for PI-USD → @cryptodatasource\n"
     ]
    },
    {
     "name": "stderr",
     "output_type": "stream",
     "text": [
      "[*********************100%***********************]  1 of 1 completed"
     ]
    },
    {
     "name": "stdout",
     "output_type": "stream",
     "text": [
      "🔍 Downloading data for PEPE-USD from Yahoo Finance...\n",
      "✅ Starting upload file process: PEPE_USD_history_20250422003719.parquet → @cryptodatasource\n"
     ]
    },
    {
     "name": "stderr",
     "output_type": "stream",
     "text": [
      "\n"
     ]
    },
    {
     "name": "stdout",
     "output_type": "stream",
     "text": [
      "✅ Connected to database: CRYPTONETWORKANALYSIS\n",
      "✅ File uploaded to @cryptodatasource: PEPE_USD_history_20250422003719.parquet\n",
      "🧹 Temp file removed: PEPE_USD_history_20250422003719.parquet\n",
      "✅ Upload complete for PEPE-USD → @cryptodatasource\n",
      "🔍 Downloading data for NEAR-USD from Yahoo Finance...\n"
     ]
    },
    {
     "name": "stderr",
     "output_type": "stream",
     "text": [
      "[*********************100%***********************]  1 of 1 completed\n"
     ]
    },
    {
     "name": "stdout",
     "output_type": "stream",
     "text": [
      "✅ Starting upload file process: NEAR_USD_history_20250422003719.parquet → @cryptodatasource\n",
      "✅ Connected to database: CRYPTONETWORKANALYSIS\n",
      "✅ File uploaded to @cryptodatasource: NEAR_USD_history_20250422003719.parquet\n",
      "🧹 Temp file removed: NEAR_USD_history_20250422003719.parquet\n",
      "✅ Upload complete for NEAR-USD → @cryptodatasource\n",
      "🔍 Downloading data for APT-USD from Yahoo Finance...\n"
     ]
    },
    {
     "name": "stderr",
     "output_type": "stream",
     "text": [
      "[*********************100%***********************]  1 of 1 completed\n"
     ]
    },
    {
     "name": "stdout",
     "output_type": "stream",
     "text": [
      "✅ Starting upload file process: APT_USD_history_20250422003719.parquet → @cryptodatasource\n",
      "✅ Connected to database: CRYPTONETWORKANALYSIS\n",
      "✅ File uploaded to @cryptodatasource: APT_USD_history_20250422003719.parquet\n",
      "🧹 Temp file removed: APT_USD_history_20250422003719.parquet\n",
      "✅ Upload complete for APT-USD → @cryptodatasource\n",
      "🔍 Downloading data for OKB-USD from Yahoo Finance...\n"
     ]
    },
    {
     "name": "stderr",
     "output_type": "stream",
     "text": [
      "[*********************100%***********************]  1 of 1 completed\n"
     ]
    },
    {
     "name": "stdout",
     "output_type": "stream",
     "text": [
      "✅ Starting upload file process: OKB_USD_history_20250422003719.parquet → @cryptodatasource\n",
      "✅ Connected to database: CRYPTONETWORKANALYSIS\n",
      "✅ File uploaded to @cryptodatasource: OKB_USD_history_20250422003719.parquet\n",
      "🧹 Temp file removed: OKB_USD_history_20250422003719.parquet\n",
      "✅ Upload complete for OKB-USD → @cryptodatasource\n"
     ]
    },
    {
     "name": "stderr",
     "output_type": "stream",
     "text": [
      "[*********************100%***********************]  1 of 1 completed"
     ]
    },
    {
     "name": "stdout",
     "output_type": "stream",
     "text": [
      "🔍 Downloading data for ONDO-USD from Yahoo Finance...\n",
      "✅ Starting upload file process: ONDO_USD_history_20250422003719.parquet → @cryptodatasource\n"
     ]
    },
    {
     "name": "stderr",
     "output_type": "stream",
     "text": [
      "\n"
     ]
    },
    {
     "name": "stdout",
     "output_type": "stream",
     "text": [
      "✅ Connected to database: CRYPTONETWORKANALYSIS\n",
      "✅ File uploaded to @cryptodatasource: ONDO_USD_history_20250422003719.parquet\n",
      "🧹 Temp file removed: ONDO_USD_history_20250422003719.parquet\n",
      "✅ Upload complete for ONDO-USD → @cryptodatasource\n",
      "🔍 Downloading data for CRO-USD from Yahoo Finance...\n"
     ]
    },
    {
     "name": "stderr",
     "output_type": "stream",
     "text": [
      "[*********************100%***********************]  1 of 1 completed\n"
     ]
    },
    {
     "name": "stdout",
     "output_type": "stream",
     "text": [
      "✅ Starting upload file process: CRO_USD_history_20250422003719.parquet → @cryptodatasource\n",
      "✅ Connected to database: CRYPTONETWORKANALYSIS\n",
      "✅ File uploaded to @cryptodatasource: CRO_USD_history_20250422003719.parquet\n",
      "🧹 Temp file removed: CRO_USD_history_20250422003719.parquet\n",
      "✅ Upload complete for CRO-USD → @cryptodatasource\n"
     ]
    },
    {
     "name": "stderr",
     "output_type": "stream",
     "text": [
      "[*********************100%***********************]  1 of 1 completed"
     ]
    },
    {
     "name": "stdout",
     "output_type": "stream",
     "text": [
      "🔍 Downloading data for MNT-USD from Yahoo Finance...\n",
      "✅ Starting upload file process: MNT_USD_history_20250422003719.parquet → @cryptodatasource\n"
     ]
    },
    {
     "name": "stderr",
     "output_type": "stream",
     "text": [
      "\n"
     ]
    },
    {
     "name": "stdout",
     "output_type": "stream",
     "text": [
      "✅ Connected to database: CRYPTONETWORKANALYSIS\n",
      "✅ File uploaded to @cryptodatasource: MNT_USD_history_20250422003719.parquet\n",
      "🧹 Temp file removed: MNT_USD_history_20250422003719.parquet\n",
      "✅ Upload complete for MNT-USD → @cryptodatasource\n"
     ]
    },
    {
     "name": "stderr",
     "output_type": "stream",
     "text": [
      "[*********************100%***********************]  1 of 1 completed"
     ]
    },
    {
     "name": "stdout",
     "output_type": "stream",
     "text": [
      "🔍 Downloading data for ETC-USD from Yahoo Finance...\n",
      "✅ Starting upload file process: ETC_USD_history_20250422003719.parquet → @cryptodatasource\n"
     ]
    },
    {
     "name": "stderr",
     "output_type": "stream",
     "text": [
      "\n"
     ]
    },
    {
     "name": "stdout",
     "output_type": "stream",
     "text": [
      "✅ Connected to database: CRYPTONETWORKANALYSIS\n",
      "✅ File uploaded to @cryptodatasource: ETC_USD_history_20250422003719.parquet\n",
      "🧹 Temp file removed: ETC_USD_history_20250422003719.parquet\n",
      "✅ Upload complete for ETC-USD → @cryptodatasource\n"
     ]
    },
    {
     "name": "stderr",
     "output_type": "stream",
     "text": [
      "[*********************100%***********************]  1 of 1 completed"
     ]
    },
    {
     "name": "stdout",
     "output_type": "stream",
     "text": [
      "🔍 Downloading data for ICP-USD from Yahoo Finance...\n",
      "✅ Starting upload file process: ICP_USD_history_20250422003719.parquet → @cryptodatasource\n"
     ]
    },
    {
     "name": "stderr",
     "output_type": "stream",
     "text": [
      "\n"
     ]
    },
    {
     "name": "stdout",
     "output_type": "stream",
     "text": [
      "✅ Connected to database: CRYPTONETWORKANALYSIS\n",
      "✅ File uploaded to @cryptodatasource: ICP_USD_history_20250422003719.parquet\n",
      "🧹 Temp file removed: ICP_USD_history_20250422003719.parquet\n",
      "✅ Upload complete for ICP-USD → @cryptodatasource\n"
     ]
    },
    {
     "name": "stderr",
     "output_type": "stream",
     "text": [
      "[*********************100%***********************]  1 of 1 completed"
     ]
    },
    {
     "name": "stdout",
     "output_type": "stream",
     "text": [
      "🔍 Downloading data for AAVE-USD from Yahoo Finance...\n",
      "✅ Starting upload file process: AAVE_USD_history_20250422003719.parquet → @cryptodatasource\n"
     ]
    },
    {
     "name": "stderr",
     "output_type": "stream",
     "text": [
      "\n"
     ]
    },
    {
     "name": "stdout",
     "output_type": "stream",
     "text": [
      "✅ Connected to database: CRYPTONETWORKANALYSIS\n",
      "✅ File uploaded to @cryptodatasource: AAVE_USD_history_20250422003719.parquet\n",
      "🧹 Temp file removed: AAVE_USD_history_20250422003719.parquet\n",
      "✅ Upload complete for AAVE-USD → @cryptodatasource\n"
     ]
    },
    {
     "name": "stderr",
     "output_type": "stream",
     "text": [
      "[*********************100%***********************]  1 of 1 completed"
     ]
    },
    {
     "name": "stdout",
     "output_type": "stream",
     "text": [
      "🔍 Downloading data for FDUSD-USD from Yahoo Finance...\n",
      "✅ Starting upload file process: FDUSD_USD_history_20250422003719.parquet → @cryptodatasource\n"
     ]
    },
    {
     "name": "stderr",
     "output_type": "stream",
     "text": [
      "\n"
     ]
    },
    {
     "name": "stdout",
     "output_type": "stream",
     "text": [
      "✅ Connected to database: CRYPTONETWORKANALYSIS\n",
      "✅ File uploaded to @cryptodatasource: FDUSD_USD_history_20250422003719.parquet\n",
      "🧹 Temp file removed: FDUSD_USD_history_20250422003719.parquet\n",
      "✅ Upload complete for FDUSD-USD → @cryptodatasource\n"
     ]
    },
    {
     "name": "stderr",
     "output_type": "stream",
     "text": [
      "[*********************100%***********************]  1 of 1 completed"
     ]
    },
    {
     "name": "stdout",
     "output_type": "stream",
     "text": [
      "🔍 Downloading data for POL-USD from Yahoo Finance...\n",
      "✅ Starting upload file process: POL_USD_history_20250422003719.parquet → @cryptodatasource\n"
     ]
    },
    {
     "name": "stderr",
     "output_type": "stream",
     "text": [
      "\n"
     ]
    },
    {
     "name": "stdout",
     "output_type": "stream",
     "text": [
      "✅ Connected to database: CRYPTONETWORKANALYSIS\n",
      "✅ File uploaded to @cryptodatasource: POL_USD_history_20250422003719.parquet\n",
      "🧹 Temp file removed: POL_USD_history_20250422003719.parquet\n",
      "✅ Upload complete for POL-USD → @cryptodatasource\n"
     ]
    },
    {
     "name": "stderr",
     "output_type": "stream",
     "text": [
      "[*********************100%***********************]  1 of 1 completed"
     ]
    },
    {
     "name": "stdout",
     "output_type": "stream",
     "text": [
      "🔍 Downloading data for ATOM-USD from Yahoo Finance...\n",
      "✅ Starting upload file process: ATOM_USD_history_20250422003719.parquet → @cryptodatasource\n"
     ]
    },
    {
     "name": "stderr",
     "output_type": "stream",
     "text": [
      "\n"
     ]
    },
    {
     "name": "stdout",
     "output_type": "stream",
     "text": [
      "✅ Connected to database: CRYPTONETWORKANALYSIS\n",
      "✅ File uploaded to @cryptodatasource: ATOM_USD_history_20250422003719.parquet\n",
      "🧹 Temp file removed: ATOM_USD_history_20250422003719.parquet\n",
      "✅ Upload complete for ATOM-USD → @cryptodatasource\n"
     ]
    },
    {
     "name": "stderr",
     "output_type": "stream",
     "text": [
      "[*********************100%***********************]  1 of 1 completed"
     ]
    },
    {
     "name": "stdout",
     "output_type": "stream",
     "text": [
      "🔍 Downloading data for GT-USD from Yahoo Finance...\n",
      "✅ Starting upload file process: GT_USD_history_20250422003719.parquet → @cryptodatasource\n"
     ]
    },
    {
     "name": "stderr",
     "output_type": "stream",
     "text": [
      "\n"
     ]
    },
    {
     "name": "stdout",
     "output_type": "stream",
     "text": [
      "✅ Connected to database: CRYPTONETWORKANALYSIS\n",
      "✅ File uploaded to @cryptodatasource: GT_USD_history_20250422003719.parquet\n",
      "🧹 Temp file removed: GT_USD_history_20250422003719.parquet\n",
      "✅ Upload complete for GT-USD → @cryptodatasource\n"
     ]
    },
    {
     "name": "stderr",
     "output_type": "stream",
     "text": [
      "[*********************100%***********************]  1 of 1 completed"
     ]
    },
    {
     "name": "stdout",
     "output_type": "stream",
     "text": [
      "🔍 Downloading data for VET-USD from Yahoo Finance...\n"
     ]
    },
    {
     "name": "stderr",
     "output_type": "stream",
     "text": [
      "\n"
     ]
    },
    {
     "name": "stdout",
     "output_type": "stream",
     "text": [
      "✅ Starting upload file process: VET_USD_history_20250422003719.parquet → @cryptodatasource\n",
      "✅ Connected to database: CRYPTONETWORKANALYSIS\n",
      "✅ File uploaded to @cryptodatasource: VET_USD_history_20250422003719.parquet\n",
      "🧹 Temp file removed: VET_USD_history_20250422003719.parquet\n",
      "✅ Upload complete for VET-USD → @cryptodatasource\n"
     ]
    },
    {
     "name": "stderr",
     "output_type": "stream",
     "text": [
      "[*********************100%***********************]  1 of 1 completed"
     ]
    },
    {
     "name": "stdout",
     "output_type": "stream",
     "text": [
      "🔍 Downloading data for TRUMP-USD from Yahoo Finance...\n"
     ]
    },
    {
     "name": "stderr",
     "output_type": "stream",
     "text": [
      "\n"
     ]
    },
    {
     "name": "stdout",
     "output_type": "stream",
     "text": [
      "✅ Starting upload file process: TRUMP_USD_history_20250422003719.parquet → @cryptodatasource\n",
      "✅ Connected to database: CRYPTONETWORKANALYSIS\n",
      "✅ File uploaded to @cryptodatasource: TRUMP_USD_history_20250422003719.parquet\n",
      "🧹 Temp file removed: TRUMP_USD_history_20250422003719.parquet\n",
      "✅ Upload complete for TRUMP-USD → @cryptodatasource\n"
     ]
    },
    {
     "name": "stderr",
     "output_type": "stream",
     "text": [
      "[*********************100%***********************]  1 of 1 completed"
     ]
    },
    {
     "name": "stdout",
     "output_type": "stream",
     "text": [
      "🔍 Downloading data for FIL-USD from Yahoo Finance...\n",
      "✅ Starting upload file process: FIL_USD_history_20250422003719.parquet → @cryptodatasource\n"
     ]
    },
    {
     "name": "stderr",
     "output_type": "stream",
     "text": [
      "\n"
     ]
    },
    {
     "name": "stdout",
     "output_type": "stream",
     "text": [
      "✅ Connected to database: CRYPTONETWORKANALYSIS\n",
      "✅ File uploaded to @cryptodatasource: FIL_USD_history_20250422003719.parquet\n",
      "🧹 Temp file removed: FIL_USD_history_20250422003719.parquet\n",
      "✅ Upload complete for FIL-USD → @cryptodatasource\n"
     ]
    },
    {
     "name": "stderr",
     "output_type": "stream",
     "text": [
      "[*********************100%***********************]  1 of 1 completed"
     ]
    },
    {
     "name": "stdout",
     "output_type": "stream",
     "text": [
      "🔍 Downloading data for KAS-USD from Yahoo Finance...\n",
      "✅ Starting upload file process: KAS_USD_history_20250422003719.parquet → @cryptodatasource\n"
     ]
    },
    {
     "name": "stderr",
     "output_type": "stream",
     "text": [
      "\n"
     ]
    },
    {
     "name": "stdout",
     "output_type": "stream",
     "text": [
      "✅ Connected to database: CRYPTONETWORKANALYSIS\n",
      "✅ File uploaded to @cryptodatasource: KAS_USD_history_20250422003719.parquet\n",
      "🧹 Temp file removed: KAS_USD_history_20250422003719.parquet\n",
      "✅ Upload complete for KAS-USD → @cryptodatasource\n"
     ]
    },
    {
     "name": "stderr",
     "output_type": "stream",
     "text": [
      "[*********************100%***********************]  1 of 1 completed"
     ]
    },
    {
     "name": "stdout",
     "output_type": "stream",
     "text": [
      "🔍 Downloading data for ENA-USD from Yahoo Finance...\n",
      "✅ Starting upload file process: ENA_USD_history_20250422003719.parquet → @cryptodatasource\n"
     ]
    },
    {
     "name": "stderr",
     "output_type": "stream",
     "text": [
      "\n"
     ]
    },
    {
     "name": "stdout",
     "output_type": "stream",
     "text": [
      "✅ Connected to database: CRYPTONETWORKANALYSIS\n",
      "✅ File uploaded to @cryptodatasource: ENA_USD_history_20250422003719.parquet\n",
      "🧹 Temp file removed: ENA_USD_history_20250422003719.parquet\n",
      "✅ Upload complete for ENA-USD → @cryptodatasource\n"
     ]
    },
    {
     "name": "stderr",
     "output_type": "stream",
     "text": [
      "[*********************100%***********************]  1 of 1 completed"
     ]
    },
    {
     "name": "stdout",
     "output_type": "stream",
     "text": [
      "🔍 Downloading data for RENDER-USD from Yahoo Finance...\n",
      "✅ Starting upload file process: RENDER_USD_history_20250422003719.parquet → @cryptodatasource\n"
     ]
    },
    {
     "name": "stderr",
     "output_type": "stream",
     "text": [
      "\n"
     ]
    },
    {
     "name": "stdout",
     "output_type": "stream",
     "text": [
      "✅ Connected to database: CRYPTONETWORKANALYSIS\n",
      "✅ File uploaded to @cryptodatasource: RENDER_USD_history_20250422003719.parquet\n",
      "🧹 Temp file removed: RENDER_USD_history_20250422003719.parquet\n",
      "✅ Upload complete for RENDER-USD → @cryptodatasource\n"
     ]
    },
    {
     "name": "stderr",
     "output_type": "stream",
     "text": [
      "[*********************100%***********************]  1 of 1 completed"
     ]
    },
    {
     "name": "stdout",
     "output_type": "stream",
     "text": [
      "🔍 Downloading data for TIA-USD from Yahoo Finance...\n",
      "✅ Starting upload file process: TIA_USD_history_20250422003719.parquet → @cryptodatasource\n"
     ]
    },
    {
     "name": "stderr",
     "output_type": "stream",
     "text": [
      "\n"
     ]
    },
    {
     "name": "stdout",
     "output_type": "stream",
     "text": [
      "✅ Connected to database: CRYPTONETWORKANALYSIS\n",
      "✅ File uploaded to @cryptodatasource: TIA_USD_history_20250422003719.parquet\n",
      "🧹 Temp file removed: TIA_USD_history_20250422003719.parquet\n",
      "✅ Upload complete for TIA-USD → @cryptodatasource\n"
     ]
    },
    {
     "name": "stderr",
     "output_type": "stream",
     "text": [
      "[*********************100%***********************]  1 of 1 completed"
     ]
    },
    {
     "name": "stdout",
     "output_type": "stream",
     "text": [
      "🔍 Downloading data for ALGO-USD from Yahoo Finance...\n",
      "✅ Starting upload file process: ALGO_USD_history_20250422003719.parquet → @cryptodatasource\n"
     ]
    },
    {
     "name": "stderr",
     "output_type": "stream",
     "text": [
      "\n"
     ]
    },
    {
     "name": "stdout",
     "output_type": "stream",
     "text": [
      "✅ Connected to database: CRYPTONETWORKANALYSIS\n",
      "✅ File uploaded to @cryptodatasource: ALGO_USD_history_20250422003719.parquet\n",
      "🧹 Temp file removed: ALGO_USD_history_20250422003719.parquet\n",
      "✅ Upload complete for ALGO-USD → @cryptodatasource\n"
     ]
    },
    {
     "name": "stderr",
     "output_type": "stream",
     "text": [
      "[*********************100%***********************]  1 of 1 completed"
     ]
    },
    {
     "name": "stdout",
     "output_type": "stream",
     "text": [
      "🔍 Downloading data for ARB-USD from Yahoo Finance...\n",
      "✅ Starting upload file process: ARB_USD_history_20250422003719.parquet → @cryptodatasource\n"
     ]
    },
    {
     "name": "stderr",
     "output_type": "stream",
     "text": [
      "\n"
     ]
    },
    {
     "name": "stdout",
     "output_type": "stream",
     "text": [
      "✅ Connected to database: CRYPTONETWORKANALYSIS\n",
      "✅ File uploaded to @cryptodatasource: ARB_USD_history_20250422003719.parquet\n",
      "🧹 Temp file removed: ARB_USD_history_20250422003719.parquet\n",
      "✅ Upload complete for ARB-USD → @cryptodatasource\n"
     ]
    },
    {
     "name": "stderr",
     "output_type": "stream",
     "text": [
      "[*********************100%***********************]  1 of 1 completed"
     ]
    },
    {
     "name": "stdout",
     "output_type": "stream",
     "text": [
      "🔍 Downloading data for S-USD from Yahoo Finance...\n",
      "✅ Starting upload file process: S_USD_history_20250422003719.parquet → @cryptodatasource\n"
     ]
    },
    {
     "name": "stderr",
     "output_type": "stream",
     "text": [
      "\n"
     ]
    },
    {
     "name": "stdout",
     "output_type": "stream",
     "text": [
      "✅ Connected to database: CRYPTONETWORKANALYSIS\n",
      "✅ File uploaded to @cryptodatasource: S_USD_history_20250422003719.parquet\n",
      "🧹 Temp file removed: S_USD_history_20250422003719.parquet\n",
      "✅ Upload complete for S-USD → @cryptodatasource\n"
     ]
    },
    {
     "name": "stderr",
     "output_type": "stream",
     "text": [
      "[*********************100%***********************]  1 of 1 completed"
     ]
    },
    {
     "name": "stdout",
     "output_type": "stream",
     "text": [
      "🔍 Downloading data for KCS-USD from Yahoo Finance...\n",
      "✅ Starting upload file process: KCS_USD_history_20250422003719.parquet → @cryptodatasource\n"
     ]
    },
    {
     "name": "stderr",
     "output_type": "stream",
     "text": [
      "\n"
     ]
    },
    {
     "name": "stdout",
     "output_type": "stream",
     "text": [
      "✅ Connected to database: CRYPTONETWORKANALYSIS\n",
      "✅ File uploaded to @cryptodatasource: KCS_USD_history_20250422003719.parquet\n",
      "🧹 Temp file removed: KCS_USD_history_20250422003719.parquet\n",
      "✅ Upload complete for KCS-USD → @cryptodatasource\n"
     ]
    },
    {
     "name": "stderr",
     "output_type": "stream",
     "text": [
      "[*********************100%***********************]  1 of 1 completed"
     ]
    },
    {
     "name": "stdout",
     "output_type": "stream",
     "text": [
      "🔍 Downloading data for DEXE-USD from Yahoo Finance...\n",
      "✅ Starting upload file process: DEXE_USD_history_20250422003719.parquet → @cryptodatasource\n"
     ]
    },
    {
     "name": "stderr",
     "output_type": "stream",
     "text": [
      "\n"
     ]
    },
    {
     "name": "stdout",
     "output_type": "stream",
     "text": [
      "✅ Connected to database: CRYPTONETWORKANALYSIS\n",
      "✅ File uploaded to @cryptodatasource: DEXE_USD_history_20250422003719.parquet\n",
      "🧹 Temp file removed: DEXE_USD_history_20250422003719.parquet\n",
      "✅ Upload complete for DEXE-USD → @cryptodatasource\n"
     ]
    },
    {
     "name": "stderr",
     "output_type": "stream",
     "text": [
      "[*********************100%***********************]  1 of 1 completed"
     ]
    },
    {
     "name": "stdout",
     "output_type": "stream",
     "text": [
      "🔍 Downloading data for EOS-USD from Yahoo Finance...\n",
      "✅ Starting upload file process: EOS_USD_history_20250422003719.parquet → @cryptodatasource\n"
     ]
    },
    {
     "name": "stderr",
     "output_type": "stream",
     "text": [
      "\n"
     ]
    },
    {
     "name": "stdout",
     "output_type": "stream",
     "text": [
      "✅ Connected to database: CRYPTONETWORKANALYSIS\n",
      "✅ File uploaded to @cryptodatasource: EOS_USD_history_20250422003719.parquet\n",
      "🧹 Temp file removed: EOS_USD_history_20250422003719.parquet\n",
      "✅ Upload complete for EOS-USD → @cryptodatasource\n"
     ]
    },
    {
     "name": "stderr",
     "output_type": "stream",
     "text": [
      "[*********************100%***********************]  1 of 1 completed"
     ]
    },
    {
     "name": "stdout",
     "output_type": "stream",
     "text": [
      "🔍 Downloading data for OP-USD from Yahoo Finance...\n",
      "✅ Starting upload file process: OP_USD_history_20250422003719.parquet → @cryptodatasource\n"
     ]
    },
    {
     "name": "stderr",
     "output_type": "stream",
     "text": [
      "\n"
     ]
    },
    {
     "name": "stdout",
     "output_type": "stream",
     "text": [
      "✅ Connected to database: CRYPTONETWORKANALYSIS\n",
      "✅ File uploaded to @cryptodatasource: OP_USD_history_20250422003719.parquet\n",
      "🧹 Temp file removed: OP_USD_history_20250422003719.parquet\n",
      "✅ Upload complete for OP-USD → @cryptodatasource\n"
     ]
    },
    {
     "name": "stderr",
     "output_type": "stream",
     "text": [
      "[*********************100%***********************]  1 of 1 completed"
     ]
    },
    {
     "name": "stdout",
     "output_type": "stream",
     "text": [
      "🔍 Downloading data for JUP-USD from Yahoo Finance...\n"
     ]
    },
    {
     "name": "stderr",
     "output_type": "stream",
     "text": [
      "\n"
     ]
    },
    {
     "name": "stdout",
     "output_type": "stream",
     "text": [
      "✅ Starting upload file process: JUP_USD_history_20250422003719.parquet → @cryptodatasource\n",
      "✅ Connected to database: CRYPTONETWORKANALYSIS\n",
      "✅ File uploaded to @cryptodatasource: JUP_USD_history_20250422003719.parquet\n",
      "🧹 Temp file removed: JUP_USD_history_20250422003719.parquet\n",
      "✅ Upload complete for JUP-USD → @cryptodatasource\n"
     ]
    },
    {
     "name": "stderr",
     "output_type": "stream",
     "text": [
      "[*********************100%***********************]  1 of 1 completed"
     ]
    },
    {
     "name": "stdout",
     "output_type": "stream",
     "text": [
      "🔍 Downloading data for MKR-USD from Yahoo Finance...\n"
     ]
    },
    {
     "name": "stderr",
     "output_type": "stream",
     "text": [
      "\n"
     ]
    },
    {
     "name": "stdout",
     "output_type": "stream",
     "text": [
      "✅ Starting upload file process: MKR_USD_history_20250422003719.parquet → @cryptodatasource\n",
      "✅ Connected to database: CRYPTONETWORKANALYSIS\n",
      "✅ File uploaded to @cryptodatasource: MKR_USD_history_20250422003719.parquet\n",
      "🧹 Temp file removed: MKR_USD_history_20250422003719.parquet\n",
      "✅ Upload complete for MKR-USD → @cryptodatasource\n",
      "🔍 Downloading data for XDC-USD from Yahoo Finance...\n"
     ]
    },
    {
     "name": "stderr",
     "output_type": "stream",
     "text": [
      "[*********************100%***********************]  1 of 1 completed\n"
     ]
    },
    {
     "name": "stdout",
     "output_type": "stream",
     "text": [
      "✅ Starting upload file process: XDC_USD_history_20250422003719.parquet → @cryptodatasource\n",
      "✅ Connected to database: CRYPTONETWORKANALYSIS\n",
      "✅ File uploaded to @cryptodatasource: XDC_USD_history_20250422003719.parquet\n",
      "🧹 Temp file removed: XDC_USD_history_20250422003719.parquet\n",
      "✅ Upload complete for XDC-USD → @cryptodatasource\n"
     ]
    },
    {
     "name": "stderr",
     "output_type": "stream",
     "text": [
      "[*********************100%***********************]  1 of 1 completed"
     ]
    },
    {
     "name": "stdout",
     "output_type": "stream",
     "text": [
      "🔍 Downloading data for IP-USD from Yahoo Finance...\n",
      "✅ Starting upload file process: IP_USD_history_20250422003719.parquet → @cryptodatasource\n"
     ]
    },
    {
     "name": "stderr",
     "output_type": "stream",
     "text": [
      "\n"
     ]
    },
    {
     "name": "stdout",
     "output_type": "stream",
     "text": [
      "✅ Connected to database: CRYPTONETWORKANALYSIS\n",
      "✅ File uploaded to @cryptodatasource: IP_USD_history_20250422003719.parquet\n",
      "🧹 Temp file removed: IP_USD_history_20250422003719.parquet\n",
      "✅ Upload complete for IP-USD → @cryptodatasource\n",
      "🔍 Downloading data for FET-USD from Yahoo Finance...\n"
     ]
    },
    {
     "name": "stderr",
     "output_type": "stream",
     "text": [
      "[*********************100%***********************]  1 of 1 completed\n"
     ]
    },
    {
     "name": "stdout",
     "output_type": "stream",
     "text": [
      "✅ Starting upload file process: FET_USD_history_20250422003719.parquet → @cryptodatasource\n",
      "✅ Connected to database: CRYPTONETWORKANALYSIS\n",
      "✅ File uploaded to @cryptodatasource: FET_USD_history_20250422003719.parquet\n",
      "🧹 Temp file removed: FET_USD_history_20250422003719.parquet\n",
      "✅ Upload complete for FET-USD → @cryptodatasource\n"
     ]
    },
    {
     "name": "stderr",
     "output_type": "stream",
     "text": [
      "[*********************100%***********************]  1 of 1 completed"
     ]
    },
    {
     "name": "stdout",
     "output_type": "stream",
     "text": [
      "🔍 Downloading data for WLD-USD from Yahoo Finance...\n",
      "✅ Starting upload file process: WLD_USD_history_20250422003719.parquet → @cryptodatasource\n"
     ]
    },
    {
     "name": "stderr",
     "output_type": "stream",
     "text": [
      "\n"
     ]
    },
    {
     "name": "stdout",
     "output_type": "stream",
     "text": [
      "✅ Connected to database: CRYPTONETWORKANALYSIS\n",
      "✅ File uploaded to @cryptodatasource: WLD_USD_history_20250422003719.parquet\n",
      "🧹 Temp file removed: WLD_USD_history_20250422003719.parquet\n",
      "✅ Upload complete for WLD-USD → @cryptodatasource\n"
     ]
    },
    {
     "name": "stderr",
     "output_type": "stream",
     "text": [
      "[*********************100%***********************]  1 of 1 completed"
     ]
    },
    {
     "name": "stdout",
     "output_type": "stream",
     "text": [
      "🔍 Downloading data for MOVE-USD from Yahoo Finance...\n",
      "✅ Starting upload file process: MOVE_USD_history_20250422003719.parquet → @cryptodatasource\n"
     ]
    },
    {
     "name": "stderr",
     "output_type": "stream",
     "text": [
      "\n"
     ]
    },
    {
     "name": "stdout",
     "output_type": "stream",
     "text": [
      "✅ Connected to database: CRYPTONETWORKANALYSIS\n",
      "✅ File uploaded to @cryptodatasource: MOVE_USD_history_20250422003719.parquet\n",
      "🧹 Temp file removed: MOVE_USD_history_20250422003719.parquet\n",
      "✅ Upload complete for MOVE-USD → @cryptodatasource\n",
      "🔍 Downloading data for STX-USD from Yahoo Finance...\n"
     ]
    },
    {
     "name": "stderr",
     "output_type": "stream",
     "text": [
      "[*********************100%***********************]  1 of 1 completed\n"
     ]
    },
    {
     "name": "stdout",
     "output_type": "stream",
     "text": [
      "✅ Starting upload file process: STX_USD_history_20250422003719.parquet → @cryptodatasource\n",
      "✅ Connected to database: CRYPTONETWORKANALYSIS\n",
      "✅ File uploaded to @cryptodatasource: STX_USD_history_20250422003719.parquet\n",
      "🧹 Temp file removed: STX_USD_history_20250422003719.parquet\n",
      "✅ Upload complete for STX-USD → @cryptodatasource\n"
     ]
    },
    {
     "name": "stderr",
     "output_type": "stream",
     "text": [
      "[*********************100%***********************]  1 of 1 completed"
     ]
    },
    {
     "name": "stdout",
     "output_type": "stream",
     "text": [
      "🔍 Downloading data for BONK-USD from Yahoo Finance...\n",
      "✅ Starting upload file process: BONK_USD_history_20250422003719.parquet → @cryptodatasource\n"
     ]
    },
    {
     "name": "stderr",
     "output_type": "stream",
     "text": [
      "\n"
     ]
    },
    {
     "name": "stdout",
     "output_type": "stream",
     "text": [
      "✅ Connected to database: CRYPTONETWORKANALYSIS\n",
      "✅ File uploaded to @cryptodatasource: BONK_USD_history_20250422003719.parquet\n",
      "🧹 Temp file removed: BONK_USD_history_20250422003719.parquet\n",
      "✅ Upload complete for BONK-USD → @cryptodatasource\n",
      "🔍 Downloading data for INJ-USD from Yahoo Finance...\n"
     ]
    },
    {
     "name": "stderr",
     "output_type": "stream",
     "text": [
      "[*********************100%***********************]  1 of 1 completed\n"
     ]
    },
    {
     "name": "stdout",
     "output_type": "stream",
     "text": [
      "✅ Starting upload file process: INJ_USD_history_20250422003719.parquet → @cryptodatasource\n",
      "✅ Connected to database: CRYPTONETWORKANALYSIS\n",
      "✅ File uploaded to @cryptodatasource: INJ_USD_history_20250422003719.parquet\n",
      "🧹 Temp file removed: INJ_USD_history_20250422003719.parquet\n",
      "✅ Upload complete for INJ-USD → @cryptodatasource\n"
     ]
    },
    {
     "name": "stderr",
     "output_type": "stream",
     "text": [
      "[*********************100%***********************]  1 of 1 completed"
     ]
    },
    {
     "name": "stdout",
     "output_type": "stream",
     "text": [
      "🔍 Downloading data for FORM-USD from Yahoo Finance...\n",
      "✅ Starting upload file process: FORM_USD_history_20250422003719.parquet → @cryptodatasource\n"
     ]
    },
    {
     "name": "stderr",
     "output_type": "stream",
     "text": [
      "\n"
     ]
    },
    {
     "name": "stdout",
     "output_type": "stream",
     "text": [
      "✅ Connected to database: CRYPTONETWORKANALYSIS\n",
      "✅ File uploaded to @cryptodatasource: FORM_USD_history_20250422003719.parquet\n",
      "🧹 Temp file removed: FORM_USD_history_20250422003719.parquet\n",
      "✅ Upload complete for FORM-USD → @cryptodatasource\n"
     ]
    },
    {
     "name": "stderr",
     "output_type": "stream",
     "text": [
      "[*********************100%***********************]  1 of 1 completed"
     ]
    },
    {
     "name": "stdout",
     "output_type": "stream",
     "text": [
      "🔍 Downloading data for QNT-USD from Yahoo Finance...\n",
      "✅ Starting upload file process: QNT_USD_history_20250422003719.parquet → @cryptodatasource\n"
     ]
    },
    {
     "name": "stderr",
     "output_type": "stream",
     "text": [
      "\n"
     ]
    },
    {
     "name": "stdout",
     "output_type": "stream",
     "text": [
      "✅ Connected to database: CRYPTONETWORKANALYSIS\n",
      "✅ File uploaded to @cryptodatasource: QNT_USD_history_20250422003719.parquet\n",
      "🧹 Temp file removed: QNT_USD_history_20250422003719.parquet\n",
      "✅ Upload complete for QNT-USD → @cryptodatasource\n"
     ]
    },
    {
     "name": "stderr",
     "output_type": "stream",
     "text": [
      "[*********************100%***********************]  1 of 1 completed"
     ]
    },
    {
     "name": "stdout",
     "output_type": "stream",
     "text": [
      "🔍 Downloading data for FLR-USD from Yahoo Finance...\n",
      "✅ Starting upload file process: FLR_USD_history_20250422003719.parquet → @cryptodatasource\n"
     ]
    },
    {
     "name": "stderr",
     "output_type": "stream",
     "text": [
      "\n"
     ]
    },
    {
     "name": "stdout",
     "output_type": "stream",
     "text": [
      "✅ Connected to database: CRYPTONETWORKANALYSIS\n",
      "✅ File uploaded to @cryptodatasource: FLR_USD_history_20250422003719.parquet\n",
      "🧹 Temp file removed: FLR_USD_history_20250422003719.parquet\n",
      "✅ Upload complete for FLR-USD → @cryptodatasource\n"
     ]
    },
    {
     "name": "stderr",
     "output_type": "stream",
     "text": [
      "[*********************100%***********************]  1 of 1 completed"
     ]
    },
    {
     "name": "stdout",
     "output_type": "stream",
     "text": [
      "🔍 Downloading data for GRT-USD from Yahoo Finance...\n",
      "✅ Starting upload file process: GRT_USD_history_20250422003719.parquet → @cryptodatasource\n"
     ]
    },
    {
     "name": "stderr",
     "output_type": "stream",
     "text": [
      "\n"
     ]
    },
    {
     "name": "stdout",
     "output_type": "stream",
     "text": [
      "✅ Connected to database: CRYPTONETWORKANALYSIS\n",
      "✅ File uploaded to @cryptodatasource: GRT_USD_history_20250422003719.parquet\n",
      "🧹 Temp file removed: GRT_USD_history_20250422003719.parquet\n",
      "✅ Upload complete for GRT-USD → @cryptodatasource\n"
     ]
    },
    {
     "name": "stderr",
     "output_type": "stream",
     "text": [
      "[*********************100%***********************]  1 of 1 completed"
     ]
    },
    {
     "name": "stdout",
     "output_type": "stream",
     "text": [
      "🔍 Downloading data for SEI-USD from Yahoo Finance...\n",
      "✅ Starting upload file process: SEI_USD_history_20250422003719.parquet → @cryptodatasource\n"
     ]
    },
    {
     "name": "stderr",
     "output_type": "stream",
     "text": [
      "\n"
     ]
    },
    {
     "name": "stdout",
     "output_type": "stream",
     "text": [
      "✅ Connected to database: CRYPTONETWORKANALYSIS\n",
      "✅ File uploaded to @cryptodatasource: SEI_USD_history_20250422003719.parquet\n",
      "🧹 Temp file removed: SEI_USD_history_20250422003719.parquet\n",
      "✅ Upload complete for SEI-USD → @cryptodatasource\n"
     ]
    },
    {
     "name": "stderr",
     "output_type": "stream",
     "text": [
      "[*********************100%***********************]  1 of 1 completed"
     ]
    },
    {
     "name": "stdout",
     "output_type": "stream",
     "text": [
      "🔍 Downloading data for IMX-USD from Yahoo Finance...\n",
      "✅ Starting upload file process: IMX_USD_history_20250422003719.parquet → @cryptodatasource\n"
     ]
    },
    {
     "name": "stderr",
     "output_type": "stream",
     "text": [
      "\n"
     ]
    },
    {
     "name": "stdout",
     "output_type": "stream",
     "text": [
      "✅ Connected to database: CRYPTONETWORKANALYSIS\n",
      "✅ File uploaded to @cryptodatasource: IMX_USD_history_20250422003719.parquet\n",
      "🧹 Temp file removed: IMX_USD_history_20250422003719.parquet\n",
      "✅ Upload complete for IMX-USD → @cryptodatasource\n",
      "🔍 Downloading data for THETA-USD from Yahoo Finance...\n"
     ]
    },
    {
     "name": "stderr",
     "output_type": "stream",
     "text": [
      "[*********************100%***********************]  1 of 1 completed\n"
     ]
    },
    {
     "name": "stdout",
     "output_type": "stream",
     "text": [
      "✅ Starting upload file process: THETA_USD_history_20250422003719.parquet → @cryptodatasource\n",
      "✅ Connected to database: CRYPTONETWORKANALYSIS\n",
      "✅ File uploaded to @cryptodatasource: THETA_USD_history_20250422003719.parquet\n",
      "🧹 Temp file removed: THETA_USD_history_20250422003719.parquet\n",
      "✅ Upload complete for THETA-USD → @cryptodatasource\n"
     ]
    },
    {
     "name": "stderr",
     "output_type": "stream",
     "text": [
      "[*********************100%***********************]  1 of 1 completed"
     ]
    },
    {
     "name": "stdout",
     "output_type": "stream",
     "text": [
      "🔍 Downloading data for LDO-USD from Yahoo Finance...\n",
      "✅ Starting upload file process: LDO_USD_history_20250422003719.parquet → @cryptodatasource\n"
     ]
    },
    {
     "name": "stderr",
     "output_type": "stream",
     "text": [
      "\n"
     ]
    },
    {
     "name": "stdout",
     "output_type": "stream",
     "text": [
      "✅ Connected to database: CRYPTONETWORKANALYSIS\n",
      "✅ File uploaded to @cryptodatasource: LDO_USD_history_20250422003719.parquet\n",
      "🧹 Temp file removed: LDO_USD_history_20250422003719.parquet\n",
      "✅ Upload complete for LDO-USD → @cryptodatasource\n"
     ]
    },
    {
     "name": "stderr",
     "output_type": "stream",
     "text": [
      "[*********************100%***********************]  1 of 1 completed"
     ]
    },
    {
     "name": "stdout",
     "output_type": "stream",
     "text": [
      "🔍 Downloading data for XAUt-USD from Yahoo Finance...\n",
      "✅ Starting upload file process: XAUt_USD_history_20250422003719.parquet → @cryptodatasource\n"
     ]
    },
    {
     "name": "stderr",
     "output_type": "stream",
     "text": [
      "\n"
     ]
    },
    {
     "name": "stdout",
     "output_type": "stream",
     "text": [
      "✅ Connected to database: CRYPTONETWORKANALYSIS\n",
      "✅ File uploaded to @cryptodatasource: XAUt_USD_history_20250422003719.parquet\n",
      "🧹 Temp file removed: XAUt_USD_history_20250422003719.parquet\n",
      "✅ Upload complete for XAUt-USD → @cryptodatasource\n"
     ]
    },
    {
     "name": "stderr",
     "output_type": "stream",
     "text": [
      "[*********************100%***********************]  1 of 1 completed"
     ]
    },
    {
     "name": "stdout",
     "output_type": "stream",
     "text": [
      "🔍 Downloading data for PYUSD-USD from Yahoo Finance...\n",
      "✅ Starting upload file process: PYUSD_USD_history_20250422003719.parquet → @cryptodatasource\n"
     ]
    },
    {
     "name": "stderr",
     "output_type": "stream",
     "text": [
      "\n"
     ]
    },
    {
     "name": "stdout",
     "output_type": "stream",
     "text": [
      "✅ Connected to database: CRYPTONETWORKANALYSIS\n",
      "✅ File uploaded to @cryptodatasource: PYUSD_USD_history_20250422003719.parquet\n",
      "🧹 Temp file removed: PYUSD_USD_history_20250422003719.parquet\n",
      "✅ Upload complete for PYUSD-USD → @cryptodatasource\n"
     ]
    },
    {
     "name": "stderr",
     "output_type": "stream",
     "text": [
      "[*********************100%***********************]  1 of 1 completed"
     ]
    },
    {
     "name": "stdout",
     "output_type": "stream",
     "text": [
      "🔍 Downloading data for NEXO-USD from Yahoo Finance...\n",
      "✅ Starting upload file process: NEXO_USD_history_20250422003719.parquet → @cryptodatasource\n"
     ]
    },
    {
     "name": "stderr",
     "output_type": "stream",
     "text": [
      "\n"
     ]
    },
    {
     "name": "stdout",
     "output_type": "stream",
     "text": [
      "✅ Connected to database: CRYPTONETWORKANALYSIS\n",
      "✅ File uploaded to @cryptodatasource: NEXO_USD_history_20250422003719.parquet\n",
      "🧹 Temp file removed: NEXO_USD_history_20250422003719.parquet\n",
      "✅ Upload complete for NEXO-USD → @cryptodatasource\n",
      "🔍 Downloading data for XTZ-USD from Yahoo Finance...\n"
     ]
    },
    {
     "name": "stderr",
     "output_type": "stream",
     "text": [
      "[*********************100%***********************]  1 of 1 completed\n"
     ]
    },
    {
     "name": "stdout",
     "output_type": "stream",
     "text": [
      "✅ Starting upload file process: XTZ_USD_history_20250422003719.parquet → @cryptodatasource\n",
      "✅ Connected to database: CRYPTONETWORKANALYSIS\n",
      "✅ File uploaded to @cryptodatasource: XTZ_USD_history_20250422003719.parquet\n",
      "🧹 Temp file removed: XTZ_USD_history_20250422003719.parquet\n",
      "✅ Upload complete for XTZ-USD → @cryptodatasource\n",
      "🔍 Downloading data for PAXG-USD from Yahoo Finance...\n"
     ]
    },
    {
     "name": "stderr",
     "output_type": "stream",
     "text": [
      "[*********************100%***********************]  1 of 1 completed\n"
     ]
    },
    {
     "name": "stdout",
     "output_type": "stream",
     "text": [
      "✅ Starting upload file process: PAXG_USD_history_20250422003719.parquet → @cryptodatasource\n",
      "✅ Connected to database: CRYPTONETWORKANALYSIS\n",
      "✅ File uploaded to @cryptodatasource: PAXG_USD_history_20250422003719.parquet\n",
      "🧹 Temp file removed: PAXG_USD_history_20250422003719.parquet\n",
      "✅ Upload complete for PAXG-USD → @cryptodatasource\n"
     ]
    },
    {
     "name": "stderr",
     "output_type": "stream",
     "text": [
      "[*********************100%***********************]  1 of 1 completed"
     ]
    },
    {
     "name": "stdout",
     "output_type": "stream",
     "text": [
      "🔍 Downloading data for KAIA-USD from Yahoo Finance...\n",
      "✅ Starting upload file process: KAIA_USD_history_20250422003719.parquet → @cryptodatasource\n"
     ]
    },
    {
     "name": "stderr",
     "output_type": "stream",
     "text": [
      "\n"
     ]
    },
    {
     "name": "stdout",
     "output_type": "stream",
     "text": [
      "✅ Connected to database: CRYPTONETWORKANALYSIS\n",
      "✅ File uploaded to @cryptodatasource: KAIA_USD_history_20250422003719.parquet\n",
      "🧹 Temp file removed: KAIA_USD_history_20250422003719.parquet\n",
      "✅ Upload complete for KAIA-USD → @cryptodatasource\n"
     ]
    },
    {
     "name": "stderr",
     "output_type": "stream",
     "text": [
      "[*********************100%***********************]  1 of 1 completed"
     ]
    },
    {
     "name": "stdout",
     "output_type": "stream",
     "text": [
      "🔍 Downloading data for GALA-USD from Yahoo Finance...\n",
      "✅ Starting upload file process: GALA_USD_history_20250422003719.parquet → @cryptodatasource\n"
     ]
    },
    {
     "name": "stderr",
     "output_type": "stream",
     "text": [
      "\n"
     ]
    },
    {
     "name": "stdout",
     "output_type": "stream",
     "text": [
      "✅ Connected to database: CRYPTONETWORKANALYSIS\n",
      "✅ File uploaded to @cryptodatasource: GALA_USD_history_20250422003719.parquet\n",
      "🧹 Temp file removed: GALA_USD_history_20250422003719.parquet\n",
      "✅ Upload complete for GALA-USD → @cryptodatasource\n",
      "🔍 Downloading data for SAND-USD from Yahoo Finance...\n"
     ]
    },
    {
     "name": "stderr",
     "output_type": "stream",
     "text": [
      "[*********************100%***********************]  1 of 1 completed\n"
     ]
    },
    {
     "name": "stdout",
     "output_type": "stream",
     "text": [
      "✅ Starting upload file process: SAND_USD_history_20250422003719.parquet → @cryptodatasource\n",
      "✅ Connected to database: CRYPTONETWORKANALYSIS\n",
      "✅ File uploaded to @cryptodatasource: SAND_USD_history_20250422003719.parquet\n",
      "🧹 Temp file removed: SAND_USD_history_20250422003719.parquet\n",
      "✅ Upload complete for SAND-USD → @cryptodatasource\n"
     ]
    },
    {
     "name": "stderr",
     "output_type": "stream",
     "text": [
      "[*********************100%***********************]  1 of 1 completed"
     ]
    },
    {
     "name": "stdout",
     "output_type": "stream",
     "text": [
      "🔍 Downloading data for CRV-USD from Yahoo Finance...\n",
      "✅ Starting upload file process: CRV_USD_history_20250422003719.parquet → @cryptodatasource\n"
     ]
    },
    {
     "name": "stderr",
     "output_type": "stream",
     "text": [
      "\n"
     ]
    },
    {
     "name": "stdout",
     "output_type": "stream",
     "text": [
      "✅ Connected to database: CRYPTONETWORKANALYSIS\n",
      "✅ File uploaded to @cryptodatasource: CRV_USD_history_20250422003719.parquet\n",
      "🧹 Temp file removed: CRV_USD_history_20250422003719.parquet\n",
      "✅ Upload complete for CRV-USD → @cryptodatasource\n",
      "🔍 Downloading data for ZEC-USD from Yahoo Finance...\n"
     ]
    },
    {
     "name": "stderr",
     "output_type": "stream",
     "text": [
      "[*********************100%***********************]  1 of 1 completed\n"
     ]
    },
    {
     "name": "stdout",
     "output_type": "stream",
     "text": [
      "✅ Starting upload file process: ZEC_USD_history_20250422003719.parquet → @cryptodatasource\n",
      "✅ Connected to database: CRYPTONETWORKANALYSIS\n",
      "✅ File uploaded to @cryptodatasource: ZEC_USD_history_20250422003719.parquet\n",
      "🧹 Temp file removed: ZEC_USD_history_20250422003719.parquet\n",
      "✅ Upload complete for ZEC-USD → @cryptodatasource\n"
     ]
    },
    {
     "name": "stderr",
     "output_type": "stream",
     "text": [
      "[*********************100%***********************]  1 of 1 completed"
     ]
    },
    {
     "name": "stdout",
     "output_type": "stream",
     "text": [
      "🔍 Downloading data for BERA-USD from Yahoo Finance...\n",
      "✅ Starting upload file process: BERA_USD_history_20250422003719.parquet → @cryptodatasource\n"
     ]
    },
    {
     "name": "stderr",
     "output_type": "stream",
     "text": [
      "\n"
     ]
    },
    {
     "name": "stdout",
     "output_type": "stream",
     "text": [
      "✅ Connected to database: CRYPTONETWORKANALYSIS\n",
      "✅ File uploaded to @cryptodatasource: BERA_USD_history_20250422003719.parquet\n",
      "🧹 Temp file removed: BERA_USD_history_20250422003719.parquet\n",
      "✅ Upload complete for BERA-USD → @cryptodatasource\n"
     ]
    },
    {
     "name": "stderr",
     "output_type": "stream",
     "text": [
      "[*********************100%***********************]  1 of 1 completed"
     ]
    },
    {
     "name": "stdout",
     "output_type": "stream",
     "text": [
      "🔍 Downloading data for BTT-USD from Yahoo Finance...\n",
      "✅ Starting upload file process: BTT_USD_history_20250422003719.parquet → @cryptodatasource\n"
     ]
    },
    {
     "name": "stderr",
     "output_type": "stream",
     "text": [
      "\n"
     ]
    },
    {
     "name": "stdout",
     "output_type": "stream",
     "text": [
      "✅ Connected to database: CRYPTONETWORKANALYSIS\n",
      "✅ File uploaded to @cryptodatasource: BTT_USD_history_20250422003719.parquet\n",
      "🧹 Temp file removed: BTT_USD_history_20250422003719.parquet\n",
      "✅ Upload complete for BTT-USD → @cryptodatasource\n"
     ]
    },
    {
     "name": "stderr",
     "output_type": "stream",
     "text": [
      "[*********************100%***********************]  1 of 1 completed"
     ]
    },
    {
     "name": "stdout",
     "output_type": "stream",
     "text": [
      "🔍 Downloading data for IOTA-USD from Yahoo Finance...\n"
     ]
    },
    {
     "name": "stderr",
     "output_type": "stream",
     "text": [
      "\n"
     ]
    },
    {
     "name": "stdout",
     "output_type": "stream",
     "text": [
      "✅ Starting upload file process: IOTA_USD_history_20250422003719.parquet → @cryptodatasource\n",
      "✅ Connected to database: CRYPTONETWORKANALYSIS\n",
      "✅ File uploaded to @cryptodatasource: IOTA_USD_history_20250422003719.parquet\n",
      "🧹 Temp file removed: IOTA_USD_history_20250422003719.parquet\n",
      "✅ Upload complete for IOTA-USD → @cryptodatasource\n",
      "🔍 Downloading data for BSV-USD from Yahoo Finance...\n"
     ]
    },
    {
     "name": "stderr",
     "output_type": "stream",
     "text": [
      "[*********************100%***********************]  1 of 1 completed\n"
     ]
    },
    {
     "name": "stdout",
     "output_type": "stream",
     "text": [
      "✅ Starting upload file process: BSV_USD_history_20250422003719.parquet → @cryptodatasource\n",
      "✅ Connected to database: CRYPTONETWORKANALYSIS\n",
      "✅ File uploaded to @cryptodatasource: BSV_USD_history_20250422003719.parquet\n",
      "🧹 Temp file removed: BSV_USD_history_20250422003719.parquet\n",
      "✅ Upload complete for BSV-USD → @cryptodatasource\n"
     ]
    },
    {
     "name": "stderr",
     "output_type": "stream",
     "text": [
      "[*********************100%***********************]  1 of 1 completed"
     ]
    },
    {
     "name": "stdout",
     "output_type": "stream",
     "text": [
      "🔍 Downloading data for FLOW-USD from Yahoo Finance...\n",
      "✅ Starting upload file process: FLOW_USD_history_20250422003719.parquet → @cryptodatasource\n"
     ]
    },
    {
     "name": "stderr",
     "output_type": "stream",
     "text": [
      "\n"
     ]
    },
    {
     "name": "stdout",
     "output_type": "stream",
     "text": [
      "✅ Connected to database: CRYPTONETWORKANALYSIS\n",
      "✅ File uploaded to @cryptodatasource: FLOW_USD_history_20250422003719.parquet\n",
      "🧹 Temp file removed: FLOW_USD_history_20250422003719.parquet\n",
      "✅ Upload complete for FLOW-USD → @cryptodatasource\n"
     ]
    },
    {
     "name": "stderr",
     "output_type": "stream",
     "text": [
      "[*********************100%***********************]  1 of 1 completed"
     ]
    },
    {
     "name": "stdout",
     "output_type": "stream",
     "text": [
      "🔍 Downloading data for JTO-USD from Yahoo Finance...\n",
      "✅ Starting upload file process: JTO_USD_history_20250422003719.parquet → @cryptodatasource\n"
     ]
    },
    {
     "name": "stderr",
     "output_type": "stream",
     "text": [
      "\n"
     ]
    },
    {
     "name": "stdout",
     "output_type": "stream",
     "text": [
      "✅ Connected to database: CRYPTONETWORKANALYSIS\n",
      "✅ File uploaded to @cryptodatasource: JTO_USD_history_20250422003719.parquet\n",
      "🧹 Temp file removed: JTO_USD_history_20250422003719.parquet\n",
      "✅ Upload complete for JTO-USD → @cryptodatasource\n"
     ]
    },
    {
     "name": "stderr",
     "output_type": "stream",
     "text": [
      "[*********************100%***********************]  1 of 1 completed"
     ]
    },
    {
     "name": "stdout",
     "output_type": "stream",
     "text": [
      "🔍 Downloading data for FLOKI-USD from Yahoo Finance...\n",
      "✅ Starting upload file process: FLOKI_USD_history_20250422003719.parquet → @cryptodatasource\n"
     ]
    },
    {
     "name": "stderr",
     "output_type": "stream",
     "text": [
      "\n"
     ]
    },
    {
     "name": "stdout",
     "output_type": "stream",
     "text": [
      "✅ Connected to database: CRYPTONETWORKANALYSIS\n",
      "✅ File uploaded to @cryptodatasource: FLOKI_USD_history_20250422003719.parquet\n",
      "🧹 Temp file removed: FLOKI_USD_history_20250422003719.parquet\n",
      "✅ Upload complete for FLOKI-USD → @cryptodatasource\n"
     ]
    },
    {
     "name": "stderr",
     "output_type": "stream",
     "text": [
      "[*********************100%***********************]  1 of 1 completed"
     ]
    },
    {
     "name": "stdout",
     "output_type": "stream",
     "text": [
      "🔍 Downloading data for RAY-USD from Yahoo Finance...\n",
      "✅ Starting upload file process: RAY_USD_history_20250422003719.parquet → @cryptodatasource\n"
     ]
    },
    {
     "name": "stderr",
     "output_type": "stream",
     "text": [
      "\n"
     ]
    },
    {
     "name": "stdout",
     "output_type": "stream",
     "text": [
      "✅ Connected to database: CRYPTONETWORKANALYSIS\n",
      "✅ File uploaded to @cryptodatasource: RAY_USD_history_20250422003719.parquet\n",
      "🧹 Temp file removed: RAY_USD_history_20250422003719.parquet\n",
      "✅ Upload complete for RAY-USD → @cryptodatasource\n",
      "🔍 Downloading data for ^VIX from Yahoo Finance...\n"
     ]
    },
    {
     "name": "stderr",
     "output_type": "stream",
     "text": [
      "[*********************100%***********************]  1 of 1 completed\n"
     ]
    },
    {
     "name": "stdout",
     "output_type": "stream",
     "text": [
      "✅ Starting upload file process: VIX_history_20250422003719.parquet → @cryptodatasource\n",
      "✅ Connected to database: CRYPTONETWORKANALYSIS\n",
      "✅ File uploaded to @cryptodatasource: VIX_history_20250422003719.parquet\n",
      "🧹 Temp file removed: VIX_history_20250422003719.parquet\n",
      "✅ Upload complete for ^VIX → @cryptodatasource\n"
     ]
    },
    {
     "name": "stderr",
     "output_type": "stream",
     "text": [
      "[*********************100%***********************]  1 of 1 completed"
     ]
    },
    {
     "name": "stdout",
     "output_type": "stream",
     "text": [
      "🔍 Downloading data for ^NDX from Yahoo Finance...\n",
      "✅ Starting upload file process: NDX_history_20250422003719.parquet → @cryptodatasource\n"
     ]
    },
    {
     "name": "stderr",
     "output_type": "stream",
     "text": [
      "\n"
     ]
    },
    {
     "name": "stdout",
     "output_type": "stream",
     "text": [
      "✅ Connected to database: CRYPTONETWORKANALYSIS\n",
      "✅ File uploaded to @cryptodatasource: NDX_history_20250422003719.parquet\n",
      "🧹 Temp file removed: NDX_history_20250422003719.parquet\n",
      "✅ Upload complete for ^NDX → @cryptodatasource\n",
      "🔍 Downloading data for ^GSPC from Yahoo Finance...\n"
     ]
    },
    {
     "name": "stderr",
     "output_type": "stream",
     "text": [
      "[*********************100%***********************]  1 of 1 completed\n"
     ]
    },
    {
     "name": "stdout",
     "output_type": "stream",
     "text": [
      "✅ Starting upload file process: GSPC_history_20250422003719.parquet → @cryptodatasource\n",
      "✅ Connected to database: CRYPTONETWORKANALYSIS\n",
      "✅ File uploaded to @cryptodatasource: GSPC_history_20250422003719.parquet\n",
      "🧹 Temp file removed: GSPC_history_20250422003719.parquet\n",
      "✅ Upload complete for ^GSPC → @cryptodatasource\n"
     ]
    },
    {
     "name": "stderr",
     "output_type": "stream",
     "text": [
      "[*********************100%***********************]  1 of 1 completed"
     ]
    },
    {
     "name": "stdout",
     "output_type": "stream",
     "text": [
      "🔍 Downloading data for GC=F from Yahoo Finance...\n",
      "✅ Starting upload file process: GC=F_history_20250422003719.parquet → @cryptodatasource\n"
     ]
    },
    {
     "name": "stderr",
     "output_type": "stream",
     "text": [
      "\n"
     ]
    },
    {
     "name": "stdout",
     "output_type": "stream",
     "text": [
      "✅ Connected to database: CRYPTONETWORKANALYSIS\n",
      "✅ File uploaded to @cryptodatasource: GC=F_history_20250422003719.parquet\n",
      "🧹 Temp file removed: GC=F_history_20250422003719.parquet\n",
      "✅ Upload complete for GC=F → @cryptodatasource\n"
     ]
    },
    {
     "name": "stderr",
     "output_type": "stream",
     "text": [
      "[*********************100%***********************]  1 of 1 completed"
     ]
    },
    {
     "name": "stdout",
     "output_type": "stream",
     "text": [
      "🔍 Downloading data for SI=F from Yahoo Finance...\n",
      "✅ Starting upload file process: SI=F_history_20250422003719.parquet → @cryptodatasource\n"
     ]
    },
    {
     "name": "stderr",
     "output_type": "stream",
     "text": [
      "\n"
     ]
    },
    {
     "name": "stdout",
     "output_type": "stream",
     "text": [
      "✅ Connected to database: CRYPTONETWORKANALYSIS\n",
      "✅ File uploaded to @cryptodatasource: SI=F_history_20250422003719.parquet\n",
      "🧹 Temp file removed: SI=F_history_20250422003719.parquet\n",
      "✅ Upload complete for SI=F → @cryptodatasource\n"
     ]
    },
    {
     "name": "stderr",
     "output_type": "stream",
     "text": [
      "[*********************100%***********************]  1 of 1 completed"
     ]
    },
    {
     "name": "stdout",
     "output_type": "stream",
     "text": [
      "🔍 Downloading data for BTC-INR from Yahoo Finance...\n",
      "🌐 Downloading FX rate: INR=X for conversion to USD...\n"
     ]
    },
    {
     "name": "stderr",
     "output_type": "stream",
     "text": [
      "\n",
      "[*********************100%***********************]  1 of 1 completed\n"
     ]
    },
    {
     "name": "stdout",
     "output_type": "stream",
     "text": [
      "💱 Converted BTC-INR OHLC data to USD using INR=X\n",
      "✅ Starting upload file process: BTC_INR_history_20250422003719.parquet → @cryptodatasource\n",
      "✅ Connected to database: CRYPTONETWORKANALYSIS\n",
      "✅ File uploaded to @cryptodatasource: BTC_INR_history_20250422003719.parquet\n",
      "🧹 Temp file removed: BTC_INR_history_20250422003719.parquet\n",
      "✅ Upload complete for BTC-INR → @cryptodatasource\n",
      "🔍 Downloading data for BTC-VND from Yahoo Finance...\n"
     ]
    },
    {
     "name": "stderr",
     "output_type": "stream",
     "text": [
      "404 Client Error: Not Found for url: https://query2.finance.yahoo.com/v10/finance/quoteSummary/BTC-VND?modules=financialData%2CquoteType%2CdefaultKeyStatistics%2CassetProfile%2CsummaryDetail&corsDomain=finance.yahoo.com&formatted=false&symbol=BTC-VND&crumb=mI0yNU879V2\n",
      "[*********************100%***********************]  1 of 1 completed\n",
      "\n",
      "1 Failed download:\n",
      "['BTC-VND']: AttributeError(\"'NoneType' object has no attribute 'update'\")\n"
     ]
    },
    {
     "name": "stdout",
     "output_type": "stream",
     "text": [
      "⚠️ No data returned for BTC-VND from Yahoo Finance.\n",
      "🔄 Trying CoinMarketCap for BTC-VND...\n",
      "📥 Fetching BTC-VND from CoinGecko (2303 days)...\n",
      "⚠️ Error fetching CoinGecko data: {\"status\":{\"timestamp\":\"2025-04-22T00:40:40.855+00:00\",\"error_code\":10005,\"error_message\":\"Invalid value for 'interval'\"}}\n",
      "⛔ Still no data. Skipping BTC-VND\n",
      "🔍 Downloading data for BTC-PKR from Yahoo Finance...\n"
     ]
    },
    {
     "name": "stderr",
     "output_type": "stream",
     "text": [
      "404 Client Error: Not Found for url: https://query2.finance.yahoo.com/v10/finance/quoteSummary/BTC-PKR?modules=financialData%2CquoteType%2CdefaultKeyStatistics%2CassetProfile%2CsummaryDetail&corsDomain=finance.yahoo.com&formatted=false&symbol=BTC-PKR&crumb=mI0yNU879V2\n",
      "[*********************100%***********************]  1 of 1 completed\n",
      "\n",
      "1 Failed download:\n",
      "['BTC-PKR']: AttributeError(\"'NoneType' object has no attribute 'update'\")\n"
     ]
    },
    {
     "name": "stdout",
     "output_type": "stream",
     "text": [
      "⚠️ No data returned for BTC-PKR from Yahoo Finance.\n",
      "🔄 Trying CoinMarketCap for BTC-PKR...\n",
      "📥 Fetching BTC-PKR from CoinGecko (2303 days)...\n",
      "⚠️ Error fetching CoinGecko data: {\"status\":{\"timestamp\":\"2025-04-22T00:40:43.756+00:00\",\"error_code\":10005,\"error_message\":\"Invalid value for 'interval'\"}}\n",
      "⛔ Still no data. Skipping BTC-PKR\n",
      "🔍 Downloading data for BTC-BRL from Yahoo Finance...\n"
     ]
    },
    {
     "name": "stderr",
     "output_type": "stream",
     "text": [
      "[*********************100%***********************]  1 of 1 completed\n",
      "\n",
      "1 Failed download:\n",
      "['BTC-BRL']: YFTzMissingError('possibly delisted; no timezone found')\n"
     ]
    },
    {
     "name": "stdout",
     "output_type": "stream",
     "text": [
      "⚠️ No data returned for BTC-BRL from Yahoo Finance.\n",
      "🔄 Trying CoinMarketCap for BTC-BRL...\n",
      "📥 Fetching BTC-BRL from CoinGecko (2303 days)...\n",
      "⚠️ Error fetching CoinGecko data: {\"status\":{\"timestamp\":\"2025-04-22T00:40:46.028+00:00\",\"error_code\":10005,\"error_message\":\"Invalid value for 'interval'\"}}\n",
      "⛔ Still no data. Skipping BTC-BRL\n",
      "🔍 Downloading data for BTC-THB from Yahoo Finance...\n"
     ]
    },
    {
     "name": "stderr",
     "output_type": "stream",
     "text": [
      "[*********************100%***********************]  1 of 1 completed\n",
      "\n",
      "1 Failed download:\n",
      "['BTC-THB']: YFTzMissingError('possibly delisted; no timezone found')\n"
     ]
    },
    {
     "name": "stdout",
     "output_type": "stream",
     "text": [
      "⚠️ No data returned for BTC-THB from Yahoo Finance.\n",
      "🔄 Trying CoinMarketCap for BTC-THB...\n",
      "📥 Fetching BTC-THB from CoinGecko (2303 days)...\n",
      "⚠️ Error fetching CoinGecko data: {\"status\":{\"timestamp\":\"2025-04-22T00:40:48.619+00:00\",\"error_code\":10005,\"error_message\":\"Invalid value for 'interval'\"}}\n",
      "⛔ Still no data. Skipping BTC-THB\n"
     ]
    },
    {
     "name": "stderr",
     "output_type": "stream",
     "text": [
      "[*********************100%***********************]  1 of 1 completed"
     ]
    },
    {
     "name": "stdout",
     "output_type": "stream",
     "text": [
      "🔍 Downloading data for BTC-RUB from Yahoo Finance...\n",
      "🌐 Downloading FX rate: RUB=X for conversion to USD...\n"
     ]
    },
    {
     "name": "stderr",
     "output_type": "stream",
     "text": [
      "\n",
      "[*********************100%***********************]  1 of 1 completed\n"
     ]
    },
    {
     "name": "stdout",
     "output_type": "stream",
     "text": [
      "💱 Converted BTC-RUB OHLC data to USD using RUB=X\n",
      "✅ Starting upload file process: BTC_RUB_history_20250422003719.parquet → @cryptodatasource\n",
      "✅ Connected to database: CRYPTONETWORKANALYSIS\n",
      "✅ File uploaded to @cryptodatasource: BTC_RUB_history_20250422003719.parquet\n",
      "🧹 Temp file removed: BTC_RUB_history_20250422003719.parquet\n",
      "✅ Upload complete for BTC-RUB → @cryptodatasource\n"
     ]
    },
    {
     "name": "stderr",
     "output_type": "stream",
     "text": [
      "[*********************100%***********************]  1 of 1 completed"
     ]
    },
    {
     "name": "stdout",
     "output_type": "stream",
     "text": [
      "🔍 Downloading data for BTC-CNY from Yahoo Finance...\n",
      "🌐 Downloading FX rate: CNY=X for conversion to USD...\n"
     ]
    },
    {
     "name": "stderr",
     "output_type": "stream",
     "text": [
      "\n",
      "[*********************100%***********************]  1 of 1 completed\n"
     ]
    },
    {
     "name": "stdout",
     "output_type": "stream",
     "text": [
      "💱 Converted BTC-CNY OHLC data to USD using CNY=X\n",
      "✅ Starting upload file process: BTC_CNY_history_20250422003719.parquet → @cryptodatasource\n",
      "✅ Connected to database: CRYPTONETWORKANALYSIS\n",
      "✅ File uploaded to @cryptodatasource: BTC_CNY_history_20250422003719.parquet\n",
      "🧹 Temp file removed: BTC_CNY_history_20250422003719.parquet\n",
      "✅ Upload complete for BTC-CNY → @cryptodatasource\n",
      "🔍 Downloading data for BTC-NGN from Yahoo Finance...\n"
     ]
    },
    {
     "name": "stderr",
     "output_type": "stream",
     "text": [
      "[*********************100%***********************]  1 of 1 completed\n",
      "\n",
      "1 Failed download:\n",
      "['BTC-NGN']: YFTzMissingError('possibly delisted; no timezone found')\n"
     ]
    },
    {
     "name": "stdout",
     "output_type": "stream",
     "text": [
      "⚠️ No data returned for BTC-NGN from Yahoo Finance.\n",
      "🔄 Trying CoinMarketCap for BTC-NGN...\n",
      "📥 Fetching BTC-NGN from CoinGecko (2303 days)...\n",
      "⚠️ Error fetching CoinGecko data: {\"status\":{\"timestamp\":\"2025-04-22T00:40:57.250+00:00\",\"error_code\":10005,\"error_message\":\"Invalid value for 'interval'\"}}\n",
      "⛔ Still no data. Skipping BTC-NGN\n",
      "🔍 Downloading data for BTC-PHP from Yahoo Finance...\n"
     ]
    },
    {
     "name": "stderr",
     "output_type": "stream",
     "text": [
      "[*********************100%***********************]  1 of 1 completed\n",
      "\n",
      "1 Failed download:\n",
      "['BTC-PHP']: YFTzMissingError('possibly delisted; no timezone found')\n"
     ]
    },
    {
     "name": "stdout",
     "output_type": "stream",
     "text": [
      "⚠️ No data returned for BTC-PHP from Yahoo Finance.\n",
      "🔄 Trying CoinMarketCap for BTC-PHP...\n",
      "📥 Fetching BTC-PHP from CoinGecko (2303 days)...\n",
      "⚠️ Error fetching CoinGecko data: Throttled\n",
      "\n",
      "⛔ Still no data. Skipping BTC-PHP\n"
     ]
    },
    {
     "name": "stderr",
     "output_type": "stream",
     "text": [
      "[*********************100%***********************]  1 of 1 completed"
     ]
    },
    {
     "name": "stdout",
     "output_type": "stream",
     "text": [
      "🔍 Downloading data for BTC-GBP from Yahoo Finance...\n",
      "🌐 Downloading FX rate: GBP=X for conversion to USD...\n"
     ]
    },
    {
     "name": "stderr",
     "output_type": "stream",
     "text": [
      "\n",
      "[*********************100%***********************]  1 of 1 completed\n"
     ]
    },
    {
     "name": "stdout",
     "output_type": "stream",
     "text": [
      "💱 Converted BTC-GBP OHLC data to USD using GBP=X\n",
      "✅ Starting upload file process: BTC_GBP_history_20250422003719.parquet → @cryptodatasource\n",
      "✅ Connected to database: CRYPTONETWORKANALYSIS\n",
      "✅ File uploaded to @cryptodatasource: BTC_GBP_history_20250422003719.parquet\n",
      "🧹 Temp file removed: BTC_GBP_history_20250422003719.parquet\n",
      "✅ Upload complete for BTC-GBP → @cryptodatasource\n"
     ]
    }
   ],
   "source": [
    "from utilities import download_yahoo_to_stage\n",
    "\n",
    "now = datetime(datetime.now().year,datetime.now().month,datetime.now().day)\n",
    "start_date = datetime(2020, 1, 1)\n",
    "\n",
    "for index, row in top100.iterrows():\n",
    "    # Safe SQL string formatting using :params\n",
    "    query = text(\"SELECT coalesce(dateadd(day,1,MAX(date)),'2019-01-01') as date FROM PUBLIC.VW_CRYPTO WHERE ticker = :ticker \")\n",
    "     #query = text(\"SELECT dateadd(day,1,cast(date_trunc('day',MAX(date)) as date)) as date FROM PUBLIC.VW_CRYPTO WHERE ticker = :ticker \")\n",
    "    df_date = pd.read_sql(query, con=engine, params={\"ticker\": row['ticker']})\n",
    "    start_date = pd.to_datetime(df_date['date'].iloc[0])\n",
    "     \n",
    "    if start_date > now:\n",
    "        print(f\"✅ {row['ticker']}: Up to date — skipping download.\")\n",
    "    else:\n",
    "        # Download only what’s missing\n",
    "        download_yahoo_to_stage(\n",
    "            ticker=row['ticker'],\n",
    "            private_key=private_key,\n",
    "            stage_area=row['staging'],\n",
    "            interval=\"1d\",\n",
    "            start=start_date,\n",
    "            time=\"12:00 AM\",\n",
    "            execution_time=execution_time\n",
    "        )\n"
   ]
  },
  {
   "cell_type": "code",
   "execution_count": 10,
   "id": "bc80c32c-e6ab-4019-9dda-0c968b5462ca",
   "metadata": {},
   "outputs": [
    {
     "name": "stdout",
     "output_type": "stream",
     "text": [
      "✅ Loaded data for tickers: 49\n",
      "🧹 Still NaNs in `data` (should be 0):\n",
      "Series([], dtype: int64)\n",
      "🧹 Still NaN per ticker (should be 0):\n",
      "Series([], dtype: int64)\n"
     ]
    }
   ],
   "source": [
    "from sqlalchemy import text\n",
    "import pandas as pd\n",
    "import numpy as np\n",
    "\n",
    "# Step 1: Load and merge\n",
    "query = text(\"\"\"\n",
    "    SELECT DISTINCT date, open,high,low,close, volume, ticker\n",
    "    FROM PUBLIC.VW_CRYPTO\n",
    "    WHERE date >= '2020-01-01'\n",
    "    and ticker in ( select distinct ticker from vw_crypto where date <='2020-01-01')\n",
    "    ORDER BY ticker, date\n",
    "\"\"\")\n",
    "data = pd.read_sql(query, con=engine)\n",
    "data.drop_duplicates(['date', 'ticker'], keep='last', inplace=True)\n",
    "\n",
    "data = pd.merge(data, top100, on='ticker', how='left')\n",
    "data = data[data['category'] != 'Stablecoin']\n",
    "\n",
    "print(\"✅ Loaded data for tickers:\", data['ticker'].nunique())\n",
    "\n",
    "\n",
    "ohlcv_cols = ['open', 'high', 'low', 'close', 'volume']\n",
    "data = data.sort_values(by=['ticker', 'date'])\n",
    "\n",
    "for col in ohlcv_cols:\n",
    "    # Fill forward, then backward, then with mean (per ticker)\n",
    "    data[col] = (\n",
    "        data.groupby('ticker')[col]\n",
    "        .apply(lambda grp: grp.ffill().bfill().fillna(grp.mean()))\n",
    "        .reset_index(level=0, drop=True)\n",
    "    )\n",
    "\n",
    "nan_summary = data[ohlcv_cols].isna().sum()\n",
    "print(\"🧹 Still NaNs in `data` (should be 0):\")\n",
    "print(nan_summary[nan_summary > 0])\n",
    "\n",
    "\n",
    "# Step 2: Pivot close prices\n",
    "price_df = data.pivot(index='date', columns='ticker', values='close')\n",
    "\n",
    "# b. Fill remaining NaNs with the average of the column\n",
    "price_df = price_df.apply(lambda col: col.fillna(col.mean()), axis=0)\n",
    "\n",
    "# Step 4: Optional check\n",
    "nan_summary = price_df.isna().sum()\n",
    "print(\"🧹 Still NaN per ticker (should be 0):\")\n",
    "print(nan_summary[nan_summary > 0])\n",
    "\n",
    "# Now you're ready to compute returns, correlations, clusters...\n",
    "\n",
    "\n",
    "\n",
    "\n"
   ]
  },
  {
   "cell_type": "code",
   "execution_count": 11,
   "id": "fdec8a3a-e75b-4d9f-afd5-6c21d585c43d",
   "metadata": {},
   "outputs": [],
   "source": [
    "topN = 50  \n",
    "required_tickers = ['BTC-USD', 'ETH-USD','GC=F','SI=F','^GSPC','^NDX','BTC-RUB','BTC-GBP','BTC-CNY','BTC-INR','^VIX']\n",
    "\n",
    "top_tickers = price_df.notna().sum().sort_values(ascending=False).head(topN).index.tolist()\n",
    "\n",
    "for ticker in required_tickers:\n",
    "    if ticker not in top_tickers and ticker in price_df.columns:\n",
    "        top_tickers.append(ticker)\n",
    "\n",
    "# Optional: Deduplicate while preserving order\n",
    "top_tickers = list(dict.fromkeys(top_tickers))\n",
    "\n",
    "filtered_price_df = price_df[top_tickers]\n",
    "\n",
    "# Step 3: Clean prices (remove 0s), then compute log returns\n",
    "cleaned_prices = filtered_price_df.replace(0, np.nan)\n",
    "returns = np.log(cleaned_prices / cleaned_prices.shift(1)).dropna()\n",
    "\n",
    "# Step 4: Correlation + Distance matrix\n",
    "corr_matrix = returns.corr()\n",
    "distance_matrix = np.sqrt(2 * (1 - corr_matrix))"
   ]
  },
  {
   "cell_type": "code",
   "execution_count": 12,
   "id": "e55f0846-3baa-4be6-a76d-86fdcd6df769",
   "metadata": {},
   "outputs": [
    {
     "name": "stdout",
     "output_type": "stream",
     "text": [
      "['ADA-USD', 'LEO-USD', 'LTC-USD', 'MKR-USD', 'NEXO-USD', 'OKB-USD', 'PI-USD', 'QNT-USD', 'SI=F', 'STX-USD', 'THETA-USD', 'TRUMP-USD', 'TRX-USD', 'UNI-USD', 'VET-USD', 'XDC-USD', 'XLM-USD', 'XMR-USD', 'XRP-USD', 'XTZ-USD', 'ZEC-USD', '^GSPC', '^NDX', 'LINK-USD', 'KCS-USD', 'ALGO-USD', 'JUP-USD', 'ARB-USD', 'ATOM-USD', 'BCH-USD', 'BNB-USD', 'BSV-USD', 'BTC-CNY', 'BTC-GBP', 'BTC-INR', 'BTC-RUB', 'BTC-USD', 'BTT-USD', 'CRO-USD', 'DOGE-USD', 'EOS-USD', 'ETC-USD', 'ETH-USD', 'FET-USD', 'FIL-USD', 'GC=F', 'GT-USD', 'HBAR-USD', '^VIX']\n"
     ]
    }
   ],
   "source": [
    "print(top_tickers)"
   ]
  },
  {
   "cell_type": "code",
   "execution_count": 13,
   "id": "c14cd832-6ab0-4bba-b5c9-202e0ea174c5",
   "metadata": {},
   "outputs": [
    {
     "name": "stdout",
     "output_type": "stream",
     "text": [
      "           degree  betweenness  closeness  eigenvector\n",
      "ETH-USD  0.229167     0.767730   0.274286     0.682834\n",
      "ADA-USD  0.041667     0.382979   0.242424     0.227611\n",
      "VET-USD  0.041667     0.478723   0.258065     0.224627\n",
      "LTC-USD  0.041667     0.119681   0.222222     0.224029\n",
      "BTC-CNY  0.041667     0.119681   0.222222     0.224029\n"
     ]
    }
   ],
   "source": [
    "import networkx as nx\n",
    "\n",
    "clean_distance = distance_matrix.dropna(axis=0, how='any').dropna(axis=1, how='any')\n",
    "\n",
    "\n",
    "# Step 1: Create an undirected graph from the distance matrix\n",
    "G = nx.Graph()\n",
    "\n",
    "# Add nodes (tickers)\n",
    "for ticker in distance_matrix.columns:\n",
    "    G.add_node(ticker)\n",
    "\n",
    "# Add edges with weights (distances)\n",
    "for i in range(len(clean_distance.columns)):\n",
    "    for j in range(i + 1, len(distance_matrix.columns)):\n",
    "        t1 = distance_matrix.columns[i]\n",
    "        t2 = distance_matrix.columns[j]\n",
    "        dist = distance_matrix.iloc[i, j]\n",
    "        G.add_edge(t1, t2, weight=dist)\n",
    "\n",
    "# Step 2: Create Minimum Spanning Tree (MST)\n",
    "mst = nx.minimum_spanning_tree(G)\n",
    "\n",
    "# Step 3: Calculate centrality metrics\n",
    "centrality = {\n",
    "    'degree': nx.degree_centrality(mst),\n",
    "    'betweenness': nx.betweenness_centrality(mst),\n",
    "    'closeness': nx.closeness_centrality(mst),\n",
    "    'eigenvector': nx.eigenvector_centrality(mst)\n",
    "}\n",
    "\n",
    "# Combine into a DataFrame\n",
    "import pandas as pd\n",
    "centrality_df = pd.DataFrame(centrality)\n",
    "\n",
    "# Preview top coins by centrality\n",
    "print(centrality_df.sort_values(by='eigenvector', ascending=False).head())\n"
   ]
  },
  {
   "cell_type": "code",
   "execution_count": 14,
   "id": "3eaf5942-aa6d-4b12-9838-d75b4356dc56",
   "metadata": {},
   "outputs": [
    {
     "name": "stdout",
     "output_type": "stream",
     "text": [
      "Total nodes in MST: 49\n",
      "Total edges in MST: 48\n"
     ]
    }
   ],
   "source": [
    "print(f\"Total nodes in MST: {len(mst.nodes())}\")\n",
    "print(f\"Total edges in MST: {len(mst.edges())}\")\n"
   ]
  },
  {
   "cell_type": "code",
   "execution_count": 15,
   "id": "5f84662f-f335-41d4-a1b3-183cce6f11a5",
   "metadata": {},
   "outputs": [
    {
     "data": {
      "image/png": "[encoded data removed]",
      "text/plain": [
       "<Figure size 1400x1000 with 2 Axes>"
      ]
     },
     "metadata": {},
     "output_type": "display_data"
    }
   ],
   "source": [
    "import matplotlib.pyplot as plt\n",
    "import networkx as nx\n",
    "import numpy as np\n",
    "\n",
    "# Use spring layout for positioning\n",
    "pos = nx.spring_layout(mst, seed=42, k=0.3)\n",
    "\n",
    "# Centrality scores\n",
    "eigen = centrality_df['eigenvector']\n",
    "closeness = centrality_df['closeness']\n",
    "\n",
    "# Normalize node sizes and colors\n",
    "node_sizes = 1000 * (eigen - eigen.min()) / (eigen.max() - eigen.min()) + 300\n",
    "norm_closeness = (closeness - closeness.min()) / (closeness.max() - closeness.min())\n",
    "\n",
    "# Edge weights and colors based on inverse distance\n",
    "edge_weights = [1 / mst[u][v]['weight'] for u, v in mst.edges()]\n",
    "edge_colors = edge_weights\n",
    "\n",
    "# Set up plot\n",
    "fig, ax = plt.subplots(figsize=(14, 10))\n",
    "\n",
    "# Draw nodes\n",
    "nodes = nx.draw_networkx_nodes(\n",
    "    mst, pos,\n",
    "    node_size=node_sizes,\n",
    "    node_color=norm_closeness,\n",
    "    cmap=plt.cm.viridis,\n",
    "    ax=ax\n",
    ")\n",
    "\n",
    "# Draw edges with color mapping\n",
    "edges = nx.draw_networkx_edges(\n",
    "    mst, pos,\n",
    "    width=edge_weights,\n",
    "    edge_color=edge_colors,\n",
    "    edge_cmap=plt.cm.plasma,\n",
    "    edge_vmin=min(edge_colors),\n",
    "    edge_vmax=max(edge_colors),\n",
    "    alpha=0.6,\n",
    "    ax=ax\n",
    ")\n",
    "\n",
    "# Draw labels\n",
    "nx.draw_networkx_labels(\n",
    "    mst, pos,\n",
    "    font_size=10,\n",
    "    font_family='serif',\n",
    "    ax=ax\n",
    ")\n",
    "\n",
    "# Highlight top eigenvector nodes\n",
    "top_n = eigen.sort_values(ascending=False).head(5).index\n",
    "for node in top_n:\n",
    "    x, y = pos[node]\n",
    "    ax.text(x, y + 0.05, f\"[Top] {node}\", fontsize=9, ha='center', color='gold')\n",
    "    #ax.text(x, y + 0.05, f\"⭐ {node}\", fontsize=9, ha='center', color='gold')\n",
    "\n",
    "# Add colorbar for node color\n",
    "sm = plt.cm.ScalarMappable(cmap=plt.cm.viridis, norm=plt.Normalize(vmin=closeness.min(), vmax=closeness.max()))\n",
    "sm.set_array([])\n",
    "cbar = plt.colorbar(sm, ax=ax)\n",
    "cbar.set_label(\"Closeness Centrality\")\n",
    "\n",
    "# Final formatting\n",
    "ax.set_title(\"Crypto Network (MST)\\nSize = Eigenvector | Color = Closeness | Edge = Correlation Strength\", fontsize=14)\n",
    "plt.axis('off')\n",
    "plt.tight_layout()\n",
    "plt.show()\n",
    "\n",
    "\n"
   ]
  },
  {
   "cell_type": "code",
   "execution_count": 16,
   "id": "f311234f-c0f0-4888-a950-906025551622",
   "metadata": {},
   "outputs": [
    {
     "data": {
      "text/html": [
       "<div>\n",
       "<style scoped>\n",
       "    .dataframe tbody tr th:only-of-type {\n",
       "        vertical-align: middle;\n",
       "    }\n",
       "\n",
       "    .dataframe tbody tr th {\n",
       "        vertical-align: top;\n",
       "    }\n",
       "\n",
       "    .dataframe thead th {\n",
       "        text-align: right;\n",
       "    }\n",
       "</style>\n",
       "<table border=\"1\" class=\"dataframe\">\n",
       "  <thead>\n",
       "    <tr style=\"text-align: right;\">\n",
       "      <th>ticker</th>\n",
       "      <th>ADA-USD</th>\n",
       "      <th>LEO-USD</th>\n",
       "      <th>LTC-USD</th>\n",
       "      <th>MKR-USD</th>\n",
       "      <th>NEXO-USD</th>\n",
       "      <th>OKB-USD</th>\n",
       "      <th>PI-USD</th>\n",
       "      <th>QNT-USD</th>\n",
       "      <th>SI=F</th>\n",
       "      <th>STX-USD</th>\n",
       "      <th>...</th>\n",
       "      <th>DOGE-USD</th>\n",
       "      <th>EOS-USD</th>\n",
       "      <th>ETC-USD</th>\n",
       "      <th>ETH-USD</th>\n",
       "      <th>FET-USD</th>\n",
       "      <th>FIL-USD</th>\n",
       "      <th>GC=F</th>\n",
       "      <th>GT-USD</th>\n",
       "      <th>HBAR-USD</th>\n",
       "      <th>^VIX</th>\n",
       "    </tr>\n",
       "    <tr>\n",
       "      <th>date</th>\n",
       "      <th></th>\n",
       "      <th></th>\n",
       "      <th></th>\n",
       "      <th></th>\n",
       "      <th></th>\n",
       "      <th></th>\n",
       "      <th></th>\n",
       "      <th></th>\n",
       "      <th></th>\n",
       "      <th></th>\n",
       "      <th></th>\n",
       "      <th></th>\n",
       "      <th></th>\n",
       "      <th></th>\n",
       "      <th></th>\n",
       "      <th></th>\n",
       "      <th></th>\n",
       "      <th></th>\n",
       "      <th></th>\n",
       "      <th></th>\n",
       "      <th></th>\n",
       "    </tr>\n",
       "  </thead>\n",
       "  <tbody>\n",
       "    <tr>\n",
       "      <th>2020-01-01</th>\n",
       "      <td>0.033458</td>\n",
       "      <td>0.819960</td>\n",
       "      <td>42.017719</td>\n",
       "      <td>437.331451</td>\n",
       "      <td>0.097842</td>\n",
       "      <td>2.621655</td>\n",
       "      <td>0.004066</td>\n",
       "      <td>3.821332</td>\n",
       "      <td>24.315913</td>\n",
       "      <td>0.098774</td>\n",
       "      <td>...</td>\n",
       "      <td>0.002033</td>\n",
       "      <td>2.597236</td>\n",
       "      <td>4.502792</td>\n",
       "      <td>130.802002</td>\n",
       "      <td>0.038509</td>\n",
       "      <td>3.844520</td>\n",
       "      <td>1995.930905</td>\n",
       "      <td>0.353440</td>\n",
       "      <td>0.010439</td>\n",
       "      <td>21.426975</td>\n",
       "    </tr>\n",
       "    <tr>\n",
       "      <th>2020-01-02</th>\n",
       "      <td>0.032751</td>\n",
       "      <td>0.821820</td>\n",
       "      <td>39.823013</td>\n",
       "      <td>425.435455</td>\n",
       "      <td>0.105085</td>\n",
       "      <td>2.548617</td>\n",
       "      <td>0.003870</td>\n",
       "      <td>3.534777</td>\n",
       "      <td>17.966000</td>\n",
       "      <td>0.089743</td>\n",
       "      <td>...</td>\n",
       "      <td>0.002009</td>\n",
       "      <td>2.462377</td>\n",
       "      <td>4.255888</td>\n",
       "      <td>127.410179</td>\n",
       "      <td>0.036591</td>\n",
       "      <td>4.459174</td>\n",
       "      <td>1524.500000</td>\n",
       "      <td>0.342423</td>\n",
       "      <td>0.010080</td>\n",
       "      <td>12.470000</td>\n",
       "    </tr>\n",
       "    <tr>\n",
       "      <th>2020-01-03</th>\n",
       "      <td>0.034180</td>\n",
       "      <td>0.851479</td>\n",
       "      <td>42.415573</td>\n",
       "      <td>433.531555</td>\n",
       "      <td>0.107530</td>\n",
       "      <td>2.645859</td>\n",
       "      <td>0.003994</td>\n",
       "      <td>3.644010</td>\n",
       "      <td>18.068001</td>\n",
       "      <td>0.094682</td>\n",
       "      <td>...</td>\n",
       "      <td>0.002145</td>\n",
       "      <td>2.637661</td>\n",
       "      <td>4.576237</td>\n",
       "      <td>134.171707</td>\n",
       "      <td>0.039180</td>\n",
       "      <td>3.420579</td>\n",
       "      <td>1549.199951</td>\n",
       "      <td>0.354732</td>\n",
       "      <td>0.010383</td>\n",
       "      <td>14.020000</td>\n",
       "    </tr>\n",
       "    <tr>\n",
       "      <th>2020-01-04</th>\n",
       "      <td>0.034595</td>\n",
       "      <td>0.851883</td>\n",
       "      <td>43.326607</td>\n",
       "      <td>440.247009</td>\n",
       "      <td>0.114129</td>\n",
       "      <td>2.662840</td>\n",
       "      <td>0.004095</td>\n",
       "      <td>3.526970</td>\n",
       "      <td>24.315913</td>\n",
       "      <td>0.095139</td>\n",
       "      <td>...</td>\n",
       "      <td>0.002241</td>\n",
       "      <td>2.667841</td>\n",
       "      <td>4.726842</td>\n",
       "      <td>135.069366</td>\n",
       "      <td>0.040505</td>\n",
       "      <td>3.270750</td>\n",
       "      <td>1995.930905</td>\n",
       "      <td>0.357361</td>\n",
       "      <td>0.011203</td>\n",
       "      <td>21.426975</td>\n",
       "    </tr>\n",
       "    <tr>\n",
       "      <th>2020-01-05</th>\n",
       "      <td>0.034721</td>\n",
       "      <td>0.856983</td>\n",
       "      <td>43.553207</td>\n",
       "      <td>442.089020</td>\n",
       "      <td>0.116022</td>\n",
       "      <td>2.680283</td>\n",
       "      <td>0.004016</td>\n",
       "      <td>3.584027</td>\n",
       "      <td>24.315913</td>\n",
       "      <td>0.092757</td>\n",
       "      <td>...</td>\n",
       "      <td>0.002419</td>\n",
       "      <td>2.701631</td>\n",
       "      <td>4.907899</td>\n",
       "      <td>136.276779</td>\n",
       "      <td>0.038678</td>\n",
       "      <td>3.496339</td>\n",
       "      <td>1995.930905</td>\n",
       "      <td>0.390090</td>\n",
       "      <td>0.011760</td>\n",
       "      <td>21.426975</td>\n",
       "    </tr>\n",
       "  </tbody>\n",
       "</table>\n",
       "<p>5 rows × 49 columns</p>\n",
       "</div>"
      ],
      "text/plain": [
       "ticker       ADA-USD   LEO-USD    LTC-USD     MKR-USD  NEXO-USD   OKB-USD  \\\n",
       "date                                                                        \n",
       "2020-01-01  0.033458  0.819960  42.017719  437.331451  0.097842  2.621655   \n",
       "2020-01-02  0.032751  0.821820  39.823013  425.435455  0.105085  2.548617   \n",
       "2020-01-03  0.034180  0.851479  42.415573  433.531555  0.107530  2.645859   \n",
       "2020-01-04  0.034595  0.851883  43.326607  440.247009  0.114129  2.662840   \n",
       "2020-01-05  0.034721  0.856983  43.553207  442.089020  0.116022  2.680283   \n",
       "\n",
       "ticker        PI-USD   QNT-USD       SI=F   STX-USD  ...  DOGE-USD   EOS-USD  \\\n",
       "date                                                 ...                       \n",
       "2020-01-01  0.004066  3.821332  24.315913  0.098774  ...  0.002033  2.597236   \n",
       "2020-01-02  0.003870  3.534777  17.966000  0.089743  ...  0.002009  2.462377   \n",
       "2020-01-03  0.003994  3.644010  18.068001  0.094682  ...  0.002145  2.637661   \n",
       "2020-01-04  0.004095  3.526970  24.315913  0.095139  ...  0.002241  2.667841   \n",
       "2020-01-05  0.004016  3.584027  24.315913  0.092757  ...  0.002419  2.701631   \n",
       "\n",
       "ticker       ETC-USD     ETH-USD   FET-USD   FIL-USD         GC=F    GT-USD  \\\n",
       "date                                                                          \n",
       "2020-01-01  4.502792  130.802002  0.038509  3.844520  1995.930905  0.353440   \n",
       "2020-01-02  4.255888  127.410179  0.036591  4.459174  1524.500000  0.342423   \n",
       "2020-01-03  4.576237  134.171707  0.039180  3.420579  1549.199951  0.354732   \n",
       "2020-01-04  4.726842  135.069366  0.040505  3.270750  1995.930905  0.357361   \n",
       "2020-01-05  4.907899  136.276779  0.038678  3.496339  1995.930905  0.390090   \n",
       "\n",
       "ticker      HBAR-USD       ^VIX  \n",
       "date                             \n",
       "2020-01-01  0.010439  21.426975  \n",
       "2020-01-02  0.010080  12.470000  \n",
       "2020-01-03  0.010383  14.020000  \n",
       "2020-01-04  0.011203  21.426975  \n",
       "2020-01-05  0.011760  21.426975  \n",
       "\n",
       "[5 rows x 49 columns]"
      ]
     },
     "execution_count": 16,
     "metadata": {},
     "output_type": "execute_result"
    }
   ],
   "source": [
    "filtered_price_df.head()"
   ]
  },
  {
   "cell_type": "code",
   "execution_count": 17,
   "id": "6ba5b81d-5309-4c01-b304-4921400e8a15",
   "metadata": {},
   "outputs": [
    {
     "data": {
      "text/plain": [
       "date        0\n",
       "open        0\n",
       "high        0\n",
       "low         0\n",
       "close       0\n",
       "volume      0\n",
       "ticker      0\n",
       "name        0\n",
       "category    0\n",
       "market      0\n",
       "staging     0\n",
       "dtype: int64"
      ]
     },
     "execution_count": 17,
     "metadata": {},
     "output_type": "execute_result"
    }
   ],
   "source": [
    "from utilities import cluster_from_correlation\n",
    "\n",
    "data.isna().sum()\n",
    "\n"
   ]
  },
  {
   "cell_type": "code",
   "execution_count": 18,
   "id": "81011ad8-0f22-49d4-9c34-deb433efd112",
   "metadata": {},
   "outputs": [
    {
     "name": "stderr",
     "output_type": "stream",
     "text": [
      "/usr/local/lib/python3.10/site-packages/pandas/core/internals/blocks.py:393: RuntimeWarning: divide by zero encountered in log\n",
      "  result = func(self.values, **kwargs)\n"
     ]
    },
    {
     "data": {
      "text/html": [
       "<div>\n",
       "<style scoped>\n",
       "    .dataframe tbody tr th:only-of-type {\n",
       "        vertical-align: middle;\n",
       "    }\n",
       "\n",
       "    .dataframe tbody tr th {\n",
       "        vertical-align: top;\n",
       "    }\n",
       "\n",
       "    .dataframe thead th {\n",
       "        text-align: right;\n",
       "    }\n",
       "</style>\n",
       "<table border=\"1\" class=\"dataframe\">\n",
       "  <thead>\n",
       "    <tr style=\"text-align: right;\">\n",
       "      <th></th>\n",
       "      <th>ticker</th>\n",
       "      <th>cluster</th>\n",
       "    </tr>\n",
       "  </thead>\n",
       "  <tbody>\n",
       "    <tr>\n",
       "      <th>0</th>\n",
       "      <td>ADA-USD</td>\n",
       "      <td>0</td>\n",
       "    </tr>\n",
       "    <tr>\n",
       "      <th>1</th>\n",
       "      <td>ALGO-USD</td>\n",
       "      <td>0</td>\n",
       "    </tr>\n",
       "    <tr>\n",
       "      <th>2</th>\n",
       "      <td>ARB-USD</td>\n",
       "      <td>2</td>\n",
       "    </tr>\n",
       "    <tr>\n",
       "      <th>3</th>\n",
       "      <td>ATOM-USD</td>\n",
       "      <td>0</td>\n",
       "    </tr>\n",
       "    <tr>\n",
       "      <th>4</th>\n",
       "      <td>BCH-USD</td>\n",
       "      <td>0</td>\n",
       "    </tr>\n",
       "  </tbody>\n",
       "</table>\n",
       "</div>"
      ],
      "text/plain": [
       "     ticker  cluster\n",
       "0   ADA-USD        0\n",
       "1  ALGO-USD        0\n",
       "2   ARB-USD        2\n",
       "3  ATOM-USD        0\n",
       "4   BCH-USD        0"
      ]
     },
     "execution_count": 18,
     "metadata": {},
     "output_type": "execute_result"
    }
   ],
   "source": [
    "cluster_corr = cluster_from_correlation(data, k=4)\n",
    "cluster_corr.head()"
   ]
  },
  {
   "cell_type": "code",
   "execution_count": 19,
   "id": "155e3672-23cf-431c-9b7a-f373ecf94087",
   "metadata": {},
   "outputs": [
    {
     "data": {
      "text/html": [
       "<div>\n",
       "<style scoped>\n",
       "    .dataframe tbody tr th:only-of-type {\n",
       "        vertical-align: middle;\n",
       "    }\n",
       "\n",
       "    .dataframe tbody tr th {\n",
       "        vertical-align: top;\n",
       "    }\n",
       "\n",
       "    .dataframe thead th {\n",
       "        text-align: right;\n",
       "    }\n",
       "</style>\n",
       "<table border=\"1\" class=\"dataframe\">\n",
       "  <thead>\n",
       "    <tr style=\"text-align: right;\">\n",
       "      <th></th>\n",
       "      <th>ticker</th>\n",
       "      <th>cluster</th>\n",
       "    </tr>\n",
       "  </thead>\n",
       "  <tbody>\n",
       "    <tr>\n",
       "      <th>0</th>\n",
       "      <td>ADA-USD</td>\n",
       "      <td>0</td>\n",
       "    </tr>\n",
       "    <tr>\n",
       "      <th>1</th>\n",
       "      <td>ALGO-USD</td>\n",
       "      <td>0</td>\n",
       "    </tr>\n",
       "    <tr>\n",
       "      <th>2</th>\n",
       "      <td>ARB-USD</td>\n",
       "      <td>2</td>\n",
       "    </tr>\n",
       "    <tr>\n",
       "      <th>3</th>\n",
       "      <td>ATOM-USD</td>\n",
       "      <td>0</td>\n",
       "    </tr>\n",
       "    <tr>\n",
       "      <th>4</th>\n",
       "      <td>BCH-USD</td>\n",
       "      <td>0</td>\n",
       "    </tr>\n",
       "    <tr>\n",
       "      <th>5</th>\n",
       "      <td>BNB-USD</td>\n",
       "      <td>0</td>\n",
       "    </tr>\n",
       "    <tr>\n",
       "      <th>6</th>\n",
       "      <td>BSV-USD</td>\n",
       "      <td>0</td>\n",
       "    </tr>\n",
       "    <tr>\n",
       "      <th>7</th>\n",
       "      <td>BTC-CNY</td>\n",
       "      <td>0</td>\n",
       "    </tr>\n",
       "    <tr>\n",
       "      <th>8</th>\n",
       "      <td>BTC-GBP</td>\n",
       "      <td>0</td>\n",
       "    </tr>\n",
       "    <tr>\n",
       "      <th>9</th>\n",
       "      <td>BTC-INR</td>\n",
       "      <td>0</td>\n",
       "    </tr>\n",
       "  </tbody>\n",
       "</table>\n",
       "</div>"
      ],
      "text/plain": [
       "     ticker  cluster\n",
       "0   ADA-USD        0\n",
       "1  ALGO-USD        0\n",
       "2   ARB-USD        2\n",
       "3  ATOM-USD        0\n",
       "4   BCH-USD        0\n",
       "5   BNB-USD        0\n",
       "6   BSV-USD        0\n",
       "7   BTC-CNY        0\n",
       "8   BTC-GBP        0\n",
       "9   BTC-INR        0"
      ]
     },
     "execution_count": 19,
     "metadata": {},
     "output_type": "execute_result"
    }
   ],
   "source": [
    "cluster_corr.head(10)"
   ]
  },
  {
   "cell_type": "code",
   "execution_count": 20,
   "id": "166c285c-31b3-48d2-b9fe-bd77db8ea8bb",
   "metadata": {},
   "outputs": [
    {
     "name": "stderr",
     "output_type": "stream",
     "text": [
      "/tmp/ipykernel_5667/939518759.py:4: FutureWarning: \n",
      "\n",
      "Passing `palette` without assigning `hue` is deprecated and will be removed in v0.14.0. Assign the `x` variable to `hue` and set `legend=False` for the same effect.\n",
      "\n",
      "  sns.countplot(data=cluster_corr, x='cluster', palette='tab10')\n"
     ]
    },
    {
     "data": {
      "image/png": "[encoded data removed]",
      "text/plain": [
       "<Figure size 640x480 with 1 Axes>"
      ]
     },
     "metadata": {},
     "output_type": "display_data"
    }
   ],
   "source": [
    "import seaborn as sns\n",
    "import matplotlib.pyplot as plt\n",
    "\n",
    "sns.countplot(data=cluster_corr, x='cluster', palette='tab10')\n",
    "plt.title('Number of Coins per Cluster')\n",
    "plt.xlabel('Cluster')\n",
    "plt.ylabel('Count')\n",
    "plt.show()\n"
   ]
  },
  {
   "cell_type": "code",
   "execution_count": 28,
   "id": "5ac4a619-8fe8-4e6a-be45-9b61750c54c4",
   "metadata": {},
   "outputs": [
    {
     "data": {
      "text/html": [
       "<div>\n",
       "<style scoped>\n",
       "    .dataframe tbody tr th:only-of-type {\n",
       "        vertical-align: middle;\n",
       "    }\n",
       "\n",
       "    .dataframe tbody tr th {\n",
       "        vertical-align: top;\n",
       "    }\n",
       "\n",
       "    .dataframe thead th {\n",
       "        text-align: right;\n",
       "    }\n",
       "</style>\n",
       "<table border=\"1\" class=\"dataframe\">\n",
       "  <thead>\n",
       "    <tr style=\"text-align: right;\">\n",
       "      <th></th>\n",
       "      <th>ticker</th>\n",
       "      <th>cluster</th>\n",
       "    </tr>\n",
       "  </thead>\n",
       "  <tbody>\n",
       "    <tr>\n",
       "      <th>11</th>\n",
       "      <td>BTC-USD</td>\n",
       "      <td>0</td>\n",
       "    </tr>\n",
       "  </tbody>\n",
       "</table>\n",
       "</div>"
      ],
      "text/plain": [
       "     ticker  cluster\n",
       "11  BTC-USD        0"
      ]
     },
     "execution_count": 28,
     "metadata": {},
     "output_type": "execute_result"
    }
   ],
   "source": [
    "cluster_corr[cluster_corr['ticker']=='BTC-USD']"
   ]
  },
  {
   "cell_type": "code",
   "execution_count": 29,
   "id": "f4205f72-bc5d-452c-b36f-76d1a7b77ce6",
   "metadata": {},
   "outputs": [
    {
     "data": {
      "text/html": [
       "<div>\n",
       "<style scoped>\n",
       "    .dataframe tbody tr th:only-of-type {\n",
       "        vertical-align: middle;\n",
       "    }\n",
       "\n",
       "    .dataframe tbody tr th {\n",
       "        vertical-align: top;\n",
       "    }\n",
       "\n",
       "    .dataframe thead th {\n",
       "        text-align: right;\n",
       "    }\n",
       "</style>\n",
       "<table border=\"1\" class=\"dataframe\">\n",
       "  <thead>\n",
       "    <tr style=\"text-align: right;\">\n",
       "      <th></th>\n",
       "      <th>ticker</th>\n",
       "      <th>cluster</th>\n",
       "    </tr>\n",
       "  </thead>\n",
       "  <tbody>\n",
       "    <tr>\n",
       "      <th>2</th>\n",
       "      <td>ARB-USD</td>\n",
       "      <td>2</td>\n",
       "    </tr>\n",
       "    <tr>\n",
       "      <th>20</th>\n",
       "      <td>GC=F</td>\n",
       "      <td>2</td>\n",
       "    </tr>\n",
       "    <tr>\n",
       "      <th>23</th>\n",
       "      <td>JUP-USD</td>\n",
       "      <td>3</td>\n",
       "    </tr>\n",
       "    <tr>\n",
       "      <th>33</th>\n",
       "      <td>SI=F</td>\n",
       "      <td>2</td>\n",
       "    </tr>\n",
       "    <tr>\n",
       "      <th>38</th>\n",
       "      <td>UNI-USD</td>\n",
       "      <td>2</td>\n",
       "    </tr>\n",
       "    <tr>\n",
       "      <th>46</th>\n",
       "      <td>^GSPC</td>\n",
       "      <td>2</td>\n",
       "    </tr>\n",
       "    <tr>\n",
       "      <th>47</th>\n",
       "      <td>^NDX</td>\n",
       "      <td>2</td>\n",
       "    </tr>\n",
       "    <tr>\n",
       "      <th>48</th>\n",
       "      <td>^VIX</td>\n",
       "      <td>1</td>\n",
       "    </tr>\n",
       "  </tbody>\n",
       "</table>\n",
       "</div>"
      ],
      "text/plain": [
       "     ticker  cluster\n",
       "2   ARB-USD        2\n",
       "20     GC=F        2\n",
       "23  JUP-USD        3\n",
       "33     SI=F        2\n",
       "38  UNI-USD        2\n",
       "46    ^GSPC        2\n",
       "47     ^NDX        2\n",
       "48     ^VIX        1"
      ]
     },
     "execution_count": 29,
     "metadata": {},
     "output_type": "execute_result"
    }
   ],
   "source": [
    "cluster_corr[cluster_corr['cluster']>0]"
   ]
  },
  {
   "cell_type": "code",
   "execution_count": 32,
   "id": "c1504202-571e-4dff-a455-3e75cfd89888",
   "metadata": {},
   "outputs": [
    {
     "data": {
      "image/png": "[encoded data removed]",
      "text/plain": [
       "<Figure size 1200x800 with 1 Axes>"
      ]
     },
     "metadata": {},
     "output_type": "display_data"
    },
    {
     "data": {
      "text/html": [
       "<div>\n",
       "<style scoped>\n",
       "    .dataframe tbody tr th:only-of-type {\n",
       "        vertical-align: middle;\n",
       "    }\n",
       "\n",
       "    .dataframe tbody tr th {\n",
       "        vertical-align: top;\n",
       "    }\n",
       "\n",
       "    .dataframe thead th {\n",
       "        text-align: right;\n",
       "    }\n",
       "</style>\n",
       "<table border=\"1\" class=\"dataframe\">\n",
       "  <thead>\n",
       "    <tr style=\"text-align: right;\">\n",
       "      <th></th>\n",
       "      <th>ticker</th>\n",
       "      <th>cluster</th>\n",
       "    </tr>\n",
       "  </thead>\n",
       "  <tbody>\n",
       "    <tr>\n",
       "      <th>0</th>\n",
       "      <td>ADA-USD</td>\n",
       "      <td>0</td>\n",
       "    </tr>\n",
       "    <tr>\n",
       "      <th>1</th>\n",
       "      <td>ALGO-USD</td>\n",
       "      <td>0</td>\n",
       "    </tr>\n",
       "    <tr>\n",
       "      <th>2</th>\n",
       "      <td>ATOM-USD</td>\n",
       "      <td>0</td>\n",
       "    </tr>\n",
       "    <tr>\n",
       "      <th>3</th>\n",
       "      <td>BCH-USD</td>\n",
       "      <td>0</td>\n",
       "    </tr>\n",
       "    <tr>\n",
       "      <th>4</th>\n",
       "      <td>BNB-USD</td>\n",
       "      <td>2</td>\n",
       "    </tr>\n",
       "  </tbody>\n",
       "</table>\n",
       "</div>"
      ],
      "text/plain": [
       "     ticker  cluster\n",
       "0   ADA-USD        0\n",
       "1  ALGO-USD        0\n",
       "2  ATOM-USD        0\n",
       "3   BCH-USD        0\n",
       "4   BNB-USD        2"
      ]
     },
     "execution_count": 32,
     "metadata": {},
     "output_type": "execute_result"
    }
   ],
   "source": [
    "from utilities import louvain_from_returns\n",
    "cluster_louvain = louvain_from_returns(data, min_corr=0.5, plot=True)\n"
   ]
  },
  {
   "cell_type": "code",
   "execution_count": 42,
   "id": "addb1472-1597-4e2b-8955-f8e9ba34adeb",
   "metadata": {},
   "outputs": [
    {
     "name": "stderr",
     "output_type": "stream",
     "text": [
      "/tmp/ipykernel_5667/2243253579.py:4: FutureWarning: \n",
      "\n",
      "Passing `palette` without assigning `hue` is deprecated and will be removed in v0.14.0. Assign the `x` variable to `hue` and set `legend=False` for the same effect.\n",
      "\n",
      "  sns.countplot(data=cluster_louvain, x='cluster', palette='tab10')\n"
     ]
    },
    {
     "data": {
      "image/png": "[encoded data removed]",
      "text/plain": [
       "<Figure size 640x480 with 1 Axes>"
      ]
     },
     "metadata": {},
     "output_type": "display_data"
    }
   ],
   "source": [
    "import seaborn as sns\n",
    "import matplotlib.pyplot as plt\n",
    "\n",
    "sns.countplot(data=cluster_louvain, x='cluster', palette='tab10')\n",
    "plt.title('Number of Coins per Cluster')\n",
    "plt.xlabel('Cluster')\n",
    "plt.ylabel('Count')\n",
    "plt.show()"
   ]
  },
  {
   "cell_type": "code",
   "execution_count": 57,
   "id": "f6213ff1-8d64-4936-aab9-f5d9efab152e",
   "metadata": {},
   "outputs": [
    {
     "name": "stdout",
     "output_type": "stream",
     "text": [
      "Technical Analysis function has been finished\n"
     ]
    }
   ],
   "source": [
    "from utilities import technical_analysis\n",
    "\n",
    "btc_df = data[data['ticker'] == 'BTC-USD'].copy()\n",
    "btc_df = technical_analysis(btc_df)"
   ]
  },
  {
   "cell_type": "code",
   "execution_count": 60,
   "id": "2de29b97-8bbc-4a0e-bca2-385adce9f962",
   "metadata": {},
   "outputs": [],
   "source": [
    "btc_cluster = cluster_louvain[cluster_louvain['ticker'] == 'BTC-USD']['cluster'].values[0]\n",
    "peer_tickers = cluster_louvain[(cluster_louvain['cluster'] == btc_cluster) & \n",
    "                                (cluster_louvain['ticker'] != 'BTC-USD')]['ticker'].tolist()\n",
    "\n",
    "# Filter and pivot\n",
    "peer_df = data[data['ticker'].isin(peer_tickers)]\n",
    "peer_prices = peer_df.pivot(index='date', columns='ticker', values='close').sort_index()\n"
   ]
  },
  {
   "cell_type": "code",
   "execution_count": 61,
   "id": "5a2dcc4e-a0e6-41be-8c66-b5ca2148ebe5",
   "metadata": {},
   "outputs": [],
   "source": [
    "btc_df['return'] = btc_df['close'].pct_change()\n",
    "btc_df['target'] = (btc_df['return'].shift(-1) > 0).astype(int)  # Predict next-day move\n"
   ]
  },
  {
   "cell_type": "code",
   "execution_count": 62,
   "id": "87daa563-fd7d-4c37-9f2d-cdb009f4400a",
   "metadata": {},
   "outputs": [],
   "source": [
    "btc_features = btc_df.set_index('date')[[\n",
    "    'MACD', 'MACD_Diff', 'RSI', 'MFI', 'EMA_Short', 'EMA_Long', \n",
    "    'Bollinger_Upper', 'Bollinger_Lower', 'Stochastic', 'SAR', 'target'\n",
    "]].dropna()\n",
    "\n",
    "final_df = btc_features.join(peer_prices, how='inner')\n",
    "final_df = final_df.dropna()  # Drop rows with any missing peer close prices\n"
   ]
  },
  {
   "cell_type": "code",
   "execution_count": 63,
   "id": "bc44e8fd-e0a7-4742-8331-c0d27ffb9e3b",
   "metadata": {},
   "outputs": [
    {
     "data": {
      "text/html": [
       "<div>\n",
       "<style scoped>\n",
       "    .dataframe tbody tr th:only-of-type {\n",
       "        vertical-align: middle;\n",
       "    }\n",
       "\n",
       "    .dataframe tbody tr th {\n",
       "        vertical-align: top;\n",
       "    }\n",
       "\n",
       "    .dataframe thead th {\n",
       "        text-align: right;\n",
       "    }\n",
       "</style>\n",
       "<table border=\"1\" class=\"dataframe\">\n",
       "  <thead>\n",
       "    <tr style=\"text-align: right;\">\n",
       "      <th></th>\n",
       "      <th>MACD</th>\n",
       "      <th>MACD_Diff</th>\n",
       "      <th>RSI</th>\n",
       "      <th>MFI</th>\n",
       "      <th>EMA_Short</th>\n",
       "      <th>EMA_Long</th>\n",
       "      <th>Bollinger_Upper</th>\n",
       "      <th>Bollinger_Lower</th>\n",
       "      <th>Stochastic</th>\n",
       "      <th>SAR</th>\n",
       "      <th>...</th>\n",
       "      <th>BTC-GBP</th>\n",
       "      <th>BTC-INR</th>\n",
       "      <th>BTC-RUB</th>\n",
       "      <th>DOGE-USD</th>\n",
       "      <th>ETH-USD</th>\n",
       "      <th>FET-USD</th>\n",
       "      <th>GT-USD</th>\n",
       "      <th>KCS-USD</th>\n",
       "      <th>LTC-USD</th>\n",
       "      <th>OKB-USD</th>\n",
       "    </tr>\n",
       "    <tr>\n",
       "      <th>date</th>\n",
       "      <th></th>\n",
       "      <th></th>\n",
       "      <th></th>\n",
       "      <th></th>\n",
       "      <th></th>\n",
       "      <th></th>\n",
       "      <th></th>\n",
       "      <th></th>\n",
       "      <th></th>\n",
       "      <th></th>\n",
       "      <th></th>\n",
       "      <th></th>\n",
       "      <th></th>\n",
       "      <th></th>\n",
       "      <th></th>\n",
       "      <th></th>\n",
       "      <th></th>\n",
       "      <th></th>\n",
       "      <th></th>\n",
       "      <th></th>\n",
       "      <th></th>\n",
       "    </tr>\n",
       "  </thead>\n",
       "  <tbody>\n",
       "    <tr>\n",
       "      <th>2020-01-01</th>\n",
       "      <td>0.000000</td>\n",
       "      <td>0.000000</td>\n",
       "      <td>100.000000</td>\n",
       "      <td>50.000000</td>\n",
       "      <td>7200.174316</td>\n",
       "      <td>7200.174316</td>\n",
       "      <td>7200.174316</td>\n",
       "      <td>7200.174316</td>\n",
       "      <td>31.781306</td>\n",
       "      <td>7200.174316</td>\n",
       "      <td>...</td>\n",
       "      <td>7206.696370</td>\n",
       "      <td>7195.344703</td>\n",
       "      <td>7181.218450</td>\n",
       "      <td>0.002033</td>\n",
       "      <td>130.802002</td>\n",
       "      <td>0.038509</td>\n",
       "      <td>0.353440</td>\n",
       "      <td>0.909905</td>\n",
       "      <td>42.017719</td>\n",
       "      <td>2.621655</td>\n",
       "    </tr>\n",
       "    <tr>\n",
       "      <th>2020-01-02</th>\n",
       "      <td>-17.127393</td>\n",
       "      <td>-13.701914</td>\n",
       "      <td>0.000000</td>\n",
       "      <td>0.000000</td>\n",
       "      <td>7167.142916</td>\n",
       "      <td>7184.270309</td>\n",
       "      <td>7307.526367</td>\n",
       "      <td>6878.118164</td>\n",
       "      <td>15.733752</td>\n",
       "      <td>6985.470215</td>\n",
       "      <td>...</td>\n",
       "      <td>7040.357592</td>\n",
       "      <td>7017.483130</td>\n",
       "      <td>6974.081449</td>\n",
       "      <td>0.002009</td>\n",
       "      <td>127.410179</td>\n",
       "      <td>0.036591</td>\n",
       "      <td>0.342423</td>\n",
       "      <td>0.863629</td>\n",
       "      <td>39.823013</td>\n",
       "      <td>2.548617</td>\n",
       "    </tr>\n",
       "    <tr>\n",
       "      <th>2020-01-03</th>\n",
       "      <td>-1.679899</td>\n",
       "      <td>1.396464</td>\n",
       "      <td>64.320963</td>\n",
       "      <td>58.088046</td>\n",
       "      <td>7194.487741</td>\n",
       "      <td>7196.167640</td>\n",
       "      <td>7472.152410</td>\n",
       "      <td>6881.533462</td>\n",
       "      <td>86.198436</td>\n",
       "      <td>7254.330566</td>\n",
       "      <td>...</td>\n",
       "      <td>7385.429742</td>\n",
       "      <td>7380.469695</td>\n",
       "      <td>7387.826940</td>\n",
       "      <td>0.002145</td>\n",
       "      <td>134.171707</td>\n",
       "      <td>0.039180</td>\n",
       "      <td>0.354732</td>\n",
       "      <td>0.931168</td>\n",
       "      <td>42.415573</td>\n",
       "      <td>2.645859</td>\n",
       "    </tr>\n",
       "    <tr>\n",
       "      <th>2020-01-04</th>\n",
       "      <td>15.688789</td>\n",
       "      <td>15.012121</td>\n",
       "      <td>68.334871</td>\n",
       "      <td>69.835729</td>\n",
       "      <td>7227.744510</td>\n",
       "      <td>7212.055721</td>\n",
       "      <td>7561.497911</td>\n",
       "      <td>6909.094862</td>\n",
       "      <td>96.735101</td>\n",
       "      <td>6914.996094</td>\n",
       "      <td>...</td>\n",
       "      <td>7385.429742</td>\n",
       "      <td>7380.469695</td>\n",
       "      <td>7387.826940</td>\n",
       "      <td>0.002241</td>\n",
       "      <td>135.069366</td>\n",
       "      <td>0.040505</td>\n",
       "      <td>0.357361</td>\n",
       "      <td>1.003056</td>\n",
       "      <td>43.326607</td>\n",
       "      <td>2.662840</td>\n",
       "    </tr>\n",
       "    <tr>\n",
       "      <th>2020-01-05</th>\n",
       "      <td>29.170646</td>\n",
       "      <td>22.795183</td>\n",
       "      <td>68.373359</td>\n",
       "      <td>76.842751</td>\n",
       "      <td>7255.986490</td>\n",
       "      <td>7226.815844</td>\n",
       "      <td>7594.468668</td>\n",
       "      <td>6946.532504</td>\n",
       "      <td>78.843609</td>\n",
       "      <td>6914.996094</td>\n",
       "      <td>...</td>\n",
       "      <td>7385.429742</td>\n",
       "      <td>7380.469695</td>\n",
       "      <td>7387.826940</td>\n",
       "      <td>0.002419</td>\n",
       "      <td>136.276779</td>\n",
       "      <td>0.038678</td>\n",
       "      <td>0.390090</td>\n",
       "      <td>1.043779</td>\n",
       "      <td>43.553207</td>\n",
       "      <td>2.680283</td>\n",
       "    </tr>\n",
       "  </tbody>\n",
       "</table>\n",
       "<p>5 rows × 23 columns</p>\n",
       "</div>"
      ],
      "text/plain": [
       "                 MACD  MACD_Diff         RSI        MFI    EMA_Short  \\\n",
       "date                                                                   \n",
       "2020-01-01   0.000000   0.000000  100.000000  50.000000  7200.174316   \n",
       "2020-01-02 -17.127393 -13.701914    0.000000   0.000000  7167.142916   \n",
       "2020-01-03  -1.679899   1.396464   64.320963  58.088046  7194.487741   \n",
       "2020-01-04  15.688789  15.012121   68.334871  69.835729  7227.744510   \n",
       "2020-01-05  29.170646  22.795183   68.373359  76.842751  7255.986490   \n",
       "\n",
       "               EMA_Long  Bollinger_Upper  Bollinger_Lower  Stochastic  \\\n",
       "date                                                                    \n",
       "2020-01-01  7200.174316      7200.174316      7200.174316   31.781306   \n",
       "2020-01-02  7184.270309      7307.526367      6878.118164   15.733752   \n",
       "2020-01-03  7196.167640      7472.152410      6881.533462   86.198436   \n",
       "2020-01-04  7212.055721      7561.497911      6909.094862   96.735101   \n",
       "2020-01-05  7226.815844      7594.468668      6946.532504   78.843609   \n",
       "\n",
       "                    SAR  ...      BTC-GBP      BTC-INR      BTC-RUB  DOGE-USD  \\\n",
       "date                     ...                                                    \n",
       "2020-01-01  7200.174316  ...  7206.696370  7195.344703  7181.218450  0.002033   \n",
       "2020-01-02  6985.470215  ...  7040.357592  7017.483130  6974.081449  0.002009   \n",
       "2020-01-03  7254.330566  ...  7385.429742  7380.469695  7387.826940  0.002145   \n",
       "2020-01-04  6914.996094  ...  7385.429742  7380.469695  7387.826940  0.002241   \n",
       "2020-01-05  6914.996094  ...  7385.429742  7380.469695  7387.826940  0.002419   \n",
       "\n",
       "               ETH-USD   FET-USD    GT-USD   KCS-USD    LTC-USD   OKB-USD  \n",
       "date                                                                       \n",
       "2020-01-01  130.802002  0.038509  0.353440  0.909905  42.017719  2.621655  \n",
       "2020-01-02  127.410179  0.036591  0.342423  0.863629  39.823013  2.548617  \n",
       "2020-01-03  134.171707  0.039180  0.354732  0.931168  42.415573  2.645859  \n",
       "2020-01-04  135.069366  0.040505  0.357361  1.003056  43.326607  2.662840  \n",
       "2020-01-05  136.276779  0.038678  0.390090  1.043779  43.553207  2.680283  \n",
       "\n",
       "[5 rows x 23 columns]"
      ]
     },
     "execution_count": 63,
     "metadata": {},
     "output_type": "execute_result"
    }
   ],
   "source": [
    "final_df.head()"
   ]
  },
  {
   "cell_type": "code",
   "execution_count": 69,
   "id": "dce40e8b-79fd-46d6-8b8e-fefc8f1340dd",
   "metadata": {},
   "outputs": [
    {
     "name": "stdout",
     "output_type": "stream",
     "text": [
      "✅ Model accuracy: 0.5309278350515464\n"
     ]
    }
   ],
   "source": [
    "from sklearn.ensemble import RandomForestClassifier\n",
    "from sklearn.model_selection import train_test_split\n",
    "from sklearn.preprocessing import StandardScaler\n",
    "from sklearn.pipeline import Pipeline\n",
    "\n",
    "# Features and target\n",
    "X = final_df.drop(columns='target')\n",
    "y = final_df['target']\n",
    "\n",
    "# Train/test split\n",
    "X_train, X_test, y_train, y_test = train_test_split(X, y, shuffle=False, test_size=0.2)\n",
    "\n",
    "# Pipeline: StandardScaler + RandomForest\n",
    "pipeline = Pipeline([\n",
    "    ('scaler', StandardScaler()),\n",
    "    ('rf', RandomForestClassifier(random_state=42))\n",
    "])\n",
    "\n",
    "# Fit and evaluate\n",
    "pipeline.fit(X_train, y_train)\n",
    "print(\"✅ Model accuracy:\", pipeline.score(X_test, y_test))\n",
    "\n"
   ]
  },
  {
   "cell_type": "code",
   "execution_count": 70,
   "id": "91eb8f2e-0914-4af1-a1dd-bd4d59213a22",
   "metadata": {},
   "outputs": [
    {
     "data": {
      "image/png": "[encoded data removed]",
      "text/plain": [
       "<Figure size 1400x500 with 2 Axes>"
      ]
     },
     "metadata": {},
     "output_type": "display_data"
    }
   ],
   "source": [
    "from sklearn.metrics import confusion_matrix\n",
    "import seaborn as sns\n",
    "import matplotlib.pyplot as plt\n",
    "import numpy as np\n",
    "\n",
    "# Compute the matrix\n",
    "y_pred = model.predict(X_test)\n",
    "cm = confusion_matrix(y_test, y_pred)\n",
    "\n",
    "# Labels\n",
    "labels = np.array([\n",
    "    [\"TN: Correctly predicted BTC will go down\", \"FP: Predicted up but it went down\"],\n",
    "    [\"FN: Predicted down but it went up\", \"TP: Correctly predicted BTC will go up\"]\n",
    "])\n",
    "\n",
    "# Plot\n",
    "fig, axes = plt.subplots(1, 2, figsize=(14, 5))\n",
    "\n",
    "# Standard numerical matrix\n",
    "sns.heatmap(cm, annot=True, fmt='d', cmap='Blues', cbar=False,\n",
    "            xticklabels=[\"Predicted Down\", \"Predicted Up\"],\n",
    "            yticklabels=[\"Actual Down\", \"Actual Up\"],\n",
    "            ax=axes[0])\n",
    "axes[0].set_title(\"Confusion Matrix (Counts)\")\n",
    "axes[0].set_xlabel(\"Prediction\")\n",
    "axes[0].set_ylabel(\"Actual\")\n",
    "\n",
    "# Annotated label version\n",
    "sns.heatmap(cm, annot=labels, fmt='', cmap='Blues', cbar=False,\n",
    "            xticklabels=[\"Predicted Down\", \"Predicted Up\"],\n",
    "            yticklabels=[\"Actual Down\", \"Actual Up\"],\n",
    "            ax=axes[1])\n",
    "axes[1].set_title(\"Confusion Matrix with BTC Prediction Labels\")\n",
    "axes[1].set_xlabel(\"Prediction\")\n",
    "axes[1].set_ylabel(\"Actual\")\n",
    "\n",
    "plt.tight_layout()\n",
    "plt.show()\n",
    "\n",
    "\n"
   ]
  },
  {
   "cell_type": "code",
   "execution_count": 71,
   "id": "b2fca4b9-7cd7-46f4-b362-36b140faef54",
   "metadata": {},
   "outputs": [
    {
     "name": "stdout",
     "output_type": "stream",
     "text": [
      "              precision    recall  f1-score   support\n",
      "\n",
      "        Down       0.54      0.42      0.47       194\n",
      "          Up       0.53      0.64      0.58       194\n",
      "\n",
      "    accuracy                           0.53       388\n",
      "   macro avg       0.53      0.53      0.52       388\n",
      "weighted avg       0.53      0.53      0.52       388\n",
      "\n"
     ]
    }
   ],
   "source": [
    "from sklearn.metrics import classification_report\n",
    "\n",
    "print(classification_report(y_test, y_pred, target_names=[\"Down\", \"Up\"]))\n"
   ]
  },
  {
   "cell_type": "code",
   "execution_count": 88,
   "id": "81e52d2a-fbe0-4b8b-9c67-5cce735d6b49",
   "metadata": {},
   "outputs": [
    {
     "name": "stdout",
     "output_type": "stream",
     "text": [
      "✅ R² score: 0.9627305217985713\n",
      "📉 RMSE: 2971.446254378885\n"
     ]
    }
   ],
   "source": [
    "from sklearn.linear_model import LinearRegression\n",
    "from sklearn.model_selection import train_test_split\n",
    "from sklearn.preprocessing import StandardScaler\n",
    "from sklearn.pipeline import Pipeline\n",
    "from sklearn.metrics import r2_score, mean_squared_error\n",
    "\n",
    "# Prep BTC-only dataframe\n",
    "btc_lregression = btc_df.copy()\n",
    "btc_lregression['target'] = btc_lregression['close'].shift(-1)\n",
    "\n",
    "# Keep only TA indicators + target\n",
    "btc_features = btc_lregression.set_index('date')[[\n",
    "    'MACD', 'MACD_Diff', 'RSI', 'MFI', 'EMA_Short', 'EMA_Long',\n",
    "    'Bollinger_Upper', 'Bollinger_Lower', 'Stochastic', 'SAR', 'target'\n",
    "]].dropna()\n",
    "\n",
    "# Join peer prices (cluster tickers)\n",
    "final_lregression = btc_features.join(peer_prices, how='inner').dropna()\n",
    "\n",
    "# Features & Target\n",
    "X = final_lregression.drop(columns='target')\n",
    "y = final_lregression['target']\n",
    "\n",
    "# Train-test split\n",
    "X_train, X_test, y_train, y_test = train_test_split(X, y, shuffle=False, test_size=0.2)\n",
    "\n",
    "# Build pipeline: Standardization + LinearRegression\n",
    "pipeline = Pipeline([\n",
    "    ('scaler', StandardScaler()),\n",
    "    ('lr', LinearRegression())\n",
    "])\n",
    "\n",
    "# Train model\n",
    "pipeline.fit(X_train, y_train)\n",
    "\n",
    "# Predict\n",
    "y_pred = pipeline.predict(X_test)\n",
    "\n",
    "# Evaluate\n",
    "print(\"✅ R² score:\", r2_score(y_test, y_pred))\n",
    "print(\"📉 RMSE:\", np.sqrt(mean_squared_error(y_test, y_pred)))\n",
    "\n"
   ]
  },
  {
   "cell_type": "code",
   "execution_count": 89,
   "id": "bc936899-d3ee-4141-9f2d-aba9b979b4ff",
   "metadata": {},
   "outputs": [
    {
     "data": {
      "image/png": "[encoded data removed]",
      "text/plain": [
       "<Figure size 1000x500 with 1 Axes>"
      ]
     },
     "metadata": {},
     "output_type": "display_data"
    }
   ],
   "source": [
    "import matplotlib.pyplot as plt\n",
    "\n",
    "plt.figure(figsize=(10, 5))\n",
    "plt.plot(y_test.index, y_test, label=\"Actual BTC Price\", color='blue')\n",
    "plt.plot(y_test.index, y_pred, label=\"Predicted BTC Price\", color='orange')\n",
    "plt.title(\"BTC Close Price: Actual vs Predicted\")\n",
    "plt.xlabel(\"Date\")\n",
    "plt.ylabel(\"Price (USD)\")\n",
    "plt.legend()\n",
    "plt.grid(True)\n",
    "plt.tight_layout()\n",
    "plt.show()\n"
   ]
  },
  {
   "cell_type": "code",
   "execution_count": 90,
   "id": "a4a70840-636a-4030-a9a0-b40a618da229",
   "metadata": {},
   "outputs": [
    {
     "data": {
      "image/png": "[encoded data removed]",
      "text/plain": [
       "<Figure size 800x400 with 1 Axes>"
      ]
     },
     "metadata": {},
     "output_type": "display_data"
    }
   ],
   "source": [
    "residuals = y_test - y_pred\n",
    "plt.figure(figsize=(8, 4))\n",
    "plt.plot(y_test.index, residuals, label='Residuals (Actual - Predicted)', color='red')\n",
    "plt.axhline(0, linestyle='--', color='gray')\n",
    "plt.title(\"Prediction Residuals\")\n",
    "plt.xlabel(\"Date\")\n",
    "plt.ylabel(\"Error\")\n",
    "plt.grid(True)\n",
    "plt.tight_layout()\n",
    "plt.show()\n"
   ]
  },
  {
   "cell_type": "code",
   "execution_count": 91,
   "id": "26cb206a-9bb1-4e1f-b1c9-65840f771ec0",
   "metadata": {},
   "outputs": [
    {
     "name": "stdout",
     "output_type": "stream",
     "text": [
      "                            OLS Regression Results                            \n",
      "==============================================================================\n",
      "Dep. Variable:                 target   R-squared:                       0.996\n",
      "Model:                            OLS   Adj. R-squared:                  0.996\n",
      "Method:                 Least Squares   F-statistic:                 2.140e+04\n",
      "Date:                Tue, 22 Apr 2025   Prob (F-statistic):               0.00\n",
      "Time:                        02:13:23   Log-Likelihood:                -17014.\n",
      "No. Observations:                1937   AIC:                         3.407e+04\n",
      "Df Residuals:                    1915   BIC:                         3.419e+04\n",
      "Df Model:                          21                                         \n",
      "Covariance Type:            nonrobust                                         \n",
      "===================================================================================\n",
      "                      coef    std err          t      P>|t|      [0.025      0.975]\n",
      "-----------------------------------------------------------------------------------\n",
      "const           -1343.5799    285.778     -4.701      0.000   -1904.049    -783.110\n",
      "MACD                0.5631      0.040     14.138      0.000       0.485       0.641\n",
      "MACD_Diff           4.0127      0.311     12.900      0.000       3.403       4.623\n",
      "RSI                23.0567      6.885      3.349      0.001       9.554      36.560\n",
      "MFI               -10.8510      4.316     -2.514      0.012     -19.315      -2.387\n",
      "EMA_Short           0.1862      0.065      2.882      0.004       0.059       0.313\n",
      "EMA_Long           -0.3769      0.072     -5.213      0.000      -0.519      -0.235\n",
      "Bollinger_Upper     0.5523      0.066      8.399      0.000       0.423       0.681\n",
      "Bollinger_Lower     0.5118      0.067      7.646      0.000       0.381       0.643\n",
      "Stochastic         14.0212      2.559      5.479      0.000       9.002      19.040\n",
      "SAR                 0.0052      0.016      0.332      0.740      -0.026       0.036\n",
      "BNB-USD            -0.0343      0.745     -0.046      0.963      -1.495       1.426\n",
      "BTC-CNY             0.4840      0.222      2.184      0.029       0.049       0.919\n",
      "BTC-GBP            -0.4408      0.307     -1.434      0.152      -1.044       0.162\n",
      "BTC-INR             0.0867      0.332      0.261      0.794      -0.564       0.737\n",
      "BTC-RUB             0.0067      0.005      1.465      0.143      -0.002       0.016\n",
      "DOGE-USD          106.5732    736.770      0.145      0.885   -1338.384    1551.530\n",
      "ETH-USD             0.0682      0.135      0.504      0.614      -0.197       0.333\n",
      "FET-USD           -37.0457    143.289     -0.259      0.796    -318.065     243.973\n",
      "GT-USD            -80.6331     26.798     -3.009      0.003    -133.189     -28.077\n",
      "KCS-USD           -18.7444     16.811     -1.115      0.265     -51.715      14.226\n",
      "LTC-USD            -3.4222      1.258     -2.720      0.007      -5.889      -0.955\n",
      "OKB-USD             4.3509      3.585      1.213      0.225      -2.681      11.383\n",
      "==============================================================================\n",
      "Omnibus:                      196.316   Durbin-Watson:                   1.171\n",
      "Prob(Omnibus):                  0.000   Jarque-Bera (JB):             1508.976\n",
      "Skew:                          -0.036   Prob(JB):                         0.00\n",
      "Kurtosis:                       7.323   Cond. No.                     1.52e+16\n",
      "==============================================================================\n",
      "\n",
      "Notes:\n",
      "[1] Standard Errors assume that the covariance matrix of the errors is correctly specified.\n",
      "[2] The smallest eigenvalue is 1.59e-19. This might indicate that there are\n",
      "strong multicollinearity problems or that the design matrix is singular.\n"
     ]
    }
   ],
   "source": [
    "import statsmodels.api as sm\n",
    "\n",
    "# Add intercept manually (statsmodels doesn't do it by default)\n",
    "X_sm = sm.add_constant(X)\n",
    "\n",
    "# Fit the model\n",
    "model = sm.OLS(y, X_sm).fit()\n",
    "\n",
    "# Show summary\n",
    "print(model.summary())\n"
   ]
  },
  {
   "cell_type": "code",
   "execution_count": 92,
   "id": "4651ff35-7c97-4356-a8fc-a775c616c7de",
   "metadata": {},
   "outputs": [],
   "source": [
    "significant_features = model.pvalues[model.pvalues < 0.05].index.tolist()\n"
   ]
  },
  {
   "cell_type": "code",
   "execution_count": 93,
   "id": "360b89af-35eb-4077-91ee-7b7b3897a998",
   "metadata": {},
   "outputs": [],
   "source": [
    "X_reduced = X[significant_features[1:]]  # skip 'const'"
   ]
  },
  {
   "cell_type": "code",
   "execution_count": 97,
   "id": "227ce317-aef3-408e-8ad0-9a99b756ea2b",
   "metadata": {},
   "outputs": [
    {
     "name": "stdout",
     "output_type": "stream",
     "text": [
      "✅ R² score (reduced): 0.9713634194237883\n",
      "📉 RMSE (reduced): 2604.6645700484837\n"
     ]
    }
   ],
   "source": [
    "pipeline_reduced = Pipeline([\n",
    "    ('scaler', StandardScaler()),\n",
    "    ('lr', LinearRegression())\n",
    "])\n",
    "\n",
    "# Train using only reduced features\n",
    "pipeline_reduced.fit(X_train[X_reduced.columns], y_train)\n",
    "\n",
    "# Predict using reduced feature set on test data\n",
    "y_pred_reduced = pipeline_reduced.predict(X_test[X_reduced.columns])\n",
    "\n",
    "# Evaluate\n",
    "print(\"✅ R² score (reduced):\", r2_score(y_test, y_pred_reduced))\n",
    "print(\"📉 RMSE (reduced):\", np.sqrt(mean_squared_error(y_test, y_pred_reduced)))\n",
    "\n",
    "\n"
   ]
  },
  {
   "cell_type": "code",
   "execution_count": null,
   "id": "3f84d536-95e5-41ab-ab2e-af455e37c381",
   "metadata": {},
   "outputs": [],
   "source": []
  }
 ],
 "metadata": {
  "colab": {
   "provenance": []
  },
  "kernelspec": {
   "display_name": "Python 3 (ipykernel)",
   "language": "python",
   "name": "python3"
  },
  "language_info": {
   "codemirror_mode": {
    "name": "ipython",
    "version": 3
   },
   "file_extension": ".py",
   "mimetype": "text/x-python",
   "name": "python",
   "nbconvert_exporter": "python",
   "pygments_lexer": "ipython3",
   "version": "3.10.17"
  }
 },
 "nbformat": 4,
 "nbformat_minor": 5
}
