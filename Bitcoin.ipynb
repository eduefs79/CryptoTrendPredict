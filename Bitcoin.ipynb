{
 "cells": [
  {
   "cell_type": "code",
   "execution_count": null,
   "id": "e47e4a3e-d4dd-421c-bb9d-458fcef5d3d3",
   "metadata": {},
   "outputs": [],
   "source": [
    "#pip install snowflake-connector-python sqlalchemy pandas matplotlib ta yfinance pymysql snowflake-sqlalchemy python-dotenv cryptography simplejson pandas_datareader  "
   ]
  },
  {
   "cell_type": "code",
   "execution_count": null,
   "id": "08cec358",
   "metadata": {},
   "outputs": [],
   "source": [
    "#pip install pyqt5  plotly "
   ]
  },
  {
   "cell_type": "code",
   "execution_count": null,
   "id": "175be613",
   "metadata": {},
   "outputs": [
    {
     "name": "stdout",
     "output_type": "stream",
     "text": [
      "Requirement already satisfied: kaleido in c:\\users\\edufs\\appdata\\local\\packages\\pythonsoftwarefoundation.python.3.11_qbz5n2kfra8p0\\localcache\\local-packages\\python311\\site-packages (0.2.1)Note: you may need to restart the kernel to use updated packages.\n",
      "\n",
      "Collecting fredapi\n",
      "  Downloading fredapi-0.5.2-py3-none-any.whl.metadata (5.0 kB)\n",
      "Requirement already satisfied: alpha_vantage in c:\\users\\edufs\\appdata\\local\\packages\\pythonsoftwarefoundation.python.3.11_qbz5n2kfra8p0\\localcache\\local-packages\\python311\\site-packages (3.0.0)\n",
      "Requirement already satisfied: pandas in c:\\users\\edufs\\appdata\\local\\packages\\pythonsoftwarefoundation.python.3.11_qbz5n2kfra8p0\\localcache\\local-packages\\python311\\site-packages (from fredapi) (2.2.2)\n",
      "Requirement already satisfied: aiohttp in c:\\users\\edufs\\appdata\\local\\packages\\pythonsoftwarefoundation.python.3.11_qbz5n2kfra8p0\\localcache\\local-packages\\python311\\site-packages (from alpha_vantage) (3.11.16)\n",
      "Requirement already satisfied: requests in c:\\users\\edufs\\appdata\\local\\packages\\pythonsoftwarefoundation.python.3.11_qbz5n2kfra8p0\\localcache\\local-packages\\python311\\site-packages (from alpha_vantage) (2.32.3)\n",
      "Requirement already satisfied: aiohappyeyeballs>=2.3.0 in c:\\users\\edufs\\appdata\\local\\packages\\pythonsoftwarefoundation.python.3.11_qbz5n2kfra8p0\\localcache\\local-packages\\python311\\site-packages (from aiohttp->alpha_vantage) (2.6.1)\n",
      "Requirement already satisfied: aiosignal>=1.1.2 in c:\\users\\edufs\\appdata\\local\\packages\\pythonsoftwarefoundation.python.3.11_qbz5n2kfra8p0\\localcache\\local-packages\\python311\\site-packages (from aiohttp->alpha_vantage) (1.3.2)\n",
      "Requirement already satisfied: attrs>=17.3.0 in c:\\users\\edufs\\appdata\\local\\packages\\pythonsoftwarefoundation.python.3.11_qbz5n2kfra8p0\\localcache\\local-packages\\python311\\site-packages (from aiohttp->alpha_vantage) (23.2.0)\n",
      "Requirement already satisfied: frozenlist>=1.1.1 in c:\\users\\edufs\\appdata\\local\\packages\\pythonsoftwarefoundation.python.3.11_qbz5n2kfra8p0\\localcache\\local-packages\\python311\\site-packages (from aiohttp->alpha_vantage) (1.5.0)\n",
      "Requirement already satisfied: multidict<7.0,>=4.5 in c:\\users\\edufs\\appdata\\local\\packages\\pythonsoftwarefoundation.python.3.11_qbz5n2kfra8p0\\localcache\\local-packages\\python311\\site-packages (from aiohttp->alpha_vantage) (6.2.0)\n",
      "Requirement already satisfied: propcache>=0.2.0 in c:\\users\\edufs\\appdata\\local\\packages\\pythonsoftwarefoundation.python.3.11_qbz5n2kfra8p0\\localcache\\local-packages\\python311\\site-packages (from aiohttp->alpha_vantage) (0.3.1)\n",
      "Requirement already satisfied: yarl<2.0,>=1.17.0 in c:\\users\\edufs\\appdata\\local\\packages\\pythonsoftwarefoundation.python.3.11_qbz5n2kfra8p0\\localcache\\local-packages\\python311\\site-packages (from aiohttp->alpha_vantage) (1.18.3)\n",
      "Requirement already satisfied: numpy>=1.23.2 in c:\\users\\edufs\\appdata\\local\\packages\\pythonsoftwarefoundation.python.3.11_qbz5n2kfra8p0\\localcache\\local-packages\\python311\\site-packages (from pandas->fredapi) (1.26.4)\n",
      "Requirement already satisfied: python-dateutil>=2.8.2 in c:\\users\\edufs\\appdata\\local\\packages\\pythonsoftwarefoundation.python.3.11_qbz5n2kfra8p0\\localcache\\local-packages\\python311\\site-packages (from pandas->fredapi) (2.9.0.post0)\n",
      "Requirement already satisfied: pytz>=2020.1 in c:\\users\\edufs\\appdata\\local\\packages\\pythonsoftwarefoundation.python.3.11_qbz5n2kfra8p0\\localcache\\local-packages\\python311\\site-packages (from pandas->fredapi) (2024.1)\n",
      "Requirement already satisfied: tzdata>=2022.7 in c:\\users\\edufs\\appdata\\local\\packages\\pythonsoftwarefoundation.python.3.11_qbz5n2kfra8p0\\localcache\\local-packages\\python311\\site-packages (from pandas->fredapi) (2024.1)\n",
      "Requirement already satisfied: charset-normalizer<4,>=2 in c:\\users\\edufs\\appdata\\local\\packages\\pythonsoftwarefoundation.python.3.11_qbz5n2kfra8p0\\localcache\\local-packages\\python311\\site-packages (from requests->alpha_vantage) (3.3.2)\n",
      "Requirement already satisfied: idna<4,>=2.5 in c:\\users\\edufs\\appdata\\local\\packages\\pythonsoftwarefoundation.python.3.11_qbz5n2kfra8p0\\localcache\\local-packages\\python311\\site-packages (from requests->alpha_vantage) (3.7)\n",
      "Requirement already satisfied: urllib3<3,>=1.21.1 in c:\\users\\edufs\\appdata\\local\\packages\\pythonsoftwarefoundation.python.3.11_qbz5n2kfra8p0\\localcache\\local-packages\\python311\\site-packages (from requests->alpha_vantage) (2.2.2)\n",
      "Requirement already satisfied: certifi>=2017.4.17 in c:\\users\\edufs\\appdata\\local\\packages\\pythonsoftwarefoundation.python.3.11_qbz5n2kfra8p0\\localcache\\local-packages\\python311\\site-packages (from requests->alpha_vantage) (2024.7.4)\n",
      "Requirement already satisfied: six>=1.5 in c:\\users\\edufs\\appdata\\local\\packages\\pythonsoftwarefoundation.python.3.11_qbz5n2kfra8p0\\localcache\\local-packages\\python311\\site-packages (from python-dateutil>=2.8.2->pandas->fredapi) (1.16.0)\n",
      "Downloading fredapi-0.5.2-py3-none-any.whl (11 kB)\n",
      "Installing collected packages: fredapi\n",
      "Successfully installed fredapi-0.5.2\n"
     ]
    },
    {
     "name": "stderr",
     "output_type": "stream",
     "text": [
      "\n",
      "[notice] A new release of pip is available: 24.1.2 -> 25.0.1\n",
      "[notice] To update, run: C:\\Users\\edufs\\AppData\\Local\\Microsoft\\WindowsApps\\PythonSoftwareFoundation.Python.3.11_qbz5n2kfra8p0\\python.exe -m pip install --upgrade pip\n"
     ]
    }
   ],
   "source": [
    "#pip install kaleido fredapi alpha_vantage"
   ]
  },
  {
   "cell_type": "code",
   "execution_count": 47,
   "id": "7f1db9ea-992b-4b03-af1d-c8a6922cf06b",
   "metadata": {},
   "outputs": [],
   "source": [
    "import numpy as np\n",
    "import matplotlib.pyplot as plt\n",
    "import pandas as pd\n",
    "import json\n",
    "from datetime import datetime,timedelta\n",
    "import requests\n",
    "import ta"
   ]
  },
  {
   "cell_type": "code",
   "execution_count": 48,
   "id": "0f10b363",
   "metadata": {},
   "outputs": [
    {
     "data": {
      "text/plain": [
       "True"
      ]
     },
     "execution_count": 48,
     "metadata": {},
     "output_type": "execute_result"
    }
   ],
   "source": [
    "import os\n",
    "from dotenv import load_dotenv\n",
    "\n",
    "load_dotenv()"
   ]
  },
  {
   "cell_type": "code",
   "execution_count": 49,
   "id": "438709e3",
   "metadata": {},
   "outputs": [
    {
     "name": "stdout",
     "output_type": "stream",
     "text": [
      "✅ Snowflake connected: ('CRYPTO_USER', 'CRYPTO_ROLE', datetime.datetime(2025, 4, 3, 9, 59, 34, 2000, tzinfo=<DstTzInfo 'America/Los_Angeles' PDT-1 day, 17:00:00 DST>))\n"
     ]
    }
   ],
   "source": [
    "import base64\n",
    "from cryptography.hazmat.primitives import serialization\n",
    "from cryptography.hazmat.backends import default_backend\n",
    "from snowflake.sqlalchemy import URL\n",
    "from sqlalchemy import create_engine\n",
    "import os\n",
    "from dotenv import load_dotenv\n",
    "from sqlalchemy import text\n",
    "\n",
    "load_dotenv()\n",
    "\n",
    "with open(os.getenv(\"PRIVATE_KEY_PATH\"), \"rb\") as key_file:\n",
    "    private_key = serialization.load_pem_private_key(\n",
    "        key_file.read(),\n",
    "        password=None,\n",
    "        backend=default_backend()\n",
    "    )\n",
    "\n",
    "private_key_pkcs8 = base64.b64encode(\n",
    "    private_key.private_bytes(\n",
    "        encoding=serialization.Encoding.DER,\n",
    "        format=serialization.PrivateFormat.PKCS8,\n",
    "        encryption_algorithm=serialization.NoEncryption()\n",
    "    )\n",
    ").decode(\"utf-8\")  # ✅ base64 string, not bytes!\n",
    "\n",
    "engine = create_engine(URL(\n",
    "    account=os.getenv(\"SNOWFLAKE_ACCOUNT\"),\n",
    "    user=os.getenv(\"SNOWFLAKE_USER\"),\n",
    "    private_key=private_key_pkcs8,\n",
    "    warehouse=os.getenv(\"SNOWFLAKE_WAREHOUSE\"),\n",
    "    database=os.getenv(\"SNOWFLAKE_DATABASE\"),\n",
    "    schema=os.getenv(\"SNOWFLAKE_SCHEMA\"),\n",
    "    role=os.getenv(\"SNOWFLAKE_ROLE\")\n",
    "))\n",
    "\n",
    "with engine.connect() as conn:\n",
    "    result = conn.execute(text(\"SELECT CURRENT_USER(), CURRENT_ROLE(), CURRENT_TIMESTAMP();\"))\n",
    "    for row in result:\n",
    "        print(\"✅ Snowflake connected:\", row)\n"
   ]
  },
  {
   "cell_type": "code",
   "execution_count": null,
   "id": "3621ade1-c87b-4e89-b0dc-5425cf3a8d0f",
   "metadata": {},
   "outputs": [],
   "source": [
    "from datetime import datetime\n",
    "\n",
    "def convert_to_date(date_string, date_format=\"%Y-%m-%d\"):\n",
    "    \"\"\"\n",
    "    Converts a date string to a datetime object.\n",
    "    \n",
    "    Args:\n",
    "        date_string (str): The date as a string.\n",
    "        date_format (str): The format of the date string (default is '%Y-%m-%d').\n",
    "    \n",
    "    Returns:\n",
    "        datetime: A datetime object representing the date, or None if conversion fails.\n",
    "    \"\"\"\n",
    "    try:\n",
    "        return datetime.strptime(date_string, date_format)\n",
    "    except ValueError:\n",
    "        print(f\"Error: '{date_string}' does not match the format '{date_format}'\")\n",
    "        return None\n",
    "\n"
   ]
  },
  {
   "cell_type": "code",
   "execution_count": null,
   "id": "25134501",
   "metadata": {},
   "outputs": [],
   "source": [
    "import time\n",
    "\n",
    "def fetch_btc_from_coinbase(granularity=86400, limit_days=300):\n",
    "    \"\"\"\n",
    "    Fetch historical daily candles from Coinbase (granularity = 86400 seconds = 1 day).\n",
    "    Coinbase limits each call to 300 candles, so this fetches as many chunks as needed.\n",
    "    \"\"\"\n",
    "    url = \"https://api.exchange.coinbase.com/products/BTC-USD/candles\"\n",
    "    all_data = []\n",
    "    end_time = pd.Timestamp.utcnow()\n",
    "\n",
    "    print(\"Fetching BTC-USD candles from Coinbase...\")\n",
    "\n",
    "    for _ in range((limit_days // 300) + 1):\n",
    "        start_time = end_time - pd.Timedelta(days=300)\n",
    "\n",
    "        params = {\n",
    "            \"start\": start_time.isoformat(),\n",
    "            \"end\": end_time.isoformat(),\n",
    "            \"granularity\": granularity\n",
    "        }\n",
    "\n",
    "        r = requests.get(url, params=params)\n",
    "        r.raise_for_status()\n",
    "        chunk = r.json()\n",
    "\n",
    "        all_data.extend(chunk)\n",
    "        end_time = start_time\n",
    "        time.sleep(1)  # avoid rate limit\n",
    "\n",
    "    # Convert to DataFrame\n",
    "    df = pd.DataFrame(all_data, columns=[\"timestamp\", \"low\", \"high\", \"open\", \"close\", \"volume\"])\n",
    "    df[\"Date\"] = pd.to_datetime(df[\"timestamp\"], unit=\"s\")\n",
    "    df = df[[\"Date\", \"open\", \"high\", \"low\", \"close\", \"volume\"]]\n",
    "    df.columns = [\"Date\", \"Open\", \"High\", \"Low\", \"Close\", \"Volume\"]\n",
    "    df.sort_values(\"Date\", inplace=True)\n",
    "\n",
    "    print(f\"Fetched {len(df)} daily rows of BTC-USD data.\")\n",
    "    return df.reset_index(drop=True)\n"
   ]
  },
  {
   "cell_type": "code",
   "execution_count": null,
   "id": "6cc37714",
   "metadata": {},
   "outputs": [],
   "source": [
    "btc_df = fetch_btc_from_coinbase(limit_days=4000) \n",
    "btc_df.head()\n"
   ]
  },
  {
   "cell_type": "code",
   "execution_count": null,
   "id": "57b1294f",
   "metadata": {},
   "outputs": [],
   "source": [
    "with engine.connect() as conn:\n",
    "    conn.execute(text(\"DROP TABLE IF EXISTS CRYPTODB.PUBLIC.btcusd\"))"
   ]
  },
  {
   "cell_type": "code",
   "execution_count": null,
   "id": "43ee379b-10c4-419b-952b-cd3cdf43077d",
   "metadata": {},
   "outputs": [],
   "source": [
    "from sqlalchemy.types import String, Float, DateTime\n",
    "\n",
    "btc_df.to_sql(\n",
    "    'btcusd',\n",
    "    con=engine,\n",
    "    if_exists='replace',\n",
    "    index=False,\n",
    "    dtype={\n",
    "        \"Date\": DateTime(),\n",
    "        \"Open\": Float(),\n",
    "        \"High\": Float(),\n",
    "        \"Low\": Float(),\n",
    "        \"Close\": Float(),\n",
    "        \"Volume\": Float(),  # or String() if some values are missing\n",
    "    }\n",
    ")\n"
   ]
  },
  {
   "cell_type": "code",
   "execution_count": null,
   "id": "a86b1279-d749-4444-88e9-76bc5701245f",
   "metadata": {},
   "outputs": [],
   "source": [
    "from sqlalchemy import text\n",
    "from sqlalchemy.types import Integer, String, Float, DateTime\n",
    "\n",
    "# Fetch data from Fear & Greed Index API\n",
    "url = 'https://api.alternative.me/fng/?limit=0'\n",
    "response = requests.get(url)\n",
    "response.raise_for_status()\n",
    "data = response.json()['data']\n",
    "\n",
    "# Convert to DataFrame\n",
    "df = pd.DataFrame(data)\n",
    "\n",
    "# Convert 'timestamp' to UTC and then remove timezone info\n",
    "df['timestamp'] = pd.to_datetime(df['timestamp'], unit='s', utc=True)\n",
    "df['timestamp'] = df['timestamp'].dt.tz_localize(None)\n",
    "\n",
    "\n",
    "\n",
    "df['value'] = pd.to_numeric(df['value'])\n",
    "\n",
    "\n",
    "# Drop unneeded columns\n",
    "df.drop(columns=['time_until_update','value_classification'], inplace=True)\n",
    "\n",
    "with engine.connect() as conn:\n",
    "    conn.execute(text('DROP TABLE IF EXISTS feargreedindex'))\n",
    "\n",
    "\n",
    "\n",
    "\n"
   ]
  },
  {
   "cell_type": "code",
   "execution_count": null,
   "id": "ca2bbf0c",
   "metadata": {},
   "outputs": [],
   "source": [
    "df.to_sql(\n",
    "    'feargreedindex',\n",
    "    con=engine,\n",
    "    if_exists='replace',\n",
    "    index=False,\n",
    "    dtype={\n",
    "        \"value\": Float(),\n",
    "        \"timestamp\": DateTime()\n",
    "    }   \n",
    "    \n",
    ")\n",
    "\n",
    "print(\"✅ FearGreedIndex table successfully written to Snowflake.\")"
   ]
  },
  {
   "cell_type": "code",
   "execution_count": 5,
   "id": "3e297974",
   "metadata": {},
   "outputs": [],
   "source": [
    "from alpha_vantage.timeseries import TimeSeries\n",
    "from alpha_vantage.foreignexchange import ForeignExchange\n",
    "from alpha_vantage.cryptocurrencies import CryptoCurrencies\n",
    "\n",
    "# Load API key from .env file\n",
    "load_dotenv()\n",
    "api_key = os.getenv(\"ALPHA_VANTAGE_KEY\")\n",
    "\n",
    "# Initialize API clients\n",
    "ts = TimeSeries(key=api_key, output_format='pandas')\n",
    "fx = ForeignExchange(key=api_key, output_format='pandas')\n",
    "cc = CryptoCurrencies(key=api_key, output_format='pandas')\n",
    "\n",
    "# Fetch Nasdaq via QQQ ETF\n",
    "nasdaq_df, _ = ts.get_daily(symbol='QQQ', outputsize='full')\n",
    "nasdaq_df = nasdaq_df.rename(columns={'4. close': 'Nasdaq_Close'})[['Nasdaq_Close']]\n",
    "nasdaq_df.reset_index(inplace=True)"
   ]
  },
  {
   "cell_type": "code",
   "execution_count": 7,
   "id": "bb1be722",
   "metadata": {},
   "outputs": [
    {
     "name": "stdout",
     "output_type": "stream",
     "text": [
      "✅ Nasdaq table successfully written to Snowflake.\n"
     ]
    }
   ],
   "source": [
    "from sqlalchemy.types import Integer, String, Float, DateTime\n",
    "\n",
    "nasdaq_df.to_sql(\n",
    "    'nasdaq',\n",
    "    con=engine,\n",
    "    if_exists='replace',\n",
    "    index=False,\n",
    "    dtype={\n",
    "        \"date\": DateTime(),\n",
    "        \"value\": Float(),\n",
    "        \n",
    "    }   \n",
    "    \n",
    ")\n",
    "\n",
    "print(\"✅ Nasdaq table successfully written to Snowflake.\")"
   ]
  },
  {
   "cell_type": "code",
   "execution_count": 61,
   "id": "6a9a6f63",
   "metadata": {},
   "outputs": [
    {
     "data": {
      "text/html": [
       "<div>\n",
       "<style scoped>\n",
       "    .dataframe tbody tr th:only-of-type {\n",
       "        vertical-align: middle;\n",
       "    }\n",
       "\n",
       "    .dataframe tbody tr th {\n",
       "        vertical-align: top;\n",
       "    }\n",
       "\n",
       "    .dataframe thead th {\n",
       "        text-align: right;\n",
       "    }\n",
       "</style>\n",
       "<table border=\"1\" class=\"dataframe\">\n",
       "  <thead>\n",
       "    <tr style=\"text-align: right;\">\n",
       "      <th></th>\n",
       "      <th>Date</th>\n",
       "      <th>SP500_Close</th>\n",
       "    </tr>\n",
       "  </thead>\n",
       "  <tbody>\n",
       "    <tr>\n",
       "      <th>1</th>\n",
       "      <td>2015-04-06</td>\n",
       "      <td>2080.62</td>\n",
       "    </tr>\n",
       "    <tr>\n",
       "      <th>2</th>\n",
       "      <td>2015-04-07</td>\n",
       "      <td>2076.33</td>\n",
       "    </tr>\n",
       "    <tr>\n",
       "      <th>3</th>\n",
       "      <td>2015-04-08</td>\n",
       "      <td>2081.90</td>\n",
       "    </tr>\n",
       "    <tr>\n",
       "      <th>4</th>\n",
       "      <td>2015-04-09</td>\n",
       "      <td>2091.18</td>\n",
       "    </tr>\n",
       "    <tr>\n",
       "      <th>5</th>\n",
       "      <td>2015-04-10</td>\n",
       "      <td>2102.06</td>\n",
       "    </tr>\n",
       "  </tbody>\n",
       "</table>\n",
       "</div>"
      ],
      "text/plain": [
       "        Date  SP500_Close\n",
       "1 2015-04-06      2080.62\n",
       "2 2015-04-07      2076.33\n",
       "3 2015-04-08      2081.90\n",
       "4 2015-04-09      2091.18\n",
       "5 2015-04-10      2102.06"
      ]
     },
     "execution_count": 61,
     "metadata": {},
     "output_type": "execute_result"
    }
   ],
   "source": [
    "from fredapi import Fred\n",
    "\n",
    "\n",
    "# Load key\n",
    "load_dotenv()\n",
    "fred = Fred(api_key=os.getenv(\"FRED_API_KEY\"))\n",
    "\n",
    "# Fetch daily S&P 500 index (SP500 series)\n",
    "sp500 = fred.get_series('SP500')\n",
    "\n",
    "# Format\n",
    "sp500 = sp500.reset_index()\n",
    "sp500.columns = ['Date', 'SP500_Close']\n",
    "sp500['Date'] = pd.to_datetime(sp500['Date'])\n",
    "sp500 = sp500.dropna().sort_values('Date')\n",
    "\n",
    "sp500.head()\n",
    "\n",
    "# Export (optional)\n",
    "#sp500.to_csv(\"sp500_fred.csv\", index=False)\n",
    "\n",
    "\n",
    "\n",
    "\n"
   ]
  },
  {
   "cell_type": "code",
   "execution_count": 63,
   "id": "e0c58547",
   "metadata": {},
   "outputs": [
    {
     "name": "stdout",
     "output_type": "stream",
     "text": [
      "✅ SP500 from FRED uploaded to Snowflake\n"
     ]
    }
   ],
   "source": [
    "from sqlalchemy.types import Float, DateTime\n",
    "\n",
    "sp500.to_sql(\n",
    "    \"sp500\",\n",
    "    con=engine,\n",
    "    index=False,\n",
    "    if_exists=\"replace\",\n",
    "    dtype={\n",
    "        \"Date\": DateTime(),\n",
    "        \"SP500_Close\": Float()\n",
    "    }\n",
    ")\n",
    "\n",
    "print(\"✅ SP500 from FRED uploaded to Snowflake\")\n"
   ]
  },
  {
   "cell_type": "code",
   "execution_count": 64,
   "id": "302e9e42",
   "metadata": {},
   "outputs": [
    {
     "name": "stdout",
     "output_type": "stream",
     "text": [
      "           Date    VIX\n",
      "9192 2025-03-27  18.69\n",
      "9193 2025-03-28  21.65\n",
      "9194 2025-03-31  22.28\n",
      "9195 2025-04-01  21.77\n",
      "9196 2025-04-02  21.51\n"
     ]
    }
   ],
   "source": [
    "from fredapi import Fred\n",
    "# Load API key\n",
    "load_dotenv()\n",
    "fred = Fred(api_key=os.getenv(\"FRED_API_KEY\"))\n",
    "\n",
    "# Fetch VIX data (daily close)\n",
    "vix = fred.get_series('VIXCLS')\n",
    "\n",
    "# Format the DataFrame\n",
    "vix_df = vix.reset_index()\n",
    "vix_df.columns = ['Date', 'VIX']\n",
    "vix_df['Date'] = pd.to_datetime(vix_df['Date'])\n",
    "vix_df = vix_df.dropna().sort_values('Date')\n",
    "\n",
    "# Preview\n",
    "print(vix_df.tail())\n"
   ]
  },
  {
   "cell_type": "code",
   "execution_count": 65,
   "id": "159b53b6",
   "metadata": {},
   "outputs": [
    {
     "name": "stdout",
     "output_type": "stream",
     "text": [
      "✅ VIX from FRED uploaded to Snowflake\n"
     ]
    }
   ],
   "source": [
    "vix_df.to_sql(\n",
    "    \"vix\",\n",
    "    con=engine,\n",
    "    index=False,\n",
    "    if_exists=\"replace\",\n",
    "    dtype={\n",
    "        \"Date\": DateTime(),\n",
    "        \"VIX\": Float()\n",
    "    }\n",
    ")\n",
    "\n",
    "print(\"✅ VIX from FRED uploaded to Snowflake\")"
   ]
  },
  {
   "cell_type": "code",
   "execution_count": 67,
   "id": "fd390824-2efe-4168-8b8c-5fbc8e36cc85",
   "metadata": {},
   "outputs": [
    {
     "data": {
      "text/html": [
       "<div>\n",
       "<style scoped>\n",
       "    .dataframe tbody tr th:only-of-type {\n",
       "        vertical-align: middle;\n",
       "    }\n",
       "\n",
       "    .dataframe tbody tr th {\n",
       "        vertical-align: top;\n",
       "    }\n",
       "\n",
       "    .dataframe thead th {\n",
       "        text-align: right;\n",
       "    }\n",
       "</style>\n",
       "<table border=\"1\" class=\"dataframe\">\n",
       "  <thead>\n",
       "    <tr style=\"text-align: right;\">\n",
       "      <th></th>\n",
       "      <th>Date</th>\n",
       "      <th>Open</th>\n",
       "      <th>High</th>\n",
       "      <th>Low</th>\n",
       "      <th>Close</th>\n",
       "      <th>Volume</th>\n",
       "      <th>fgi</th>\n",
       "      <th>nasdaq</th>\n",
       "      <th>sp500</th>\n",
       "      <th>vix</th>\n",
       "    </tr>\n",
       "  </thead>\n",
       "  <tbody>\n",
       "    <tr>\n",
       "      <th>0</th>\n",
       "      <td>2015-07-20</td>\n",
       "      <td>277.98</td>\n",
       "      <td>280.00</td>\n",
       "      <td>277.37</td>\n",
       "      <td>280.00</td>\n",
       "      <td>782.883420</td>\n",
       "      <td>NaN</td>\n",
       "      <td>113.98</td>\n",
       "      <td>2128.28</td>\n",
       "      <td>12.25</td>\n",
       "    </tr>\n",
       "    <tr>\n",
       "      <th>1</th>\n",
       "      <td>2015-07-21</td>\n",
       "      <td>279.96</td>\n",
       "      <td>281.27</td>\n",
       "      <td>276.85</td>\n",
       "      <td>277.32</td>\n",
       "      <td>4943.559434</td>\n",
       "      <td>NaN</td>\n",
       "      <td>113.91</td>\n",
       "      <td>2119.21</td>\n",
       "      <td>12.22</td>\n",
       "    </tr>\n",
       "    <tr>\n",
       "      <th>2</th>\n",
       "      <td>2015-07-22</td>\n",
       "      <td>277.33</td>\n",
       "      <td>278.54</td>\n",
       "      <td>275.01</td>\n",
       "      <td>277.89</td>\n",
       "      <td>4687.909383</td>\n",
       "      <td>NaN</td>\n",
       "      <td>112.62</td>\n",
       "      <td>2114.15</td>\n",
       "      <td>12.12</td>\n",
       "    </tr>\n",
       "    <tr>\n",
       "      <th>3</th>\n",
       "      <td>2015-07-23</td>\n",
       "      <td>277.96</td>\n",
       "      <td>279.75</td>\n",
       "      <td>276.28</td>\n",
       "      <td>277.39</td>\n",
       "      <td>5306.919575</td>\n",
       "      <td>NaN</td>\n",
       "      <td>112.20</td>\n",
       "      <td>2102.15</td>\n",
       "      <td>12.64</td>\n",
       "    </tr>\n",
       "    <tr>\n",
       "      <th>4</th>\n",
       "      <td>2015-07-24</td>\n",
       "      <td>277.23</td>\n",
       "      <td>291.52</td>\n",
       "      <td>276.43</td>\n",
       "      <td>289.12</td>\n",
       "      <td>7362.469083</td>\n",
       "      <td>NaN</td>\n",
       "      <td>111.10</td>\n",
       "      <td>2079.65</td>\n",
       "      <td>13.74</td>\n",
       "    </tr>\n",
       "  </tbody>\n",
       "</table>\n",
       "</div>"
      ],
      "text/plain": [
       "        Date    Open    High     Low   Close       Volume  fgi  nasdaq  \\\n",
       "0 2015-07-20  277.98  280.00  277.37  280.00   782.883420  NaN  113.98   \n",
       "1 2015-07-21  279.96  281.27  276.85  277.32  4943.559434  NaN  113.91   \n",
       "2 2015-07-22  277.33  278.54  275.01  277.89  4687.909383  NaN  112.62   \n",
       "3 2015-07-23  277.96  279.75  276.28  277.39  5306.919575  NaN  112.20   \n",
       "4 2015-07-24  277.23  291.52  276.43  289.12  7362.469083  NaN  111.10   \n",
       "\n",
       "     sp500    vix  \n",
       "0  2128.28  12.25  \n",
       "1  2119.21  12.22  \n",
       "2  2114.15  12.12  \n",
       "3  2102.15  12.64  \n",
       "4  2079.65  13.74  "
      ]
     },
     "execution_count": 67,
     "metadata": {},
     "output_type": "execute_result"
    }
   ],
   "source": [
    "query = \"\"\"\n",
    "SELECT BTC.\"Date\", \"Open\", \"High\", \"Low\", \"Close\", \"Volume\" , cast(fgi.value AS Integer) as Fgi,\n",
    "NASD.\"Nasdaq_Close\" AS NASDAQ, SP500.\"SP500_Close\" SP500, VIX.VIX \n",
    "FROM CRYPTODB.PUBLIC.BTCUSD btc\n",
    "LEFT JOIN CRYPTODB.PUBLIC.FEARGREEDINDEX fgi\n",
    "    ON btc.\"Date\" = fgi.timestamp\n",
    "LEFT JOIN CRYPTODB.PUBLIC.NASDAQ NASD\n",
    "    ON BTC.\"Date\" = NASD.DATE\n",
    "LEFT JOIN CRYPTODB.PUBLIC.SP500 SP500\n",
    "    ON BTC.\"Date\" = SP500.\"Date\"\n",
    "LEFT JOIN CRYPTODB.PUBLIC.VIX VIX\n",
    "    ON BTC.\"Date\" = VIX.\"Date\"\n",
    "Order by 1\n",
    "\"\"\"\n",
    "\n",
    "data = pd.read_sql(query,con=engine)\n",
    "data.head()"
   ]
  },
  {
   "cell_type": "code",
   "execution_count": 68,
   "id": "57b4214a",
   "metadata": {},
   "outputs": [],
   "source": [
    "# Columns to forward fill only\n",
    "macro_cols = [ 'nasdaq','sp500','vix']\n",
    "\n",
    "# Apply forward fill just to those columns\n",
    "data[macro_cols] = data[macro_cols].ffill()\n"
   ]
  },
  {
   "cell_type": "code",
   "execution_count": 69,
   "id": "b5536e7d-b5be-4de2-8008-c227abe8b3ec",
   "metadata": {},
   "outputs": [
    {
     "name": "stderr",
     "output_type": "stream",
     "text": [
      "C:\\Users\\edufs\\AppData\\Local\\Temp\\ipykernel_18032\\3904962655.py:5: FutureWarning:\n",
      "\n",
      "A value is trying to be set on a copy of a DataFrame or Series through chained assignment using an inplace method.\n",
      "The behavior will change in pandas 3.0. This inplace method will never work because the intermediate object on which we are setting values always behaves as a copy.\n",
      "\n",
      "For example, when doing 'df[col].method(value, inplace=True)', try using 'df.method({col: value}, inplace=True)' or df[col] = df[col].method(value) instead, to perform the operation inplace on the original object.\n",
      "\n",
      "\n",
      "\n"
     ]
    }
   ],
   "source": [
    "# Calculate the average of the FGI column, excluding NaN values\n",
    "fg_average = data['fgi'].mean()\n",
    "\n",
    "# Fill NaN values in the FGI column with the calculated average\n",
    "data['fgi'].fillna(fg_average, inplace=True)"
   ]
  },
  {
   "cell_type": "code",
   "execution_count": 70,
   "id": "5873e711",
   "metadata": {},
   "outputs": [
    {
     "name": "stdout",
     "output_type": "stream",
     "text": [
      "Date      0\n",
      "Open      0\n",
      "High      0\n",
      "Low       0\n",
      "Close     0\n",
      "Volume    0\n",
      "fgi       0\n",
      "nasdaq    0\n",
      "sp500     0\n",
      "vix       0\n",
      "dtype: int64\n"
     ]
    }
   ],
   "source": [
    "print(data[:].isna().sum())"
   ]
  },
  {
   "cell_type": "code",
   "execution_count": 71,
   "id": "6560449d-4060-4430-b7f4-6a1c2cf84a0e",
   "metadata": {},
   "outputs": [],
   "source": [
    "#https://www.investopedia.com/terms/m/macd.asp\n",
    "#macd_object = ta.trend.MACD(data['close'])\n",
    "macd_object = ta.trend.MACD(data['Close'], window_slow = 26, window_fast = 12, window_sign = 9, fillna= True)\n",
    "data['MACD'] = macd_object.macd()\n",
    "data['MACD_Signal'] = macd_object.macd_signal()\n",
    "data['MACD_Diff'] = macd_object.macd_diff()\n",
    "#data.tail()"
   ]
  },
  {
   "cell_type": "code",
   "execution_count": 72,
   "id": "09f70b4f-e403-451d-9e67-cf36ff45fdba",
   "metadata": {},
   "outputs": [],
   "source": [
    "#https://www.investopedia.com/terms/m/mfi.asp\n",
    "mfi_indicator = ta.volume.MFIIndicator(high=data['High'], low=data['Low'], close=data['Close'], volume=data['Volume'], window=14,fillna=True)\n",
    "data['mfi'] = mfi_indicator.money_flow_index()"
   ]
  },
  {
   "cell_type": "code",
   "execution_count": 73,
   "id": "5aad93b0-9ffd-4047-a6e6-1faf6db69d3b",
   "metadata": {},
   "outputs": [],
   "source": [
    "# RSI\n",
    "rsi = ta.momentum.rsi(data['Close'], window=14, fillna=True)\n",
    "data['RSI'] = rsi"
   ]
  },
  {
   "cell_type": "code",
   "execution_count": 74,
   "id": "b6d6f094-01d4-4ac9-8553-50c51036afa7",
   "metadata": {},
   "outputs": [],
   "source": [
    "# EMA\n",
    "ema_short = ta.trend.EMAIndicator(data['Close'], window=12, fillna=True)\n",
    "ema_long = ta.trend.EMAIndicator(data['Close'], window=26, fillna=True)\n",
    "data['EMA_Short'] = ema_short.ema_indicator()\n",
    "data['EMA_Long'] = ema_long.ema_indicator()"
   ]
  },
  {
   "cell_type": "code",
   "execution_count": 75,
   "id": "ae344ddb-1c91-4179-895b-21d91f8ac9a2",
   "metadata": {},
   "outputs": [],
   "source": [
    "# Bollinger Bands\n",
    "bollinger = ta.volatility.BollingerBands(data['Close'], window=20, window_dev=2, fillna=True)\n",
    "data['Bollinger_Upper'] = bollinger.bollinger_hband()\n",
    "data['Bollinger_Lower'] = bollinger.bollinger_lband()\n",
    "data['Bollinger_Middle'] = bollinger.bollinger_mavg()"
   ]
  },
  {
   "cell_type": "code",
   "execution_count": 76,
   "id": "49b91148-d15e-4e00-8d89-0c1545cfb970",
   "metadata": {},
   "outputs": [],
   "source": [
    "# Stochastic Oscillator\n",
    "stoch = ta.momentum.StochasticOscillator(data['High'], data['Low'], data['Close'], window=14, smooth_window=3, fillna=True)\n",
    "data['Stochastic'] = stoch.stoch()\n",
    "data['Stochastic_Signal'] = stoch.stoch_signal()"
   ]
  },
  {
   "cell_type": "code",
   "execution_count": 77,
   "id": "fe1daf30-3b21-4799-86da-af35952b4413",
   "metadata": {},
   "outputs": [],
   "source": [
    "# ATR\n",
    "atr = ta.volatility.AverageTrueRange(data['High'], data['Low'], data['Close'], window=14, fillna=True)\n",
    "data['ATR'] = atr.average_true_range()"
   ]
  },
  {
   "cell_type": "code",
   "execution_count": 78,
   "id": "403f1e49-9637-4616-8956-721b9369596b",
   "metadata": {},
   "outputs": [],
   "source": [
    "# Parabolic SAR\n",
    "sar = ta.trend.PSARIndicator(data['High'], data['Low'], data['Close'], fillna=True)\n",
    "data['SAR'] = sar.psar()"
   ]
  },
  {
   "cell_type": "code",
   "execution_count": 79,
   "id": "38249fea-31b5-4d52-9320-d539534346de",
   "metadata": {},
   "outputs": [],
   "source": [
    "from sklearn.preprocessing import StandardScaler\n",
    "from sklearn.model_selection import train_test_split\n",
    "from sklearn.linear_model import LinearRegression\n",
    "from sklearn.metrics import mean_absolute_error, mean_squared_error, r2_score\n",
    "\n",
    "# Prepare the data (assuming 'data' is already pre-processed with features)\n",
    "data['Date'] = pd.to_datetime(data['Date'], utc=True)\n",
    "data['Target'] = data['Close'].shift(-1)\n",
    "data['Return'] = data['Close'].pct_change().fillna(0)\n",
    "data['Volatility'] = data['Return'].rolling(window=7).std().fillna(0)\n",
    "data['Volatility_x_Return'] = data['Volatility'] * data['Return']\n",
    "\n",
    "data = data.dropna(subset=['Target'])\n",
    "\n",
    "# Select features (excluding 'Date')\n",
    "features = [\n",
    "     'Bollinger_Upper', 'Bollinger_Lower', 'fgi', 'Close','nasdaq','sp500','vix'\n",
    "]\n",
    "\n",
    "X = data[features]\n",
    "y = data['Target']"
   ]
  },
  {
   "cell_type": "code",
   "execution_count": 80,
   "id": "fe107683-4e1e-4f70-9ae9-378a272549c2",
   "metadata": {},
   "outputs": [],
   "source": [
    "# Split the data into training and testing sets (80% train, 20% test)\n",
    "X_train, X_test, y_train, y_test = train_test_split(X, y, test_size=0.2, shuffle=False)"
   ]
  },
  {
   "cell_type": "code",
   "execution_count": 81,
   "id": "1ff12fe6-6ff6-4928-b193-f1f64ef830ef",
   "metadata": {},
   "outputs": [],
   "source": [
    "# Standardize the features\n",
    "scaler = StandardScaler()\n",
    "scaler.fit(X_train)  # Or your main feature training data\n",
    "\n",
    "# Then scale:\n",
    "x_train_scaled = scaler.transform(X_train)\n",
    "x_test_scaled = scaler.transform(X_test)\n",
    "\n",
    "\n",
    "# Train the model\n",
    "model = LinearRegression()\n",
    "model.fit(x_train_scaled, y_train)\n",
    "\n",
    "# Make predictions on the test data\n",
    "y_pred = model.predict(x_test_scaled)"
   ]
  },
  {
   "cell_type": "code",
   "execution_count": 82,
   "id": "1b652149-ee7c-4e5b-b07f-66c8d9c57100",
   "metadata": {},
   "outputs": [
    {
     "name": "stdout",
     "output_type": "stream",
     "text": [
      "Predicted next closing price: 82003.86640950837\n"
     ]
    }
   ],
   "source": [
    "\n",
    "\n",
    "\n",
    "# Make predictions for the next closing price\n",
    "# Use the last row from X_test (or any new data)\n",
    "latest_data = X_test.iloc[-1:]  # Keep it as a DataFrame (not numpy array)\n",
    "\n",
    "# Apply the same scaling to the latest data\n",
    "latest_data_scaled = scaler.transform(latest_data)  # The feature names are kept\n",
    "\n",
    "# Make prediction for the next closing price\n",
    "next_close_pred = model.predict(latest_data_scaled)\n",
    "print(f\"Predicted next closing price: {next_close_pred[0]}\")"
   ]
  },
  {
   "cell_type": "code",
   "execution_count": 83,
   "id": "fa5656a3-5aad-4898-be4c-feaba7e7bbf2",
   "metadata": {},
   "outputs": [
    {
     "name": "stdout",
     "output_type": "stream",
     "text": [
      "Final equation for predicting the next closing price:\n",
      "Predicted next closing price = 14668.01 + (372.88) * Bollinger_Upper + (-252.40) * Bollinger_Lower + (41.06) * fgi + (16009.40) * Close + (278.97) * nasdaq + (-148.09) * sp500 + (-6.65) * vix\n"
     ]
    }
   ],
   "source": [
    "# Extract the coefficients and the intercept\n",
    "coefficients = model.coef_\n",
    "intercept = model.intercept_\n",
    "\n",
    "# Create a dictionary mapping feature names to their corresponding coefficients\n",
    "feature_names = X.columns\n",
    "equation = f\"Predicted next closing price = {intercept:.2f}\"\n",
    "\n",
    "# Add each feature and its coefficient to the equation\n",
    "for feature, coef in zip(feature_names, coefficients):\n",
    "    equation += f\" + ({coef:.2f}) * {feature}\"\n",
    "\n",
    "# Display the equation\n",
    "print(\"Final equation for predicting the next closing price:\")\n",
    "print(equation)\n"
   ]
  },
  {
   "cell_type": "code",
   "execution_count": 84,
   "id": "a696a450-b367-42d0-bd29-aee107e6ee0c",
   "metadata": {},
   "outputs": [
    {
     "data": {
      "application/vnd.plotly.v1+json": {
       "config": {
        "plotlyServerURL": "https://plot.ly"
       },
       "data": [
        {
         "line": {
          "color": "blue"
         },
         "mode": "lines",
         "name": "Actual Closing Price",
         "type": "scatter",
         "x": [
          "2023-04-25T00:00:00.000000000",
          "2023-04-26T00:00:00.000000000",
          "2023-04-27T00:00:00.000000000",
          "2023-04-28T00:00:00.000000000",
          "2023-04-29T00:00:00.000000000",
          "2023-04-30T00:00:00.000000000",
          "2023-05-01T00:00:00.000000000",
          "2023-05-02T00:00:00.000000000",
          "2023-05-03T00:00:00.000000000",
          "2023-05-04T00:00:00.000000000",
          "2023-05-05T00:00:00.000000000",
          "2023-05-06T00:00:00.000000000",
          "2023-05-07T00:00:00.000000000",
          "2023-05-08T00:00:00.000000000",
          "2023-05-09T00:00:00.000000000",
          "2023-05-10T00:00:00.000000000",
          "2023-05-11T00:00:00.000000000",
          "2023-05-12T00:00:00.000000000",
          "2023-05-13T00:00:00.000000000",
          "2023-05-14T00:00:00.000000000",
          "2023-05-15T00:00:00.000000000",
          "2023-05-16T00:00:00.000000000",
          "2023-05-17T00:00:00.000000000",
          "2023-05-18T00:00:00.000000000",
          "2023-05-19T00:00:00.000000000",
          "2023-05-20T00:00:00.000000000",
          "2023-05-21T00:00:00.000000000",
          "2023-05-22T00:00:00.000000000",
          "2023-05-23T00:00:00.000000000",
          "2023-05-24T00:00:00.000000000",
          "2023-05-25T00:00:00.000000000",
          "2023-05-26T00:00:00.000000000",
          "2023-05-27T00:00:00.000000000",
          "2023-05-28T00:00:00.000000000",
          "2023-05-29T00:00:00.000000000",
          "2023-05-30T00:00:00.000000000",
          "2023-05-31T00:00:00.000000000",
          "2023-06-01T00:00:00.000000000",
          "2023-06-02T00:00:00.000000000",
          "2023-06-03T00:00:00.000000000",
          "2023-06-04T00:00:00.000000000",
          "2023-06-05T00:00:00.000000000",
          "2023-06-06T00:00:00.000000000",
          "2023-06-07T00:00:00.000000000",
          "2023-06-08T00:00:00.000000000",
          "2023-06-09T00:00:00.000000000",
          "2023-06-10T00:00:00.000000000",
          "2023-06-11T00:00:00.000000000",
          "2023-06-12T00:00:00.000000000",
          "2023-06-13T00:00:00.000000000",
          "2023-06-14T00:00:00.000000000",
          "2023-06-15T00:00:00.000000000",
          "2023-06-16T00:00:00.000000000",
          "2023-06-17T00:00:00.000000000",
          "2023-06-18T00:00:00.000000000",
          "2023-06-19T00:00:00.000000000",
          "2023-06-20T00:00:00.000000000",
          "2023-06-21T00:00:00.000000000",
          "2023-06-22T00:00:00.000000000",
          "2023-06-23T00:00:00.000000000",
          "2023-06-24T00:00:00.000000000",
          "2023-06-25T00:00:00.000000000",
          "2023-06-26T00:00:00.000000000",
          "2023-06-27T00:00:00.000000000",
          "2023-06-28T00:00:00.000000000",
          "2023-06-29T00:00:00.000000000",
          "2023-06-30T00:00:00.000000000",
          "2023-07-01T00:00:00.000000000",
          "2023-07-02T00:00:00.000000000",
          "2023-07-03T00:00:00.000000000",
          "2023-07-04T00:00:00.000000000",
          "2023-07-05T00:00:00.000000000",
          "2023-07-06T00:00:00.000000000",
          "2023-07-07T00:00:00.000000000",
          "2023-07-08T00:00:00.000000000",
          "2023-07-09T00:00:00.000000000",
          "2023-07-10T00:00:00.000000000",
          "2023-07-11T00:00:00.000000000",
          "2023-07-12T00:00:00.000000000",
          "2023-07-13T00:00:00.000000000",
          "2023-07-14T00:00:00.000000000",
          "2023-07-15T00:00:00.000000000",
          "2023-07-16T00:00:00.000000000",
          "2023-07-17T00:00:00.000000000",
          "2023-07-18T00:00:00.000000000",
          "2023-07-19T00:00:00.000000000",
          "2023-07-20T00:00:00.000000000",
          "2023-07-21T00:00:00.000000000",
          "2023-07-22T00:00:00.000000000",
          "2023-07-23T00:00:00.000000000",
          "2023-07-24T00:00:00.000000000",
          "2023-07-25T00:00:00.000000000",
          "2023-07-26T00:00:00.000000000",
          "2023-07-27T00:00:00.000000000",
          "2023-07-28T00:00:00.000000000",
          "2023-07-29T00:00:00.000000000",
          "2023-07-30T00:00:00.000000000",
          "2023-07-31T00:00:00.000000000",
          "2023-08-01T00:00:00.000000000",
          "2023-08-02T00:00:00.000000000",
          "2023-08-03T00:00:00.000000000",
          "2023-08-04T00:00:00.000000000",
          "2023-08-05T00:00:00.000000000",
          "2023-08-06T00:00:00.000000000",
          "2023-08-07T00:00:00.000000000",
          "2023-08-08T00:00:00.000000000",
          "2023-08-09T00:00:00.000000000",
          "2023-08-10T00:00:00.000000000",
          "2023-08-11T00:00:00.000000000",
          "2023-08-12T00:00:00.000000000",
          "2023-08-13T00:00:00.000000000",
          "2023-08-14T00:00:00.000000000",
          "2023-08-15T00:00:00.000000000",
          "2023-08-16T00:00:00.000000000",
          "2023-08-17T00:00:00.000000000",
          "2023-08-18T00:00:00.000000000",
          "2023-08-19T00:00:00.000000000",
          "2023-08-20T00:00:00.000000000",
          "2023-08-21T00:00:00.000000000",
          "2023-08-22T00:00:00.000000000",
          "2023-08-23T00:00:00.000000000",
          "2023-08-24T00:00:00.000000000",
          "2023-08-25T00:00:00.000000000",
          "2023-08-26T00:00:00.000000000",
          "2023-08-27T00:00:00.000000000",
          "2023-08-28T00:00:00.000000000",
          "2023-08-29T00:00:00.000000000",
          "2023-08-30T00:00:00.000000000",
          "2023-08-31T00:00:00.000000000",
          "2023-09-01T00:00:00.000000000",
          "2023-09-02T00:00:00.000000000",
          "2023-09-03T00:00:00.000000000",
          "2023-09-04T00:00:00.000000000",
          "2023-09-05T00:00:00.000000000",
          "2023-09-06T00:00:00.000000000",
          "2023-09-07T00:00:00.000000000",
          "2023-09-08T00:00:00.000000000",
          "2023-09-09T00:00:00.000000000",
          "2023-09-10T00:00:00.000000000",
          "2023-09-11T00:00:00.000000000",
          "2023-09-12T00:00:00.000000000",
          "2023-09-13T00:00:00.000000000",
          "2023-09-14T00:00:00.000000000",
          "2023-09-15T00:00:00.000000000",
          "2023-09-16T00:00:00.000000000",
          "2023-09-17T00:00:00.000000000",
          "2023-09-18T00:00:00.000000000",
          "2023-09-19T00:00:00.000000000",
          "2023-09-20T00:00:00.000000000",
          "2023-09-21T00:00:00.000000000",
          "2023-09-22T00:00:00.000000000",
          "2023-09-23T00:00:00.000000000",
          "2023-09-24T00:00:00.000000000",
          "2023-09-25T00:00:00.000000000",
          "2023-09-26T00:00:00.000000000",
          "2023-09-27T00:00:00.000000000",
          "2023-09-28T00:00:00.000000000",
          "2023-09-29T00:00:00.000000000",
          "2023-09-30T00:00:00.000000000",
          "2023-10-01T00:00:00.000000000",
          "2023-10-02T00:00:00.000000000",
          "2023-10-03T00:00:00.000000000",
          "2023-10-04T00:00:00.000000000",
          "2023-10-05T00:00:00.000000000",
          "2023-10-06T00:00:00.000000000",
          "2023-10-07T00:00:00.000000000",
          "2023-10-08T00:00:00.000000000",
          "2023-10-09T00:00:00.000000000",
          "2023-10-10T00:00:00.000000000",
          "2023-10-11T00:00:00.000000000",
          "2023-10-12T00:00:00.000000000",
          "2023-10-13T00:00:00.000000000",
          "2023-10-14T00:00:00.000000000",
          "2023-10-15T00:00:00.000000000",
          "2023-10-16T00:00:00.000000000",
          "2023-10-17T00:00:00.000000000",
          "2023-10-18T00:00:00.000000000",
          "2023-10-19T00:00:00.000000000",
          "2023-10-20T00:00:00.000000000",
          "2023-10-21T00:00:00.000000000",
          "2023-10-22T00:00:00.000000000",
          "2023-10-23T00:00:00.000000000",
          "2023-10-24T00:00:00.000000000",
          "2023-10-25T00:00:00.000000000",
          "2023-10-26T00:00:00.000000000",
          "2023-10-27T00:00:00.000000000",
          "2023-10-28T00:00:00.000000000",
          "2023-10-29T00:00:00.000000000",
          "2023-10-30T00:00:00.000000000",
          "2023-10-31T00:00:00.000000000",
          "2023-11-01T00:00:00.000000000",
          "2023-11-02T00:00:00.000000000",
          "2023-11-03T00:00:00.000000000",
          "2023-11-04T00:00:00.000000000",
          "2023-11-05T00:00:00.000000000",
          "2023-11-06T00:00:00.000000000",
          "2023-11-07T00:00:00.000000000",
          "2023-11-08T00:00:00.000000000",
          "2023-11-09T00:00:00.000000000",
          "2023-11-10T00:00:00.000000000",
          "2023-11-11T00:00:00.000000000",
          "2023-11-12T00:00:00.000000000",
          "2023-11-13T00:00:00.000000000",
          "2023-11-14T00:00:00.000000000",
          "2023-11-15T00:00:00.000000000",
          "2023-11-16T00:00:00.000000000",
          "2023-11-17T00:00:00.000000000",
          "2023-11-18T00:00:00.000000000",
          "2023-11-19T00:00:00.000000000",
          "2023-11-20T00:00:00.000000000",
          "2023-11-21T00:00:00.000000000",
          "2023-11-22T00:00:00.000000000",
          "2023-11-23T00:00:00.000000000",
          "2023-11-24T00:00:00.000000000",
          "2023-11-25T00:00:00.000000000",
          "2023-11-26T00:00:00.000000000",
          "2023-11-27T00:00:00.000000000",
          "2023-11-28T00:00:00.000000000",
          "2023-11-29T00:00:00.000000000",
          "2023-11-30T00:00:00.000000000",
          "2023-12-01T00:00:00.000000000",
          "2023-12-02T00:00:00.000000000",
          "2023-12-03T00:00:00.000000000",
          "2023-12-04T00:00:00.000000000",
          "2023-12-05T00:00:00.000000000",
          "2023-12-06T00:00:00.000000000",
          "2023-12-07T00:00:00.000000000",
          "2023-12-08T00:00:00.000000000",
          "2023-12-09T00:00:00.000000000",
          "2023-12-10T00:00:00.000000000",
          "2023-12-11T00:00:00.000000000",
          "2023-12-12T00:00:00.000000000",
          "2023-12-13T00:00:00.000000000",
          "2023-12-14T00:00:00.000000000",
          "2023-12-15T00:00:00.000000000",
          "2023-12-16T00:00:00.000000000",
          "2023-12-17T00:00:00.000000000",
          "2023-12-18T00:00:00.000000000",
          "2023-12-19T00:00:00.000000000",
          "2023-12-20T00:00:00.000000000",
          "2023-12-21T00:00:00.000000000",
          "2023-12-22T00:00:00.000000000",
          "2023-12-23T00:00:00.000000000",
          "2023-12-24T00:00:00.000000000",
          "2023-12-25T00:00:00.000000000",
          "2023-12-26T00:00:00.000000000",
          "2023-12-27T00:00:00.000000000",
          "2023-12-28T00:00:00.000000000",
          "2023-12-29T00:00:00.000000000",
          "2023-12-30T00:00:00.000000000",
          "2023-12-31T00:00:00.000000000",
          "2024-01-01T00:00:00.000000000",
          "2024-01-02T00:00:00.000000000",
          "2024-01-03T00:00:00.000000000",
          "2024-01-04T00:00:00.000000000",
          "2024-01-05T00:00:00.000000000",
          "2024-01-06T00:00:00.000000000",
          "2024-01-07T00:00:00.000000000",
          "2024-01-08T00:00:00.000000000",
          "2024-01-09T00:00:00.000000000",
          "2024-01-10T00:00:00.000000000",
          "2024-01-11T00:00:00.000000000",
          "2024-01-12T00:00:00.000000000",
          "2024-01-13T00:00:00.000000000",
          "2024-01-14T00:00:00.000000000",
          "2024-01-15T00:00:00.000000000",
          "2024-01-16T00:00:00.000000000",
          "2024-01-17T00:00:00.000000000",
          "2024-01-18T00:00:00.000000000",
          "2024-01-19T00:00:00.000000000",
          "2024-01-20T00:00:00.000000000",
          "2024-01-21T00:00:00.000000000",
          "2024-01-22T00:00:00.000000000",
          "2024-01-23T00:00:00.000000000",
          "2024-01-24T00:00:00.000000000",
          "2024-01-25T00:00:00.000000000",
          "2024-01-26T00:00:00.000000000",
          "2024-01-27T00:00:00.000000000",
          "2024-01-28T00:00:00.000000000",
          "2024-01-29T00:00:00.000000000",
          "2024-01-30T00:00:00.000000000",
          "2024-01-31T00:00:00.000000000",
          "2024-02-01T00:00:00.000000000",
          "2024-02-02T00:00:00.000000000",
          "2024-02-03T00:00:00.000000000",
          "2024-02-04T00:00:00.000000000",
          "2024-02-05T00:00:00.000000000",
          "2024-02-06T00:00:00.000000000",
          "2024-02-07T00:00:00.000000000",
          "2024-02-08T00:00:00.000000000",
          "2024-02-09T00:00:00.000000000",
          "2024-02-10T00:00:00.000000000",
          "2024-02-11T00:00:00.000000000",
          "2024-02-12T00:00:00.000000000",
          "2024-02-13T00:00:00.000000000",
          "2024-02-14T00:00:00.000000000",
          "2024-02-15T00:00:00.000000000",
          "2024-02-16T00:00:00.000000000",
          "2024-02-17T00:00:00.000000000",
          "2024-02-18T00:00:00.000000000",
          "2024-02-19T00:00:00.000000000",
          "2024-02-20T00:00:00.000000000",
          "2024-02-21T00:00:00.000000000",
          "2024-02-22T00:00:00.000000000",
          "2024-02-23T00:00:00.000000000",
          "2024-02-24T00:00:00.000000000",
          "2024-02-25T00:00:00.000000000",
          "2024-02-26T00:00:00.000000000",
          "2024-02-27T00:00:00.000000000",
          "2024-02-28T00:00:00.000000000",
          "2024-02-29T00:00:00.000000000",
          "2024-03-01T00:00:00.000000000",
          "2024-03-02T00:00:00.000000000",
          "2024-03-03T00:00:00.000000000",
          "2024-03-04T00:00:00.000000000",
          "2024-03-05T00:00:00.000000000",
          "2024-03-06T00:00:00.000000000",
          "2024-03-07T00:00:00.000000000",
          "2024-03-08T00:00:00.000000000",
          "2024-03-09T00:00:00.000000000",
          "2024-03-10T00:00:00.000000000",
          "2024-03-11T00:00:00.000000000",
          "2024-03-12T00:00:00.000000000",
          "2024-03-13T00:00:00.000000000",
          "2024-03-14T00:00:00.000000000",
          "2024-03-15T00:00:00.000000000",
          "2024-03-16T00:00:00.000000000",
          "2024-03-17T00:00:00.000000000",
          "2024-03-18T00:00:00.000000000",
          "2024-03-19T00:00:00.000000000",
          "2024-03-20T00:00:00.000000000",
          "2024-03-21T00:00:00.000000000",
          "2024-03-22T00:00:00.000000000",
          "2024-03-23T00:00:00.000000000",
          "2024-03-24T00:00:00.000000000",
          "2024-03-25T00:00:00.000000000",
          "2024-03-26T00:00:00.000000000",
          "2024-03-27T00:00:00.000000000",
          "2024-03-28T00:00:00.000000000",
          "2024-03-29T00:00:00.000000000",
          "2024-03-30T00:00:00.000000000",
          "2024-03-31T00:00:00.000000000",
          "2024-04-01T00:00:00.000000000",
          "2024-04-02T00:00:00.000000000",
          "2024-04-03T00:00:00.000000000",
          "2024-04-04T00:00:00.000000000",
          "2024-04-05T00:00:00.000000000",
          "2024-04-06T00:00:00.000000000",
          "2024-04-07T00:00:00.000000000",
          "2024-04-08T00:00:00.000000000",
          "2024-04-09T00:00:00.000000000",
          "2024-04-10T00:00:00.000000000",
          "2024-04-11T00:00:00.000000000",
          "2024-04-12T00:00:00.000000000",
          "2024-04-13T00:00:00.000000000",
          "2024-04-14T00:00:00.000000000",
          "2024-04-15T00:00:00.000000000",
          "2024-04-16T00:00:00.000000000",
          "2024-04-17T00:00:00.000000000",
          "2024-04-18T00:00:00.000000000",
          "2024-04-19T00:00:00.000000000",
          "2024-04-20T00:00:00.000000000",
          "2024-04-21T00:00:00.000000000",
          "2024-04-22T00:00:00.000000000",
          "2024-04-23T00:00:00.000000000",
          "2024-04-24T00:00:00.000000000",
          "2024-04-25T00:00:00.000000000",
          "2024-04-26T00:00:00.000000000",
          "2024-04-27T00:00:00.000000000",
          "2024-04-28T00:00:00.000000000",
          "2024-04-29T00:00:00.000000000",
          "2024-04-30T00:00:00.000000000",
          "2024-05-01T00:00:00.000000000",
          "2024-05-02T00:00:00.000000000",
          "2024-05-03T00:00:00.000000000",
          "2024-05-04T00:00:00.000000000",
          "2024-05-05T00:00:00.000000000",
          "2024-05-06T00:00:00.000000000",
          "2024-05-07T00:00:00.000000000",
          "2024-05-08T00:00:00.000000000",
          "2024-05-09T00:00:00.000000000",
          "2024-05-10T00:00:00.000000000",
          "2024-05-11T00:00:00.000000000",
          "2024-05-12T00:00:00.000000000",
          "2024-05-13T00:00:00.000000000",
          "2024-05-14T00:00:00.000000000",
          "2024-05-15T00:00:00.000000000",
          "2024-05-16T00:00:00.000000000",
          "2024-05-17T00:00:00.000000000",
          "2024-05-18T00:00:00.000000000",
          "2024-05-19T00:00:00.000000000",
          "2024-05-20T00:00:00.000000000",
          "2024-05-21T00:00:00.000000000",
          "2024-05-22T00:00:00.000000000",
          "2024-05-23T00:00:00.000000000",
          "2024-05-24T00:00:00.000000000",
          "2024-05-25T00:00:00.000000000",
          "2024-05-26T00:00:00.000000000",
          "2024-05-27T00:00:00.000000000",
          "2024-05-28T00:00:00.000000000",
          "2024-05-29T00:00:00.000000000",
          "2024-05-30T00:00:00.000000000",
          "2024-05-31T00:00:00.000000000",
          "2024-06-01T00:00:00.000000000",
          "2024-06-02T00:00:00.000000000",
          "2024-06-03T00:00:00.000000000",
          "2024-06-04T00:00:00.000000000",
          "2024-06-05T00:00:00.000000000",
          "2024-06-06T00:00:00.000000000",
          "2024-06-07T00:00:00.000000000",
          "2024-06-08T00:00:00.000000000",
          "2024-06-09T00:00:00.000000000",
          "2024-06-10T00:00:00.000000000",
          "2024-06-11T00:00:00.000000000",
          "2024-06-12T00:00:00.000000000",
          "2024-06-13T00:00:00.000000000",
          "2024-06-14T00:00:00.000000000",
          "2024-06-15T00:00:00.000000000",
          "2024-06-16T00:00:00.000000000",
          "2024-06-17T00:00:00.000000000",
          "2024-06-18T00:00:00.000000000",
          "2024-06-19T00:00:00.000000000",
          "2024-06-20T00:00:00.000000000",
          "2024-06-21T00:00:00.000000000",
          "2024-06-22T00:00:00.000000000",
          "2024-06-23T00:00:00.000000000",
          "2024-06-24T00:00:00.000000000",
          "2024-06-25T00:00:00.000000000",
          "2024-06-26T00:00:00.000000000",
          "2024-06-27T00:00:00.000000000",
          "2024-06-28T00:00:00.000000000",
          "2024-06-29T00:00:00.000000000",
          "2024-06-30T00:00:00.000000000",
          "2024-07-01T00:00:00.000000000",
          "2024-07-02T00:00:00.000000000",
          "2024-07-03T00:00:00.000000000",
          "2024-07-04T00:00:00.000000000",
          "2024-07-05T00:00:00.000000000",
          "2024-07-06T00:00:00.000000000",
          "2024-07-07T00:00:00.000000000",
          "2024-07-08T00:00:00.000000000",
          "2024-07-09T00:00:00.000000000",
          "2024-07-10T00:00:00.000000000",
          "2024-07-11T00:00:00.000000000",
          "2024-07-12T00:00:00.000000000",
          "2024-07-13T00:00:00.000000000",
          "2024-07-14T00:00:00.000000000",
          "2024-07-15T00:00:00.000000000",
          "2024-07-16T00:00:00.000000000",
          "2024-07-17T00:00:00.000000000",
          "2024-07-18T00:00:00.000000000",
          "2024-07-19T00:00:00.000000000",
          "2024-07-20T00:00:00.000000000",
          "2024-07-21T00:00:00.000000000",
          "2024-07-22T00:00:00.000000000",
          "2024-07-23T00:00:00.000000000",
          "2024-07-24T00:00:00.000000000",
          "2024-07-25T00:00:00.000000000",
          "2024-07-26T00:00:00.000000000",
          "2024-07-27T00:00:00.000000000",
          "2024-07-28T00:00:00.000000000",
          "2024-07-29T00:00:00.000000000",
          "2024-07-30T00:00:00.000000000",
          "2024-07-31T00:00:00.000000000",
          "2024-08-01T00:00:00.000000000",
          "2024-08-02T00:00:00.000000000",
          "2024-08-03T00:00:00.000000000",
          "2024-08-04T00:00:00.000000000",
          "2024-08-05T00:00:00.000000000",
          "2024-08-06T00:00:00.000000000",
          "2024-08-07T00:00:00.000000000",
          "2024-08-08T00:00:00.000000000",
          "2024-08-09T00:00:00.000000000",
          "2024-08-10T00:00:00.000000000",
          "2024-08-11T00:00:00.000000000",
          "2024-08-12T00:00:00.000000000",
          "2024-08-13T00:00:00.000000000",
          "2024-08-14T00:00:00.000000000",
          "2024-08-15T00:00:00.000000000",
          "2024-08-16T00:00:00.000000000",
          "2024-08-17T00:00:00.000000000",
          "2024-08-18T00:00:00.000000000",
          "2024-08-19T00:00:00.000000000",
          "2024-08-20T00:00:00.000000000",
          "2024-08-21T00:00:00.000000000",
          "2024-08-22T00:00:00.000000000",
          "2024-08-23T00:00:00.000000000",
          "2024-08-24T00:00:00.000000000",
          "2024-08-25T00:00:00.000000000",
          "2024-08-26T00:00:00.000000000",
          "2024-08-27T00:00:00.000000000",
          "2024-08-28T00:00:00.000000000",
          "2024-08-29T00:00:00.000000000",
          "2024-08-30T00:00:00.000000000",
          "2024-08-31T00:00:00.000000000",
          "2024-09-01T00:00:00.000000000",
          "2024-09-02T00:00:00.000000000",
          "2024-09-03T00:00:00.000000000",
          "2024-09-04T00:00:00.000000000",
          "2024-09-05T00:00:00.000000000",
          "2024-09-06T00:00:00.000000000",
          "2024-09-07T00:00:00.000000000",
          "2024-09-08T00:00:00.000000000",
          "2024-09-09T00:00:00.000000000",
          "2024-09-10T00:00:00.000000000",
          "2024-09-11T00:00:00.000000000",
          "2024-09-12T00:00:00.000000000",
          "2024-09-13T00:00:00.000000000",
          "2024-09-14T00:00:00.000000000",
          "2024-09-15T00:00:00.000000000",
          "2024-09-16T00:00:00.000000000",
          "2024-09-17T00:00:00.000000000",
          "2024-09-18T00:00:00.000000000",
          "2024-09-19T00:00:00.000000000",
          "2024-09-20T00:00:00.000000000",
          "2024-09-21T00:00:00.000000000",
          "2024-09-22T00:00:00.000000000",
          "2024-09-23T00:00:00.000000000",
          "2024-09-24T00:00:00.000000000",
          "2024-09-25T00:00:00.000000000",
          "2024-09-26T00:00:00.000000000",
          "2024-09-27T00:00:00.000000000",
          "2024-09-28T00:00:00.000000000",
          "2024-09-29T00:00:00.000000000",
          "2024-09-30T00:00:00.000000000",
          "2024-10-01T00:00:00.000000000",
          "2024-10-02T00:00:00.000000000",
          "2024-10-03T00:00:00.000000000",
          "2024-10-04T00:00:00.000000000",
          "2024-10-05T00:00:00.000000000",
          "2024-10-06T00:00:00.000000000",
          "2024-10-07T00:00:00.000000000",
          "2024-10-08T00:00:00.000000000",
          "2024-10-09T00:00:00.000000000",
          "2024-10-10T00:00:00.000000000",
          "2024-10-11T00:00:00.000000000",
          "2024-10-12T00:00:00.000000000",
          "2024-10-13T00:00:00.000000000",
          "2024-10-14T00:00:00.000000000",
          "2024-10-15T00:00:00.000000000",
          "2024-10-16T00:00:00.000000000",
          "2024-10-17T00:00:00.000000000",
          "2024-10-18T00:00:00.000000000",
          "2024-10-19T00:00:00.000000000",
          "2024-10-20T00:00:00.000000000",
          "2024-10-21T00:00:00.000000000",
          "2024-10-22T00:00:00.000000000",
          "2024-10-23T00:00:00.000000000",
          "2024-10-24T00:00:00.000000000",
          "2024-10-25T00:00:00.000000000",
          "2024-10-26T00:00:00.000000000",
          "2024-10-27T00:00:00.000000000",
          "2024-10-28T00:00:00.000000000",
          "2024-10-29T00:00:00.000000000",
          "2024-10-30T00:00:00.000000000",
          "2024-10-31T00:00:00.000000000",
          "2024-11-01T00:00:00.000000000",
          "2024-11-02T00:00:00.000000000",
          "2024-11-03T00:00:00.000000000",
          "2024-11-04T00:00:00.000000000",
          "2024-11-05T00:00:00.000000000",
          "2024-11-06T00:00:00.000000000",
          "2024-11-07T00:00:00.000000000",
          "2024-11-08T00:00:00.000000000",
          "2024-11-09T00:00:00.000000000",
          "2024-11-10T00:00:00.000000000",
          "2024-11-11T00:00:00.000000000",
          "2024-11-12T00:00:00.000000000",
          "2024-11-13T00:00:00.000000000",
          "2024-11-14T00:00:00.000000000",
          "2024-11-15T00:00:00.000000000",
          "2024-11-16T00:00:00.000000000",
          "2024-11-17T00:00:00.000000000",
          "2024-11-18T00:00:00.000000000",
          "2024-11-19T00:00:00.000000000",
          "2024-11-20T00:00:00.000000000",
          "2024-11-21T00:00:00.000000000",
          "2024-11-22T00:00:00.000000000",
          "2024-11-23T00:00:00.000000000",
          "2024-11-24T00:00:00.000000000",
          "2024-11-25T00:00:00.000000000",
          "2024-11-26T00:00:00.000000000",
          "2024-11-27T00:00:00.000000000",
          "2024-11-28T00:00:00.000000000",
          "2024-11-29T00:00:00.000000000",
          "2024-11-30T00:00:00.000000000",
          "2024-12-01T00:00:00.000000000",
          "2024-12-02T00:00:00.000000000",
          "2024-12-03T00:00:00.000000000",
          "2024-12-04T00:00:00.000000000",
          "2024-12-05T00:00:00.000000000",
          "2024-12-06T00:00:00.000000000",
          "2024-12-07T00:00:00.000000000",
          "2024-12-08T00:00:00.000000000",
          "2024-12-09T00:00:00.000000000",
          "2024-12-10T00:00:00.000000000",
          "2024-12-11T00:00:00.000000000",
          "2024-12-12T00:00:00.000000000",
          "2024-12-13T00:00:00.000000000",
          "2024-12-14T00:00:00.000000000",
          "2024-12-15T00:00:00.000000000",
          "2024-12-16T00:00:00.000000000",
          "2024-12-17T00:00:00.000000000",
          "2024-12-18T00:00:00.000000000",
          "2024-12-19T00:00:00.000000000",
          "2024-12-20T00:00:00.000000000",
          "2024-12-21T00:00:00.000000000",
          "2024-12-22T00:00:00.000000000",
          "2024-12-23T00:00:00.000000000",
          "2024-12-24T00:00:00.000000000",
          "2024-12-25T00:00:00.000000000",
          "2024-12-26T00:00:00.000000000",
          "2024-12-27T00:00:00.000000000",
          "2024-12-28T00:00:00.000000000",
          "2024-12-29T00:00:00.000000000",
          "2024-12-30T00:00:00.000000000",
          "2024-12-31T00:00:00.000000000",
          "2025-01-01T00:00:00.000000000",
          "2025-01-02T00:00:00.000000000",
          "2025-01-03T00:00:00.000000000",
          "2025-01-04T00:00:00.000000000",
          "2025-01-05T00:00:00.000000000",
          "2025-01-06T00:00:00.000000000",
          "2025-01-07T00:00:00.000000000",
          "2025-01-08T00:00:00.000000000",
          "2025-01-09T00:00:00.000000000",
          "2025-01-10T00:00:00.000000000",
          "2025-01-11T00:00:00.000000000",
          "2025-01-12T00:00:00.000000000",
          "2025-01-13T00:00:00.000000000",
          "2025-01-14T00:00:00.000000000",
          "2025-01-15T00:00:00.000000000",
          "2025-01-16T00:00:00.000000000",
          "2025-01-17T00:00:00.000000000",
          "2025-01-18T00:00:00.000000000",
          "2025-01-19T00:00:00.000000000",
          "2025-01-20T00:00:00.000000000",
          "2025-01-21T00:00:00.000000000",
          "2025-01-22T00:00:00.000000000",
          "2025-01-23T00:00:00.000000000",
          "2025-01-24T00:00:00.000000000",
          "2025-01-25T00:00:00.000000000",
          "2025-01-26T00:00:00.000000000",
          "2025-01-27T00:00:00.000000000",
          "2025-01-28T00:00:00.000000000",
          "2025-01-29T00:00:00.000000000",
          "2025-01-30T00:00:00.000000000",
          "2025-01-31T00:00:00.000000000",
          "2025-02-01T00:00:00.000000000",
          "2025-02-02T00:00:00.000000000",
          "2025-02-03T00:00:00.000000000",
          "2025-02-04T00:00:00.000000000",
          "2025-02-05T00:00:00.000000000",
          "2025-02-06T00:00:00.000000000",
          "2025-02-07T00:00:00.000000000",
          "2025-02-08T00:00:00.000000000",
          "2025-02-09T00:00:00.000000000",
          "2025-02-10T00:00:00.000000000",
          "2025-02-11T00:00:00.000000000",
          "2025-02-12T00:00:00.000000000",
          "2025-02-13T00:00:00.000000000",
          "2025-02-14T00:00:00.000000000",
          "2025-02-15T00:00:00.000000000",
          "2025-02-16T00:00:00.000000000",
          "2025-02-17T00:00:00.000000000",
          "2025-02-18T00:00:00.000000000",
          "2025-02-19T00:00:00.000000000",
          "2025-02-20T00:00:00.000000000",
          "2025-02-21T00:00:00.000000000",
          "2025-02-22T00:00:00.000000000",
          "2025-02-23T00:00:00.000000000",
          "2025-02-24T00:00:00.000000000",
          "2025-02-25T00:00:00.000000000",
          "2025-02-26T00:00:00.000000000",
          "2025-02-27T00:00:00.000000000",
          "2025-02-28T00:00:00.000000000",
          "2025-03-01T00:00:00.000000000",
          "2025-03-02T00:00:00.000000000",
          "2025-03-03T00:00:00.000000000",
          "2025-03-04T00:00:00.000000000",
          "2025-03-05T00:00:00.000000000",
          "2025-03-06T00:00:00.000000000",
          "2025-03-07T00:00:00.000000000",
          "2025-03-08T00:00:00.000000000",
          "2025-03-09T00:00:00.000000000",
          "2025-03-10T00:00:00.000000000",
          "2025-03-11T00:00:00.000000000",
          "2025-03-12T00:00:00.000000000",
          "2025-03-13T00:00:00.000000000",
          "2025-03-14T00:00:00.000000000",
          "2025-03-15T00:00:00.000000000",
          "2025-03-16T00:00:00.000000000",
          "2025-03-17T00:00:00.000000000",
          "2025-03-18T00:00:00.000000000",
          "2025-03-19T00:00:00.000000000",
          "2025-03-20T00:00:00.000000000",
          "2025-03-21T00:00:00.000000000",
          "2025-03-22T00:00:00.000000000",
          "2025-03-23T00:00:00.000000000",
          "2025-03-24T00:00:00.000000000",
          "2025-03-25T00:00:00.000000000",
          "2025-03-26T00:00:00.000000000",
          "2025-03-27T00:00:00.000000000",
          "2025-03-28T00:00:00.000000000",
          "2025-03-29T00:00:00.000000000",
          "2025-03-30T00:00:00.000000000",
          "2025-03-31T00:00:00.000000000",
          "2025-04-01T00:00:00.000000000",
          "2025-04-02T00:00:00.000000000"
         ],
         "y": {
          "bdata": "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",
          "dtype": "f8"
         }
        },
        {
         "line": {
          "color": "red",
          "dash": "dash"
         },
         "mode": "lines",
         "name": "Predicted Closing Price",
         "type": "scatter",
         "x": [
          "2023-04-25T00:00:00.000000000",
          "2023-04-26T00:00:00.000000000",
          "2023-04-27T00:00:00.000000000",
          "2023-04-28T00:00:00.000000000",
          "2023-04-29T00:00:00.000000000",
          "2023-04-30T00:00:00.000000000",
          "2023-05-01T00:00:00.000000000",
          "2023-05-02T00:00:00.000000000",
          "2023-05-03T00:00:00.000000000",
          "2023-05-04T00:00:00.000000000",
          "2023-05-05T00:00:00.000000000",
          "2023-05-06T00:00:00.000000000",
          "2023-05-07T00:00:00.000000000",
          "2023-05-08T00:00:00.000000000",
          "2023-05-09T00:00:00.000000000",
          "2023-05-10T00:00:00.000000000",
          "2023-05-11T00:00:00.000000000",
          "2023-05-12T00:00:00.000000000",
          "2023-05-13T00:00:00.000000000",
          "2023-05-14T00:00:00.000000000",
          "2023-05-15T00:00:00.000000000",
          "2023-05-16T00:00:00.000000000",
          "2023-05-17T00:00:00.000000000",
          "2023-05-18T00:00:00.000000000",
          "2023-05-19T00:00:00.000000000",
          "2023-05-20T00:00:00.000000000",
          "2023-05-21T00:00:00.000000000",
          "2023-05-22T00:00:00.000000000",
          "2023-05-23T00:00:00.000000000",
          "2023-05-24T00:00:00.000000000",
          "2023-05-25T00:00:00.000000000",
          "2023-05-26T00:00:00.000000000",
          "2023-05-27T00:00:00.000000000",
          "2023-05-28T00:00:00.000000000",
          "2023-05-29T00:00:00.000000000",
          "2023-05-30T00:00:00.000000000",
          "2023-05-31T00:00:00.000000000",
          "2023-06-01T00:00:00.000000000",
          "2023-06-02T00:00:00.000000000",
          "2023-06-03T00:00:00.000000000",
          "2023-06-04T00:00:00.000000000",
          "2023-06-05T00:00:00.000000000",
          "2023-06-06T00:00:00.000000000",
          "2023-06-07T00:00:00.000000000",
          "2023-06-08T00:00:00.000000000",
          "2023-06-09T00:00:00.000000000",
          "2023-06-10T00:00:00.000000000",
          "2023-06-11T00:00:00.000000000",
          "2023-06-12T00:00:00.000000000",
          "2023-06-13T00:00:00.000000000",
          "2023-06-14T00:00:00.000000000",
          "2023-06-15T00:00:00.000000000",
          "2023-06-16T00:00:00.000000000",
          "2023-06-17T00:00:00.000000000",
          "2023-06-18T00:00:00.000000000",
          "2023-06-19T00:00:00.000000000",
          "2023-06-20T00:00:00.000000000",
          "2023-06-21T00:00:00.000000000",
          "2023-06-22T00:00:00.000000000",
          "2023-06-23T00:00:00.000000000",
          "2023-06-24T00:00:00.000000000",
          "2023-06-25T00:00:00.000000000",
          "2023-06-26T00:00:00.000000000",
          "2023-06-27T00:00:00.000000000",
          "2023-06-28T00:00:00.000000000",
          "2023-06-29T00:00:00.000000000",
          "2023-06-30T00:00:00.000000000",
          "2023-07-01T00:00:00.000000000",
          "2023-07-02T00:00:00.000000000",
          "2023-07-03T00:00:00.000000000",
          "2023-07-04T00:00:00.000000000",
          "2023-07-05T00:00:00.000000000",
          "2023-07-06T00:00:00.000000000",
          "2023-07-07T00:00:00.000000000",
          "2023-07-08T00:00:00.000000000",
          "2023-07-09T00:00:00.000000000",
          "2023-07-10T00:00:00.000000000",
          "2023-07-11T00:00:00.000000000",
          "2023-07-12T00:00:00.000000000",
          "2023-07-13T00:00:00.000000000",
          "2023-07-14T00:00:00.000000000",
          "2023-07-15T00:00:00.000000000",
          "2023-07-16T00:00:00.000000000",
          "2023-07-17T00:00:00.000000000",
          "2023-07-18T00:00:00.000000000",
          "2023-07-19T00:00:00.000000000",
          "2023-07-20T00:00:00.000000000",
          "2023-07-21T00:00:00.000000000",
          "2023-07-22T00:00:00.000000000",
          "2023-07-23T00:00:00.000000000",
          "2023-07-24T00:00:00.000000000",
          "2023-07-25T00:00:00.000000000",
          "2023-07-26T00:00:00.000000000",
          "2023-07-27T00:00:00.000000000",
          "2023-07-28T00:00:00.000000000",
          "2023-07-29T00:00:00.000000000",
          "2023-07-30T00:00:00.000000000",
          "2023-07-31T00:00:00.000000000",
          "2023-08-01T00:00:00.000000000",
          "2023-08-02T00:00:00.000000000",
          "2023-08-03T00:00:00.000000000",
          "2023-08-04T00:00:00.000000000",
          "2023-08-05T00:00:00.000000000",
          "2023-08-06T00:00:00.000000000",
          "2023-08-07T00:00:00.000000000",
          "2023-08-08T00:00:00.000000000",
          "2023-08-09T00:00:00.000000000",
          "2023-08-10T00:00:00.000000000",
          "2023-08-11T00:00:00.000000000",
          "2023-08-12T00:00:00.000000000",
          "2023-08-13T00:00:00.000000000",
          "2023-08-14T00:00:00.000000000",
          "2023-08-15T00:00:00.000000000",
          "2023-08-16T00:00:00.000000000",
          "2023-08-17T00:00:00.000000000",
          "2023-08-18T00:00:00.000000000",
          "2023-08-19T00:00:00.000000000",
          "2023-08-20T00:00:00.000000000",
          "2023-08-21T00:00:00.000000000",
          "2023-08-22T00:00:00.000000000",
          "2023-08-23T00:00:00.000000000",
          "2023-08-24T00:00:00.000000000",
          "2023-08-25T00:00:00.000000000",
          "2023-08-26T00:00:00.000000000",
          "2023-08-27T00:00:00.000000000",
          "2023-08-28T00:00:00.000000000",
          "2023-08-29T00:00:00.000000000",
          "2023-08-30T00:00:00.000000000",
          "2023-08-31T00:00:00.000000000",
          "2023-09-01T00:00:00.000000000",
          "2023-09-02T00:00:00.000000000",
          "2023-09-03T00:00:00.000000000",
          "2023-09-04T00:00:00.000000000",
          "2023-09-05T00:00:00.000000000",
          "2023-09-06T00:00:00.000000000",
          "2023-09-07T00:00:00.000000000",
          "2023-09-08T00:00:00.000000000",
          "2023-09-09T00:00:00.000000000",
          "2023-09-10T00:00:00.000000000",
          "2023-09-11T00:00:00.000000000",
          "2023-09-12T00:00:00.000000000",
          "2023-09-13T00:00:00.000000000",
          "2023-09-14T00:00:00.000000000",
          "2023-09-15T00:00:00.000000000",
          "2023-09-16T00:00:00.000000000",
          "2023-09-17T00:00:00.000000000",
          "2023-09-18T00:00:00.000000000",
          "2023-09-19T00:00:00.000000000",
          "2023-09-20T00:00:00.000000000",
          "2023-09-21T00:00:00.000000000",
          "2023-09-22T00:00:00.000000000",
          "2023-09-23T00:00:00.000000000",
          "2023-09-24T00:00:00.000000000",
          "2023-09-25T00:00:00.000000000",
          "2023-09-26T00:00:00.000000000",
          "2023-09-27T00:00:00.000000000",
          "2023-09-28T00:00:00.000000000",
          "2023-09-29T00:00:00.000000000",
          "2023-09-30T00:00:00.000000000",
          "2023-10-01T00:00:00.000000000",
          "2023-10-02T00:00:00.000000000",
          "2023-10-03T00:00:00.000000000",
          "2023-10-04T00:00:00.000000000",
          "2023-10-05T00:00:00.000000000",
          "2023-10-06T00:00:00.000000000",
          "2023-10-07T00:00:00.000000000",
          "2023-10-08T00:00:00.000000000",
          "2023-10-09T00:00:00.000000000",
          "2023-10-10T00:00:00.000000000",
          "2023-10-11T00:00:00.000000000",
          "2023-10-12T00:00:00.000000000",
          "2023-10-13T00:00:00.000000000",
          "2023-10-14T00:00:00.000000000",
          "2023-10-15T00:00:00.000000000",
          "2023-10-16T00:00:00.000000000",
          "2023-10-17T00:00:00.000000000",
          "2023-10-18T00:00:00.000000000",
          "2023-10-19T00:00:00.000000000",
          "2023-10-20T00:00:00.000000000",
          "2023-10-21T00:00:00.000000000",
          "2023-10-22T00:00:00.000000000",
          "2023-10-23T00:00:00.000000000",
          "2023-10-24T00:00:00.000000000",
          "2023-10-25T00:00:00.000000000",
          "2023-10-26T00:00:00.000000000",
          "2023-10-27T00:00:00.000000000",
          "2023-10-28T00:00:00.000000000",
          "2023-10-29T00:00:00.000000000",
          "2023-10-30T00:00:00.000000000",
          "2023-10-31T00:00:00.000000000",
          "2023-11-01T00:00:00.000000000",
          "2023-11-02T00:00:00.000000000",
          "2023-11-03T00:00:00.000000000",
          "2023-11-04T00:00:00.000000000",
          "2023-11-05T00:00:00.000000000",
          "2023-11-06T00:00:00.000000000",
          "2023-11-07T00:00:00.000000000",
          "2023-11-08T00:00:00.000000000",
          "2023-11-09T00:00:00.000000000",
          "2023-11-10T00:00:00.000000000",
          "2023-11-11T00:00:00.000000000",
          "2023-11-12T00:00:00.000000000",
          "2023-11-13T00:00:00.000000000",
          "2023-11-14T00:00:00.000000000",
          "2023-11-15T00:00:00.000000000",
          "2023-11-16T00:00:00.000000000",
          "2023-11-17T00:00:00.000000000",
          "2023-11-18T00:00:00.000000000",
          "2023-11-19T00:00:00.000000000",
          "2023-11-20T00:00:00.000000000",
          "2023-11-21T00:00:00.000000000",
          "2023-11-22T00:00:00.000000000",
          "2023-11-23T00:00:00.000000000",
          "2023-11-24T00:00:00.000000000",
          "2023-11-25T00:00:00.000000000",
          "2023-11-26T00:00:00.000000000",
          "2023-11-27T00:00:00.000000000",
          "2023-11-28T00:00:00.000000000",
          "2023-11-29T00:00:00.000000000",
          "2023-11-30T00:00:00.000000000",
          "2023-12-01T00:00:00.000000000",
          "2023-12-02T00:00:00.000000000",
          "2023-12-03T00:00:00.000000000",
          "2023-12-04T00:00:00.000000000",
          "2023-12-05T00:00:00.000000000",
          "2023-12-06T00:00:00.000000000",
          "2023-12-07T00:00:00.000000000",
          "2023-12-08T00:00:00.000000000",
          "2023-12-09T00:00:00.000000000",
          "2023-12-10T00:00:00.000000000",
          "2023-12-11T00:00:00.000000000",
          "2023-12-12T00:00:00.000000000",
          "2023-12-13T00:00:00.000000000",
          "2023-12-14T00:00:00.000000000",
          "2023-12-15T00:00:00.000000000",
          "2023-12-16T00:00:00.000000000",
          "2023-12-17T00:00:00.000000000",
          "2023-12-18T00:00:00.000000000",
          "2023-12-19T00:00:00.000000000",
          "2023-12-20T00:00:00.000000000",
          "2023-12-21T00:00:00.000000000",
          "2023-12-22T00:00:00.000000000",
          "2023-12-23T00:00:00.000000000",
          "2023-12-24T00:00:00.000000000",
          "2023-12-25T00:00:00.000000000",
          "2023-12-26T00:00:00.000000000",
          "2023-12-27T00:00:00.000000000",
          "2023-12-28T00:00:00.000000000",
          "2023-12-29T00:00:00.000000000",
          "2023-12-30T00:00:00.000000000",
          "2023-12-31T00:00:00.000000000",
          "2024-01-01T00:00:00.000000000",
          "2024-01-02T00:00:00.000000000",
          "2024-01-03T00:00:00.000000000",
          "2024-01-04T00:00:00.000000000",
          "2024-01-05T00:00:00.000000000",
          "2024-01-06T00:00:00.000000000",
          "2024-01-07T00:00:00.000000000",
          "2024-01-08T00:00:00.000000000",
          "2024-01-09T00:00:00.000000000",
          "2024-01-10T00:00:00.000000000",
          "2024-01-11T00:00:00.000000000",
          "2024-01-12T00:00:00.000000000",
          "2024-01-13T00:00:00.000000000",
          "2024-01-14T00:00:00.000000000",
          "2024-01-15T00:00:00.000000000",
          "2024-01-16T00:00:00.000000000",
          "2024-01-17T00:00:00.000000000",
          "2024-01-18T00:00:00.000000000",
          "2024-01-19T00:00:00.000000000",
          "2024-01-20T00:00:00.000000000",
          "2024-01-21T00:00:00.000000000",
          "2024-01-22T00:00:00.000000000",
          "2024-01-23T00:00:00.000000000",
          "2024-01-24T00:00:00.000000000",
          "2024-01-25T00:00:00.000000000",
          "2024-01-26T00:00:00.000000000",
          "2024-01-27T00:00:00.000000000",
          "2024-01-28T00:00:00.000000000",
          "2024-01-29T00:00:00.000000000",
          "2024-01-30T00:00:00.000000000",
          "2024-01-31T00:00:00.000000000",
          "2024-02-01T00:00:00.000000000",
          "2024-02-02T00:00:00.000000000",
          "2024-02-03T00:00:00.000000000",
          "2024-02-04T00:00:00.000000000",
          "2024-02-05T00:00:00.000000000",
          "2024-02-06T00:00:00.000000000",
          "2024-02-07T00:00:00.000000000",
          "2024-02-08T00:00:00.000000000",
          "2024-02-09T00:00:00.000000000",
          "2024-02-10T00:00:00.000000000",
          "2024-02-11T00:00:00.000000000",
          "2024-02-12T00:00:00.000000000",
          "2024-02-13T00:00:00.000000000",
          "2024-02-14T00:00:00.000000000",
          "2024-02-15T00:00:00.000000000",
          "2024-02-16T00:00:00.000000000",
          "2024-02-17T00:00:00.000000000",
          "2024-02-18T00:00:00.000000000",
          "2024-02-19T00:00:00.000000000",
          "2024-02-20T00:00:00.000000000",
          "2024-02-21T00:00:00.000000000",
          "2024-02-22T00:00:00.000000000",
          "2024-02-23T00:00:00.000000000",
          "2024-02-24T00:00:00.000000000",
          "2024-02-25T00:00:00.000000000",
          "2024-02-26T00:00:00.000000000",
          "2024-02-27T00:00:00.000000000",
          "2024-02-28T00:00:00.000000000",
          "2024-02-29T00:00:00.000000000",
          "2024-03-01T00:00:00.000000000",
          "2024-03-02T00:00:00.000000000",
          "2024-03-03T00:00:00.000000000",
          "2024-03-04T00:00:00.000000000",
          "2024-03-05T00:00:00.000000000",
          "2024-03-06T00:00:00.000000000",
          "2024-03-07T00:00:00.000000000",
          "2024-03-08T00:00:00.000000000",
          "2024-03-09T00:00:00.000000000",
          "2024-03-10T00:00:00.000000000",
          "2024-03-11T00:00:00.000000000",
          "2024-03-12T00:00:00.000000000",
          "2024-03-13T00:00:00.000000000",
          "2024-03-14T00:00:00.000000000",
          "2024-03-15T00:00:00.000000000",
          "2024-03-16T00:00:00.000000000",
          "2024-03-17T00:00:00.000000000",
          "2024-03-18T00:00:00.000000000",
          "2024-03-19T00:00:00.000000000",
          "2024-03-20T00:00:00.000000000",
          "2024-03-21T00:00:00.000000000",
          "2024-03-22T00:00:00.000000000",
          "2024-03-23T00:00:00.000000000",
          "2024-03-24T00:00:00.000000000",
          "2024-03-25T00:00:00.000000000",
          "2024-03-26T00:00:00.000000000",
          "2024-03-27T00:00:00.000000000",
          "2024-03-28T00:00:00.000000000",
          "2024-03-29T00:00:00.000000000",
          "2024-03-30T00:00:00.000000000",
          "2024-03-31T00:00:00.000000000",
          "2024-04-01T00:00:00.000000000",
          "2024-04-02T00:00:00.000000000",
          "2024-04-03T00:00:00.000000000",
          "2024-04-04T00:00:00.000000000",
          "2024-04-05T00:00:00.000000000",
          "2024-04-06T00:00:00.000000000",
          "2024-04-07T00:00:00.000000000",
          "2024-04-08T00:00:00.000000000",
          "2024-04-09T00:00:00.000000000",
          "2024-04-10T00:00:00.000000000",
          "2024-04-11T00:00:00.000000000",
          "2024-04-12T00:00:00.000000000",
          "2024-04-13T00:00:00.000000000",
          "2024-04-14T00:00:00.000000000",
          "2024-04-15T00:00:00.000000000",
          "2024-04-16T00:00:00.000000000",
          "2024-04-17T00:00:00.000000000",
          "2024-04-18T00:00:00.000000000",
          "2024-04-19T00:00:00.000000000",
          "2024-04-20T00:00:00.000000000",
          "2024-04-21T00:00:00.000000000",
          "2024-04-22T00:00:00.000000000",
          "2024-04-23T00:00:00.000000000",
          "2024-04-24T00:00:00.000000000",
          "2024-04-25T00:00:00.000000000",
          "2024-04-26T00:00:00.000000000",
          "2024-04-27T00:00:00.000000000",
          "2024-04-28T00:00:00.000000000",
          "2024-04-29T00:00:00.000000000",
          "2024-04-30T00:00:00.000000000",
          "2024-05-01T00:00:00.000000000",
          "2024-05-02T00:00:00.000000000",
          "2024-05-03T00:00:00.000000000",
          "2024-05-04T00:00:00.000000000",
          "2024-05-05T00:00:00.000000000",
          "2024-05-06T00:00:00.000000000",
          "2024-05-07T00:00:00.000000000",
          "2024-05-08T00:00:00.000000000",
          "2024-05-09T00:00:00.000000000",
          "2024-05-10T00:00:00.000000000",
          "2024-05-11T00:00:00.000000000",
          "2024-05-12T00:00:00.000000000",
          "2024-05-13T00:00:00.000000000",
          "2024-05-14T00:00:00.000000000",
          "2024-05-15T00:00:00.000000000",
          "2024-05-16T00:00:00.000000000",
          "2024-05-17T00:00:00.000000000",
          "2024-05-18T00:00:00.000000000",
          "2024-05-19T00:00:00.000000000",
          "2024-05-20T00:00:00.000000000",
          "2024-05-21T00:00:00.000000000",
          "2024-05-22T00:00:00.000000000",
          "2024-05-23T00:00:00.000000000",
          "2024-05-24T00:00:00.000000000",
          "2024-05-25T00:00:00.000000000",
          "2024-05-26T00:00:00.000000000",
          "2024-05-27T00:00:00.000000000",
          "2024-05-28T00:00:00.000000000",
          "2024-05-29T00:00:00.000000000",
          "2024-05-30T00:00:00.000000000",
          "2024-05-31T00:00:00.000000000",
          "2024-06-01T00:00:00.000000000",
          "2024-06-02T00:00:00.000000000",
          "2024-06-03T00:00:00.000000000",
          "2024-06-04T00:00:00.000000000",
          "2024-06-05T00:00:00.000000000",
          "2024-06-06T00:00:00.000000000",
          "2024-06-07T00:00:00.000000000",
          "2024-06-08T00:00:00.000000000",
          "2024-06-09T00:00:00.000000000",
          "2024-06-10T00:00:00.000000000",
          "2024-06-11T00:00:00.000000000",
          "2024-06-12T00:00:00.000000000",
          "2024-06-13T00:00:00.000000000",
          "2024-06-14T00:00:00.000000000",
          "2024-06-15T00:00:00.000000000",
          "2024-06-16T00:00:00.000000000",
          "2024-06-17T00:00:00.000000000",
          "2024-06-18T00:00:00.000000000",
          "2024-06-19T00:00:00.000000000",
          "2024-06-20T00:00:00.000000000",
          "2024-06-21T00:00:00.000000000",
          "2024-06-22T00:00:00.000000000",
          "2024-06-23T00:00:00.000000000",
          "2024-06-24T00:00:00.000000000",
          "2024-06-25T00:00:00.000000000",
          "2024-06-26T00:00:00.000000000",
          "2024-06-27T00:00:00.000000000",
          "2024-06-28T00:00:00.000000000",
          "2024-06-29T00:00:00.000000000",
          "2024-06-30T00:00:00.000000000",
          "2024-07-01T00:00:00.000000000",
          "2024-07-02T00:00:00.000000000",
          "2024-07-03T00:00:00.000000000",
          "2024-07-04T00:00:00.000000000",
          "2024-07-05T00:00:00.000000000",
          "2024-07-06T00:00:00.000000000",
          "2024-07-07T00:00:00.000000000",
          "2024-07-08T00:00:00.000000000",
          "2024-07-09T00:00:00.000000000",
          "2024-07-10T00:00:00.000000000",
          "2024-07-11T00:00:00.000000000",
          "2024-07-12T00:00:00.000000000",
          "2024-07-13T00:00:00.000000000",
          "2024-07-14T00:00:00.000000000",
          "2024-07-15T00:00:00.000000000",
          "2024-07-16T00:00:00.000000000",
          "2024-07-17T00:00:00.000000000",
          "2024-07-18T00:00:00.000000000",
          "2024-07-19T00:00:00.000000000",
          "2024-07-20T00:00:00.000000000",
          "2024-07-21T00:00:00.000000000",
          "2024-07-22T00:00:00.000000000",
          "2024-07-23T00:00:00.000000000",
          "2024-07-24T00:00:00.000000000",
          "2024-07-25T00:00:00.000000000",
          "2024-07-26T00:00:00.000000000",
          "2024-07-27T00:00:00.000000000",
          "2024-07-28T00:00:00.000000000",
          "2024-07-29T00:00:00.000000000",
          "2024-07-30T00:00:00.000000000",
          "2024-07-31T00:00:00.000000000",
          "2024-08-01T00:00:00.000000000",
          "2024-08-02T00:00:00.000000000",
          "2024-08-03T00:00:00.000000000",
          "2024-08-04T00:00:00.000000000",
          "2024-08-05T00:00:00.000000000",
          "2024-08-06T00:00:00.000000000",
          "2024-08-07T00:00:00.000000000",
          "2024-08-08T00:00:00.000000000",
          "2024-08-09T00:00:00.000000000",
          "2024-08-10T00:00:00.000000000",
          "2024-08-11T00:00:00.000000000",
          "2024-08-12T00:00:00.000000000",
          "2024-08-13T00:00:00.000000000",
          "2024-08-14T00:00:00.000000000",
          "2024-08-15T00:00:00.000000000",
          "2024-08-16T00:00:00.000000000",
          "2024-08-17T00:00:00.000000000",
          "2024-08-18T00:00:00.000000000",
          "2024-08-19T00:00:00.000000000",
          "2024-08-20T00:00:00.000000000",
          "2024-08-21T00:00:00.000000000",
          "2024-08-22T00:00:00.000000000",
          "2024-08-23T00:00:00.000000000",
          "2024-08-24T00:00:00.000000000",
          "2024-08-25T00:00:00.000000000",
          "2024-08-26T00:00:00.000000000",
          "2024-08-27T00:00:00.000000000",
          "2024-08-28T00:00:00.000000000",
          "2024-08-29T00:00:00.000000000",
          "2024-08-30T00:00:00.000000000",
          "2024-08-31T00:00:00.000000000",
          "2024-09-01T00:00:00.000000000",
          "2024-09-02T00:00:00.000000000",
          "2024-09-03T00:00:00.000000000",
          "2024-09-04T00:00:00.000000000",
          "2024-09-05T00:00:00.000000000",
          "2024-09-06T00:00:00.000000000",
          "2024-09-07T00:00:00.000000000",
          "2024-09-08T00:00:00.000000000",
          "2024-09-09T00:00:00.000000000",
          "2024-09-10T00:00:00.000000000",
          "2024-09-11T00:00:00.000000000",
          "2024-09-12T00:00:00.000000000",
          "2024-09-13T00:00:00.000000000",
          "2024-09-14T00:00:00.000000000",
          "2024-09-15T00:00:00.000000000",
          "2024-09-16T00:00:00.000000000",
          "2024-09-17T00:00:00.000000000",
          "2024-09-18T00:00:00.000000000",
          "2024-09-19T00:00:00.000000000",
          "2024-09-20T00:00:00.000000000",
          "2024-09-21T00:00:00.000000000",
          "2024-09-22T00:00:00.000000000",
          "2024-09-23T00:00:00.000000000",
          "2024-09-24T00:00:00.000000000",
          "2024-09-25T00:00:00.000000000",
          "2024-09-26T00:00:00.000000000",
          "2024-09-27T00:00:00.000000000",
          "2024-09-28T00:00:00.000000000",
          "2024-09-29T00:00:00.000000000",
          "2024-09-30T00:00:00.000000000",
          "2024-10-01T00:00:00.000000000",
          "2024-10-02T00:00:00.000000000",
          "2024-10-03T00:00:00.000000000",
          "2024-10-04T00:00:00.000000000",
          "2024-10-05T00:00:00.000000000",
          "2024-10-06T00:00:00.000000000",
          "2024-10-07T00:00:00.000000000",
          "2024-10-08T00:00:00.000000000",
          "2024-10-09T00:00:00.000000000",
          "2024-10-10T00:00:00.000000000",
          "2024-10-11T00:00:00.000000000",
          "2024-10-12T00:00:00.000000000",
          "2024-10-13T00:00:00.000000000",
          "2024-10-14T00:00:00.000000000",
          "2024-10-15T00:00:00.000000000",
          "2024-10-16T00:00:00.000000000",
          "2024-10-17T00:00:00.000000000",
          "2024-10-18T00:00:00.000000000",
          "2024-10-19T00:00:00.000000000",
          "2024-10-20T00:00:00.000000000",
          "2024-10-21T00:00:00.000000000",
          "2024-10-22T00:00:00.000000000",
          "2024-10-23T00:00:00.000000000",
          "2024-10-24T00:00:00.000000000",
          "2024-10-25T00:00:00.000000000",
          "2024-10-26T00:00:00.000000000",
          "2024-10-27T00:00:00.000000000",
          "2024-10-28T00:00:00.000000000",
          "2024-10-29T00:00:00.000000000",
          "2024-10-30T00:00:00.000000000",
          "2024-10-31T00:00:00.000000000",
          "2024-11-01T00:00:00.000000000",
          "2024-11-02T00:00:00.000000000",
          "2024-11-03T00:00:00.000000000",
          "2024-11-04T00:00:00.000000000",
          "2024-11-05T00:00:00.000000000",
          "2024-11-06T00:00:00.000000000",
          "2024-11-07T00:00:00.000000000",
          "2024-11-08T00:00:00.000000000",
          "2024-11-09T00:00:00.000000000",
          "2024-11-10T00:00:00.000000000",
          "2024-11-11T00:00:00.000000000",
          "2024-11-12T00:00:00.000000000",
          "2024-11-13T00:00:00.000000000",
          "2024-11-14T00:00:00.000000000",
          "2024-11-15T00:00:00.000000000",
          "2024-11-16T00:00:00.000000000",
          "2024-11-17T00:00:00.000000000",
          "2024-11-18T00:00:00.000000000",
          "2024-11-19T00:00:00.000000000",
          "2024-11-20T00:00:00.000000000",
          "2024-11-21T00:00:00.000000000",
          "2024-11-22T00:00:00.000000000",
          "2024-11-23T00:00:00.000000000",
          "2024-11-24T00:00:00.000000000",
          "2024-11-25T00:00:00.000000000",
          "2024-11-26T00:00:00.000000000",
          "2024-11-27T00:00:00.000000000",
          "2024-11-28T00:00:00.000000000",
          "2024-11-29T00:00:00.000000000",
          "2024-11-30T00:00:00.000000000",
          "2024-12-01T00:00:00.000000000",
          "2024-12-02T00:00:00.000000000",
          "2024-12-03T00:00:00.000000000",
          "2024-12-04T00:00:00.000000000",
          "2024-12-05T00:00:00.000000000",
          "2024-12-06T00:00:00.000000000",
          "2024-12-07T00:00:00.000000000",
          "2024-12-08T00:00:00.000000000",
          "2024-12-09T00:00:00.000000000",
          "2024-12-10T00:00:00.000000000",
          "2024-12-11T00:00:00.000000000",
          "2024-12-12T00:00:00.000000000",
          "2024-12-13T00:00:00.000000000",
          "2024-12-14T00:00:00.000000000",
          "2024-12-15T00:00:00.000000000",
          "2024-12-16T00:00:00.000000000",
          "2024-12-17T00:00:00.000000000",
          "2024-12-18T00:00:00.000000000",
          "2024-12-19T00:00:00.000000000",
          "2024-12-20T00:00:00.000000000",
          "2024-12-21T00:00:00.000000000",
          "2024-12-22T00:00:00.000000000",
          "2024-12-23T00:00:00.000000000",
          "2024-12-24T00:00:00.000000000",
          "2024-12-25T00:00:00.000000000",
          "2024-12-26T00:00:00.000000000",
          "2024-12-27T00:00:00.000000000",
          "2024-12-28T00:00:00.000000000",
          "2024-12-29T00:00:00.000000000",
          "2024-12-30T00:00:00.000000000",
          "2024-12-31T00:00:00.000000000",
          "2025-01-01T00:00:00.000000000",
          "2025-01-02T00:00:00.000000000",
          "2025-01-03T00:00:00.000000000",
          "2025-01-04T00:00:00.000000000",
          "2025-01-05T00:00:00.000000000",
          "2025-01-06T00:00:00.000000000",
          "2025-01-07T00:00:00.000000000",
          "2025-01-08T00:00:00.000000000",
          "2025-01-09T00:00:00.000000000",
          "2025-01-10T00:00:00.000000000",
          "2025-01-11T00:00:00.000000000",
          "2025-01-12T00:00:00.000000000",
          "2025-01-13T00:00:00.000000000",
          "2025-01-14T00:00:00.000000000",
          "2025-01-15T00:00:00.000000000",
          "2025-01-16T00:00:00.000000000",
          "2025-01-17T00:00:00.000000000",
          "2025-01-18T00:00:00.000000000",
          "2025-01-19T00:00:00.000000000",
          "2025-01-20T00:00:00.000000000",
          "2025-01-21T00:00:00.000000000",
          "2025-01-22T00:00:00.000000000",
          "2025-01-23T00:00:00.000000000",
          "2025-01-24T00:00:00.000000000",
          "2025-01-25T00:00:00.000000000",
          "2025-01-26T00:00:00.000000000",
          "2025-01-27T00:00:00.000000000",
          "2025-01-28T00:00:00.000000000",
          "2025-01-29T00:00:00.000000000",
          "2025-01-30T00:00:00.000000000",
          "2025-01-31T00:00:00.000000000",
          "2025-02-01T00:00:00.000000000",
          "2025-02-02T00:00:00.000000000",
          "2025-02-03T00:00:00.000000000",
          "2025-02-04T00:00:00.000000000",
          "2025-02-05T00:00:00.000000000",
          "2025-02-06T00:00:00.000000000",
          "2025-02-07T00:00:00.000000000",
          "2025-02-08T00:00:00.000000000",
          "2025-02-09T00:00:00.000000000",
          "2025-02-10T00:00:00.000000000",
          "2025-02-11T00:00:00.000000000",
          "2025-02-12T00:00:00.000000000",
          "2025-02-13T00:00:00.000000000",
          "2025-02-14T00:00:00.000000000",
          "2025-02-15T00:00:00.000000000",
          "2025-02-16T00:00:00.000000000",
          "2025-02-17T00:00:00.000000000",
          "2025-02-18T00:00:00.000000000",
          "2025-02-19T00:00:00.000000000",
          "2025-02-20T00:00:00.000000000",
          "2025-02-21T00:00:00.000000000",
          "2025-02-22T00:00:00.000000000",
          "2025-02-23T00:00:00.000000000",
          "2025-02-24T00:00:00.000000000",
          "2025-02-25T00:00:00.000000000",
          "2025-02-26T00:00:00.000000000",
          "2025-02-27T00:00:00.000000000",
          "2025-02-28T00:00:00.000000000",
          "2025-03-01T00:00:00.000000000",
          "2025-03-02T00:00:00.000000000",
          "2025-03-03T00:00:00.000000000",
          "2025-03-04T00:00:00.000000000",
          "2025-03-05T00:00:00.000000000",
          "2025-03-06T00:00:00.000000000",
          "2025-03-07T00:00:00.000000000",
          "2025-03-08T00:00:00.000000000",
          "2025-03-09T00:00:00.000000000",
          "2025-03-10T00:00:00.000000000",
          "2025-03-11T00:00:00.000000000",
          "2025-03-12T00:00:00.000000000",
          "2025-03-13T00:00:00.000000000",
          "2025-03-14T00:00:00.000000000",
          "2025-03-15T00:00:00.000000000",
          "2025-03-16T00:00:00.000000000",
          "2025-03-17T00:00:00.000000000",
          "2025-03-18T00:00:00.000000000",
          "2025-03-19T00:00:00.000000000",
          "2025-03-20T00:00:00.000000000",
          "2025-03-21T00:00:00.000000000",
          "2025-03-22T00:00:00.000000000",
          "2025-03-23T00:00:00.000000000",
          "2025-03-24T00:00:00.000000000",
          "2025-03-25T00:00:00.000000000",
          "2025-03-26T00:00:00.000000000",
          "2025-03-27T00:00:00.000000000",
          "2025-03-28T00:00:00.000000000",
          "2025-03-29T00:00:00.000000000",
          "2025-03-30T00:00:00.000000000",
          "2025-03-31T00:00:00.000000000",
          "2025-04-01T00:00:00.000000000",
          "2025-04-02T00:00:00.000000000"
         ],
         "y": {
          "bdata": "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",
          "dtype": "f8"
         }
        }
       ],
       "layout": {
        "autosize": true,
        "height": 500,
        "legend": {
         "orientation": "h",
         "x": 0,
         "y": 1.1
        },
        "margin": {
         "b": 40,
         "l": 40,
         "r": 40,
         "t": 80
        },
        "template": {
         "data": {
          "bar": [
           {
            "error_x": {
             "color": "#2a3f5f"
            },
            "error_y": {
             "color": "#2a3f5f"
            },
            "marker": {
             "line": {
              "color": "white",
              "width": 0.5
             },
             "pattern": {
              "fillmode": "overlay",
              "size": 10,
              "solidity": 0.2
             }
            },
            "type": "bar"
           }
          ],
          "barpolar": [
           {
            "marker": {
             "line": {
              "color": "white",
              "width": 0.5
             },
             "pattern": {
              "fillmode": "overlay",
              "size": 10,
              "solidity": 0.2
             }
            },
            "type": "barpolar"
           }
          ],
          "carpet": [
           {
            "aaxis": {
             "endlinecolor": "#2a3f5f",
             "gridcolor": "#C8D4E3",
             "linecolor": "#C8D4E3",
             "minorgridcolor": "#C8D4E3",
             "startlinecolor": "#2a3f5f"
            },
            "baxis": {
             "endlinecolor": "#2a3f5f",
             "gridcolor": "#C8D4E3",
             "linecolor": "#C8D4E3",
             "minorgridcolor": "#C8D4E3",
             "startlinecolor": "#2a3f5f"
            },
            "type": "carpet"
           }
          ],
          "choropleth": [
           {
            "colorbar": {
             "outlinewidth": 0,
             "ticks": ""
            },
            "type": "choropleth"
           }
          ],
          "contour": [
           {
            "colorbar": {
             "outlinewidth": 0,
             "ticks": ""
            },
            "colorscale": [
             [
              0,
              "#0d0887"
             ],
             [
              0.1111111111111111,
              "#46039f"
             ],
             [
              0.2222222222222222,
              "#7201a8"
             ],
             [
              0.3333333333333333,
              "#9c179e"
             ],
             [
              0.4444444444444444,
              "#bd3786"
             ],
             [
              0.5555555555555556,
              "#d8576b"
             ],
             [
              0.6666666666666666,
              "#ed7953"
             ],
             [
              0.7777777777777778,
              "#fb9f3a"
             ],
             [
              0.8888888888888888,
              "#fdca26"
             ],
             [
              1,
              "#f0f921"
             ]
            ],
            "type": "contour"
           }
          ],
          "contourcarpet": [
           {
            "colorbar": {
             "outlinewidth": 0,
             "ticks": ""
            },
            "type": "contourcarpet"
           }
          ],
          "heatmap": [
           {
            "colorbar": {
             "outlinewidth": 0,
             "ticks": ""
            },
            "colorscale": [
             [
              0,
              "#0d0887"
             ],
             [
              0.1111111111111111,
              "#46039f"
             ],
             [
              0.2222222222222222,
              "#7201a8"
             ],
             [
              0.3333333333333333,
              "#9c179e"
             ],
             [
              0.4444444444444444,
              "#bd3786"
             ],
             [
              0.5555555555555556,
              "#d8576b"
             ],
             [
              0.6666666666666666,
              "#ed7953"
             ],
             [
              0.7777777777777778,
              "#fb9f3a"
             ],
             [
              0.8888888888888888,
              "#fdca26"
             ],
             [
              1,
              "#f0f921"
             ]
            ],
            "type": "heatmap"
           }
          ],
          "histogram": [
           {
            "marker": {
             "pattern": {
              "fillmode": "overlay",
              "size": 10,
              "solidity": 0.2
             }
            },
            "type": "histogram"
           }
          ],
          "histogram2d": [
           {
            "colorbar": {
             "outlinewidth": 0,
             "ticks": ""
            },
            "colorscale": [
             [
              0,
              "#0d0887"
             ],
             [
              0.1111111111111111,
              "#46039f"
             ],
             [
              0.2222222222222222,
              "#7201a8"
             ],
             [
              0.3333333333333333,
              "#9c179e"
             ],
             [
              0.4444444444444444,
              "#bd3786"
             ],
             [
              0.5555555555555556,
              "#d8576b"
             ],
             [
              0.6666666666666666,
              "#ed7953"
             ],
             [
              0.7777777777777778,
              "#fb9f3a"
             ],
             [
              0.8888888888888888,
              "#fdca26"
             ],
             [
              1,
              "#f0f921"
             ]
            ],
            "type": "histogram2d"
           }
          ],
          "histogram2dcontour": [
           {
            "colorbar": {
             "outlinewidth": 0,
             "ticks": ""
            },
            "colorscale": [
             [
              0,
              "#0d0887"
             ],
             [
              0.1111111111111111,
              "#46039f"
             ],
             [
              0.2222222222222222,
              "#7201a8"
             ],
             [
              0.3333333333333333,
              "#9c179e"
             ],
             [
              0.4444444444444444,
              "#bd3786"
             ],
             [
              0.5555555555555556,
              "#d8576b"
             ],
             [
              0.6666666666666666,
              "#ed7953"
             ],
             [
              0.7777777777777778,
              "#fb9f3a"
             ],
             [
              0.8888888888888888,
              "#fdca26"
             ],
             [
              1,
              "#f0f921"
             ]
            ],
            "type": "histogram2dcontour"
           }
          ],
          "mesh3d": [
           {
            "colorbar": {
             "outlinewidth": 0,
             "ticks": ""
            },
            "type": "mesh3d"
           }
          ],
          "parcoords": [
           {
            "line": {
             "colorbar": {
              "outlinewidth": 0,
              "ticks": ""
             }
            },
            "type": "parcoords"
           }
          ],
          "pie": [
           {
            "automargin": true,
            "type": "pie"
           }
          ],
          "scatter": [
           {
            "fillpattern": {
             "fillmode": "overlay",
             "size": 10,
             "solidity": 0.2
            },
            "type": "scatter"
           }
          ],
          "scatter3d": [
           {
            "line": {
             "colorbar": {
              "outlinewidth": 0,
              "ticks": ""
             }
            },
            "marker": {
             "colorbar": {
              "outlinewidth": 0,
              "ticks": ""
             }
            },
            "type": "scatter3d"
           }
          ],
          "scattercarpet": [
           {
            "marker": {
             "colorbar": {
              "outlinewidth": 0,
              "ticks": ""
             }
            },
            "type": "scattercarpet"
           }
          ],
          "scattergeo": [
           {
            "marker": {
             "colorbar": {
              "outlinewidth": 0,
              "ticks": ""
             }
            },
            "type": "scattergeo"
           }
          ],
          "scattergl": [
           {
            "marker": {
             "colorbar": {
              "outlinewidth": 0,
              "ticks": ""
             }
            },
            "type": "scattergl"
           }
          ],
          "scattermap": [
           {
            "marker": {
             "colorbar": {
              "outlinewidth": 0,
              "ticks": ""
             }
            },
            "type": "scattermap"
           }
          ],
          "scattermapbox": [
           {
            "marker": {
             "colorbar": {
              "outlinewidth": 0,
              "ticks": ""
             }
            },
            "type": "scattermapbox"
           }
          ],
          "scatterpolar": [
           {
            "marker": {
             "colorbar": {
              "outlinewidth": 0,
              "ticks": ""
             }
            },
            "type": "scatterpolar"
           }
          ],
          "scatterpolargl": [
           {
            "marker": {
             "colorbar": {
              "outlinewidth": 0,
              "ticks": ""
             }
            },
            "type": "scatterpolargl"
           }
          ],
          "scatterternary": [
           {
            "marker": {
             "colorbar": {
              "outlinewidth": 0,
              "ticks": ""
             }
            },
            "type": "scatterternary"
           }
          ],
          "surface": [
           {
            "colorbar": {
             "outlinewidth": 0,
             "ticks": ""
            },
            "colorscale": [
             [
              0,
              "#0d0887"
             ],
             [
              0.1111111111111111,
              "#46039f"
             ],
             [
              0.2222222222222222,
              "#7201a8"
             ],
             [
              0.3333333333333333,
              "#9c179e"
             ],
             [
              0.4444444444444444,
              "#bd3786"
             ],
             [
              0.5555555555555556,
              "#d8576b"
             ],
             [
              0.6666666666666666,
              "#ed7953"
             ],
             [
              0.7777777777777778,
              "#fb9f3a"
             ],
             [
              0.8888888888888888,
              "#fdca26"
             ],
             [
              1,
              "#f0f921"
             ]
            ],
            "type": "surface"
           }
          ],
          "table": [
           {
            "cells": {
             "fill": {
              "color": "#EBF0F8"
             },
             "line": {
              "color": "white"
             }
            },
            "header": {
             "fill": {
              "color": "#C8D4E3"
             },
             "line": {
              "color": "white"
             }
            },
            "type": "table"
           }
          ]
         },
         "layout": {
          "annotationdefaults": {
           "arrowcolor": "#2a3f5f",
           "arrowhead": 0,
           "arrowwidth": 1
          },
          "autotypenumbers": "strict",
          "coloraxis": {
           "colorbar": {
            "outlinewidth": 0,
            "ticks": ""
           }
          },
          "colorscale": {
           "diverging": [
            [
             0,
             "#8e0152"
            ],
            [
             0.1,
             "#c51b7d"
            ],
            [
             0.2,
             "#de77ae"
            ],
            [
             0.3,
             "#f1b6da"
            ],
            [
             0.4,
             "#fde0ef"
            ],
            [
             0.5,
             "#f7f7f7"
            ],
            [
             0.6,
             "#e6f5d0"
            ],
            [
             0.7,
             "#b8e186"
            ],
            [
             0.8,
             "#7fbc41"
            ],
            [
             0.9,
             "#4d9221"
            ],
            [
             1,
             "#276419"
            ]
           ],
           "sequential": [
            [
             0,
             "#0d0887"
            ],
            [
             0.1111111111111111,
             "#46039f"
            ],
            [
             0.2222222222222222,
             "#7201a8"
            ],
            [
             0.3333333333333333,
             "#9c179e"
            ],
            [
             0.4444444444444444,
             "#bd3786"
            ],
            [
             0.5555555555555556,
             "#d8576b"
            ],
            [
             0.6666666666666666,
             "#ed7953"
            ],
            [
             0.7777777777777778,
             "#fb9f3a"
            ],
            [
             0.8888888888888888,
             "#fdca26"
            ],
            [
             1,
             "#f0f921"
            ]
           ],
           "sequentialminus": [
            [
             0,
             "#0d0887"
            ],
            [
             0.1111111111111111,
             "#46039f"
            ],
            [
             0.2222222222222222,
             "#7201a8"
            ],
            [
             0.3333333333333333,
             "#9c179e"
            ],
            [
             0.4444444444444444,
             "#bd3786"
            ],
            [
             0.5555555555555556,
             "#d8576b"
            ],
            [
             0.6666666666666666,
             "#ed7953"
            ],
            [
             0.7777777777777778,
             "#fb9f3a"
            ],
            [
             0.8888888888888888,
             "#fdca26"
            ],
            [
             1,
             "#f0f921"
            ]
           ]
          },
          "colorway": [
           "#636efa",
           "#EF553B",
           "#00cc96",
           "#ab63fa",
           "#FFA15A",
           "#19d3f3",
           "#FF6692",
           "#B6E880",
           "#FF97FF",
           "#FECB52"
          ],
          "font": {
           "color": "#2a3f5f"
          },
          "geo": {
           "bgcolor": "white",
           "lakecolor": "white",
           "landcolor": "white",
           "showlakes": true,
           "showland": true,
           "subunitcolor": "#C8D4E3"
          },
          "hoverlabel": {
           "align": "left"
          },
          "hovermode": "closest",
          "mapbox": {
           "style": "light"
          },
          "paper_bgcolor": "white",
          "plot_bgcolor": "white",
          "polar": {
           "angularaxis": {
            "gridcolor": "#EBF0F8",
            "linecolor": "#EBF0F8",
            "ticks": ""
           },
           "bgcolor": "white",
           "radialaxis": {
            "gridcolor": "#EBF0F8",
            "linecolor": "#EBF0F8",
            "ticks": ""
           }
          },
          "scene": {
           "xaxis": {
            "backgroundcolor": "white",
            "gridcolor": "#DFE8F3",
            "gridwidth": 2,
            "linecolor": "#EBF0F8",
            "showbackground": true,
            "ticks": "",
            "zerolinecolor": "#EBF0F8"
           },
           "yaxis": {
            "backgroundcolor": "white",
            "gridcolor": "#DFE8F3",
            "gridwidth": 2,
            "linecolor": "#EBF0F8",
            "showbackground": true,
            "ticks": "",
            "zerolinecolor": "#EBF0F8"
           },
           "zaxis": {
            "backgroundcolor": "white",
            "gridcolor": "#DFE8F3",
            "gridwidth": 2,
            "linecolor": "#EBF0F8",
            "showbackground": true,
            "ticks": "",
            "zerolinecolor": "#EBF0F8"
           }
          },
          "shapedefaults": {
           "line": {
            "color": "#2a3f5f"
           }
          },
          "ternary": {
           "aaxis": {
            "gridcolor": "#DFE8F3",
            "linecolor": "#A2B1C6",
            "ticks": ""
           },
           "baxis": {
            "gridcolor": "#DFE8F3",
            "linecolor": "#A2B1C6",
            "ticks": ""
           },
           "bgcolor": "white",
           "caxis": {
            "gridcolor": "#DFE8F3",
            "linecolor": "#A2B1C6",
            "ticks": ""
           }
          },
          "title": {
           "x": 0.05
          },
          "xaxis": {
           "automargin": true,
           "gridcolor": "#EBF0F8",
           "linecolor": "#EBF0F8",
           "ticks": "",
           "title": {
            "standoff": 15
           },
           "zerolinecolor": "#EBF0F8",
           "zerolinewidth": 2
          },
          "yaxis": {
           "automargin": true,
           "gridcolor": "#EBF0F8",
           "linecolor": "#EBF0F8",
           "ticks": "",
           "title": {
            "standoff": 15
           },
           "zerolinecolor": "#EBF0F8",
           "zerolinewidth": 2
          }
         }
        },
        "title": {
         "text": "Actual vs Predicted Closing Prices"
        },
        "xaxis": {
         "title": {
          "text": "Date"
         }
        },
        "yaxis": {
         "title": {
          "text": "Price (USD)"
         }
        }
       }
      }
     },
     "metadata": {},
     "output_type": "display_data"
    }
   ],
   "source": [
    "\n",
    "\n",
    "import plotly.graph_objects as go\n",
    "\n",
    "# Create a DataFrame to store the actual vs predicted values\n",
    "results = pd.DataFrame({\n",
    "    'Date': X_test.index,\n",
    "    'Actual': y_test,\n",
    "    'Predicted': y_pred\n",
    "})\n",
    "\n",
    "# Make sure Date is datetime (Plotly likes it)\n",
    "results['Date'] = data.loc[X_test.index, 'Date'].values\n",
    "\n",
    "# Build interactive plot\n",
    "fig = go.Figure()\n",
    "\n",
    "fig.add_trace(go.Scatter(\n",
    "    x=results['Date'],\n",
    "    y=results['Actual'],\n",
    "    mode='lines',\n",
    "    name='Actual Closing Price',\n",
    "    line=dict(color='blue')\n",
    "))\n",
    "\n",
    "fig.add_trace(go.Scatter(\n",
    "    x=results['Date'],\n",
    "    y=results['Predicted'],\n",
    "    mode='lines',\n",
    "    name='Predicted Closing Price',\n",
    "    line=dict(color='red', dash='dash')\n",
    "))\n",
    "\n",
    "# Layout styling\n",
    "fig.update_layout(\n",
    "    title='Actual vs Predicted Closing Prices',\n",
    "    xaxis_title='Date',\n",
    "    yaxis_title='Price (USD)',\n",
    "    template='plotly_white',\n",
    "    legend=dict(x=0, y=1.1, orientation='h'),\n",
    "    autosize=True,\n",
    "    margin=dict(l=40, r=40, t=80, b=40),\n",
    "    height=500,\n",
    ")\n",
    "\n",
    "# Show the plot\n",
    "fig.show()\n",
    "\n"
   ]
  },
  {
   "cell_type": "code",
   "execution_count": 85,
   "id": "dea8df4f",
   "metadata": {},
   "outputs": [
    {
     "name": "stdout",
     "output_type": "stream",
     "text": [
      "R-squared: 0.9952728649750703\n",
      "MAE: 1082.26\n",
      "RMSE: 1654.44\n"
     ]
    },
    {
     "name": "stderr",
     "output_type": "stream",
     "text": [
      "C:\\Users\\edufs\\AppData\\Local\\Packages\\PythonSoftwareFoundation.Python.3.11_qbz5n2kfra8p0\\LocalCache\\local-packages\\Python311\\site-packages\\sklearn\\metrics\\_regression.py:492: FutureWarning:\n",
      "\n",
      "'squared' is deprecated in version 1.4 and will be removed in 1.6. To calculate the root mean squared error, use the function'root_mean_squared_error'.\n",
      "\n"
     ]
    }
   ],
   "source": [
    "# Evaluate the model\n",
    "r2 = r2_score(y_test, y_pred)\n",
    "\n",
    "print(f\"R-squared: {r2}\")\n",
    "\n",
    "mae = mean_absolute_error(y_test, y_pred)\n",
    "rmse = mean_squared_error(y_test, y_pred, squared=False)\n",
    "\n",
    "#how far off my predictions are from actual values\n",
    "print(f\"MAE: {mae:.2f}\")\n",
    "\n",
    "print(f\"RMSE: {rmse:.2f}\")"
   ]
  },
  {
   "cell_type": "code",
   "execution_count": 86,
   "id": "9ce689aa",
   "metadata": {},
   "outputs": [
    {
     "data": {
      "application/vnd.plotly.v1+json": {
       "config": {
        "plotlyServerURL": "https://plot.ly"
       },
       "data": [
        {
         "line": {
          "color": "red"
         },
         "mode": "lines",
         "name": "Rolling RMSE",
         "type": "scatter",
         "x": [
          "2023-04-25T00:00:00.000000000",
          "2023-04-26T00:00:00.000000000",
          "2023-04-27T00:00:00.000000000",
          "2023-04-28T00:00:00.000000000",
          "2023-04-29T00:00:00.000000000",
          "2023-04-30T00:00:00.000000000",
          "2023-05-01T00:00:00.000000000",
          "2023-05-02T00:00:00.000000000",
          "2023-05-03T00:00:00.000000000",
          "2023-05-04T00:00:00.000000000",
          "2023-05-05T00:00:00.000000000",
          "2023-05-06T00:00:00.000000000",
          "2023-05-07T00:00:00.000000000",
          "2023-05-08T00:00:00.000000000",
          "2023-05-09T00:00:00.000000000",
          "2023-05-10T00:00:00.000000000",
          "2023-05-11T00:00:00.000000000",
          "2023-05-12T00:00:00.000000000",
          "2023-05-13T00:00:00.000000000",
          "2023-05-14T00:00:00.000000000",
          "2023-05-15T00:00:00.000000000",
          "2023-05-16T00:00:00.000000000",
          "2023-05-17T00:00:00.000000000",
          "2023-05-18T00:00:00.000000000",
          "2023-05-19T00:00:00.000000000",
          "2023-05-20T00:00:00.000000000",
          "2023-05-21T00:00:00.000000000",
          "2023-05-22T00:00:00.000000000",
          "2023-05-23T00:00:00.000000000",
          "2023-05-24T00:00:00.000000000",
          "2023-05-25T00:00:00.000000000",
          "2023-05-26T00:00:00.000000000",
          "2023-05-27T00:00:00.000000000",
          "2023-05-28T00:00:00.000000000",
          "2023-05-29T00:00:00.000000000",
          "2023-05-30T00:00:00.000000000",
          "2023-05-31T00:00:00.000000000",
          "2023-06-01T00:00:00.000000000",
          "2023-06-02T00:00:00.000000000",
          "2023-06-03T00:00:00.000000000",
          "2023-06-04T00:00:00.000000000",
          "2023-06-05T00:00:00.000000000",
          "2023-06-06T00:00:00.000000000",
          "2023-06-07T00:00:00.000000000",
          "2023-06-08T00:00:00.000000000",
          "2023-06-09T00:00:00.000000000",
          "2023-06-10T00:00:00.000000000",
          "2023-06-11T00:00:00.000000000",
          "2023-06-12T00:00:00.000000000",
          "2023-06-13T00:00:00.000000000",
          "2023-06-14T00:00:00.000000000",
          "2023-06-15T00:00:00.000000000",
          "2023-06-16T00:00:00.000000000",
          "2023-06-17T00:00:00.000000000",
          "2023-06-18T00:00:00.000000000",
          "2023-06-19T00:00:00.000000000",
          "2023-06-20T00:00:00.000000000",
          "2023-06-21T00:00:00.000000000",
          "2023-06-22T00:00:00.000000000",
          "2023-06-23T00:00:00.000000000",
          "2023-06-24T00:00:00.000000000",
          "2023-06-25T00:00:00.000000000",
          "2023-06-26T00:00:00.000000000",
          "2023-06-27T00:00:00.000000000",
          "2023-06-28T00:00:00.000000000",
          "2023-06-29T00:00:00.000000000",
          "2023-06-30T00:00:00.000000000",
          "2023-07-01T00:00:00.000000000",
          "2023-07-02T00:00:00.000000000",
          "2023-07-03T00:00:00.000000000",
          "2023-07-04T00:00:00.000000000",
          "2023-07-05T00:00:00.000000000",
          "2023-07-06T00:00:00.000000000",
          "2023-07-07T00:00:00.000000000",
          "2023-07-08T00:00:00.000000000",
          "2023-07-09T00:00:00.000000000",
          "2023-07-10T00:00:00.000000000",
          "2023-07-11T00:00:00.000000000",
          "2023-07-12T00:00:00.000000000",
          "2023-07-13T00:00:00.000000000",
          "2023-07-14T00:00:00.000000000",
          "2023-07-15T00:00:00.000000000",
          "2023-07-16T00:00:00.000000000",
          "2023-07-17T00:00:00.000000000",
          "2023-07-18T00:00:00.000000000",
          "2023-07-19T00:00:00.000000000",
          "2023-07-20T00:00:00.000000000",
          "2023-07-21T00:00:00.000000000",
          "2023-07-22T00:00:00.000000000",
          "2023-07-23T00:00:00.000000000",
          "2023-07-24T00:00:00.000000000",
          "2023-07-25T00:00:00.000000000",
          "2023-07-26T00:00:00.000000000",
          "2023-07-27T00:00:00.000000000",
          "2023-07-28T00:00:00.000000000",
          "2023-07-29T00:00:00.000000000",
          "2023-07-30T00:00:00.000000000",
          "2023-07-31T00:00:00.000000000",
          "2023-08-01T00:00:00.000000000",
          "2023-08-02T00:00:00.000000000",
          "2023-08-03T00:00:00.000000000",
          "2023-08-04T00:00:00.000000000",
          "2023-08-05T00:00:00.000000000",
          "2023-08-06T00:00:00.000000000",
          "2023-08-07T00:00:00.000000000",
          "2023-08-08T00:00:00.000000000",
          "2023-08-09T00:00:00.000000000",
          "2023-08-10T00:00:00.000000000",
          "2023-08-11T00:00:00.000000000",
          "2023-08-12T00:00:00.000000000",
          "2023-08-13T00:00:00.000000000",
          "2023-08-14T00:00:00.000000000",
          "2023-08-15T00:00:00.000000000",
          "2023-08-16T00:00:00.000000000",
          "2023-08-17T00:00:00.000000000",
          "2023-08-18T00:00:00.000000000",
          "2023-08-19T00:00:00.000000000",
          "2023-08-20T00:00:00.000000000",
          "2023-08-21T00:00:00.000000000",
          "2023-08-22T00:00:00.000000000",
          "2023-08-23T00:00:00.000000000",
          "2023-08-24T00:00:00.000000000",
          "2023-08-25T00:00:00.000000000",
          "2023-08-26T00:00:00.000000000",
          "2023-08-27T00:00:00.000000000",
          "2023-08-28T00:00:00.000000000",
          "2023-08-29T00:00:00.000000000",
          "2023-08-30T00:00:00.000000000",
          "2023-08-31T00:00:00.000000000",
          "2023-09-01T00:00:00.000000000",
          "2023-09-02T00:00:00.000000000",
          "2023-09-03T00:00:00.000000000",
          "2023-09-04T00:00:00.000000000",
          "2023-09-05T00:00:00.000000000",
          "2023-09-06T00:00:00.000000000",
          "2023-09-07T00:00:00.000000000",
          "2023-09-08T00:00:00.000000000",
          "2023-09-09T00:00:00.000000000",
          "2023-09-10T00:00:00.000000000",
          "2023-09-11T00:00:00.000000000",
          "2023-09-12T00:00:00.000000000",
          "2023-09-13T00:00:00.000000000",
          "2023-09-14T00:00:00.000000000",
          "2023-09-15T00:00:00.000000000",
          "2023-09-16T00:00:00.000000000",
          "2023-09-17T00:00:00.000000000",
          "2023-09-18T00:00:00.000000000",
          "2023-09-19T00:00:00.000000000",
          "2023-09-20T00:00:00.000000000",
          "2023-09-21T00:00:00.000000000",
          "2023-09-22T00:00:00.000000000",
          "2023-09-23T00:00:00.000000000",
          "2023-09-24T00:00:00.000000000",
          "2023-09-25T00:00:00.000000000",
          "2023-09-26T00:00:00.000000000",
          "2023-09-27T00:00:00.000000000",
          "2023-09-28T00:00:00.000000000",
          "2023-09-29T00:00:00.000000000",
          "2023-09-30T00:00:00.000000000",
          "2023-10-01T00:00:00.000000000",
          "2023-10-02T00:00:00.000000000",
          "2023-10-03T00:00:00.000000000",
          "2023-10-04T00:00:00.000000000",
          "2023-10-05T00:00:00.000000000",
          "2023-10-06T00:00:00.000000000",
          "2023-10-07T00:00:00.000000000",
          "2023-10-08T00:00:00.000000000",
          "2023-10-09T00:00:00.000000000",
          "2023-10-10T00:00:00.000000000",
          "2023-10-11T00:00:00.000000000",
          "2023-10-12T00:00:00.000000000",
          "2023-10-13T00:00:00.000000000",
          "2023-10-14T00:00:00.000000000",
          "2023-10-15T00:00:00.000000000",
          "2023-10-16T00:00:00.000000000",
          "2023-10-17T00:00:00.000000000",
          "2023-10-18T00:00:00.000000000",
          "2023-10-19T00:00:00.000000000",
          "2023-10-20T00:00:00.000000000",
          "2023-10-21T00:00:00.000000000",
          "2023-10-22T00:00:00.000000000",
          "2023-10-23T00:00:00.000000000",
          "2023-10-24T00:00:00.000000000",
          "2023-10-25T00:00:00.000000000",
          "2023-10-26T00:00:00.000000000",
          "2023-10-27T00:00:00.000000000",
          "2023-10-28T00:00:00.000000000",
          "2023-10-29T00:00:00.000000000",
          "2023-10-30T00:00:00.000000000",
          "2023-10-31T00:00:00.000000000",
          "2023-11-01T00:00:00.000000000",
          "2023-11-02T00:00:00.000000000",
          "2023-11-03T00:00:00.000000000",
          "2023-11-04T00:00:00.000000000",
          "2023-11-05T00:00:00.000000000",
          "2023-11-06T00:00:00.000000000",
          "2023-11-07T00:00:00.000000000",
          "2023-11-08T00:00:00.000000000",
          "2023-11-09T00:00:00.000000000",
          "2023-11-10T00:00:00.000000000",
          "2023-11-11T00:00:00.000000000",
          "2023-11-12T00:00:00.000000000",
          "2023-11-13T00:00:00.000000000",
          "2023-11-14T00:00:00.000000000",
          "2023-11-15T00:00:00.000000000",
          "2023-11-16T00:00:00.000000000",
          "2023-11-17T00:00:00.000000000",
          "2023-11-18T00:00:00.000000000",
          "2023-11-19T00:00:00.000000000",
          "2023-11-20T00:00:00.000000000",
          "2023-11-21T00:00:00.000000000",
          "2023-11-22T00:00:00.000000000",
          "2023-11-23T00:00:00.000000000",
          "2023-11-24T00:00:00.000000000",
          "2023-11-25T00:00:00.000000000",
          "2023-11-26T00:00:00.000000000",
          "2023-11-27T00:00:00.000000000",
          "2023-11-28T00:00:00.000000000",
          "2023-11-29T00:00:00.000000000",
          "2023-11-30T00:00:00.000000000",
          "2023-12-01T00:00:00.000000000",
          "2023-12-02T00:00:00.000000000",
          "2023-12-03T00:00:00.000000000",
          "2023-12-04T00:00:00.000000000",
          "2023-12-05T00:00:00.000000000",
          "2023-12-06T00:00:00.000000000",
          "2023-12-07T00:00:00.000000000",
          "2023-12-08T00:00:00.000000000",
          "2023-12-09T00:00:00.000000000",
          "2023-12-10T00:00:00.000000000",
          "2023-12-11T00:00:00.000000000",
          "2023-12-12T00:00:00.000000000",
          "2023-12-13T00:00:00.000000000",
          "2023-12-14T00:00:00.000000000",
          "2023-12-15T00:00:00.000000000",
          "2023-12-16T00:00:00.000000000",
          "2023-12-17T00:00:00.000000000",
          "2023-12-18T00:00:00.000000000",
          "2023-12-19T00:00:00.000000000",
          "2023-12-20T00:00:00.000000000",
          "2023-12-21T00:00:00.000000000",
          "2023-12-22T00:00:00.000000000",
          "2023-12-23T00:00:00.000000000",
          "2023-12-24T00:00:00.000000000",
          "2023-12-25T00:00:00.000000000",
          "2023-12-26T00:00:00.000000000",
          "2023-12-27T00:00:00.000000000",
          "2023-12-28T00:00:00.000000000",
          "2023-12-29T00:00:00.000000000",
          "2023-12-30T00:00:00.000000000",
          "2023-12-31T00:00:00.000000000",
          "2024-01-01T00:00:00.000000000",
          "2024-01-02T00:00:00.000000000",
          "2024-01-03T00:00:00.000000000",
          "2024-01-04T00:00:00.000000000",
          "2024-01-05T00:00:00.000000000",
          "2024-01-06T00:00:00.000000000",
          "2024-01-07T00:00:00.000000000",
          "2024-01-08T00:00:00.000000000",
          "2024-01-09T00:00:00.000000000",
          "2024-01-10T00:00:00.000000000",
          "2024-01-11T00:00:00.000000000",
          "2024-01-12T00:00:00.000000000",
          "2024-01-13T00:00:00.000000000",
          "2024-01-14T00:00:00.000000000",
          "2024-01-15T00:00:00.000000000",
          "2024-01-16T00:00:00.000000000",
          "2024-01-17T00:00:00.000000000",
          "2024-01-18T00:00:00.000000000",
          "2024-01-19T00:00:00.000000000",
          "2024-01-20T00:00:00.000000000",
          "2024-01-21T00:00:00.000000000",
          "2024-01-22T00:00:00.000000000",
          "2024-01-23T00:00:00.000000000",
          "2024-01-24T00:00:00.000000000",
          "2024-01-25T00:00:00.000000000",
          "2024-01-26T00:00:00.000000000",
          "2024-01-27T00:00:00.000000000",
          "2024-01-28T00:00:00.000000000",
          "2024-01-29T00:00:00.000000000",
          "2024-01-30T00:00:00.000000000",
          "2024-01-31T00:00:00.000000000",
          "2024-02-01T00:00:00.000000000",
          "2024-02-02T00:00:00.000000000",
          "2024-02-03T00:00:00.000000000",
          "2024-02-04T00:00:00.000000000",
          "2024-02-05T00:00:00.000000000",
          "2024-02-06T00:00:00.000000000",
          "2024-02-07T00:00:00.000000000",
          "2024-02-08T00:00:00.000000000",
          "2024-02-09T00:00:00.000000000",
          "2024-02-10T00:00:00.000000000",
          "2024-02-11T00:00:00.000000000",
          "2024-02-12T00:00:00.000000000",
          "2024-02-13T00:00:00.000000000",
          "2024-02-14T00:00:00.000000000",
          "2024-02-15T00:00:00.000000000",
          "2024-02-16T00:00:00.000000000",
          "2024-02-17T00:00:00.000000000",
          "2024-02-18T00:00:00.000000000",
          "2024-02-19T00:00:00.000000000",
          "2024-02-20T00:00:00.000000000",
          "2024-02-21T00:00:00.000000000",
          "2024-02-22T00:00:00.000000000",
          "2024-02-23T00:00:00.000000000",
          "2024-02-24T00:00:00.000000000",
          "2024-02-25T00:00:00.000000000",
          "2024-02-26T00:00:00.000000000",
          "2024-02-27T00:00:00.000000000",
          "2024-02-28T00:00:00.000000000",
          "2024-02-29T00:00:00.000000000",
          "2024-03-01T00:00:00.000000000",
          "2024-03-02T00:00:00.000000000",
          "2024-03-03T00:00:00.000000000",
          "2024-03-04T00:00:00.000000000",
          "2024-03-05T00:00:00.000000000",
          "2024-03-06T00:00:00.000000000",
          "2024-03-07T00:00:00.000000000",
          "2024-03-08T00:00:00.000000000",
          "2024-03-09T00:00:00.000000000",
          "2024-03-10T00:00:00.000000000",
          "2024-03-11T00:00:00.000000000",
          "2024-03-12T00:00:00.000000000",
          "2024-03-13T00:00:00.000000000",
          "2024-03-14T00:00:00.000000000",
          "2024-03-15T00:00:00.000000000",
          "2024-03-16T00:00:00.000000000",
          "2024-03-17T00:00:00.000000000",
          "2024-03-18T00:00:00.000000000",
          "2024-03-19T00:00:00.000000000",
          "2024-03-20T00:00:00.000000000",
          "2024-03-21T00:00:00.000000000",
          "2024-03-22T00:00:00.000000000",
          "2024-03-23T00:00:00.000000000",
          "2024-03-24T00:00:00.000000000",
          "2024-03-25T00:00:00.000000000",
          "2024-03-26T00:00:00.000000000",
          "2024-03-27T00:00:00.000000000",
          "2024-03-28T00:00:00.000000000",
          "2024-03-29T00:00:00.000000000",
          "2024-03-30T00:00:00.000000000",
          "2024-03-31T00:00:00.000000000",
          "2024-04-01T00:00:00.000000000",
          "2024-04-02T00:00:00.000000000",
          "2024-04-03T00:00:00.000000000",
          "2024-04-04T00:00:00.000000000",
          "2024-04-05T00:00:00.000000000",
          "2024-04-06T00:00:00.000000000",
          "2024-04-07T00:00:00.000000000",
          "2024-04-08T00:00:00.000000000",
          "2024-04-09T00:00:00.000000000",
          "2024-04-10T00:00:00.000000000",
          "2024-04-11T00:00:00.000000000",
          "2024-04-12T00:00:00.000000000",
          "2024-04-13T00:00:00.000000000",
          "2024-04-14T00:00:00.000000000",
          "2024-04-15T00:00:00.000000000",
          "2024-04-16T00:00:00.000000000",
          "2024-04-17T00:00:00.000000000",
          "2024-04-18T00:00:00.000000000",
          "2024-04-19T00:00:00.000000000",
          "2024-04-20T00:00:00.000000000",
          "2024-04-21T00:00:00.000000000",
          "2024-04-22T00:00:00.000000000",
          "2024-04-23T00:00:00.000000000",
          "2024-04-24T00:00:00.000000000",
          "2024-04-25T00:00:00.000000000",
          "2024-04-26T00:00:00.000000000",
          "2024-04-27T00:00:00.000000000",
          "2024-04-28T00:00:00.000000000",
          "2024-04-29T00:00:00.000000000",
          "2024-04-30T00:00:00.000000000",
          "2024-05-01T00:00:00.000000000",
          "2024-05-02T00:00:00.000000000",
          "2024-05-03T00:00:00.000000000",
          "2024-05-04T00:00:00.000000000",
          "2024-05-05T00:00:00.000000000",
          "2024-05-06T00:00:00.000000000",
          "2024-05-07T00:00:00.000000000",
          "2024-05-08T00:00:00.000000000",
          "2024-05-09T00:00:00.000000000",
          "2024-05-10T00:00:00.000000000",
          "2024-05-11T00:00:00.000000000",
          "2024-05-12T00:00:00.000000000",
          "2024-05-13T00:00:00.000000000",
          "2024-05-14T00:00:00.000000000",
          "2024-05-15T00:00:00.000000000",
          "2024-05-16T00:00:00.000000000",
          "2024-05-17T00:00:00.000000000",
          "2024-05-18T00:00:00.000000000",
          "2024-05-19T00:00:00.000000000",
          "2024-05-20T00:00:00.000000000",
          "2024-05-21T00:00:00.000000000",
          "2024-05-22T00:00:00.000000000",
          "2024-05-23T00:00:00.000000000",
          "2024-05-24T00:00:00.000000000",
          "2024-05-25T00:00:00.000000000",
          "2024-05-26T00:00:00.000000000",
          "2024-05-27T00:00:00.000000000",
          "2024-05-28T00:00:00.000000000",
          "2024-05-29T00:00:00.000000000",
          "2024-05-30T00:00:00.000000000",
          "2024-05-31T00:00:00.000000000",
          "2024-06-01T00:00:00.000000000",
          "2024-06-02T00:00:00.000000000",
          "2024-06-03T00:00:00.000000000",
          "2024-06-04T00:00:00.000000000",
          "2024-06-05T00:00:00.000000000",
          "2024-06-06T00:00:00.000000000",
          "2024-06-07T00:00:00.000000000",
          "2024-06-08T00:00:00.000000000",
          "2024-06-09T00:00:00.000000000",
          "2024-06-10T00:00:00.000000000",
          "2024-06-11T00:00:00.000000000",
          "2024-06-12T00:00:00.000000000",
          "2024-06-13T00:00:00.000000000",
          "2024-06-14T00:00:00.000000000",
          "2024-06-15T00:00:00.000000000",
          "2024-06-16T00:00:00.000000000",
          "2024-06-17T00:00:00.000000000",
          "2024-06-18T00:00:00.000000000",
          "2024-06-19T00:00:00.000000000",
          "2024-06-20T00:00:00.000000000",
          "2024-06-21T00:00:00.000000000",
          "2024-06-22T00:00:00.000000000",
          "2024-06-23T00:00:00.000000000",
          "2024-06-24T00:00:00.000000000",
          "2024-06-25T00:00:00.000000000",
          "2024-06-26T00:00:00.000000000",
          "2024-06-27T00:00:00.000000000",
          "2024-06-28T00:00:00.000000000",
          "2024-06-29T00:00:00.000000000",
          "2024-06-30T00:00:00.000000000",
          "2024-07-01T00:00:00.000000000",
          "2024-07-02T00:00:00.000000000",
          "2024-07-03T00:00:00.000000000",
          "2024-07-04T00:00:00.000000000",
          "2024-07-05T00:00:00.000000000",
          "2024-07-06T00:00:00.000000000",
          "2024-07-07T00:00:00.000000000",
          "2024-07-08T00:00:00.000000000",
          "2024-07-09T00:00:00.000000000",
          "2024-07-10T00:00:00.000000000",
          "2024-07-11T00:00:00.000000000",
          "2024-07-12T00:00:00.000000000",
          "2024-07-13T00:00:00.000000000",
          "2024-07-14T00:00:00.000000000",
          "2024-07-15T00:00:00.000000000",
          "2024-07-16T00:00:00.000000000",
          "2024-07-17T00:00:00.000000000",
          "2024-07-18T00:00:00.000000000",
          "2024-07-19T00:00:00.000000000",
          "2024-07-20T00:00:00.000000000",
          "2024-07-21T00:00:00.000000000",
          "2024-07-22T00:00:00.000000000",
          "2024-07-23T00:00:00.000000000",
          "2024-07-24T00:00:00.000000000",
          "2024-07-25T00:00:00.000000000",
          "2024-07-26T00:00:00.000000000",
          "2024-07-27T00:00:00.000000000",
          "2024-07-28T00:00:00.000000000",
          "2024-07-29T00:00:00.000000000",
          "2024-07-30T00:00:00.000000000",
          "2024-07-31T00:00:00.000000000",
          "2024-08-01T00:00:00.000000000",
          "2024-08-02T00:00:00.000000000",
          "2024-08-03T00:00:00.000000000",
          "2024-08-04T00:00:00.000000000",
          "2024-08-05T00:00:00.000000000",
          "2024-08-06T00:00:00.000000000",
          "2024-08-07T00:00:00.000000000",
          "2024-08-08T00:00:00.000000000",
          "2024-08-09T00:00:00.000000000",
          "2024-08-10T00:00:00.000000000",
          "2024-08-11T00:00:00.000000000",
          "2024-08-12T00:00:00.000000000",
          "2024-08-13T00:00:00.000000000",
          "2024-08-14T00:00:00.000000000",
          "2024-08-15T00:00:00.000000000",
          "2024-08-16T00:00:00.000000000",
          "2024-08-17T00:00:00.000000000",
          "2024-08-18T00:00:00.000000000",
          "2024-08-19T00:00:00.000000000",
          "2024-08-20T00:00:00.000000000",
          "2024-08-21T00:00:00.000000000",
          "2024-08-22T00:00:00.000000000",
          "2024-08-23T00:00:00.000000000",
          "2024-08-24T00:00:00.000000000",
          "2024-08-25T00:00:00.000000000",
          "2024-08-26T00:00:00.000000000",
          "2024-08-27T00:00:00.000000000",
          "2024-08-28T00:00:00.000000000",
          "2024-08-29T00:00:00.000000000",
          "2024-08-30T00:00:00.000000000",
          "2024-08-31T00:00:00.000000000",
          "2024-09-01T00:00:00.000000000",
          "2024-09-02T00:00:00.000000000",
          "2024-09-03T00:00:00.000000000",
          "2024-09-04T00:00:00.000000000",
          "2024-09-05T00:00:00.000000000",
          "2024-09-06T00:00:00.000000000",
          "2024-09-07T00:00:00.000000000",
          "2024-09-08T00:00:00.000000000",
          "2024-09-09T00:00:00.000000000",
          "2024-09-10T00:00:00.000000000",
          "2024-09-11T00:00:00.000000000",
          "2024-09-12T00:00:00.000000000",
          "2024-09-13T00:00:00.000000000",
          "2024-09-14T00:00:00.000000000",
          "2024-09-15T00:00:00.000000000",
          "2024-09-16T00:00:00.000000000",
          "2024-09-17T00:00:00.000000000",
          "2024-09-18T00:00:00.000000000",
          "2024-09-19T00:00:00.000000000",
          "2024-09-20T00:00:00.000000000",
          "2024-09-21T00:00:00.000000000",
          "2024-09-22T00:00:00.000000000",
          "2024-09-23T00:00:00.000000000",
          "2024-09-24T00:00:00.000000000",
          "2024-09-25T00:00:00.000000000",
          "2024-09-26T00:00:00.000000000",
          "2024-09-27T00:00:00.000000000",
          "2024-09-28T00:00:00.000000000",
          "2024-09-29T00:00:00.000000000",
          "2024-09-30T00:00:00.000000000",
          "2024-10-01T00:00:00.000000000",
          "2024-10-02T00:00:00.000000000",
          "2024-10-03T00:00:00.000000000",
          "2024-10-04T00:00:00.000000000",
          "2024-10-05T00:00:00.000000000",
          "2024-10-06T00:00:00.000000000",
          "2024-10-07T00:00:00.000000000",
          "2024-10-08T00:00:00.000000000",
          "2024-10-09T00:00:00.000000000",
          "2024-10-10T00:00:00.000000000",
          "2024-10-11T00:00:00.000000000",
          "2024-10-12T00:00:00.000000000",
          "2024-10-13T00:00:00.000000000",
          "2024-10-14T00:00:00.000000000",
          "2024-10-15T00:00:00.000000000",
          "2024-10-16T00:00:00.000000000",
          "2024-10-17T00:00:00.000000000",
          "2024-10-18T00:00:00.000000000",
          "2024-10-19T00:00:00.000000000",
          "2024-10-20T00:00:00.000000000",
          "2024-10-21T00:00:00.000000000",
          "2024-10-22T00:00:00.000000000",
          "2024-10-23T00:00:00.000000000",
          "2024-10-24T00:00:00.000000000",
          "2024-10-25T00:00:00.000000000",
          "2024-10-26T00:00:00.000000000",
          "2024-10-27T00:00:00.000000000",
          "2024-10-28T00:00:00.000000000",
          "2024-10-29T00:00:00.000000000",
          "2024-10-30T00:00:00.000000000",
          "2024-10-31T00:00:00.000000000",
          "2024-11-01T00:00:00.000000000",
          "2024-11-02T00:00:00.000000000",
          "2024-11-03T00:00:00.000000000",
          "2024-11-04T00:00:00.000000000",
          "2024-11-05T00:00:00.000000000",
          "2024-11-06T00:00:00.000000000",
          "2024-11-07T00:00:00.000000000",
          "2024-11-08T00:00:00.000000000",
          "2024-11-09T00:00:00.000000000",
          "2024-11-10T00:00:00.000000000",
          "2024-11-11T00:00:00.000000000",
          "2024-11-12T00:00:00.000000000",
          "2024-11-13T00:00:00.000000000",
          "2024-11-14T00:00:00.000000000",
          "2024-11-15T00:00:00.000000000",
          "2024-11-16T00:00:00.000000000",
          "2024-11-17T00:00:00.000000000",
          "2024-11-18T00:00:00.000000000",
          "2024-11-19T00:00:00.000000000",
          "2024-11-20T00:00:00.000000000",
          "2024-11-21T00:00:00.000000000",
          "2024-11-22T00:00:00.000000000",
          "2024-11-23T00:00:00.000000000",
          "2024-11-24T00:00:00.000000000",
          "2024-11-25T00:00:00.000000000",
          "2024-11-26T00:00:00.000000000",
          "2024-11-27T00:00:00.000000000",
          "2024-11-28T00:00:00.000000000",
          "2024-11-29T00:00:00.000000000",
          "2024-11-30T00:00:00.000000000",
          "2024-12-01T00:00:00.000000000",
          "2024-12-02T00:00:00.000000000",
          "2024-12-03T00:00:00.000000000",
          "2024-12-04T00:00:00.000000000",
          "2024-12-05T00:00:00.000000000",
          "2024-12-06T00:00:00.000000000",
          "2024-12-07T00:00:00.000000000",
          "2024-12-08T00:00:00.000000000",
          "2024-12-09T00:00:00.000000000",
          "2024-12-10T00:00:00.000000000",
          "2024-12-11T00:00:00.000000000",
          "2024-12-12T00:00:00.000000000",
          "2024-12-13T00:00:00.000000000",
          "2024-12-14T00:00:00.000000000",
          "2024-12-15T00:00:00.000000000",
          "2024-12-16T00:00:00.000000000",
          "2024-12-17T00:00:00.000000000",
          "2024-12-18T00:00:00.000000000",
          "2024-12-19T00:00:00.000000000",
          "2024-12-20T00:00:00.000000000",
          "2024-12-21T00:00:00.000000000",
          "2024-12-22T00:00:00.000000000",
          "2024-12-23T00:00:00.000000000",
          "2024-12-24T00:00:00.000000000",
          "2024-12-25T00:00:00.000000000",
          "2024-12-26T00:00:00.000000000",
          "2024-12-27T00:00:00.000000000",
          "2024-12-28T00:00:00.000000000",
          "2024-12-29T00:00:00.000000000",
          "2024-12-30T00:00:00.000000000",
          "2024-12-31T00:00:00.000000000",
          "2025-01-01T00:00:00.000000000",
          "2025-01-02T00:00:00.000000000",
          "2025-01-03T00:00:00.000000000",
          "2025-01-04T00:00:00.000000000",
          "2025-01-05T00:00:00.000000000",
          "2025-01-06T00:00:00.000000000",
          "2025-01-07T00:00:00.000000000",
          "2025-01-08T00:00:00.000000000",
          "2025-01-09T00:00:00.000000000",
          "2025-01-10T00:00:00.000000000",
          "2025-01-11T00:00:00.000000000",
          "2025-01-12T00:00:00.000000000",
          "2025-01-13T00:00:00.000000000",
          "2025-01-14T00:00:00.000000000",
          "2025-01-15T00:00:00.000000000",
          "2025-01-16T00:00:00.000000000",
          "2025-01-17T00:00:00.000000000",
          "2025-01-18T00:00:00.000000000",
          "2025-01-19T00:00:00.000000000",
          "2025-01-20T00:00:00.000000000",
          "2025-01-21T00:00:00.000000000",
          "2025-01-22T00:00:00.000000000",
          "2025-01-23T00:00:00.000000000",
          "2025-01-24T00:00:00.000000000",
          "2025-01-25T00:00:00.000000000",
          "2025-01-26T00:00:00.000000000",
          "2025-01-27T00:00:00.000000000",
          "2025-01-28T00:00:00.000000000",
          "2025-01-29T00:00:00.000000000",
          "2025-01-30T00:00:00.000000000",
          "2025-01-31T00:00:00.000000000",
          "2025-02-01T00:00:00.000000000",
          "2025-02-02T00:00:00.000000000",
          "2025-02-03T00:00:00.000000000",
          "2025-02-04T00:00:00.000000000",
          "2025-02-05T00:00:00.000000000",
          "2025-02-06T00:00:00.000000000",
          "2025-02-07T00:00:00.000000000",
          "2025-02-08T00:00:00.000000000",
          "2025-02-09T00:00:00.000000000",
          "2025-02-10T00:00:00.000000000",
          "2025-02-11T00:00:00.000000000",
          "2025-02-12T00:00:00.000000000",
          "2025-02-13T00:00:00.000000000",
          "2025-02-14T00:00:00.000000000",
          "2025-02-15T00:00:00.000000000",
          "2025-02-16T00:00:00.000000000",
          "2025-02-17T00:00:00.000000000",
          "2025-02-18T00:00:00.000000000",
          "2025-02-19T00:00:00.000000000",
          "2025-02-20T00:00:00.000000000",
          "2025-02-21T00:00:00.000000000",
          "2025-02-22T00:00:00.000000000",
          "2025-02-23T00:00:00.000000000",
          "2025-02-24T00:00:00.000000000",
          "2025-02-25T00:00:00.000000000",
          "2025-02-26T00:00:00.000000000",
          "2025-02-27T00:00:00.000000000",
          "2025-02-28T00:00:00.000000000",
          "2025-03-01T00:00:00.000000000",
          "2025-03-02T00:00:00.000000000",
          "2025-03-03T00:00:00.000000000",
          "2025-03-04T00:00:00.000000000",
          "2025-03-05T00:00:00.000000000",
          "2025-03-06T00:00:00.000000000",
          "2025-03-07T00:00:00.000000000",
          "2025-03-08T00:00:00.000000000",
          "2025-03-09T00:00:00.000000000",
          "2025-03-10T00:00:00.000000000",
          "2025-03-11T00:00:00.000000000",
          "2025-03-12T00:00:00.000000000",
          "2025-03-13T00:00:00.000000000",
          "2025-03-14T00:00:00.000000000",
          "2025-03-15T00:00:00.000000000",
          "2025-03-16T00:00:00.000000000",
          "2025-03-17T00:00:00.000000000",
          "2025-03-18T00:00:00.000000000",
          "2025-03-19T00:00:00.000000000",
          "2025-03-20T00:00:00.000000000",
          "2025-03-21T00:00:00.000000000",
          "2025-03-22T00:00:00.000000000",
          "2025-03-23T00:00:00.000000000",
          "2025-03-24T00:00:00.000000000",
          "2025-03-25T00:00:00.000000000",
          "2025-03-26T00:00:00.000000000",
          "2025-03-27T00:00:00.000000000",
          "2025-03-28T00:00:00.000000000",
          "2025-03-29T00:00:00.000000000",
          "2025-03-30T00:00:00.000000000",
          "2025-03-31T00:00:00.000000000",
          "2025-04-01T00:00:00.000000000",
          "2025-04-02T00:00:00.000000000"
         ],
         "y": {
          "bdata": "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",
          "dtype": "f8"
         }
        },
        {
         "line": {
          "color": "blue"
         },
         "mode": "lines",
         "name": "Rolling MAE",
         "type": "scatter",
         "x": [
          "2023-04-25T00:00:00.000000000",
          "2023-04-26T00:00:00.000000000",
          "2023-04-27T00:00:00.000000000",
          "2023-04-28T00:00:00.000000000",
          "2023-04-29T00:00:00.000000000",
          "2023-04-30T00:00:00.000000000",
          "2023-05-01T00:00:00.000000000",
          "2023-05-02T00:00:00.000000000",
          "2023-05-03T00:00:00.000000000",
          "2023-05-04T00:00:00.000000000",
          "2023-05-05T00:00:00.000000000",
          "2023-05-06T00:00:00.000000000",
          "2023-05-07T00:00:00.000000000",
          "2023-05-08T00:00:00.000000000",
          "2023-05-09T00:00:00.000000000",
          "2023-05-10T00:00:00.000000000",
          "2023-05-11T00:00:00.000000000",
          "2023-05-12T00:00:00.000000000",
          "2023-05-13T00:00:00.000000000",
          "2023-05-14T00:00:00.000000000",
          "2023-05-15T00:00:00.000000000",
          "2023-05-16T00:00:00.000000000",
          "2023-05-17T00:00:00.000000000",
          "2023-05-18T00:00:00.000000000",
          "2023-05-19T00:00:00.000000000",
          "2023-05-20T00:00:00.000000000",
          "2023-05-21T00:00:00.000000000",
          "2023-05-22T00:00:00.000000000",
          "2023-05-23T00:00:00.000000000",
          "2023-05-24T00:00:00.000000000",
          "2023-05-25T00:00:00.000000000",
          "2023-05-26T00:00:00.000000000",
          "2023-05-27T00:00:00.000000000",
          "2023-05-28T00:00:00.000000000",
          "2023-05-29T00:00:00.000000000",
          "2023-05-30T00:00:00.000000000",
          "2023-05-31T00:00:00.000000000",
          "2023-06-01T00:00:00.000000000",
          "2023-06-02T00:00:00.000000000",
          "2023-06-03T00:00:00.000000000",
          "2023-06-04T00:00:00.000000000",
          "2023-06-05T00:00:00.000000000",
          "2023-06-06T00:00:00.000000000",
          "2023-06-07T00:00:00.000000000",
          "2023-06-08T00:00:00.000000000",
          "2023-06-09T00:00:00.000000000",
          "2023-06-10T00:00:00.000000000",
          "2023-06-11T00:00:00.000000000",
          "2023-06-12T00:00:00.000000000",
          "2023-06-13T00:00:00.000000000",
          "2023-06-14T00:00:00.000000000",
          "2023-06-15T00:00:00.000000000",
          "2023-06-16T00:00:00.000000000",
          "2023-06-17T00:00:00.000000000",
          "2023-06-18T00:00:00.000000000",
          "2023-06-19T00:00:00.000000000",
          "2023-06-20T00:00:00.000000000",
          "2023-06-21T00:00:00.000000000",
          "2023-06-22T00:00:00.000000000",
          "2023-06-23T00:00:00.000000000",
          "2023-06-24T00:00:00.000000000",
          "2023-06-25T00:00:00.000000000",
          "2023-06-26T00:00:00.000000000",
          "2023-06-27T00:00:00.000000000",
          "2023-06-28T00:00:00.000000000",
          "2023-06-29T00:00:00.000000000",
          "2023-06-30T00:00:00.000000000",
          "2023-07-01T00:00:00.000000000",
          "2023-07-02T00:00:00.000000000",
          "2023-07-03T00:00:00.000000000",
          "2023-07-04T00:00:00.000000000",
          "2023-07-05T00:00:00.000000000",
          "2023-07-06T00:00:00.000000000",
          "2023-07-07T00:00:00.000000000",
          "2023-07-08T00:00:00.000000000",
          "2023-07-09T00:00:00.000000000",
          "2023-07-10T00:00:00.000000000",
          "2023-07-11T00:00:00.000000000",
          "2023-07-12T00:00:00.000000000",
          "2023-07-13T00:00:00.000000000",
          "2023-07-14T00:00:00.000000000",
          "2023-07-15T00:00:00.000000000",
          "2023-07-16T00:00:00.000000000",
          "2023-07-17T00:00:00.000000000",
          "2023-07-18T00:00:00.000000000",
          "2023-07-19T00:00:00.000000000",
          "2023-07-20T00:00:00.000000000",
          "2023-07-21T00:00:00.000000000",
          "2023-07-22T00:00:00.000000000",
          "2023-07-23T00:00:00.000000000",
          "2023-07-24T00:00:00.000000000",
          "2023-07-25T00:00:00.000000000",
          "2023-07-26T00:00:00.000000000",
          "2023-07-27T00:00:00.000000000",
          "2023-07-28T00:00:00.000000000",
          "2023-07-29T00:00:00.000000000",
          "2023-07-30T00:00:00.000000000",
          "2023-07-31T00:00:00.000000000",
          "2023-08-01T00:00:00.000000000",
          "2023-08-02T00:00:00.000000000",
          "2023-08-03T00:00:00.000000000",
          "2023-08-04T00:00:00.000000000",
          "2023-08-05T00:00:00.000000000",
          "2023-08-06T00:00:00.000000000",
          "2023-08-07T00:00:00.000000000",
          "2023-08-08T00:00:00.000000000",
          "2023-08-09T00:00:00.000000000",
          "2023-08-10T00:00:00.000000000",
          "2023-08-11T00:00:00.000000000",
          "2023-08-12T00:00:00.000000000",
          "2023-08-13T00:00:00.000000000",
          "2023-08-14T00:00:00.000000000",
          "2023-08-15T00:00:00.000000000",
          "2023-08-16T00:00:00.000000000",
          "2023-08-17T00:00:00.000000000",
          "2023-08-18T00:00:00.000000000",
          "2023-08-19T00:00:00.000000000",
          "2023-08-20T00:00:00.000000000",
          "2023-08-21T00:00:00.000000000",
          "2023-08-22T00:00:00.000000000",
          "2023-08-23T00:00:00.000000000",
          "2023-08-24T00:00:00.000000000",
          "2023-08-25T00:00:00.000000000",
          "2023-08-26T00:00:00.000000000",
          "2023-08-27T00:00:00.000000000",
          "2023-08-28T00:00:00.000000000",
          "2023-08-29T00:00:00.000000000",
          "2023-08-30T00:00:00.000000000",
          "2023-08-31T00:00:00.000000000",
          "2023-09-01T00:00:00.000000000",
          "2023-09-02T00:00:00.000000000",
          "2023-09-03T00:00:00.000000000",
          "2023-09-04T00:00:00.000000000",
          "2023-09-05T00:00:00.000000000",
          "2023-09-06T00:00:00.000000000",
          "2023-09-07T00:00:00.000000000",
          "2023-09-08T00:00:00.000000000",
          "2023-09-09T00:00:00.000000000",
          "2023-09-10T00:00:00.000000000",
          "2023-09-11T00:00:00.000000000",
          "2023-09-12T00:00:00.000000000",
          "2023-09-13T00:00:00.000000000",
          "2023-09-14T00:00:00.000000000",
          "2023-09-15T00:00:00.000000000",
          "2023-09-16T00:00:00.000000000",
          "2023-09-17T00:00:00.000000000",
          "2023-09-18T00:00:00.000000000",
          "2023-09-19T00:00:00.000000000",
          "2023-09-20T00:00:00.000000000",
          "2023-09-21T00:00:00.000000000",
          "2023-09-22T00:00:00.000000000",
          "2023-09-23T00:00:00.000000000",
          "2023-09-24T00:00:00.000000000",
          "2023-09-25T00:00:00.000000000",
          "2023-09-26T00:00:00.000000000",
          "2023-09-27T00:00:00.000000000",
          "2023-09-28T00:00:00.000000000",
          "2023-09-29T00:00:00.000000000",
          "2023-09-30T00:00:00.000000000",
          "2023-10-01T00:00:00.000000000",
          "2023-10-02T00:00:00.000000000",
          "2023-10-03T00:00:00.000000000",
          "2023-10-04T00:00:00.000000000",
          "2023-10-05T00:00:00.000000000",
          "2023-10-06T00:00:00.000000000",
          "2023-10-07T00:00:00.000000000",
          "2023-10-08T00:00:00.000000000",
          "2023-10-09T00:00:00.000000000",
          "2023-10-10T00:00:00.000000000",
          "2023-10-11T00:00:00.000000000",
          "2023-10-12T00:00:00.000000000",
          "2023-10-13T00:00:00.000000000",
          "2023-10-14T00:00:00.000000000",
          "2023-10-15T00:00:00.000000000",
          "2023-10-16T00:00:00.000000000",
          "2023-10-17T00:00:00.000000000",
          "2023-10-18T00:00:00.000000000",
          "2023-10-19T00:00:00.000000000",
          "2023-10-20T00:00:00.000000000",
          "2023-10-21T00:00:00.000000000",
          "2023-10-22T00:00:00.000000000",
          "2023-10-23T00:00:00.000000000",
          "2023-10-24T00:00:00.000000000",
          "2023-10-25T00:00:00.000000000",
          "2023-10-26T00:00:00.000000000",
          "2023-10-27T00:00:00.000000000",
          "2023-10-28T00:00:00.000000000",
          "2023-10-29T00:00:00.000000000",
          "2023-10-30T00:00:00.000000000",
          "2023-10-31T00:00:00.000000000",
          "2023-11-01T00:00:00.000000000",
          "2023-11-02T00:00:00.000000000",
          "2023-11-03T00:00:00.000000000",
          "2023-11-04T00:00:00.000000000",
          "2023-11-05T00:00:00.000000000",
          "2023-11-06T00:00:00.000000000",
          "2023-11-07T00:00:00.000000000",
          "2023-11-08T00:00:00.000000000",
          "2023-11-09T00:00:00.000000000",
          "2023-11-10T00:00:00.000000000",
          "2023-11-11T00:00:00.000000000",
          "2023-11-12T00:00:00.000000000",
          "2023-11-13T00:00:00.000000000",
          "2023-11-14T00:00:00.000000000",
          "2023-11-15T00:00:00.000000000",
          "2023-11-16T00:00:00.000000000",
          "2023-11-17T00:00:00.000000000",
          "2023-11-18T00:00:00.000000000",
          "2023-11-19T00:00:00.000000000",
          "2023-11-20T00:00:00.000000000",
          "2023-11-21T00:00:00.000000000",
          "2023-11-22T00:00:00.000000000",
          "2023-11-23T00:00:00.000000000",
          "2023-11-24T00:00:00.000000000",
          "2023-11-25T00:00:00.000000000",
          "2023-11-26T00:00:00.000000000",
          "2023-11-27T00:00:00.000000000",
          "2023-11-28T00:00:00.000000000",
          "2023-11-29T00:00:00.000000000",
          "2023-11-30T00:00:00.000000000",
          "2023-12-01T00:00:00.000000000",
          "2023-12-02T00:00:00.000000000",
          "2023-12-03T00:00:00.000000000",
          "2023-12-04T00:00:00.000000000",
          "2023-12-05T00:00:00.000000000",
          "2023-12-06T00:00:00.000000000",
          "2023-12-07T00:00:00.000000000",
          "2023-12-08T00:00:00.000000000",
          "2023-12-09T00:00:00.000000000",
          "2023-12-10T00:00:00.000000000",
          "2023-12-11T00:00:00.000000000",
          "2023-12-12T00:00:00.000000000",
          "2023-12-13T00:00:00.000000000",
          "2023-12-14T00:00:00.000000000",
          "2023-12-15T00:00:00.000000000",
          "2023-12-16T00:00:00.000000000",
          "2023-12-17T00:00:00.000000000",
          "2023-12-18T00:00:00.000000000",
          "2023-12-19T00:00:00.000000000",
          "2023-12-20T00:00:00.000000000",
          "2023-12-21T00:00:00.000000000",
          "2023-12-22T00:00:00.000000000",
          "2023-12-23T00:00:00.000000000",
          "2023-12-24T00:00:00.000000000",
          "2023-12-25T00:00:00.000000000",
          "2023-12-26T00:00:00.000000000",
          "2023-12-27T00:00:00.000000000",
          "2023-12-28T00:00:00.000000000",
          "2023-12-29T00:00:00.000000000",
          "2023-12-30T00:00:00.000000000",
          "2023-12-31T00:00:00.000000000",
          "2024-01-01T00:00:00.000000000",
          "2024-01-02T00:00:00.000000000",
          "2024-01-03T00:00:00.000000000",
          "2024-01-04T00:00:00.000000000",
          "2024-01-05T00:00:00.000000000",
          "2024-01-06T00:00:00.000000000",
          "2024-01-07T00:00:00.000000000",
          "2024-01-08T00:00:00.000000000",
          "2024-01-09T00:00:00.000000000",
          "2024-01-10T00:00:00.000000000",
          "2024-01-11T00:00:00.000000000",
          "2024-01-12T00:00:00.000000000",
          "2024-01-13T00:00:00.000000000",
          "2024-01-14T00:00:00.000000000",
          "2024-01-15T00:00:00.000000000",
          "2024-01-16T00:00:00.000000000",
          "2024-01-17T00:00:00.000000000",
          "2024-01-18T00:00:00.000000000",
          "2024-01-19T00:00:00.000000000",
          "2024-01-20T00:00:00.000000000",
          "2024-01-21T00:00:00.000000000",
          "2024-01-22T00:00:00.000000000",
          "2024-01-23T00:00:00.000000000",
          "2024-01-24T00:00:00.000000000",
          "2024-01-25T00:00:00.000000000",
          "2024-01-26T00:00:00.000000000",
          "2024-01-27T00:00:00.000000000",
          "2024-01-28T00:00:00.000000000",
          "2024-01-29T00:00:00.000000000",
          "2024-01-30T00:00:00.000000000",
          "2024-01-31T00:00:00.000000000",
          "2024-02-01T00:00:00.000000000",
          "2024-02-02T00:00:00.000000000",
          "2024-02-03T00:00:00.000000000",
          "2024-02-04T00:00:00.000000000",
          "2024-02-05T00:00:00.000000000",
          "2024-02-06T00:00:00.000000000",
          "2024-02-07T00:00:00.000000000",
          "2024-02-08T00:00:00.000000000",
          "2024-02-09T00:00:00.000000000",
          "2024-02-10T00:00:00.000000000",
          "2024-02-11T00:00:00.000000000",
          "2024-02-12T00:00:00.000000000",
          "2024-02-13T00:00:00.000000000",
          "2024-02-14T00:00:00.000000000",
          "2024-02-15T00:00:00.000000000",
          "2024-02-16T00:00:00.000000000",
          "2024-02-17T00:00:00.000000000",
          "2024-02-18T00:00:00.000000000",
          "2024-02-19T00:00:00.000000000",
          "2024-02-20T00:00:00.000000000",
          "2024-02-21T00:00:00.000000000",
          "2024-02-22T00:00:00.000000000",
          "2024-02-23T00:00:00.000000000",
          "2024-02-24T00:00:00.000000000",
          "2024-02-25T00:00:00.000000000",
          "2024-02-26T00:00:00.000000000",
          "2024-02-27T00:00:00.000000000",
          "2024-02-28T00:00:00.000000000",
          "2024-02-29T00:00:00.000000000",
          "2024-03-01T00:00:00.000000000",
          "2024-03-02T00:00:00.000000000",
          "2024-03-03T00:00:00.000000000",
          "2024-03-04T00:00:00.000000000",
          "2024-03-05T00:00:00.000000000",
          "2024-03-06T00:00:00.000000000",
          "2024-03-07T00:00:00.000000000",
          "2024-03-08T00:00:00.000000000",
          "2024-03-09T00:00:00.000000000",
          "2024-03-10T00:00:00.000000000",
          "2024-03-11T00:00:00.000000000",
          "2024-03-12T00:00:00.000000000",
          "2024-03-13T00:00:00.000000000",
          "2024-03-14T00:00:00.000000000",
          "2024-03-15T00:00:00.000000000",
          "2024-03-16T00:00:00.000000000",
          "2024-03-17T00:00:00.000000000",
          "2024-03-18T00:00:00.000000000",
          "2024-03-19T00:00:00.000000000",
          "2024-03-20T00:00:00.000000000",
          "2024-03-21T00:00:00.000000000",
          "2024-03-22T00:00:00.000000000",
          "2024-03-23T00:00:00.000000000",
          "2024-03-24T00:00:00.000000000",
          "2024-03-25T00:00:00.000000000",
          "2024-03-26T00:00:00.000000000",
          "2024-03-27T00:00:00.000000000",
          "2024-03-28T00:00:00.000000000",
          "2024-03-29T00:00:00.000000000",
          "2024-03-30T00:00:00.000000000",
          "2024-03-31T00:00:00.000000000",
          "2024-04-01T00:00:00.000000000",
          "2024-04-02T00:00:00.000000000",
          "2024-04-03T00:00:00.000000000",
          "2024-04-04T00:00:00.000000000",
          "2024-04-05T00:00:00.000000000",
          "2024-04-06T00:00:00.000000000",
          "2024-04-07T00:00:00.000000000",
          "2024-04-08T00:00:00.000000000",
          "2024-04-09T00:00:00.000000000",
          "2024-04-10T00:00:00.000000000",
          "2024-04-11T00:00:00.000000000",
          "2024-04-12T00:00:00.000000000",
          "2024-04-13T00:00:00.000000000",
          "2024-04-14T00:00:00.000000000",
          "2024-04-15T00:00:00.000000000",
          "2024-04-16T00:00:00.000000000",
          "2024-04-17T00:00:00.000000000",
          "2024-04-18T00:00:00.000000000",
          "2024-04-19T00:00:00.000000000",
          "2024-04-20T00:00:00.000000000",
          "2024-04-21T00:00:00.000000000",
          "2024-04-22T00:00:00.000000000",
          "2024-04-23T00:00:00.000000000",
          "2024-04-24T00:00:00.000000000",
          "2024-04-25T00:00:00.000000000",
          "2024-04-26T00:00:00.000000000",
          "2024-04-27T00:00:00.000000000",
          "2024-04-28T00:00:00.000000000",
          "2024-04-29T00:00:00.000000000",
          "2024-04-30T00:00:00.000000000",
          "2024-05-01T00:00:00.000000000",
          "2024-05-02T00:00:00.000000000",
          "2024-05-03T00:00:00.000000000",
          "2024-05-04T00:00:00.000000000",
          "2024-05-05T00:00:00.000000000",
          "2024-05-06T00:00:00.000000000",
          "2024-05-07T00:00:00.000000000",
          "2024-05-08T00:00:00.000000000",
          "2024-05-09T00:00:00.000000000",
          "2024-05-10T00:00:00.000000000",
          "2024-05-11T00:00:00.000000000",
          "2024-05-12T00:00:00.000000000",
          "2024-05-13T00:00:00.000000000",
          "2024-05-14T00:00:00.000000000",
          "2024-05-15T00:00:00.000000000",
          "2024-05-16T00:00:00.000000000",
          "2024-05-17T00:00:00.000000000",
          "2024-05-18T00:00:00.000000000",
          "2024-05-19T00:00:00.000000000",
          "2024-05-20T00:00:00.000000000",
          "2024-05-21T00:00:00.000000000",
          "2024-05-22T00:00:00.000000000",
          "2024-05-23T00:00:00.000000000",
          "2024-05-24T00:00:00.000000000",
          "2024-05-25T00:00:00.000000000",
          "2024-05-26T00:00:00.000000000",
          "2024-05-27T00:00:00.000000000",
          "2024-05-28T00:00:00.000000000",
          "2024-05-29T00:00:00.000000000",
          "2024-05-30T00:00:00.000000000",
          "2024-05-31T00:00:00.000000000",
          "2024-06-01T00:00:00.000000000",
          "2024-06-02T00:00:00.000000000",
          "2024-06-03T00:00:00.000000000",
          "2024-06-04T00:00:00.000000000",
          "2024-06-05T00:00:00.000000000",
          "2024-06-06T00:00:00.000000000",
          "2024-06-07T00:00:00.000000000",
          "2024-06-08T00:00:00.000000000",
          "2024-06-09T00:00:00.000000000",
          "2024-06-10T00:00:00.000000000",
          "2024-06-11T00:00:00.000000000",
          "2024-06-12T00:00:00.000000000",
          "2024-06-13T00:00:00.000000000",
          "2024-06-14T00:00:00.000000000",
          "2024-06-15T00:00:00.000000000",
          "2024-06-16T00:00:00.000000000",
          "2024-06-17T00:00:00.000000000",
          "2024-06-18T00:00:00.000000000",
          "2024-06-19T00:00:00.000000000",
          "2024-06-20T00:00:00.000000000",
          "2024-06-21T00:00:00.000000000",
          "2024-06-22T00:00:00.000000000",
          "2024-06-23T00:00:00.000000000",
          "2024-06-24T00:00:00.000000000",
          "2024-06-25T00:00:00.000000000",
          "2024-06-26T00:00:00.000000000",
          "2024-06-27T00:00:00.000000000",
          "2024-06-28T00:00:00.000000000",
          "2024-06-29T00:00:00.000000000",
          "2024-06-30T00:00:00.000000000",
          "2024-07-01T00:00:00.000000000",
          "2024-07-02T00:00:00.000000000",
          "2024-07-03T00:00:00.000000000",
          "2024-07-04T00:00:00.000000000",
          "2024-07-05T00:00:00.000000000",
          "2024-07-06T00:00:00.000000000",
          "2024-07-07T00:00:00.000000000",
          "2024-07-08T00:00:00.000000000",
          "2024-07-09T00:00:00.000000000",
          "2024-07-10T00:00:00.000000000",
          "2024-07-11T00:00:00.000000000",
          "2024-07-12T00:00:00.000000000",
          "2024-07-13T00:00:00.000000000",
          "2024-07-14T00:00:00.000000000",
          "2024-07-15T00:00:00.000000000",
          "2024-07-16T00:00:00.000000000",
          "2024-07-17T00:00:00.000000000",
          "2024-07-18T00:00:00.000000000",
          "2024-07-19T00:00:00.000000000",
          "2024-07-20T00:00:00.000000000",
          "2024-07-21T00:00:00.000000000",
          "2024-07-22T00:00:00.000000000",
          "2024-07-23T00:00:00.000000000",
          "2024-07-24T00:00:00.000000000",
          "2024-07-25T00:00:00.000000000",
          "2024-07-26T00:00:00.000000000",
          "2024-07-27T00:00:00.000000000",
          "2024-07-28T00:00:00.000000000",
          "2024-07-29T00:00:00.000000000",
          "2024-07-30T00:00:00.000000000",
          "2024-07-31T00:00:00.000000000",
          "2024-08-01T00:00:00.000000000",
          "2024-08-02T00:00:00.000000000",
          "2024-08-03T00:00:00.000000000",
          "2024-08-04T00:00:00.000000000",
          "2024-08-05T00:00:00.000000000",
          "2024-08-06T00:00:00.000000000",
          "2024-08-07T00:00:00.000000000",
          "2024-08-08T00:00:00.000000000",
          "2024-08-09T00:00:00.000000000",
          "2024-08-10T00:00:00.000000000",
          "2024-08-11T00:00:00.000000000",
          "2024-08-12T00:00:00.000000000",
          "2024-08-13T00:00:00.000000000",
          "2024-08-14T00:00:00.000000000",
          "2024-08-15T00:00:00.000000000",
          "2024-08-16T00:00:00.000000000",
          "2024-08-17T00:00:00.000000000",
          "2024-08-18T00:00:00.000000000",
          "2024-08-19T00:00:00.000000000",
          "2024-08-20T00:00:00.000000000",
          "2024-08-21T00:00:00.000000000",
          "2024-08-22T00:00:00.000000000",
          "2024-08-23T00:00:00.000000000",
          "2024-08-24T00:00:00.000000000",
          "2024-08-25T00:00:00.000000000",
          "2024-08-26T00:00:00.000000000",
          "2024-08-27T00:00:00.000000000",
          "2024-08-28T00:00:00.000000000",
          "2024-08-29T00:00:00.000000000",
          "2024-08-30T00:00:00.000000000",
          "2024-08-31T00:00:00.000000000",
          "2024-09-01T00:00:00.000000000",
          "2024-09-02T00:00:00.000000000",
          "2024-09-03T00:00:00.000000000",
          "2024-09-04T00:00:00.000000000",
          "2024-09-05T00:00:00.000000000",
          "2024-09-06T00:00:00.000000000",
          "2024-09-07T00:00:00.000000000",
          "2024-09-08T00:00:00.000000000",
          "2024-09-09T00:00:00.000000000",
          "2024-09-10T00:00:00.000000000",
          "2024-09-11T00:00:00.000000000",
          "2024-09-12T00:00:00.000000000",
          "2024-09-13T00:00:00.000000000",
          "2024-09-14T00:00:00.000000000",
          "2024-09-15T00:00:00.000000000",
          "2024-09-16T00:00:00.000000000",
          "2024-09-17T00:00:00.000000000",
          "2024-09-18T00:00:00.000000000",
          "2024-09-19T00:00:00.000000000",
          "2024-09-20T00:00:00.000000000",
          "2024-09-21T00:00:00.000000000",
          "2024-09-22T00:00:00.000000000",
          "2024-09-23T00:00:00.000000000",
          "2024-09-24T00:00:00.000000000",
          "2024-09-25T00:00:00.000000000",
          "2024-09-26T00:00:00.000000000",
          "2024-09-27T00:00:00.000000000",
          "2024-09-28T00:00:00.000000000",
          "2024-09-29T00:00:00.000000000",
          "2024-09-30T00:00:00.000000000",
          "2024-10-01T00:00:00.000000000",
          "2024-10-02T00:00:00.000000000",
          "2024-10-03T00:00:00.000000000",
          "2024-10-04T00:00:00.000000000",
          "2024-10-05T00:00:00.000000000",
          "2024-10-06T00:00:00.000000000",
          "2024-10-07T00:00:00.000000000",
          "2024-10-08T00:00:00.000000000",
          "2024-10-09T00:00:00.000000000",
          "2024-10-10T00:00:00.000000000",
          "2024-10-11T00:00:00.000000000",
          "2024-10-12T00:00:00.000000000",
          "2024-10-13T00:00:00.000000000",
          "2024-10-14T00:00:00.000000000",
          "2024-10-15T00:00:00.000000000",
          "2024-10-16T00:00:00.000000000",
          "2024-10-17T00:00:00.000000000",
          "2024-10-18T00:00:00.000000000",
          "2024-10-19T00:00:00.000000000",
          "2024-10-20T00:00:00.000000000",
          "2024-10-21T00:00:00.000000000",
          "2024-10-22T00:00:00.000000000",
          "2024-10-23T00:00:00.000000000",
          "2024-10-24T00:00:00.000000000",
          "2024-10-25T00:00:00.000000000",
          "2024-10-26T00:00:00.000000000",
          "2024-10-27T00:00:00.000000000",
          "2024-10-28T00:00:00.000000000",
          "2024-10-29T00:00:00.000000000",
          "2024-10-30T00:00:00.000000000",
          "2024-10-31T00:00:00.000000000",
          "2024-11-01T00:00:00.000000000",
          "2024-11-02T00:00:00.000000000",
          "2024-11-03T00:00:00.000000000",
          "2024-11-04T00:00:00.000000000",
          "2024-11-05T00:00:00.000000000",
          "2024-11-06T00:00:00.000000000",
          "2024-11-07T00:00:00.000000000",
          "2024-11-08T00:00:00.000000000",
          "2024-11-09T00:00:00.000000000",
          "2024-11-10T00:00:00.000000000",
          "2024-11-11T00:00:00.000000000",
          "2024-11-12T00:00:00.000000000",
          "2024-11-13T00:00:00.000000000",
          "2024-11-14T00:00:00.000000000",
          "2024-11-15T00:00:00.000000000",
          "2024-11-16T00:00:00.000000000",
          "2024-11-17T00:00:00.000000000",
          "2024-11-18T00:00:00.000000000",
          "2024-11-19T00:00:00.000000000",
          "2024-11-20T00:00:00.000000000",
          "2024-11-21T00:00:00.000000000",
          "2024-11-22T00:00:00.000000000",
          "2024-11-23T00:00:00.000000000",
          "2024-11-24T00:00:00.000000000",
          "2024-11-25T00:00:00.000000000",
          "2024-11-26T00:00:00.000000000",
          "2024-11-27T00:00:00.000000000",
          "2024-11-28T00:00:00.000000000",
          "2024-11-29T00:00:00.000000000",
          "2024-11-30T00:00:00.000000000",
          "2024-12-01T00:00:00.000000000",
          "2024-12-02T00:00:00.000000000",
          "2024-12-03T00:00:00.000000000",
          "2024-12-04T00:00:00.000000000",
          "2024-12-05T00:00:00.000000000",
          "2024-12-06T00:00:00.000000000",
          "2024-12-07T00:00:00.000000000",
          "2024-12-08T00:00:00.000000000",
          "2024-12-09T00:00:00.000000000",
          "2024-12-10T00:00:00.000000000",
          "2024-12-11T00:00:00.000000000",
          "2024-12-12T00:00:00.000000000",
          "2024-12-13T00:00:00.000000000",
          "2024-12-14T00:00:00.000000000",
          "2024-12-15T00:00:00.000000000",
          "2024-12-16T00:00:00.000000000",
          "2024-12-17T00:00:00.000000000",
          "2024-12-18T00:00:00.000000000",
          "2024-12-19T00:00:00.000000000",
          "2024-12-20T00:00:00.000000000",
          "2024-12-21T00:00:00.000000000",
          "2024-12-22T00:00:00.000000000",
          "2024-12-23T00:00:00.000000000",
          "2024-12-24T00:00:00.000000000",
          "2024-12-25T00:00:00.000000000",
          "2024-12-26T00:00:00.000000000",
          "2024-12-27T00:00:00.000000000",
          "2024-12-28T00:00:00.000000000",
          "2024-12-29T00:00:00.000000000",
          "2024-12-30T00:00:00.000000000",
          "2024-12-31T00:00:00.000000000",
          "2025-01-01T00:00:00.000000000",
          "2025-01-02T00:00:00.000000000",
          "2025-01-03T00:00:00.000000000",
          "2025-01-04T00:00:00.000000000",
          "2025-01-05T00:00:00.000000000",
          "2025-01-06T00:00:00.000000000",
          "2025-01-07T00:00:00.000000000",
          "2025-01-08T00:00:00.000000000",
          "2025-01-09T00:00:00.000000000",
          "2025-01-10T00:00:00.000000000",
          "2025-01-11T00:00:00.000000000",
          "2025-01-12T00:00:00.000000000",
          "2025-01-13T00:00:00.000000000",
          "2025-01-14T00:00:00.000000000",
          "2025-01-15T00:00:00.000000000",
          "2025-01-16T00:00:00.000000000",
          "2025-01-17T00:00:00.000000000",
          "2025-01-18T00:00:00.000000000",
          "2025-01-19T00:00:00.000000000",
          "2025-01-20T00:00:00.000000000",
          "2025-01-21T00:00:00.000000000",
          "2025-01-22T00:00:00.000000000",
          "2025-01-23T00:00:00.000000000",
          "2025-01-24T00:00:00.000000000",
          "2025-01-25T00:00:00.000000000",
          "2025-01-26T00:00:00.000000000",
          "2025-01-27T00:00:00.000000000",
          "2025-01-28T00:00:00.000000000",
          "2025-01-29T00:00:00.000000000",
          "2025-01-30T00:00:00.000000000",
          "2025-01-31T00:00:00.000000000",
          "2025-02-01T00:00:00.000000000",
          "2025-02-02T00:00:00.000000000",
          "2025-02-03T00:00:00.000000000",
          "2025-02-04T00:00:00.000000000",
          "2025-02-05T00:00:00.000000000",
          "2025-02-06T00:00:00.000000000",
          "2025-02-07T00:00:00.000000000",
          "2025-02-08T00:00:00.000000000",
          "2025-02-09T00:00:00.000000000",
          "2025-02-10T00:00:00.000000000",
          "2025-02-11T00:00:00.000000000",
          "2025-02-12T00:00:00.000000000",
          "2025-02-13T00:00:00.000000000",
          "2025-02-14T00:00:00.000000000",
          "2025-02-15T00:00:00.000000000",
          "2025-02-16T00:00:00.000000000",
          "2025-02-17T00:00:00.000000000",
          "2025-02-18T00:00:00.000000000",
          "2025-02-19T00:00:00.000000000",
          "2025-02-20T00:00:00.000000000",
          "2025-02-21T00:00:00.000000000",
          "2025-02-22T00:00:00.000000000",
          "2025-02-23T00:00:00.000000000",
          "2025-02-24T00:00:00.000000000",
          "2025-02-25T00:00:00.000000000",
          "2025-02-26T00:00:00.000000000",
          "2025-02-27T00:00:00.000000000",
          "2025-02-28T00:00:00.000000000",
          "2025-03-01T00:00:00.000000000",
          "2025-03-02T00:00:00.000000000",
          "2025-03-03T00:00:00.000000000",
          "2025-03-04T00:00:00.000000000",
          "2025-03-05T00:00:00.000000000",
          "2025-03-06T00:00:00.000000000",
          "2025-03-07T00:00:00.000000000",
          "2025-03-08T00:00:00.000000000",
          "2025-03-09T00:00:00.000000000",
          "2025-03-10T00:00:00.000000000",
          "2025-03-11T00:00:00.000000000",
          "2025-03-12T00:00:00.000000000",
          "2025-03-13T00:00:00.000000000",
          "2025-03-14T00:00:00.000000000",
          "2025-03-15T00:00:00.000000000",
          "2025-03-16T00:00:00.000000000",
          "2025-03-17T00:00:00.000000000",
          "2025-03-18T00:00:00.000000000",
          "2025-03-19T00:00:00.000000000",
          "2025-03-20T00:00:00.000000000",
          "2025-03-21T00:00:00.000000000",
          "2025-03-22T00:00:00.000000000",
          "2025-03-23T00:00:00.000000000",
          "2025-03-24T00:00:00.000000000",
          "2025-03-25T00:00:00.000000000",
          "2025-03-26T00:00:00.000000000",
          "2025-03-27T00:00:00.000000000",
          "2025-03-28T00:00:00.000000000",
          "2025-03-29T00:00:00.000000000",
          "2025-03-30T00:00:00.000000000",
          "2025-03-31T00:00:00.000000000",
          "2025-04-01T00:00:00.000000000",
          "2025-04-02T00:00:00.000000000"
         ],
         "y": {
          "bdata": "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",
          "dtype": "f8"
         }
        }
       ],
       "layout": {
        "template": {
         "data": {
          "bar": [
           {
            "error_x": {
             "color": "#2a3f5f"
            },
            "error_y": {
             "color": "#2a3f5f"
            },
            "marker": {
             "line": {
              "color": "white",
              "width": 0.5
             },
             "pattern": {
              "fillmode": "overlay",
              "size": 10,
              "solidity": 0.2
             }
            },
            "type": "bar"
           }
          ],
          "barpolar": [
           {
            "marker": {
             "line": {
              "color": "white",
              "width": 0.5
             },
             "pattern": {
              "fillmode": "overlay",
              "size": 10,
              "solidity": 0.2
             }
            },
            "type": "barpolar"
           }
          ],
          "carpet": [
           {
            "aaxis": {
             "endlinecolor": "#2a3f5f",
             "gridcolor": "#C8D4E3",
             "linecolor": "#C8D4E3",
             "minorgridcolor": "#C8D4E3",
             "startlinecolor": "#2a3f5f"
            },
            "baxis": {
             "endlinecolor": "#2a3f5f",
             "gridcolor": "#C8D4E3",
             "linecolor": "#C8D4E3",
             "minorgridcolor": "#C8D4E3",
             "startlinecolor": "#2a3f5f"
            },
            "type": "carpet"
           }
          ],
          "choropleth": [
           {
            "colorbar": {
             "outlinewidth": 0,
             "ticks": ""
            },
            "type": "choropleth"
           }
          ],
          "contour": [
           {
            "colorbar": {
             "outlinewidth": 0,
             "ticks": ""
            },
            "colorscale": [
             [
              0,
              "#0d0887"
             ],
             [
              0.1111111111111111,
              "#46039f"
             ],
             [
              0.2222222222222222,
              "#7201a8"
             ],
             [
              0.3333333333333333,
              "#9c179e"
             ],
             [
              0.4444444444444444,
              "#bd3786"
             ],
             [
              0.5555555555555556,
              "#d8576b"
             ],
             [
              0.6666666666666666,
              "#ed7953"
             ],
             [
              0.7777777777777778,
              "#fb9f3a"
             ],
             [
              0.8888888888888888,
              "#fdca26"
             ],
             [
              1,
              "#f0f921"
             ]
            ],
            "type": "contour"
           }
          ],
          "contourcarpet": [
           {
            "colorbar": {
             "outlinewidth": 0,
             "ticks": ""
            },
            "type": "contourcarpet"
           }
          ],
          "heatmap": [
           {
            "colorbar": {
             "outlinewidth": 0,
             "ticks": ""
            },
            "colorscale": [
             [
              0,
              "#0d0887"
             ],
             [
              0.1111111111111111,
              "#46039f"
             ],
             [
              0.2222222222222222,
              "#7201a8"
             ],
             [
              0.3333333333333333,
              "#9c179e"
             ],
             [
              0.4444444444444444,
              "#bd3786"
             ],
             [
              0.5555555555555556,
              "#d8576b"
             ],
             [
              0.6666666666666666,
              "#ed7953"
             ],
             [
              0.7777777777777778,
              "#fb9f3a"
             ],
             [
              0.8888888888888888,
              "#fdca26"
             ],
             [
              1,
              "#f0f921"
             ]
            ],
            "type": "heatmap"
           }
          ],
          "histogram": [
           {
            "marker": {
             "pattern": {
              "fillmode": "overlay",
              "size": 10,
              "solidity": 0.2
             }
            },
            "type": "histogram"
           }
          ],
          "histogram2d": [
           {
            "colorbar": {
             "outlinewidth": 0,
             "ticks": ""
            },
            "colorscale": [
             [
              0,
              "#0d0887"
             ],
             [
              0.1111111111111111,
              "#46039f"
             ],
             [
              0.2222222222222222,
              "#7201a8"
             ],
             [
              0.3333333333333333,
              "#9c179e"
             ],
             [
              0.4444444444444444,
              "#bd3786"
             ],
             [
              0.5555555555555556,
              "#d8576b"
             ],
             [
              0.6666666666666666,
              "#ed7953"
             ],
             [
              0.7777777777777778,
              "#fb9f3a"
             ],
             [
              0.8888888888888888,
              "#fdca26"
             ],
             [
              1,
              "#f0f921"
             ]
            ],
            "type": "histogram2d"
           }
          ],
          "histogram2dcontour": [
           {
            "colorbar": {
             "outlinewidth": 0,
             "ticks": ""
            },
            "colorscale": [
             [
              0,
              "#0d0887"
             ],
             [
              0.1111111111111111,
              "#46039f"
             ],
             [
              0.2222222222222222,
              "#7201a8"
             ],
             [
              0.3333333333333333,
              "#9c179e"
             ],
             [
              0.4444444444444444,
              "#bd3786"
             ],
             [
              0.5555555555555556,
              "#d8576b"
             ],
             [
              0.6666666666666666,
              "#ed7953"
             ],
             [
              0.7777777777777778,
              "#fb9f3a"
             ],
             [
              0.8888888888888888,
              "#fdca26"
             ],
             [
              1,
              "#f0f921"
             ]
            ],
            "type": "histogram2dcontour"
           }
          ],
          "mesh3d": [
           {
            "colorbar": {
             "outlinewidth": 0,
             "ticks": ""
            },
            "type": "mesh3d"
           }
          ],
          "parcoords": [
           {
            "line": {
             "colorbar": {
              "outlinewidth": 0,
              "ticks": ""
             }
            },
            "type": "parcoords"
           }
          ],
          "pie": [
           {
            "automargin": true,
            "type": "pie"
           }
          ],
          "scatter": [
           {
            "fillpattern": {
             "fillmode": "overlay",
             "size": 10,
             "solidity": 0.2
            },
            "type": "scatter"
           }
          ],
          "scatter3d": [
           {
            "line": {
             "colorbar": {
              "outlinewidth": 0,
              "ticks": ""
             }
            },
            "marker": {
             "colorbar": {
              "outlinewidth": 0,
              "ticks": ""
             }
            },
            "type": "scatter3d"
           }
          ],
          "scattercarpet": [
           {
            "marker": {
             "colorbar": {
              "outlinewidth": 0,
              "ticks": ""
             }
            },
            "type": "scattercarpet"
           }
          ],
          "scattergeo": [
           {
            "marker": {
             "colorbar": {
              "outlinewidth": 0,
              "ticks": ""
             }
            },
            "type": "scattergeo"
           }
          ],
          "scattergl": [
           {
            "marker": {
             "colorbar": {
              "outlinewidth": 0,
              "ticks": ""
             }
            },
            "type": "scattergl"
           }
          ],
          "scattermap": [
           {
            "marker": {
             "colorbar": {
              "outlinewidth": 0,
              "ticks": ""
             }
            },
            "type": "scattermap"
           }
          ],
          "scattermapbox": [
           {
            "marker": {
             "colorbar": {
              "outlinewidth": 0,
              "ticks": ""
             }
            },
            "type": "scattermapbox"
           }
          ],
          "scatterpolar": [
           {
            "marker": {
             "colorbar": {
              "outlinewidth": 0,
              "ticks": ""
             }
            },
            "type": "scatterpolar"
           }
          ],
          "scatterpolargl": [
           {
            "marker": {
             "colorbar": {
              "outlinewidth": 0,
              "ticks": ""
             }
            },
            "type": "scatterpolargl"
           }
          ],
          "scatterternary": [
           {
            "marker": {
             "colorbar": {
              "outlinewidth": 0,
              "ticks": ""
             }
            },
            "type": "scatterternary"
           }
          ],
          "surface": [
           {
            "colorbar": {
             "outlinewidth": 0,
             "ticks": ""
            },
            "colorscale": [
             [
              0,
              "#0d0887"
             ],
             [
              0.1111111111111111,
              "#46039f"
             ],
             [
              0.2222222222222222,
              "#7201a8"
             ],
             [
              0.3333333333333333,
              "#9c179e"
             ],
             [
              0.4444444444444444,
              "#bd3786"
             ],
             [
              0.5555555555555556,
              "#d8576b"
             ],
             [
              0.6666666666666666,
              "#ed7953"
             ],
             [
              0.7777777777777778,
              "#fb9f3a"
             ],
             [
              0.8888888888888888,
              "#fdca26"
             ],
             [
              1,
              "#f0f921"
             ]
            ],
            "type": "surface"
           }
          ],
          "table": [
           {
            "cells": {
             "fill": {
              "color": "#EBF0F8"
             },
             "line": {
              "color": "white"
             }
            },
            "header": {
             "fill": {
              "color": "#C8D4E3"
             },
             "line": {
              "color": "white"
             }
            },
            "type": "table"
           }
          ]
         },
         "layout": {
          "annotationdefaults": {
           "arrowcolor": "#2a3f5f",
           "arrowhead": 0,
           "arrowwidth": 1
          },
          "autotypenumbers": "strict",
          "coloraxis": {
           "colorbar": {
            "outlinewidth": 0,
            "ticks": ""
           }
          },
          "colorscale": {
           "diverging": [
            [
             0,
             "#8e0152"
            ],
            [
             0.1,
             "#c51b7d"
            ],
            [
             0.2,
             "#de77ae"
            ],
            [
             0.3,
             "#f1b6da"
            ],
            [
             0.4,
             "#fde0ef"
            ],
            [
             0.5,
             "#f7f7f7"
            ],
            [
             0.6,
             "#e6f5d0"
            ],
            [
             0.7,
             "#b8e186"
            ],
            [
             0.8,
             "#7fbc41"
            ],
            [
             0.9,
             "#4d9221"
            ],
            [
             1,
             "#276419"
            ]
           ],
           "sequential": [
            [
             0,
             "#0d0887"
            ],
            [
             0.1111111111111111,
             "#46039f"
            ],
            [
             0.2222222222222222,
             "#7201a8"
            ],
            [
             0.3333333333333333,
             "#9c179e"
            ],
            [
             0.4444444444444444,
             "#bd3786"
            ],
            [
             0.5555555555555556,
             "#d8576b"
            ],
            [
             0.6666666666666666,
             "#ed7953"
            ],
            [
             0.7777777777777778,
             "#fb9f3a"
            ],
            [
             0.8888888888888888,
             "#fdca26"
            ],
            [
             1,
             "#f0f921"
            ]
           ],
           "sequentialminus": [
            [
             0,
             "#0d0887"
            ],
            [
             0.1111111111111111,
             "#46039f"
            ],
            [
             0.2222222222222222,
             "#7201a8"
            ],
            [
             0.3333333333333333,
             "#9c179e"
            ],
            [
             0.4444444444444444,
             "#bd3786"
            ],
            [
             0.5555555555555556,
             "#d8576b"
            ],
            [
             0.6666666666666666,
             "#ed7953"
            ],
            [
             0.7777777777777778,
             "#fb9f3a"
            ],
            [
             0.8888888888888888,
             "#fdca26"
            ],
            [
             1,
             "#f0f921"
            ]
           ]
          },
          "colorway": [
           "#636efa",
           "#EF553B",
           "#00cc96",
           "#ab63fa",
           "#FFA15A",
           "#19d3f3",
           "#FF6692",
           "#B6E880",
           "#FF97FF",
           "#FECB52"
          ],
          "font": {
           "color": "#2a3f5f"
          },
          "geo": {
           "bgcolor": "white",
           "lakecolor": "white",
           "landcolor": "white",
           "showlakes": true,
           "showland": true,
           "subunitcolor": "#C8D4E3"
          },
          "hoverlabel": {
           "align": "left"
          },
          "hovermode": "closest",
          "mapbox": {
           "style": "light"
          },
          "paper_bgcolor": "white",
          "plot_bgcolor": "white",
          "polar": {
           "angularaxis": {
            "gridcolor": "#EBF0F8",
            "linecolor": "#EBF0F8",
            "ticks": ""
           },
           "bgcolor": "white",
           "radialaxis": {
            "gridcolor": "#EBF0F8",
            "linecolor": "#EBF0F8",
            "ticks": ""
           }
          },
          "scene": {
           "xaxis": {
            "backgroundcolor": "white",
            "gridcolor": "#DFE8F3",
            "gridwidth": 2,
            "linecolor": "#EBF0F8",
            "showbackground": true,
            "ticks": "",
            "zerolinecolor": "#EBF0F8"
           },
           "yaxis": {
            "backgroundcolor": "white",
            "gridcolor": "#DFE8F3",
            "gridwidth": 2,
            "linecolor": "#EBF0F8",
            "showbackground": true,
            "ticks": "",
            "zerolinecolor": "#EBF0F8"
           },
           "zaxis": {
            "backgroundcolor": "white",
            "gridcolor": "#DFE8F3",
            "gridwidth": 2,
            "linecolor": "#EBF0F8",
            "showbackground": true,
            "ticks": "",
            "zerolinecolor": "#EBF0F8"
           }
          },
          "shapedefaults": {
           "line": {
            "color": "#2a3f5f"
           }
          },
          "ternary": {
           "aaxis": {
            "gridcolor": "#DFE8F3",
            "linecolor": "#A2B1C6",
            "ticks": ""
           },
           "baxis": {
            "gridcolor": "#DFE8F3",
            "linecolor": "#A2B1C6",
            "ticks": ""
           },
           "bgcolor": "white",
           "caxis": {
            "gridcolor": "#DFE8F3",
            "linecolor": "#A2B1C6",
            "ticks": ""
           }
          },
          "title": {
           "x": 0.05
          },
          "xaxis": {
           "automargin": true,
           "gridcolor": "#EBF0F8",
           "linecolor": "#EBF0F8",
           "ticks": "",
           "title": {
            "standoff": 15
           },
           "zerolinecolor": "#EBF0F8",
           "zerolinewidth": 2
          },
          "yaxis": {
           "automargin": true,
           "gridcolor": "#EBF0F8",
           "linecolor": "#EBF0F8",
           "ticks": "",
           "title": {
            "standoff": 15
           },
           "zerolinecolor": "#EBF0F8",
           "zerolinewidth": 2
          }
         }
        },
        "title": {
         "text": "7-Day Rolling MAE and RMSE Over Time"
        },
        "xaxis": {
         "title": {
          "text": "Date"
         }
        },
        "yaxis": {
         "title": {
          "text": "Error (USD)"
         }
        }
       }
      }
     },
     "metadata": {},
     "output_type": "display_data"
    }
   ],
   "source": [
    "# Calculate absolute error and rolling MAE\n",
    "results['Absolute_Error'] = abs(results['Actual'] - results['Predicted'])\n",
    "results['MAE_Rolling'] = results['Absolute_Error'].rolling(window=7).mean()\n",
    "# Calculate squared error and rolling RMSE\n",
    "results['Squared_Error'] = (results['Actual'] - results['Predicted']) ** 2\n",
    "results['RMSE_Rolling'] = results['Squared_Error'].rolling(window=7).mean().pow(0.5)\n",
    "\n",
    "# Plot Rolling MAE and RMSE on the same chart\n",
    "import plotly.graph_objects as go\n",
    "\n",
    "fig = go.Figure()\n",
    "\n",
    "fig.add_trace(go.Scatter(\n",
    "    x=results['Date'],\n",
    "    y=results['RMSE_Rolling'],\n",
    "    mode='lines',\n",
    "    name='Rolling RMSE',\n",
    "    line=dict(color='red')\n",
    "))\n",
    "\n",
    "fig.add_trace(go.Scatter(\n",
    "    x=results['Date'],\n",
    "    y=results['MAE_Rolling'],\n",
    "    mode='lines',\n",
    "    name='Rolling MAE',\n",
    "    line=dict(color='blue')\n",
    "))\n",
    "\n",
    "fig.update_layout(\n",
    "    title='7-Day Rolling MAE and RMSE Over Time',\n",
    "    xaxis_title='Date',\n",
    "    yaxis_title='Error (USD)',\n",
    "    template='plotly_white'\n",
    ")\n",
    "\n",
    "fig.show()\n",
    "fig.write_image(\"assets/Rolling_MAE_RMS.png\")\n"
   ]
  },
  {
   "cell_type": "code",
   "execution_count": 87,
   "id": "ecc6c3b7-10e8-4600-a5dd-3d995cb794d0",
   "metadata": {
    "scrolled": true
   },
   "outputs": [
    {
     "name": "stdout",
     "output_type": "stream",
     "text": [
      "Feature p-values (human-readable labels):\n",
      "Bollinger_Upper: 0.0032 (Significant)\n",
      "Bollinger_Lower: 0.0164 (Significant)\n",
      "fgi: 0.0638 (Not Significant)\n",
      "Close: 0.0000 (Significant)\n",
      "nasdaq: 0.0396 (Significant)\n",
      "sp500: 0.2455 (Not Significant)\n",
      "vix: 0.7563 (Not Significant)\n",
      "\n",
      "Full summary with p-values:\n",
      "                            OLS Regression Results                            \n",
      "==============================================================================\n",
      "Dep. Variable:                      y   R-squared:                       0.997\n",
      "Model:                            OLS   Adj. R-squared:                  0.997\n",
      "Method:                 Least Squares   F-statistic:                 1.533e+05\n",
      "Date:                Thu, 03 Apr 2025   Prob (F-statistic):               0.00\n",
      "Time:                        14:08:38   Log-Likelihood:                -23102.\n",
      "No. Observations:                2836   AIC:                         4.622e+04\n",
      "Df Residuals:                    2828   BIC:                         4.627e+04\n",
      "Df Model:                           7                                         \n",
      "Covariance Type:            nonrobust                                         \n",
      "==============================================================================\n",
      "                 coef    std err          t      P>|t|      [0.025      0.975]\n",
      "------------------------------------------------------------------------------\n",
      "const       1.467e+04     15.693    934.682      0.000    1.46e+04    1.47e+04\n",
      "x1           372.8815    126.388      2.950      0.003     125.060     620.703\n",
      "x2          -252.4013    105.157     -2.400      0.016    -458.594     -46.209\n",
      "x3            41.0567     22.138      1.855      0.064      -2.351      84.464\n",
      "x4          1.601e+04    145.989    109.661      0.000    1.57e+04    1.63e+04\n",
      "x5           278.9707    135.522      2.058      0.040      13.238     544.703\n",
      "x6          -148.0914    127.494     -1.162      0.246    -398.082     101.900\n",
      "x7            -6.6523     21.432     -0.310      0.756     -48.677      35.373\n",
      "==============================================================================\n",
      "Omnibus:                      615.178   Durbin-Watson:                   2.058\n",
      "Prob(Omnibus):                  0.000   Jarque-Bera (JB):            24949.737\n",
      "Skew:                          -0.070   Prob(JB):                         0.00\n",
      "Kurtosis:                      17.530   Cond. No.                         26.4\n",
      "==============================================================================\n",
      "\n",
      "Notes:\n",
      "[1] Standard Errors assume that the covariance matrix of the errors is correctly specified.\n"
     ]
    },
    {
     "data": {
      "application/vnd.plotly.v1+json": {
       "config": {
        "plotlyServerURL": "https://plot.ly"
       },
       "data": [
        {
         "hovertemplate": "color=True<br>Feature=%{x}<br>P-Value=%{y}<extra></extra>",
         "legendgroup": "True",
         "marker": {
          "color": "green",
          "pattern": {
           "shape": ""
          }
         },
         "name": "True",
         "orientation": "v",
         "showlegend": true,
         "textposition": "auto",
         "type": "bar",
         "x": [
          "Close",
          "Bollinger_Upper",
          "Bollinger_Lower",
          "nasdaq"
         ],
         "xaxis": "x",
         "y": {
          "bdata": "AAAAAAAAAAC1KA1/ZThqPxujofQO2JA/Iwo3OQJLpD8=",
          "dtype": "f8"
         },
         "yaxis": "y"
        },
        {
         "hovertemplate": "color=False<br>Feature=%{x}<br>P-Value=%{y}<extra></extra>",
         "legendgroup": "False",
         "marker": {
          "color": "red",
          "pattern": {
           "shape": ""
          }
         },
         "name": "False",
         "orientation": "v",
         "showlegend": true,
         "textposition": "auto",
         "type": "bar",
         "x": [
          "fgi",
          "sp500",
          "vix"
         ],
         "xaxis": "x",
         "y": {
          "bdata": "mPMXDFpSsD8Bcm5RBG3PP06G8jaKM+g/",
          "dtype": "f8"
         },
         "yaxis": "y"
        }
       ],
       "layout": {
        "barmode": "relative",
        "legend": {
         "title": {
          "text": "color"
         },
         "tracegroupgap": 0
        },
        "shapes": [
         {
          "line": {
           "color": "black",
           "dash": "dash"
          },
          "type": "line",
          "x0": 0,
          "x1": 1,
          "xref": "x domain",
          "y0": 0.05,
          "y1": 0.05,
          "yref": "y"
         }
        ],
        "showlegend": false,
        "template": {
         "data": {
          "bar": [
           {
            "error_x": {
             "color": "#2a3f5f"
            },
            "error_y": {
             "color": "#2a3f5f"
            },
            "marker": {
             "line": {
              "color": "white",
              "width": 0.5
             },
             "pattern": {
              "fillmode": "overlay",
              "size": 10,
              "solidity": 0.2
             }
            },
            "type": "bar"
           }
          ],
          "barpolar": [
           {
            "marker": {
             "line": {
              "color": "white",
              "width": 0.5
             },
             "pattern": {
              "fillmode": "overlay",
              "size": 10,
              "solidity": 0.2
             }
            },
            "type": "barpolar"
           }
          ],
          "carpet": [
           {
            "aaxis": {
             "endlinecolor": "#2a3f5f",
             "gridcolor": "#C8D4E3",
             "linecolor": "#C8D4E3",
             "minorgridcolor": "#C8D4E3",
             "startlinecolor": "#2a3f5f"
            },
            "baxis": {
             "endlinecolor": "#2a3f5f",
             "gridcolor": "#C8D4E3",
             "linecolor": "#C8D4E3",
             "minorgridcolor": "#C8D4E3",
             "startlinecolor": "#2a3f5f"
            },
            "type": "carpet"
           }
          ],
          "choropleth": [
           {
            "colorbar": {
             "outlinewidth": 0,
             "ticks": ""
            },
            "type": "choropleth"
           }
          ],
          "contour": [
           {
            "colorbar": {
             "outlinewidth": 0,
             "ticks": ""
            },
            "colorscale": [
             [
              0,
              "#0d0887"
             ],
             [
              0.1111111111111111,
              "#46039f"
             ],
             [
              0.2222222222222222,
              "#7201a8"
             ],
             [
              0.3333333333333333,
              "#9c179e"
             ],
             [
              0.4444444444444444,
              "#bd3786"
             ],
             [
              0.5555555555555556,
              "#d8576b"
             ],
             [
              0.6666666666666666,
              "#ed7953"
             ],
             [
              0.7777777777777778,
              "#fb9f3a"
             ],
             [
              0.8888888888888888,
              "#fdca26"
             ],
             [
              1,
              "#f0f921"
             ]
            ],
            "type": "contour"
           }
          ],
          "contourcarpet": [
           {
            "colorbar": {
             "outlinewidth": 0,
             "ticks": ""
            },
            "type": "contourcarpet"
           }
          ],
          "heatmap": [
           {
            "colorbar": {
             "outlinewidth": 0,
             "ticks": ""
            },
            "colorscale": [
             [
              0,
              "#0d0887"
             ],
             [
              0.1111111111111111,
              "#46039f"
             ],
             [
              0.2222222222222222,
              "#7201a8"
             ],
             [
              0.3333333333333333,
              "#9c179e"
             ],
             [
              0.4444444444444444,
              "#bd3786"
             ],
             [
              0.5555555555555556,
              "#d8576b"
             ],
             [
              0.6666666666666666,
              "#ed7953"
             ],
             [
              0.7777777777777778,
              "#fb9f3a"
             ],
             [
              0.8888888888888888,
              "#fdca26"
             ],
             [
              1,
              "#f0f921"
             ]
            ],
            "type": "heatmap"
           }
          ],
          "histogram": [
           {
            "marker": {
             "pattern": {
              "fillmode": "overlay",
              "size": 10,
              "solidity": 0.2
             }
            },
            "type": "histogram"
           }
          ],
          "histogram2d": [
           {
            "colorbar": {
             "outlinewidth": 0,
             "ticks": ""
            },
            "colorscale": [
             [
              0,
              "#0d0887"
             ],
             [
              0.1111111111111111,
              "#46039f"
             ],
             [
              0.2222222222222222,
              "#7201a8"
             ],
             [
              0.3333333333333333,
              "#9c179e"
             ],
             [
              0.4444444444444444,
              "#bd3786"
             ],
             [
              0.5555555555555556,
              "#d8576b"
             ],
             [
              0.6666666666666666,
              "#ed7953"
             ],
             [
              0.7777777777777778,
              "#fb9f3a"
             ],
             [
              0.8888888888888888,
              "#fdca26"
             ],
             [
              1,
              "#f0f921"
             ]
            ],
            "type": "histogram2d"
           }
          ],
          "histogram2dcontour": [
           {
            "colorbar": {
             "outlinewidth": 0,
             "ticks": ""
            },
            "colorscale": [
             [
              0,
              "#0d0887"
             ],
             [
              0.1111111111111111,
              "#46039f"
             ],
             [
              0.2222222222222222,
              "#7201a8"
             ],
             [
              0.3333333333333333,
              "#9c179e"
             ],
             [
              0.4444444444444444,
              "#bd3786"
             ],
             [
              0.5555555555555556,
              "#d8576b"
             ],
             [
              0.6666666666666666,
              "#ed7953"
             ],
             [
              0.7777777777777778,
              "#fb9f3a"
             ],
             [
              0.8888888888888888,
              "#fdca26"
             ],
             [
              1,
              "#f0f921"
             ]
            ],
            "type": "histogram2dcontour"
           }
          ],
          "mesh3d": [
           {
            "colorbar": {
             "outlinewidth": 0,
             "ticks": ""
            },
            "type": "mesh3d"
           }
          ],
          "parcoords": [
           {
            "line": {
             "colorbar": {
              "outlinewidth": 0,
              "ticks": ""
             }
            },
            "type": "parcoords"
           }
          ],
          "pie": [
           {
            "automargin": true,
            "type": "pie"
           }
          ],
          "scatter": [
           {
            "fillpattern": {
             "fillmode": "overlay",
             "size": 10,
             "solidity": 0.2
            },
            "type": "scatter"
           }
          ],
          "scatter3d": [
           {
            "line": {
             "colorbar": {
              "outlinewidth": 0,
              "ticks": ""
             }
            },
            "marker": {
             "colorbar": {
              "outlinewidth": 0,
              "ticks": ""
             }
            },
            "type": "scatter3d"
           }
          ],
          "scattercarpet": [
           {
            "marker": {
             "colorbar": {
              "outlinewidth": 0,
              "ticks": ""
             }
            },
            "type": "scattercarpet"
           }
          ],
          "scattergeo": [
           {
            "marker": {
             "colorbar": {
              "outlinewidth": 0,
              "ticks": ""
             }
            },
            "type": "scattergeo"
           }
          ],
          "scattergl": [
           {
            "marker": {
             "colorbar": {
              "outlinewidth": 0,
              "ticks": ""
             }
            },
            "type": "scattergl"
           }
          ],
          "scattermap": [
           {
            "marker": {
             "colorbar": {
              "outlinewidth": 0,
              "ticks": ""
             }
            },
            "type": "scattermap"
           }
          ],
          "scattermapbox": [
           {
            "marker": {
             "colorbar": {
              "outlinewidth": 0,
              "ticks": ""
             }
            },
            "type": "scattermapbox"
           }
          ],
          "scatterpolar": [
           {
            "marker": {
             "colorbar": {
              "outlinewidth": 0,
              "ticks": ""
             }
            },
            "type": "scatterpolar"
           }
          ],
          "scatterpolargl": [
           {
            "marker": {
             "colorbar": {
              "outlinewidth": 0,
              "ticks": ""
             }
            },
            "type": "scatterpolargl"
           }
          ],
          "scatterternary": [
           {
            "marker": {
             "colorbar": {
              "outlinewidth": 0,
              "ticks": ""
             }
            },
            "type": "scatterternary"
           }
          ],
          "surface": [
           {
            "colorbar": {
             "outlinewidth": 0,
             "ticks": ""
            },
            "colorscale": [
             [
              0,
              "#0d0887"
             ],
             [
              0.1111111111111111,
              "#46039f"
             ],
             [
              0.2222222222222222,
              "#7201a8"
             ],
             [
              0.3333333333333333,
              "#9c179e"
             ],
             [
              0.4444444444444444,
              "#bd3786"
             ],
             [
              0.5555555555555556,
              "#d8576b"
             ],
             [
              0.6666666666666666,
              "#ed7953"
             ],
             [
              0.7777777777777778,
              "#fb9f3a"
             ],
             [
              0.8888888888888888,
              "#fdca26"
             ],
             [
              1,
              "#f0f921"
             ]
            ],
            "type": "surface"
           }
          ],
          "table": [
           {
            "cells": {
             "fill": {
              "color": "#EBF0F8"
             },
             "line": {
              "color": "white"
             }
            },
            "header": {
             "fill": {
              "color": "#C8D4E3"
             },
             "line": {
              "color": "white"
             }
            },
            "type": "table"
           }
          ]
         },
         "layout": {
          "annotationdefaults": {
           "arrowcolor": "#2a3f5f",
           "arrowhead": 0,
           "arrowwidth": 1
          },
          "autotypenumbers": "strict",
          "coloraxis": {
           "colorbar": {
            "outlinewidth": 0,
            "ticks": ""
           }
          },
          "colorscale": {
           "diverging": [
            [
             0,
             "#8e0152"
            ],
            [
             0.1,
             "#c51b7d"
            ],
            [
             0.2,
             "#de77ae"
            ],
            [
             0.3,
             "#f1b6da"
            ],
            [
             0.4,
             "#fde0ef"
            ],
            [
             0.5,
             "#f7f7f7"
            ],
            [
             0.6,
             "#e6f5d0"
            ],
            [
             0.7,
             "#b8e186"
            ],
            [
             0.8,
             "#7fbc41"
            ],
            [
             0.9,
             "#4d9221"
            ],
            [
             1,
             "#276419"
            ]
           ],
           "sequential": [
            [
             0,
             "#0d0887"
            ],
            [
             0.1111111111111111,
             "#46039f"
            ],
            [
             0.2222222222222222,
             "#7201a8"
            ],
            [
             0.3333333333333333,
             "#9c179e"
            ],
            [
             0.4444444444444444,
             "#bd3786"
            ],
            [
             0.5555555555555556,
             "#d8576b"
            ],
            [
             0.6666666666666666,
             "#ed7953"
            ],
            [
             0.7777777777777778,
             "#fb9f3a"
            ],
            [
             0.8888888888888888,
             "#fdca26"
            ],
            [
             1,
             "#f0f921"
            ]
           ],
           "sequentialminus": [
            [
             0,
             "#0d0887"
            ],
            [
             0.1111111111111111,
             "#46039f"
            ],
            [
             0.2222222222222222,
             "#7201a8"
            ],
            [
             0.3333333333333333,
             "#9c179e"
            ],
            [
             0.4444444444444444,
             "#bd3786"
            ],
            [
             0.5555555555555556,
             "#d8576b"
            ],
            [
             0.6666666666666666,
             "#ed7953"
            ],
            [
             0.7777777777777778,
             "#fb9f3a"
            ],
            [
             0.8888888888888888,
             "#fdca26"
            ],
            [
             1,
             "#f0f921"
            ]
           ]
          },
          "colorway": [
           "#636efa",
           "#EF553B",
           "#00cc96",
           "#ab63fa",
           "#FFA15A",
           "#19d3f3",
           "#FF6692",
           "#B6E880",
           "#FF97FF",
           "#FECB52"
          ],
          "font": {
           "color": "#2a3f5f"
          },
          "geo": {
           "bgcolor": "white",
           "lakecolor": "white",
           "landcolor": "white",
           "showlakes": true,
           "showland": true,
           "subunitcolor": "#C8D4E3"
          },
          "hoverlabel": {
           "align": "left"
          },
          "hovermode": "closest",
          "mapbox": {
           "style": "light"
          },
          "paper_bgcolor": "white",
          "plot_bgcolor": "white",
          "polar": {
           "angularaxis": {
            "gridcolor": "#EBF0F8",
            "linecolor": "#EBF0F8",
            "ticks": ""
           },
           "bgcolor": "white",
           "radialaxis": {
            "gridcolor": "#EBF0F8",
            "linecolor": "#EBF0F8",
            "ticks": ""
           }
          },
          "scene": {
           "xaxis": {
            "backgroundcolor": "white",
            "gridcolor": "#DFE8F3",
            "gridwidth": 2,
            "linecolor": "#EBF0F8",
            "showbackground": true,
            "ticks": "",
            "zerolinecolor": "#EBF0F8"
           },
           "yaxis": {
            "backgroundcolor": "white",
            "gridcolor": "#DFE8F3",
            "gridwidth": 2,
            "linecolor": "#EBF0F8",
            "showbackground": true,
            "ticks": "",
            "zerolinecolor": "#EBF0F8"
           },
           "zaxis": {
            "backgroundcolor": "white",
            "gridcolor": "#DFE8F3",
            "gridwidth": 2,
            "linecolor": "#EBF0F8",
            "showbackground": true,
            "ticks": "",
            "zerolinecolor": "#EBF0F8"
           }
          },
          "shapedefaults": {
           "line": {
            "color": "#2a3f5f"
           }
          },
          "ternary": {
           "aaxis": {
            "gridcolor": "#DFE8F3",
            "linecolor": "#A2B1C6",
            "ticks": ""
           },
           "baxis": {
            "gridcolor": "#DFE8F3",
            "linecolor": "#A2B1C6",
            "ticks": ""
           },
           "bgcolor": "white",
           "caxis": {
            "gridcolor": "#DFE8F3",
            "linecolor": "#A2B1C6",
            "ticks": ""
           }
          },
          "title": {
           "x": 0.05
          },
          "xaxis": {
           "automargin": true,
           "gridcolor": "#EBF0F8",
           "linecolor": "#EBF0F8",
           "ticks": "",
           "title": {
            "standoff": 15
           },
           "zerolinecolor": "#EBF0F8",
           "zerolinewidth": 2
          },
          "yaxis": {
           "automargin": true,
           "gridcolor": "#EBF0F8",
           "linecolor": "#EBF0F8",
           "ticks": "",
           "title": {
            "standoff": 15
           },
           "zerolinecolor": "#EBF0F8",
           "zerolinewidth": 2
          }
         }
        },
        "title": {
         "text": "Feature Significance (P-Values)"
        },
        "xaxis": {
         "anchor": "y",
         "domain": [
          0,
          1
         ],
         "title": {
          "text": "Feature"
         }
        },
        "yaxis": {
         "anchor": "x",
         "domain": [
          0,
          1
         ],
         "range": [
          0,
          1
         ],
         "title": {
          "text": "P-Value"
         }
        }
       }
      }
     },
     "metadata": {},
     "output_type": "display_data"
    }
   ],
   "source": [
    "import statsmodels.api as sm\n",
    "import plotly.express as px\n",
    "\n",
    "# Store original column names\n",
    "original_columns = X_train.columns\n",
    "\n",
    "# Standardize the features (X_train_scaled) for fitting the model\n",
    "X_with_intercept = sm.add_constant(x_train_scaled)  # Add intercept term to the features\n",
    "y_train_array = y_train.values  # Convert to numpy array for Statsmodels compatibility\n",
    "\n",
    "# Fit the model using Statsmodels\n",
    "model_sm = sm.OLS(y_train_array, X_with_intercept)  # Ordinary Least Squares Regression\n",
    "results = model_sm.fit()  # Fit the model\n",
    "\n",
    "# Display the summary, which includes the p-values for each feature\n",
    "summary = results.summary()\n",
    "\n",
    "# Map p-values to the original feature names\n",
    "p_values = results.pvalues[1:]  # Exclude the intercept (constant)\n",
    "features_with_p_values = dict(zip(original_columns, p_values))\n",
    "\n",
    "# Print the p-values for each feature and check significance\n",
    "print(\"Feature p-values (human-readable labels):\")\n",
    "for feature, p_value in features_with_p_values.items():\n",
    "    significance = \"Significant\" if p_value < 0.05 else \"Not Significant\"\n",
    "    print(f\"{feature}: {p_value:.4f} ({significance})\")\n",
    "\n",
    "# Optionally, print the full summary\n",
    "print(\"\\nFull summary with p-values:\")\n",
    "print(summary)\n",
    "\n",
    "\n",
    "# Convert to DataFrame for plotting\n",
    "pval_df = pd.DataFrame({\n",
    "    'Feature': list(features_with_p_values.keys()),\n",
    "    'P_Value': list(features_with_p_values.values())\n",
    "})\n",
    "\n",
    "# Sort by P-value\n",
    "pval_df = pval_df.sort_values('P_Value')\n",
    "\n",
    "# Plot\n",
    "fig = px.bar(\n",
    "    pval_df,\n",
    "    x='Feature',\n",
    "    y='P_Value',\n",
    "    color=pval_df['P_Value'] < 0.05,\n",
    "    color_discrete_map={True: 'green', False: 'red'},\n",
    "    title=\"Feature Significance (P-Values)\",\n",
    "    labels={'P_Value': 'P-Value', 'Feature': 'Feature'},\n",
    "    template='plotly_white'\n",
    ")\n",
    "\n",
    "fig.update_layout(\n",
    "    yaxis_range=[0, 1],\n",
    "    showlegend=False\n",
    ")\n",
    "\n",
    "fig.add_hline(y=0.05, line_dash=\"dash\", line_color=\"black\")\n",
    "\n",
    "fig.show()\n",
    "\n",
    "\n",
    "\n"
   ]
  },
  {
   "cell_type": "code",
   "execution_count": 91,
   "id": "9289f8d4",
   "metadata": {},
   "outputs": [
    {
     "data": {
      "application/vnd.plotly.v1+json": {
       "config": {
        "plotlyServerURL": "https://plot.ly"
       },
       "data": [
        {
         "hovertemplate": "Significant (p < 0.05)=False<br>Correlation with Target=%{x}<br>P-Value=%{y}<br>Feature=%{text}<extra></extra>",
         "legendgroup": "False",
         "marker": {
          "color": "#636efa",
          "line": {
           "color": "DarkSlateGrey",
           "width": 1
          },
          "size": 12,
          "symbol": "circle"
         },
         "mode": "markers+text",
         "name": "False",
         "orientation": "v",
         "showlegend": true,
         "text": [
          "Date",
          "Open",
          "High",
          "Low",
          "Volume",
          "fgi",
          "sp500",
          "vix",
          "MACD",
          "MACD_Signal",
          "MACD_Diff",
          "mfi",
          "RSI",
          "EMA_Short",
          "EMA_Long",
          "Bollinger_Middle",
          "Stochastic",
          "Stochastic_Signal",
          "ATR",
          "SAR",
          "Return",
          "Volatility",
          "Volatility_x_Return"
         ],
         "textposition": "top center",
         "type": "scatter",
         "x": {
          "bdata": "OWRZ0Ef66T8vNOzB98XvP/p/Sf5yFfA/eV+JoY+e7z+J7sFsJpa4P1P0kB7kLNU/CAxmdrw37j8EhRMJ3kmGP7/ZoZ3d/M4//pBwIfyg0T8l6q3Z0ZOXv/WFuBNiZJS/w/zfwYpEfb/pLsE9KfbvP+j/tadCke8/6CJP0k857z9hAmGyNSWYvyc9MbjcmYy/ldm1aDxf7D++xAijEkHvP678k7Vrx3Y/NxxeUhR1qr9L6vK3LXlRvw==",
          "dtype": "f8"
         },
         "xaxis": "x",
         "y": {
          "bdata": "AAAAAAAA+H8AAAAAAAD4fwAAAAAAAPh/AAAAAAAA+H8AAAAAAAD4f95Eyr35U7A/8xvqSFgizz/ct+UmIA/oPwAAAAAAAPh/AAAAAAAA+H8AAAAAAAD4fwAAAAAAAPh/AAAAAAAA+H8AAAAAAAD4fwAAAAAAAPh/AAAAAAAA+H8AAAAAAAD4fwAAAAAAAPh/AAAAAAAA+H8AAAAAAAD4fwAAAAAAAPh/AAAAAAAA+H8AAAAAAAD4fw==",
          "dtype": "f8"
         },
         "yaxis": "y"
        },
        {
         "hovertemplate": "Significant (p < 0.05)=True<br>Correlation with Target=%{x}<br>P-Value=%{y}<br>Feature=%{text}<extra></extra>",
         "legendgroup": "True",
         "marker": {
          "color": "#EF553B",
          "line": {
           "color": "DarkSlateGrey",
           "width": 1
          },
          "size": 12,
          "symbol": "circle"
         },
         "mode": "markers+text",
         "name": "True",
         "orientation": "v",
         "showlegend": true,
         "text": [
          "Close",
          "nasdaq",
          "Bollinger_Upper",
          "Bollinger_Lower"
         ],
         "textposition": "top center",
         "type": "scatter",
         "x": {
          "bdata": "zk7JbkeD7z/Mjg9fJXjtP2WTckqeBPA/XhbjcsRU7z8=",
          "dtype": "f8"
         },
         "xaxis": "x",
         "y": {
          "bdata": "FmJEiCY3cj+9y0jeD4agPwjzTQTLD4U/uVish2B2lT8=",
          "dtype": "f8"
         },
         "yaxis": "y"
        }
       ],
       "layout": {
        "legend": {
         "title": {
          "text": "Significant (p < 0.05)"
         },
         "tracegroupgap": 0
        },
        "shapes": [
         {
          "line": {
           "color": "black",
           "dash": "dash",
           "width": 2
          },
          "type": "line",
          "x0": -1,
          "x1": 1,
          "y0": 0.05,
          "y1": 0.05
         }
        ],
        "showlegend": true,
        "template": {
         "data": {
          "bar": [
           {
            "error_x": {
             "color": "#2a3f5f"
            },
            "error_y": {
             "color": "#2a3f5f"
            },
            "marker": {
             "line": {
              "color": "#E5ECF6",
              "width": 0.5
             },
             "pattern": {
              "fillmode": "overlay",
              "size": 10,
              "solidity": 0.2
             }
            },
            "type": "bar"
           }
          ],
          "barpolar": [
           {
            "marker": {
             "line": {
              "color": "#E5ECF6",
              "width": 0.5
             },
             "pattern": {
              "fillmode": "overlay",
              "size": 10,
              "solidity": 0.2
             }
            },
            "type": "barpolar"
           }
          ],
          "carpet": [
           {
            "aaxis": {
             "endlinecolor": "#2a3f5f",
             "gridcolor": "white",
             "linecolor": "white",
             "minorgridcolor": "white",
             "startlinecolor": "#2a3f5f"
            },
            "baxis": {
             "endlinecolor": "#2a3f5f",
             "gridcolor": "white",
             "linecolor": "white",
             "minorgridcolor": "white",
             "startlinecolor": "#2a3f5f"
            },
            "type": "carpet"
           }
          ],
          "choropleth": [
           {
            "colorbar": {
             "outlinewidth": 0,
             "ticks": ""
            },
            "type": "choropleth"
           }
          ],
          "contour": [
           {
            "colorbar": {
             "outlinewidth": 0,
             "ticks": ""
            },
            "colorscale": [
             [
              0,
              "#0d0887"
             ],
             [
              0.1111111111111111,
              "#46039f"
             ],
             [
              0.2222222222222222,
              "#7201a8"
             ],
             [
              0.3333333333333333,
              "#9c179e"
             ],
             [
              0.4444444444444444,
              "#bd3786"
             ],
             [
              0.5555555555555556,
              "#d8576b"
             ],
             [
              0.6666666666666666,
              "#ed7953"
             ],
             [
              0.7777777777777778,
              "#fb9f3a"
             ],
             [
              0.8888888888888888,
              "#fdca26"
             ],
             [
              1,
              "#f0f921"
             ]
            ],
            "type": "contour"
           }
          ],
          "contourcarpet": [
           {
            "colorbar": {
             "outlinewidth": 0,
             "ticks": ""
            },
            "type": "contourcarpet"
           }
          ],
          "heatmap": [
           {
            "colorbar": {
             "outlinewidth": 0,
             "ticks": ""
            },
            "colorscale": [
             [
              0,
              "#0d0887"
             ],
             [
              0.1111111111111111,
              "#46039f"
             ],
             [
              0.2222222222222222,
              "#7201a8"
             ],
             [
              0.3333333333333333,
              "#9c179e"
             ],
             [
              0.4444444444444444,
              "#bd3786"
             ],
             [
              0.5555555555555556,
              "#d8576b"
             ],
             [
              0.6666666666666666,
              "#ed7953"
             ],
             [
              0.7777777777777778,
              "#fb9f3a"
             ],
             [
              0.8888888888888888,
              "#fdca26"
             ],
             [
              1,
              "#f0f921"
             ]
            ],
            "type": "heatmap"
           }
          ],
          "histogram": [
           {
            "marker": {
             "pattern": {
              "fillmode": "overlay",
              "size": 10,
              "solidity": 0.2
             }
            },
            "type": "histogram"
           }
          ],
          "histogram2d": [
           {
            "colorbar": {
             "outlinewidth": 0,
             "ticks": ""
            },
            "colorscale": [
             [
              0,
              "#0d0887"
             ],
             [
              0.1111111111111111,
              "#46039f"
             ],
             [
              0.2222222222222222,
              "#7201a8"
             ],
             [
              0.3333333333333333,
              "#9c179e"
             ],
             [
              0.4444444444444444,
              "#bd3786"
             ],
             [
              0.5555555555555556,
              "#d8576b"
             ],
             [
              0.6666666666666666,
              "#ed7953"
             ],
             [
              0.7777777777777778,
              "#fb9f3a"
             ],
             [
              0.8888888888888888,
              "#fdca26"
             ],
             [
              1,
              "#f0f921"
             ]
            ],
            "type": "histogram2d"
           }
          ],
          "histogram2dcontour": [
           {
            "colorbar": {
             "outlinewidth": 0,
             "ticks": ""
            },
            "colorscale": [
             [
              0,
              "#0d0887"
             ],
             [
              0.1111111111111111,
              "#46039f"
             ],
             [
              0.2222222222222222,
              "#7201a8"
             ],
             [
              0.3333333333333333,
              "#9c179e"
             ],
             [
              0.4444444444444444,
              "#bd3786"
             ],
             [
              0.5555555555555556,
              "#d8576b"
             ],
             [
              0.6666666666666666,
              "#ed7953"
             ],
             [
              0.7777777777777778,
              "#fb9f3a"
             ],
             [
              0.8888888888888888,
              "#fdca26"
             ],
             [
              1,
              "#f0f921"
             ]
            ],
            "type": "histogram2dcontour"
           }
          ],
          "mesh3d": [
           {
            "colorbar": {
             "outlinewidth": 0,
             "ticks": ""
            },
            "type": "mesh3d"
           }
          ],
          "parcoords": [
           {
            "line": {
             "colorbar": {
              "outlinewidth": 0,
              "ticks": ""
             }
            },
            "type": "parcoords"
           }
          ],
          "pie": [
           {
            "automargin": true,
            "type": "pie"
           }
          ],
          "scatter": [
           {
            "fillpattern": {
             "fillmode": "overlay",
             "size": 10,
             "solidity": 0.2
            },
            "type": "scatter"
           }
          ],
          "scatter3d": [
           {
            "line": {
             "colorbar": {
              "outlinewidth": 0,
              "ticks": ""
             }
            },
            "marker": {
             "colorbar": {
              "outlinewidth": 0,
              "ticks": ""
             }
            },
            "type": "scatter3d"
           }
          ],
          "scattercarpet": [
           {
            "marker": {
             "colorbar": {
              "outlinewidth": 0,
              "ticks": ""
             }
            },
            "type": "scattercarpet"
           }
          ],
          "scattergeo": [
           {
            "marker": {
             "colorbar": {
              "outlinewidth": 0,
              "ticks": ""
             }
            },
            "type": "scattergeo"
           }
          ],
          "scattergl": [
           {
            "marker": {
             "colorbar": {
              "outlinewidth": 0,
              "ticks": ""
             }
            },
            "type": "scattergl"
           }
          ],
          "scattermap": [
           {
            "marker": {
             "colorbar": {
              "outlinewidth": 0,
              "ticks": ""
             }
            },
            "type": "scattermap"
           }
          ],
          "scattermapbox": [
           {
            "marker": {
             "colorbar": {
              "outlinewidth": 0,
              "ticks": ""
             }
            },
            "type": "scattermapbox"
           }
          ],
          "scatterpolar": [
           {
            "marker": {
             "colorbar": {
              "outlinewidth": 0,
              "ticks": ""
             }
            },
            "type": "scatterpolar"
           }
          ],
          "scatterpolargl": [
           {
            "marker": {
             "colorbar": {
              "outlinewidth": 0,
              "ticks": ""
             }
            },
            "type": "scatterpolargl"
           }
          ],
          "scatterternary": [
           {
            "marker": {
             "colorbar": {
              "outlinewidth": 0,
              "ticks": ""
             }
            },
            "type": "scatterternary"
           }
          ],
          "surface": [
           {
            "colorbar": {
             "outlinewidth": 0,
             "ticks": ""
            },
            "colorscale": [
             [
              0,
              "#0d0887"
             ],
             [
              0.1111111111111111,
              "#46039f"
             ],
             [
              0.2222222222222222,
              "#7201a8"
             ],
             [
              0.3333333333333333,
              "#9c179e"
             ],
             [
              0.4444444444444444,
              "#bd3786"
             ],
             [
              0.5555555555555556,
              "#d8576b"
             ],
             [
              0.6666666666666666,
              "#ed7953"
             ],
             [
              0.7777777777777778,
              "#fb9f3a"
             ],
             [
              0.8888888888888888,
              "#fdca26"
             ],
             [
              1,
              "#f0f921"
             ]
            ],
            "type": "surface"
           }
          ],
          "table": [
           {
            "cells": {
             "fill": {
              "color": "#EBF0F8"
             },
             "line": {
              "color": "white"
             }
            },
            "header": {
             "fill": {
              "color": "#C8D4E3"
             },
             "line": {
              "color": "white"
             }
            },
            "type": "table"
           }
          ]
         },
         "layout": {
          "annotationdefaults": {
           "arrowcolor": "#2a3f5f",
           "arrowhead": 0,
           "arrowwidth": 1
          },
          "autotypenumbers": "strict",
          "coloraxis": {
           "colorbar": {
            "outlinewidth": 0,
            "ticks": ""
           }
          },
          "colorscale": {
           "diverging": [
            [
             0,
             "#8e0152"
            ],
            [
             0.1,
             "#c51b7d"
            ],
            [
             0.2,
             "#de77ae"
            ],
            [
             0.3,
             "#f1b6da"
            ],
            [
             0.4,
             "#fde0ef"
            ],
            [
             0.5,
             "#f7f7f7"
            ],
            [
             0.6,
             "#e6f5d0"
            ],
            [
             0.7,
             "#b8e186"
            ],
            [
             0.8,
             "#7fbc41"
            ],
            [
             0.9,
             "#4d9221"
            ],
            [
             1,
             "#276419"
            ]
           ],
           "sequential": [
            [
             0,
             "#0d0887"
            ],
            [
             0.1111111111111111,
             "#46039f"
            ],
            [
             0.2222222222222222,
             "#7201a8"
            ],
            [
             0.3333333333333333,
             "#9c179e"
            ],
            [
             0.4444444444444444,
             "#bd3786"
            ],
            [
             0.5555555555555556,
             "#d8576b"
            ],
            [
             0.6666666666666666,
             "#ed7953"
            ],
            [
             0.7777777777777778,
             "#fb9f3a"
            ],
            [
             0.8888888888888888,
             "#fdca26"
            ],
            [
             1,
             "#f0f921"
            ]
           ],
           "sequentialminus": [
            [
             0,
             "#0d0887"
            ],
            [
             0.1111111111111111,
             "#46039f"
            ],
            [
             0.2222222222222222,
             "#7201a8"
            ],
            [
             0.3333333333333333,
             "#9c179e"
            ],
            [
             0.4444444444444444,
             "#bd3786"
            ],
            [
             0.5555555555555556,
             "#d8576b"
            ],
            [
             0.6666666666666666,
             "#ed7953"
            ],
            [
             0.7777777777777778,
             "#fb9f3a"
            ],
            [
             0.8888888888888888,
             "#fdca26"
            ],
            [
             1,
             "#f0f921"
            ]
           ]
          },
          "colorway": [
           "#636efa",
           "#EF553B",
           "#00cc96",
           "#ab63fa",
           "#FFA15A",
           "#19d3f3",
           "#FF6692",
           "#B6E880",
           "#FF97FF",
           "#FECB52"
          ],
          "font": {
           "color": "#2a3f5f"
          },
          "geo": {
           "bgcolor": "white",
           "lakecolor": "white",
           "landcolor": "#E5ECF6",
           "showlakes": true,
           "showland": true,
           "subunitcolor": "white"
          },
          "hoverlabel": {
           "align": "left"
          },
          "hovermode": "closest",
          "mapbox": {
           "style": "light"
          },
          "paper_bgcolor": "white",
          "plot_bgcolor": "#E5ECF6",
          "polar": {
           "angularaxis": {
            "gridcolor": "white",
            "linecolor": "white",
            "ticks": ""
           },
           "bgcolor": "#E5ECF6",
           "radialaxis": {
            "gridcolor": "white",
            "linecolor": "white",
            "ticks": ""
           }
          },
          "scene": {
           "xaxis": {
            "backgroundcolor": "#E5ECF6",
            "gridcolor": "white",
            "gridwidth": 2,
            "linecolor": "white",
            "showbackground": true,
            "ticks": "",
            "zerolinecolor": "white"
           },
           "yaxis": {
            "backgroundcolor": "#E5ECF6",
            "gridcolor": "white",
            "gridwidth": 2,
            "linecolor": "white",
            "showbackground": true,
            "ticks": "",
            "zerolinecolor": "white"
           },
           "zaxis": {
            "backgroundcolor": "#E5ECF6",
            "gridcolor": "white",
            "gridwidth": 2,
            "linecolor": "white",
            "showbackground": true,
            "ticks": "",
            "zerolinecolor": "white"
           }
          },
          "shapedefaults": {
           "line": {
            "color": "#2a3f5f"
           }
          },
          "ternary": {
           "aaxis": {
            "gridcolor": "white",
            "linecolor": "white",
            "ticks": ""
           },
           "baxis": {
            "gridcolor": "white",
            "linecolor": "white",
            "ticks": ""
           },
           "bgcolor": "#E5ECF6",
           "caxis": {
            "gridcolor": "white",
            "linecolor": "white",
            "ticks": ""
           }
          },
          "title": {
           "x": 0.05
          },
          "xaxis": {
           "automargin": true,
           "gridcolor": "white",
           "linecolor": "white",
           "ticks": "",
           "title": {
            "standoff": 15
           },
           "zerolinecolor": "white",
           "zerolinewidth": 2
          },
          "yaxis": {
           "automargin": true,
           "gridcolor": "white",
           "linecolor": "white",
           "ticks": "",
           "title": {
            "standoff": 15
           },
           "zerolinecolor": "white",
           "zerolinewidth": 2
          }
         }
        },
        "title": {
         "text": "📊 Feature Correlation vs. P-Value"
        },
        "xaxis": {
         "anchor": "y",
         "domain": [
          0,
          1
         ],
         "title": {
          "text": "Correlation with Target"
         }
        },
        "yaxis": {
         "anchor": "x",
         "domain": [
          0,
          1
         ],
         "title": {
          "text": "P-Value"
         }
        }
       }
      }
     },
     "metadata": {},
     "output_type": "display_data"
    }
   ],
   "source": [
    "import plotly.express as px\n",
    "\n",
    "# Add slight jitter to p-values and correlation to avoid overlap\n",
    "df_corr_vs_p['P_Value_Jitter'] = df_corr_vs_p['P_Value'] + np.random.normal(0, 0.005, size=len(df_corr_vs_p))\n",
    "df_corr_vs_p['Correlation_Jitter'] = df_corr_vs_p['Correlation_with_Target'] + np.random.normal(0, 0.01, size=len(df_corr_vs_p))\n",
    "\n",
    "# Plot with jittered values\n",
    "fig = px.scatter(\n",
    "    df_corr_vs_p,\n",
    "    x='Correlation_Jitter',\n",
    "    y='P_Value_Jitter',\n",
    "    text='Feature',\n",
    "    color=df_corr_vs_p['P_Value'] < 0.05,\n",
    "    labels={\n",
    "        'Correlation_Jitter': 'Correlation with Target',\n",
    "        'P_Value_Jitter': 'P-Value',\n",
    "        'color': 'Significant (p < 0.05)'\n",
    "    },\n",
    "    title=\"📊 Feature Correlation vs. P-Value\"\n",
    ")\n",
    "\n",
    "# Add dashed threshold line\n",
    "fig.add_shape(\n",
    "    type='line',\n",
    "    x0=-1, x1=1,\n",
    "    y0=0.05, y1=0.05,\n",
    "    line=dict(color='black', width=2, dash='dash')\n",
    ")\n",
    "\n",
    "fig.update_traces(\n",
    "    textposition='top center',\n",
    "    marker=dict(size=12, line=dict(width=1, color='DarkSlateGrey'))\n",
    ")\n",
    "\n",
    "fig.update_layout(showlegend=True)\n",
    "fig.show()\n",
    "\n"
   ]
  },
  {
   "cell_type": "code",
   "execution_count": 88,
   "id": "38eee709",
   "metadata": {},
   "outputs": [
    {
     "data": {
      "application/vnd.plotly.v1+json": {
       "config": {
        "plotlyServerURL": "https://plot.ly"
       },
       "data": [
        {
         "colorscale": [
          [
           0,
           "rgb(247,251,255)"
          ],
          [
           0.125,
           "rgb(222,235,247)"
          ],
          [
           0.25,
           "rgb(198,219,239)"
          ],
          [
           0.375,
           "rgb(158,202,225)"
          ],
          [
           0.5,
           "rgb(107,174,214)"
          ],
          [
           0.625,
           "rgb(66,146,198)"
          ],
          [
           0.75,
           "rgb(33,113,181)"
          ],
          [
           0.875,
           "rgb(8,81,156)"
          ],
          [
           1,
           "rgb(8,48,107)"
          ]
         ],
         "reversescale": false,
         "showscale": true,
         "type": "heatmap",
         "x": [
          "Bollinger_Upper",
          "Bollinger_Lower",
          "fgi",
          "Close",
          "nasdaq",
          "sp500",
          "vix",
          "Target"
         ],
         "y": [
          "Bollinger_Upper",
          "Bollinger_Lower",
          "fgi",
          "Close",
          "nasdaq",
          "sp500",
          "vix",
          "Target"
         ],
         "z": {
          "bdata": "AAAAAAAA8D+uR+F6FK7vP+xRuB6F69E/rkfhehSu7z/D9Shcj8LtP8P1KFyPwu0/exSuR+F6pD+uR+F6FK7vP65H4XoUru8/AAAAAAAA8D9I4XoUrkfRP65H4XoUru8/w/UoXI/C7T/D9Shcj8LtP3sUrkfhepQ/rkfhehSu7z/sUbgehevRP0jhehSuR9E/AAAAAAAA8D8fhetRuB7VP0jhehSuR9E/uB6F61G4zj9I4XoUrkfRvx+F61G4HtU/rkfhehSu7z+uR+F6FK7vPx+F61G4HtU/AAAAAAAA8D/D9Shcj8LtP8P1KFyPwu0/exSuR+F6lD8AAAAAAADwP8P1KFyPwu0/w/UoXI/C7T9I4XoUrkfRP8P1KFyPwu0/AAAAAAAA8D+uR+F6FK7vPwrXo3A9Crc/w/UoXI/C7T/D9Shcj8LtP8P1KFyPwu0/uB6F61G4zj/D9Shcj8LtP65H4XoUru8/AAAAAAAA8D+amZmZmZmpP8P1KFyPwu0/exSuR+F6pD97FK5H4XqUP0jhehSuR9G/exSuR+F6lD8K16NwPQq3P5qZmZmZmak/AAAAAAAA8D97FK5H4XqUP65H4XoUru8/rkfhehSu7z8fhetRuB7VPwAAAAAAAPA/w/UoXI/C7T/D9Shcj8LtP3sUrkfhepQ/AAAAAAAA8D8=",
          "dtype": "f8",
          "shape": "8, 8"
         }
        }
       ],
       "layout": {
        "annotations": [
         {
          "font": {
           "color": "#FFFFFF"
          },
          "showarrow": false,
          "text": "1.0",
          "x": "Bollinger_Upper",
          "xref": "x",
          "y": "Bollinger_Upper",
          "yref": "y"
         },
         {
          "font": {
           "color": "#FFFFFF"
          },
          "showarrow": false,
          "text": "0.99",
          "x": "Bollinger_Lower",
          "xref": "x",
          "y": "Bollinger_Upper",
          "yref": "y"
         },
         {
          "font": {
           "color": "#000000"
          },
          "showarrow": false,
          "text": "0.28",
          "x": "fgi",
          "xref": "x",
          "y": "Bollinger_Upper",
          "yref": "y"
         },
         {
          "font": {
           "color": "#FFFFFF"
          },
          "showarrow": false,
          "text": "0.99",
          "x": "Close",
          "xref": "x",
          "y": "Bollinger_Upper",
          "yref": "y"
         },
         {
          "font": {
           "color": "#FFFFFF"
          },
          "showarrow": false,
          "text": "0.93",
          "x": "nasdaq",
          "xref": "x",
          "y": "Bollinger_Upper",
          "yref": "y"
         },
         {
          "font": {
           "color": "#FFFFFF"
          },
          "showarrow": false,
          "text": "0.93",
          "x": "sp500",
          "xref": "x",
          "y": "Bollinger_Upper",
          "yref": "y"
         },
         {
          "font": {
           "color": "#000000"
          },
          "showarrow": false,
          "text": "0.04",
          "x": "vix",
          "xref": "x",
          "y": "Bollinger_Upper",
          "yref": "y"
         },
         {
          "font": {
           "color": "#FFFFFF"
          },
          "showarrow": false,
          "text": "0.99",
          "x": "Target",
          "xref": "x",
          "y": "Bollinger_Upper",
          "yref": "y"
         },
         {
          "font": {
           "color": "#FFFFFF"
          },
          "showarrow": false,
          "text": "0.99",
          "x": "Bollinger_Upper",
          "xref": "x",
          "y": "Bollinger_Lower",
          "yref": "y"
         },
         {
          "font": {
           "color": "#FFFFFF"
          },
          "showarrow": false,
          "text": "1.0",
          "x": "Bollinger_Lower",
          "xref": "x",
          "y": "Bollinger_Lower",
          "yref": "y"
         },
         {
          "font": {
           "color": "#000000"
          },
          "showarrow": false,
          "text": "0.27",
          "x": "fgi",
          "xref": "x",
          "y": "Bollinger_Lower",
          "yref": "y"
         },
         {
          "font": {
           "color": "#FFFFFF"
          },
          "showarrow": false,
          "text": "0.99",
          "x": "Close",
          "xref": "x",
          "y": "Bollinger_Lower",
          "yref": "y"
         },
         {
          "font": {
           "color": "#FFFFFF"
          },
          "showarrow": false,
          "text": "0.93",
          "x": "nasdaq",
          "xref": "x",
          "y": "Bollinger_Lower",
          "yref": "y"
         },
         {
          "font": {
           "color": "#FFFFFF"
          },
          "showarrow": false,
          "text": "0.93",
          "x": "sp500",
          "xref": "x",
          "y": "Bollinger_Lower",
          "yref": "y"
         },
         {
          "font": {
           "color": "#000000"
          },
          "showarrow": false,
          "text": "0.02",
          "x": "vix",
          "xref": "x",
          "y": "Bollinger_Lower",
          "yref": "y"
         },
         {
          "font": {
           "color": "#FFFFFF"
          },
          "showarrow": false,
          "text": "0.99",
          "x": "Target",
          "xref": "x",
          "y": "Bollinger_Lower",
          "yref": "y"
         },
         {
          "font": {
           "color": "#000000"
          },
          "showarrow": false,
          "text": "0.28",
          "x": "Bollinger_Upper",
          "xref": "x",
          "y": "fgi",
          "yref": "y"
         },
         {
          "font": {
           "color": "#000000"
          },
          "showarrow": false,
          "text": "0.27",
          "x": "Bollinger_Lower",
          "xref": "x",
          "y": "fgi",
          "yref": "y"
         },
         {
          "font": {
           "color": "#FFFFFF"
          },
          "showarrow": false,
          "text": "1.0",
          "x": "fgi",
          "xref": "x",
          "y": "fgi",
          "yref": "y"
         },
         {
          "font": {
           "color": "#000000"
          },
          "showarrow": false,
          "text": "0.33",
          "x": "Close",
          "xref": "x",
          "y": "fgi",
          "yref": "y"
         },
         {
          "font": {
           "color": "#000000"
          },
          "showarrow": false,
          "text": "0.27",
          "x": "nasdaq",
          "xref": "x",
          "y": "fgi",
          "yref": "y"
         },
         {
          "font": {
           "color": "#000000"
          },
          "showarrow": false,
          "text": "0.24",
          "x": "sp500",
          "xref": "x",
          "y": "fgi",
          "yref": "y"
         },
         {
          "font": {
           "color": "#000000"
          },
          "showarrow": false,
          "text": "-0.27",
          "x": "vix",
          "xref": "x",
          "y": "fgi",
          "yref": "y"
         },
         {
          "font": {
           "color": "#000000"
          },
          "showarrow": false,
          "text": "0.33",
          "x": "Target",
          "xref": "x",
          "y": "fgi",
          "yref": "y"
         },
         {
          "font": {
           "color": "#FFFFFF"
          },
          "showarrow": false,
          "text": "0.99",
          "x": "Bollinger_Upper",
          "xref": "x",
          "y": "Close",
          "yref": "y"
         },
         {
          "font": {
           "color": "#FFFFFF"
          },
          "showarrow": false,
          "text": "0.99",
          "x": "Bollinger_Lower",
          "xref": "x",
          "y": "Close",
          "yref": "y"
         },
         {
          "font": {
           "color": "#000000"
          },
          "showarrow": false,
          "text": "0.33",
          "x": "fgi",
          "xref": "x",
          "y": "Close",
          "yref": "y"
         },
         {
          "font": {
           "color": "#FFFFFF"
          },
          "showarrow": false,
          "text": "1.0",
          "x": "Close",
          "xref": "x",
          "y": "Close",
          "yref": "y"
         },
         {
          "font": {
           "color": "#FFFFFF"
          },
          "showarrow": false,
          "text": "0.93",
          "x": "nasdaq",
          "xref": "x",
          "y": "Close",
          "yref": "y"
         },
         {
          "font": {
           "color": "#FFFFFF"
          },
          "showarrow": false,
          "text": "0.93",
          "x": "sp500",
          "xref": "x",
          "y": "Close",
          "yref": "y"
         },
         {
          "font": {
           "color": "#000000"
          },
          "showarrow": false,
          "text": "0.02",
          "x": "vix",
          "xref": "x",
          "y": "Close",
          "yref": "y"
         },
         {
          "font": {
           "color": "#FFFFFF"
          },
          "showarrow": false,
          "text": "1.0",
          "x": "Target",
          "xref": "x",
          "y": "Close",
          "yref": "y"
         },
         {
          "font": {
           "color": "#FFFFFF"
          },
          "showarrow": false,
          "text": "0.93",
          "x": "Bollinger_Upper",
          "xref": "x",
          "y": "nasdaq",
          "yref": "y"
         },
         {
          "font": {
           "color": "#FFFFFF"
          },
          "showarrow": false,
          "text": "0.93",
          "x": "Bollinger_Lower",
          "xref": "x",
          "y": "nasdaq",
          "yref": "y"
         },
         {
          "font": {
           "color": "#000000"
          },
          "showarrow": false,
          "text": "0.27",
          "x": "fgi",
          "xref": "x",
          "y": "nasdaq",
          "yref": "y"
         },
         {
          "font": {
           "color": "#FFFFFF"
          },
          "showarrow": false,
          "text": "0.93",
          "x": "Close",
          "xref": "x",
          "y": "nasdaq",
          "yref": "y"
         },
         {
          "font": {
           "color": "#FFFFFF"
          },
          "showarrow": false,
          "text": "1.0",
          "x": "nasdaq",
          "xref": "x",
          "y": "nasdaq",
          "yref": "y"
         },
         {
          "font": {
           "color": "#FFFFFF"
          },
          "showarrow": false,
          "text": "0.99",
          "x": "sp500",
          "xref": "x",
          "y": "nasdaq",
          "yref": "y"
         },
         {
          "font": {
           "color": "#000000"
          },
          "showarrow": false,
          "text": "0.09",
          "x": "vix",
          "xref": "x",
          "y": "nasdaq",
          "yref": "y"
         },
         {
          "font": {
           "color": "#FFFFFF"
          },
          "showarrow": false,
          "text": "0.93",
          "x": "Target",
          "xref": "x",
          "y": "nasdaq",
          "yref": "y"
         },
         {
          "font": {
           "color": "#FFFFFF"
          },
          "showarrow": false,
          "text": "0.93",
          "x": "Bollinger_Upper",
          "xref": "x",
          "y": "sp500",
          "yref": "y"
         },
         {
          "font": {
           "color": "#FFFFFF"
          },
          "showarrow": false,
          "text": "0.93",
          "x": "Bollinger_Lower",
          "xref": "x",
          "y": "sp500",
          "yref": "y"
         },
         {
          "font": {
           "color": "#000000"
          },
          "showarrow": false,
          "text": "0.24",
          "x": "fgi",
          "xref": "x",
          "y": "sp500",
          "yref": "y"
         },
         {
          "font": {
           "color": "#FFFFFF"
          },
          "showarrow": false,
          "text": "0.93",
          "x": "Close",
          "xref": "x",
          "y": "sp500",
          "yref": "y"
         },
         {
          "font": {
           "color": "#FFFFFF"
          },
          "showarrow": false,
          "text": "0.99",
          "x": "nasdaq",
          "xref": "x",
          "y": "sp500",
          "yref": "y"
         },
         {
          "font": {
           "color": "#FFFFFF"
          },
          "showarrow": false,
          "text": "1.0",
          "x": "sp500",
          "xref": "x",
          "y": "sp500",
          "yref": "y"
         },
         {
          "font": {
           "color": "#000000"
          },
          "showarrow": false,
          "text": "0.05",
          "x": "vix",
          "xref": "x",
          "y": "sp500",
          "yref": "y"
         },
         {
          "font": {
           "color": "#FFFFFF"
          },
          "showarrow": false,
          "text": "0.93",
          "x": "Target",
          "xref": "x",
          "y": "sp500",
          "yref": "y"
         },
         {
          "font": {
           "color": "#000000"
          },
          "showarrow": false,
          "text": "0.04",
          "x": "Bollinger_Upper",
          "xref": "x",
          "y": "vix",
          "yref": "y"
         },
         {
          "font": {
           "color": "#000000"
          },
          "showarrow": false,
          "text": "0.02",
          "x": "Bollinger_Lower",
          "xref": "x",
          "y": "vix",
          "yref": "y"
         },
         {
          "font": {
           "color": "#000000"
          },
          "showarrow": false,
          "text": "-0.27",
          "x": "fgi",
          "xref": "x",
          "y": "vix",
          "yref": "y"
         },
         {
          "font": {
           "color": "#000000"
          },
          "showarrow": false,
          "text": "0.02",
          "x": "Close",
          "xref": "x",
          "y": "vix",
          "yref": "y"
         },
         {
          "font": {
           "color": "#000000"
          },
          "showarrow": false,
          "text": "0.09",
          "x": "nasdaq",
          "xref": "x",
          "y": "vix",
          "yref": "y"
         },
         {
          "font": {
           "color": "#000000"
          },
          "showarrow": false,
          "text": "0.05",
          "x": "sp500",
          "xref": "x",
          "y": "vix",
          "yref": "y"
         },
         {
          "font": {
           "color": "#FFFFFF"
          },
          "showarrow": false,
          "text": "1.0",
          "x": "vix",
          "xref": "x",
          "y": "vix",
          "yref": "y"
         },
         {
          "font": {
           "color": "#000000"
          },
          "showarrow": false,
          "text": "0.02",
          "x": "Target",
          "xref": "x",
          "y": "vix",
          "yref": "y"
         },
         {
          "font": {
           "color": "#FFFFFF"
          },
          "showarrow": false,
          "text": "0.99",
          "x": "Bollinger_Upper",
          "xref": "x",
          "y": "Target",
          "yref": "y"
         },
         {
          "font": {
           "color": "#FFFFFF"
          },
          "showarrow": false,
          "text": "0.99",
          "x": "Bollinger_Lower",
          "xref": "x",
          "y": "Target",
          "yref": "y"
         },
         {
          "font": {
           "color": "#000000"
          },
          "showarrow": false,
          "text": "0.33",
          "x": "fgi",
          "xref": "x",
          "y": "Target",
          "yref": "y"
         },
         {
          "font": {
           "color": "#FFFFFF"
          },
          "showarrow": false,
          "text": "1.0",
          "x": "Close",
          "xref": "x",
          "y": "Target",
          "yref": "y"
         },
         {
          "font": {
           "color": "#FFFFFF"
          },
          "showarrow": false,
          "text": "0.93",
          "x": "nasdaq",
          "xref": "x",
          "y": "Target",
          "yref": "y"
         },
         {
          "font": {
           "color": "#FFFFFF"
          },
          "showarrow": false,
          "text": "0.93",
          "x": "sp500",
          "xref": "x",
          "y": "Target",
          "yref": "y"
         },
         {
          "font": {
           "color": "#000000"
          },
          "showarrow": false,
          "text": "0.02",
          "x": "vix",
          "xref": "x",
          "y": "Target",
          "yref": "y"
         },
         {
          "font": {
           "color": "#FFFFFF"
          },
          "showarrow": false,
          "text": "1.0",
          "x": "Target",
          "xref": "x",
          "y": "Target",
          "yref": "y"
         }
        ],
        "height": 600,
        "template": {
         "data": {
          "bar": [
           {
            "error_x": {
             "color": "#2a3f5f"
            },
            "error_y": {
             "color": "#2a3f5f"
            },
            "marker": {
             "line": {
              "color": "white",
              "width": 0.5
             },
             "pattern": {
              "fillmode": "overlay",
              "size": 10,
              "solidity": 0.2
             }
            },
            "type": "bar"
           }
          ],
          "barpolar": [
           {
            "marker": {
             "line": {
              "color": "white",
              "width": 0.5
             },
             "pattern": {
              "fillmode": "overlay",
              "size": 10,
              "solidity": 0.2
             }
            },
            "type": "barpolar"
           }
          ],
          "carpet": [
           {
            "aaxis": {
             "endlinecolor": "#2a3f5f",
             "gridcolor": "#C8D4E3",
             "linecolor": "#C8D4E3",
             "minorgridcolor": "#C8D4E3",
             "startlinecolor": "#2a3f5f"
            },
            "baxis": {
             "endlinecolor": "#2a3f5f",
             "gridcolor": "#C8D4E3",
             "linecolor": "#C8D4E3",
             "minorgridcolor": "#C8D4E3",
             "startlinecolor": "#2a3f5f"
            },
            "type": "carpet"
           }
          ],
          "choropleth": [
           {
            "colorbar": {
             "outlinewidth": 0,
             "ticks": ""
            },
            "type": "choropleth"
           }
          ],
          "contour": [
           {
            "colorbar": {
             "outlinewidth": 0,
             "ticks": ""
            },
            "colorscale": [
             [
              0,
              "#0d0887"
             ],
             [
              0.1111111111111111,
              "#46039f"
             ],
             [
              0.2222222222222222,
              "#7201a8"
             ],
             [
              0.3333333333333333,
              "#9c179e"
             ],
             [
              0.4444444444444444,
              "#bd3786"
             ],
             [
              0.5555555555555556,
              "#d8576b"
             ],
             [
              0.6666666666666666,
              "#ed7953"
             ],
             [
              0.7777777777777778,
              "#fb9f3a"
             ],
             [
              0.8888888888888888,
              "#fdca26"
             ],
             [
              1,
              "#f0f921"
             ]
            ],
            "type": "contour"
           }
          ],
          "contourcarpet": [
           {
            "colorbar": {
             "outlinewidth": 0,
             "ticks": ""
            },
            "type": "contourcarpet"
           }
          ],
          "heatmap": [
           {
            "colorbar": {
             "outlinewidth": 0,
             "ticks": ""
            },
            "colorscale": [
             [
              0,
              "#0d0887"
             ],
             [
              0.1111111111111111,
              "#46039f"
             ],
             [
              0.2222222222222222,
              "#7201a8"
             ],
             [
              0.3333333333333333,
              "#9c179e"
             ],
             [
              0.4444444444444444,
              "#bd3786"
             ],
             [
              0.5555555555555556,
              "#d8576b"
             ],
             [
              0.6666666666666666,
              "#ed7953"
             ],
             [
              0.7777777777777778,
              "#fb9f3a"
             ],
             [
              0.8888888888888888,
              "#fdca26"
             ],
             [
              1,
              "#f0f921"
             ]
            ],
            "type": "heatmap"
           }
          ],
          "histogram": [
           {
            "marker": {
             "pattern": {
              "fillmode": "overlay",
              "size": 10,
              "solidity": 0.2
             }
            },
            "type": "histogram"
           }
          ],
          "histogram2d": [
           {
            "colorbar": {
             "outlinewidth": 0,
             "ticks": ""
            },
            "colorscale": [
             [
              0,
              "#0d0887"
             ],
             [
              0.1111111111111111,
              "#46039f"
             ],
             [
              0.2222222222222222,
              "#7201a8"
             ],
             [
              0.3333333333333333,
              "#9c179e"
             ],
             [
              0.4444444444444444,
              "#bd3786"
             ],
             [
              0.5555555555555556,
              "#d8576b"
             ],
             [
              0.6666666666666666,
              "#ed7953"
             ],
             [
              0.7777777777777778,
              "#fb9f3a"
             ],
             [
              0.8888888888888888,
              "#fdca26"
             ],
             [
              1,
              "#f0f921"
             ]
            ],
            "type": "histogram2d"
           }
          ],
          "histogram2dcontour": [
           {
            "colorbar": {
             "outlinewidth": 0,
             "ticks": ""
            },
            "colorscale": [
             [
              0,
              "#0d0887"
             ],
             [
              0.1111111111111111,
              "#46039f"
             ],
             [
              0.2222222222222222,
              "#7201a8"
             ],
             [
              0.3333333333333333,
              "#9c179e"
             ],
             [
              0.4444444444444444,
              "#bd3786"
             ],
             [
              0.5555555555555556,
              "#d8576b"
             ],
             [
              0.6666666666666666,
              "#ed7953"
             ],
             [
              0.7777777777777778,
              "#fb9f3a"
             ],
             [
              0.8888888888888888,
              "#fdca26"
             ],
             [
              1,
              "#f0f921"
             ]
            ],
            "type": "histogram2dcontour"
           }
          ],
          "mesh3d": [
           {
            "colorbar": {
             "outlinewidth": 0,
             "ticks": ""
            },
            "type": "mesh3d"
           }
          ],
          "parcoords": [
           {
            "line": {
             "colorbar": {
              "outlinewidth": 0,
              "ticks": ""
             }
            },
            "type": "parcoords"
           }
          ],
          "pie": [
           {
            "automargin": true,
            "type": "pie"
           }
          ],
          "scatter": [
           {
            "fillpattern": {
             "fillmode": "overlay",
             "size": 10,
             "solidity": 0.2
            },
            "type": "scatter"
           }
          ],
          "scatter3d": [
           {
            "line": {
             "colorbar": {
              "outlinewidth": 0,
              "ticks": ""
             }
            },
            "marker": {
             "colorbar": {
              "outlinewidth": 0,
              "ticks": ""
             }
            },
            "type": "scatter3d"
           }
          ],
          "scattercarpet": [
           {
            "marker": {
             "colorbar": {
              "outlinewidth": 0,
              "ticks": ""
             }
            },
            "type": "scattercarpet"
           }
          ],
          "scattergeo": [
           {
            "marker": {
             "colorbar": {
              "outlinewidth": 0,
              "ticks": ""
             }
            },
            "type": "scattergeo"
           }
          ],
          "scattergl": [
           {
            "marker": {
             "colorbar": {
              "outlinewidth": 0,
              "ticks": ""
             }
            },
            "type": "scattergl"
           }
          ],
          "scattermap": [
           {
            "marker": {
             "colorbar": {
              "outlinewidth": 0,
              "ticks": ""
             }
            },
            "type": "scattermap"
           }
          ],
          "scattermapbox": [
           {
            "marker": {
             "colorbar": {
              "outlinewidth": 0,
              "ticks": ""
             }
            },
            "type": "scattermapbox"
           }
          ],
          "scatterpolar": [
           {
            "marker": {
             "colorbar": {
              "outlinewidth": 0,
              "ticks": ""
             }
            },
            "type": "scatterpolar"
           }
          ],
          "scatterpolargl": [
           {
            "marker": {
             "colorbar": {
              "outlinewidth": 0,
              "ticks": ""
             }
            },
            "type": "scatterpolargl"
           }
          ],
          "scatterternary": [
           {
            "marker": {
             "colorbar": {
              "outlinewidth": 0,
              "ticks": ""
             }
            },
            "type": "scatterternary"
           }
          ],
          "surface": [
           {
            "colorbar": {
             "outlinewidth": 0,
             "ticks": ""
            },
            "colorscale": [
             [
              0,
              "#0d0887"
             ],
             [
              0.1111111111111111,
              "#46039f"
             ],
             [
              0.2222222222222222,
              "#7201a8"
             ],
             [
              0.3333333333333333,
              "#9c179e"
             ],
             [
              0.4444444444444444,
              "#bd3786"
             ],
             [
              0.5555555555555556,
              "#d8576b"
             ],
             [
              0.6666666666666666,
              "#ed7953"
             ],
             [
              0.7777777777777778,
              "#fb9f3a"
             ],
             [
              0.8888888888888888,
              "#fdca26"
             ],
             [
              1,
              "#f0f921"
             ]
            ],
            "type": "surface"
           }
          ],
          "table": [
           {
            "cells": {
             "fill": {
              "color": "#EBF0F8"
             },
             "line": {
              "color": "white"
             }
            },
            "header": {
             "fill": {
              "color": "#C8D4E3"
             },
             "line": {
              "color": "white"
             }
            },
            "type": "table"
           }
          ]
         },
         "layout": {
          "annotationdefaults": {
           "arrowcolor": "#2a3f5f",
           "arrowhead": 0,
           "arrowwidth": 1
          },
          "autotypenumbers": "strict",
          "coloraxis": {
           "colorbar": {
            "outlinewidth": 0,
            "ticks": ""
           }
          },
          "colorscale": {
           "diverging": [
            [
             0,
             "#8e0152"
            ],
            [
             0.1,
             "#c51b7d"
            ],
            [
             0.2,
             "#de77ae"
            ],
            [
             0.3,
             "#f1b6da"
            ],
            [
             0.4,
             "#fde0ef"
            ],
            [
             0.5,
             "#f7f7f7"
            ],
            [
             0.6,
             "#e6f5d0"
            ],
            [
             0.7,
             "#b8e186"
            ],
            [
             0.8,
             "#7fbc41"
            ],
            [
             0.9,
             "#4d9221"
            ],
            [
             1,
             "#276419"
            ]
           ],
           "sequential": [
            [
             0,
             "#0d0887"
            ],
            [
             0.1111111111111111,
             "#46039f"
            ],
            [
             0.2222222222222222,
             "#7201a8"
            ],
            [
             0.3333333333333333,
             "#9c179e"
            ],
            [
             0.4444444444444444,
             "#bd3786"
            ],
            [
             0.5555555555555556,
             "#d8576b"
            ],
            [
             0.6666666666666666,
             "#ed7953"
            ],
            [
             0.7777777777777778,
             "#fb9f3a"
            ],
            [
             0.8888888888888888,
             "#fdca26"
            ],
            [
             1,
             "#f0f921"
            ]
           ],
           "sequentialminus": [
            [
             0,
             "#0d0887"
            ],
            [
             0.1111111111111111,
             "#46039f"
            ],
            [
             0.2222222222222222,
             "#7201a8"
            ],
            [
             0.3333333333333333,
             "#9c179e"
            ],
            [
             0.4444444444444444,
             "#bd3786"
            ],
            [
             0.5555555555555556,
             "#d8576b"
            ],
            [
             0.6666666666666666,
             "#ed7953"
            ],
            [
             0.7777777777777778,
             "#fb9f3a"
            ],
            [
             0.8888888888888888,
             "#fdca26"
            ],
            [
             1,
             "#f0f921"
            ]
           ]
          },
          "colorway": [
           "#636efa",
           "#EF553B",
           "#00cc96",
           "#ab63fa",
           "#FFA15A",
           "#19d3f3",
           "#FF6692",
           "#B6E880",
           "#FF97FF",
           "#FECB52"
          ],
          "font": {
           "color": "#2a3f5f"
          },
          "geo": {
           "bgcolor": "white",
           "lakecolor": "white",
           "landcolor": "white",
           "showlakes": true,
           "showland": true,
           "subunitcolor": "#C8D4E3"
          },
          "hoverlabel": {
           "align": "left"
          },
          "hovermode": "closest",
          "mapbox": {
           "style": "light"
          },
          "paper_bgcolor": "white",
          "plot_bgcolor": "white",
          "polar": {
           "angularaxis": {
            "gridcolor": "#EBF0F8",
            "linecolor": "#EBF0F8",
            "ticks": ""
           },
           "bgcolor": "white",
           "radialaxis": {
            "gridcolor": "#EBF0F8",
            "linecolor": "#EBF0F8",
            "ticks": ""
           }
          },
          "scene": {
           "xaxis": {
            "backgroundcolor": "white",
            "gridcolor": "#DFE8F3",
            "gridwidth": 2,
            "linecolor": "#EBF0F8",
            "showbackground": true,
            "ticks": "",
            "zerolinecolor": "#EBF0F8"
           },
           "yaxis": {
            "backgroundcolor": "white",
            "gridcolor": "#DFE8F3",
            "gridwidth": 2,
            "linecolor": "#EBF0F8",
            "showbackground": true,
            "ticks": "",
            "zerolinecolor": "#EBF0F8"
           },
           "zaxis": {
            "backgroundcolor": "white",
            "gridcolor": "#DFE8F3",
            "gridwidth": 2,
            "linecolor": "#EBF0F8",
            "showbackground": true,
            "ticks": "",
            "zerolinecolor": "#EBF0F8"
           }
          },
          "shapedefaults": {
           "line": {
            "color": "#2a3f5f"
           }
          },
          "ternary": {
           "aaxis": {
            "gridcolor": "#DFE8F3",
            "linecolor": "#A2B1C6",
            "ticks": ""
           },
           "baxis": {
            "gridcolor": "#DFE8F3",
            "linecolor": "#A2B1C6",
            "ticks": ""
           },
           "bgcolor": "white",
           "caxis": {
            "gridcolor": "#DFE8F3",
            "linecolor": "#A2B1C6",
            "ticks": ""
           }
          },
          "title": {
           "x": 0.05
          },
          "xaxis": {
           "automargin": true,
           "gridcolor": "#EBF0F8",
           "linecolor": "#EBF0F8",
           "ticks": "",
           "title": {
            "standoff": 15
           },
           "zerolinecolor": "#EBF0F8",
           "zerolinewidth": 2
          },
          "yaxis": {
           "automargin": true,
           "gridcolor": "#EBF0F8",
           "linecolor": "#EBF0F8",
           "ticks": "",
           "title": {
            "standoff": 15
           },
           "zerolinecolor": "#EBF0F8",
           "zerolinewidth": 2
          }
         }
        },
        "title": {
         "text": "📈 Feature Correlation Heatmap (Pearson)"
        },
        "xaxis": {
         "dtick": 1,
         "gridcolor": "rgb(0, 0, 0)",
         "side": "top",
         "ticks": ""
        },
        "yaxis": {
         "dtick": 1,
         "ticks": "",
         "ticksuffix": "  "
        }
       }
      }
     },
     "metadata": {},
     "output_type": "display_data"
    }
   ],
   "source": [
    "import plotly.figure_factory as ff\n",
    "\n",
    "# Select only numeric columns\n",
    "numeric_df = data[features + ['Target']].copy()\n",
    "\n",
    "# Calculate correlation matrix\n",
    "corr_matrix = numeric_df.corr().round(2)\n",
    "\n",
    "# Create heatmap\n",
    "fig = ff.create_annotated_heatmap(\n",
    "    z=corr_matrix.values,\n",
    "    x=corr_matrix.columns.tolist(),\n",
    "    y=corr_matrix.index.tolist(),\n",
    "    colorscale='Blues',\n",
    "    showscale=True,\n",
    "    annotation_text=corr_matrix.values.round(2)\n",
    ")\n",
    "\n",
    "fig.update_layout(\n",
    "    title='📈 Feature Correlation Heatmap (Pearson)',\n",
    "    template='plotly_white',\n",
    "    height=600\n",
    ")\n",
    "\n",
    "fig.show()\n",
    "\n",
    "fig.write_image(\"assets/Feature_Correlation.png\")"
   ]
  },
  {
   "cell_type": "code",
   "execution_count": 30,
   "id": "fa23d440",
   "metadata": {},
   "outputs": [
    {
     "data": {
      "application/vnd.plotly.v1+json": {
       "config": {
        "plotlyServerURL": "https://plot.ly"
       },
       "data": [
        {
         "line": {
          "color": "blue"
         },
         "mode": "lines",
         "name": "Actual Closing Price",
         "type": "scatter",
         "x": [
          "2023-04-25T00:00:00.000000000",
          "2023-04-26T00:00:00.000000000",
          "2023-04-27T00:00:00.000000000",
          "2023-04-28T00:00:00.000000000",
          "2023-04-29T00:00:00.000000000",
          "2023-04-30T00:00:00.000000000",
          "2023-05-01T00:00:00.000000000",
          "2023-05-02T00:00:00.000000000",
          "2023-05-03T00:00:00.000000000",
          "2023-05-04T00:00:00.000000000",
          "2023-05-05T00:00:00.000000000",
          "2023-05-06T00:00:00.000000000",
          "2023-05-07T00:00:00.000000000",
          "2023-05-08T00:00:00.000000000",
          "2023-05-09T00:00:00.000000000",
          "2023-05-10T00:00:00.000000000",
          "2023-05-11T00:00:00.000000000",
          "2023-05-12T00:00:00.000000000",
          "2023-05-13T00:00:00.000000000",
          "2023-05-14T00:00:00.000000000",
          "2023-05-15T00:00:00.000000000",
          "2023-05-16T00:00:00.000000000",
          "2023-05-17T00:00:00.000000000",
          "2023-05-18T00:00:00.000000000",
          "2023-05-19T00:00:00.000000000",
          "2023-05-20T00:00:00.000000000",
          "2023-05-21T00:00:00.000000000",
          "2023-05-22T00:00:00.000000000",
          "2023-05-23T00:00:00.000000000",
          "2023-05-24T00:00:00.000000000",
          "2023-05-25T00:00:00.000000000",
          "2023-05-26T00:00:00.000000000",
          "2023-05-27T00:00:00.000000000",
          "2023-05-28T00:00:00.000000000",
          "2023-05-29T00:00:00.000000000",
          "2023-05-30T00:00:00.000000000",
          "2023-05-31T00:00:00.000000000",
          "2023-06-01T00:00:00.000000000",
          "2023-06-02T00:00:00.000000000",
          "2023-06-03T00:00:00.000000000",
          "2023-06-04T00:00:00.000000000",
          "2023-06-05T00:00:00.000000000",
          "2023-06-06T00:00:00.000000000",
          "2023-06-07T00:00:00.000000000",
          "2023-06-08T00:00:00.000000000",
          "2023-06-09T00:00:00.000000000",
          "2023-06-10T00:00:00.000000000",
          "2023-06-11T00:00:00.000000000",
          "2023-06-12T00:00:00.000000000",
          "2023-06-13T00:00:00.000000000",
          "2023-06-14T00:00:00.000000000",
          "2023-06-15T00:00:00.000000000",
          "2023-06-16T00:00:00.000000000",
          "2023-06-17T00:00:00.000000000",
          "2023-06-18T00:00:00.000000000",
          "2023-06-19T00:00:00.000000000",
          "2023-06-20T00:00:00.000000000",
          "2023-06-21T00:00:00.000000000",
          "2023-06-22T00:00:00.000000000",
          "2023-06-23T00:00:00.000000000",
          "2023-06-24T00:00:00.000000000",
          "2023-06-25T00:00:00.000000000",
          "2023-06-26T00:00:00.000000000",
          "2023-06-27T00:00:00.000000000",
          "2023-06-28T00:00:00.000000000",
          "2023-06-29T00:00:00.000000000",
          "2023-06-30T00:00:00.000000000",
          "2023-07-01T00:00:00.000000000",
          "2023-07-02T00:00:00.000000000",
          "2023-07-03T00:00:00.000000000",
          "2023-07-04T00:00:00.000000000",
          "2023-07-05T00:00:00.000000000",
          "2023-07-06T00:00:00.000000000",
          "2023-07-07T00:00:00.000000000",
          "2023-07-08T00:00:00.000000000",
          "2023-07-09T00:00:00.000000000",
          "2023-07-10T00:00:00.000000000",
          "2023-07-11T00:00:00.000000000",
          "2023-07-12T00:00:00.000000000",
          "2023-07-13T00:00:00.000000000",
          "2023-07-14T00:00:00.000000000",
          "2023-07-15T00:00:00.000000000",
          "2023-07-16T00:00:00.000000000",
          "2023-07-17T00:00:00.000000000",
          "2023-07-18T00:00:00.000000000",
          "2023-07-19T00:00:00.000000000",
          "2023-07-20T00:00:00.000000000",
          "2023-07-21T00:00:00.000000000",
          "2023-07-22T00:00:00.000000000",
          "2023-07-23T00:00:00.000000000",
          "2023-07-24T00:00:00.000000000",
          "2023-07-25T00:00:00.000000000",
          "2023-07-26T00:00:00.000000000",
          "2023-07-27T00:00:00.000000000",
          "2023-07-28T00:00:00.000000000",
          "2023-07-29T00:00:00.000000000",
          "2023-07-30T00:00:00.000000000",
          "2023-07-31T00:00:00.000000000",
          "2023-08-01T00:00:00.000000000",
          "2023-08-02T00:00:00.000000000",
          "2023-08-03T00:00:00.000000000",
          "2023-08-04T00:00:00.000000000",
          "2023-08-05T00:00:00.000000000",
          "2023-08-06T00:00:00.000000000",
          "2023-08-07T00:00:00.000000000",
          "2023-08-08T00:00:00.000000000",
          "2023-08-09T00:00:00.000000000",
          "2023-08-10T00:00:00.000000000",
          "2023-08-11T00:00:00.000000000",
          "2023-08-12T00:00:00.000000000",
          "2023-08-13T00:00:00.000000000",
          "2023-08-14T00:00:00.000000000",
          "2023-08-15T00:00:00.000000000",
          "2023-08-16T00:00:00.000000000",
          "2023-08-17T00:00:00.000000000",
          "2023-08-18T00:00:00.000000000",
          "2023-08-19T00:00:00.000000000",
          "2023-08-20T00:00:00.000000000",
          "2023-08-21T00:00:00.000000000",
          "2023-08-22T00:00:00.000000000",
          "2023-08-23T00:00:00.000000000",
          "2023-08-24T00:00:00.000000000",
          "2023-08-25T00:00:00.000000000",
          "2023-08-26T00:00:00.000000000",
          "2023-08-27T00:00:00.000000000",
          "2023-08-28T00:00:00.000000000",
          "2023-08-29T00:00:00.000000000",
          "2023-08-30T00:00:00.000000000",
          "2023-08-31T00:00:00.000000000",
          "2023-09-01T00:00:00.000000000",
          "2023-09-02T00:00:00.000000000",
          "2023-09-03T00:00:00.000000000",
          "2023-09-04T00:00:00.000000000",
          "2023-09-05T00:00:00.000000000",
          "2023-09-06T00:00:00.000000000",
          "2023-09-07T00:00:00.000000000",
          "2023-09-08T00:00:00.000000000",
          "2023-09-09T00:00:00.000000000",
          "2023-09-10T00:00:00.000000000",
          "2023-09-11T00:00:00.000000000",
          "2023-09-12T00:00:00.000000000",
          "2023-09-13T00:00:00.000000000",
          "2023-09-14T00:00:00.000000000",
          "2023-09-15T00:00:00.000000000",
          "2023-09-16T00:00:00.000000000",
          "2023-09-17T00:00:00.000000000",
          "2023-09-18T00:00:00.000000000",
          "2023-09-19T00:00:00.000000000",
          "2023-09-20T00:00:00.000000000",
          "2023-09-21T00:00:00.000000000",
          "2023-09-22T00:00:00.000000000",
          "2023-09-23T00:00:00.000000000",
          "2023-09-24T00:00:00.000000000",
          "2023-09-25T00:00:00.000000000",
          "2023-09-26T00:00:00.000000000",
          "2023-09-27T00:00:00.000000000",
          "2023-09-28T00:00:00.000000000",
          "2023-09-29T00:00:00.000000000",
          "2023-09-30T00:00:00.000000000",
          "2023-10-01T00:00:00.000000000",
          "2023-10-02T00:00:00.000000000",
          "2023-10-03T00:00:00.000000000",
          "2023-10-04T00:00:00.000000000",
          "2023-10-05T00:00:00.000000000",
          "2023-10-06T00:00:00.000000000",
          "2023-10-07T00:00:00.000000000",
          "2023-10-08T00:00:00.000000000",
          "2023-10-09T00:00:00.000000000",
          "2023-10-10T00:00:00.000000000",
          "2023-10-11T00:00:00.000000000",
          "2023-10-12T00:00:00.000000000",
          "2023-10-13T00:00:00.000000000",
          "2023-10-14T00:00:00.000000000",
          "2023-10-15T00:00:00.000000000",
          "2023-10-16T00:00:00.000000000",
          "2023-10-17T00:00:00.000000000",
          "2023-10-18T00:00:00.000000000",
          "2023-10-19T00:00:00.000000000",
          "2023-10-20T00:00:00.000000000",
          "2023-10-21T00:00:00.000000000",
          "2023-10-22T00:00:00.000000000",
          "2023-10-23T00:00:00.000000000",
          "2023-10-24T00:00:00.000000000",
          "2023-10-25T00:00:00.000000000",
          "2023-10-26T00:00:00.000000000",
          "2023-10-27T00:00:00.000000000",
          "2023-10-28T00:00:00.000000000",
          "2023-10-29T00:00:00.000000000",
          "2023-10-30T00:00:00.000000000",
          "2023-10-31T00:00:00.000000000",
          "2023-11-01T00:00:00.000000000",
          "2023-11-02T00:00:00.000000000",
          "2023-11-03T00:00:00.000000000",
          "2023-11-04T00:00:00.000000000",
          "2023-11-05T00:00:00.000000000",
          "2023-11-06T00:00:00.000000000",
          "2023-11-07T00:00:00.000000000",
          "2023-11-08T00:00:00.000000000",
          "2023-11-09T00:00:00.000000000",
          "2023-11-10T00:00:00.000000000",
          "2023-11-11T00:00:00.000000000",
          "2023-11-12T00:00:00.000000000",
          "2023-11-13T00:00:00.000000000",
          "2023-11-14T00:00:00.000000000",
          "2023-11-15T00:00:00.000000000",
          "2023-11-16T00:00:00.000000000",
          "2023-11-17T00:00:00.000000000",
          "2023-11-18T00:00:00.000000000",
          "2023-11-19T00:00:00.000000000",
          "2023-11-20T00:00:00.000000000",
          "2023-11-21T00:00:00.000000000",
          "2023-11-22T00:00:00.000000000",
          "2023-11-23T00:00:00.000000000",
          "2023-11-24T00:00:00.000000000",
          "2023-11-25T00:00:00.000000000",
          "2023-11-26T00:00:00.000000000",
          "2023-11-27T00:00:00.000000000",
          "2023-11-28T00:00:00.000000000",
          "2023-11-29T00:00:00.000000000",
          "2023-11-30T00:00:00.000000000",
          "2023-12-01T00:00:00.000000000",
          "2023-12-02T00:00:00.000000000",
          "2023-12-03T00:00:00.000000000",
          "2023-12-04T00:00:00.000000000",
          "2023-12-05T00:00:00.000000000",
          "2023-12-06T00:00:00.000000000",
          "2023-12-07T00:00:00.000000000",
          "2023-12-08T00:00:00.000000000",
          "2023-12-09T00:00:00.000000000",
          "2023-12-10T00:00:00.000000000",
          "2023-12-11T00:00:00.000000000",
          "2023-12-12T00:00:00.000000000",
          "2023-12-13T00:00:00.000000000",
          "2023-12-14T00:00:00.000000000",
          "2023-12-15T00:00:00.000000000",
          "2023-12-16T00:00:00.000000000",
          "2023-12-17T00:00:00.000000000",
          "2023-12-18T00:00:00.000000000",
          "2023-12-19T00:00:00.000000000",
          "2023-12-20T00:00:00.000000000",
          "2023-12-21T00:00:00.000000000",
          "2023-12-22T00:00:00.000000000",
          "2023-12-23T00:00:00.000000000",
          "2023-12-24T00:00:00.000000000",
          "2023-12-25T00:00:00.000000000",
          "2023-12-26T00:00:00.000000000",
          "2023-12-27T00:00:00.000000000",
          "2023-12-28T00:00:00.000000000",
          "2023-12-29T00:00:00.000000000",
          "2023-12-30T00:00:00.000000000",
          "2023-12-31T00:00:00.000000000",
          "2024-01-01T00:00:00.000000000",
          "2024-01-02T00:00:00.000000000",
          "2024-01-03T00:00:00.000000000",
          "2024-01-04T00:00:00.000000000",
          "2024-01-05T00:00:00.000000000",
          "2024-01-06T00:00:00.000000000",
          "2024-01-07T00:00:00.000000000",
          "2024-01-08T00:00:00.000000000",
          "2024-01-09T00:00:00.000000000",
          "2024-01-10T00:00:00.000000000",
          "2024-01-11T00:00:00.000000000",
          "2024-01-12T00:00:00.000000000",
          "2024-01-13T00:00:00.000000000",
          "2024-01-14T00:00:00.000000000",
          "2024-01-15T00:00:00.000000000",
          "2024-01-16T00:00:00.000000000",
          "2024-01-17T00:00:00.000000000",
          "2024-01-18T00:00:00.000000000",
          "2024-01-19T00:00:00.000000000",
          "2024-01-20T00:00:00.000000000",
          "2024-01-21T00:00:00.000000000",
          "2024-01-22T00:00:00.000000000",
          "2024-01-23T00:00:00.000000000",
          "2024-01-24T00:00:00.000000000",
          "2024-01-25T00:00:00.000000000",
          "2024-01-26T00:00:00.000000000",
          "2024-01-27T00:00:00.000000000",
          "2024-01-28T00:00:00.000000000",
          "2024-01-29T00:00:00.000000000",
          "2024-01-30T00:00:00.000000000",
          "2024-01-31T00:00:00.000000000",
          "2024-02-01T00:00:00.000000000",
          "2024-02-02T00:00:00.000000000",
          "2024-02-03T00:00:00.000000000",
          "2024-02-04T00:00:00.000000000",
          "2024-02-05T00:00:00.000000000",
          "2024-02-06T00:00:00.000000000",
          "2024-02-07T00:00:00.000000000",
          "2024-02-08T00:00:00.000000000",
          "2024-02-09T00:00:00.000000000",
          "2024-02-10T00:00:00.000000000",
          "2024-02-11T00:00:00.000000000",
          "2024-02-12T00:00:00.000000000",
          "2024-02-13T00:00:00.000000000",
          "2024-02-14T00:00:00.000000000",
          "2024-02-15T00:00:00.000000000",
          "2024-02-16T00:00:00.000000000",
          "2024-02-17T00:00:00.000000000",
          "2024-02-18T00:00:00.000000000",
          "2024-02-19T00:00:00.000000000",
          "2024-02-20T00:00:00.000000000",
          "2024-02-21T00:00:00.000000000",
          "2024-02-22T00:00:00.000000000",
          "2024-02-23T00:00:00.000000000",
          "2024-02-24T00:00:00.000000000",
          "2024-02-25T00:00:00.000000000",
          "2024-02-26T00:00:00.000000000",
          "2024-02-27T00:00:00.000000000",
          "2024-02-28T00:00:00.000000000",
          "2024-02-29T00:00:00.000000000",
          "2024-03-01T00:00:00.000000000",
          "2024-03-02T00:00:00.000000000",
          "2024-03-03T00:00:00.000000000",
          "2024-03-04T00:00:00.000000000",
          "2024-03-05T00:00:00.000000000",
          "2024-03-06T00:00:00.000000000",
          "2024-03-07T00:00:00.000000000",
          "2024-03-08T00:00:00.000000000",
          "2024-03-09T00:00:00.000000000",
          "2024-03-10T00:00:00.000000000",
          "2024-03-11T00:00:00.000000000",
          "2024-03-12T00:00:00.000000000",
          "2024-03-13T00:00:00.000000000",
          "2024-03-14T00:00:00.000000000",
          "2024-03-15T00:00:00.000000000",
          "2024-03-16T00:00:00.000000000",
          "2024-03-17T00:00:00.000000000",
          "2024-03-18T00:00:00.000000000",
          "2024-03-19T00:00:00.000000000",
          "2024-03-20T00:00:00.000000000",
          "2024-03-21T00:00:00.000000000",
          "2024-03-22T00:00:00.000000000",
          "2024-03-23T00:00:00.000000000",
          "2024-03-24T00:00:00.000000000",
          "2024-03-25T00:00:00.000000000",
          "2024-03-26T00:00:00.000000000",
          "2024-03-27T00:00:00.000000000",
          "2024-03-28T00:00:00.000000000",
          "2024-03-29T00:00:00.000000000",
          "2024-03-30T00:00:00.000000000",
          "2024-03-31T00:00:00.000000000",
          "2024-04-01T00:00:00.000000000",
          "2024-04-02T00:00:00.000000000",
          "2024-04-03T00:00:00.000000000",
          "2024-04-04T00:00:00.000000000",
          "2024-04-05T00:00:00.000000000",
          "2024-04-06T00:00:00.000000000",
          "2024-04-07T00:00:00.000000000",
          "2024-04-08T00:00:00.000000000",
          "2024-04-09T00:00:00.000000000",
          "2024-04-10T00:00:00.000000000",
          "2024-04-11T00:00:00.000000000",
          "2024-04-12T00:00:00.000000000",
          "2024-04-13T00:00:00.000000000",
          "2024-04-14T00:00:00.000000000",
          "2024-04-15T00:00:00.000000000",
          "2024-04-16T00:00:00.000000000",
          "2024-04-17T00:00:00.000000000",
          "2024-04-18T00:00:00.000000000",
          "2024-04-19T00:00:00.000000000",
          "2024-04-20T00:00:00.000000000",
          "2024-04-21T00:00:00.000000000",
          "2024-04-22T00:00:00.000000000",
          "2024-04-23T00:00:00.000000000",
          "2024-04-24T00:00:00.000000000",
          "2024-04-25T00:00:00.000000000",
          "2024-04-26T00:00:00.000000000",
          "2024-04-27T00:00:00.000000000",
          "2024-04-28T00:00:00.000000000",
          "2024-04-29T00:00:00.000000000",
          "2024-04-30T00:00:00.000000000",
          "2024-05-01T00:00:00.000000000",
          "2024-05-02T00:00:00.000000000",
          "2024-05-03T00:00:00.000000000",
          "2024-05-04T00:00:00.000000000",
          "2024-05-05T00:00:00.000000000",
          "2024-05-06T00:00:00.000000000",
          "2024-05-07T00:00:00.000000000",
          "2024-05-08T00:00:00.000000000",
          "2024-05-09T00:00:00.000000000",
          "2024-05-10T00:00:00.000000000",
          "2024-05-11T00:00:00.000000000",
          "2024-05-12T00:00:00.000000000",
          "2024-05-13T00:00:00.000000000",
          "2024-05-14T00:00:00.000000000",
          "2024-05-15T00:00:00.000000000",
          "2024-05-16T00:00:00.000000000",
          "2024-05-17T00:00:00.000000000",
          "2024-05-18T00:00:00.000000000",
          "2024-05-19T00:00:00.000000000",
          "2024-05-20T00:00:00.000000000",
          "2024-05-21T00:00:00.000000000",
          "2024-05-22T00:00:00.000000000",
          "2024-05-23T00:00:00.000000000",
          "2024-05-24T00:00:00.000000000",
          "2024-05-25T00:00:00.000000000",
          "2024-05-26T00:00:00.000000000",
          "2024-05-27T00:00:00.000000000",
          "2024-05-28T00:00:00.000000000",
          "2024-05-29T00:00:00.000000000",
          "2024-05-30T00:00:00.000000000",
          "2024-05-31T00:00:00.000000000",
          "2024-06-01T00:00:00.000000000",
          "2024-06-02T00:00:00.000000000",
          "2024-06-03T00:00:00.000000000",
          "2024-06-04T00:00:00.000000000",
          "2024-06-05T00:00:00.000000000",
          "2024-06-06T00:00:00.000000000",
          "2024-06-07T00:00:00.000000000",
          "2024-06-08T00:00:00.000000000",
          "2024-06-09T00:00:00.000000000",
          "2024-06-10T00:00:00.000000000",
          "2024-06-11T00:00:00.000000000",
          "2024-06-12T00:00:00.000000000",
          "2024-06-13T00:00:00.000000000",
          "2024-06-14T00:00:00.000000000",
          "2024-06-15T00:00:00.000000000",
          "2024-06-16T00:00:00.000000000",
          "2024-06-17T00:00:00.000000000",
          "2024-06-18T00:00:00.000000000",
          "2024-06-19T00:00:00.000000000",
          "2024-06-20T00:00:00.000000000",
          "2024-06-21T00:00:00.000000000",
          "2024-06-22T00:00:00.000000000",
          "2024-06-23T00:00:00.000000000",
          "2024-06-24T00:00:00.000000000",
          "2024-06-25T00:00:00.000000000",
          "2024-06-26T00:00:00.000000000",
          "2024-06-27T00:00:00.000000000",
          "2024-06-28T00:00:00.000000000",
          "2024-06-29T00:00:00.000000000",
          "2024-06-30T00:00:00.000000000",
          "2024-07-01T00:00:00.000000000",
          "2024-07-02T00:00:00.000000000",
          "2024-07-03T00:00:00.000000000",
          "2024-07-04T00:00:00.000000000",
          "2024-07-05T00:00:00.000000000",
          "2024-07-06T00:00:00.000000000",
          "2024-07-07T00:00:00.000000000",
          "2024-07-08T00:00:00.000000000",
          "2024-07-09T00:00:00.000000000",
          "2024-07-10T00:00:00.000000000",
          "2024-07-11T00:00:00.000000000",
          "2024-07-12T00:00:00.000000000",
          "2024-07-13T00:00:00.000000000",
          "2024-07-14T00:00:00.000000000",
          "2024-07-15T00:00:00.000000000",
          "2024-07-16T00:00:00.000000000",
          "2024-07-17T00:00:00.000000000",
          "2024-07-18T00:00:00.000000000",
          "2024-07-19T00:00:00.000000000",
          "2024-07-20T00:00:00.000000000",
          "2024-07-21T00:00:00.000000000",
          "2024-07-22T00:00:00.000000000",
          "2024-07-23T00:00:00.000000000",
          "2024-07-24T00:00:00.000000000",
          "2024-07-25T00:00:00.000000000",
          "2024-07-26T00:00:00.000000000",
          "2024-07-27T00:00:00.000000000",
          "2024-07-28T00:00:00.000000000",
          "2024-07-29T00:00:00.000000000",
          "2024-07-30T00:00:00.000000000",
          "2024-07-31T00:00:00.000000000",
          "2024-08-01T00:00:00.000000000",
          "2024-08-02T00:00:00.000000000",
          "2024-08-03T00:00:00.000000000",
          "2024-08-04T00:00:00.000000000",
          "2024-08-05T00:00:00.000000000",
          "2024-08-06T00:00:00.000000000",
          "2024-08-07T00:00:00.000000000",
          "2024-08-08T00:00:00.000000000",
          "2024-08-09T00:00:00.000000000",
          "2024-08-10T00:00:00.000000000",
          "2024-08-11T00:00:00.000000000",
          "2024-08-12T00:00:00.000000000",
          "2024-08-13T00:00:00.000000000",
          "2024-08-14T00:00:00.000000000",
          "2024-08-15T00:00:00.000000000",
          "2024-08-16T00:00:00.000000000",
          "2024-08-17T00:00:00.000000000",
          "2024-08-18T00:00:00.000000000",
          "2024-08-19T00:00:00.000000000",
          "2024-08-20T00:00:00.000000000",
          "2024-08-21T00:00:00.000000000",
          "2024-08-22T00:00:00.000000000",
          "2024-08-23T00:00:00.000000000",
          "2024-08-24T00:00:00.000000000",
          "2024-08-25T00:00:00.000000000",
          "2024-08-26T00:00:00.000000000",
          "2024-08-27T00:00:00.000000000",
          "2024-08-28T00:00:00.000000000",
          "2024-08-29T00:00:00.000000000",
          "2024-08-30T00:00:00.000000000",
          "2024-08-31T00:00:00.000000000",
          "2024-09-01T00:00:00.000000000",
          "2024-09-02T00:00:00.000000000",
          "2024-09-03T00:00:00.000000000",
          "2024-09-04T00:00:00.000000000",
          "2024-09-05T00:00:00.000000000",
          "2024-09-06T00:00:00.000000000",
          "2024-09-07T00:00:00.000000000",
          "2024-09-08T00:00:00.000000000",
          "2024-09-09T00:00:00.000000000",
          "2024-09-10T00:00:00.000000000",
          "2024-09-11T00:00:00.000000000",
          "2024-09-12T00:00:00.000000000",
          "2024-09-13T00:00:00.000000000",
          "2024-09-14T00:00:00.000000000",
          "2024-09-15T00:00:00.000000000",
          "2024-09-16T00:00:00.000000000",
          "2024-09-17T00:00:00.000000000",
          "2024-09-18T00:00:00.000000000",
          "2024-09-19T00:00:00.000000000",
          "2024-09-20T00:00:00.000000000",
          "2024-09-21T00:00:00.000000000",
          "2024-09-22T00:00:00.000000000",
          "2024-09-23T00:00:00.000000000",
          "2024-09-24T00:00:00.000000000",
          "2024-09-25T00:00:00.000000000",
          "2024-09-26T00:00:00.000000000",
          "2024-09-27T00:00:00.000000000",
          "2024-09-28T00:00:00.000000000",
          "2024-09-29T00:00:00.000000000",
          "2024-09-30T00:00:00.000000000",
          "2024-10-01T00:00:00.000000000",
          "2024-10-02T00:00:00.000000000",
          "2024-10-03T00:00:00.000000000",
          "2024-10-04T00:00:00.000000000",
          "2024-10-05T00:00:00.000000000",
          "2024-10-06T00:00:00.000000000",
          "2024-10-07T00:00:00.000000000",
          "2024-10-08T00:00:00.000000000",
          "2024-10-09T00:00:00.000000000",
          "2024-10-10T00:00:00.000000000",
          "2024-10-11T00:00:00.000000000",
          "2024-10-12T00:00:00.000000000",
          "2024-10-13T00:00:00.000000000",
          "2024-10-14T00:00:00.000000000",
          "2024-10-15T00:00:00.000000000",
          "2024-10-16T00:00:00.000000000",
          "2024-10-17T00:00:00.000000000",
          "2024-10-18T00:00:00.000000000",
          "2024-10-19T00:00:00.000000000",
          "2024-10-20T00:00:00.000000000",
          "2024-10-21T00:00:00.000000000",
          "2024-10-22T00:00:00.000000000",
          "2024-10-23T00:00:00.000000000",
          "2024-10-24T00:00:00.000000000",
          "2024-10-25T00:00:00.000000000",
          "2024-10-26T00:00:00.000000000",
          "2024-10-27T00:00:00.000000000",
          "2024-10-28T00:00:00.000000000",
          "2024-10-29T00:00:00.000000000",
          "2024-10-30T00:00:00.000000000",
          "2024-10-31T00:00:00.000000000",
          "2024-11-01T00:00:00.000000000",
          "2024-11-02T00:00:00.000000000",
          "2024-11-03T00:00:00.000000000",
          "2024-11-04T00:00:00.000000000",
          "2024-11-05T00:00:00.000000000",
          "2024-11-06T00:00:00.000000000",
          "2024-11-07T00:00:00.000000000",
          "2024-11-08T00:00:00.000000000",
          "2024-11-09T00:00:00.000000000",
          "2024-11-10T00:00:00.000000000",
          "2024-11-11T00:00:00.000000000",
          "2024-11-12T00:00:00.000000000",
          "2024-11-13T00:00:00.000000000",
          "2024-11-14T00:00:00.000000000",
          "2024-11-15T00:00:00.000000000",
          "2024-11-16T00:00:00.000000000",
          "2024-11-17T00:00:00.000000000",
          "2024-11-18T00:00:00.000000000",
          "2024-11-19T00:00:00.000000000",
          "2024-11-20T00:00:00.000000000",
          "2024-11-21T00:00:00.000000000",
          "2024-11-22T00:00:00.000000000",
          "2024-11-23T00:00:00.000000000",
          "2024-11-24T00:00:00.000000000",
          "2024-11-25T00:00:00.000000000",
          "2024-11-26T00:00:00.000000000",
          "2024-11-27T00:00:00.000000000",
          "2024-11-28T00:00:00.000000000",
          "2024-11-29T00:00:00.000000000",
          "2024-11-30T00:00:00.000000000",
          "2024-12-01T00:00:00.000000000",
          "2024-12-02T00:00:00.000000000",
          "2024-12-03T00:00:00.000000000",
          "2024-12-04T00:00:00.000000000",
          "2024-12-05T00:00:00.000000000",
          "2024-12-06T00:00:00.000000000",
          "2024-12-07T00:00:00.000000000",
          "2024-12-08T00:00:00.000000000",
          "2024-12-09T00:00:00.000000000",
          "2024-12-10T00:00:00.000000000",
          "2024-12-11T00:00:00.000000000",
          "2024-12-12T00:00:00.000000000",
          "2024-12-13T00:00:00.000000000",
          "2024-12-14T00:00:00.000000000",
          "2024-12-15T00:00:00.000000000",
          "2024-12-16T00:00:00.000000000",
          "2024-12-17T00:00:00.000000000",
          "2024-12-18T00:00:00.000000000",
          "2024-12-19T00:00:00.000000000",
          "2024-12-20T00:00:00.000000000",
          "2024-12-21T00:00:00.000000000",
          "2024-12-22T00:00:00.000000000",
          "2024-12-23T00:00:00.000000000",
          "2024-12-24T00:00:00.000000000",
          "2024-12-25T00:00:00.000000000",
          "2024-12-26T00:00:00.000000000",
          "2024-12-27T00:00:00.000000000",
          "2024-12-28T00:00:00.000000000",
          "2024-12-29T00:00:00.000000000",
          "2024-12-30T00:00:00.000000000",
          "2024-12-31T00:00:00.000000000",
          "2025-01-01T00:00:00.000000000",
          "2025-01-02T00:00:00.000000000",
          "2025-01-03T00:00:00.000000000",
          "2025-01-04T00:00:00.000000000",
          "2025-01-05T00:00:00.000000000",
          "2025-01-06T00:00:00.000000000",
          "2025-01-07T00:00:00.000000000",
          "2025-01-08T00:00:00.000000000",
          "2025-01-09T00:00:00.000000000",
          "2025-01-10T00:00:00.000000000",
          "2025-01-11T00:00:00.000000000",
          "2025-01-12T00:00:00.000000000",
          "2025-01-13T00:00:00.000000000",
          "2025-01-14T00:00:00.000000000",
          "2025-01-15T00:00:00.000000000",
          "2025-01-16T00:00:00.000000000",
          "2025-01-17T00:00:00.000000000",
          "2025-01-18T00:00:00.000000000",
          "2025-01-19T00:00:00.000000000",
          "2025-01-20T00:00:00.000000000",
          "2025-01-21T00:00:00.000000000",
          "2025-01-22T00:00:00.000000000",
          "2025-01-23T00:00:00.000000000",
          "2025-01-24T00:00:00.000000000",
          "2025-01-25T00:00:00.000000000",
          "2025-01-26T00:00:00.000000000",
          "2025-01-27T00:00:00.000000000",
          "2025-01-28T00:00:00.000000000",
          "2025-01-29T00:00:00.000000000",
          "2025-01-30T00:00:00.000000000",
          "2025-01-31T00:00:00.000000000",
          "2025-02-01T00:00:00.000000000",
          "2025-02-02T00:00:00.000000000",
          "2025-02-03T00:00:00.000000000",
          "2025-02-04T00:00:00.000000000",
          "2025-02-05T00:00:00.000000000",
          "2025-02-06T00:00:00.000000000",
          "2025-02-07T00:00:00.000000000",
          "2025-02-08T00:00:00.000000000",
          "2025-02-09T00:00:00.000000000",
          "2025-02-10T00:00:00.000000000",
          "2025-02-11T00:00:00.000000000",
          "2025-02-12T00:00:00.000000000",
          "2025-02-13T00:00:00.000000000",
          "2025-02-14T00:00:00.000000000",
          "2025-02-15T00:00:00.000000000",
          "2025-02-16T00:00:00.000000000",
          "2025-02-17T00:00:00.000000000",
          "2025-02-18T00:00:00.000000000",
          "2025-02-19T00:00:00.000000000",
          "2025-02-20T00:00:00.000000000",
          "2025-02-21T00:00:00.000000000",
          "2025-02-22T00:00:00.000000000",
          "2025-02-23T00:00:00.000000000",
          "2025-02-24T00:00:00.000000000",
          "2025-02-25T00:00:00.000000000",
          "2025-02-26T00:00:00.000000000",
          "2025-02-27T00:00:00.000000000",
          "2025-02-28T00:00:00.000000000",
          "2025-03-01T00:00:00.000000000",
          "2025-03-02T00:00:00.000000000",
          "2025-03-03T00:00:00.000000000",
          "2025-03-04T00:00:00.000000000",
          "2025-03-05T00:00:00.000000000",
          "2025-03-06T00:00:00.000000000",
          "2025-03-07T00:00:00.000000000",
          "2025-03-08T00:00:00.000000000",
          "2025-03-09T00:00:00.000000000",
          "2025-03-10T00:00:00.000000000",
          "2025-03-11T00:00:00.000000000",
          "2025-03-12T00:00:00.000000000",
          "2025-03-13T00:00:00.000000000",
          "2025-03-14T00:00:00.000000000",
          "2025-03-15T00:00:00.000000000",
          "2025-03-16T00:00:00.000000000",
          "2025-03-17T00:00:00.000000000",
          "2025-03-18T00:00:00.000000000",
          "2025-03-19T00:00:00.000000000",
          "2025-03-20T00:00:00.000000000",
          "2025-03-21T00:00:00.000000000",
          "2025-03-22T00:00:00.000000000",
          "2025-03-23T00:00:00.000000000",
          "2025-03-24T00:00:00.000000000",
          "2025-03-25T00:00:00.000000000",
          "2025-03-26T00:00:00.000000000",
          "2025-03-27T00:00:00.000000000",
          "2025-03-28T00:00:00.000000000",
          "2025-03-29T00:00:00.000000000",
          "2025-03-30T00:00:00.000000000",
          "2025-03-31T00:00:00.000000000",
          "2025-04-01T00:00:00.000000000",
          "2025-04-02T00:00:00.000000000"
         ],
         "y": {
          "bdata": "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",
          "dtype": "f8"
         }
        },
        {
         "line": {
          "color": "red",
          "dash": "dash"
         },
         "mode": "lines",
         "name": "Predicted Closing Price",
         "type": "scatter",
         "x": [
          "2023-04-25T00:00:00.000000000",
          "2023-04-26T00:00:00.000000000",
          "2023-04-27T00:00:00.000000000",
          "2023-04-28T00:00:00.000000000",
          "2023-04-29T00:00:00.000000000",
          "2023-04-30T00:00:00.000000000",
          "2023-05-01T00:00:00.000000000",
          "2023-05-02T00:00:00.000000000",
          "2023-05-03T00:00:00.000000000",
          "2023-05-04T00:00:00.000000000",
          "2023-05-05T00:00:00.000000000",
          "2023-05-06T00:00:00.000000000",
          "2023-05-07T00:00:00.000000000",
          "2023-05-08T00:00:00.000000000",
          "2023-05-09T00:00:00.000000000",
          "2023-05-10T00:00:00.000000000",
          "2023-05-11T00:00:00.000000000",
          "2023-05-12T00:00:00.000000000",
          "2023-05-13T00:00:00.000000000",
          "2023-05-14T00:00:00.000000000",
          "2023-05-15T00:00:00.000000000",
          "2023-05-16T00:00:00.000000000",
          "2023-05-17T00:00:00.000000000",
          "2023-05-18T00:00:00.000000000",
          "2023-05-19T00:00:00.000000000",
          "2023-05-20T00:00:00.000000000",
          "2023-05-21T00:00:00.000000000",
          "2023-05-22T00:00:00.000000000",
          "2023-05-23T00:00:00.000000000",
          "2023-05-24T00:00:00.000000000",
          "2023-05-25T00:00:00.000000000",
          "2023-05-26T00:00:00.000000000",
          "2023-05-27T00:00:00.000000000",
          "2023-05-28T00:00:00.000000000",
          "2023-05-29T00:00:00.000000000",
          "2023-05-30T00:00:00.000000000",
          "2023-05-31T00:00:00.000000000",
          "2023-06-01T00:00:00.000000000",
          "2023-06-02T00:00:00.000000000",
          "2023-06-03T00:00:00.000000000",
          "2023-06-04T00:00:00.000000000",
          "2023-06-05T00:00:00.000000000",
          "2023-06-06T00:00:00.000000000",
          "2023-06-07T00:00:00.000000000",
          "2023-06-08T00:00:00.000000000",
          "2023-06-09T00:00:00.000000000",
          "2023-06-10T00:00:00.000000000",
          "2023-06-11T00:00:00.000000000",
          "2023-06-12T00:00:00.000000000",
          "2023-06-13T00:00:00.000000000",
          "2023-06-14T00:00:00.000000000",
          "2023-06-15T00:00:00.000000000",
          "2023-06-16T00:00:00.000000000",
          "2023-06-17T00:00:00.000000000",
          "2023-06-18T00:00:00.000000000",
          "2023-06-19T00:00:00.000000000",
          "2023-06-20T00:00:00.000000000",
          "2023-06-21T00:00:00.000000000",
          "2023-06-22T00:00:00.000000000",
          "2023-06-23T00:00:00.000000000",
          "2023-06-24T00:00:00.000000000",
          "2023-06-25T00:00:00.000000000",
          "2023-06-26T00:00:00.000000000",
          "2023-06-27T00:00:00.000000000",
          "2023-06-28T00:00:00.000000000",
          "2023-06-29T00:00:00.000000000",
          "2023-06-30T00:00:00.000000000",
          "2023-07-01T00:00:00.000000000",
          "2023-07-02T00:00:00.000000000",
          "2023-07-03T00:00:00.000000000",
          "2023-07-04T00:00:00.000000000",
          "2023-07-05T00:00:00.000000000",
          "2023-07-06T00:00:00.000000000",
          "2023-07-07T00:00:00.000000000",
          "2023-07-08T00:00:00.000000000",
          "2023-07-09T00:00:00.000000000",
          "2023-07-10T00:00:00.000000000",
          "2023-07-11T00:00:00.000000000",
          "2023-07-12T00:00:00.000000000",
          "2023-07-13T00:00:00.000000000",
          "2023-07-14T00:00:00.000000000",
          "2023-07-15T00:00:00.000000000",
          "2023-07-16T00:00:00.000000000",
          "2023-07-17T00:00:00.000000000",
          "2023-07-18T00:00:00.000000000",
          "2023-07-19T00:00:00.000000000",
          "2023-07-20T00:00:00.000000000",
          "2023-07-21T00:00:00.000000000",
          "2023-07-22T00:00:00.000000000",
          "2023-07-23T00:00:00.000000000",
          "2023-07-24T00:00:00.000000000",
          "2023-07-25T00:00:00.000000000",
          "2023-07-26T00:00:00.000000000",
          "2023-07-27T00:00:00.000000000",
          "2023-07-28T00:00:00.000000000",
          "2023-07-29T00:00:00.000000000",
          "2023-07-30T00:00:00.000000000",
          "2023-07-31T00:00:00.000000000",
          "2023-08-01T00:00:00.000000000",
          "2023-08-02T00:00:00.000000000",
          "2023-08-03T00:00:00.000000000",
          "2023-08-04T00:00:00.000000000",
          "2023-08-05T00:00:00.000000000",
          "2023-08-06T00:00:00.000000000",
          "2023-08-07T00:00:00.000000000",
          "2023-08-08T00:00:00.000000000",
          "2023-08-09T00:00:00.000000000",
          "2023-08-10T00:00:00.000000000",
          "2023-08-11T00:00:00.000000000",
          "2023-08-12T00:00:00.000000000",
          "2023-08-13T00:00:00.000000000",
          "2023-08-14T00:00:00.000000000",
          "2023-08-15T00:00:00.000000000",
          "2023-08-16T00:00:00.000000000",
          "2023-08-17T00:00:00.000000000",
          "2023-08-18T00:00:00.000000000",
          "2023-08-19T00:00:00.000000000",
          "2023-08-20T00:00:00.000000000",
          "2023-08-21T00:00:00.000000000",
          "2023-08-22T00:00:00.000000000",
          "2023-08-23T00:00:00.000000000",
          "2023-08-24T00:00:00.000000000",
          "2023-08-25T00:00:00.000000000",
          "2023-08-26T00:00:00.000000000",
          "2023-08-27T00:00:00.000000000",
          "2023-08-28T00:00:00.000000000",
          "2023-08-29T00:00:00.000000000",
          "2023-08-30T00:00:00.000000000",
          "2023-08-31T00:00:00.000000000",
          "2023-09-01T00:00:00.000000000",
          "2023-09-02T00:00:00.000000000",
          "2023-09-03T00:00:00.000000000",
          "2023-09-04T00:00:00.000000000",
          "2023-09-05T00:00:00.000000000",
          "2023-09-06T00:00:00.000000000",
          "2023-09-07T00:00:00.000000000",
          "2023-09-08T00:00:00.000000000",
          "2023-09-09T00:00:00.000000000",
          "2023-09-10T00:00:00.000000000",
          "2023-09-11T00:00:00.000000000",
          "2023-09-12T00:00:00.000000000",
          "2023-09-13T00:00:00.000000000",
          "2023-09-14T00:00:00.000000000",
          "2023-09-15T00:00:00.000000000",
          "2023-09-16T00:00:00.000000000",
          "2023-09-17T00:00:00.000000000",
          "2023-09-18T00:00:00.000000000",
          "2023-09-19T00:00:00.000000000",
          "2023-09-20T00:00:00.000000000",
          "2023-09-21T00:00:00.000000000",
          "2023-09-22T00:00:00.000000000",
          "2023-09-23T00:00:00.000000000",
          "2023-09-24T00:00:00.000000000",
          "2023-09-25T00:00:00.000000000",
          "2023-09-26T00:00:00.000000000",
          "2023-09-27T00:00:00.000000000",
          "2023-09-28T00:00:00.000000000",
          "2023-09-29T00:00:00.000000000",
          "2023-09-30T00:00:00.000000000",
          "2023-10-01T00:00:00.000000000",
          "2023-10-02T00:00:00.000000000",
          "2023-10-03T00:00:00.000000000",
          "2023-10-04T00:00:00.000000000",
          "2023-10-05T00:00:00.000000000",
          "2023-10-06T00:00:00.000000000",
          "2023-10-07T00:00:00.000000000",
          "2023-10-08T00:00:00.000000000",
          "2023-10-09T00:00:00.000000000",
          "2023-10-10T00:00:00.000000000",
          "2023-10-11T00:00:00.000000000",
          "2023-10-12T00:00:00.000000000",
          "2023-10-13T00:00:00.000000000",
          "2023-10-14T00:00:00.000000000",
          "2023-10-15T00:00:00.000000000",
          "2023-10-16T00:00:00.000000000",
          "2023-10-17T00:00:00.000000000",
          "2023-10-18T00:00:00.000000000",
          "2023-10-19T00:00:00.000000000",
          "2023-10-20T00:00:00.000000000",
          "2023-10-21T00:00:00.000000000",
          "2023-10-22T00:00:00.000000000",
          "2023-10-23T00:00:00.000000000",
          "2023-10-24T00:00:00.000000000",
          "2023-10-25T00:00:00.000000000",
          "2023-10-26T00:00:00.000000000",
          "2023-10-27T00:00:00.000000000",
          "2023-10-28T00:00:00.000000000",
          "2023-10-29T00:00:00.000000000",
          "2023-10-30T00:00:00.000000000",
          "2023-10-31T00:00:00.000000000",
          "2023-11-01T00:00:00.000000000",
          "2023-11-02T00:00:00.000000000",
          "2023-11-03T00:00:00.000000000",
          "2023-11-04T00:00:00.000000000",
          "2023-11-05T00:00:00.000000000",
          "2023-11-06T00:00:00.000000000",
          "2023-11-07T00:00:00.000000000",
          "2023-11-08T00:00:00.000000000",
          "2023-11-09T00:00:00.000000000",
          "2023-11-10T00:00:00.000000000",
          "2023-11-11T00:00:00.000000000",
          "2023-11-12T00:00:00.000000000",
          "2023-11-13T00:00:00.000000000",
          "2023-11-14T00:00:00.000000000",
          "2023-11-15T00:00:00.000000000",
          "2023-11-16T00:00:00.000000000",
          "2023-11-17T00:00:00.000000000",
          "2023-11-18T00:00:00.000000000",
          "2023-11-19T00:00:00.000000000",
          "2023-11-20T00:00:00.000000000",
          "2023-11-21T00:00:00.000000000",
          "2023-11-22T00:00:00.000000000",
          "2023-11-23T00:00:00.000000000",
          "2023-11-24T00:00:00.000000000",
          "2023-11-25T00:00:00.000000000",
          "2023-11-26T00:00:00.000000000",
          "2023-11-27T00:00:00.000000000",
          "2023-11-28T00:00:00.000000000",
          "2023-11-29T00:00:00.000000000",
          "2023-11-30T00:00:00.000000000",
          "2023-12-01T00:00:00.000000000",
          "2023-12-02T00:00:00.000000000",
          "2023-12-03T00:00:00.000000000",
          "2023-12-04T00:00:00.000000000",
          "2023-12-05T00:00:00.000000000",
          "2023-12-06T00:00:00.000000000",
          "2023-12-07T00:00:00.000000000",
          "2023-12-08T00:00:00.000000000",
          "2023-12-09T00:00:00.000000000",
          "2023-12-10T00:00:00.000000000",
          "2023-12-11T00:00:00.000000000",
          "2023-12-12T00:00:00.000000000",
          "2023-12-13T00:00:00.000000000",
          "2023-12-14T00:00:00.000000000",
          "2023-12-15T00:00:00.000000000",
          "2023-12-16T00:00:00.000000000",
          "2023-12-17T00:00:00.000000000",
          "2023-12-18T00:00:00.000000000",
          "2023-12-19T00:00:00.000000000",
          "2023-12-20T00:00:00.000000000",
          "2023-12-21T00:00:00.000000000",
          "2023-12-22T00:00:00.000000000",
          "2023-12-23T00:00:00.000000000",
          "2023-12-24T00:00:00.000000000",
          "2023-12-25T00:00:00.000000000",
          "2023-12-26T00:00:00.000000000",
          "2023-12-27T00:00:00.000000000",
          "2023-12-28T00:00:00.000000000",
          "2023-12-29T00:00:00.000000000",
          "2023-12-30T00:00:00.000000000",
          "2023-12-31T00:00:00.000000000",
          "2024-01-01T00:00:00.000000000",
          "2024-01-02T00:00:00.000000000",
          "2024-01-03T00:00:00.000000000",
          "2024-01-04T00:00:00.000000000",
          "2024-01-05T00:00:00.000000000",
          "2024-01-06T00:00:00.000000000",
          "2024-01-07T00:00:00.000000000",
          "2024-01-08T00:00:00.000000000",
          "2024-01-09T00:00:00.000000000",
          "2024-01-10T00:00:00.000000000",
          "2024-01-11T00:00:00.000000000",
          "2024-01-12T00:00:00.000000000",
          "2024-01-13T00:00:00.000000000",
          "2024-01-14T00:00:00.000000000",
          "2024-01-15T00:00:00.000000000",
          "2024-01-16T00:00:00.000000000",
          "2024-01-17T00:00:00.000000000",
          "2024-01-18T00:00:00.000000000",
          "2024-01-19T00:00:00.000000000",
          "2024-01-20T00:00:00.000000000",
          "2024-01-21T00:00:00.000000000",
          "2024-01-22T00:00:00.000000000",
          "2024-01-23T00:00:00.000000000",
          "2024-01-24T00:00:00.000000000",
          "2024-01-25T00:00:00.000000000",
          "2024-01-26T00:00:00.000000000",
          "2024-01-27T00:00:00.000000000",
          "2024-01-28T00:00:00.000000000",
          "2024-01-29T00:00:00.000000000",
          "2024-01-30T00:00:00.000000000",
          "2024-01-31T00:00:00.000000000",
          "2024-02-01T00:00:00.000000000",
          "2024-02-02T00:00:00.000000000",
          "2024-02-03T00:00:00.000000000",
          "2024-02-04T00:00:00.000000000",
          "2024-02-05T00:00:00.000000000",
          "2024-02-06T00:00:00.000000000",
          "2024-02-07T00:00:00.000000000",
          "2024-02-08T00:00:00.000000000",
          "2024-02-09T00:00:00.000000000",
          "2024-02-10T00:00:00.000000000",
          "2024-02-11T00:00:00.000000000",
          "2024-02-12T00:00:00.000000000",
          "2024-02-13T00:00:00.000000000",
          "2024-02-14T00:00:00.000000000",
          "2024-02-15T00:00:00.000000000",
          "2024-02-16T00:00:00.000000000",
          "2024-02-17T00:00:00.000000000",
          "2024-02-18T00:00:00.000000000",
          "2024-02-19T00:00:00.000000000",
          "2024-02-20T00:00:00.000000000",
          "2024-02-21T00:00:00.000000000",
          "2024-02-22T00:00:00.000000000",
          "2024-02-23T00:00:00.000000000",
          "2024-02-24T00:00:00.000000000",
          "2024-02-25T00:00:00.000000000",
          "2024-02-26T00:00:00.000000000",
          "2024-02-27T00:00:00.000000000",
          "2024-02-28T00:00:00.000000000",
          "2024-02-29T00:00:00.000000000",
          "2024-03-01T00:00:00.000000000",
          "2024-03-02T00:00:00.000000000",
          "2024-03-03T00:00:00.000000000",
          "2024-03-04T00:00:00.000000000",
          "2024-03-05T00:00:00.000000000",
          "2024-03-06T00:00:00.000000000",
          "2024-03-07T00:00:00.000000000",
          "2024-03-08T00:00:00.000000000",
          "2024-03-09T00:00:00.000000000",
          "2024-03-10T00:00:00.000000000",
          "2024-03-11T00:00:00.000000000",
          "2024-03-12T00:00:00.000000000",
          "2024-03-13T00:00:00.000000000",
          "2024-03-14T00:00:00.000000000",
          "2024-03-15T00:00:00.000000000",
          "2024-03-16T00:00:00.000000000",
          "2024-03-17T00:00:00.000000000",
          "2024-03-18T00:00:00.000000000",
          "2024-03-19T00:00:00.000000000",
          "2024-03-20T00:00:00.000000000",
          "2024-03-21T00:00:00.000000000",
          "2024-03-22T00:00:00.000000000",
          "2024-03-23T00:00:00.000000000",
          "2024-03-24T00:00:00.000000000",
          "2024-03-25T00:00:00.000000000",
          "2024-03-26T00:00:00.000000000",
          "2024-03-27T00:00:00.000000000",
          "2024-03-28T00:00:00.000000000",
          "2024-03-29T00:00:00.000000000",
          "2024-03-30T00:00:00.000000000",
          "2024-03-31T00:00:00.000000000",
          "2024-04-01T00:00:00.000000000",
          "2024-04-02T00:00:00.000000000",
          "2024-04-03T00:00:00.000000000",
          "2024-04-04T00:00:00.000000000",
          "2024-04-05T00:00:00.000000000",
          "2024-04-06T00:00:00.000000000",
          "2024-04-07T00:00:00.000000000",
          "2024-04-08T00:00:00.000000000",
          "2024-04-09T00:00:00.000000000",
          "2024-04-10T00:00:00.000000000",
          "2024-04-11T00:00:00.000000000",
          "2024-04-12T00:00:00.000000000",
          "2024-04-13T00:00:00.000000000",
          "2024-04-14T00:00:00.000000000",
          "2024-04-15T00:00:00.000000000",
          "2024-04-16T00:00:00.000000000",
          "2024-04-17T00:00:00.000000000",
          "2024-04-18T00:00:00.000000000",
          "2024-04-19T00:00:00.000000000",
          "2024-04-20T00:00:00.000000000",
          "2024-04-21T00:00:00.000000000",
          "2024-04-22T00:00:00.000000000",
          "2024-04-23T00:00:00.000000000",
          "2024-04-24T00:00:00.000000000",
          "2024-04-25T00:00:00.000000000",
          "2024-04-26T00:00:00.000000000",
          "2024-04-27T00:00:00.000000000",
          "2024-04-28T00:00:00.000000000",
          "2024-04-29T00:00:00.000000000",
          "2024-04-30T00:00:00.000000000",
          "2024-05-01T00:00:00.000000000",
          "2024-05-02T00:00:00.000000000",
          "2024-05-03T00:00:00.000000000",
          "2024-05-04T00:00:00.000000000",
          "2024-05-05T00:00:00.000000000",
          "2024-05-06T00:00:00.000000000",
          "2024-05-07T00:00:00.000000000",
          "2024-05-08T00:00:00.000000000",
          "2024-05-09T00:00:00.000000000",
          "2024-05-10T00:00:00.000000000",
          "2024-05-11T00:00:00.000000000",
          "2024-05-12T00:00:00.000000000",
          "2024-05-13T00:00:00.000000000",
          "2024-05-14T00:00:00.000000000",
          "2024-05-15T00:00:00.000000000",
          "2024-05-16T00:00:00.000000000",
          "2024-05-17T00:00:00.000000000",
          "2024-05-18T00:00:00.000000000",
          "2024-05-19T00:00:00.000000000",
          "2024-05-20T00:00:00.000000000",
          "2024-05-21T00:00:00.000000000",
          "2024-05-22T00:00:00.000000000",
          "2024-05-23T00:00:00.000000000",
          "2024-05-24T00:00:00.000000000",
          "2024-05-25T00:00:00.000000000",
          "2024-05-26T00:00:00.000000000",
          "2024-05-27T00:00:00.000000000",
          "2024-05-28T00:00:00.000000000",
          "2024-05-29T00:00:00.000000000",
          "2024-05-30T00:00:00.000000000",
          "2024-05-31T00:00:00.000000000",
          "2024-06-01T00:00:00.000000000",
          "2024-06-02T00:00:00.000000000",
          "2024-06-03T00:00:00.000000000",
          "2024-06-04T00:00:00.000000000",
          "2024-06-05T00:00:00.000000000",
          "2024-06-06T00:00:00.000000000",
          "2024-06-07T00:00:00.000000000",
          "2024-06-08T00:00:00.000000000",
          "2024-06-09T00:00:00.000000000",
          "2024-06-10T00:00:00.000000000",
          "2024-06-11T00:00:00.000000000",
          "2024-06-12T00:00:00.000000000",
          "2024-06-13T00:00:00.000000000",
          "2024-06-14T00:00:00.000000000",
          "2024-06-15T00:00:00.000000000",
          "2024-06-16T00:00:00.000000000",
          "2024-06-17T00:00:00.000000000",
          "2024-06-18T00:00:00.000000000",
          "2024-06-19T00:00:00.000000000",
          "2024-06-20T00:00:00.000000000",
          "2024-06-21T00:00:00.000000000",
          "2024-06-22T00:00:00.000000000",
          "2024-06-23T00:00:00.000000000",
          "2024-06-24T00:00:00.000000000",
          "2024-06-25T00:00:00.000000000",
          "2024-06-26T00:00:00.000000000",
          "2024-06-27T00:00:00.000000000",
          "2024-06-28T00:00:00.000000000",
          "2024-06-29T00:00:00.000000000",
          "2024-06-30T00:00:00.000000000",
          "2024-07-01T00:00:00.000000000",
          "2024-07-02T00:00:00.000000000",
          "2024-07-03T00:00:00.000000000",
          "2024-07-04T00:00:00.000000000",
          "2024-07-05T00:00:00.000000000",
          "2024-07-06T00:00:00.000000000",
          "2024-07-07T00:00:00.000000000",
          "2024-07-08T00:00:00.000000000",
          "2024-07-09T00:00:00.000000000",
          "2024-07-10T00:00:00.000000000",
          "2024-07-11T00:00:00.000000000",
          "2024-07-12T00:00:00.000000000",
          "2024-07-13T00:00:00.000000000",
          "2024-07-14T00:00:00.000000000",
          "2024-07-15T00:00:00.000000000",
          "2024-07-16T00:00:00.000000000",
          "2024-07-17T00:00:00.000000000",
          "2024-07-18T00:00:00.000000000",
          "2024-07-19T00:00:00.000000000",
          "2024-07-20T00:00:00.000000000",
          "2024-07-21T00:00:00.000000000",
          "2024-07-22T00:00:00.000000000",
          "2024-07-23T00:00:00.000000000",
          "2024-07-24T00:00:00.000000000",
          "2024-07-25T00:00:00.000000000",
          "2024-07-26T00:00:00.000000000",
          "2024-07-27T00:00:00.000000000",
          "2024-07-28T00:00:00.000000000",
          "2024-07-29T00:00:00.000000000",
          "2024-07-30T00:00:00.000000000",
          "2024-07-31T00:00:00.000000000",
          "2024-08-01T00:00:00.000000000",
          "2024-08-02T00:00:00.000000000",
          "2024-08-03T00:00:00.000000000",
          "2024-08-04T00:00:00.000000000",
          "2024-08-05T00:00:00.000000000",
          "2024-08-06T00:00:00.000000000",
          "2024-08-07T00:00:00.000000000",
          "2024-08-08T00:00:00.000000000",
          "2024-08-09T00:00:00.000000000",
          "2024-08-10T00:00:00.000000000",
          "2024-08-11T00:00:00.000000000",
          "2024-08-12T00:00:00.000000000",
          "2024-08-13T00:00:00.000000000",
          "2024-08-14T00:00:00.000000000",
          "2024-08-15T00:00:00.000000000",
          "2024-08-16T00:00:00.000000000",
          "2024-08-17T00:00:00.000000000",
          "2024-08-18T00:00:00.000000000",
          "2024-08-19T00:00:00.000000000",
          "2024-08-20T00:00:00.000000000",
          "2024-08-21T00:00:00.000000000",
          "2024-08-22T00:00:00.000000000",
          "2024-08-23T00:00:00.000000000",
          "2024-08-24T00:00:00.000000000",
          "2024-08-25T00:00:00.000000000",
          "2024-08-26T00:00:00.000000000",
          "2024-08-27T00:00:00.000000000",
          "2024-08-28T00:00:00.000000000",
          "2024-08-29T00:00:00.000000000",
          "2024-08-30T00:00:00.000000000",
          "2024-08-31T00:00:00.000000000",
          "2024-09-01T00:00:00.000000000",
          "2024-09-02T00:00:00.000000000",
          "2024-09-03T00:00:00.000000000",
          "2024-09-04T00:00:00.000000000",
          "2024-09-05T00:00:00.000000000",
          "2024-09-06T00:00:00.000000000",
          "2024-09-07T00:00:00.000000000",
          "2024-09-08T00:00:00.000000000",
          "2024-09-09T00:00:00.000000000",
          "2024-09-10T00:00:00.000000000",
          "2024-09-11T00:00:00.000000000",
          "2024-09-12T00:00:00.000000000",
          "2024-09-13T00:00:00.000000000",
          "2024-09-14T00:00:00.000000000",
          "2024-09-15T00:00:00.000000000",
          "2024-09-16T00:00:00.000000000",
          "2024-09-17T00:00:00.000000000",
          "2024-09-18T00:00:00.000000000",
          "2024-09-19T00:00:00.000000000",
          "2024-09-20T00:00:00.000000000",
          "2024-09-21T00:00:00.000000000",
          "2024-09-22T00:00:00.000000000",
          "2024-09-23T00:00:00.000000000",
          "2024-09-24T00:00:00.000000000",
          "2024-09-25T00:00:00.000000000",
          "2024-09-26T00:00:00.000000000",
          "2024-09-27T00:00:00.000000000",
          "2024-09-28T00:00:00.000000000",
          "2024-09-29T00:00:00.000000000",
          "2024-09-30T00:00:00.000000000",
          "2024-10-01T00:00:00.000000000",
          "2024-10-02T00:00:00.000000000",
          "2024-10-03T00:00:00.000000000",
          "2024-10-04T00:00:00.000000000",
          "2024-10-05T00:00:00.000000000",
          "2024-10-06T00:00:00.000000000",
          "2024-10-07T00:00:00.000000000",
          "2024-10-08T00:00:00.000000000",
          "2024-10-09T00:00:00.000000000",
          "2024-10-10T00:00:00.000000000",
          "2024-10-11T00:00:00.000000000",
          "2024-10-12T00:00:00.000000000",
          "2024-10-13T00:00:00.000000000",
          "2024-10-14T00:00:00.000000000",
          "2024-10-15T00:00:00.000000000",
          "2024-10-16T00:00:00.000000000",
          "2024-10-17T00:00:00.000000000",
          "2024-10-18T00:00:00.000000000",
          "2024-10-19T00:00:00.000000000",
          "2024-10-20T00:00:00.000000000",
          "2024-10-21T00:00:00.000000000",
          "2024-10-22T00:00:00.000000000",
          "2024-10-23T00:00:00.000000000",
          "2024-10-24T00:00:00.000000000",
          "2024-10-25T00:00:00.000000000",
          "2024-10-26T00:00:00.000000000",
          "2024-10-27T00:00:00.000000000",
          "2024-10-28T00:00:00.000000000",
          "2024-10-29T00:00:00.000000000",
          "2024-10-30T00:00:00.000000000",
          "2024-10-31T00:00:00.000000000",
          "2024-11-01T00:00:00.000000000",
          "2024-11-02T00:00:00.000000000",
          "2024-11-03T00:00:00.000000000",
          "2024-11-04T00:00:00.000000000",
          "2024-11-05T00:00:00.000000000",
          "2024-11-06T00:00:00.000000000",
          "2024-11-07T00:00:00.000000000",
          "2024-11-08T00:00:00.000000000",
          "2024-11-09T00:00:00.000000000",
          "2024-11-10T00:00:00.000000000",
          "2024-11-11T00:00:00.000000000",
          "2024-11-12T00:00:00.000000000",
          "2024-11-13T00:00:00.000000000",
          "2024-11-14T00:00:00.000000000",
          "2024-11-15T00:00:00.000000000",
          "2024-11-16T00:00:00.000000000",
          "2024-11-17T00:00:00.000000000",
          "2024-11-18T00:00:00.000000000",
          "2024-11-19T00:00:00.000000000",
          "2024-11-20T00:00:00.000000000",
          "2024-11-21T00:00:00.000000000",
          "2024-11-22T00:00:00.000000000",
          "2024-11-23T00:00:00.000000000",
          "2024-11-24T00:00:00.000000000",
          "2024-11-25T00:00:00.000000000",
          "2024-11-26T00:00:00.000000000",
          "2024-11-27T00:00:00.000000000",
          "2024-11-28T00:00:00.000000000",
          "2024-11-29T00:00:00.000000000",
          "2024-11-30T00:00:00.000000000",
          "2024-12-01T00:00:00.000000000",
          "2024-12-02T00:00:00.000000000",
          "2024-12-03T00:00:00.000000000",
          "2024-12-04T00:00:00.000000000",
          "2024-12-05T00:00:00.000000000",
          "2024-12-06T00:00:00.000000000",
          "2024-12-07T00:00:00.000000000",
          "2024-12-08T00:00:00.000000000",
          "2024-12-09T00:00:00.000000000",
          "2024-12-10T00:00:00.000000000",
          "2024-12-11T00:00:00.000000000",
          "2024-12-12T00:00:00.000000000",
          "2024-12-13T00:00:00.000000000",
          "2024-12-14T00:00:00.000000000",
          "2024-12-15T00:00:00.000000000",
          "2024-12-16T00:00:00.000000000",
          "2024-12-17T00:00:00.000000000",
          "2024-12-18T00:00:00.000000000",
          "2024-12-19T00:00:00.000000000",
          "2024-12-20T00:00:00.000000000",
          "2024-12-21T00:00:00.000000000",
          "2024-12-22T00:00:00.000000000",
          "2024-12-23T00:00:00.000000000",
          "2024-12-24T00:00:00.000000000",
          "2024-12-25T00:00:00.000000000",
          "2024-12-26T00:00:00.000000000",
          "2024-12-27T00:00:00.000000000",
          "2024-12-28T00:00:00.000000000",
          "2024-12-29T00:00:00.000000000",
          "2024-12-30T00:00:00.000000000",
          "2024-12-31T00:00:00.000000000",
          "2025-01-01T00:00:00.000000000",
          "2025-01-02T00:00:00.000000000",
          "2025-01-03T00:00:00.000000000",
          "2025-01-04T00:00:00.000000000",
          "2025-01-05T00:00:00.000000000",
          "2025-01-06T00:00:00.000000000",
          "2025-01-07T00:00:00.000000000",
          "2025-01-08T00:00:00.000000000",
          "2025-01-09T00:00:00.000000000",
          "2025-01-10T00:00:00.000000000",
          "2025-01-11T00:00:00.000000000",
          "2025-01-12T00:00:00.000000000",
          "2025-01-13T00:00:00.000000000",
          "2025-01-14T00:00:00.000000000",
          "2025-01-15T00:00:00.000000000",
          "2025-01-16T00:00:00.000000000",
          "2025-01-17T00:00:00.000000000",
          "2025-01-18T00:00:00.000000000",
          "2025-01-19T00:00:00.000000000",
          "2025-01-20T00:00:00.000000000",
          "2025-01-21T00:00:00.000000000",
          "2025-01-22T00:00:00.000000000",
          "2025-01-23T00:00:00.000000000",
          "2025-01-24T00:00:00.000000000",
          "2025-01-25T00:00:00.000000000",
          "2025-01-26T00:00:00.000000000",
          "2025-01-27T00:00:00.000000000",
          "2025-01-28T00:00:00.000000000",
          "2025-01-29T00:00:00.000000000",
          "2025-01-30T00:00:00.000000000",
          "2025-01-31T00:00:00.000000000",
          "2025-02-01T00:00:00.000000000",
          "2025-02-02T00:00:00.000000000",
          "2025-02-03T00:00:00.000000000",
          "2025-02-04T00:00:00.000000000",
          "2025-02-05T00:00:00.000000000",
          "2025-02-06T00:00:00.000000000",
          "2025-02-07T00:00:00.000000000",
          "2025-02-08T00:00:00.000000000",
          "2025-02-09T00:00:00.000000000",
          "2025-02-10T00:00:00.000000000",
          "2025-02-11T00:00:00.000000000",
          "2025-02-12T00:00:00.000000000",
          "2025-02-13T00:00:00.000000000",
          "2025-02-14T00:00:00.000000000",
          "2025-02-15T00:00:00.000000000",
          "2025-02-16T00:00:00.000000000",
          "2025-02-17T00:00:00.000000000",
          "2025-02-18T00:00:00.000000000",
          "2025-02-19T00:00:00.000000000",
          "2025-02-20T00:00:00.000000000",
          "2025-02-21T00:00:00.000000000",
          "2025-02-22T00:00:00.000000000",
          "2025-02-23T00:00:00.000000000",
          "2025-02-24T00:00:00.000000000",
          "2025-02-25T00:00:00.000000000",
          "2025-02-26T00:00:00.000000000",
          "2025-02-27T00:00:00.000000000",
          "2025-02-28T00:00:00.000000000",
          "2025-03-01T00:00:00.000000000",
          "2025-03-02T00:00:00.000000000",
          "2025-03-03T00:00:00.000000000",
          "2025-03-04T00:00:00.000000000",
          "2025-03-05T00:00:00.000000000",
          "2025-03-06T00:00:00.000000000",
          "2025-03-07T00:00:00.000000000",
          "2025-03-08T00:00:00.000000000",
          "2025-03-09T00:00:00.000000000",
          "2025-03-10T00:00:00.000000000",
          "2025-03-11T00:00:00.000000000",
          "2025-03-12T00:00:00.000000000",
          "2025-03-13T00:00:00.000000000",
          "2025-03-14T00:00:00.000000000",
          "2025-03-15T00:00:00.000000000",
          "2025-03-16T00:00:00.000000000",
          "2025-03-17T00:00:00.000000000",
          "2025-03-18T00:00:00.000000000",
          "2025-03-19T00:00:00.000000000",
          "2025-03-20T00:00:00.000000000",
          "2025-03-21T00:00:00.000000000",
          "2025-03-22T00:00:00.000000000",
          "2025-03-23T00:00:00.000000000",
          "2025-03-24T00:00:00.000000000",
          "2025-03-25T00:00:00.000000000",
          "2025-03-26T00:00:00.000000000",
          "2025-03-27T00:00:00.000000000",
          "2025-03-28T00:00:00.000000000",
          "2025-03-29T00:00:00.000000000",
          "2025-03-30T00:00:00.000000000",
          "2025-03-31T00:00:00.000000000",
          "2025-04-01T00:00:00.000000000",
          "2025-04-02T00:00:00.000000000"
         ],
         "y": {
          "bdata": "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",
          "dtype": "f8"
         }
        }
       ],
       "layout": {
        "autosize": true,
        "height": 500,
        "legend": {
         "orientation": "h",
         "x": 0,
         "y": 1.1
        },
        "margin": {
         "b": 40,
         "l": 40,
         "r": 40,
         "t": 80
        },
        "template": {
         "data": {
          "bar": [
           {
            "error_x": {
             "color": "#2a3f5f"
            },
            "error_y": {
             "color": "#2a3f5f"
            },
            "marker": {
             "line": {
              "color": "white",
              "width": 0.5
             },
             "pattern": {
              "fillmode": "overlay",
              "size": 10,
              "solidity": 0.2
             }
            },
            "type": "bar"
           }
          ],
          "barpolar": [
           {
            "marker": {
             "line": {
              "color": "white",
              "width": 0.5
             },
             "pattern": {
              "fillmode": "overlay",
              "size": 10,
              "solidity": 0.2
             }
            },
            "type": "barpolar"
           }
          ],
          "carpet": [
           {
            "aaxis": {
             "endlinecolor": "#2a3f5f",
             "gridcolor": "#C8D4E3",
             "linecolor": "#C8D4E3",
             "minorgridcolor": "#C8D4E3",
             "startlinecolor": "#2a3f5f"
            },
            "baxis": {
             "endlinecolor": "#2a3f5f",
             "gridcolor": "#C8D4E3",
             "linecolor": "#C8D4E3",
             "minorgridcolor": "#C8D4E3",
             "startlinecolor": "#2a3f5f"
            },
            "type": "carpet"
           }
          ],
          "choropleth": [
           {
            "colorbar": {
             "outlinewidth": 0,
             "ticks": ""
            },
            "type": "choropleth"
           }
          ],
          "contour": [
           {
            "colorbar": {
             "outlinewidth": 0,
             "ticks": ""
            },
            "colorscale": [
             [
              0,
              "#0d0887"
             ],
             [
              0.1111111111111111,
              "#46039f"
             ],
             [
              0.2222222222222222,
              "#7201a8"
             ],
             [
              0.3333333333333333,
              "#9c179e"
             ],
             [
              0.4444444444444444,
              "#bd3786"
             ],
             [
              0.5555555555555556,
              "#d8576b"
             ],
             [
              0.6666666666666666,
              "#ed7953"
             ],
             [
              0.7777777777777778,
              "#fb9f3a"
             ],
             [
              0.8888888888888888,
              "#fdca26"
             ],
             [
              1,
              "#f0f921"
             ]
            ],
            "type": "contour"
           }
          ],
          "contourcarpet": [
           {
            "colorbar": {
             "outlinewidth": 0,
             "ticks": ""
            },
            "type": "contourcarpet"
           }
          ],
          "heatmap": [
           {
            "colorbar": {
             "outlinewidth": 0,
             "ticks": ""
            },
            "colorscale": [
             [
              0,
              "#0d0887"
             ],
             [
              0.1111111111111111,
              "#46039f"
             ],
             [
              0.2222222222222222,
              "#7201a8"
             ],
             [
              0.3333333333333333,
              "#9c179e"
             ],
             [
              0.4444444444444444,
              "#bd3786"
             ],
             [
              0.5555555555555556,
              "#d8576b"
             ],
             [
              0.6666666666666666,
              "#ed7953"
             ],
             [
              0.7777777777777778,
              "#fb9f3a"
             ],
             [
              0.8888888888888888,
              "#fdca26"
             ],
             [
              1,
              "#f0f921"
             ]
            ],
            "type": "heatmap"
           }
          ],
          "histogram": [
           {
            "marker": {
             "pattern": {
              "fillmode": "overlay",
              "size": 10,
              "solidity": 0.2
             }
            },
            "type": "histogram"
           }
          ],
          "histogram2d": [
           {
            "colorbar": {
             "outlinewidth": 0,
             "ticks": ""
            },
            "colorscale": [
             [
              0,
              "#0d0887"
             ],
             [
              0.1111111111111111,
              "#46039f"
             ],
             [
              0.2222222222222222,
              "#7201a8"
             ],
             [
              0.3333333333333333,
              "#9c179e"
             ],
             [
              0.4444444444444444,
              "#bd3786"
             ],
             [
              0.5555555555555556,
              "#d8576b"
             ],
             [
              0.6666666666666666,
              "#ed7953"
             ],
             [
              0.7777777777777778,
              "#fb9f3a"
             ],
             [
              0.8888888888888888,
              "#fdca26"
             ],
             [
              1,
              "#f0f921"
             ]
            ],
            "type": "histogram2d"
           }
          ],
          "histogram2dcontour": [
           {
            "colorbar": {
             "outlinewidth": 0,
             "ticks": ""
            },
            "colorscale": [
             [
              0,
              "#0d0887"
             ],
             [
              0.1111111111111111,
              "#46039f"
             ],
             [
              0.2222222222222222,
              "#7201a8"
             ],
             [
              0.3333333333333333,
              "#9c179e"
             ],
             [
              0.4444444444444444,
              "#bd3786"
             ],
             [
              0.5555555555555556,
              "#d8576b"
             ],
             [
              0.6666666666666666,
              "#ed7953"
             ],
             [
              0.7777777777777778,
              "#fb9f3a"
             ],
             [
              0.8888888888888888,
              "#fdca26"
             ],
             [
              1,
              "#f0f921"
             ]
            ],
            "type": "histogram2dcontour"
           }
          ],
          "mesh3d": [
           {
            "colorbar": {
             "outlinewidth": 0,
             "ticks": ""
            },
            "type": "mesh3d"
           }
          ],
          "parcoords": [
           {
            "line": {
             "colorbar": {
              "outlinewidth": 0,
              "ticks": ""
             }
            },
            "type": "parcoords"
           }
          ],
          "pie": [
           {
            "automargin": true,
            "type": "pie"
           }
          ],
          "scatter": [
           {
            "fillpattern": {
             "fillmode": "overlay",
             "size": 10,
             "solidity": 0.2
            },
            "type": "scatter"
           }
          ],
          "scatter3d": [
           {
            "line": {
             "colorbar": {
              "outlinewidth": 0,
              "ticks": ""
             }
            },
            "marker": {
             "colorbar": {
              "outlinewidth": 0,
              "ticks": ""
             }
            },
            "type": "scatter3d"
           }
          ],
          "scattercarpet": [
           {
            "marker": {
             "colorbar": {
              "outlinewidth": 0,
              "ticks": ""
             }
            },
            "type": "scattercarpet"
           }
          ],
          "scattergeo": [
           {
            "marker": {
             "colorbar": {
              "outlinewidth": 0,
              "ticks": ""
             }
            },
            "type": "scattergeo"
           }
          ],
          "scattergl": [
           {
            "marker": {
             "colorbar": {
              "outlinewidth": 0,
              "ticks": ""
             }
            },
            "type": "scattergl"
           }
          ],
          "scattermap": [
           {
            "marker": {
             "colorbar": {
              "outlinewidth": 0,
              "ticks": ""
             }
            },
            "type": "scattermap"
           }
          ],
          "scattermapbox": [
           {
            "marker": {
             "colorbar": {
              "outlinewidth": 0,
              "ticks": ""
             }
            },
            "type": "scattermapbox"
           }
          ],
          "scatterpolar": [
           {
            "marker": {
             "colorbar": {
              "outlinewidth": 0,
              "ticks": ""
             }
            },
            "type": "scatterpolar"
           }
          ],
          "scatterpolargl": [
           {
            "marker": {
             "colorbar": {
              "outlinewidth": 0,
              "ticks": ""
             }
            },
            "type": "scatterpolargl"
           }
          ],
          "scatterternary": [
           {
            "marker": {
             "colorbar": {
              "outlinewidth": 0,
              "ticks": ""
             }
            },
            "type": "scatterternary"
           }
          ],
          "surface": [
           {
            "colorbar": {
             "outlinewidth": 0,
             "ticks": ""
            },
            "colorscale": [
             [
              0,
              "#0d0887"
             ],
             [
              0.1111111111111111,
              "#46039f"
             ],
             [
              0.2222222222222222,
              "#7201a8"
             ],
             [
              0.3333333333333333,
              "#9c179e"
             ],
             [
              0.4444444444444444,
              "#bd3786"
             ],
             [
              0.5555555555555556,
              "#d8576b"
             ],
             [
              0.6666666666666666,
              "#ed7953"
             ],
             [
              0.7777777777777778,
              "#fb9f3a"
             ],
             [
              0.8888888888888888,
              "#fdca26"
             ],
             [
              1,
              "#f0f921"
             ]
            ],
            "type": "surface"
           }
          ],
          "table": [
           {
            "cells": {
             "fill": {
              "color": "#EBF0F8"
             },
             "line": {
              "color": "white"
             }
            },
            "header": {
             "fill": {
              "color": "#C8D4E3"
             },
             "line": {
              "color": "white"
             }
            },
            "type": "table"
           }
          ]
         },
         "layout": {
          "annotationdefaults": {
           "arrowcolor": "#2a3f5f",
           "arrowhead": 0,
           "arrowwidth": 1
          },
          "autotypenumbers": "strict",
          "coloraxis": {
           "colorbar": {
            "outlinewidth": 0,
            "ticks": ""
           }
          },
          "colorscale": {
           "diverging": [
            [
             0,
             "#8e0152"
            ],
            [
             0.1,
             "#c51b7d"
            ],
            [
             0.2,
             "#de77ae"
            ],
            [
             0.3,
             "#f1b6da"
            ],
            [
             0.4,
             "#fde0ef"
            ],
            [
             0.5,
             "#f7f7f7"
            ],
            [
             0.6,
             "#e6f5d0"
            ],
            [
             0.7,
             "#b8e186"
            ],
            [
             0.8,
             "#7fbc41"
            ],
            [
             0.9,
             "#4d9221"
            ],
            [
             1,
             "#276419"
            ]
           ],
           "sequential": [
            [
             0,
             "#0d0887"
            ],
            [
             0.1111111111111111,
             "#46039f"
            ],
            [
             0.2222222222222222,
             "#7201a8"
            ],
            [
             0.3333333333333333,
             "#9c179e"
            ],
            [
             0.4444444444444444,
             "#bd3786"
            ],
            [
             0.5555555555555556,
             "#d8576b"
            ],
            [
             0.6666666666666666,
             "#ed7953"
            ],
            [
             0.7777777777777778,
             "#fb9f3a"
            ],
            [
             0.8888888888888888,
             "#fdca26"
            ],
            [
             1,
             "#f0f921"
            ]
           ],
           "sequentialminus": [
            [
             0,
             "#0d0887"
            ],
            [
             0.1111111111111111,
             "#46039f"
            ],
            [
             0.2222222222222222,
             "#7201a8"
            ],
            [
             0.3333333333333333,
             "#9c179e"
            ],
            [
             0.4444444444444444,
             "#bd3786"
            ],
            [
             0.5555555555555556,
             "#d8576b"
            ],
            [
             0.6666666666666666,
             "#ed7953"
            ],
            [
             0.7777777777777778,
             "#fb9f3a"
            ],
            [
             0.8888888888888888,
             "#fdca26"
            ],
            [
             1,
             "#f0f921"
            ]
           ]
          },
          "colorway": [
           "#636efa",
           "#EF553B",
           "#00cc96",
           "#ab63fa",
           "#FFA15A",
           "#19d3f3",
           "#FF6692",
           "#B6E880",
           "#FF97FF",
           "#FECB52"
          ],
          "font": {
           "color": "#2a3f5f"
          },
          "geo": {
           "bgcolor": "white",
           "lakecolor": "white",
           "landcolor": "white",
           "showlakes": true,
           "showland": true,
           "subunitcolor": "#C8D4E3"
          },
          "hoverlabel": {
           "align": "left"
          },
          "hovermode": "closest",
          "mapbox": {
           "style": "light"
          },
          "paper_bgcolor": "white",
          "plot_bgcolor": "white",
          "polar": {
           "angularaxis": {
            "gridcolor": "#EBF0F8",
            "linecolor": "#EBF0F8",
            "ticks": ""
           },
           "bgcolor": "white",
           "radialaxis": {
            "gridcolor": "#EBF0F8",
            "linecolor": "#EBF0F8",
            "ticks": ""
           }
          },
          "scene": {
           "xaxis": {
            "backgroundcolor": "white",
            "gridcolor": "#DFE8F3",
            "gridwidth": 2,
            "linecolor": "#EBF0F8",
            "showbackground": true,
            "ticks": "",
            "zerolinecolor": "#EBF0F8"
           },
           "yaxis": {
            "backgroundcolor": "white",
            "gridcolor": "#DFE8F3",
            "gridwidth": 2,
            "linecolor": "#EBF0F8",
            "showbackground": true,
            "ticks": "",
            "zerolinecolor": "#EBF0F8"
           },
           "zaxis": {
            "backgroundcolor": "white",
            "gridcolor": "#DFE8F3",
            "gridwidth": 2,
            "linecolor": "#EBF0F8",
            "showbackground": true,
            "ticks": "",
            "zerolinecolor": "#EBF0F8"
           }
          },
          "shapedefaults": {
           "line": {
            "color": "#2a3f5f"
           }
          },
          "ternary": {
           "aaxis": {
            "gridcolor": "#DFE8F3",
            "linecolor": "#A2B1C6",
            "ticks": ""
           },
           "baxis": {
            "gridcolor": "#DFE8F3",
            "linecolor": "#A2B1C6",
            "ticks": ""
           },
           "bgcolor": "white",
           "caxis": {
            "gridcolor": "#DFE8F3",
            "linecolor": "#A2B1C6",
            "ticks": ""
           }
          },
          "title": {
           "x": 0.05
          },
          "xaxis": {
           "automargin": true,
           "gridcolor": "#EBF0F8",
           "linecolor": "#EBF0F8",
           "ticks": "",
           "title": {
            "standoff": 15
           },
           "zerolinecolor": "#EBF0F8",
           "zerolinewidth": 2
          },
          "yaxis": {
           "automargin": true,
           "gridcolor": "#EBF0F8",
           "linecolor": "#EBF0F8",
           "ticks": "",
           "title": {
            "standoff": 15
           },
           "zerolinecolor": "#EBF0F8",
           "zerolinewidth": 2
          }
         }
        },
        "title": {
         "text": "Actual vs Predicted Closing Prices"
        },
        "xaxis": {
         "title": {
          "text": "Date"
         }
        },
        "yaxis": {
         "title": {
          "text": "Price (USD)"
         }
        }
       }
      }
     },
     "metadata": {},
     "output_type": "display_data"
    }
   ],
   "source": [
    "import plotly.graph_objects as go\n",
    "\n",
    "# Create a DataFrame to store the actual vs predicted values\n",
    "results = pd.DataFrame({\n",
    "    'Date': X_test.index,\n",
    "    'Actual': y_test,\n",
    "    'Predicted': y_pred\n",
    "})\n",
    "\n",
    "# Make sure Date is datetime (Plotly likes it)\n",
    "results['Date'] = data.loc[X_test.index, 'Date'].values\n",
    "\n",
    "# Build interactive plot\n",
    "fig = go.Figure()\n",
    "\n",
    "fig.add_trace(go.Scatter(\n",
    "    x=results['Date'],\n",
    "    y=results['Actual'],\n",
    "    mode='lines',\n",
    "    name='Actual Closing Price',\n",
    "    line=dict(color='blue')\n",
    "))\n",
    "\n",
    "fig.add_trace(go.Scatter(\n",
    "    x=results['Date'],\n",
    "    y=results['Predicted'],\n",
    "    mode='lines',\n",
    "    name='Predicted Closing Price',\n",
    "    line=dict(color='red', dash='dash')\n",
    "))\n",
    "\n",
    "# Layout styling\n",
    "fig.update_layout(\n",
    "    title='Actual vs Predicted Closing Prices',\n",
    "    xaxis_title='Date',\n",
    "    yaxis_title='Price (USD)',\n",
    "    template='plotly_white',\n",
    "    legend=dict(x=0, y=1.1, orientation='h'),\n",
    "    autosize=True,\n",
    "    margin=dict(l=40, r=40, t=80, b=40),\n",
    "    height=500,\n",
    ")\n",
    "\n",
    "# Show the plot\n",
    "fig.show()\n"
   ]
  },
  {
   "cell_type": "code",
   "execution_count": 31,
   "id": "23e6ba9b",
   "metadata": {},
   "outputs": [
    {
     "data": {
      "application/vnd.plotly.v1+json": {
       "config": {
        "plotlyServerURL": "https://plot.ly"
       },
       "data": [
        {
         "alignmentgroup": "True",
         "boxpoints": "all",
         "hovertemplate": "Type=%{x}<br>Price=%{y}<extra></extra>",
         "legendgroup": "Actual",
         "marker": {
          "color": "#636efa"
         },
         "name": "Actual",
         "notched": false,
         "offsetgroup": "Actual",
         "orientation": "v",
         "showlegend": true,
         "type": "box",
         "x": [
          "Actual",
          "Actual",
          "Actual",
          "Actual",
          "Actual",
          "Actual",
          "Actual",
          "Actual",
          "Actual",
          "Actual",
          "Actual",
          "Actual",
          "Actual",
          "Actual",
          "Actual",
          "Actual",
          "Actual",
          "Actual",
          "Actual",
          "Actual",
          "Actual",
          "Actual",
          "Actual",
          "Actual",
          "Actual",
          "Actual",
          "Actual",
          "Actual",
          "Actual",
          "Actual",
          "Actual",
          "Actual",
          "Actual",
          "Actual",
          "Actual",
          "Actual",
          "Actual",
          "Actual",
          "Actual",
          "Actual",
          "Actual",
          "Actual",
          "Actual",
          "Actual",
          "Actual",
          "Actual",
          "Actual",
          "Actual",
          "Actual",
          "Actual",
          "Actual",
          "Actual",
          "Actual",
          "Actual",
          "Actual",
          "Actual",
          "Actual",
          "Actual",
          "Actual",
          "Actual",
          "Actual",
          "Actual",
          "Actual",
          "Actual",
          "Actual",
          "Actual",
          "Actual",
          "Actual",
          "Actual",
          "Actual",
          "Actual",
          "Actual",
          "Actual",
          "Actual",
          "Actual",
          "Actual",
          "Actual",
          "Actual",
          "Actual",
          "Actual",
          "Actual",
          "Actual",
          "Actual",
          "Actual",
          "Actual",
          "Actual",
          "Actual",
          "Actual",
          "Actual",
          "Actual",
          "Actual",
          "Actual",
          "Actual",
          "Actual",
          "Actual",
          "Actual",
          "Actual",
          "Actual",
          "Actual",
          "Actual",
          "Actual",
          "Actual",
          "Actual",
          "Actual",
          "Actual",
          "Actual",
          "Actual",
          "Actual",
          "Actual",
          "Actual",
          "Actual",
          "Actual",
          "Actual",
          "Actual",
          "Actual",
          "Actual",
          "Actual",
          "Actual",
          "Actual",
          "Actual",
          "Actual",
          "Actual",
          "Actual",
          "Actual",
          "Actual",
          "Actual",
          "Actual",
          "Actual",
          "Actual",
          "Actual",
          "Actual",
          "Actual",
          "Actual",
          "Actual",
          "Actual",
          "Actual",
          "Actual",
          "Actual",
          "Actual",
          "Actual",
          "Actual",
          "Actual",
          "Actual",
          "Actual",
          "Actual",
          "Actual",
          "Actual",
          "Actual",
          "Actual",
          "Actual",
          "Actual",
          "Actual",
          "Actual",
          "Actual",
          "Actual",
          "Actual",
          "Actual",
          "Actual",
          "Actual",
          "Actual",
          "Actual",
          "Actual",
          "Actual",
          "Actual",
          "Actual",
          "Actual",
          "Actual",
          "Actual",
          "Actual",
          "Actual",
          "Actual",
          "Actual",
          "Actual",
          "Actual",
          "Actual",
          "Actual",
          "Actual",
          "Actual",
          "Actual",
          "Actual",
          "Actual",
          "Actual",
          "Actual",
          "Actual",
          "Actual",
          "Actual",
          "Actual",
          "Actual",
          "Actual",
          "Actual",
          "Actual",
          "Actual",
          "Actual",
          "Actual",
          "Actual",
          "Actual",
          "Actual",
          "Actual",
          "Actual",
          "Actual",
          "Actual",
          "Actual",
          "Actual",
          "Actual",
          "Actual",
          "Actual",
          "Actual",
          "Actual",
          "Actual",
          "Actual",
          "Actual",
          "Actual",
          "Actual",
          "Actual",
          "Actual",
          "Actual",
          "Actual",
          "Actual",
          "Actual",
          "Actual",
          "Actual",
          "Actual",
          "Actual",
          "Actual",
          "Actual",
          "Actual",
          "Actual",
          "Actual",
          "Actual",
          "Actual",
          "Actual",
          "Actual",
          "Actual",
          "Actual",
          "Actual",
          "Actual",
          "Actual",
          "Actual",
          "Actual",
          "Actual",
          "Actual",
          "Actual",
          "Actual",
          "Actual",
          "Actual",
          "Actual",
          "Actual",
          "Actual",
          "Actual",
          "Actual",
          "Actual",
          "Actual",
          "Actual",
          "Actual",
          "Actual",
          "Actual",
          "Actual",
          "Actual",
          "Actual",
          "Actual",
          "Actual",
          "Actual",
          "Actual",
          "Actual",
          "Actual",
          "Actual",
          "Actual",
          "Actual",
          "Actual",
          "Actual",
          "Actual",
          "Actual",
          "Actual",
          "Actual",
          "Actual",
          "Actual",
          "Actual",
          "Actual",
          "Actual",
          "Actual",
          "Actual",
          "Actual",
          "Actual",
          "Actual",
          "Actual",
          "Actual",
          "Actual",
          "Actual",
          "Actual",
          "Actual",
          "Actual",
          "Actual",
          "Actual",
          "Actual",
          "Actual",
          "Actual",
          "Actual",
          "Actual",
          "Actual",
          "Actual",
          "Actual",
          "Actual",
          "Actual",
          "Actual",
          "Actual",
          "Actual",
          "Actual",
          "Actual",
          "Actual",
          "Actual",
          "Actual",
          "Actual",
          "Actual",
          "Actual",
          "Actual",
          "Actual",
          "Actual",
          "Actual",
          "Actual",
          "Actual",
          "Actual",
          "Actual",
          "Actual",
          "Actual",
          "Actual",
          "Actual",
          "Actual",
          "Actual",
          "Actual",
          "Actual",
          "Actual",
          "Actual",
          "Actual",
          "Actual",
          "Actual",
          "Actual",
          "Actual",
          "Actual",
          "Actual",
          "Actual",
          "Actual",
          "Actual",
          "Actual",
          "Actual",
          "Actual",
          "Actual",
          "Actual",
          "Actual",
          "Actual",
          "Actual",
          "Actual",
          "Actual",
          "Actual",
          "Actual",
          "Actual",
          "Actual",
          "Actual",
          "Actual",
          "Actual",
          "Actual",
          "Actual",
          "Actual",
          "Actual",
          "Actual",
          "Actual",
          "Actual",
          "Actual",
          "Actual",
          "Actual",
          "Actual",
          "Actual",
          "Actual",
          "Actual",
          "Actual",
          "Actual",
          "Actual",
          "Actual",
          "Actual",
          "Actual",
          "Actual",
          "Actual",
          "Actual",
          "Actual",
          "Actual",
          "Actual",
          "Actual",
          "Actual",
          "Actual",
          "Actual",
          "Actual",
          "Actual",
          "Actual",
          "Actual",
          "Actual",
          "Actual",
          "Actual",
          "Actual",
          "Actual",
          "Actual",
          "Actual",
          "Actual",
          "Actual",
          "Actual",
          "Actual",
          "Actual",
          "Actual",
          "Actual",
          "Actual",
          "Actual",
          "Actual",
          "Actual",
          "Actual",
          "Actual",
          "Actual",
          "Actual",
          "Actual",
          "Actual",
          "Actual",
          "Actual",
          "Actual",
          "Actual",
          "Actual",
          "Actual",
          "Actual",
          "Actual",
          "Actual",
          "Actual",
          "Actual",
          "Actual",
          "Actual",
          "Actual",
          "Actual",
          "Actual",
          "Actual",
          "Actual",
          "Actual",
          "Actual",
          "Actual",
          "Actual",
          "Actual",
          "Actual",
          "Actual",
          "Actual",
          "Actual",
          "Actual",
          "Actual",
          "Actual",
          "Actual",
          "Actual",
          "Actual",
          "Actual",
          "Actual",
          "Actual",
          "Actual",
          "Actual",
          "Actual",
          "Actual",
          "Actual",
          "Actual",
          "Actual",
          "Actual",
          "Actual",
          "Actual",
          "Actual",
          "Actual",
          "Actual",
          "Actual",
          "Actual",
          "Actual",
          "Actual",
          "Actual",
          "Actual",
          "Actual",
          "Actual",
          "Actual",
          "Actual",
          "Actual",
          "Actual",
          "Actual",
          "Actual",
          "Actual",
          "Actual",
          "Actual",
          "Actual",
          "Actual",
          "Actual",
          "Actual",
          "Actual",
          "Actual",
          "Actual",
          "Actual",
          "Actual",
          "Actual",
          "Actual",
          "Actual",
          "Actual",
          "Actual",
          "Actual",
          "Actual",
          "Actual",
          "Actual",
          "Actual",
          "Actual",
          "Actual",
          "Actual",
          "Actual",
          "Actual",
          "Actual",
          "Actual",
          "Actual",
          "Actual",
          "Actual",
          "Actual",
          "Actual",
          "Actual",
          "Actual",
          "Actual",
          "Actual",
          "Actual",
          "Actual",
          "Actual",
          "Actual",
          "Actual",
          "Actual",
          "Actual",
          "Actual",
          "Actual",
          "Actual",
          "Actual",
          "Actual",
          "Actual",
          "Actual",
          "Actual",
          "Actual",
          "Actual",
          "Actual",
          "Actual",
          "Actual",
          "Actual",
          "Actual",
          "Actual",
          "Actual",
          "Actual",
          "Actual",
          "Actual",
          "Actual",
          "Actual",
          "Actual",
          "Actual",
          "Actual",
          "Actual",
          "Actual",
          "Actual",
          "Actual",
          "Actual",
          "Actual",
          "Actual",
          "Actual",
          "Actual",
          "Actual",
          "Actual",
          "Actual",
          "Actual",
          "Actual",
          "Actual",
          "Actual",
          "Actual",
          "Actual",
          "Actual",
          "Actual",
          "Actual",
          "Actual",
          "Actual",
          "Actual",
          "Actual",
          "Actual",
          "Actual",
          "Actual",
          "Actual",
          "Actual",
          "Actual",
          "Actual",
          "Actual",
          "Actual",
          "Actual",
          "Actual",
          "Actual",
          "Actual",
          "Actual",
          "Actual",
          "Actual",
          "Actual",
          "Actual",
          "Actual",
          "Actual",
          "Actual",
          "Actual",
          "Actual",
          "Actual",
          "Actual",
          "Actual",
          "Actual",
          "Actual",
          "Actual",
          "Actual",
          "Actual",
          "Actual",
          "Actual",
          "Actual",
          "Actual",
          "Actual",
          "Actual",
          "Actual",
          "Actual",
          "Actual",
          "Actual",
          "Actual",
          "Actual",
          "Actual",
          "Actual",
          "Actual",
          "Actual",
          "Actual",
          "Actual",
          "Actual",
          "Actual",
          "Actual",
          "Actual",
          "Actual",
          "Actual",
          "Actual",
          "Actual",
          "Actual",
          "Actual",
          "Actual",
          "Actual",
          "Actual",
          "Actual",
          "Actual",
          "Actual",
          "Actual",
          "Actual",
          "Actual",
          "Actual",
          "Actual",
          "Actual",
          "Actual",
          "Actual",
          "Actual",
          "Actual",
          "Actual",
          "Actual",
          "Actual",
          "Actual",
          "Actual",
          "Actual",
          "Actual",
          "Actual",
          "Actual",
          "Actual",
          "Actual",
          "Actual",
          "Actual",
          "Actual",
          "Actual",
          "Actual",
          "Actual",
          "Actual",
          "Actual",
          "Actual",
          "Actual",
          "Actual",
          "Actual",
          "Actual",
          "Actual",
          "Actual",
          "Actual",
          "Actual",
          "Actual",
          "Actual",
          "Actual",
          "Actual",
          "Actual",
          "Actual",
          "Actual",
          "Actual",
          "Actual",
          "Actual",
          "Actual",
          "Actual",
          "Actual",
          "Actual",
          "Actual",
          "Actual",
          "Actual",
          "Actual",
          "Actual",
          "Actual",
          "Actual",
          "Actual",
          "Actual",
          "Actual",
          "Actual",
          "Actual",
          "Actual",
          "Actual",
          "Actual",
          "Actual",
          "Actual"
         ],
         "x0": " ",
         "xaxis": "x",
         "y": {
          "bdata": "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",
          "dtype": "f8"
         },
         "y0": " ",
         "yaxis": "y"
        },
        {
         "alignmentgroup": "True",
         "boxpoints": "all",
         "hovertemplate": "Type=%{x}<br>Price=%{y}<extra></extra>",
         "legendgroup": "Predicted",
         "marker": {
          "color": "#EF553B"
         },
         "name": "Predicted",
         "notched": false,
         "offsetgroup": "Predicted",
         "orientation": "v",
         "showlegend": true,
         "type": "box",
         "x": [
          "Predicted",
          "Predicted",
          "Predicted",
          "Predicted",
          "Predicted",
          "Predicted",
          "Predicted",
          "Predicted",
          "Predicted",
          "Predicted",
          "Predicted",
          "Predicted",
          "Predicted",
          "Predicted",
          "Predicted",
          "Predicted",
          "Predicted",
          "Predicted",
          "Predicted",
          "Predicted",
          "Predicted",
          "Predicted",
          "Predicted",
          "Predicted",
          "Predicted",
          "Predicted",
          "Predicted",
          "Predicted",
          "Predicted",
          "Predicted",
          "Predicted",
          "Predicted",
          "Predicted",
          "Predicted",
          "Predicted",
          "Predicted",
          "Predicted",
          "Predicted",
          "Predicted",
          "Predicted",
          "Predicted",
          "Predicted",
          "Predicted",
          "Predicted",
          "Predicted",
          "Predicted",
          "Predicted",
          "Predicted",
          "Predicted",
          "Predicted",
          "Predicted",
          "Predicted",
          "Predicted",
          "Predicted",
          "Predicted",
          "Predicted",
          "Predicted",
          "Predicted",
          "Predicted",
          "Predicted",
          "Predicted",
          "Predicted",
          "Predicted",
          "Predicted",
          "Predicted",
          "Predicted",
          "Predicted",
          "Predicted",
          "Predicted",
          "Predicted",
          "Predicted",
          "Predicted",
          "Predicted",
          "Predicted",
          "Predicted",
          "Predicted",
          "Predicted",
          "Predicted",
          "Predicted",
          "Predicted",
          "Predicted",
          "Predicted",
          "Predicted",
          "Predicted",
          "Predicted",
          "Predicted",
          "Predicted",
          "Predicted",
          "Predicted",
          "Predicted",
          "Predicted",
          "Predicted",
          "Predicted",
          "Predicted",
          "Predicted",
          "Predicted",
          "Predicted",
          "Predicted",
          "Predicted",
          "Predicted",
          "Predicted",
          "Predicted",
          "Predicted",
          "Predicted",
          "Predicted",
          "Predicted",
          "Predicted",
          "Predicted",
          "Predicted",
          "Predicted",
          "Predicted",
          "Predicted",
          "Predicted",
          "Predicted",
          "Predicted",
          "Predicted",
          "Predicted",
          "Predicted",
          "Predicted",
          "Predicted",
          "Predicted",
          "Predicted",
          "Predicted",
          "Predicted",
          "Predicted",
          "Predicted",
          "Predicted",
          "Predicted",
          "Predicted",
          "Predicted",
          "Predicted",
          "Predicted",
          "Predicted",
          "Predicted",
          "Predicted",
          "Predicted",
          "Predicted",
          "Predicted",
          "Predicted",
          "Predicted",
          "Predicted",
          "Predicted",
          "Predicted",
          "Predicted",
          "Predicted",
          "Predicted",
          "Predicted",
          "Predicted",
          "Predicted",
          "Predicted",
          "Predicted",
          "Predicted",
          "Predicted",
          "Predicted",
          "Predicted",
          "Predicted",
          "Predicted",
          "Predicted",
          "Predicted",
          "Predicted",
          "Predicted",
          "Predicted",
          "Predicted",
          "Predicted",
          "Predicted",
          "Predicted",
          "Predicted",
          "Predicted",
          "Predicted",
          "Predicted",
          "Predicted",
          "Predicted",
          "Predicted",
          "Predicted",
          "Predicted",
          "Predicted",
          "Predicted",
          "Predicted",
          "Predicted",
          "Predicted",
          "Predicted",
          "Predicted",
          "Predicted",
          "Predicted",
          "Predicted",
          "Predicted",
          "Predicted",
          "Predicted",
          "Predicted",
          "Predicted",
          "Predicted",
          "Predicted",
          "Predicted",
          "Predicted",
          "Predicted",
          "Predicted",
          "Predicted",
          "Predicted",
          "Predicted",
          "Predicted",
          "Predicted",
          "Predicted",
          "Predicted",
          "Predicted",
          "Predicted",
          "Predicted",
          "Predicted",
          "Predicted",
          "Predicted",
          "Predicted",
          "Predicted",
          "Predicted",
          "Predicted",
          "Predicted",
          "Predicted",
          "Predicted",
          "Predicted",
          "Predicted",
          "Predicted",
          "Predicted",
          "Predicted",
          "Predicted",
          "Predicted",
          "Predicted",
          "Predicted",
          "Predicted",
          "Predicted",
          "Predicted",
          "Predicted",
          "Predicted",
          "Predicted",
          "Predicted",
          "Predicted",
          "Predicted",
          "Predicted",
          "Predicted",
          "Predicted",
          "Predicted",
          "Predicted",
          "Predicted",
          "Predicted",
          "Predicted",
          "Predicted",
          "Predicted",
          "Predicted",
          "Predicted",
          "Predicted",
          "Predicted",
          "Predicted",
          "Predicted",
          "Predicted",
          "Predicted",
          "Predicted",
          "Predicted",
          "Predicted",
          "Predicted",
          "Predicted",
          "Predicted",
          "Predicted",
          "Predicted",
          "Predicted",
          "Predicted",
          "Predicted",
          "Predicted",
          "Predicted",
          "Predicted",
          "Predicted",
          "Predicted",
          "Predicted",
          "Predicted",
          "Predicted",
          "Predicted",
          "Predicted",
          "Predicted",
          "Predicted",
          "Predicted",
          "Predicted",
          "Predicted",
          "Predicted",
          "Predicted",
          "Predicted",
          "Predicted",
          "Predicted",
          "Predicted",
          "Predicted",
          "Predicted",
          "Predicted",
          "Predicted",
          "Predicted",
          "Predicted",
          "Predicted",
          "Predicted",
          "Predicted",
          "Predicted",
          "Predicted",
          "Predicted",
          "Predicted",
          "Predicted",
          "Predicted",
          "Predicted",
          "Predicted",
          "Predicted",
          "Predicted",
          "Predicted",
          "Predicted",
          "Predicted",
          "Predicted",
          "Predicted",
          "Predicted",
          "Predicted",
          "Predicted",
          "Predicted",
          "Predicted",
          "Predicted",
          "Predicted",
          "Predicted",
          "Predicted",
          "Predicted",
          "Predicted",
          "Predicted",
          "Predicted",
          "Predicted",
          "Predicted",
          "Predicted",
          "Predicted",
          "Predicted",
          "Predicted",
          "Predicted",
          "Predicted",
          "Predicted",
          "Predicted",
          "Predicted",
          "Predicted",
          "Predicted",
          "Predicted",
          "Predicted",
          "Predicted",
          "Predicted",
          "Predicted",
          "Predicted",
          "Predicted",
          "Predicted",
          "Predicted",
          "Predicted",
          "Predicted",
          "Predicted",
          "Predicted",
          "Predicted",
          "Predicted",
          "Predicted",
          "Predicted",
          "Predicted",
          "Predicted",
          "Predicted",
          "Predicted",
          "Predicted",
          "Predicted",
          "Predicted",
          "Predicted",
          "Predicted",
          "Predicted",
          "Predicted",
          "Predicted",
          "Predicted",
          "Predicted",
          "Predicted",
          "Predicted",
          "Predicted",
          "Predicted",
          "Predicted",
          "Predicted",
          "Predicted",
          "Predicted",
          "Predicted",
          "Predicted",
          "Predicted",
          "Predicted",
          "Predicted",
          "Predicted",
          "Predicted",
          "Predicted",
          "Predicted",
          "Predicted",
          "Predicted",
          "Predicted",
          "Predicted",
          "Predicted",
          "Predicted",
          "Predicted",
          "Predicted",
          "Predicted",
          "Predicted",
          "Predicted",
          "Predicted",
          "Predicted",
          "Predicted",
          "Predicted",
          "Predicted",
          "Predicted",
          "Predicted",
          "Predicted",
          "Predicted",
          "Predicted",
          "Predicted",
          "Predicted",
          "Predicted",
          "Predicted",
          "Predicted",
          "Predicted",
          "Predicted",
          "Predicted",
          "Predicted",
          "Predicted",
          "Predicted",
          "Predicted",
          "Predicted",
          "Predicted",
          "Predicted",
          "Predicted",
          "Predicted",
          "Predicted",
          "Predicted",
          "Predicted",
          "Predicted",
          "Predicted",
          "Predicted",
          "Predicted",
          "Predicted",
          "Predicted",
          "Predicted",
          "Predicted",
          "Predicted",
          "Predicted",
          "Predicted",
          "Predicted",
          "Predicted",
          "Predicted",
          "Predicted",
          "Predicted",
          "Predicted",
          "Predicted",
          "Predicted",
          "Predicted",
          "Predicted",
          "Predicted",
          "Predicted",
          "Predicted",
          "Predicted",
          "Predicted",
          "Predicted",
          "Predicted",
          "Predicted",
          "Predicted",
          "Predicted",
          "Predicted",
          "Predicted",
          "Predicted",
          "Predicted",
          "Predicted",
          "Predicted",
          "Predicted",
          "Predicted",
          "Predicted",
          "Predicted",
          "Predicted",
          "Predicted",
          "Predicted",
          "Predicted",
          "Predicted",
          "Predicted",
          "Predicted",
          "Predicted",
          "Predicted",
          "Predicted",
          "Predicted",
          "Predicted",
          "Predicted",
          "Predicted",
          "Predicted",
          "Predicted",
          "Predicted",
          "Predicted",
          "Predicted",
          "Predicted",
          "Predicted",
          "Predicted",
          "Predicted",
          "Predicted",
          "Predicted",
          "Predicted",
          "Predicted",
          "Predicted",
          "Predicted",
          "Predicted",
          "Predicted",
          "Predicted",
          "Predicted",
          "Predicted",
          "Predicted",
          "Predicted",
          "Predicted",
          "Predicted",
          "Predicted",
          "Predicted",
          "Predicted",
          "Predicted",
          "Predicted",
          "Predicted",
          "Predicted",
          "Predicted",
          "Predicted",
          "Predicted",
          "Predicted",
          "Predicted",
          "Predicted",
          "Predicted",
          "Predicted",
          "Predicted",
          "Predicted",
          "Predicted",
          "Predicted",
          "Predicted",
          "Predicted",
          "Predicted",
          "Predicted",
          "Predicted",
          "Predicted",
          "Predicted",
          "Predicted",
          "Predicted",
          "Predicted",
          "Predicted",
          "Predicted",
          "Predicted",
          "Predicted",
          "Predicted",
          "Predicted",
          "Predicted",
          "Predicted",
          "Predicted",
          "Predicted",
          "Predicted",
          "Predicted",
          "Predicted",
          "Predicted",
          "Predicted",
          "Predicted",
          "Predicted",
          "Predicted",
          "Predicted",
          "Predicted",
          "Predicted",
          "Predicted",
          "Predicted",
          "Predicted",
          "Predicted",
          "Predicted",
          "Predicted",
          "Predicted",
          "Predicted",
          "Predicted",
          "Predicted",
          "Predicted",
          "Predicted",
          "Predicted",
          "Predicted",
          "Predicted",
          "Predicted",
          "Predicted",
          "Predicted",
          "Predicted",
          "Predicted",
          "Predicted",
          "Predicted",
          "Predicted",
          "Predicted",
          "Predicted",
          "Predicted",
          "Predicted",
          "Predicted",
          "Predicted",
          "Predicted",
          "Predicted",
          "Predicted",
          "Predicted",
          "Predicted",
          "Predicted",
          "Predicted",
          "Predicted",
          "Predicted",
          "Predicted",
          "Predicted",
          "Predicted",
          "Predicted",
          "Predicted",
          "Predicted",
          "Predicted",
          "Predicted",
          "Predicted",
          "Predicted",
          "Predicted",
          "Predicted",
          "Predicted",
          "Predicted",
          "Predicted",
          "Predicted",
          "Predicted",
          "Predicted",
          "Predicted",
          "Predicted",
          "Predicted",
          "Predicted",
          "Predicted",
          "Predicted",
          "Predicted",
          "Predicted",
          "Predicted",
          "Predicted",
          "Predicted",
          "Predicted",
          "Predicted",
          "Predicted",
          "Predicted",
          "Predicted",
          "Predicted",
          "Predicted",
          "Predicted",
          "Predicted",
          "Predicted",
          "Predicted",
          "Predicted",
          "Predicted",
          "Predicted",
          "Predicted",
          "Predicted",
          "Predicted",
          "Predicted",
          "Predicted",
          "Predicted",
          "Predicted",
          "Predicted",
          "Predicted",
          "Predicted",
          "Predicted",
          "Predicted",
          "Predicted",
          "Predicted",
          "Predicted",
          "Predicted",
          "Predicted",
          "Predicted",
          "Predicted",
          "Predicted",
          "Predicted",
          "Predicted",
          "Predicted",
          "Predicted",
          "Predicted",
          "Predicted",
          "Predicted",
          "Predicted",
          "Predicted",
          "Predicted",
          "Predicted",
          "Predicted",
          "Predicted",
          "Predicted",
          "Predicted",
          "Predicted",
          "Predicted",
          "Predicted",
          "Predicted",
          "Predicted",
          "Predicted",
          "Predicted",
          "Predicted",
          "Predicted",
          "Predicted",
          "Predicted",
          "Predicted",
          "Predicted",
          "Predicted",
          "Predicted",
          "Predicted",
          "Predicted",
          "Predicted",
          "Predicted",
          "Predicted",
          "Predicted",
          "Predicted",
          "Predicted",
          "Predicted",
          "Predicted",
          "Predicted",
          "Predicted",
          "Predicted",
          "Predicted",
          "Predicted",
          "Predicted",
          "Predicted",
          "Predicted",
          "Predicted",
          "Predicted",
          "Predicted",
          "Predicted",
          "Predicted",
          "Predicted",
          "Predicted",
          "Predicted"
         ],
         "x0": " ",
         "xaxis": "x",
         "y": {
          "bdata": "RlRsclCm20AQ3EkO3cbbQB7YBNe+z9xAshHUgBGw3EA+zrRs45ncQKzf/8NVltxAbJfrkr1420CY653bqgbcQJy55/VLYtxAYtSKwNUz3ED3IPtfK9rcQOjOjSgmPNxAmaNHM3nV20CouQytqxHbQLKl4IwR/9pA+ccApNL72kAWOIcKFWDaQJXetzsjM9pAd6WE/rMu2kCn2HMT5VHaQBs9zvvXj9pA+mL4TbNy2kAGJoKLf8vaQD8Z65oEPtpABLtMoSpM2kDYmWG5AILaQJl3GlqPLNpAVjDmIYRD2kBoBUzawZvaQI6iFrTmvNlA6kxLxifk2UCOr9r2RB3aQHAU8pvFP9pAKgYULFtp20AI7/ulDxvbQKRyA6oWENtAIMBkoiya2kD8TGwbeDvaQJL0cvLAotpAqr3xW1962kDezPVcj4TaQBwTyvn3M9lAuMNL5GCe2kDEvVSVfMbZQC2l8XTv7dlA3HO7hVPo2UDQU9h/i07ZQGeBzXqiYdlAJ8czWLFc2UDUNPnfqWLZQLl05r3Sn9hA8trhH1AM2UATsvl9VcrZQO7gNN1E9NlA8qabNsHK2UAytum1UEPaQHpSdTzQsttA3sp+By5a3UCnNBmds0ndQOa0o09rF95AuosXPLjx3UB+/yB2NuXdQPIyV//6q91AIh1bLs0b3kBTDYKVS4bdQFBPlNGQ3N1AigN4jDrl3UDEslaBzwTeQB3HnelxDd5AFjZeiQqT3kCZXzC5NzHeQIvGuR+C6N1A759OWRtN3UBfXs1VWLfdQLjWat64pN1A340cu9983UCGe1afxLbdQEJ1/b656t1ALqQt/t+03UDq2zdjib/eQCfSFOtRqd1AeK/mLWWf3UDlifeM3JLdQCoTZmhveN1AH8zoSUc23UDmfwofuD/dQH7ZoxGeJt1AFzv8W1Q63UCgdtpnPSDdQMsO1KEuZ91AyoNILceK3EBSyYbzuZTcQHYTRorutNxAyNQlSyqT3EB2f8rIs6/cQBC5WYGtudxAXT+jQYGn3EDrkmjKcpncQIbQncGUDd1AkN2khYyE3EAA4Reyr4XcQKiAMgASbtxAEtOzXIZj3ECGfZP5nGDcQEjJ5tvHg9xAc6YR0hYX3UCq3Tk6fd/cQNDmhrdSv9xAuMAu29C23EBIrp3TxrvcQKeDncgYmdxA2s3T5Z+33EC+xEUXgX7cQIL/bCyzCdxAar2JSPsQ2kBlUeLN3X7ZQPLWnRiUj9lAv9c7xGmn2UDxQU0JTJzZQLHTg0KiiNlAX8jxskPq2UBvzsPEGarZQBeut9FljtlARVGl81mE2UDXyDEPVpjZQMiHfhlom9lACb/XLxoq20AUUOliPMvaQF7PeyfnetlAtZ0rylxO2UAG3g1DK13ZQPBlU5VCc9lAHp+A7SpJ2UB66peTvjzZQHognyP1M9lALMMj4Be02UC2ShjXD13ZQECLJB1tV9lAPI0BDJBG2UAvjxnKHqLYQMrwVTFfQtlAR+OKDK+p2UBPJoOJI/nZQFrfvxgECNpA5k75zLj+2UBbw389gPfZQFJ9UIzOLtpAEV91LDyd2kB+HCU1P4baQNJpu/tH+tlAAu5WNdn62UDwPBTeD/7ZQFg06zPLqtlAXM3kRZu42UCaF5fo95/ZQPDWnRh+w9lABLiddMtq2kCzL0Y3zE7aQJbTclktW9pAKzHRPhJa20DzArMg6OPaQD5/wHw8z9pA3CSsyCYp20DHZbTNbczaQIirwuLGU9tAHHHELmhb20A5oErwKlLbQDx1wGBQANtAHuZLrjHP2kB0qTbhGE3aQJx2pIjhLdpA1D/MEvRG2kBJvhf5lUXaQMjywX+PldpAzLSlCKvg20C2ojt6ZsjbQLCvrixdsdtAWsqcaMcW3ECeL32mWgHdQBC2dnlcRt1AypeTlvlU3UCI6QwXYCrgQL+5yIu2muBAVGwXJrLm4EDGXDmTd7zgQHQPsuG4n+BAqN6WuIC14EDmiDnUivDgQI7+v1up6+BAA/N2LG7/4EA8jbNV92DhQCDkDX13J+FAYMna3H4J4UBLrjI5sjThQDT0vocLLuFAtNbQzhcx4UCKVEJHL1nhQD5PkttSceFAxqGX81Hz4UByDMltZD/iQORvl+o3JeJAWCp9utgf4kD0VE/sRdThQI8TuthpY+FAfAZqSph/4kBlUqM/7q7hQCpu0qSq5eFAJCCQlDjj4UC+Yy3w9kPiQCzBQvpMUOJAPriHjMR84UB4vyEDNkfiQLZBG/BsOeJAqKLZaXxv4kCSwJ5EFHniQNpIE+w1TuJA/v9089Av4kC8QBBcqHniQEwnazddfuJAh2DV69xu4kDIskU/HubiQHzkyfjlR+NAsR8xQimH40BYoOEpzX/kQIUf2jCdh+VAKDV0nNhh5UDcY0rPdSnlQGcLnJz3m+VAJWCZ5R9k5UDWksj3Sm7lQOxBp7OnMuRAQxgCW65O5EDhNueJnvvkQPZqES9LD+VAKMQT9MiH5EB2abFGxKrkQDSB0twTPuRAug6YHcbZ5ED2SEAH76vkQGRjmpO/VeVAYsSBt/Fr5UCeiiQB9XzlQHpe5AGOVuVAq7Du2IkA5UANoQTRYkblQAYA5a8OwuRAsL2GuLk45UBu8h8OgsrkQGxp1PiTh+RAa6e+0uyR5EAN/Ub5CKPkQESOb03Xj+VAgb2S/Evu5UAoKLkx5+nkQNxWFYJZjOVAlpCCKy2N5UA4jw52z3PlQEAEWVb7buVAn9iqY1rp5kAwTUHMnYHmQO3XXM83xeZAEk2AOMKf5kCxx/zRvefkQNi2/l5s7eRAkq8BeWlg5EAf+1GQ7b7kQH4DxSbvEeVAQprSTfrf5EC5DIF1BzHkQFDjfCEpV+RA9P3B+w5d5ECk19AsMlHkQBPQF+hAWeNA8/isY5OE40AZdzy6nJ3jQNzoONMYj+NAcANxznlz5ECBBRwiuJvkQKBa9hiUjeRAtBDTlxsp5UAYGNMPAfvkQKunnaXgxORAhJ9glj0I5UCDo6f6ahblQMtG0X6hAOVAP1QLu1jK5EDygmSq+tTkQIJ7aZo6DOVA4P4lL7Wm5UBAeUCdOCDmQCBtgeSJCudADYV2WvxY50DeDrzPQ53nQByIpQxEZ+hAlq1Ik2dQ6EBF8NfigVjpQPOhLP9QZOlAjg9t5geC6UDN++HrsEfpQFJe4w2tg+lAuf/gc1VY6UDiJfB8BpPpQO4QCjA4YOlAUM6RXk4X6UAZ/dncHdfoQPbChKVBOOlASpy5JEZJ6UBFlIJ0PJ7qQK0V+vGe2etA29yogSt+7kDczoBysd3tQEDXN2G5fe5AC6fPh2dQ7kDCW5//Ht3uQAiTWmWvsfBAe4kl3Pw270AQvscWRinwQCrv0J/KXvBA6pQjg16y8EDEC+Zhq7/wQGyACLVI4fBAssTrSQ6g8UAuIHlSr3nxQDa+zKAY3/FA0EO9Aaxx8UDWw1SEW/vwQFcpRA444+9ABBcsdJWr8EAuG9rl0nvwQG//j7z/O+5AhPgjw/qJ8EBytclKpvDvQMqceYhDIe9AUMKgSqQ270BTVTM6YGDwQP7/bjLuBPFAqF898TQM8UBWxDU9kurwQGANaiIYPvFAjSZA9+gG8UB71iqMPPXwQKKo3PYTW/FAegy0V9T48EBfExdTF+nvQOVjTbbeEvBA2zi1C7yt8EAz64eGhYbwQDzVGXIqx/BA3+lxAkbi8EBuoXvqQmzxQH9rncBJ0/BA6bYp9oQv8UBYMg5h1wjxQNnDJTPWVvBA/gtBuWIu70BdPYLrSQPwQMT5udb26u5AthZsxBEW70CCdkQNY+HtQOTJvxGH8O5Agnkp1IIb70Afw41zuKPvQHvZbc9Co+9ARnbTAUBH8EBs1OCsJSzwQDZxWBvOT+9AYX6LKYJr70B2uMVgkhDvQG7yGNpp5+5AvXJiIvO87kDAjHcFwxbvQA1zoywSh+1AbsFsijlg7ECHxB0jQsHsQJeGWUd8nO5AXzT8jjwc70Bm5ihb1CvvQMKbrqakw+5AZygZ3T1a7kAQKGJxdMztQCedMMk4s+5Aixt0orme7UB3shY9VJ3tQIkz/4zI6u1AaicamOee7kD7eC3HHfftQJoDD5uYHfBAQ+qV8iPE70B61dgtMVLwQGaygNl/S/BA0M3MiDcj8EAsTerwk2PxQEBHBH0hFvFATSZNGaXW8ECHm1Y2+47wQITaozjatPBAxl+d5Grj8EAxbcevVrHwQN34kHtD6PBAjeagyyqn8EA0zW7DVXjwQPtpO84apvBA4HQavjZv8ECj89fYhXzwQCzMmNB7fPBAXgWfP7q68EDyvq2ylibxQBrFz2smS/FArcuQ5oI28UAMbxgcAd3wQM0WKsMp2vBARnXX3Zfu8EC9U2g/feXwQPAl43t1YPBAaKqbDuGZ8EBBiFbCfD3wQJ6bJLD6EfBAAD4AY/od8ECIUORubzjwQBwS0/U6MPBAtqiE/qa/70AsR6gNrqPvQLfaVdcLlu9Ao7Al2uc/70DTw7GmmEvvQBGsySEyy+5A9w+h3yxm7UC/0gCLAhvuQHCHKbaRqe1A8WwBxbEJ7kD58cA5HmztQB5WseU3q+1AYk/A09eJ7kDTw6aZXZ/uQH2X+wSXPO5AHUKikgxU7UAm9zfHa9frQMN+q3Nuo+tA1LjrW+Bm7EBW19qGA0PrQLxGyH7nqutA1H2a4jtP7EDFsL83IybsQAgCNa669etA9eJH/s847EDOPzUA2tjsQKGNTbNsnu1AMBXc8/6M70Bc4v83PL3vQEVtKtMHQu9ABGBDtHkz70Bc3HkDLELwQADY4u8qYvBAGvgjhV6i8EBEPU9ZYH3wQO3lbXuaGvBArdP3V5Hq70C9QyCNlw7wQJjDXgsrkvBA4nzhdZ6Q8ECfN0Ui3aTwQP6l/1IbSvBAyjQrA8Uh8EDz+p8C0n/vQO4Y08qPyO9AxA0JXU3q7UB2JWi1+4ftQLEjlvr0U+xAXBge/Qpg6kAI3PkPD1rrQLnbpytZ8+pAqSaHw88X7kBhp0IlSLrtQB603i4hv+1Axilwv3yu7EDNzGRsfPfsQJjMu0QVlO1A7rk8YFqo7EAvr0qlgRvsQCZ1xlY1vexAu66QbAMD7UChaxvgnX/sQISP1iam+OxAMiMTz/7A7EBAKfwmvsPtQDWmfuClZu1Ai2eGMGsv70CSe10xMkXvQJTZ0rBvTO9AOxb/tqed7kCqzk86w/bsQEsXB9XevuxAAvhLz4/l7EAMqrCwlMnsQB/jFa73texA+juKw7To60CNlEus28rsQKGbOeBc++tA19BJrPY47ECIYrjVVlzrQCbiX7CdS+pA/ks0PKpn6kAdKAbiV8TqQCN1+1OMz+tASJbVGDkb7EDSLGjogPrrQLpIaeHwVuxA2R6NA2l87UAlKXCh+D3tQPkOgeMezuxADCWKgtJY7EDKqthwylntQK/LNmFLEu5ApnA9evqq7kCP6zri5M3uQJcjYlG64u5AAinPK3b+7kDK7+QR8uHuQGdbKYlrWO9AP+gXVyPO7kD7LxB/NsbvQBjSqfjYCfBAe6O2pPoN8EDsTpNKVPvvQM6WqFHx3u5AfGMthxmj7UAatYjDRovtQA8a6KxIl+1ATuSCAW4+7kA2N9wPCDvuQHkbVpzQle5Aswon5dBI7kDOl22RGEDuQEoBzYkfhO1AxhWrUK5c7UCpc0gcUm3uQOckIVSCxe5Av5zda8qb7kArNDt6SxTwQC5g0wmlVPBARImbwuV48ECgCYq0f2zwQLD1LAAIrfBANK/1me+p8ECsljT/W9PwQN2hj0rjbPBAOTWkHI1u8EDuM1+Yvj3wQC7eKmZ2nfBAAbBTFjE88EDFL2rcEVPwQAbp3lDTkPBANhQyqT0K8UBjHKcc7LbxQDCzk9EEnvFAP2nWXG0Z8UAomx5FfevwQMpRFBGU4vBAfD0YUWu88ECofmSASILwQNAHOQF54/BA4StN6GRo8kA059plc33yQFKgJFPmpvJAxhtJiMWx8kB5O5VCUpnzQDx3sSHIoPVASvbl9rR49UBd8SWEIhX2QEGt0ZOVVfVAPLJJufg59kC1xd1c5SL2QJzsrHLW9vVAvlWM6kwe9kDvSnY6D5f2QGgMgukCD/dA348Iq/MI+EAQQ+7BqS/4QMKXkAG+4fdAF13WYdDr90B82nY7uLL2QH6Uuc7ubfZAH2JB6f9g90Bc3GakKEz3QJClEtwcuPdAzTyNuRh290Az8Tq9Uab3QIhgTLqiT/dAcfHHfHdS90CkKz00WP/3QGzIJiFBl/dAscpkeENE+EAs+uUuN0b4QOryMwjSkvhAE04RYsmk90BaVtZEdHv3QPXmoXtXk/hAC77rrOpM+EA/FIZ0vaL4QHs62NftovhAOtv0fmxe+UB6p7P9v8X5QGvD/00XyvlAaxB+APZW+EARXwKICav3QKxBwhgmw/dA6QRvdh+i90DK1Zf7zh73QElv7Tg1C/dAODj/Faf390ClBydjkiX4QOQGQRViRfdAewJNhcjo9kAyOzRUrSP3QKimR+NtxPZAhgtrO3GJ9kCcM6CfW7b2QA5umWgs9vZA8hDzxSCR90D+8a7e7d33QIJWOVOZ4PdAGop4rrDl90DWr2GI/NX4QKwOLzT5jPdA7HbGcY4W90DLQwPwBX72QPOAFO4Z/vZAzyaw7TX59kDq2dhOlPT2QABtQ9m48/ZAdJpKuO5v90D0/9b1pmf4QCAAwP9mSPhAR4Yc/yBJ+UAcZNC6cl/5QP992FtImfhAosPrUI7S+EATs7gEDsv5QOS8aAfONPlAO1cyqPhD+UDUGu/mVX35QGvVChrmdvlAgPKCokbx+EAuIBTumtD4QGz3MhpgofhATrynTow2+UCdXQtsn3L5QLgrYsK64vhAUbLDoFtx+ECI+4NXGLn3QCe68plZnPhAa2Uv8+zB90D4B+VBPXn3QAZ7x/g8dfdAXZZYnsRy90BvwdBw9W/3QJFc23EGcfdACOuxN9Wr90CweQn7KUb3QJWCjEDSxfdAOVN83YN690BXhcfSeK/3QKuX27qztPdAMwsbxHFa90DNiY4ICEX3QHiUcjBkOPdAONDwfulz90Dm+LWeFtz3QNdjFGuRVPdAigOFGJBt90DTfPMnwlf3QOE288a5NfZAN+A00P2A9UD1tb7HgXP0QFnEhSoWk/RASON0/niD9ECoJ6mpNO/0QJurM7Zf6vZAtpS+y9D59EC3jazZTTn1QHJ6uHteCPZAgDDT7lvd9UC1NqWLfxz1QL9S7U90+fRA9w4CT3ao80BQeQAE2CLzQKQYBhUeL/RA2HPgOA9d9EDViKjUUr7zQJ/GwWkvbPRAuG/AADyD9EAdVkRWgxH0QFN4xSjDavRACfkixN0Z9EBXetWk6Br1QEX1nnNUePRAS1y+/8Rt9EAQDYPtj130QJ/XqsPR5vRAEiFEj2RC9UBgyKVDozv1QCZuUKbhGvVA+SQ/52Qr9UCa1bs7hXz0QB7fj/liDPRAn/Pt3TH980BQ1DaNHAf0QLXPzQVgqfRAcOSC42MG9EA=",
          "dtype": "f8"
         },
         "y0": " ",
         "yaxis": "y"
        }
       ],
       "layout": {
        "boxmode": "overlay",
        "legend": {
         "title": {
          "text": "Type"
         },
         "tracegroupgap": 0
        },
        "showlegend": false,
        "template": {
         "data": {
          "bar": [
           {
            "error_x": {
             "color": "#2a3f5f"
            },
            "error_y": {
             "color": "#2a3f5f"
            },
            "marker": {
             "line": {
              "color": "white",
              "width": 0.5
             },
             "pattern": {
              "fillmode": "overlay",
              "size": 10,
              "solidity": 0.2
             }
            },
            "type": "bar"
           }
          ],
          "barpolar": [
           {
            "marker": {
             "line": {
              "color": "white",
              "width": 0.5
             },
             "pattern": {
              "fillmode": "overlay",
              "size": 10,
              "solidity": 0.2
             }
            },
            "type": "barpolar"
           }
          ],
          "carpet": [
           {
            "aaxis": {
             "endlinecolor": "#2a3f5f",
             "gridcolor": "#C8D4E3",
             "linecolor": "#C8D4E3",
             "minorgridcolor": "#C8D4E3",
             "startlinecolor": "#2a3f5f"
            },
            "baxis": {
             "endlinecolor": "#2a3f5f",
             "gridcolor": "#C8D4E3",
             "linecolor": "#C8D4E3",
             "minorgridcolor": "#C8D4E3",
             "startlinecolor": "#2a3f5f"
            },
            "type": "carpet"
           }
          ],
          "choropleth": [
           {
            "colorbar": {
             "outlinewidth": 0,
             "ticks": ""
            },
            "type": "choropleth"
           }
          ],
          "contour": [
           {
            "colorbar": {
             "outlinewidth": 0,
             "ticks": ""
            },
            "colorscale": [
             [
              0,
              "#0d0887"
             ],
             [
              0.1111111111111111,
              "#46039f"
             ],
             [
              0.2222222222222222,
              "#7201a8"
             ],
             [
              0.3333333333333333,
              "#9c179e"
             ],
             [
              0.4444444444444444,
              "#bd3786"
             ],
             [
              0.5555555555555556,
              "#d8576b"
             ],
             [
              0.6666666666666666,
              "#ed7953"
             ],
             [
              0.7777777777777778,
              "#fb9f3a"
             ],
             [
              0.8888888888888888,
              "#fdca26"
             ],
             [
              1,
              "#f0f921"
             ]
            ],
            "type": "contour"
           }
          ],
          "contourcarpet": [
           {
            "colorbar": {
             "outlinewidth": 0,
             "ticks": ""
            },
            "type": "contourcarpet"
           }
          ],
          "heatmap": [
           {
            "colorbar": {
             "outlinewidth": 0,
             "ticks": ""
            },
            "colorscale": [
             [
              0,
              "#0d0887"
             ],
             [
              0.1111111111111111,
              "#46039f"
             ],
             [
              0.2222222222222222,
              "#7201a8"
             ],
             [
              0.3333333333333333,
              "#9c179e"
             ],
             [
              0.4444444444444444,
              "#bd3786"
             ],
             [
              0.5555555555555556,
              "#d8576b"
             ],
             [
              0.6666666666666666,
              "#ed7953"
             ],
             [
              0.7777777777777778,
              "#fb9f3a"
             ],
             [
              0.8888888888888888,
              "#fdca26"
             ],
             [
              1,
              "#f0f921"
             ]
            ],
            "type": "heatmap"
           }
          ],
          "histogram": [
           {
            "marker": {
             "pattern": {
              "fillmode": "overlay",
              "size": 10,
              "solidity": 0.2
             }
            },
            "type": "histogram"
           }
          ],
          "histogram2d": [
           {
            "colorbar": {
             "outlinewidth": 0,
             "ticks": ""
            },
            "colorscale": [
             [
              0,
              "#0d0887"
             ],
             [
              0.1111111111111111,
              "#46039f"
             ],
             [
              0.2222222222222222,
              "#7201a8"
             ],
             [
              0.3333333333333333,
              "#9c179e"
             ],
             [
              0.4444444444444444,
              "#bd3786"
             ],
             [
              0.5555555555555556,
              "#d8576b"
             ],
             [
              0.6666666666666666,
              "#ed7953"
             ],
             [
              0.7777777777777778,
              "#fb9f3a"
             ],
             [
              0.8888888888888888,
              "#fdca26"
             ],
             [
              1,
              "#f0f921"
             ]
            ],
            "type": "histogram2d"
           }
          ],
          "histogram2dcontour": [
           {
            "colorbar": {
             "outlinewidth": 0,
             "ticks": ""
            },
            "colorscale": [
             [
              0,
              "#0d0887"
             ],
             [
              0.1111111111111111,
              "#46039f"
             ],
             [
              0.2222222222222222,
              "#7201a8"
             ],
             [
              0.3333333333333333,
              "#9c179e"
             ],
             [
              0.4444444444444444,
              "#bd3786"
             ],
             [
              0.5555555555555556,
              "#d8576b"
             ],
             [
              0.6666666666666666,
              "#ed7953"
             ],
             [
              0.7777777777777778,
              "#fb9f3a"
             ],
             [
              0.8888888888888888,
              "#fdca26"
             ],
             [
              1,
              "#f0f921"
             ]
            ],
            "type": "histogram2dcontour"
           }
          ],
          "mesh3d": [
           {
            "colorbar": {
             "outlinewidth": 0,
             "ticks": ""
            },
            "type": "mesh3d"
           }
          ],
          "parcoords": [
           {
            "line": {
             "colorbar": {
              "outlinewidth": 0,
              "ticks": ""
             }
            },
            "type": "parcoords"
           }
          ],
          "pie": [
           {
            "automargin": true,
            "type": "pie"
           }
          ],
          "scatter": [
           {
            "fillpattern": {
             "fillmode": "overlay",
             "size": 10,
             "solidity": 0.2
            },
            "type": "scatter"
           }
          ],
          "scatter3d": [
           {
            "line": {
             "colorbar": {
              "outlinewidth": 0,
              "ticks": ""
             }
            },
            "marker": {
             "colorbar": {
              "outlinewidth": 0,
              "ticks": ""
             }
            },
            "type": "scatter3d"
           }
          ],
          "scattercarpet": [
           {
            "marker": {
             "colorbar": {
              "outlinewidth": 0,
              "ticks": ""
             }
            },
            "type": "scattercarpet"
           }
          ],
          "scattergeo": [
           {
            "marker": {
             "colorbar": {
              "outlinewidth": 0,
              "ticks": ""
             }
            },
            "type": "scattergeo"
           }
          ],
          "scattergl": [
           {
            "marker": {
             "colorbar": {
              "outlinewidth": 0,
              "ticks": ""
             }
            },
            "type": "scattergl"
           }
          ],
          "scattermap": [
           {
            "marker": {
             "colorbar": {
              "outlinewidth": 0,
              "ticks": ""
             }
            },
            "type": "scattermap"
           }
          ],
          "scattermapbox": [
           {
            "marker": {
             "colorbar": {
              "outlinewidth": 0,
              "ticks": ""
             }
            },
            "type": "scattermapbox"
           }
          ],
          "scatterpolar": [
           {
            "marker": {
             "colorbar": {
              "outlinewidth": 0,
              "ticks": ""
             }
            },
            "type": "scatterpolar"
           }
          ],
          "scatterpolargl": [
           {
            "marker": {
             "colorbar": {
              "outlinewidth": 0,
              "ticks": ""
             }
            },
            "type": "scatterpolargl"
           }
          ],
          "scatterternary": [
           {
            "marker": {
             "colorbar": {
              "outlinewidth": 0,
              "ticks": ""
             }
            },
            "type": "scatterternary"
           }
          ],
          "surface": [
           {
            "colorbar": {
             "outlinewidth": 0,
             "ticks": ""
            },
            "colorscale": [
             [
              0,
              "#0d0887"
             ],
             [
              0.1111111111111111,
              "#46039f"
             ],
             [
              0.2222222222222222,
              "#7201a8"
             ],
             [
              0.3333333333333333,
              "#9c179e"
             ],
             [
              0.4444444444444444,
              "#bd3786"
             ],
             [
              0.5555555555555556,
              "#d8576b"
             ],
             [
              0.6666666666666666,
              "#ed7953"
             ],
             [
              0.7777777777777778,
              "#fb9f3a"
             ],
             [
              0.8888888888888888,
              "#fdca26"
             ],
             [
              1,
              "#f0f921"
             ]
            ],
            "type": "surface"
           }
          ],
          "table": [
           {
            "cells": {
             "fill": {
              "color": "#EBF0F8"
             },
             "line": {
              "color": "white"
             }
            },
            "header": {
             "fill": {
              "color": "#C8D4E3"
             },
             "line": {
              "color": "white"
             }
            },
            "type": "table"
           }
          ]
         },
         "layout": {
          "annotationdefaults": {
           "arrowcolor": "#2a3f5f",
           "arrowhead": 0,
           "arrowwidth": 1
          },
          "autotypenumbers": "strict",
          "coloraxis": {
           "colorbar": {
            "outlinewidth": 0,
            "ticks": ""
           }
          },
          "colorscale": {
           "diverging": [
            [
             0,
             "#8e0152"
            ],
            [
             0.1,
             "#c51b7d"
            ],
            [
             0.2,
             "#de77ae"
            ],
            [
             0.3,
             "#f1b6da"
            ],
            [
             0.4,
             "#fde0ef"
            ],
            [
             0.5,
             "#f7f7f7"
            ],
            [
             0.6,
             "#e6f5d0"
            ],
            [
             0.7,
             "#b8e186"
            ],
            [
             0.8,
             "#7fbc41"
            ],
            [
             0.9,
             "#4d9221"
            ],
            [
             1,
             "#276419"
            ]
           ],
           "sequential": [
            [
             0,
             "#0d0887"
            ],
            [
             0.1111111111111111,
             "#46039f"
            ],
            [
             0.2222222222222222,
             "#7201a8"
            ],
            [
             0.3333333333333333,
             "#9c179e"
            ],
            [
             0.4444444444444444,
             "#bd3786"
            ],
            [
             0.5555555555555556,
             "#d8576b"
            ],
            [
             0.6666666666666666,
             "#ed7953"
            ],
            [
             0.7777777777777778,
             "#fb9f3a"
            ],
            [
             0.8888888888888888,
             "#fdca26"
            ],
            [
             1,
             "#f0f921"
            ]
           ],
           "sequentialminus": [
            [
             0,
             "#0d0887"
            ],
            [
             0.1111111111111111,
             "#46039f"
            ],
            [
             0.2222222222222222,
             "#7201a8"
            ],
            [
             0.3333333333333333,
             "#9c179e"
            ],
            [
             0.4444444444444444,
             "#bd3786"
            ],
            [
             0.5555555555555556,
             "#d8576b"
            ],
            [
             0.6666666666666666,
             "#ed7953"
            ],
            [
             0.7777777777777778,
             "#fb9f3a"
            ],
            [
             0.8888888888888888,
             "#fdca26"
            ],
            [
             1,
             "#f0f921"
            ]
           ]
          },
          "colorway": [
           "#636efa",
           "#EF553B",
           "#00cc96",
           "#ab63fa",
           "#FFA15A",
           "#19d3f3",
           "#FF6692",
           "#B6E880",
           "#FF97FF",
           "#FECB52"
          ],
          "font": {
           "color": "#2a3f5f"
          },
          "geo": {
           "bgcolor": "white",
           "lakecolor": "white",
           "landcolor": "white",
           "showlakes": true,
           "showland": true,
           "subunitcolor": "#C8D4E3"
          },
          "hoverlabel": {
           "align": "left"
          },
          "hovermode": "closest",
          "mapbox": {
           "style": "light"
          },
          "paper_bgcolor": "white",
          "plot_bgcolor": "white",
          "polar": {
           "angularaxis": {
            "gridcolor": "#EBF0F8",
            "linecolor": "#EBF0F8",
            "ticks": ""
           },
           "bgcolor": "white",
           "radialaxis": {
            "gridcolor": "#EBF0F8",
            "linecolor": "#EBF0F8",
            "ticks": ""
           }
          },
          "scene": {
           "xaxis": {
            "backgroundcolor": "white",
            "gridcolor": "#DFE8F3",
            "gridwidth": 2,
            "linecolor": "#EBF0F8",
            "showbackground": true,
            "ticks": "",
            "zerolinecolor": "#EBF0F8"
           },
           "yaxis": {
            "backgroundcolor": "white",
            "gridcolor": "#DFE8F3",
            "gridwidth": 2,
            "linecolor": "#EBF0F8",
            "showbackground": true,
            "ticks": "",
            "zerolinecolor": "#EBF0F8"
           },
           "zaxis": {
            "backgroundcolor": "white",
            "gridcolor": "#DFE8F3",
            "gridwidth": 2,
            "linecolor": "#EBF0F8",
            "showbackground": true,
            "ticks": "",
            "zerolinecolor": "#EBF0F8"
           }
          },
          "shapedefaults": {
           "line": {
            "color": "#2a3f5f"
           }
          },
          "ternary": {
           "aaxis": {
            "gridcolor": "#DFE8F3",
            "linecolor": "#A2B1C6",
            "ticks": ""
           },
           "baxis": {
            "gridcolor": "#DFE8F3",
            "linecolor": "#A2B1C6",
            "ticks": ""
           },
           "bgcolor": "white",
           "caxis": {
            "gridcolor": "#DFE8F3",
            "linecolor": "#A2B1C6",
            "ticks": ""
           }
          },
          "title": {
           "x": 0.05
          },
          "xaxis": {
           "automargin": true,
           "gridcolor": "#EBF0F8",
           "linecolor": "#EBF0F8",
           "ticks": "",
           "title": {
            "standoff": 15
           },
           "zerolinecolor": "#EBF0F8",
           "zerolinewidth": 2
          },
          "yaxis": {
           "automargin": true,
           "gridcolor": "#EBF0F8",
           "linecolor": "#EBF0F8",
           "ticks": "",
           "title": {
            "standoff": 15
           },
           "zerolinecolor": "#EBF0F8",
           "zerolinewidth": 2
          }
         }
        },
        "title": {
         "text": "Distribution of Actual vs Predicted Prices"
        },
        "xaxis": {
         "anchor": "y",
         "categoryarray": [
          "Actual",
          "Predicted"
         ],
         "categoryorder": "array",
         "domain": [
          0,
          1
         ],
         "title": {
          "text": "Type"
         }
        },
        "yaxis": {
         "anchor": "x",
         "domain": [
          0,
          1
         ],
         "title": {
          "text": "BTC Price (USD)"
         }
        }
       }
      }
     },
     "metadata": {},
     "output_type": "display_data"
    }
   ],
   "source": [
    "import plotly.express as px\n",
    "\n",
    "\n",
    "# Assume results DataFrame contains 'Actual' and 'Predicted' columns\n",
    "\n",
    "# Melt the DataFrame so we can compare both Actual and Predicted in a single boxplot\n",
    "box_df = results.melt(\n",
    "    value_vars=['Actual', 'Predicted'],\n",
    "    var_name='Type',\n",
    "    value_name='Price'\n",
    ")\n",
    "\n",
    "# Create boxplot\n",
    "fig = px.box(\n",
    "    box_df,\n",
    "    x='Type',\n",
    "    y='Price',\n",
    "    color='Type',\n",
    "    title='Distribution of Actual vs Predicted Prices',\n",
    "    points='all',  # Show all data points (adds scatter to boxplot)\n",
    "    template='plotly_white'\n",
    ")\n",
    "\n",
    "fig.update_layout(\n",
    "    yaxis_title='BTC Price (USD)',\n",
    "    xaxis_title='Type',\n",
    "    showlegend=False\n",
    ")\n",
    "\n",
    "fig.show()\n",
    "fig.write_image(\"assets/ActualvsPredicted.png\")"
   ]
  },
  {
   "cell_type": "code",
   "execution_count": 32,
   "id": "05dc521a",
   "metadata": {},
   "outputs": [
    {
     "data": {
      "application/vnd.plotly.v1+json": {
       "config": {
        "plotlyServerURL": "https://plot.ly"
       },
       "data": [
        {
         "line": {
          "color": "blue"
         },
         "mode": "lines",
         "name": "Predicted Price",
         "type": "scatter",
         "x": [
          "2023-04-25T00:00:00.000000000",
          "2023-04-26T00:00:00.000000000",
          "2023-04-27T00:00:00.000000000",
          "2023-04-28T00:00:00.000000000",
          "2023-04-29T00:00:00.000000000",
          "2023-04-30T00:00:00.000000000",
          "2023-05-01T00:00:00.000000000",
          "2023-05-02T00:00:00.000000000",
          "2023-05-03T00:00:00.000000000",
          "2023-05-04T00:00:00.000000000",
          "2023-05-05T00:00:00.000000000",
          "2023-05-06T00:00:00.000000000",
          "2023-05-07T00:00:00.000000000",
          "2023-05-08T00:00:00.000000000",
          "2023-05-09T00:00:00.000000000",
          "2023-05-10T00:00:00.000000000",
          "2023-05-11T00:00:00.000000000",
          "2023-05-12T00:00:00.000000000",
          "2023-05-13T00:00:00.000000000",
          "2023-05-14T00:00:00.000000000",
          "2023-05-15T00:00:00.000000000",
          "2023-05-16T00:00:00.000000000",
          "2023-05-17T00:00:00.000000000",
          "2023-05-18T00:00:00.000000000",
          "2023-05-19T00:00:00.000000000",
          "2023-05-20T00:00:00.000000000",
          "2023-05-21T00:00:00.000000000",
          "2023-05-22T00:00:00.000000000",
          "2023-05-23T00:00:00.000000000",
          "2023-05-24T00:00:00.000000000",
          "2023-05-25T00:00:00.000000000",
          "2023-05-26T00:00:00.000000000",
          "2023-05-27T00:00:00.000000000",
          "2023-05-28T00:00:00.000000000",
          "2023-05-29T00:00:00.000000000",
          "2023-05-30T00:00:00.000000000",
          "2023-05-31T00:00:00.000000000",
          "2023-06-01T00:00:00.000000000",
          "2023-06-02T00:00:00.000000000",
          "2023-06-03T00:00:00.000000000",
          "2023-06-04T00:00:00.000000000",
          "2023-06-05T00:00:00.000000000",
          "2023-06-06T00:00:00.000000000",
          "2023-06-07T00:00:00.000000000",
          "2023-06-08T00:00:00.000000000",
          "2023-06-09T00:00:00.000000000",
          "2023-06-10T00:00:00.000000000",
          "2023-06-11T00:00:00.000000000",
          "2023-06-12T00:00:00.000000000",
          "2023-06-13T00:00:00.000000000",
          "2023-06-14T00:00:00.000000000",
          "2023-06-15T00:00:00.000000000",
          "2023-06-16T00:00:00.000000000",
          "2023-06-17T00:00:00.000000000",
          "2023-06-18T00:00:00.000000000",
          "2023-06-19T00:00:00.000000000",
          "2023-06-20T00:00:00.000000000",
          "2023-06-21T00:00:00.000000000",
          "2023-06-22T00:00:00.000000000",
          "2023-06-23T00:00:00.000000000",
          "2023-06-24T00:00:00.000000000",
          "2023-06-25T00:00:00.000000000",
          "2023-06-26T00:00:00.000000000",
          "2023-06-27T00:00:00.000000000",
          "2023-06-28T00:00:00.000000000",
          "2023-06-29T00:00:00.000000000",
          "2023-06-30T00:00:00.000000000",
          "2023-07-01T00:00:00.000000000",
          "2023-07-02T00:00:00.000000000",
          "2023-07-03T00:00:00.000000000",
          "2023-07-04T00:00:00.000000000",
          "2023-07-05T00:00:00.000000000",
          "2023-07-06T00:00:00.000000000",
          "2023-07-07T00:00:00.000000000",
          "2023-07-08T00:00:00.000000000",
          "2023-07-09T00:00:00.000000000",
          "2023-07-10T00:00:00.000000000",
          "2023-07-11T00:00:00.000000000",
          "2023-07-12T00:00:00.000000000",
          "2023-07-13T00:00:00.000000000",
          "2023-07-14T00:00:00.000000000",
          "2023-07-15T00:00:00.000000000",
          "2023-07-16T00:00:00.000000000",
          "2023-07-17T00:00:00.000000000",
          "2023-07-18T00:00:00.000000000",
          "2023-07-19T00:00:00.000000000",
          "2023-07-20T00:00:00.000000000",
          "2023-07-21T00:00:00.000000000",
          "2023-07-22T00:00:00.000000000",
          "2023-07-23T00:00:00.000000000",
          "2023-07-24T00:00:00.000000000",
          "2023-07-25T00:00:00.000000000",
          "2023-07-26T00:00:00.000000000",
          "2023-07-27T00:00:00.000000000",
          "2023-07-28T00:00:00.000000000",
          "2023-07-29T00:00:00.000000000",
          "2023-07-30T00:00:00.000000000",
          "2023-07-31T00:00:00.000000000",
          "2023-08-01T00:00:00.000000000",
          "2023-08-02T00:00:00.000000000",
          "2023-08-03T00:00:00.000000000",
          "2023-08-04T00:00:00.000000000",
          "2023-08-05T00:00:00.000000000",
          "2023-08-06T00:00:00.000000000",
          "2023-08-07T00:00:00.000000000",
          "2023-08-08T00:00:00.000000000",
          "2023-08-09T00:00:00.000000000",
          "2023-08-10T00:00:00.000000000",
          "2023-08-11T00:00:00.000000000",
          "2023-08-12T00:00:00.000000000",
          "2023-08-13T00:00:00.000000000",
          "2023-08-14T00:00:00.000000000",
          "2023-08-15T00:00:00.000000000",
          "2023-08-16T00:00:00.000000000",
          "2023-08-17T00:00:00.000000000",
          "2023-08-18T00:00:00.000000000",
          "2023-08-19T00:00:00.000000000",
          "2023-08-20T00:00:00.000000000",
          "2023-08-21T00:00:00.000000000",
          "2023-08-22T00:00:00.000000000",
          "2023-08-23T00:00:00.000000000",
          "2023-08-24T00:00:00.000000000",
          "2023-08-25T00:00:00.000000000",
          "2023-08-26T00:00:00.000000000",
          "2023-08-27T00:00:00.000000000",
          "2023-08-28T00:00:00.000000000",
          "2023-08-29T00:00:00.000000000",
          "2023-08-30T00:00:00.000000000",
          "2023-08-31T00:00:00.000000000",
          "2023-09-01T00:00:00.000000000",
          "2023-09-02T00:00:00.000000000",
          "2023-09-03T00:00:00.000000000",
          "2023-09-04T00:00:00.000000000",
          "2023-09-05T00:00:00.000000000",
          "2023-09-06T00:00:00.000000000",
          "2023-09-07T00:00:00.000000000",
          "2023-09-08T00:00:00.000000000",
          "2023-09-09T00:00:00.000000000",
          "2023-09-10T00:00:00.000000000",
          "2023-09-11T00:00:00.000000000",
          "2023-09-12T00:00:00.000000000",
          "2023-09-13T00:00:00.000000000",
          "2023-09-14T00:00:00.000000000",
          "2023-09-15T00:00:00.000000000",
          "2023-09-16T00:00:00.000000000",
          "2023-09-17T00:00:00.000000000",
          "2023-09-18T00:00:00.000000000",
          "2023-09-19T00:00:00.000000000",
          "2023-09-20T00:00:00.000000000",
          "2023-09-21T00:00:00.000000000",
          "2023-09-22T00:00:00.000000000",
          "2023-09-23T00:00:00.000000000",
          "2023-09-24T00:00:00.000000000",
          "2023-09-25T00:00:00.000000000",
          "2023-09-26T00:00:00.000000000",
          "2023-09-27T00:00:00.000000000",
          "2023-09-28T00:00:00.000000000",
          "2023-09-29T00:00:00.000000000",
          "2023-09-30T00:00:00.000000000",
          "2023-10-01T00:00:00.000000000",
          "2023-10-02T00:00:00.000000000",
          "2023-10-03T00:00:00.000000000",
          "2023-10-04T00:00:00.000000000",
          "2023-10-05T00:00:00.000000000",
          "2023-10-06T00:00:00.000000000",
          "2023-10-07T00:00:00.000000000",
          "2023-10-08T00:00:00.000000000",
          "2023-10-09T00:00:00.000000000",
          "2023-10-10T00:00:00.000000000",
          "2023-10-11T00:00:00.000000000",
          "2023-10-12T00:00:00.000000000",
          "2023-10-13T00:00:00.000000000",
          "2023-10-14T00:00:00.000000000",
          "2023-10-15T00:00:00.000000000",
          "2023-10-16T00:00:00.000000000",
          "2023-10-17T00:00:00.000000000",
          "2023-10-18T00:00:00.000000000",
          "2023-10-19T00:00:00.000000000",
          "2023-10-20T00:00:00.000000000",
          "2023-10-21T00:00:00.000000000",
          "2023-10-22T00:00:00.000000000",
          "2023-10-23T00:00:00.000000000",
          "2023-10-24T00:00:00.000000000",
          "2023-10-25T00:00:00.000000000",
          "2023-10-26T00:00:00.000000000",
          "2023-10-27T00:00:00.000000000",
          "2023-10-28T00:00:00.000000000",
          "2023-10-29T00:00:00.000000000",
          "2023-10-30T00:00:00.000000000",
          "2023-10-31T00:00:00.000000000",
          "2023-11-01T00:00:00.000000000",
          "2023-11-02T00:00:00.000000000",
          "2023-11-03T00:00:00.000000000",
          "2023-11-04T00:00:00.000000000",
          "2023-11-05T00:00:00.000000000",
          "2023-11-06T00:00:00.000000000",
          "2023-11-07T00:00:00.000000000",
          "2023-11-08T00:00:00.000000000",
          "2023-11-09T00:00:00.000000000",
          "2023-11-10T00:00:00.000000000",
          "2023-11-11T00:00:00.000000000",
          "2023-11-12T00:00:00.000000000",
          "2023-11-13T00:00:00.000000000",
          "2023-11-14T00:00:00.000000000",
          "2023-11-15T00:00:00.000000000",
          "2023-11-16T00:00:00.000000000",
          "2023-11-17T00:00:00.000000000",
          "2023-11-18T00:00:00.000000000",
          "2023-11-19T00:00:00.000000000",
          "2023-11-20T00:00:00.000000000",
          "2023-11-21T00:00:00.000000000",
          "2023-11-22T00:00:00.000000000",
          "2023-11-23T00:00:00.000000000",
          "2023-11-24T00:00:00.000000000",
          "2023-11-25T00:00:00.000000000",
          "2023-11-26T00:00:00.000000000",
          "2023-11-27T00:00:00.000000000",
          "2023-11-28T00:00:00.000000000",
          "2023-11-29T00:00:00.000000000",
          "2023-11-30T00:00:00.000000000",
          "2023-12-01T00:00:00.000000000",
          "2023-12-02T00:00:00.000000000",
          "2023-12-03T00:00:00.000000000",
          "2023-12-04T00:00:00.000000000",
          "2023-12-05T00:00:00.000000000",
          "2023-12-06T00:00:00.000000000",
          "2023-12-07T00:00:00.000000000",
          "2023-12-08T00:00:00.000000000",
          "2023-12-09T00:00:00.000000000",
          "2023-12-10T00:00:00.000000000",
          "2023-12-11T00:00:00.000000000",
          "2023-12-12T00:00:00.000000000",
          "2023-12-13T00:00:00.000000000",
          "2023-12-14T00:00:00.000000000",
          "2023-12-15T00:00:00.000000000",
          "2023-12-16T00:00:00.000000000",
          "2023-12-17T00:00:00.000000000",
          "2023-12-18T00:00:00.000000000",
          "2023-12-19T00:00:00.000000000",
          "2023-12-20T00:00:00.000000000",
          "2023-12-21T00:00:00.000000000",
          "2023-12-22T00:00:00.000000000",
          "2023-12-23T00:00:00.000000000",
          "2023-12-24T00:00:00.000000000",
          "2023-12-25T00:00:00.000000000",
          "2023-12-26T00:00:00.000000000",
          "2023-12-27T00:00:00.000000000",
          "2023-12-28T00:00:00.000000000",
          "2023-12-29T00:00:00.000000000",
          "2023-12-30T00:00:00.000000000",
          "2023-12-31T00:00:00.000000000",
          "2024-01-01T00:00:00.000000000",
          "2024-01-02T00:00:00.000000000",
          "2024-01-03T00:00:00.000000000",
          "2024-01-04T00:00:00.000000000",
          "2024-01-05T00:00:00.000000000",
          "2024-01-06T00:00:00.000000000",
          "2024-01-07T00:00:00.000000000",
          "2024-01-08T00:00:00.000000000",
          "2024-01-09T00:00:00.000000000",
          "2024-01-10T00:00:00.000000000",
          "2024-01-11T00:00:00.000000000",
          "2024-01-12T00:00:00.000000000",
          "2024-01-13T00:00:00.000000000",
          "2024-01-14T00:00:00.000000000",
          "2024-01-15T00:00:00.000000000",
          "2024-01-16T00:00:00.000000000",
          "2024-01-17T00:00:00.000000000",
          "2024-01-18T00:00:00.000000000",
          "2024-01-19T00:00:00.000000000",
          "2024-01-20T00:00:00.000000000",
          "2024-01-21T00:00:00.000000000",
          "2024-01-22T00:00:00.000000000",
          "2024-01-23T00:00:00.000000000",
          "2024-01-24T00:00:00.000000000",
          "2024-01-25T00:00:00.000000000",
          "2024-01-26T00:00:00.000000000",
          "2024-01-27T00:00:00.000000000",
          "2024-01-28T00:00:00.000000000",
          "2024-01-29T00:00:00.000000000",
          "2024-01-30T00:00:00.000000000",
          "2024-01-31T00:00:00.000000000",
          "2024-02-01T00:00:00.000000000",
          "2024-02-02T00:00:00.000000000",
          "2024-02-03T00:00:00.000000000",
          "2024-02-04T00:00:00.000000000",
          "2024-02-05T00:00:00.000000000",
          "2024-02-06T00:00:00.000000000",
          "2024-02-07T00:00:00.000000000",
          "2024-02-08T00:00:00.000000000",
          "2024-02-09T00:00:00.000000000",
          "2024-02-10T00:00:00.000000000",
          "2024-02-11T00:00:00.000000000",
          "2024-02-12T00:00:00.000000000",
          "2024-02-13T00:00:00.000000000",
          "2024-02-14T00:00:00.000000000",
          "2024-02-15T00:00:00.000000000",
          "2024-02-16T00:00:00.000000000",
          "2024-02-17T00:00:00.000000000",
          "2024-02-18T00:00:00.000000000",
          "2024-02-19T00:00:00.000000000",
          "2024-02-20T00:00:00.000000000",
          "2024-02-21T00:00:00.000000000",
          "2024-02-22T00:00:00.000000000",
          "2024-02-23T00:00:00.000000000",
          "2024-02-24T00:00:00.000000000",
          "2024-02-25T00:00:00.000000000",
          "2024-02-26T00:00:00.000000000",
          "2024-02-27T00:00:00.000000000",
          "2024-02-28T00:00:00.000000000",
          "2024-02-29T00:00:00.000000000",
          "2024-03-01T00:00:00.000000000",
          "2024-03-02T00:00:00.000000000",
          "2024-03-03T00:00:00.000000000",
          "2024-03-04T00:00:00.000000000",
          "2024-03-05T00:00:00.000000000",
          "2024-03-06T00:00:00.000000000",
          "2024-03-07T00:00:00.000000000",
          "2024-03-08T00:00:00.000000000",
          "2024-03-09T00:00:00.000000000",
          "2024-03-10T00:00:00.000000000",
          "2024-03-11T00:00:00.000000000",
          "2024-03-12T00:00:00.000000000",
          "2024-03-13T00:00:00.000000000",
          "2024-03-14T00:00:00.000000000",
          "2024-03-15T00:00:00.000000000",
          "2024-03-16T00:00:00.000000000",
          "2024-03-17T00:00:00.000000000",
          "2024-03-18T00:00:00.000000000",
          "2024-03-19T00:00:00.000000000",
          "2024-03-20T00:00:00.000000000",
          "2024-03-21T00:00:00.000000000",
          "2024-03-22T00:00:00.000000000",
          "2024-03-23T00:00:00.000000000",
          "2024-03-24T00:00:00.000000000",
          "2024-03-25T00:00:00.000000000",
          "2024-03-26T00:00:00.000000000",
          "2024-03-27T00:00:00.000000000",
          "2024-03-28T00:00:00.000000000",
          "2024-03-29T00:00:00.000000000",
          "2024-03-30T00:00:00.000000000",
          "2024-03-31T00:00:00.000000000",
          "2024-04-01T00:00:00.000000000",
          "2024-04-02T00:00:00.000000000",
          "2024-04-03T00:00:00.000000000",
          "2024-04-04T00:00:00.000000000",
          "2024-04-05T00:00:00.000000000",
          "2024-04-06T00:00:00.000000000",
          "2024-04-07T00:00:00.000000000",
          "2024-04-08T00:00:00.000000000",
          "2024-04-09T00:00:00.000000000",
          "2024-04-10T00:00:00.000000000",
          "2024-04-11T00:00:00.000000000",
          "2024-04-12T00:00:00.000000000",
          "2024-04-13T00:00:00.000000000",
          "2024-04-14T00:00:00.000000000",
          "2024-04-15T00:00:00.000000000",
          "2024-04-16T00:00:00.000000000",
          "2024-04-17T00:00:00.000000000",
          "2024-04-18T00:00:00.000000000",
          "2024-04-19T00:00:00.000000000",
          "2024-04-20T00:00:00.000000000",
          "2024-04-21T00:00:00.000000000",
          "2024-04-22T00:00:00.000000000",
          "2024-04-23T00:00:00.000000000",
          "2024-04-24T00:00:00.000000000",
          "2024-04-25T00:00:00.000000000",
          "2024-04-26T00:00:00.000000000",
          "2024-04-27T00:00:00.000000000",
          "2024-04-28T00:00:00.000000000",
          "2024-04-29T00:00:00.000000000",
          "2024-04-30T00:00:00.000000000",
          "2024-05-01T00:00:00.000000000",
          "2024-05-02T00:00:00.000000000",
          "2024-05-03T00:00:00.000000000",
          "2024-05-04T00:00:00.000000000",
          "2024-05-05T00:00:00.000000000",
          "2024-05-06T00:00:00.000000000",
          "2024-05-07T00:00:00.000000000",
          "2024-05-08T00:00:00.000000000",
          "2024-05-09T00:00:00.000000000",
          "2024-05-10T00:00:00.000000000",
          "2024-05-11T00:00:00.000000000",
          "2024-05-12T00:00:00.000000000",
          "2024-05-13T00:00:00.000000000",
          "2024-05-14T00:00:00.000000000",
          "2024-05-15T00:00:00.000000000",
          "2024-05-16T00:00:00.000000000",
          "2024-05-17T00:00:00.000000000",
          "2024-05-18T00:00:00.000000000",
          "2024-05-19T00:00:00.000000000",
          "2024-05-20T00:00:00.000000000",
          "2024-05-21T00:00:00.000000000",
          "2024-05-22T00:00:00.000000000",
          "2024-05-23T00:00:00.000000000",
          "2024-05-24T00:00:00.000000000",
          "2024-05-25T00:00:00.000000000",
          "2024-05-26T00:00:00.000000000",
          "2024-05-27T00:00:00.000000000",
          "2024-05-28T00:00:00.000000000",
          "2024-05-29T00:00:00.000000000",
          "2024-05-30T00:00:00.000000000",
          "2024-05-31T00:00:00.000000000",
          "2024-06-01T00:00:00.000000000",
          "2024-06-02T00:00:00.000000000",
          "2024-06-03T00:00:00.000000000",
          "2024-06-04T00:00:00.000000000",
          "2024-06-05T00:00:00.000000000",
          "2024-06-06T00:00:00.000000000",
          "2024-06-07T00:00:00.000000000",
          "2024-06-08T00:00:00.000000000",
          "2024-06-09T00:00:00.000000000",
          "2024-06-10T00:00:00.000000000",
          "2024-06-11T00:00:00.000000000",
          "2024-06-12T00:00:00.000000000",
          "2024-06-13T00:00:00.000000000",
          "2024-06-14T00:00:00.000000000",
          "2024-06-15T00:00:00.000000000",
          "2024-06-16T00:00:00.000000000",
          "2024-06-17T00:00:00.000000000",
          "2024-06-18T00:00:00.000000000",
          "2024-06-19T00:00:00.000000000",
          "2024-06-20T00:00:00.000000000",
          "2024-06-21T00:00:00.000000000",
          "2024-06-22T00:00:00.000000000",
          "2024-06-23T00:00:00.000000000",
          "2024-06-24T00:00:00.000000000",
          "2024-06-25T00:00:00.000000000",
          "2024-06-26T00:00:00.000000000",
          "2024-06-27T00:00:00.000000000",
          "2024-06-28T00:00:00.000000000",
          "2024-06-29T00:00:00.000000000",
          "2024-06-30T00:00:00.000000000",
          "2024-07-01T00:00:00.000000000",
          "2024-07-02T00:00:00.000000000",
          "2024-07-03T00:00:00.000000000",
          "2024-07-04T00:00:00.000000000",
          "2024-07-05T00:00:00.000000000",
          "2024-07-06T00:00:00.000000000",
          "2024-07-07T00:00:00.000000000",
          "2024-07-08T00:00:00.000000000",
          "2024-07-09T00:00:00.000000000",
          "2024-07-10T00:00:00.000000000",
          "2024-07-11T00:00:00.000000000",
          "2024-07-12T00:00:00.000000000",
          "2024-07-13T00:00:00.000000000",
          "2024-07-14T00:00:00.000000000",
          "2024-07-15T00:00:00.000000000",
          "2024-07-16T00:00:00.000000000",
          "2024-07-17T00:00:00.000000000",
          "2024-07-18T00:00:00.000000000",
          "2024-07-19T00:00:00.000000000",
          "2024-07-20T00:00:00.000000000",
          "2024-07-21T00:00:00.000000000",
          "2024-07-22T00:00:00.000000000",
          "2024-07-23T00:00:00.000000000",
          "2024-07-24T00:00:00.000000000",
          "2024-07-25T00:00:00.000000000",
          "2024-07-26T00:00:00.000000000",
          "2024-07-27T00:00:00.000000000",
          "2024-07-28T00:00:00.000000000",
          "2024-07-29T00:00:00.000000000",
          "2024-07-30T00:00:00.000000000",
          "2024-07-31T00:00:00.000000000",
          "2024-08-01T00:00:00.000000000",
          "2024-08-02T00:00:00.000000000",
          "2024-08-03T00:00:00.000000000",
          "2024-08-04T00:00:00.000000000",
          "2024-08-05T00:00:00.000000000",
          "2024-08-06T00:00:00.000000000",
          "2024-08-07T00:00:00.000000000",
          "2024-08-08T00:00:00.000000000",
          "2024-08-09T00:00:00.000000000",
          "2024-08-10T00:00:00.000000000",
          "2024-08-11T00:00:00.000000000",
          "2024-08-12T00:00:00.000000000",
          "2024-08-13T00:00:00.000000000",
          "2024-08-14T00:00:00.000000000",
          "2024-08-15T00:00:00.000000000",
          "2024-08-16T00:00:00.000000000",
          "2024-08-17T00:00:00.000000000",
          "2024-08-18T00:00:00.000000000",
          "2024-08-19T00:00:00.000000000",
          "2024-08-20T00:00:00.000000000",
          "2024-08-21T00:00:00.000000000",
          "2024-08-22T00:00:00.000000000",
          "2024-08-23T00:00:00.000000000",
          "2024-08-24T00:00:00.000000000",
          "2024-08-25T00:00:00.000000000",
          "2024-08-26T00:00:00.000000000",
          "2024-08-27T00:00:00.000000000",
          "2024-08-28T00:00:00.000000000",
          "2024-08-29T00:00:00.000000000",
          "2024-08-30T00:00:00.000000000",
          "2024-08-31T00:00:00.000000000",
          "2024-09-01T00:00:00.000000000",
          "2024-09-02T00:00:00.000000000",
          "2024-09-03T00:00:00.000000000",
          "2024-09-04T00:00:00.000000000",
          "2024-09-05T00:00:00.000000000",
          "2024-09-06T00:00:00.000000000",
          "2024-09-07T00:00:00.000000000",
          "2024-09-08T00:00:00.000000000",
          "2024-09-09T00:00:00.000000000",
          "2024-09-10T00:00:00.000000000",
          "2024-09-11T00:00:00.000000000",
          "2024-09-12T00:00:00.000000000",
          "2024-09-13T00:00:00.000000000",
          "2024-09-14T00:00:00.000000000",
          "2024-09-15T00:00:00.000000000",
          "2024-09-16T00:00:00.000000000",
          "2024-09-17T00:00:00.000000000",
          "2024-09-18T00:00:00.000000000",
          "2024-09-19T00:00:00.000000000",
          "2024-09-20T00:00:00.000000000",
          "2024-09-21T00:00:00.000000000",
          "2024-09-22T00:00:00.000000000",
          "2024-09-23T00:00:00.000000000",
          "2024-09-24T00:00:00.000000000",
          "2024-09-25T00:00:00.000000000",
          "2024-09-26T00:00:00.000000000",
          "2024-09-27T00:00:00.000000000",
          "2024-09-28T00:00:00.000000000",
          "2024-09-29T00:00:00.000000000",
          "2024-09-30T00:00:00.000000000",
          "2024-10-01T00:00:00.000000000",
          "2024-10-02T00:00:00.000000000",
          "2024-10-03T00:00:00.000000000",
          "2024-10-04T00:00:00.000000000",
          "2024-10-05T00:00:00.000000000",
          "2024-10-06T00:00:00.000000000",
          "2024-10-07T00:00:00.000000000",
          "2024-10-08T00:00:00.000000000",
          "2024-10-09T00:00:00.000000000",
          "2024-10-10T00:00:00.000000000",
          "2024-10-11T00:00:00.000000000",
          "2024-10-12T00:00:00.000000000",
          "2024-10-13T00:00:00.000000000",
          "2024-10-14T00:00:00.000000000",
          "2024-10-15T00:00:00.000000000",
          "2024-10-16T00:00:00.000000000",
          "2024-10-17T00:00:00.000000000",
          "2024-10-18T00:00:00.000000000",
          "2024-10-19T00:00:00.000000000",
          "2024-10-20T00:00:00.000000000",
          "2024-10-21T00:00:00.000000000",
          "2024-10-22T00:00:00.000000000",
          "2024-10-23T00:00:00.000000000",
          "2024-10-24T00:00:00.000000000",
          "2024-10-25T00:00:00.000000000",
          "2024-10-26T00:00:00.000000000",
          "2024-10-27T00:00:00.000000000",
          "2024-10-28T00:00:00.000000000",
          "2024-10-29T00:00:00.000000000",
          "2024-10-30T00:00:00.000000000",
          "2024-10-31T00:00:00.000000000",
          "2024-11-01T00:00:00.000000000",
          "2024-11-02T00:00:00.000000000",
          "2024-11-03T00:00:00.000000000",
          "2024-11-04T00:00:00.000000000",
          "2024-11-05T00:00:00.000000000",
          "2024-11-06T00:00:00.000000000",
          "2024-11-07T00:00:00.000000000",
          "2024-11-08T00:00:00.000000000",
          "2024-11-09T00:00:00.000000000",
          "2024-11-10T00:00:00.000000000",
          "2024-11-11T00:00:00.000000000",
          "2024-11-12T00:00:00.000000000",
          "2024-11-13T00:00:00.000000000",
          "2024-11-14T00:00:00.000000000",
          "2024-11-15T00:00:00.000000000",
          "2024-11-16T00:00:00.000000000",
          "2024-11-17T00:00:00.000000000",
          "2024-11-18T00:00:00.000000000",
          "2024-11-19T00:00:00.000000000",
          "2024-11-20T00:00:00.000000000",
          "2024-11-21T00:00:00.000000000",
          "2024-11-22T00:00:00.000000000",
          "2024-11-23T00:00:00.000000000",
          "2024-11-24T00:00:00.000000000",
          "2024-11-25T00:00:00.000000000",
          "2024-11-26T00:00:00.000000000",
          "2024-11-27T00:00:00.000000000",
          "2024-11-28T00:00:00.000000000",
          "2024-11-29T00:00:00.000000000",
          "2024-11-30T00:00:00.000000000",
          "2024-12-01T00:00:00.000000000",
          "2024-12-02T00:00:00.000000000",
          "2024-12-03T00:00:00.000000000",
          "2024-12-04T00:00:00.000000000",
          "2024-12-05T00:00:00.000000000",
          "2024-12-06T00:00:00.000000000",
          "2024-12-07T00:00:00.000000000",
          "2024-12-08T00:00:00.000000000",
          "2024-12-09T00:00:00.000000000",
          "2024-12-10T00:00:00.000000000",
          "2024-12-11T00:00:00.000000000",
          "2024-12-12T00:00:00.000000000",
          "2024-12-13T00:00:00.000000000",
          "2024-12-14T00:00:00.000000000",
          "2024-12-15T00:00:00.000000000",
          "2024-12-16T00:00:00.000000000",
          "2024-12-17T00:00:00.000000000",
          "2024-12-18T00:00:00.000000000",
          "2024-12-19T00:00:00.000000000",
          "2024-12-20T00:00:00.000000000",
          "2024-12-21T00:00:00.000000000",
          "2024-12-22T00:00:00.000000000",
          "2024-12-23T00:00:00.000000000",
          "2024-12-24T00:00:00.000000000",
          "2024-12-25T00:00:00.000000000",
          "2024-12-26T00:00:00.000000000",
          "2024-12-27T00:00:00.000000000",
          "2024-12-28T00:00:00.000000000",
          "2024-12-29T00:00:00.000000000",
          "2024-12-30T00:00:00.000000000",
          "2024-12-31T00:00:00.000000000",
          "2025-01-01T00:00:00.000000000",
          "2025-01-02T00:00:00.000000000",
          "2025-01-03T00:00:00.000000000",
          "2025-01-04T00:00:00.000000000",
          "2025-01-05T00:00:00.000000000",
          "2025-01-06T00:00:00.000000000",
          "2025-01-07T00:00:00.000000000",
          "2025-01-08T00:00:00.000000000",
          "2025-01-09T00:00:00.000000000",
          "2025-01-10T00:00:00.000000000",
          "2025-01-11T00:00:00.000000000",
          "2025-01-12T00:00:00.000000000",
          "2025-01-13T00:00:00.000000000",
          "2025-01-14T00:00:00.000000000",
          "2025-01-15T00:00:00.000000000",
          "2025-01-16T00:00:00.000000000",
          "2025-01-17T00:00:00.000000000",
          "2025-01-18T00:00:00.000000000",
          "2025-01-19T00:00:00.000000000",
          "2025-01-20T00:00:00.000000000",
          "2025-01-21T00:00:00.000000000",
          "2025-01-22T00:00:00.000000000",
          "2025-01-23T00:00:00.000000000",
          "2025-01-24T00:00:00.000000000",
          "2025-01-25T00:00:00.000000000",
          "2025-01-26T00:00:00.000000000",
          "2025-01-27T00:00:00.000000000",
          "2025-01-28T00:00:00.000000000",
          "2025-01-29T00:00:00.000000000",
          "2025-01-30T00:00:00.000000000",
          "2025-01-31T00:00:00.000000000",
          "2025-02-01T00:00:00.000000000",
          "2025-02-02T00:00:00.000000000",
          "2025-02-03T00:00:00.000000000",
          "2025-02-04T00:00:00.000000000",
          "2025-02-05T00:00:00.000000000",
          "2025-02-06T00:00:00.000000000",
          "2025-02-07T00:00:00.000000000",
          "2025-02-08T00:00:00.000000000",
          "2025-02-09T00:00:00.000000000",
          "2025-02-10T00:00:00.000000000",
          "2025-02-11T00:00:00.000000000",
          "2025-02-12T00:00:00.000000000",
          "2025-02-13T00:00:00.000000000",
          "2025-02-14T00:00:00.000000000",
          "2025-02-15T00:00:00.000000000",
          "2025-02-16T00:00:00.000000000",
          "2025-02-17T00:00:00.000000000",
          "2025-02-18T00:00:00.000000000",
          "2025-02-19T00:00:00.000000000",
          "2025-02-20T00:00:00.000000000",
          "2025-02-21T00:00:00.000000000",
          "2025-02-22T00:00:00.000000000",
          "2025-02-23T00:00:00.000000000",
          "2025-02-24T00:00:00.000000000",
          "2025-02-25T00:00:00.000000000",
          "2025-02-26T00:00:00.000000000",
          "2025-02-27T00:00:00.000000000",
          "2025-02-28T00:00:00.000000000",
          "2025-03-01T00:00:00.000000000",
          "2025-03-02T00:00:00.000000000",
          "2025-03-03T00:00:00.000000000",
          "2025-03-04T00:00:00.000000000",
          "2025-03-05T00:00:00.000000000",
          "2025-03-06T00:00:00.000000000",
          "2025-03-07T00:00:00.000000000",
          "2025-03-08T00:00:00.000000000",
          "2025-03-09T00:00:00.000000000",
          "2025-03-10T00:00:00.000000000",
          "2025-03-11T00:00:00.000000000",
          "2025-03-12T00:00:00.000000000",
          "2025-03-13T00:00:00.000000000",
          "2025-03-14T00:00:00.000000000",
          "2025-03-15T00:00:00.000000000",
          "2025-03-16T00:00:00.000000000",
          "2025-03-17T00:00:00.000000000",
          "2025-03-18T00:00:00.000000000",
          "2025-03-19T00:00:00.000000000",
          "2025-03-20T00:00:00.000000000",
          "2025-03-21T00:00:00.000000000",
          "2025-03-22T00:00:00.000000000",
          "2025-03-23T00:00:00.000000000",
          "2025-03-24T00:00:00.000000000",
          "2025-03-25T00:00:00.000000000",
          "2025-03-26T00:00:00.000000000",
          "2025-03-27T00:00:00.000000000",
          "2025-03-28T00:00:00.000000000",
          "2025-03-29T00:00:00.000000000",
          "2025-03-30T00:00:00.000000000",
          "2025-03-31T00:00:00.000000000",
          "2025-04-01T00:00:00.000000000",
          "2025-04-02T00:00:00.000000000"
         ],
         "y": {
          "bdata": "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",
          "dtype": "f8"
         }
        },
        {
         "line": {
          "color": "orange",
          "dash": "dash"
         },
         "mode": "lines",
         "name": "Rolling MAE",
         "type": "scatter",
         "x": [
          "2023-04-25T00:00:00.000000000",
          "2023-04-26T00:00:00.000000000",
          "2023-04-27T00:00:00.000000000",
          "2023-04-28T00:00:00.000000000",
          "2023-04-29T00:00:00.000000000",
          "2023-04-30T00:00:00.000000000",
          "2023-05-01T00:00:00.000000000",
          "2023-05-02T00:00:00.000000000",
          "2023-05-03T00:00:00.000000000",
          "2023-05-04T00:00:00.000000000",
          "2023-05-05T00:00:00.000000000",
          "2023-05-06T00:00:00.000000000",
          "2023-05-07T00:00:00.000000000",
          "2023-05-08T00:00:00.000000000",
          "2023-05-09T00:00:00.000000000",
          "2023-05-10T00:00:00.000000000",
          "2023-05-11T00:00:00.000000000",
          "2023-05-12T00:00:00.000000000",
          "2023-05-13T00:00:00.000000000",
          "2023-05-14T00:00:00.000000000",
          "2023-05-15T00:00:00.000000000",
          "2023-05-16T00:00:00.000000000",
          "2023-05-17T00:00:00.000000000",
          "2023-05-18T00:00:00.000000000",
          "2023-05-19T00:00:00.000000000",
          "2023-05-20T00:00:00.000000000",
          "2023-05-21T00:00:00.000000000",
          "2023-05-22T00:00:00.000000000",
          "2023-05-23T00:00:00.000000000",
          "2023-05-24T00:00:00.000000000",
          "2023-05-25T00:00:00.000000000",
          "2023-05-26T00:00:00.000000000",
          "2023-05-27T00:00:00.000000000",
          "2023-05-28T00:00:00.000000000",
          "2023-05-29T00:00:00.000000000",
          "2023-05-30T00:00:00.000000000",
          "2023-05-31T00:00:00.000000000",
          "2023-06-01T00:00:00.000000000",
          "2023-06-02T00:00:00.000000000",
          "2023-06-03T00:00:00.000000000",
          "2023-06-04T00:00:00.000000000",
          "2023-06-05T00:00:00.000000000",
          "2023-06-06T00:00:00.000000000",
          "2023-06-07T00:00:00.000000000",
          "2023-06-08T00:00:00.000000000",
          "2023-06-09T00:00:00.000000000",
          "2023-06-10T00:00:00.000000000",
          "2023-06-11T00:00:00.000000000",
          "2023-06-12T00:00:00.000000000",
          "2023-06-13T00:00:00.000000000",
          "2023-06-14T00:00:00.000000000",
          "2023-06-15T00:00:00.000000000",
          "2023-06-16T00:00:00.000000000",
          "2023-06-17T00:00:00.000000000",
          "2023-06-18T00:00:00.000000000",
          "2023-06-19T00:00:00.000000000",
          "2023-06-20T00:00:00.000000000",
          "2023-06-21T00:00:00.000000000",
          "2023-06-22T00:00:00.000000000",
          "2023-06-23T00:00:00.000000000",
          "2023-06-24T00:00:00.000000000",
          "2023-06-25T00:00:00.000000000",
          "2023-06-26T00:00:00.000000000",
          "2023-06-27T00:00:00.000000000",
          "2023-06-28T00:00:00.000000000",
          "2023-06-29T00:00:00.000000000",
          "2023-06-30T00:00:00.000000000",
          "2023-07-01T00:00:00.000000000",
          "2023-07-02T00:00:00.000000000",
          "2023-07-03T00:00:00.000000000",
          "2023-07-04T00:00:00.000000000",
          "2023-07-05T00:00:00.000000000",
          "2023-07-06T00:00:00.000000000",
          "2023-07-07T00:00:00.000000000",
          "2023-07-08T00:00:00.000000000",
          "2023-07-09T00:00:00.000000000",
          "2023-07-10T00:00:00.000000000",
          "2023-07-11T00:00:00.000000000",
          "2023-07-12T00:00:00.000000000",
          "2023-07-13T00:00:00.000000000",
          "2023-07-14T00:00:00.000000000",
          "2023-07-15T00:00:00.000000000",
          "2023-07-16T00:00:00.000000000",
          "2023-07-17T00:00:00.000000000",
          "2023-07-18T00:00:00.000000000",
          "2023-07-19T00:00:00.000000000",
          "2023-07-20T00:00:00.000000000",
          "2023-07-21T00:00:00.000000000",
          "2023-07-22T00:00:00.000000000",
          "2023-07-23T00:00:00.000000000",
          "2023-07-24T00:00:00.000000000",
          "2023-07-25T00:00:00.000000000",
          "2023-07-26T00:00:00.000000000",
          "2023-07-27T00:00:00.000000000",
          "2023-07-28T00:00:00.000000000",
          "2023-07-29T00:00:00.000000000",
          "2023-07-30T00:00:00.000000000",
          "2023-07-31T00:00:00.000000000",
          "2023-08-01T00:00:00.000000000",
          "2023-08-02T00:00:00.000000000",
          "2023-08-03T00:00:00.000000000",
          "2023-08-04T00:00:00.000000000",
          "2023-08-05T00:00:00.000000000",
          "2023-08-06T00:00:00.000000000",
          "2023-08-07T00:00:00.000000000",
          "2023-08-08T00:00:00.000000000",
          "2023-08-09T00:00:00.000000000",
          "2023-08-10T00:00:00.000000000",
          "2023-08-11T00:00:00.000000000",
          "2023-08-12T00:00:00.000000000",
          "2023-08-13T00:00:00.000000000",
          "2023-08-14T00:00:00.000000000",
          "2023-08-15T00:00:00.000000000",
          "2023-08-16T00:00:00.000000000",
          "2023-08-17T00:00:00.000000000",
          "2023-08-18T00:00:00.000000000",
          "2023-08-19T00:00:00.000000000",
          "2023-08-20T00:00:00.000000000",
          "2023-08-21T00:00:00.000000000",
          "2023-08-22T00:00:00.000000000",
          "2023-08-23T00:00:00.000000000",
          "2023-08-24T00:00:00.000000000",
          "2023-08-25T00:00:00.000000000",
          "2023-08-26T00:00:00.000000000",
          "2023-08-27T00:00:00.000000000",
          "2023-08-28T00:00:00.000000000",
          "2023-08-29T00:00:00.000000000",
          "2023-08-30T00:00:00.000000000",
          "2023-08-31T00:00:00.000000000",
          "2023-09-01T00:00:00.000000000",
          "2023-09-02T00:00:00.000000000",
          "2023-09-03T00:00:00.000000000",
          "2023-09-04T00:00:00.000000000",
          "2023-09-05T00:00:00.000000000",
          "2023-09-06T00:00:00.000000000",
          "2023-09-07T00:00:00.000000000",
          "2023-09-08T00:00:00.000000000",
          "2023-09-09T00:00:00.000000000",
          "2023-09-10T00:00:00.000000000",
          "2023-09-11T00:00:00.000000000",
          "2023-09-12T00:00:00.000000000",
          "2023-09-13T00:00:00.000000000",
          "2023-09-14T00:00:00.000000000",
          "2023-09-15T00:00:00.000000000",
          "2023-09-16T00:00:00.000000000",
          "2023-09-17T00:00:00.000000000",
          "2023-09-18T00:00:00.000000000",
          "2023-09-19T00:00:00.000000000",
          "2023-09-20T00:00:00.000000000",
          "2023-09-21T00:00:00.000000000",
          "2023-09-22T00:00:00.000000000",
          "2023-09-23T00:00:00.000000000",
          "2023-09-24T00:00:00.000000000",
          "2023-09-25T00:00:00.000000000",
          "2023-09-26T00:00:00.000000000",
          "2023-09-27T00:00:00.000000000",
          "2023-09-28T00:00:00.000000000",
          "2023-09-29T00:00:00.000000000",
          "2023-09-30T00:00:00.000000000",
          "2023-10-01T00:00:00.000000000",
          "2023-10-02T00:00:00.000000000",
          "2023-10-03T00:00:00.000000000",
          "2023-10-04T00:00:00.000000000",
          "2023-10-05T00:00:00.000000000",
          "2023-10-06T00:00:00.000000000",
          "2023-10-07T00:00:00.000000000",
          "2023-10-08T00:00:00.000000000",
          "2023-10-09T00:00:00.000000000",
          "2023-10-10T00:00:00.000000000",
          "2023-10-11T00:00:00.000000000",
          "2023-10-12T00:00:00.000000000",
          "2023-10-13T00:00:00.000000000",
          "2023-10-14T00:00:00.000000000",
          "2023-10-15T00:00:00.000000000",
          "2023-10-16T00:00:00.000000000",
          "2023-10-17T00:00:00.000000000",
          "2023-10-18T00:00:00.000000000",
          "2023-10-19T00:00:00.000000000",
          "2023-10-20T00:00:00.000000000",
          "2023-10-21T00:00:00.000000000",
          "2023-10-22T00:00:00.000000000",
          "2023-10-23T00:00:00.000000000",
          "2023-10-24T00:00:00.000000000",
          "2023-10-25T00:00:00.000000000",
          "2023-10-26T00:00:00.000000000",
          "2023-10-27T00:00:00.000000000",
          "2023-10-28T00:00:00.000000000",
          "2023-10-29T00:00:00.000000000",
          "2023-10-30T00:00:00.000000000",
          "2023-10-31T00:00:00.000000000",
          "2023-11-01T00:00:00.000000000",
          "2023-11-02T00:00:00.000000000",
          "2023-11-03T00:00:00.000000000",
          "2023-11-04T00:00:00.000000000",
          "2023-11-05T00:00:00.000000000",
          "2023-11-06T00:00:00.000000000",
          "2023-11-07T00:00:00.000000000",
          "2023-11-08T00:00:00.000000000",
          "2023-11-09T00:00:00.000000000",
          "2023-11-10T00:00:00.000000000",
          "2023-11-11T00:00:00.000000000",
          "2023-11-12T00:00:00.000000000",
          "2023-11-13T00:00:00.000000000",
          "2023-11-14T00:00:00.000000000",
          "2023-11-15T00:00:00.000000000",
          "2023-11-16T00:00:00.000000000",
          "2023-11-17T00:00:00.000000000",
          "2023-11-18T00:00:00.000000000",
          "2023-11-19T00:00:00.000000000",
          "2023-11-20T00:00:00.000000000",
          "2023-11-21T00:00:00.000000000",
          "2023-11-22T00:00:00.000000000",
          "2023-11-23T00:00:00.000000000",
          "2023-11-24T00:00:00.000000000",
          "2023-11-25T00:00:00.000000000",
          "2023-11-26T00:00:00.000000000",
          "2023-11-27T00:00:00.000000000",
          "2023-11-28T00:00:00.000000000",
          "2023-11-29T00:00:00.000000000",
          "2023-11-30T00:00:00.000000000",
          "2023-12-01T00:00:00.000000000",
          "2023-12-02T00:00:00.000000000",
          "2023-12-03T00:00:00.000000000",
          "2023-12-04T00:00:00.000000000",
          "2023-12-05T00:00:00.000000000",
          "2023-12-06T00:00:00.000000000",
          "2023-12-07T00:00:00.000000000",
          "2023-12-08T00:00:00.000000000",
          "2023-12-09T00:00:00.000000000",
          "2023-12-10T00:00:00.000000000",
          "2023-12-11T00:00:00.000000000",
          "2023-12-12T00:00:00.000000000",
          "2023-12-13T00:00:00.000000000",
          "2023-12-14T00:00:00.000000000",
          "2023-12-15T00:00:00.000000000",
          "2023-12-16T00:00:00.000000000",
          "2023-12-17T00:00:00.000000000",
          "2023-12-18T00:00:00.000000000",
          "2023-12-19T00:00:00.000000000",
          "2023-12-20T00:00:00.000000000",
          "2023-12-21T00:00:00.000000000",
          "2023-12-22T00:00:00.000000000",
          "2023-12-23T00:00:00.000000000",
          "2023-12-24T00:00:00.000000000",
          "2023-12-25T00:00:00.000000000",
          "2023-12-26T00:00:00.000000000",
          "2023-12-27T00:00:00.000000000",
          "2023-12-28T00:00:00.000000000",
          "2023-12-29T00:00:00.000000000",
          "2023-12-30T00:00:00.000000000",
          "2023-12-31T00:00:00.000000000",
          "2024-01-01T00:00:00.000000000",
          "2024-01-02T00:00:00.000000000",
          "2024-01-03T00:00:00.000000000",
          "2024-01-04T00:00:00.000000000",
          "2024-01-05T00:00:00.000000000",
          "2024-01-06T00:00:00.000000000",
          "2024-01-07T00:00:00.000000000",
          "2024-01-08T00:00:00.000000000",
          "2024-01-09T00:00:00.000000000",
          "2024-01-10T00:00:00.000000000",
          "2024-01-11T00:00:00.000000000",
          "2024-01-12T00:00:00.000000000",
          "2024-01-13T00:00:00.000000000",
          "2024-01-14T00:00:00.000000000",
          "2024-01-15T00:00:00.000000000",
          "2024-01-16T00:00:00.000000000",
          "2024-01-17T00:00:00.000000000",
          "2024-01-18T00:00:00.000000000",
          "2024-01-19T00:00:00.000000000",
          "2024-01-20T00:00:00.000000000",
          "2024-01-21T00:00:00.000000000",
          "2024-01-22T00:00:00.000000000",
          "2024-01-23T00:00:00.000000000",
          "2024-01-24T00:00:00.000000000",
          "2024-01-25T00:00:00.000000000",
          "2024-01-26T00:00:00.000000000",
          "2024-01-27T00:00:00.000000000",
          "2024-01-28T00:00:00.000000000",
          "2024-01-29T00:00:00.000000000",
          "2024-01-30T00:00:00.000000000",
          "2024-01-31T00:00:00.000000000",
          "2024-02-01T00:00:00.000000000",
          "2024-02-02T00:00:00.000000000",
          "2024-02-03T00:00:00.000000000",
          "2024-02-04T00:00:00.000000000",
          "2024-02-05T00:00:00.000000000",
          "2024-02-06T00:00:00.000000000",
          "2024-02-07T00:00:00.000000000",
          "2024-02-08T00:00:00.000000000",
          "2024-02-09T00:00:00.000000000",
          "2024-02-10T00:00:00.000000000",
          "2024-02-11T00:00:00.000000000",
          "2024-02-12T00:00:00.000000000",
          "2024-02-13T00:00:00.000000000",
          "2024-02-14T00:00:00.000000000",
          "2024-02-15T00:00:00.000000000",
          "2024-02-16T00:00:00.000000000",
          "2024-02-17T00:00:00.000000000",
          "2024-02-18T00:00:00.000000000",
          "2024-02-19T00:00:00.000000000",
          "2024-02-20T00:00:00.000000000",
          "2024-02-21T00:00:00.000000000",
          "2024-02-22T00:00:00.000000000",
          "2024-02-23T00:00:00.000000000",
          "2024-02-24T00:00:00.000000000",
          "2024-02-25T00:00:00.000000000",
          "2024-02-26T00:00:00.000000000",
          "2024-02-27T00:00:00.000000000",
          "2024-02-28T00:00:00.000000000",
          "2024-02-29T00:00:00.000000000",
          "2024-03-01T00:00:00.000000000",
          "2024-03-02T00:00:00.000000000",
          "2024-03-03T00:00:00.000000000",
          "2024-03-04T00:00:00.000000000",
          "2024-03-05T00:00:00.000000000",
          "2024-03-06T00:00:00.000000000",
          "2024-03-07T00:00:00.000000000",
          "2024-03-08T00:00:00.000000000",
          "2024-03-09T00:00:00.000000000",
          "2024-03-10T00:00:00.000000000",
          "2024-03-11T00:00:00.000000000",
          "2024-03-12T00:00:00.000000000",
          "2024-03-13T00:00:00.000000000",
          "2024-03-14T00:00:00.000000000",
          "2024-03-15T00:00:00.000000000",
          "2024-03-16T00:00:00.000000000",
          "2024-03-17T00:00:00.000000000",
          "2024-03-18T00:00:00.000000000",
          "2024-03-19T00:00:00.000000000",
          "2024-03-20T00:00:00.000000000",
          "2024-03-21T00:00:00.000000000",
          "2024-03-22T00:00:00.000000000",
          "2024-03-23T00:00:00.000000000",
          "2024-03-24T00:00:00.000000000",
          "2024-03-25T00:00:00.000000000",
          "2024-03-26T00:00:00.000000000",
          "2024-03-27T00:00:00.000000000",
          "2024-03-28T00:00:00.000000000",
          "2024-03-29T00:00:00.000000000",
          "2024-03-30T00:00:00.000000000",
          "2024-03-31T00:00:00.000000000",
          "2024-04-01T00:00:00.000000000",
          "2024-04-02T00:00:00.000000000",
          "2024-04-03T00:00:00.000000000",
          "2024-04-04T00:00:00.000000000",
          "2024-04-05T00:00:00.000000000",
          "2024-04-06T00:00:00.000000000",
          "2024-04-07T00:00:00.000000000",
          "2024-04-08T00:00:00.000000000",
          "2024-04-09T00:00:00.000000000",
          "2024-04-10T00:00:00.000000000",
          "2024-04-11T00:00:00.000000000",
          "2024-04-12T00:00:00.000000000",
          "2024-04-13T00:00:00.000000000",
          "2024-04-14T00:00:00.000000000",
          "2024-04-15T00:00:00.000000000",
          "2024-04-16T00:00:00.000000000",
          "2024-04-17T00:00:00.000000000",
          "2024-04-18T00:00:00.000000000",
          "2024-04-19T00:00:00.000000000",
          "2024-04-20T00:00:00.000000000",
          "2024-04-21T00:00:00.000000000",
          "2024-04-22T00:00:00.000000000",
          "2024-04-23T00:00:00.000000000",
          "2024-04-24T00:00:00.000000000",
          "2024-04-25T00:00:00.000000000",
          "2024-04-26T00:00:00.000000000",
          "2024-04-27T00:00:00.000000000",
          "2024-04-28T00:00:00.000000000",
          "2024-04-29T00:00:00.000000000",
          "2024-04-30T00:00:00.000000000",
          "2024-05-01T00:00:00.000000000",
          "2024-05-02T00:00:00.000000000",
          "2024-05-03T00:00:00.000000000",
          "2024-05-04T00:00:00.000000000",
          "2024-05-05T00:00:00.000000000",
          "2024-05-06T00:00:00.000000000",
          "2024-05-07T00:00:00.000000000",
          "2024-05-08T00:00:00.000000000",
          "2024-05-09T00:00:00.000000000",
          "2024-05-10T00:00:00.000000000",
          "2024-05-11T00:00:00.000000000",
          "2024-05-12T00:00:00.000000000",
          "2024-05-13T00:00:00.000000000",
          "2024-05-14T00:00:00.000000000",
          "2024-05-15T00:00:00.000000000",
          "2024-05-16T00:00:00.000000000",
          "2024-05-17T00:00:00.000000000",
          "2024-05-18T00:00:00.000000000",
          "2024-05-19T00:00:00.000000000",
          "2024-05-20T00:00:00.000000000",
          "2024-05-21T00:00:00.000000000",
          "2024-05-22T00:00:00.000000000",
          "2024-05-23T00:00:00.000000000",
          "2024-05-24T00:00:00.000000000",
          "2024-05-25T00:00:00.000000000",
          "2024-05-26T00:00:00.000000000",
          "2024-05-27T00:00:00.000000000",
          "2024-05-28T00:00:00.000000000",
          "2024-05-29T00:00:00.000000000",
          "2024-05-30T00:00:00.000000000",
          "2024-05-31T00:00:00.000000000",
          "2024-06-01T00:00:00.000000000",
          "2024-06-02T00:00:00.000000000",
          "2024-06-03T00:00:00.000000000",
          "2024-06-04T00:00:00.000000000",
          "2024-06-05T00:00:00.000000000",
          "2024-06-06T00:00:00.000000000",
          "2024-06-07T00:00:00.000000000",
          "2024-06-08T00:00:00.000000000",
          "2024-06-09T00:00:00.000000000",
          "2024-06-10T00:00:00.000000000",
          "2024-06-11T00:00:00.000000000",
          "2024-06-12T00:00:00.000000000",
          "2024-06-13T00:00:00.000000000",
          "2024-06-14T00:00:00.000000000",
          "2024-06-15T00:00:00.000000000",
          "2024-06-16T00:00:00.000000000",
          "2024-06-17T00:00:00.000000000",
          "2024-06-18T00:00:00.000000000",
          "2024-06-19T00:00:00.000000000",
          "2024-06-20T00:00:00.000000000",
          "2024-06-21T00:00:00.000000000",
          "2024-06-22T00:00:00.000000000",
          "2024-06-23T00:00:00.000000000",
          "2024-06-24T00:00:00.000000000",
          "2024-06-25T00:00:00.000000000",
          "2024-06-26T00:00:00.000000000",
          "2024-06-27T00:00:00.000000000",
          "2024-06-28T00:00:00.000000000",
          "2024-06-29T00:00:00.000000000",
          "2024-06-30T00:00:00.000000000",
          "2024-07-01T00:00:00.000000000",
          "2024-07-02T00:00:00.000000000",
          "2024-07-03T00:00:00.000000000",
          "2024-07-04T00:00:00.000000000",
          "2024-07-05T00:00:00.000000000",
          "2024-07-06T00:00:00.000000000",
          "2024-07-07T00:00:00.000000000",
          "2024-07-08T00:00:00.000000000",
          "2024-07-09T00:00:00.000000000",
          "2024-07-10T00:00:00.000000000",
          "2024-07-11T00:00:00.000000000",
          "2024-07-12T00:00:00.000000000",
          "2024-07-13T00:00:00.000000000",
          "2024-07-14T00:00:00.000000000",
          "2024-07-15T00:00:00.000000000",
          "2024-07-16T00:00:00.000000000",
          "2024-07-17T00:00:00.000000000",
          "2024-07-18T00:00:00.000000000",
          "2024-07-19T00:00:00.000000000",
          "2024-07-20T00:00:00.000000000",
          "2024-07-21T00:00:00.000000000",
          "2024-07-22T00:00:00.000000000",
          "2024-07-23T00:00:00.000000000",
          "2024-07-24T00:00:00.000000000",
          "2024-07-25T00:00:00.000000000",
          "2024-07-26T00:00:00.000000000",
          "2024-07-27T00:00:00.000000000",
          "2024-07-28T00:00:00.000000000",
          "2024-07-29T00:00:00.000000000",
          "2024-07-30T00:00:00.000000000",
          "2024-07-31T00:00:00.000000000",
          "2024-08-01T00:00:00.000000000",
          "2024-08-02T00:00:00.000000000",
          "2024-08-03T00:00:00.000000000",
          "2024-08-04T00:00:00.000000000",
          "2024-08-05T00:00:00.000000000",
          "2024-08-06T00:00:00.000000000",
          "2024-08-07T00:00:00.000000000",
          "2024-08-08T00:00:00.000000000",
          "2024-08-09T00:00:00.000000000",
          "2024-08-10T00:00:00.000000000",
          "2024-08-11T00:00:00.000000000",
          "2024-08-12T00:00:00.000000000",
          "2024-08-13T00:00:00.000000000",
          "2024-08-14T00:00:00.000000000",
          "2024-08-15T00:00:00.000000000",
          "2024-08-16T00:00:00.000000000",
          "2024-08-17T00:00:00.000000000",
          "2024-08-18T00:00:00.000000000",
          "2024-08-19T00:00:00.000000000",
          "2024-08-20T00:00:00.000000000",
          "2024-08-21T00:00:00.000000000",
          "2024-08-22T00:00:00.000000000",
          "2024-08-23T00:00:00.000000000",
          "2024-08-24T00:00:00.000000000",
          "2024-08-25T00:00:00.000000000",
          "2024-08-26T00:00:00.000000000",
          "2024-08-27T00:00:00.000000000",
          "2024-08-28T00:00:00.000000000",
          "2024-08-29T00:00:00.000000000",
          "2024-08-30T00:00:00.000000000",
          "2024-08-31T00:00:00.000000000",
          "2024-09-01T00:00:00.000000000",
          "2024-09-02T00:00:00.000000000",
          "2024-09-03T00:00:00.000000000",
          "2024-09-04T00:00:00.000000000",
          "2024-09-05T00:00:00.000000000",
          "2024-09-06T00:00:00.000000000",
          "2024-09-07T00:00:00.000000000",
          "2024-09-08T00:00:00.000000000",
          "2024-09-09T00:00:00.000000000",
          "2024-09-10T00:00:00.000000000",
          "2024-09-11T00:00:00.000000000",
          "2024-09-12T00:00:00.000000000",
          "2024-09-13T00:00:00.000000000",
          "2024-09-14T00:00:00.000000000",
          "2024-09-15T00:00:00.000000000",
          "2024-09-16T00:00:00.000000000",
          "2024-09-17T00:00:00.000000000",
          "2024-09-18T00:00:00.000000000",
          "2024-09-19T00:00:00.000000000",
          "2024-09-20T00:00:00.000000000",
          "2024-09-21T00:00:00.000000000",
          "2024-09-22T00:00:00.000000000",
          "2024-09-23T00:00:00.000000000",
          "2024-09-24T00:00:00.000000000",
          "2024-09-25T00:00:00.000000000",
          "2024-09-26T00:00:00.000000000",
          "2024-09-27T00:00:00.000000000",
          "2024-09-28T00:00:00.000000000",
          "2024-09-29T00:00:00.000000000",
          "2024-09-30T00:00:00.000000000",
          "2024-10-01T00:00:00.000000000",
          "2024-10-02T00:00:00.000000000",
          "2024-10-03T00:00:00.000000000",
          "2024-10-04T00:00:00.000000000",
          "2024-10-05T00:00:00.000000000",
          "2024-10-06T00:00:00.000000000",
          "2024-10-07T00:00:00.000000000",
          "2024-10-08T00:00:00.000000000",
          "2024-10-09T00:00:00.000000000",
          "2024-10-10T00:00:00.000000000",
          "2024-10-11T00:00:00.000000000",
          "2024-10-12T00:00:00.000000000",
          "2024-10-13T00:00:00.000000000",
          "2024-10-14T00:00:00.000000000",
          "2024-10-15T00:00:00.000000000",
          "2024-10-16T00:00:00.000000000",
          "2024-10-17T00:00:00.000000000",
          "2024-10-18T00:00:00.000000000",
          "2024-10-19T00:00:00.000000000",
          "2024-10-20T00:00:00.000000000",
          "2024-10-21T00:00:00.000000000",
          "2024-10-22T00:00:00.000000000",
          "2024-10-23T00:00:00.000000000",
          "2024-10-24T00:00:00.000000000",
          "2024-10-25T00:00:00.000000000",
          "2024-10-26T00:00:00.000000000",
          "2024-10-27T00:00:00.000000000",
          "2024-10-28T00:00:00.000000000",
          "2024-10-29T00:00:00.000000000",
          "2024-10-30T00:00:00.000000000",
          "2024-10-31T00:00:00.000000000",
          "2024-11-01T00:00:00.000000000",
          "2024-11-02T00:00:00.000000000",
          "2024-11-03T00:00:00.000000000",
          "2024-11-04T00:00:00.000000000",
          "2024-11-05T00:00:00.000000000",
          "2024-11-06T00:00:00.000000000",
          "2024-11-07T00:00:00.000000000",
          "2024-11-08T00:00:00.000000000",
          "2024-11-09T00:00:00.000000000",
          "2024-11-10T00:00:00.000000000",
          "2024-11-11T00:00:00.000000000",
          "2024-11-12T00:00:00.000000000",
          "2024-11-13T00:00:00.000000000",
          "2024-11-14T00:00:00.000000000",
          "2024-11-15T00:00:00.000000000",
          "2024-11-16T00:00:00.000000000",
          "2024-11-17T00:00:00.000000000",
          "2024-11-18T00:00:00.000000000",
          "2024-11-19T00:00:00.000000000",
          "2024-11-20T00:00:00.000000000",
          "2024-11-21T00:00:00.000000000",
          "2024-11-22T00:00:00.000000000",
          "2024-11-23T00:00:00.000000000",
          "2024-11-24T00:00:00.000000000",
          "2024-11-25T00:00:00.000000000",
          "2024-11-26T00:00:00.000000000",
          "2024-11-27T00:00:00.000000000",
          "2024-11-28T00:00:00.000000000",
          "2024-11-29T00:00:00.000000000",
          "2024-11-30T00:00:00.000000000",
          "2024-12-01T00:00:00.000000000",
          "2024-12-02T00:00:00.000000000",
          "2024-12-03T00:00:00.000000000",
          "2024-12-04T00:00:00.000000000",
          "2024-12-05T00:00:00.000000000",
          "2024-12-06T00:00:00.000000000",
          "2024-12-07T00:00:00.000000000",
          "2024-12-08T00:00:00.000000000",
          "2024-12-09T00:00:00.000000000",
          "2024-12-10T00:00:00.000000000",
          "2024-12-11T00:00:00.000000000",
          "2024-12-12T00:00:00.000000000",
          "2024-12-13T00:00:00.000000000",
          "2024-12-14T00:00:00.000000000",
          "2024-12-15T00:00:00.000000000",
          "2024-12-16T00:00:00.000000000",
          "2024-12-17T00:00:00.000000000",
          "2024-12-18T00:00:00.000000000",
          "2024-12-19T00:00:00.000000000",
          "2024-12-20T00:00:00.000000000",
          "2024-12-21T00:00:00.000000000",
          "2024-12-22T00:00:00.000000000",
          "2024-12-23T00:00:00.000000000",
          "2024-12-24T00:00:00.000000000",
          "2024-12-25T00:00:00.000000000",
          "2024-12-26T00:00:00.000000000",
          "2024-12-27T00:00:00.000000000",
          "2024-12-28T00:00:00.000000000",
          "2024-12-29T00:00:00.000000000",
          "2024-12-30T00:00:00.000000000",
          "2024-12-31T00:00:00.000000000",
          "2025-01-01T00:00:00.000000000",
          "2025-01-02T00:00:00.000000000",
          "2025-01-03T00:00:00.000000000",
          "2025-01-04T00:00:00.000000000",
          "2025-01-05T00:00:00.000000000",
          "2025-01-06T00:00:00.000000000",
          "2025-01-07T00:00:00.000000000",
          "2025-01-08T00:00:00.000000000",
          "2025-01-09T00:00:00.000000000",
          "2025-01-10T00:00:00.000000000",
          "2025-01-11T00:00:00.000000000",
          "2025-01-12T00:00:00.000000000",
          "2025-01-13T00:00:00.000000000",
          "2025-01-14T00:00:00.000000000",
          "2025-01-15T00:00:00.000000000",
          "2025-01-16T00:00:00.000000000",
          "2025-01-17T00:00:00.000000000",
          "2025-01-18T00:00:00.000000000",
          "2025-01-19T00:00:00.000000000",
          "2025-01-20T00:00:00.000000000",
          "2025-01-21T00:00:00.000000000",
          "2025-01-22T00:00:00.000000000",
          "2025-01-23T00:00:00.000000000",
          "2025-01-24T00:00:00.000000000",
          "2025-01-25T00:00:00.000000000",
          "2025-01-26T00:00:00.000000000",
          "2025-01-27T00:00:00.000000000",
          "2025-01-28T00:00:00.000000000",
          "2025-01-29T00:00:00.000000000",
          "2025-01-30T00:00:00.000000000",
          "2025-01-31T00:00:00.000000000",
          "2025-02-01T00:00:00.000000000",
          "2025-02-02T00:00:00.000000000",
          "2025-02-03T00:00:00.000000000",
          "2025-02-04T00:00:00.000000000",
          "2025-02-05T00:00:00.000000000",
          "2025-02-06T00:00:00.000000000",
          "2025-02-07T00:00:00.000000000",
          "2025-02-08T00:00:00.000000000",
          "2025-02-09T00:00:00.000000000",
          "2025-02-10T00:00:00.000000000",
          "2025-02-11T00:00:00.000000000",
          "2025-02-12T00:00:00.000000000",
          "2025-02-13T00:00:00.000000000",
          "2025-02-14T00:00:00.000000000",
          "2025-02-15T00:00:00.000000000",
          "2025-02-16T00:00:00.000000000",
          "2025-02-17T00:00:00.000000000",
          "2025-02-18T00:00:00.000000000",
          "2025-02-19T00:00:00.000000000",
          "2025-02-20T00:00:00.000000000",
          "2025-02-21T00:00:00.000000000",
          "2025-02-22T00:00:00.000000000",
          "2025-02-23T00:00:00.000000000",
          "2025-02-24T00:00:00.000000000",
          "2025-02-25T00:00:00.000000000",
          "2025-02-26T00:00:00.000000000",
          "2025-02-27T00:00:00.000000000",
          "2025-02-28T00:00:00.000000000",
          "2025-03-01T00:00:00.000000000",
          "2025-03-02T00:00:00.000000000",
          "2025-03-03T00:00:00.000000000",
          "2025-03-04T00:00:00.000000000",
          "2025-03-05T00:00:00.000000000",
          "2025-03-06T00:00:00.000000000",
          "2025-03-07T00:00:00.000000000",
          "2025-03-08T00:00:00.000000000",
          "2025-03-09T00:00:00.000000000",
          "2025-03-10T00:00:00.000000000",
          "2025-03-11T00:00:00.000000000",
          "2025-03-12T00:00:00.000000000",
          "2025-03-13T00:00:00.000000000",
          "2025-03-14T00:00:00.000000000",
          "2025-03-15T00:00:00.000000000",
          "2025-03-16T00:00:00.000000000",
          "2025-03-17T00:00:00.000000000",
          "2025-03-18T00:00:00.000000000",
          "2025-03-19T00:00:00.000000000",
          "2025-03-20T00:00:00.000000000",
          "2025-03-21T00:00:00.000000000",
          "2025-03-22T00:00:00.000000000",
          "2025-03-23T00:00:00.000000000",
          "2025-03-24T00:00:00.000000000",
          "2025-03-25T00:00:00.000000000",
          "2025-03-26T00:00:00.000000000",
          "2025-03-27T00:00:00.000000000",
          "2025-03-28T00:00:00.000000000",
          "2025-03-29T00:00:00.000000000",
          "2025-03-30T00:00:00.000000000",
          "2025-03-31T00:00:00.000000000",
          "2025-04-01T00:00:00.000000000",
          "2025-04-02T00:00:00.000000000"
         ],
         "y": {
          "bdata": "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",
          "dtype": "f8"
         },
         "yaxis": "y2"
        },
        {
         "line": {
          "color": "red",
          "dash": "dot"
         },
         "mode": "lines",
         "name": "Rolling RMSE",
         "type": "scatter",
         "x": [
          "2023-04-25T00:00:00.000000000",
          "2023-04-26T00:00:00.000000000",
          "2023-04-27T00:00:00.000000000",
          "2023-04-28T00:00:00.000000000",
          "2023-04-29T00:00:00.000000000",
          "2023-04-30T00:00:00.000000000",
          "2023-05-01T00:00:00.000000000",
          "2023-05-02T00:00:00.000000000",
          "2023-05-03T00:00:00.000000000",
          "2023-05-04T00:00:00.000000000",
          "2023-05-05T00:00:00.000000000",
          "2023-05-06T00:00:00.000000000",
          "2023-05-07T00:00:00.000000000",
          "2023-05-08T00:00:00.000000000",
          "2023-05-09T00:00:00.000000000",
          "2023-05-10T00:00:00.000000000",
          "2023-05-11T00:00:00.000000000",
          "2023-05-12T00:00:00.000000000",
          "2023-05-13T00:00:00.000000000",
          "2023-05-14T00:00:00.000000000",
          "2023-05-15T00:00:00.000000000",
          "2023-05-16T00:00:00.000000000",
          "2023-05-17T00:00:00.000000000",
          "2023-05-18T00:00:00.000000000",
          "2023-05-19T00:00:00.000000000",
          "2023-05-20T00:00:00.000000000",
          "2023-05-21T00:00:00.000000000",
          "2023-05-22T00:00:00.000000000",
          "2023-05-23T00:00:00.000000000",
          "2023-05-24T00:00:00.000000000",
          "2023-05-25T00:00:00.000000000",
          "2023-05-26T00:00:00.000000000",
          "2023-05-27T00:00:00.000000000",
          "2023-05-28T00:00:00.000000000",
          "2023-05-29T00:00:00.000000000",
          "2023-05-30T00:00:00.000000000",
          "2023-05-31T00:00:00.000000000",
          "2023-06-01T00:00:00.000000000",
          "2023-06-02T00:00:00.000000000",
          "2023-06-03T00:00:00.000000000",
          "2023-06-04T00:00:00.000000000",
          "2023-06-05T00:00:00.000000000",
          "2023-06-06T00:00:00.000000000",
          "2023-06-07T00:00:00.000000000",
          "2023-06-08T00:00:00.000000000",
          "2023-06-09T00:00:00.000000000",
          "2023-06-10T00:00:00.000000000",
          "2023-06-11T00:00:00.000000000",
          "2023-06-12T00:00:00.000000000",
          "2023-06-13T00:00:00.000000000",
          "2023-06-14T00:00:00.000000000",
          "2023-06-15T00:00:00.000000000",
          "2023-06-16T00:00:00.000000000",
          "2023-06-17T00:00:00.000000000",
          "2023-06-18T00:00:00.000000000",
          "2023-06-19T00:00:00.000000000",
          "2023-06-20T00:00:00.000000000",
          "2023-06-21T00:00:00.000000000",
          "2023-06-22T00:00:00.000000000",
          "2023-06-23T00:00:00.000000000",
          "2023-06-24T00:00:00.000000000",
          "2023-06-25T00:00:00.000000000",
          "2023-06-26T00:00:00.000000000",
          "2023-06-27T00:00:00.000000000",
          "2023-06-28T00:00:00.000000000",
          "2023-06-29T00:00:00.000000000",
          "2023-06-30T00:00:00.000000000",
          "2023-07-01T00:00:00.000000000",
          "2023-07-02T00:00:00.000000000",
          "2023-07-03T00:00:00.000000000",
          "2023-07-04T00:00:00.000000000",
          "2023-07-05T00:00:00.000000000",
          "2023-07-06T00:00:00.000000000",
          "2023-07-07T00:00:00.000000000",
          "2023-07-08T00:00:00.000000000",
          "2023-07-09T00:00:00.000000000",
          "2023-07-10T00:00:00.000000000",
          "2023-07-11T00:00:00.000000000",
          "2023-07-12T00:00:00.000000000",
          "2023-07-13T00:00:00.000000000",
          "2023-07-14T00:00:00.000000000",
          "2023-07-15T00:00:00.000000000",
          "2023-07-16T00:00:00.000000000",
          "2023-07-17T00:00:00.000000000",
          "2023-07-18T00:00:00.000000000",
          "2023-07-19T00:00:00.000000000",
          "2023-07-20T00:00:00.000000000",
          "2023-07-21T00:00:00.000000000",
          "2023-07-22T00:00:00.000000000",
          "2023-07-23T00:00:00.000000000",
          "2023-07-24T00:00:00.000000000",
          "2023-07-25T00:00:00.000000000",
          "2023-07-26T00:00:00.000000000",
          "2023-07-27T00:00:00.000000000",
          "2023-07-28T00:00:00.000000000",
          "2023-07-29T00:00:00.000000000",
          "2023-07-30T00:00:00.000000000",
          "2023-07-31T00:00:00.000000000",
          "2023-08-01T00:00:00.000000000",
          "2023-08-02T00:00:00.000000000",
          "2023-08-03T00:00:00.000000000",
          "2023-08-04T00:00:00.000000000",
          "2023-08-05T00:00:00.000000000",
          "2023-08-06T00:00:00.000000000",
          "2023-08-07T00:00:00.000000000",
          "2023-08-08T00:00:00.000000000",
          "2023-08-09T00:00:00.000000000",
          "2023-08-10T00:00:00.000000000",
          "2023-08-11T00:00:00.000000000",
          "2023-08-12T00:00:00.000000000",
          "2023-08-13T00:00:00.000000000",
          "2023-08-14T00:00:00.000000000",
          "2023-08-15T00:00:00.000000000",
          "2023-08-16T00:00:00.000000000",
          "2023-08-17T00:00:00.000000000",
          "2023-08-18T00:00:00.000000000",
          "2023-08-19T00:00:00.000000000",
          "2023-08-20T00:00:00.000000000",
          "2023-08-21T00:00:00.000000000",
          "2023-08-22T00:00:00.000000000",
          "2023-08-23T00:00:00.000000000",
          "2023-08-24T00:00:00.000000000",
          "2023-08-25T00:00:00.000000000",
          "2023-08-26T00:00:00.000000000",
          "2023-08-27T00:00:00.000000000",
          "2023-08-28T00:00:00.000000000",
          "2023-08-29T00:00:00.000000000",
          "2023-08-30T00:00:00.000000000",
          "2023-08-31T00:00:00.000000000",
          "2023-09-01T00:00:00.000000000",
          "2023-09-02T00:00:00.000000000",
          "2023-09-03T00:00:00.000000000",
          "2023-09-04T00:00:00.000000000",
          "2023-09-05T00:00:00.000000000",
          "2023-09-06T00:00:00.000000000",
          "2023-09-07T00:00:00.000000000",
          "2023-09-08T00:00:00.000000000",
          "2023-09-09T00:00:00.000000000",
          "2023-09-10T00:00:00.000000000",
          "2023-09-11T00:00:00.000000000",
          "2023-09-12T00:00:00.000000000",
          "2023-09-13T00:00:00.000000000",
          "2023-09-14T00:00:00.000000000",
          "2023-09-15T00:00:00.000000000",
          "2023-09-16T00:00:00.000000000",
          "2023-09-17T00:00:00.000000000",
          "2023-09-18T00:00:00.000000000",
          "2023-09-19T00:00:00.000000000",
          "2023-09-20T00:00:00.000000000",
          "2023-09-21T00:00:00.000000000",
          "2023-09-22T00:00:00.000000000",
          "2023-09-23T00:00:00.000000000",
          "2023-09-24T00:00:00.000000000",
          "2023-09-25T00:00:00.000000000",
          "2023-09-26T00:00:00.000000000",
          "2023-09-27T00:00:00.000000000",
          "2023-09-28T00:00:00.000000000",
          "2023-09-29T00:00:00.000000000",
          "2023-09-30T00:00:00.000000000",
          "2023-10-01T00:00:00.000000000",
          "2023-10-02T00:00:00.000000000",
          "2023-10-03T00:00:00.000000000",
          "2023-10-04T00:00:00.000000000",
          "2023-10-05T00:00:00.000000000",
          "2023-10-06T00:00:00.000000000",
          "2023-10-07T00:00:00.000000000",
          "2023-10-08T00:00:00.000000000",
          "2023-10-09T00:00:00.000000000",
          "2023-10-10T00:00:00.000000000",
          "2023-10-11T00:00:00.000000000",
          "2023-10-12T00:00:00.000000000",
          "2023-10-13T00:00:00.000000000",
          "2023-10-14T00:00:00.000000000",
          "2023-10-15T00:00:00.000000000",
          "2023-10-16T00:00:00.000000000",
          "2023-10-17T00:00:00.000000000",
          "2023-10-18T00:00:00.000000000",
          "2023-10-19T00:00:00.000000000",
          "2023-10-20T00:00:00.000000000",
          "2023-10-21T00:00:00.000000000",
          "2023-10-22T00:00:00.000000000",
          "2023-10-23T00:00:00.000000000",
          "2023-10-24T00:00:00.000000000",
          "2023-10-25T00:00:00.000000000",
          "2023-10-26T00:00:00.000000000",
          "2023-10-27T00:00:00.000000000",
          "2023-10-28T00:00:00.000000000",
          "2023-10-29T00:00:00.000000000",
          "2023-10-30T00:00:00.000000000",
          "2023-10-31T00:00:00.000000000",
          "2023-11-01T00:00:00.000000000",
          "2023-11-02T00:00:00.000000000",
          "2023-11-03T00:00:00.000000000",
          "2023-11-04T00:00:00.000000000",
          "2023-11-05T00:00:00.000000000",
          "2023-11-06T00:00:00.000000000",
          "2023-11-07T00:00:00.000000000",
          "2023-11-08T00:00:00.000000000",
          "2023-11-09T00:00:00.000000000",
          "2023-11-10T00:00:00.000000000",
          "2023-11-11T00:00:00.000000000",
          "2023-11-12T00:00:00.000000000",
          "2023-11-13T00:00:00.000000000",
          "2023-11-14T00:00:00.000000000",
          "2023-11-15T00:00:00.000000000",
          "2023-11-16T00:00:00.000000000",
          "2023-11-17T00:00:00.000000000",
          "2023-11-18T00:00:00.000000000",
          "2023-11-19T00:00:00.000000000",
          "2023-11-20T00:00:00.000000000",
          "2023-11-21T00:00:00.000000000",
          "2023-11-22T00:00:00.000000000",
          "2023-11-23T00:00:00.000000000",
          "2023-11-24T00:00:00.000000000",
          "2023-11-25T00:00:00.000000000",
          "2023-11-26T00:00:00.000000000",
          "2023-11-27T00:00:00.000000000",
          "2023-11-28T00:00:00.000000000",
          "2023-11-29T00:00:00.000000000",
          "2023-11-30T00:00:00.000000000",
          "2023-12-01T00:00:00.000000000",
          "2023-12-02T00:00:00.000000000",
          "2023-12-03T00:00:00.000000000",
          "2023-12-04T00:00:00.000000000",
          "2023-12-05T00:00:00.000000000",
          "2023-12-06T00:00:00.000000000",
          "2023-12-07T00:00:00.000000000",
          "2023-12-08T00:00:00.000000000",
          "2023-12-09T00:00:00.000000000",
          "2023-12-10T00:00:00.000000000",
          "2023-12-11T00:00:00.000000000",
          "2023-12-12T00:00:00.000000000",
          "2023-12-13T00:00:00.000000000",
          "2023-12-14T00:00:00.000000000",
          "2023-12-15T00:00:00.000000000",
          "2023-12-16T00:00:00.000000000",
          "2023-12-17T00:00:00.000000000",
          "2023-12-18T00:00:00.000000000",
          "2023-12-19T00:00:00.000000000",
          "2023-12-20T00:00:00.000000000",
          "2023-12-21T00:00:00.000000000",
          "2023-12-22T00:00:00.000000000",
          "2023-12-23T00:00:00.000000000",
          "2023-12-24T00:00:00.000000000",
          "2023-12-25T00:00:00.000000000",
          "2023-12-26T00:00:00.000000000",
          "2023-12-27T00:00:00.000000000",
          "2023-12-28T00:00:00.000000000",
          "2023-12-29T00:00:00.000000000",
          "2023-12-30T00:00:00.000000000",
          "2023-12-31T00:00:00.000000000",
          "2024-01-01T00:00:00.000000000",
          "2024-01-02T00:00:00.000000000",
          "2024-01-03T00:00:00.000000000",
          "2024-01-04T00:00:00.000000000",
          "2024-01-05T00:00:00.000000000",
          "2024-01-06T00:00:00.000000000",
          "2024-01-07T00:00:00.000000000",
          "2024-01-08T00:00:00.000000000",
          "2024-01-09T00:00:00.000000000",
          "2024-01-10T00:00:00.000000000",
          "2024-01-11T00:00:00.000000000",
          "2024-01-12T00:00:00.000000000",
          "2024-01-13T00:00:00.000000000",
          "2024-01-14T00:00:00.000000000",
          "2024-01-15T00:00:00.000000000",
          "2024-01-16T00:00:00.000000000",
          "2024-01-17T00:00:00.000000000",
          "2024-01-18T00:00:00.000000000",
          "2024-01-19T00:00:00.000000000",
          "2024-01-20T00:00:00.000000000",
          "2024-01-21T00:00:00.000000000",
          "2024-01-22T00:00:00.000000000",
          "2024-01-23T00:00:00.000000000",
          "2024-01-24T00:00:00.000000000",
          "2024-01-25T00:00:00.000000000",
          "2024-01-26T00:00:00.000000000",
          "2024-01-27T00:00:00.000000000",
          "2024-01-28T00:00:00.000000000",
          "2024-01-29T00:00:00.000000000",
          "2024-01-30T00:00:00.000000000",
          "2024-01-31T00:00:00.000000000",
          "2024-02-01T00:00:00.000000000",
          "2024-02-02T00:00:00.000000000",
          "2024-02-03T00:00:00.000000000",
          "2024-02-04T00:00:00.000000000",
          "2024-02-05T00:00:00.000000000",
          "2024-02-06T00:00:00.000000000",
          "2024-02-07T00:00:00.000000000",
          "2024-02-08T00:00:00.000000000",
          "2024-02-09T00:00:00.000000000",
          "2024-02-10T00:00:00.000000000",
          "2024-02-11T00:00:00.000000000",
          "2024-02-12T00:00:00.000000000",
          "2024-02-13T00:00:00.000000000",
          "2024-02-14T00:00:00.000000000",
          "2024-02-15T00:00:00.000000000",
          "2024-02-16T00:00:00.000000000",
          "2024-02-17T00:00:00.000000000",
          "2024-02-18T00:00:00.000000000",
          "2024-02-19T00:00:00.000000000",
          "2024-02-20T00:00:00.000000000",
          "2024-02-21T00:00:00.000000000",
          "2024-02-22T00:00:00.000000000",
          "2024-02-23T00:00:00.000000000",
          "2024-02-24T00:00:00.000000000",
          "2024-02-25T00:00:00.000000000",
          "2024-02-26T00:00:00.000000000",
          "2024-02-27T00:00:00.000000000",
          "2024-02-28T00:00:00.000000000",
          "2024-02-29T00:00:00.000000000",
          "2024-03-01T00:00:00.000000000",
          "2024-03-02T00:00:00.000000000",
          "2024-03-03T00:00:00.000000000",
          "2024-03-04T00:00:00.000000000",
          "2024-03-05T00:00:00.000000000",
          "2024-03-06T00:00:00.000000000",
          "2024-03-07T00:00:00.000000000",
          "2024-03-08T00:00:00.000000000",
          "2024-03-09T00:00:00.000000000",
          "2024-03-10T00:00:00.000000000",
          "2024-03-11T00:00:00.000000000",
          "2024-03-12T00:00:00.000000000",
          "2024-03-13T00:00:00.000000000",
          "2024-03-14T00:00:00.000000000",
          "2024-03-15T00:00:00.000000000",
          "2024-03-16T00:00:00.000000000",
          "2024-03-17T00:00:00.000000000",
          "2024-03-18T00:00:00.000000000",
          "2024-03-19T00:00:00.000000000",
          "2024-03-20T00:00:00.000000000",
          "2024-03-21T00:00:00.000000000",
          "2024-03-22T00:00:00.000000000",
          "2024-03-23T00:00:00.000000000",
          "2024-03-24T00:00:00.000000000",
          "2024-03-25T00:00:00.000000000",
          "2024-03-26T00:00:00.000000000",
          "2024-03-27T00:00:00.000000000",
          "2024-03-28T00:00:00.000000000",
          "2024-03-29T00:00:00.000000000",
          "2024-03-30T00:00:00.000000000",
          "2024-03-31T00:00:00.000000000",
          "2024-04-01T00:00:00.000000000",
          "2024-04-02T00:00:00.000000000",
          "2024-04-03T00:00:00.000000000",
          "2024-04-04T00:00:00.000000000",
          "2024-04-05T00:00:00.000000000",
          "2024-04-06T00:00:00.000000000",
          "2024-04-07T00:00:00.000000000",
          "2024-04-08T00:00:00.000000000",
          "2024-04-09T00:00:00.000000000",
          "2024-04-10T00:00:00.000000000",
          "2024-04-11T00:00:00.000000000",
          "2024-04-12T00:00:00.000000000",
          "2024-04-13T00:00:00.000000000",
          "2024-04-14T00:00:00.000000000",
          "2024-04-15T00:00:00.000000000",
          "2024-04-16T00:00:00.000000000",
          "2024-04-17T00:00:00.000000000",
          "2024-04-18T00:00:00.000000000",
          "2024-04-19T00:00:00.000000000",
          "2024-04-20T00:00:00.000000000",
          "2024-04-21T00:00:00.000000000",
          "2024-04-22T00:00:00.000000000",
          "2024-04-23T00:00:00.000000000",
          "2024-04-24T00:00:00.000000000",
          "2024-04-25T00:00:00.000000000",
          "2024-04-26T00:00:00.000000000",
          "2024-04-27T00:00:00.000000000",
          "2024-04-28T00:00:00.000000000",
          "2024-04-29T00:00:00.000000000",
          "2024-04-30T00:00:00.000000000",
          "2024-05-01T00:00:00.000000000",
          "2024-05-02T00:00:00.000000000",
          "2024-05-03T00:00:00.000000000",
          "2024-05-04T00:00:00.000000000",
          "2024-05-05T00:00:00.000000000",
          "2024-05-06T00:00:00.000000000",
          "2024-05-07T00:00:00.000000000",
          "2024-05-08T00:00:00.000000000",
          "2024-05-09T00:00:00.000000000",
          "2024-05-10T00:00:00.000000000",
          "2024-05-11T00:00:00.000000000",
          "2024-05-12T00:00:00.000000000",
          "2024-05-13T00:00:00.000000000",
          "2024-05-14T00:00:00.000000000",
          "2024-05-15T00:00:00.000000000",
          "2024-05-16T00:00:00.000000000",
          "2024-05-17T00:00:00.000000000",
          "2024-05-18T00:00:00.000000000",
          "2024-05-19T00:00:00.000000000",
          "2024-05-20T00:00:00.000000000",
          "2024-05-21T00:00:00.000000000",
          "2024-05-22T00:00:00.000000000",
          "2024-05-23T00:00:00.000000000",
          "2024-05-24T00:00:00.000000000",
          "2024-05-25T00:00:00.000000000",
          "2024-05-26T00:00:00.000000000",
          "2024-05-27T00:00:00.000000000",
          "2024-05-28T00:00:00.000000000",
          "2024-05-29T00:00:00.000000000",
          "2024-05-30T00:00:00.000000000",
          "2024-05-31T00:00:00.000000000",
          "2024-06-01T00:00:00.000000000",
          "2024-06-02T00:00:00.000000000",
          "2024-06-03T00:00:00.000000000",
          "2024-06-04T00:00:00.000000000",
          "2024-06-05T00:00:00.000000000",
          "2024-06-06T00:00:00.000000000",
          "2024-06-07T00:00:00.000000000",
          "2024-06-08T00:00:00.000000000",
          "2024-06-09T00:00:00.000000000",
          "2024-06-10T00:00:00.000000000",
          "2024-06-11T00:00:00.000000000",
          "2024-06-12T00:00:00.000000000",
          "2024-06-13T00:00:00.000000000",
          "2024-06-14T00:00:00.000000000",
          "2024-06-15T00:00:00.000000000",
          "2024-06-16T00:00:00.000000000",
          "2024-06-17T00:00:00.000000000",
          "2024-06-18T00:00:00.000000000",
          "2024-06-19T00:00:00.000000000",
          "2024-06-20T00:00:00.000000000",
          "2024-06-21T00:00:00.000000000",
          "2024-06-22T00:00:00.000000000",
          "2024-06-23T00:00:00.000000000",
          "2024-06-24T00:00:00.000000000",
          "2024-06-25T00:00:00.000000000",
          "2024-06-26T00:00:00.000000000",
          "2024-06-27T00:00:00.000000000",
          "2024-06-28T00:00:00.000000000",
          "2024-06-29T00:00:00.000000000",
          "2024-06-30T00:00:00.000000000",
          "2024-07-01T00:00:00.000000000",
          "2024-07-02T00:00:00.000000000",
          "2024-07-03T00:00:00.000000000",
          "2024-07-04T00:00:00.000000000",
          "2024-07-05T00:00:00.000000000",
          "2024-07-06T00:00:00.000000000",
          "2024-07-07T00:00:00.000000000",
          "2024-07-08T00:00:00.000000000",
          "2024-07-09T00:00:00.000000000",
          "2024-07-10T00:00:00.000000000",
          "2024-07-11T00:00:00.000000000",
          "2024-07-12T00:00:00.000000000",
          "2024-07-13T00:00:00.000000000",
          "2024-07-14T00:00:00.000000000",
          "2024-07-15T00:00:00.000000000",
          "2024-07-16T00:00:00.000000000",
          "2024-07-17T00:00:00.000000000",
          "2024-07-18T00:00:00.000000000",
          "2024-07-19T00:00:00.000000000",
          "2024-07-20T00:00:00.000000000",
          "2024-07-21T00:00:00.000000000",
          "2024-07-22T00:00:00.000000000",
          "2024-07-23T00:00:00.000000000",
          "2024-07-24T00:00:00.000000000",
          "2024-07-25T00:00:00.000000000",
          "2024-07-26T00:00:00.000000000",
          "2024-07-27T00:00:00.000000000",
          "2024-07-28T00:00:00.000000000",
          "2024-07-29T00:00:00.000000000",
          "2024-07-30T00:00:00.000000000",
          "2024-07-31T00:00:00.000000000",
          "2024-08-01T00:00:00.000000000",
          "2024-08-02T00:00:00.000000000",
          "2024-08-03T00:00:00.000000000",
          "2024-08-04T00:00:00.000000000",
          "2024-08-05T00:00:00.000000000",
          "2024-08-06T00:00:00.000000000",
          "2024-08-07T00:00:00.000000000",
          "2024-08-08T00:00:00.000000000",
          "2024-08-09T00:00:00.000000000",
          "2024-08-10T00:00:00.000000000",
          "2024-08-11T00:00:00.000000000",
          "2024-08-12T00:00:00.000000000",
          "2024-08-13T00:00:00.000000000",
          "2024-08-14T00:00:00.000000000",
          "2024-08-15T00:00:00.000000000",
          "2024-08-16T00:00:00.000000000",
          "2024-08-17T00:00:00.000000000",
          "2024-08-18T00:00:00.000000000",
          "2024-08-19T00:00:00.000000000",
          "2024-08-20T00:00:00.000000000",
          "2024-08-21T00:00:00.000000000",
          "2024-08-22T00:00:00.000000000",
          "2024-08-23T00:00:00.000000000",
          "2024-08-24T00:00:00.000000000",
          "2024-08-25T00:00:00.000000000",
          "2024-08-26T00:00:00.000000000",
          "2024-08-27T00:00:00.000000000",
          "2024-08-28T00:00:00.000000000",
          "2024-08-29T00:00:00.000000000",
          "2024-08-30T00:00:00.000000000",
          "2024-08-31T00:00:00.000000000",
          "2024-09-01T00:00:00.000000000",
          "2024-09-02T00:00:00.000000000",
          "2024-09-03T00:00:00.000000000",
          "2024-09-04T00:00:00.000000000",
          "2024-09-05T00:00:00.000000000",
          "2024-09-06T00:00:00.000000000",
          "2024-09-07T00:00:00.000000000",
          "2024-09-08T00:00:00.000000000",
          "2024-09-09T00:00:00.000000000",
          "2024-09-10T00:00:00.000000000",
          "2024-09-11T00:00:00.000000000",
          "2024-09-12T00:00:00.000000000",
          "2024-09-13T00:00:00.000000000",
          "2024-09-14T00:00:00.000000000",
          "2024-09-15T00:00:00.000000000",
          "2024-09-16T00:00:00.000000000",
          "2024-09-17T00:00:00.000000000",
          "2024-09-18T00:00:00.000000000",
          "2024-09-19T00:00:00.000000000",
          "2024-09-20T00:00:00.000000000",
          "2024-09-21T00:00:00.000000000",
          "2024-09-22T00:00:00.000000000",
          "2024-09-23T00:00:00.000000000",
          "2024-09-24T00:00:00.000000000",
          "2024-09-25T00:00:00.000000000",
          "2024-09-26T00:00:00.000000000",
          "2024-09-27T00:00:00.000000000",
          "2024-09-28T00:00:00.000000000",
          "2024-09-29T00:00:00.000000000",
          "2024-09-30T00:00:00.000000000",
          "2024-10-01T00:00:00.000000000",
          "2024-10-02T00:00:00.000000000",
          "2024-10-03T00:00:00.000000000",
          "2024-10-04T00:00:00.000000000",
          "2024-10-05T00:00:00.000000000",
          "2024-10-06T00:00:00.000000000",
          "2024-10-07T00:00:00.000000000",
          "2024-10-08T00:00:00.000000000",
          "2024-10-09T00:00:00.000000000",
          "2024-10-10T00:00:00.000000000",
          "2024-10-11T00:00:00.000000000",
          "2024-10-12T00:00:00.000000000",
          "2024-10-13T00:00:00.000000000",
          "2024-10-14T00:00:00.000000000",
          "2024-10-15T00:00:00.000000000",
          "2024-10-16T00:00:00.000000000",
          "2024-10-17T00:00:00.000000000",
          "2024-10-18T00:00:00.000000000",
          "2024-10-19T00:00:00.000000000",
          "2024-10-20T00:00:00.000000000",
          "2024-10-21T00:00:00.000000000",
          "2024-10-22T00:00:00.000000000",
          "2024-10-23T00:00:00.000000000",
          "2024-10-24T00:00:00.000000000",
          "2024-10-25T00:00:00.000000000",
          "2024-10-26T00:00:00.000000000",
          "2024-10-27T00:00:00.000000000",
          "2024-10-28T00:00:00.000000000",
          "2024-10-29T00:00:00.000000000",
          "2024-10-30T00:00:00.000000000",
          "2024-10-31T00:00:00.000000000",
          "2024-11-01T00:00:00.000000000",
          "2024-11-02T00:00:00.000000000",
          "2024-11-03T00:00:00.000000000",
          "2024-11-04T00:00:00.000000000",
          "2024-11-05T00:00:00.000000000",
          "2024-11-06T00:00:00.000000000",
          "2024-11-07T00:00:00.000000000",
          "2024-11-08T00:00:00.000000000",
          "2024-11-09T00:00:00.000000000",
          "2024-11-10T00:00:00.000000000",
          "2024-11-11T00:00:00.000000000",
          "2024-11-12T00:00:00.000000000",
          "2024-11-13T00:00:00.000000000",
          "2024-11-14T00:00:00.000000000",
          "2024-11-15T00:00:00.000000000",
          "2024-11-16T00:00:00.000000000",
          "2024-11-17T00:00:00.000000000",
          "2024-11-18T00:00:00.000000000",
          "2024-11-19T00:00:00.000000000",
          "2024-11-20T00:00:00.000000000",
          "2024-11-21T00:00:00.000000000",
          "2024-11-22T00:00:00.000000000",
          "2024-11-23T00:00:00.000000000",
          "2024-11-24T00:00:00.000000000",
          "2024-11-25T00:00:00.000000000",
          "2024-11-26T00:00:00.000000000",
          "2024-11-27T00:00:00.000000000",
          "2024-11-28T00:00:00.000000000",
          "2024-11-29T00:00:00.000000000",
          "2024-11-30T00:00:00.000000000",
          "2024-12-01T00:00:00.000000000",
          "2024-12-02T00:00:00.000000000",
          "2024-12-03T00:00:00.000000000",
          "2024-12-04T00:00:00.000000000",
          "2024-12-05T00:00:00.000000000",
          "2024-12-06T00:00:00.000000000",
          "2024-12-07T00:00:00.000000000",
          "2024-12-08T00:00:00.000000000",
          "2024-12-09T00:00:00.000000000",
          "2024-12-10T00:00:00.000000000",
          "2024-12-11T00:00:00.000000000",
          "2024-12-12T00:00:00.000000000",
          "2024-12-13T00:00:00.000000000",
          "2024-12-14T00:00:00.000000000",
          "2024-12-15T00:00:00.000000000",
          "2024-12-16T00:00:00.000000000",
          "2024-12-17T00:00:00.000000000",
          "2024-12-18T00:00:00.000000000",
          "2024-12-19T00:00:00.000000000",
          "2024-12-20T00:00:00.000000000",
          "2024-12-21T00:00:00.000000000",
          "2024-12-22T00:00:00.000000000",
          "2024-12-23T00:00:00.000000000",
          "2024-12-24T00:00:00.000000000",
          "2024-12-25T00:00:00.000000000",
          "2024-12-26T00:00:00.000000000",
          "2024-12-27T00:00:00.000000000",
          "2024-12-28T00:00:00.000000000",
          "2024-12-29T00:00:00.000000000",
          "2024-12-30T00:00:00.000000000",
          "2024-12-31T00:00:00.000000000",
          "2025-01-01T00:00:00.000000000",
          "2025-01-02T00:00:00.000000000",
          "2025-01-03T00:00:00.000000000",
          "2025-01-04T00:00:00.000000000",
          "2025-01-05T00:00:00.000000000",
          "2025-01-06T00:00:00.000000000",
          "2025-01-07T00:00:00.000000000",
          "2025-01-08T00:00:00.000000000",
          "2025-01-09T00:00:00.000000000",
          "2025-01-10T00:00:00.000000000",
          "2025-01-11T00:00:00.000000000",
          "2025-01-12T00:00:00.000000000",
          "2025-01-13T00:00:00.000000000",
          "2025-01-14T00:00:00.000000000",
          "2025-01-15T00:00:00.000000000",
          "2025-01-16T00:00:00.000000000",
          "2025-01-17T00:00:00.000000000",
          "2025-01-18T00:00:00.000000000",
          "2025-01-19T00:00:00.000000000",
          "2025-01-20T00:00:00.000000000",
          "2025-01-21T00:00:00.000000000",
          "2025-01-22T00:00:00.000000000",
          "2025-01-23T00:00:00.000000000",
          "2025-01-24T00:00:00.000000000",
          "2025-01-25T00:00:00.000000000",
          "2025-01-26T00:00:00.000000000",
          "2025-01-27T00:00:00.000000000",
          "2025-01-28T00:00:00.000000000",
          "2025-01-29T00:00:00.000000000",
          "2025-01-30T00:00:00.000000000",
          "2025-01-31T00:00:00.000000000",
          "2025-02-01T00:00:00.000000000",
          "2025-02-02T00:00:00.000000000",
          "2025-02-03T00:00:00.000000000",
          "2025-02-04T00:00:00.000000000",
          "2025-02-05T00:00:00.000000000",
          "2025-02-06T00:00:00.000000000",
          "2025-02-07T00:00:00.000000000",
          "2025-02-08T00:00:00.000000000",
          "2025-02-09T00:00:00.000000000",
          "2025-02-10T00:00:00.000000000",
          "2025-02-11T00:00:00.000000000",
          "2025-02-12T00:00:00.000000000",
          "2025-02-13T00:00:00.000000000",
          "2025-02-14T00:00:00.000000000",
          "2025-02-15T00:00:00.000000000",
          "2025-02-16T00:00:00.000000000",
          "2025-02-17T00:00:00.000000000",
          "2025-02-18T00:00:00.000000000",
          "2025-02-19T00:00:00.000000000",
          "2025-02-20T00:00:00.000000000",
          "2025-02-21T00:00:00.000000000",
          "2025-02-22T00:00:00.000000000",
          "2025-02-23T00:00:00.000000000",
          "2025-02-24T00:00:00.000000000",
          "2025-02-25T00:00:00.000000000",
          "2025-02-26T00:00:00.000000000",
          "2025-02-27T00:00:00.000000000",
          "2025-02-28T00:00:00.000000000",
          "2025-03-01T00:00:00.000000000",
          "2025-03-02T00:00:00.000000000",
          "2025-03-03T00:00:00.000000000",
          "2025-03-04T00:00:00.000000000",
          "2025-03-05T00:00:00.000000000",
          "2025-03-06T00:00:00.000000000",
          "2025-03-07T00:00:00.000000000",
          "2025-03-08T00:00:00.000000000",
          "2025-03-09T00:00:00.000000000",
          "2025-03-10T00:00:00.000000000",
          "2025-03-11T00:00:00.000000000",
          "2025-03-12T00:00:00.000000000",
          "2025-03-13T00:00:00.000000000",
          "2025-03-14T00:00:00.000000000",
          "2025-03-15T00:00:00.000000000",
          "2025-03-16T00:00:00.000000000",
          "2025-03-17T00:00:00.000000000",
          "2025-03-18T00:00:00.000000000",
          "2025-03-19T00:00:00.000000000",
          "2025-03-20T00:00:00.000000000",
          "2025-03-21T00:00:00.000000000",
          "2025-03-22T00:00:00.000000000",
          "2025-03-23T00:00:00.000000000",
          "2025-03-24T00:00:00.000000000",
          "2025-03-25T00:00:00.000000000",
          "2025-03-26T00:00:00.000000000",
          "2025-03-27T00:00:00.000000000",
          "2025-03-28T00:00:00.000000000",
          "2025-03-29T00:00:00.000000000",
          "2025-03-30T00:00:00.000000000",
          "2025-03-31T00:00:00.000000000",
          "2025-04-01T00:00:00.000000000",
          "2025-04-02T00:00:00.000000000"
         ],
         "y": {
          "bdata": "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",
          "dtype": "f8"
         },
         "yaxis": "y2"
        }
       ],
       "layout": {
        "height": 500,
        "legend": {
         "orientation": "h",
         "x": 0,
         "y": 1.1
        },
        "template": {
         "data": {
          "bar": [
           {
            "error_x": {
             "color": "#2a3f5f"
            },
            "error_y": {
             "color": "#2a3f5f"
            },
            "marker": {
             "line": {
              "color": "white",
              "width": 0.5
             },
             "pattern": {
              "fillmode": "overlay",
              "size": 10,
              "solidity": 0.2
             }
            },
            "type": "bar"
           }
          ],
          "barpolar": [
           {
            "marker": {
             "line": {
              "color": "white",
              "width": 0.5
             },
             "pattern": {
              "fillmode": "overlay",
              "size": 10,
              "solidity": 0.2
             }
            },
            "type": "barpolar"
           }
          ],
          "carpet": [
           {
            "aaxis": {
             "endlinecolor": "#2a3f5f",
             "gridcolor": "#C8D4E3",
             "linecolor": "#C8D4E3",
             "minorgridcolor": "#C8D4E3",
             "startlinecolor": "#2a3f5f"
            },
            "baxis": {
             "endlinecolor": "#2a3f5f",
             "gridcolor": "#C8D4E3",
             "linecolor": "#C8D4E3",
             "minorgridcolor": "#C8D4E3",
             "startlinecolor": "#2a3f5f"
            },
            "type": "carpet"
           }
          ],
          "choropleth": [
           {
            "colorbar": {
             "outlinewidth": 0,
             "ticks": ""
            },
            "type": "choropleth"
           }
          ],
          "contour": [
           {
            "colorbar": {
             "outlinewidth": 0,
             "ticks": ""
            },
            "colorscale": [
             [
              0,
              "#0d0887"
             ],
             [
              0.1111111111111111,
              "#46039f"
             ],
             [
              0.2222222222222222,
              "#7201a8"
             ],
             [
              0.3333333333333333,
              "#9c179e"
             ],
             [
              0.4444444444444444,
              "#bd3786"
             ],
             [
              0.5555555555555556,
              "#d8576b"
             ],
             [
              0.6666666666666666,
              "#ed7953"
             ],
             [
              0.7777777777777778,
              "#fb9f3a"
             ],
             [
              0.8888888888888888,
              "#fdca26"
             ],
             [
              1,
              "#f0f921"
             ]
            ],
            "type": "contour"
           }
          ],
          "contourcarpet": [
           {
            "colorbar": {
             "outlinewidth": 0,
             "ticks": ""
            },
            "type": "contourcarpet"
           }
          ],
          "heatmap": [
           {
            "colorbar": {
             "outlinewidth": 0,
             "ticks": ""
            },
            "colorscale": [
             [
              0,
              "#0d0887"
             ],
             [
              0.1111111111111111,
              "#46039f"
             ],
             [
              0.2222222222222222,
              "#7201a8"
             ],
             [
              0.3333333333333333,
              "#9c179e"
             ],
             [
              0.4444444444444444,
              "#bd3786"
             ],
             [
              0.5555555555555556,
              "#d8576b"
             ],
             [
              0.6666666666666666,
              "#ed7953"
             ],
             [
              0.7777777777777778,
              "#fb9f3a"
             ],
             [
              0.8888888888888888,
              "#fdca26"
             ],
             [
              1,
              "#f0f921"
             ]
            ],
            "type": "heatmap"
           }
          ],
          "histogram": [
           {
            "marker": {
             "pattern": {
              "fillmode": "overlay",
              "size": 10,
              "solidity": 0.2
             }
            },
            "type": "histogram"
           }
          ],
          "histogram2d": [
           {
            "colorbar": {
             "outlinewidth": 0,
             "ticks": ""
            },
            "colorscale": [
             [
              0,
              "#0d0887"
             ],
             [
              0.1111111111111111,
              "#46039f"
             ],
             [
              0.2222222222222222,
              "#7201a8"
             ],
             [
              0.3333333333333333,
              "#9c179e"
             ],
             [
              0.4444444444444444,
              "#bd3786"
             ],
             [
              0.5555555555555556,
              "#d8576b"
             ],
             [
              0.6666666666666666,
              "#ed7953"
             ],
             [
              0.7777777777777778,
              "#fb9f3a"
             ],
             [
              0.8888888888888888,
              "#fdca26"
             ],
             [
              1,
              "#f0f921"
             ]
            ],
            "type": "histogram2d"
           }
          ],
          "histogram2dcontour": [
           {
            "colorbar": {
             "outlinewidth": 0,
             "ticks": ""
            },
            "colorscale": [
             [
              0,
              "#0d0887"
             ],
             [
              0.1111111111111111,
              "#46039f"
             ],
             [
              0.2222222222222222,
              "#7201a8"
             ],
             [
              0.3333333333333333,
              "#9c179e"
             ],
             [
              0.4444444444444444,
              "#bd3786"
             ],
             [
              0.5555555555555556,
              "#d8576b"
             ],
             [
              0.6666666666666666,
              "#ed7953"
             ],
             [
              0.7777777777777778,
              "#fb9f3a"
             ],
             [
              0.8888888888888888,
              "#fdca26"
             ],
             [
              1,
              "#f0f921"
             ]
            ],
            "type": "histogram2dcontour"
           }
          ],
          "mesh3d": [
           {
            "colorbar": {
             "outlinewidth": 0,
             "ticks": ""
            },
            "type": "mesh3d"
           }
          ],
          "parcoords": [
           {
            "line": {
             "colorbar": {
              "outlinewidth": 0,
              "ticks": ""
             }
            },
            "type": "parcoords"
           }
          ],
          "pie": [
           {
            "automargin": true,
            "type": "pie"
           }
          ],
          "scatter": [
           {
            "fillpattern": {
             "fillmode": "overlay",
             "size": 10,
             "solidity": 0.2
            },
            "type": "scatter"
           }
          ],
          "scatter3d": [
           {
            "line": {
             "colorbar": {
              "outlinewidth": 0,
              "ticks": ""
             }
            },
            "marker": {
             "colorbar": {
              "outlinewidth": 0,
              "ticks": ""
             }
            },
            "type": "scatter3d"
           }
          ],
          "scattercarpet": [
           {
            "marker": {
             "colorbar": {
              "outlinewidth": 0,
              "ticks": ""
             }
            },
            "type": "scattercarpet"
           }
          ],
          "scattergeo": [
           {
            "marker": {
             "colorbar": {
              "outlinewidth": 0,
              "ticks": ""
             }
            },
            "type": "scattergeo"
           }
          ],
          "scattergl": [
           {
            "marker": {
             "colorbar": {
              "outlinewidth": 0,
              "ticks": ""
             }
            },
            "type": "scattergl"
           }
          ],
          "scattermap": [
           {
            "marker": {
             "colorbar": {
              "outlinewidth": 0,
              "ticks": ""
             }
            },
            "type": "scattermap"
           }
          ],
          "scattermapbox": [
           {
            "marker": {
             "colorbar": {
              "outlinewidth": 0,
              "ticks": ""
             }
            },
            "type": "scattermapbox"
           }
          ],
          "scatterpolar": [
           {
            "marker": {
             "colorbar": {
              "outlinewidth": 0,
              "ticks": ""
             }
            },
            "type": "scatterpolar"
           }
          ],
          "scatterpolargl": [
           {
            "marker": {
             "colorbar": {
              "outlinewidth": 0,
              "ticks": ""
             }
            },
            "type": "scatterpolargl"
           }
          ],
          "scatterternary": [
           {
            "marker": {
             "colorbar": {
              "outlinewidth": 0,
              "ticks": ""
             }
            },
            "type": "scatterternary"
           }
          ],
          "surface": [
           {
            "colorbar": {
             "outlinewidth": 0,
             "ticks": ""
            },
            "colorscale": [
             [
              0,
              "#0d0887"
             ],
             [
              0.1111111111111111,
              "#46039f"
             ],
             [
              0.2222222222222222,
              "#7201a8"
             ],
             [
              0.3333333333333333,
              "#9c179e"
             ],
             [
              0.4444444444444444,
              "#bd3786"
             ],
             [
              0.5555555555555556,
              "#d8576b"
             ],
             [
              0.6666666666666666,
              "#ed7953"
             ],
             [
              0.7777777777777778,
              "#fb9f3a"
             ],
             [
              0.8888888888888888,
              "#fdca26"
             ],
             [
              1,
              "#f0f921"
             ]
            ],
            "type": "surface"
           }
          ],
          "table": [
           {
            "cells": {
             "fill": {
              "color": "#EBF0F8"
             },
             "line": {
              "color": "white"
             }
            },
            "header": {
             "fill": {
              "color": "#C8D4E3"
             },
             "line": {
              "color": "white"
             }
            },
            "type": "table"
           }
          ]
         },
         "layout": {
          "annotationdefaults": {
           "arrowcolor": "#2a3f5f",
           "arrowhead": 0,
           "arrowwidth": 1
          },
          "autotypenumbers": "strict",
          "coloraxis": {
           "colorbar": {
            "outlinewidth": 0,
            "ticks": ""
           }
          },
          "colorscale": {
           "diverging": [
            [
             0,
             "#8e0152"
            ],
            [
             0.1,
             "#c51b7d"
            ],
            [
             0.2,
             "#de77ae"
            ],
            [
             0.3,
             "#f1b6da"
            ],
            [
             0.4,
             "#fde0ef"
            ],
            [
             0.5,
             "#f7f7f7"
            ],
            [
             0.6,
             "#e6f5d0"
            ],
            [
             0.7,
             "#b8e186"
            ],
            [
             0.8,
             "#7fbc41"
            ],
            [
             0.9,
             "#4d9221"
            ],
            [
             1,
             "#276419"
            ]
           ],
           "sequential": [
            [
             0,
             "#0d0887"
            ],
            [
             0.1111111111111111,
             "#46039f"
            ],
            [
             0.2222222222222222,
             "#7201a8"
            ],
            [
             0.3333333333333333,
             "#9c179e"
            ],
            [
             0.4444444444444444,
             "#bd3786"
            ],
            [
             0.5555555555555556,
             "#d8576b"
            ],
            [
             0.6666666666666666,
             "#ed7953"
            ],
            [
             0.7777777777777778,
             "#fb9f3a"
            ],
            [
             0.8888888888888888,
             "#fdca26"
            ],
            [
             1,
             "#f0f921"
            ]
           ],
           "sequentialminus": [
            [
             0,
             "#0d0887"
            ],
            [
             0.1111111111111111,
             "#46039f"
            ],
            [
             0.2222222222222222,
             "#7201a8"
            ],
            [
             0.3333333333333333,
             "#9c179e"
            ],
            [
             0.4444444444444444,
             "#bd3786"
            ],
            [
             0.5555555555555556,
             "#d8576b"
            ],
            [
             0.6666666666666666,
             "#ed7953"
            ],
            [
             0.7777777777777778,
             "#fb9f3a"
            ],
            [
             0.8888888888888888,
             "#fdca26"
            ],
            [
             1,
             "#f0f921"
            ]
           ]
          },
          "colorway": [
           "#636efa",
           "#EF553B",
           "#00cc96",
           "#ab63fa",
           "#FFA15A",
           "#19d3f3",
           "#FF6692",
           "#B6E880",
           "#FF97FF",
           "#FECB52"
          ],
          "font": {
           "color": "#2a3f5f"
          },
          "geo": {
           "bgcolor": "white",
           "lakecolor": "white",
           "landcolor": "white",
           "showlakes": true,
           "showland": true,
           "subunitcolor": "#C8D4E3"
          },
          "hoverlabel": {
           "align": "left"
          },
          "hovermode": "closest",
          "mapbox": {
           "style": "light"
          },
          "paper_bgcolor": "white",
          "plot_bgcolor": "white",
          "polar": {
           "angularaxis": {
            "gridcolor": "#EBF0F8",
            "linecolor": "#EBF0F8",
            "ticks": ""
           },
           "bgcolor": "white",
           "radialaxis": {
            "gridcolor": "#EBF0F8",
            "linecolor": "#EBF0F8",
            "ticks": ""
           }
          },
          "scene": {
           "xaxis": {
            "backgroundcolor": "white",
            "gridcolor": "#DFE8F3",
            "gridwidth": 2,
            "linecolor": "#EBF0F8",
            "showbackground": true,
            "ticks": "",
            "zerolinecolor": "#EBF0F8"
           },
           "yaxis": {
            "backgroundcolor": "white",
            "gridcolor": "#DFE8F3",
            "gridwidth": 2,
            "linecolor": "#EBF0F8",
            "showbackground": true,
            "ticks": "",
            "zerolinecolor": "#EBF0F8"
           },
           "zaxis": {
            "backgroundcolor": "white",
            "gridcolor": "#DFE8F3",
            "gridwidth": 2,
            "linecolor": "#EBF0F8",
            "showbackground": true,
            "ticks": "",
            "zerolinecolor": "#EBF0F8"
           }
          },
          "shapedefaults": {
           "line": {
            "color": "#2a3f5f"
           }
          },
          "ternary": {
           "aaxis": {
            "gridcolor": "#DFE8F3",
            "linecolor": "#A2B1C6",
            "ticks": ""
           },
           "baxis": {
            "gridcolor": "#DFE8F3",
            "linecolor": "#A2B1C6",
            "ticks": ""
           },
           "bgcolor": "white",
           "caxis": {
            "gridcolor": "#DFE8F3",
            "linecolor": "#A2B1C6",
            "ticks": ""
           }
          },
          "title": {
           "x": 0.05
          },
          "xaxis": {
           "automargin": true,
           "gridcolor": "#EBF0F8",
           "linecolor": "#EBF0F8",
           "ticks": "",
           "title": {
            "standoff": 15
           },
           "zerolinecolor": "#EBF0F8",
           "zerolinewidth": 2
          },
          "yaxis": {
           "automargin": true,
           "gridcolor": "#EBF0F8",
           "linecolor": "#EBF0F8",
           "ticks": "",
           "title": {
            "standoff": 15
           },
           "zerolinecolor": "#EBF0F8",
           "zerolinewidth": 2
          }
         }
        },
        "title": {
         "text": "Predicted BTC Price with Rolling MAE and RMSE"
        },
        "xaxis": {
         "title": {
          "text": "Date"
         }
        },
        "yaxis": {
         "side": "left",
         "title": {
          "text": "Predicted Price (USD)"
         }
        },
        "yaxis2": {
         "overlaying": "y",
         "showgrid": false,
         "side": "right",
         "title": {
          "text": "Error (USD)"
         }
        }
       }
      }
     },
     "metadata": {},
     "output_type": "display_data"
    }
   ],
   "source": [
    "import plotly.graph_objects as go\n",
    "\n",
    "# Calculate rolling metrics if not already done\n",
    "results['Absolute_Error'] = abs(results['Actual'] - results['Predicted'])\n",
    "results['MAE_Rolling'] = results['Absolute_Error'].rolling(window=7).mean()\n",
    "results['Squared_Error'] = (results['Actual'] - results['Predicted']) ** 2\n",
    "results['RMSE_Rolling'] = results['Squared_Error'].rolling(window=7).mean() ** 0.5\n",
    "\n",
    "# Create figure with secondary y-axis\n",
    "fig = go.Figure()\n",
    "\n",
    "# Primary y-axis: Predicted price\n",
    "fig.add_trace(go.Scatter(\n",
    "    x=results['Date'],\n",
    "    y=results['Predicted'],\n",
    "    name='Predicted Price',\n",
    "    mode='lines',\n",
    "    line=dict(color='blue')\n",
    "))\n",
    "\n",
    "# Secondary y-axis: MAE\n",
    "fig.add_trace(go.Scatter(\n",
    "    x=results['Date'],\n",
    "    y=results['MAE_Rolling'],\n",
    "    name='Rolling MAE',\n",
    "    mode='lines',\n",
    "    yaxis='y2',\n",
    "    line=dict(color='orange', dash='dash')\n",
    "))\n",
    "\n",
    "# Secondary y-axis: RMSE\n",
    "fig.add_trace(go.Scatter(\n",
    "    x=results['Date'],\n",
    "    y=results['RMSE_Rolling'],\n",
    "    name='Rolling RMSE',\n",
    "    mode='lines',\n",
    "    yaxis='y2',\n",
    "    line=dict(color='red', dash='dot')\n",
    "))\n",
    "\n",
    "# Layout\n",
    "fig.update_layout(\n",
    "    title='Predicted BTC Price with Rolling MAE and RMSE',\n",
    "    xaxis=dict(title='Date'),\n",
    "    yaxis=dict(title='Predicted Price (USD)', side='left'),\n",
    "    yaxis2=dict(\n",
    "        title='Error (USD)',\n",
    "        overlaying='y',\n",
    "        side='right',\n",
    "        showgrid=False\n",
    "    ),\n",
    "    legend=dict(x=0, y=1.1, orientation='h'),\n",
    "    template='plotly_white',\n",
    "    height=500\n",
    ")\n",
    "\n",
    "fig.show()\n"
   ]
  },
  {
   "cell_type": "code",
   "execution_count": 33,
   "id": "e702e673",
   "metadata": {},
   "outputs": [
    {
     "data": {
      "application/vnd.plotly.v1+json": {
       "config": {
        "plotlyServerURL": "https://plot.ly"
       },
       "data": [
        {
         "marker": {
          "color": "blue"
         },
         "name": "MAE %",
         "opacity": 0.6,
         "type": "bar",
         "x": [
          "2023-04-25T00:00:00.000000000",
          "2023-04-26T00:00:00.000000000",
          "2023-04-27T00:00:00.000000000",
          "2023-04-28T00:00:00.000000000",
          "2023-04-29T00:00:00.000000000",
          "2023-04-30T00:00:00.000000000",
          "2023-05-01T00:00:00.000000000",
          "2023-05-02T00:00:00.000000000",
          "2023-05-03T00:00:00.000000000",
          "2023-05-04T00:00:00.000000000",
          "2023-05-05T00:00:00.000000000",
          "2023-05-06T00:00:00.000000000",
          "2023-05-07T00:00:00.000000000",
          "2023-05-08T00:00:00.000000000",
          "2023-05-09T00:00:00.000000000",
          "2023-05-10T00:00:00.000000000",
          "2023-05-11T00:00:00.000000000",
          "2023-05-12T00:00:00.000000000",
          "2023-05-13T00:00:00.000000000",
          "2023-05-14T00:00:00.000000000",
          "2023-05-15T00:00:00.000000000",
          "2023-05-16T00:00:00.000000000",
          "2023-05-17T00:00:00.000000000",
          "2023-05-18T00:00:00.000000000",
          "2023-05-19T00:00:00.000000000",
          "2023-05-20T00:00:00.000000000",
          "2023-05-21T00:00:00.000000000",
          "2023-05-22T00:00:00.000000000",
          "2023-05-23T00:00:00.000000000",
          "2023-05-24T00:00:00.000000000",
          "2023-05-25T00:00:00.000000000",
          "2023-05-26T00:00:00.000000000",
          "2023-05-27T00:00:00.000000000",
          "2023-05-28T00:00:00.000000000",
          "2023-05-29T00:00:00.000000000",
          "2023-05-30T00:00:00.000000000",
          "2023-05-31T00:00:00.000000000",
          "2023-06-01T00:00:00.000000000",
          "2023-06-02T00:00:00.000000000",
          "2023-06-03T00:00:00.000000000",
          "2023-06-04T00:00:00.000000000",
          "2023-06-05T00:00:00.000000000",
          "2023-06-06T00:00:00.000000000",
          "2023-06-07T00:00:00.000000000",
          "2023-06-08T00:00:00.000000000",
          "2023-06-09T00:00:00.000000000",
          "2023-06-10T00:00:00.000000000",
          "2023-06-11T00:00:00.000000000",
          "2023-06-12T00:00:00.000000000",
          "2023-06-13T00:00:00.000000000",
          "2023-06-14T00:00:00.000000000",
          "2023-06-15T00:00:00.000000000",
          "2023-06-16T00:00:00.000000000",
          "2023-06-17T00:00:00.000000000",
          "2023-06-18T00:00:00.000000000",
          "2023-06-19T00:00:00.000000000",
          "2023-06-20T00:00:00.000000000",
          "2023-06-21T00:00:00.000000000",
          "2023-06-22T00:00:00.000000000",
          "2023-06-23T00:00:00.000000000",
          "2023-06-24T00:00:00.000000000",
          "2023-06-25T00:00:00.000000000",
          "2023-06-26T00:00:00.000000000",
          "2023-06-27T00:00:00.000000000",
          "2023-06-28T00:00:00.000000000",
          "2023-06-29T00:00:00.000000000",
          "2023-06-30T00:00:00.000000000",
          "2023-07-01T00:00:00.000000000",
          "2023-07-02T00:00:00.000000000",
          "2023-07-03T00:00:00.000000000",
          "2023-07-04T00:00:00.000000000",
          "2023-07-05T00:00:00.000000000",
          "2023-07-06T00:00:00.000000000",
          "2023-07-07T00:00:00.000000000",
          "2023-07-08T00:00:00.000000000",
          "2023-07-09T00:00:00.000000000",
          "2023-07-10T00:00:00.000000000",
          "2023-07-11T00:00:00.000000000",
          "2023-07-12T00:00:00.000000000",
          "2023-07-13T00:00:00.000000000",
          "2023-07-14T00:00:00.000000000",
          "2023-07-15T00:00:00.000000000",
          "2023-07-16T00:00:00.000000000",
          "2023-07-17T00:00:00.000000000",
          "2023-07-18T00:00:00.000000000",
          "2023-07-19T00:00:00.000000000",
          "2023-07-20T00:00:00.000000000",
          "2023-07-21T00:00:00.000000000",
          "2023-07-22T00:00:00.000000000",
          "2023-07-23T00:00:00.000000000",
          "2023-07-24T00:00:00.000000000",
          "2023-07-25T00:00:00.000000000",
          "2023-07-26T00:00:00.000000000",
          "2023-07-27T00:00:00.000000000",
          "2023-07-28T00:00:00.000000000",
          "2023-07-29T00:00:00.000000000",
          "2023-07-30T00:00:00.000000000",
          "2023-07-31T00:00:00.000000000",
          "2023-08-01T00:00:00.000000000",
          "2023-08-02T00:00:00.000000000",
          "2023-08-03T00:00:00.000000000",
          "2023-08-04T00:00:00.000000000",
          "2023-08-05T00:00:00.000000000",
          "2023-08-06T00:00:00.000000000",
          "2023-08-07T00:00:00.000000000",
          "2023-08-08T00:00:00.000000000",
          "2023-08-09T00:00:00.000000000",
          "2023-08-10T00:00:00.000000000",
          "2023-08-11T00:00:00.000000000",
          "2023-08-12T00:00:00.000000000",
          "2023-08-13T00:00:00.000000000",
          "2023-08-14T00:00:00.000000000",
          "2023-08-15T00:00:00.000000000",
          "2023-08-16T00:00:00.000000000",
          "2023-08-17T00:00:00.000000000",
          "2023-08-18T00:00:00.000000000",
          "2023-08-19T00:00:00.000000000",
          "2023-08-20T00:00:00.000000000",
          "2023-08-21T00:00:00.000000000",
          "2023-08-22T00:00:00.000000000",
          "2023-08-23T00:00:00.000000000",
          "2023-08-24T00:00:00.000000000",
          "2023-08-25T00:00:00.000000000",
          "2023-08-26T00:00:00.000000000",
          "2023-08-27T00:00:00.000000000",
          "2023-08-28T00:00:00.000000000",
          "2023-08-29T00:00:00.000000000",
          "2023-08-30T00:00:00.000000000",
          "2023-08-31T00:00:00.000000000",
          "2023-09-01T00:00:00.000000000",
          "2023-09-02T00:00:00.000000000",
          "2023-09-03T00:00:00.000000000",
          "2023-09-04T00:00:00.000000000",
          "2023-09-05T00:00:00.000000000",
          "2023-09-06T00:00:00.000000000",
          "2023-09-07T00:00:00.000000000",
          "2023-09-08T00:00:00.000000000",
          "2023-09-09T00:00:00.000000000",
          "2023-09-10T00:00:00.000000000",
          "2023-09-11T00:00:00.000000000",
          "2023-09-12T00:00:00.000000000",
          "2023-09-13T00:00:00.000000000",
          "2023-09-14T00:00:00.000000000",
          "2023-09-15T00:00:00.000000000",
          "2023-09-16T00:00:00.000000000",
          "2023-09-17T00:00:00.000000000",
          "2023-09-18T00:00:00.000000000",
          "2023-09-19T00:00:00.000000000",
          "2023-09-20T00:00:00.000000000",
          "2023-09-21T00:00:00.000000000",
          "2023-09-22T00:00:00.000000000",
          "2023-09-23T00:00:00.000000000",
          "2023-09-24T00:00:00.000000000",
          "2023-09-25T00:00:00.000000000",
          "2023-09-26T00:00:00.000000000",
          "2023-09-27T00:00:00.000000000",
          "2023-09-28T00:00:00.000000000",
          "2023-09-29T00:00:00.000000000",
          "2023-09-30T00:00:00.000000000",
          "2023-10-01T00:00:00.000000000",
          "2023-10-02T00:00:00.000000000",
          "2023-10-03T00:00:00.000000000",
          "2023-10-04T00:00:00.000000000",
          "2023-10-05T00:00:00.000000000",
          "2023-10-06T00:00:00.000000000",
          "2023-10-07T00:00:00.000000000",
          "2023-10-08T00:00:00.000000000",
          "2023-10-09T00:00:00.000000000",
          "2023-10-10T00:00:00.000000000",
          "2023-10-11T00:00:00.000000000",
          "2023-10-12T00:00:00.000000000",
          "2023-10-13T00:00:00.000000000",
          "2023-10-14T00:00:00.000000000",
          "2023-10-15T00:00:00.000000000",
          "2023-10-16T00:00:00.000000000",
          "2023-10-17T00:00:00.000000000",
          "2023-10-18T00:00:00.000000000",
          "2023-10-19T00:00:00.000000000",
          "2023-10-20T00:00:00.000000000",
          "2023-10-21T00:00:00.000000000",
          "2023-10-22T00:00:00.000000000",
          "2023-10-23T00:00:00.000000000",
          "2023-10-24T00:00:00.000000000",
          "2023-10-25T00:00:00.000000000",
          "2023-10-26T00:00:00.000000000",
          "2023-10-27T00:00:00.000000000",
          "2023-10-28T00:00:00.000000000",
          "2023-10-29T00:00:00.000000000",
          "2023-10-30T00:00:00.000000000",
          "2023-10-31T00:00:00.000000000",
          "2023-11-01T00:00:00.000000000",
          "2023-11-02T00:00:00.000000000",
          "2023-11-03T00:00:00.000000000",
          "2023-11-04T00:00:00.000000000",
          "2023-11-05T00:00:00.000000000",
          "2023-11-06T00:00:00.000000000",
          "2023-11-07T00:00:00.000000000",
          "2023-11-08T00:00:00.000000000",
          "2023-11-09T00:00:00.000000000",
          "2023-11-10T00:00:00.000000000",
          "2023-11-11T00:00:00.000000000",
          "2023-11-12T00:00:00.000000000",
          "2023-11-13T00:00:00.000000000",
          "2023-11-14T00:00:00.000000000",
          "2023-11-15T00:00:00.000000000",
          "2023-11-16T00:00:00.000000000",
          "2023-11-17T00:00:00.000000000",
          "2023-11-18T00:00:00.000000000",
          "2023-11-19T00:00:00.000000000",
          "2023-11-20T00:00:00.000000000",
          "2023-11-21T00:00:00.000000000",
          "2023-11-22T00:00:00.000000000",
          "2023-11-23T00:00:00.000000000",
          "2023-11-24T00:00:00.000000000",
          "2023-11-25T00:00:00.000000000",
          "2023-11-26T00:00:00.000000000",
          "2023-11-27T00:00:00.000000000",
          "2023-11-28T00:00:00.000000000",
          "2023-11-29T00:00:00.000000000",
          "2023-11-30T00:00:00.000000000",
          "2023-12-01T00:00:00.000000000",
          "2023-12-02T00:00:00.000000000",
          "2023-12-03T00:00:00.000000000",
          "2023-12-04T00:00:00.000000000",
          "2023-12-05T00:00:00.000000000",
          "2023-12-06T00:00:00.000000000",
          "2023-12-07T00:00:00.000000000",
          "2023-12-08T00:00:00.000000000",
          "2023-12-09T00:00:00.000000000",
          "2023-12-10T00:00:00.000000000",
          "2023-12-11T00:00:00.000000000",
          "2023-12-12T00:00:00.000000000",
          "2023-12-13T00:00:00.000000000",
          "2023-12-14T00:00:00.000000000",
          "2023-12-15T00:00:00.000000000",
          "2023-12-16T00:00:00.000000000",
          "2023-12-17T00:00:00.000000000",
          "2023-12-18T00:00:00.000000000",
          "2023-12-19T00:00:00.000000000",
          "2023-12-20T00:00:00.000000000",
          "2023-12-21T00:00:00.000000000",
          "2023-12-22T00:00:00.000000000",
          "2023-12-23T00:00:00.000000000",
          "2023-12-24T00:00:00.000000000",
          "2023-12-25T00:00:00.000000000",
          "2023-12-26T00:00:00.000000000",
          "2023-12-27T00:00:00.000000000",
          "2023-12-28T00:00:00.000000000",
          "2023-12-29T00:00:00.000000000",
          "2023-12-30T00:00:00.000000000",
          "2023-12-31T00:00:00.000000000",
          "2024-01-01T00:00:00.000000000",
          "2024-01-02T00:00:00.000000000",
          "2024-01-03T00:00:00.000000000",
          "2024-01-04T00:00:00.000000000",
          "2024-01-05T00:00:00.000000000",
          "2024-01-06T00:00:00.000000000",
          "2024-01-07T00:00:00.000000000",
          "2024-01-08T00:00:00.000000000",
          "2024-01-09T00:00:00.000000000",
          "2024-01-10T00:00:00.000000000",
          "2024-01-11T00:00:00.000000000",
          "2024-01-12T00:00:00.000000000",
          "2024-01-13T00:00:00.000000000",
          "2024-01-14T00:00:00.000000000",
          "2024-01-15T00:00:00.000000000",
          "2024-01-16T00:00:00.000000000",
          "2024-01-17T00:00:00.000000000",
          "2024-01-18T00:00:00.000000000",
          "2024-01-19T00:00:00.000000000",
          "2024-01-20T00:00:00.000000000",
          "2024-01-21T00:00:00.000000000",
          "2024-01-22T00:00:00.000000000",
          "2024-01-23T00:00:00.000000000",
          "2024-01-24T00:00:00.000000000",
          "2024-01-25T00:00:00.000000000",
          "2024-01-26T00:00:00.000000000",
          "2024-01-27T00:00:00.000000000",
          "2024-01-28T00:00:00.000000000",
          "2024-01-29T00:00:00.000000000",
          "2024-01-30T00:00:00.000000000",
          "2024-01-31T00:00:00.000000000",
          "2024-02-01T00:00:00.000000000",
          "2024-02-02T00:00:00.000000000",
          "2024-02-03T00:00:00.000000000",
          "2024-02-04T00:00:00.000000000",
          "2024-02-05T00:00:00.000000000",
          "2024-02-06T00:00:00.000000000",
          "2024-02-07T00:00:00.000000000",
          "2024-02-08T00:00:00.000000000",
          "2024-02-09T00:00:00.000000000",
          "2024-02-10T00:00:00.000000000",
          "2024-02-11T00:00:00.000000000",
          "2024-02-12T00:00:00.000000000",
          "2024-02-13T00:00:00.000000000",
          "2024-02-14T00:00:00.000000000",
          "2024-02-15T00:00:00.000000000",
          "2024-02-16T00:00:00.000000000",
          "2024-02-17T00:00:00.000000000",
          "2024-02-18T00:00:00.000000000",
          "2024-02-19T00:00:00.000000000",
          "2024-02-20T00:00:00.000000000",
          "2024-02-21T00:00:00.000000000",
          "2024-02-22T00:00:00.000000000",
          "2024-02-23T00:00:00.000000000",
          "2024-02-24T00:00:00.000000000",
          "2024-02-25T00:00:00.000000000",
          "2024-02-26T00:00:00.000000000",
          "2024-02-27T00:00:00.000000000",
          "2024-02-28T00:00:00.000000000",
          "2024-02-29T00:00:00.000000000",
          "2024-03-01T00:00:00.000000000",
          "2024-03-02T00:00:00.000000000",
          "2024-03-03T00:00:00.000000000",
          "2024-03-04T00:00:00.000000000",
          "2024-03-05T00:00:00.000000000",
          "2024-03-06T00:00:00.000000000",
          "2024-03-07T00:00:00.000000000",
          "2024-03-08T00:00:00.000000000",
          "2024-03-09T00:00:00.000000000",
          "2024-03-10T00:00:00.000000000",
          "2024-03-11T00:00:00.000000000",
          "2024-03-12T00:00:00.000000000",
          "2024-03-13T00:00:00.000000000",
          "2024-03-14T00:00:00.000000000",
          "2024-03-15T00:00:00.000000000",
          "2024-03-16T00:00:00.000000000",
          "2024-03-17T00:00:00.000000000",
          "2024-03-18T00:00:00.000000000",
          "2024-03-19T00:00:00.000000000",
          "2024-03-20T00:00:00.000000000",
          "2024-03-21T00:00:00.000000000",
          "2024-03-22T00:00:00.000000000",
          "2024-03-23T00:00:00.000000000",
          "2024-03-24T00:00:00.000000000",
          "2024-03-25T00:00:00.000000000",
          "2024-03-26T00:00:00.000000000",
          "2024-03-27T00:00:00.000000000",
          "2024-03-28T00:00:00.000000000",
          "2024-03-29T00:00:00.000000000",
          "2024-03-30T00:00:00.000000000",
          "2024-03-31T00:00:00.000000000",
          "2024-04-01T00:00:00.000000000",
          "2024-04-02T00:00:00.000000000",
          "2024-04-03T00:00:00.000000000",
          "2024-04-04T00:00:00.000000000",
          "2024-04-05T00:00:00.000000000",
          "2024-04-06T00:00:00.000000000",
          "2024-04-07T00:00:00.000000000",
          "2024-04-08T00:00:00.000000000",
          "2024-04-09T00:00:00.000000000",
          "2024-04-10T00:00:00.000000000",
          "2024-04-11T00:00:00.000000000",
          "2024-04-12T00:00:00.000000000",
          "2024-04-13T00:00:00.000000000",
          "2024-04-14T00:00:00.000000000",
          "2024-04-15T00:00:00.000000000",
          "2024-04-16T00:00:00.000000000",
          "2024-04-17T00:00:00.000000000",
          "2024-04-18T00:00:00.000000000",
          "2024-04-19T00:00:00.000000000",
          "2024-04-20T00:00:00.000000000",
          "2024-04-21T00:00:00.000000000",
          "2024-04-22T00:00:00.000000000",
          "2024-04-23T00:00:00.000000000",
          "2024-04-24T00:00:00.000000000",
          "2024-04-25T00:00:00.000000000",
          "2024-04-26T00:00:00.000000000",
          "2024-04-27T00:00:00.000000000",
          "2024-04-28T00:00:00.000000000",
          "2024-04-29T00:00:00.000000000",
          "2024-04-30T00:00:00.000000000",
          "2024-05-01T00:00:00.000000000",
          "2024-05-02T00:00:00.000000000",
          "2024-05-03T00:00:00.000000000",
          "2024-05-04T00:00:00.000000000",
          "2024-05-05T00:00:00.000000000",
          "2024-05-06T00:00:00.000000000",
          "2024-05-07T00:00:00.000000000",
          "2024-05-08T00:00:00.000000000",
          "2024-05-09T00:00:00.000000000",
          "2024-05-10T00:00:00.000000000",
          "2024-05-11T00:00:00.000000000",
          "2024-05-12T00:00:00.000000000",
          "2024-05-13T00:00:00.000000000",
          "2024-05-14T00:00:00.000000000",
          "2024-05-15T00:00:00.000000000",
          "2024-05-16T00:00:00.000000000",
          "2024-05-17T00:00:00.000000000",
          "2024-05-18T00:00:00.000000000",
          "2024-05-19T00:00:00.000000000",
          "2024-05-20T00:00:00.000000000",
          "2024-05-21T00:00:00.000000000",
          "2024-05-22T00:00:00.000000000",
          "2024-05-23T00:00:00.000000000",
          "2024-05-24T00:00:00.000000000",
          "2024-05-25T00:00:00.000000000",
          "2024-05-26T00:00:00.000000000",
          "2024-05-27T00:00:00.000000000",
          "2024-05-28T00:00:00.000000000",
          "2024-05-29T00:00:00.000000000",
          "2024-05-30T00:00:00.000000000",
          "2024-05-31T00:00:00.000000000",
          "2024-06-01T00:00:00.000000000",
          "2024-06-02T00:00:00.000000000",
          "2024-06-03T00:00:00.000000000",
          "2024-06-04T00:00:00.000000000",
          "2024-06-05T00:00:00.000000000",
          "2024-06-06T00:00:00.000000000",
          "2024-06-07T00:00:00.000000000",
          "2024-06-08T00:00:00.000000000",
          "2024-06-09T00:00:00.000000000",
          "2024-06-10T00:00:00.000000000",
          "2024-06-11T00:00:00.000000000",
          "2024-06-12T00:00:00.000000000",
          "2024-06-13T00:00:00.000000000",
          "2024-06-14T00:00:00.000000000",
          "2024-06-15T00:00:00.000000000",
          "2024-06-16T00:00:00.000000000",
          "2024-06-17T00:00:00.000000000",
          "2024-06-18T00:00:00.000000000",
          "2024-06-19T00:00:00.000000000",
          "2024-06-20T00:00:00.000000000",
          "2024-06-21T00:00:00.000000000",
          "2024-06-22T00:00:00.000000000",
          "2024-06-23T00:00:00.000000000",
          "2024-06-24T00:00:00.000000000",
          "2024-06-25T00:00:00.000000000",
          "2024-06-26T00:00:00.000000000",
          "2024-06-27T00:00:00.000000000",
          "2024-06-28T00:00:00.000000000",
          "2024-06-29T00:00:00.000000000",
          "2024-06-30T00:00:00.000000000",
          "2024-07-01T00:00:00.000000000",
          "2024-07-02T00:00:00.000000000",
          "2024-07-03T00:00:00.000000000",
          "2024-07-04T00:00:00.000000000",
          "2024-07-05T00:00:00.000000000",
          "2024-07-06T00:00:00.000000000",
          "2024-07-07T00:00:00.000000000",
          "2024-07-08T00:00:00.000000000",
          "2024-07-09T00:00:00.000000000",
          "2024-07-10T00:00:00.000000000",
          "2024-07-11T00:00:00.000000000",
          "2024-07-12T00:00:00.000000000",
          "2024-07-13T00:00:00.000000000",
          "2024-07-14T00:00:00.000000000",
          "2024-07-15T00:00:00.000000000",
          "2024-07-16T00:00:00.000000000",
          "2024-07-17T00:00:00.000000000",
          "2024-07-18T00:00:00.000000000",
          "2024-07-19T00:00:00.000000000",
          "2024-07-20T00:00:00.000000000",
          "2024-07-21T00:00:00.000000000",
          "2024-07-22T00:00:00.000000000",
          "2024-07-23T00:00:00.000000000",
          "2024-07-24T00:00:00.000000000",
          "2024-07-25T00:00:00.000000000",
          "2024-07-26T00:00:00.000000000",
          "2024-07-27T00:00:00.000000000",
          "2024-07-28T00:00:00.000000000",
          "2024-07-29T00:00:00.000000000",
          "2024-07-30T00:00:00.000000000",
          "2024-07-31T00:00:00.000000000",
          "2024-08-01T00:00:00.000000000",
          "2024-08-02T00:00:00.000000000",
          "2024-08-03T00:00:00.000000000",
          "2024-08-04T00:00:00.000000000",
          "2024-08-05T00:00:00.000000000",
          "2024-08-06T00:00:00.000000000",
          "2024-08-07T00:00:00.000000000",
          "2024-08-08T00:00:00.000000000",
          "2024-08-09T00:00:00.000000000",
          "2024-08-10T00:00:00.000000000",
          "2024-08-11T00:00:00.000000000",
          "2024-08-12T00:00:00.000000000",
          "2024-08-13T00:00:00.000000000",
          "2024-08-14T00:00:00.000000000",
          "2024-08-15T00:00:00.000000000",
          "2024-08-16T00:00:00.000000000",
          "2024-08-17T00:00:00.000000000",
          "2024-08-18T00:00:00.000000000",
          "2024-08-19T00:00:00.000000000",
          "2024-08-20T00:00:00.000000000",
          "2024-08-21T00:00:00.000000000",
          "2024-08-22T00:00:00.000000000",
          "2024-08-23T00:00:00.000000000",
          "2024-08-24T00:00:00.000000000",
          "2024-08-25T00:00:00.000000000",
          "2024-08-26T00:00:00.000000000",
          "2024-08-27T00:00:00.000000000",
          "2024-08-28T00:00:00.000000000",
          "2024-08-29T00:00:00.000000000",
          "2024-08-30T00:00:00.000000000",
          "2024-08-31T00:00:00.000000000",
          "2024-09-01T00:00:00.000000000",
          "2024-09-02T00:00:00.000000000",
          "2024-09-03T00:00:00.000000000",
          "2024-09-04T00:00:00.000000000",
          "2024-09-05T00:00:00.000000000",
          "2024-09-06T00:00:00.000000000",
          "2024-09-07T00:00:00.000000000",
          "2024-09-08T00:00:00.000000000",
          "2024-09-09T00:00:00.000000000",
          "2024-09-10T00:00:00.000000000",
          "2024-09-11T00:00:00.000000000",
          "2024-09-12T00:00:00.000000000",
          "2024-09-13T00:00:00.000000000",
          "2024-09-14T00:00:00.000000000",
          "2024-09-15T00:00:00.000000000",
          "2024-09-16T00:00:00.000000000",
          "2024-09-17T00:00:00.000000000",
          "2024-09-18T00:00:00.000000000",
          "2024-09-19T00:00:00.000000000",
          "2024-09-20T00:00:00.000000000",
          "2024-09-21T00:00:00.000000000",
          "2024-09-22T00:00:00.000000000",
          "2024-09-23T00:00:00.000000000",
          "2024-09-24T00:00:00.000000000",
          "2024-09-25T00:00:00.000000000",
          "2024-09-26T00:00:00.000000000",
          "2024-09-27T00:00:00.000000000",
          "2024-09-28T00:00:00.000000000",
          "2024-09-29T00:00:00.000000000",
          "2024-09-30T00:00:00.000000000",
          "2024-10-01T00:00:00.000000000",
          "2024-10-02T00:00:00.000000000",
          "2024-10-03T00:00:00.000000000",
          "2024-10-04T00:00:00.000000000",
          "2024-10-05T00:00:00.000000000",
          "2024-10-06T00:00:00.000000000",
          "2024-10-07T00:00:00.000000000",
          "2024-10-08T00:00:00.000000000",
          "2024-10-09T00:00:00.000000000",
          "2024-10-10T00:00:00.000000000",
          "2024-10-11T00:00:00.000000000",
          "2024-10-12T00:00:00.000000000",
          "2024-10-13T00:00:00.000000000",
          "2024-10-14T00:00:00.000000000",
          "2024-10-15T00:00:00.000000000",
          "2024-10-16T00:00:00.000000000",
          "2024-10-17T00:00:00.000000000",
          "2024-10-18T00:00:00.000000000",
          "2024-10-19T00:00:00.000000000",
          "2024-10-20T00:00:00.000000000",
          "2024-10-21T00:00:00.000000000",
          "2024-10-22T00:00:00.000000000",
          "2024-10-23T00:00:00.000000000",
          "2024-10-24T00:00:00.000000000",
          "2024-10-25T00:00:00.000000000",
          "2024-10-26T00:00:00.000000000",
          "2024-10-27T00:00:00.000000000",
          "2024-10-28T00:00:00.000000000",
          "2024-10-29T00:00:00.000000000",
          "2024-10-30T00:00:00.000000000",
          "2024-10-31T00:00:00.000000000",
          "2024-11-01T00:00:00.000000000",
          "2024-11-02T00:00:00.000000000",
          "2024-11-03T00:00:00.000000000",
          "2024-11-04T00:00:00.000000000",
          "2024-11-05T00:00:00.000000000",
          "2024-11-06T00:00:00.000000000",
          "2024-11-07T00:00:00.000000000",
          "2024-11-08T00:00:00.000000000",
          "2024-11-09T00:00:00.000000000",
          "2024-11-10T00:00:00.000000000",
          "2024-11-11T00:00:00.000000000",
          "2024-11-12T00:00:00.000000000",
          "2024-11-13T00:00:00.000000000",
          "2024-11-14T00:00:00.000000000",
          "2024-11-15T00:00:00.000000000",
          "2024-11-16T00:00:00.000000000",
          "2024-11-17T00:00:00.000000000",
          "2024-11-18T00:00:00.000000000",
          "2024-11-19T00:00:00.000000000",
          "2024-11-20T00:00:00.000000000",
          "2024-11-21T00:00:00.000000000",
          "2024-11-22T00:00:00.000000000",
          "2024-11-23T00:00:00.000000000",
          "2024-11-24T00:00:00.000000000",
          "2024-11-25T00:00:00.000000000",
          "2024-11-26T00:00:00.000000000",
          "2024-11-27T00:00:00.000000000",
          "2024-11-28T00:00:00.000000000",
          "2024-11-29T00:00:00.000000000",
          "2024-11-30T00:00:00.000000000",
          "2024-12-01T00:00:00.000000000",
          "2024-12-02T00:00:00.000000000",
          "2024-12-03T00:00:00.000000000",
          "2024-12-04T00:00:00.000000000",
          "2024-12-05T00:00:00.000000000",
          "2024-12-06T00:00:00.000000000",
          "2024-12-07T00:00:00.000000000",
          "2024-12-08T00:00:00.000000000",
          "2024-12-09T00:00:00.000000000",
          "2024-12-10T00:00:00.000000000",
          "2024-12-11T00:00:00.000000000",
          "2024-12-12T00:00:00.000000000",
          "2024-12-13T00:00:00.000000000",
          "2024-12-14T00:00:00.000000000",
          "2024-12-15T00:00:00.000000000",
          "2024-12-16T00:00:00.000000000",
          "2024-12-17T00:00:00.000000000",
          "2024-12-18T00:00:00.000000000",
          "2024-12-19T00:00:00.000000000",
          "2024-12-20T00:00:00.000000000",
          "2024-12-21T00:00:00.000000000",
          "2024-12-22T00:00:00.000000000",
          "2024-12-23T00:00:00.000000000",
          "2024-12-24T00:00:00.000000000",
          "2024-12-25T00:00:00.000000000",
          "2024-12-26T00:00:00.000000000",
          "2024-12-27T00:00:00.000000000",
          "2024-12-28T00:00:00.000000000",
          "2024-12-29T00:00:00.000000000",
          "2024-12-30T00:00:00.000000000",
          "2024-12-31T00:00:00.000000000",
          "2025-01-01T00:00:00.000000000",
          "2025-01-02T00:00:00.000000000",
          "2025-01-03T00:00:00.000000000",
          "2025-01-04T00:00:00.000000000",
          "2025-01-05T00:00:00.000000000",
          "2025-01-06T00:00:00.000000000",
          "2025-01-07T00:00:00.000000000",
          "2025-01-08T00:00:00.000000000",
          "2025-01-09T00:00:00.000000000",
          "2025-01-10T00:00:00.000000000",
          "2025-01-11T00:00:00.000000000",
          "2025-01-12T00:00:00.000000000",
          "2025-01-13T00:00:00.000000000",
          "2025-01-14T00:00:00.000000000",
          "2025-01-15T00:00:00.000000000",
          "2025-01-16T00:00:00.000000000",
          "2025-01-17T00:00:00.000000000",
          "2025-01-18T00:00:00.000000000",
          "2025-01-19T00:00:00.000000000",
          "2025-01-20T00:00:00.000000000",
          "2025-01-21T00:00:00.000000000",
          "2025-01-22T00:00:00.000000000",
          "2025-01-23T00:00:00.000000000",
          "2025-01-24T00:00:00.000000000",
          "2025-01-25T00:00:00.000000000",
          "2025-01-26T00:00:00.000000000",
          "2025-01-27T00:00:00.000000000",
          "2025-01-28T00:00:00.000000000",
          "2025-01-29T00:00:00.000000000",
          "2025-01-30T00:00:00.000000000",
          "2025-01-31T00:00:00.000000000",
          "2025-02-01T00:00:00.000000000",
          "2025-02-02T00:00:00.000000000",
          "2025-02-03T00:00:00.000000000",
          "2025-02-04T00:00:00.000000000",
          "2025-02-05T00:00:00.000000000",
          "2025-02-06T00:00:00.000000000",
          "2025-02-07T00:00:00.000000000",
          "2025-02-08T00:00:00.000000000",
          "2025-02-09T00:00:00.000000000",
          "2025-02-10T00:00:00.000000000",
          "2025-02-11T00:00:00.000000000",
          "2025-02-12T00:00:00.000000000",
          "2025-02-13T00:00:00.000000000",
          "2025-02-14T00:00:00.000000000",
          "2025-02-15T00:00:00.000000000",
          "2025-02-16T00:00:00.000000000",
          "2025-02-17T00:00:00.000000000",
          "2025-02-18T00:00:00.000000000",
          "2025-02-19T00:00:00.000000000",
          "2025-02-20T00:00:00.000000000",
          "2025-02-21T00:00:00.000000000",
          "2025-02-22T00:00:00.000000000",
          "2025-02-23T00:00:00.000000000",
          "2025-02-24T00:00:00.000000000",
          "2025-02-25T00:00:00.000000000",
          "2025-02-26T00:00:00.000000000",
          "2025-02-27T00:00:00.000000000",
          "2025-02-28T00:00:00.000000000",
          "2025-03-01T00:00:00.000000000",
          "2025-03-02T00:00:00.000000000",
          "2025-03-03T00:00:00.000000000",
          "2025-03-04T00:00:00.000000000",
          "2025-03-05T00:00:00.000000000",
          "2025-03-06T00:00:00.000000000",
          "2025-03-07T00:00:00.000000000",
          "2025-03-08T00:00:00.000000000",
          "2025-03-09T00:00:00.000000000",
          "2025-03-10T00:00:00.000000000",
          "2025-03-11T00:00:00.000000000",
          "2025-03-12T00:00:00.000000000",
          "2025-03-13T00:00:00.000000000",
          "2025-03-14T00:00:00.000000000",
          "2025-03-15T00:00:00.000000000",
          "2025-03-16T00:00:00.000000000",
          "2025-03-17T00:00:00.000000000",
          "2025-03-18T00:00:00.000000000",
          "2025-03-19T00:00:00.000000000",
          "2025-03-20T00:00:00.000000000",
          "2025-03-21T00:00:00.000000000",
          "2025-03-22T00:00:00.000000000",
          "2025-03-23T00:00:00.000000000",
          "2025-03-24T00:00:00.000000000",
          "2025-03-25T00:00:00.000000000",
          "2025-03-26T00:00:00.000000000",
          "2025-03-27T00:00:00.000000000",
          "2025-03-28T00:00:00.000000000",
          "2025-03-29T00:00:00.000000000",
          "2025-03-30T00:00:00.000000000",
          "2025-03-31T00:00:00.000000000",
          "2025-04-01T00:00:00.000000000",
          "2025-04-02T00:00:00.000000000"
         ],
         "y": {
          "bdata": "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",
          "dtype": "f8"
         }
        },
        {
         "marker": {
          "color": "red"
         },
         "name": "RMSE %",
         "opacity": 0.6,
         "type": "bar",
         "x": [
          "2023-04-25T00:00:00.000000000",
          "2023-04-26T00:00:00.000000000",
          "2023-04-27T00:00:00.000000000",
          "2023-04-28T00:00:00.000000000",
          "2023-04-29T00:00:00.000000000",
          "2023-04-30T00:00:00.000000000",
          "2023-05-01T00:00:00.000000000",
          "2023-05-02T00:00:00.000000000",
          "2023-05-03T00:00:00.000000000",
          "2023-05-04T00:00:00.000000000",
          "2023-05-05T00:00:00.000000000",
          "2023-05-06T00:00:00.000000000",
          "2023-05-07T00:00:00.000000000",
          "2023-05-08T00:00:00.000000000",
          "2023-05-09T00:00:00.000000000",
          "2023-05-10T00:00:00.000000000",
          "2023-05-11T00:00:00.000000000",
          "2023-05-12T00:00:00.000000000",
          "2023-05-13T00:00:00.000000000",
          "2023-05-14T00:00:00.000000000",
          "2023-05-15T00:00:00.000000000",
          "2023-05-16T00:00:00.000000000",
          "2023-05-17T00:00:00.000000000",
          "2023-05-18T00:00:00.000000000",
          "2023-05-19T00:00:00.000000000",
          "2023-05-20T00:00:00.000000000",
          "2023-05-21T00:00:00.000000000",
          "2023-05-22T00:00:00.000000000",
          "2023-05-23T00:00:00.000000000",
          "2023-05-24T00:00:00.000000000",
          "2023-05-25T00:00:00.000000000",
          "2023-05-26T00:00:00.000000000",
          "2023-05-27T00:00:00.000000000",
          "2023-05-28T00:00:00.000000000",
          "2023-05-29T00:00:00.000000000",
          "2023-05-30T00:00:00.000000000",
          "2023-05-31T00:00:00.000000000",
          "2023-06-01T00:00:00.000000000",
          "2023-06-02T00:00:00.000000000",
          "2023-06-03T00:00:00.000000000",
          "2023-06-04T00:00:00.000000000",
          "2023-06-05T00:00:00.000000000",
          "2023-06-06T00:00:00.000000000",
          "2023-06-07T00:00:00.000000000",
          "2023-06-08T00:00:00.000000000",
          "2023-06-09T00:00:00.000000000",
          "2023-06-10T00:00:00.000000000",
          "2023-06-11T00:00:00.000000000",
          "2023-06-12T00:00:00.000000000",
          "2023-06-13T00:00:00.000000000",
          "2023-06-14T00:00:00.000000000",
          "2023-06-15T00:00:00.000000000",
          "2023-06-16T00:00:00.000000000",
          "2023-06-17T00:00:00.000000000",
          "2023-06-18T00:00:00.000000000",
          "2023-06-19T00:00:00.000000000",
          "2023-06-20T00:00:00.000000000",
          "2023-06-21T00:00:00.000000000",
          "2023-06-22T00:00:00.000000000",
          "2023-06-23T00:00:00.000000000",
          "2023-06-24T00:00:00.000000000",
          "2023-06-25T00:00:00.000000000",
          "2023-06-26T00:00:00.000000000",
          "2023-06-27T00:00:00.000000000",
          "2023-06-28T00:00:00.000000000",
          "2023-06-29T00:00:00.000000000",
          "2023-06-30T00:00:00.000000000",
          "2023-07-01T00:00:00.000000000",
          "2023-07-02T00:00:00.000000000",
          "2023-07-03T00:00:00.000000000",
          "2023-07-04T00:00:00.000000000",
          "2023-07-05T00:00:00.000000000",
          "2023-07-06T00:00:00.000000000",
          "2023-07-07T00:00:00.000000000",
          "2023-07-08T00:00:00.000000000",
          "2023-07-09T00:00:00.000000000",
          "2023-07-10T00:00:00.000000000",
          "2023-07-11T00:00:00.000000000",
          "2023-07-12T00:00:00.000000000",
          "2023-07-13T00:00:00.000000000",
          "2023-07-14T00:00:00.000000000",
          "2023-07-15T00:00:00.000000000",
          "2023-07-16T00:00:00.000000000",
          "2023-07-17T00:00:00.000000000",
          "2023-07-18T00:00:00.000000000",
          "2023-07-19T00:00:00.000000000",
          "2023-07-20T00:00:00.000000000",
          "2023-07-21T00:00:00.000000000",
          "2023-07-22T00:00:00.000000000",
          "2023-07-23T00:00:00.000000000",
          "2023-07-24T00:00:00.000000000",
          "2023-07-25T00:00:00.000000000",
          "2023-07-26T00:00:00.000000000",
          "2023-07-27T00:00:00.000000000",
          "2023-07-28T00:00:00.000000000",
          "2023-07-29T00:00:00.000000000",
          "2023-07-30T00:00:00.000000000",
          "2023-07-31T00:00:00.000000000",
          "2023-08-01T00:00:00.000000000",
          "2023-08-02T00:00:00.000000000",
          "2023-08-03T00:00:00.000000000",
          "2023-08-04T00:00:00.000000000",
          "2023-08-05T00:00:00.000000000",
          "2023-08-06T00:00:00.000000000",
          "2023-08-07T00:00:00.000000000",
          "2023-08-08T00:00:00.000000000",
          "2023-08-09T00:00:00.000000000",
          "2023-08-10T00:00:00.000000000",
          "2023-08-11T00:00:00.000000000",
          "2023-08-12T00:00:00.000000000",
          "2023-08-13T00:00:00.000000000",
          "2023-08-14T00:00:00.000000000",
          "2023-08-15T00:00:00.000000000",
          "2023-08-16T00:00:00.000000000",
          "2023-08-17T00:00:00.000000000",
          "2023-08-18T00:00:00.000000000",
          "2023-08-19T00:00:00.000000000",
          "2023-08-20T00:00:00.000000000",
          "2023-08-21T00:00:00.000000000",
          "2023-08-22T00:00:00.000000000",
          "2023-08-23T00:00:00.000000000",
          "2023-08-24T00:00:00.000000000",
          "2023-08-25T00:00:00.000000000",
          "2023-08-26T00:00:00.000000000",
          "2023-08-27T00:00:00.000000000",
          "2023-08-28T00:00:00.000000000",
          "2023-08-29T00:00:00.000000000",
          "2023-08-30T00:00:00.000000000",
          "2023-08-31T00:00:00.000000000",
          "2023-09-01T00:00:00.000000000",
          "2023-09-02T00:00:00.000000000",
          "2023-09-03T00:00:00.000000000",
          "2023-09-04T00:00:00.000000000",
          "2023-09-05T00:00:00.000000000",
          "2023-09-06T00:00:00.000000000",
          "2023-09-07T00:00:00.000000000",
          "2023-09-08T00:00:00.000000000",
          "2023-09-09T00:00:00.000000000",
          "2023-09-10T00:00:00.000000000",
          "2023-09-11T00:00:00.000000000",
          "2023-09-12T00:00:00.000000000",
          "2023-09-13T00:00:00.000000000",
          "2023-09-14T00:00:00.000000000",
          "2023-09-15T00:00:00.000000000",
          "2023-09-16T00:00:00.000000000",
          "2023-09-17T00:00:00.000000000",
          "2023-09-18T00:00:00.000000000",
          "2023-09-19T00:00:00.000000000",
          "2023-09-20T00:00:00.000000000",
          "2023-09-21T00:00:00.000000000",
          "2023-09-22T00:00:00.000000000",
          "2023-09-23T00:00:00.000000000",
          "2023-09-24T00:00:00.000000000",
          "2023-09-25T00:00:00.000000000",
          "2023-09-26T00:00:00.000000000",
          "2023-09-27T00:00:00.000000000",
          "2023-09-28T00:00:00.000000000",
          "2023-09-29T00:00:00.000000000",
          "2023-09-30T00:00:00.000000000",
          "2023-10-01T00:00:00.000000000",
          "2023-10-02T00:00:00.000000000",
          "2023-10-03T00:00:00.000000000",
          "2023-10-04T00:00:00.000000000",
          "2023-10-05T00:00:00.000000000",
          "2023-10-06T00:00:00.000000000",
          "2023-10-07T00:00:00.000000000",
          "2023-10-08T00:00:00.000000000",
          "2023-10-09T00:00:00.000000000",
          "2023-10-10T00:00:00.000000000",
          "2023-10-11T00:00:00.000000000",
          "2023-10-12T00:00:00.000000000",
          "2023-10-13T00:00:00.000000000",
          "2023-10-14T00:00:00.000000000",
          "2023-10-15T00:00:00.000000000",
          "2023-10-16T00:00:00.000000000",
          "2023-10-17T00:00:00.000000000",
          "2023-10-18T00:00:00.000000000",
          "2023-10-19T00:00:00.000000000",
          "2023-10-20T00:00:00.000000000",
          "2023-10-21T00:00:00.000000000",
          "2023-10-22T00:00:00.000000000",
          "2023-10-23T00:00:00.000000000",
          "2023-10-24T00:00:00.000000000",
          "2023-10-25T00:00:00.000000000",
          "2023-10-26T00:00:00.000000000",
          "2023-10-27T00:00:00.000000000",
          "2023-10-28T00:00:00.000000000",
          "2023-10-29T00:00:00.000000000",
          "2023-10-30T00:00:00.000000000",
          "2023-10-31T00:00:00.000000000",
          "2023-11-01T00:00:00.000000000",
          "2023-11-02T00:00:00.000000000",
          "2023-11-03T00:00:00.000000000",
          "2023-11-04T00:00:00.000000000",
          "2023-11-05T00:00:00.000000000",
          "2023-11-06T00:00:00.000000000",
          "2023-11-07T00:00:00.000000000",
          "2023-11-08T00:00:00.000000000",
          "2023-11-09T00:00:00.000000000",
          "2023-11-10T00:00:00.000000000",
          "2023-11-11T00:00:00.000000000",
          "2023-11-12T00:00:00.000000000",
          "2023-11-13T00:00:00.000000000",
          "2023-11-14T00:00:00.000000000",
          "2023-11-15T00:00:00.000000000",
          "2023-11-16T00:00:00.000000000",
          "2023-11-17T00:00:00.000000000",
          "2023-11-18T00:00:00.000000000",
          "2023-11-19T00:00:00.000000000",
          "2023-11-20T00:00:00.000000000",
          "2023-11-21T00:00:00.000000000",
          "2023-11-22T00:00:00.000000000",
          "2023-11-23T00:00:00.000000000",
          "2023-11-24T00:00:00.000000000",
          "2023-11-25T00:00:00.000000000",
          "2023-11-26T00:00:00.000000000",
          "2023-11-27T00:00:00.000000000",
          "2023-11-28T00:00:00.000000000",
          "2023-11-29T00:00:00.000000000",
          "2023-11-30T00:00:00.000000000",
          "2023-12-01T00:00:00.000000000",
          "2023-12-02T00:00:00.000000000",
          "2023-12-03T00:00:00.000000000",
          "2023-12-04T00:00:00.000000000",
          "2023-12-05T00:00:00.000000000",
          "2023-12-06T00:00:00.000000000",
          "2023-12-07T00:00:00.000000000",
          "2023-12-08T00:00:00.000000000",
          "2023-12-09T00:00:00.000000000",
          "2023-12-10T00:00:00.000000000",
          "2023-12-11T00:00:00.000000000",
          "2023-12-12T00:00:00.000000000",
          "2023-12-13T00:00:00.000000000",
          "2023-12-14T00:00:00.000000000",
          "2023-12-15T00:00:00.000000000",
          "2023-12-16T00:00:00.000000000",
          "2023-12-17T00:00:00.000000000",
          "2023-12-18T00:00:00.000000000",
          "2023-12-19T00:00:00.000000000",
          "2023-12-20T00:00:00.000000000",
          "2023-12-21T00:00:00.000000000",
          "2023-12-22T00:00:00.000000000",
          "2023-12-23T00:00:00.000000000",
          "2023-12-24T00:00:00.000000000",
          "2023-12-25T00:00:00.000000000",
          "2023-12-26T00:00:00.000000000",
          "2023-12-27T00:00:00.000000000",
          "2023-12-28T00:00:00.000000000",
          "2023-12-29T00:00:00.000000000",
          "2023-12-30T00:00:00.000000000",
          "2023-12-31T00:00:00.000000000",
          "2024-01-01T00:00:00.000000000",
          "2024-01-02T00:00:00.000000000",
          "2024-01-03T00:00:00.000000000",
          "2024-01-04T00:00:00.000000000",
          "2024-01-05T00:00:00.000000000",
          "2024-01-06T00:00:00.000000000",
          "2024-01-07T00:00:00.000000000",
          "2024-01-08T00:00:00.000000000",
          "2024-01-09T00:00:00.000000000",
          "2024-01-10T00:00:00.000000000",
          "2024-01-11T00:00:00.000000000",
          "2024-01-12T00:00:00.000000000",
          "2024-01-13T00:00:00.000000000",
          "2024-01-14T00:00:00.000000000",
          "2024-01-15T00:00:00.000000000",
          "2024-01-16T00:00:00.000000000",
          "2024-01-17T00:00:00.000000000",
          "2024-01-18T00:00:00.000000000",
          "2024-01-19T00:00:00.000000000",
          "2024-01-20T00:00:00.000000000",
          "2024-01-21T00:00:00.000000000",
          "2024-01-22T00:00:00.000000000",
          "2024-01-23T00:00:00.000000000",
          "2024-01-24T00:00:00.000000000",
          "2024-01-25T00:00:00.000000000",
          "2024-01-26T00:00:00.000000000",
          "2024-01-27T00:00:00.000000000",
          "2024-01-28T00:00:00.000000000",
          "2024-01-29T00:00:00.000000000",
          "2024-01-30T00:00:00.000000000",
          "2024-01-31T00:00:00.000000000",
          "2024-02-01T00:00:00.000000000",
          "2024-02-02T00:00:00.000000000",
          "2024-02-03T00:00:00.000000000",
          "2024-02-04T00:00:00.000000000",
          "2024-02-05T00:00:00.000000000",
          "2024-02-06T00:00:00.000000000",
          "2024-02-07T00:00:00.000000000",
          "2024-02-08T00:00:00.000000000",
          "2024-02-09T00:00:00.000000000",
          "2024-02-10T00:00:00.000000000",
          "2024-02-11T00:00:00.000000000",
          "2024-02-12T00:00:00.000000000",
          "2024-02-13T00:00:00.000000000",
          "2024-02-14T00:00:00.000000000",
          "2024-02-15T00:00:00.000000000",
          "2024-02-16T00:00:00.000000000",
          "2024-02-17T00:00:00.000000000",
          "2024-02-18T00:00:00.000000000",
          "2024-02-19T00:00:00.000000000",
          "2024-02-20T00:00:00.000000000",
          "2024-02-21T00:00:00.000000000",
          "2024-02-22T00:00:00.000000000",
          "2024-02-23T00:00:00.000000000",
          "2024-02-24T00:00:00.000000000",
          "2024-02-25T00:00:00.000000000",
          "2024-02-26T00:00:00.000000000",
          "2024-02-27T00:00:00.000000000",
          "2024-02-28T00:00:00.000000000",
          "2024-02-29T00:00:00.000000000",
          "2024-03-01T00:00:00.000000000",
          "2024-03-02T00:00:00.000000000",
          "2024-03-03T00:00:00.000000000",
          "2024-03-04T00:00:00.000000000",
          "2024-03-05T00:00:00.000000000",
          "2024-03-06T00:00:00.000000000",
          "2024-03-07T00:00:00.000000000",
          "2024-03-08T00:00:00.000000000",
          "2024-03-09T00:00:00.000000000",
          "2024-03-10T00:00:00.000000000",
          "2024-03-11T00:00:00.000000000",
          "2024-03-12T00:00:00.000000000",
          "2024-03-13T00:00:00.000000000",
          "2024-03-14T00:00:00.000000000",
          "2024-03-15T00:00:00.000000000",
          "2024-03-16T00:00:00.000000000",
          "2024-03-17T00:00:00.000000000",
          "2024-03-18T00:00:00.000000000",
          "2024-03-19T00:00:00.000000000",
          "2024-03-20T00:00:00.000000000",
          "2024-03-21T00:00:00.000000000",
          "2024-03-22T00:00:00.000000000",
          "2024-03-23T00:00:00.000000000",
          "2024-03-24T00:00:00.000000000",
          "2024-03-25T00:00:00.000000000",
          "2024-03-26T00:00:00.000000000",
          "2024-03-27T00:00:00.000000000",
          "2024-03-28T00:00:00.000000000",
          "2024-03-29T00:00:00.000000000",
          "2024-03-30T00:00:00.000000000",
          "2024-03-31T00:00:00.000000000",
          "2024-04-01T00:00:00.000000000",
          "2024-04-02T00:00:00.000000000",
          "2024-04-03T00:00:00.000000000",
          "2024-04-04T00:00:00.000000000",
          "2024-04-05T00:00:00.000000000",
          "2024-04-06T00:00:00.000000000",
          "2024-04-07T00:00:00.000000000",
          "2024-04-08T00:00:00.000000000",
          "2024-04-09T00:00:00.000000000",
          "2024-04-10T00:00:00.000000000",
          "2024-04-11T00:00:00.000000000",
          "2024-04-12T00:00:00.000000000",
          "2024-04-13T00:00:00.000000000",
          "2024-04-14T00:00:00.000000000",
          "2024-04-15T00:00:00.000000000",
          "2024-04-16T00:00:00.000000000",
          "2024-04-17T00:00:00.000000000",
          "2024-04-18T00:00:00.000000000",
          "2024-04-19T00:00:00.000000000",
          "2024-04-20T00:00:00.000000000",
          "2024-04-21T00:00:00.000000000",
          "2024-04-22T00:00:00.000000000",
          "2024-04-23T00:00:00.000000000",
          "2024-04-24T00:00:00.000000000",
          "2024-04-25T00:00:00.000000000",
          "2024-04-26T00:00:00.000000000",
          "2024-04-27T00:00:00.000000000",
          "2024-04-28T00:00:00.000000000",
          "2024-04-29T00:00:00.000000000",
          "2024-04-30T00:00:00.000000000",
          "2024-05-01T00:00:00.000000000",
          "2024-05-02T00:00:00.000000000",
          "2024-05-03T00:00:00.000000000",
          "2024-05-04T00:00:00.000000000",
          "2024-05-05T00:00:00.000000000",
          "2024-05-06T00:00:00.000000000",
          "2024-05-07T00:00:00.000000000",
          "2024-05-08T00:00:00.000000000",
          "2024-05-09T00:00:00.000000000",
          "2024-05-10T00:00:00.000000000",
          "2024-05-11T00:00:00.000000000",
          "2024-05-12T00:00:00.000000000",
          "2024-05-13T00:00:00.000000000",
          "2024-05-14T00:00:00.000000000",
          "2024-05-15T00:00:00.000000000",
          "2024-05-16T00:00:00.000000000",
          "2024-05-17T00:00:00.000000000",
          "2024-05-18T00:00:00.000000000",
          "2024-05-19T00:00:00.000000000",
          "2024-05-20T00:00:00.000000000",
          "2024-05-21T00:00:00.000000000",
          "2024-05-22T00:00:00.000000000",
          "2024-05-23T00:00:00.000000000",
          "2024-05-24T00:00:00.000000000",
          "2024-05-25T00:00:00.000000000",
          "2024-05-26T00:00:00.000000000",
          "2024-05-27T00:00:00.000000000",
          "2024-05-28T00:00:00.000000000",
          "2024-05-29T00:00:00.000000000",
          "2024-05-30T00:00:00.000000000",
          "2024-05-31T00:00:00.000000000",
          "2024-06-01T00:00:00.000000000",
          "2024-06-02T00:00:00.000000000",
          "2024-06-03T00:00:00.000000000",
          "2024-06-04T00:00:00.000000000",
          "2024-06-05T00:00:00.000000000",
          "2024-06-06T00:00:00.000000000",
          "2024-06-07T00:00:00.000000000",
          "2024-06-08T00:00:00.000000000",
          "2024-06-09T00:00:00.000000000",
          "2024-06-10T00:00:00.000000000",
          "2024-06-11T00:00:00.000000000",
          "2024-06-12T00:00:00.000000000",
          "2024-06-13T00:00:00.000000000",
          "2024-06-14T00:00:00.000000000",
          "2024-06-15T00:00:00.000000000",
          "2024-06-16T00:00:00.000000000",
          "2024-06-17T00:00:00.000000000",
          "2024-06-18T00:00:00.000000000",
          "2024-06-19T00:00:00.000000000",
          "2024-06-20T00:00:00.000000000",
          "2024-06-21T00:00:00.000000000",
          "2024-06-22T00:00:00.000000000",
          "2024-06-23T00:00:00.000000000",
          "2024-06-24T00:00:00.000000000",
          "2024-06-25T00:00:00.000000000",
          "2024-06-26T00:00:00.000000000",
          "2024-06-27T00:00:00.000000000",
          "2024-06-28T00:00:00.000000000",
          "2024-06-29T00:00:00.000000000",
          "2024-06-30T00:00:00.000000000",
          "2024-07-01T00:00:00.000000000",
          "2024-07-02T00:00:00.000000000",
          "2024-07-03T00:00:00.000000000",
          "2024-07-04T00:00:00.000000000",
          "2024-07-05T00:00:00.000000000",
          "2024-07-06T00:00:00.000000000",
          "2024-07-07T00:00:00.000000000",
          "2024-07-08T00:00:00.000000000",
          "2024-07-09T00:00:00.000000000",
          "2024-07-10T00:00:00.000000000",
          "2024-07-11T00:00:00.000000000",
          "2024-07-12T00:00:00.000000000",
          "2024-07-13T00:00:00.000000000",
          "2024-07-14T00:00:00.000000000",
          "2024-07-15T00:00:00.000000000",
          "2024-07-16T00:00:00.000000000",
          "2024-07-17T00:00:00.000000000",
          "2024-07-18T00:00:00.000000000",
          "2024-07-19T00:00:00.000000000",
          "2024-07-20T00:00:00.000000000",
          "2024-07-21T00:00:00.000000000",
          "2024-07-22T00:00:00.000000000",
          "2024-07-23T00:00:00.000000000",
          "2024-07-24T00:00:00.000000000",
          "2024-07-25T00:00:00.000000000",
          "2024-07-26T00:00:00.000000000",
          "2024-07-27T00:00:00.000000000",
          "2024-07-28T00:00:00.000000000",
          "2024-07-29T00:00:00.000000000",
          "2024-07-30T00:00:00.000000000",
          "2024-07-31T00:00:00.000000000",
          "2024-08-01T00:00:00.000000000",
          "2024-08-02T00:00:00.000000000",
          "2024-08-03T00:00:00.000000000",
          "2024-08-04T00:00:00.000000000",
          "2024-08-05T00:00:00.000000000",
          "2024-08-06T00:00:00.000000000",
          "2024-08-07T00:00:00.000000000",
          "2024-08-08T00:00:00.000000000",
          "2024-08-09T00:00:00.000000000",
          "2024-08-10T00:00:00.000000000",
          "2024-08-11T00:00:00.000000000",
          "2024-08-12T00:00:00.000000000",
          "2024-08-13T00:00:00.000000000",
          "2024-08-14T00:00:00.000000000",
          "2024-08-15T00:00:00.000000000",
          "2024-08-16T00:00:00.000000000",
          "2024-08-17T00:00:00.000000000",
          "2024-08-18T00:00:00.000000000",
          "2024-08-19T00:00:00.000000000",
          "2024-08-20T00:00:00.000000000",
          "2024-08-21T00:00:00.000000000",
          "2024-08-22T00:00:00.000000000",
          "2024-08-23T00:00:00.000000000",
          "2024-08-24T00:00:00.000000000",
          "2024-08-25T00:00:00.000000000",
          "2024-08-26T00:00:00.000000000",
          "2024-08-27T00:00:00.000000000",
          "2024-08-28T00:00:00.000000000",
          "2024-08-29T00:00:00.000000000",
          "2024-08-30T00:00:00.000000000",
          "2024-08-31T00:00:00.000000000",
          "2024-09-01T00:00:00.000000000",
          "2024-09-02T00:00:00.000000000",
          "2024-09-03T00:00:00.000000000",
          "2024-09-04T00:00:00.000000000",
          "2024-09-05T00:00:00.000000000",
          "2024-09-06T00:00:00.000000000",
          "2024-09-07T00:00:00.000000000",
          "2024-09-08T00:00:00.000000000",
          "2024-09-09T00:00:00.000000000",
          "2024-09-10T00:00:00.000000000",
          "2024-09-11T00:00:00.000000000",
          "2024-09-12T00:00:00.000000000",
          "2024-09-13T00:00:00.000000000",
          "2024-09-14T00:00:00.000000000",
          "2024-09-15T00:00:00.000000000",
          "2024-09-16T00:00:00.000000000",
          "2024-09-17T00:00:00.000000000",
          "2024-09-18T00:00:00.000000000",
          "2024-09-19T00:00:00.000000000",
          "2024-09-20T00:00:00.000000000",
          "2024-09-21T00:00:00.000000000",
          "2024-09-22T00:00:00.000000000",
          "2024-09-23T00:00:00.000000000",
          "2024-09-24T00:00:00.000000000",
          "2024-09-25T00:00:00.000000000",
          "2024-09-26T00:00:00.000000000",
          "2024-09-27T00:00:00.000000000",
          "2024-09-28T00:00:00.000000000",
          "2024-09-29T00:00:00.000000000",
          "2024-09-30T00:00:00.000000000",
          "2024-10-01T00:00:00.000000000",
          "2024-10-02T00:00:00.000000000",
          "2024-10-03T00:00:00.000000000",
          "2024-10-04T00:00:00.000000000",
          "2024-10-05T00:00:00.000000000",
          "2024-10-06T00:00:00.000000000",
          "2024-10-07T00:00:00.000000000",
          "2024-10-08T00:00:00.000000000",
          "2024-10-09T00:00:00.000000000",
          "2024-10-10T00:00:00.000000000",
          "2024-10-11T00:00:00.000000000",
          "2024-10-12T00:00:00.000000000",
          "2024-10-13T00:00:00.000000000",
          "2024-10-14T00:00:00.000000000",
          "2024-10-15T00:00:00.000000000",
          "2024-10-16T00:00:00.000000000",
          "2024-10-17T00:00:00.000000000",
          "2024-10-18T00:00:00.000000000",
          "2024-10-19T00:00:00.000000000",
          "2024-10-20T00:00:00.000000000",
          "2024-10-21T00:00:00.000000000",
          "2024-10-22T00:00:00.000000000",
          "2024-10-23T00:00:00.000000000",
          "2024-10-24T00:00:00.000000000",
          "2024-10-25T00:00:00.000000000",
          "2024-10-26T00:00:00.000000000",
          "2024-10-27T00:00:00.000000000",
          "2024-10-28T00:00:00.000000000",
          "2024-10-29T00:00:00.000000000",
          "2024-10-30T00:00:00.000000000",
          "2024-10-31T00:00:00.000000000",
          "2024-11-01T00:00:00.000000000",
          "2024-11-02T00:00:00.000000000",
          "2024-11-03T00:00:00.000000000",
          "2024-11-04T00:00:00.000000000",
          "2024-11-05T00:00:00.000000000",
          "2024-11-06T00:00:00.000000000",
          "2024-11-07T00:00:00.000000000",
          "2024-11-08T00:00:00.000000000",
          "2024-11-09T00:00:00.000000000",
          "2024-11-10T00:00:00.000000000",
          "2024-11-11T00:00:00.000000000",
          "2024-11-12T00:00:00.000000000",
          "2024-11-13T00:00:00.000000000",
          "2024-11-14T00:00:00.000000000",
          "2024-11-15T00:00:00.000000000",
          "2024-11-16T00:00:00.000000000",
          "2024-11-17T00:00:00.000000000",
          "2024-11-18T00:00:00.000000000",
          "2024-11-19T00:00:00.000000000",
          "2024-11-20T00:00:00.000000000",
          "2024-11-21T00:00:00.000000000",
          "2024-11-22T00:00:00.000000000",
          "2024-11-23T00:00:00.000000000",
          "2024-11-24T00:00:00.000000000",
          "2024-11-25T00:00:00.000000000",
          "2024-11-26T00:00:00.000000000",
          "2024-11-27T00:00:00.000000000",
          "2024-11-28T00:00:00.000000000",
          "2024-11-29T00:00:00.000000000",
          "2024-11-30T00:00:00.000000000",
          "2024-12-01T00:00:00.000000000",
          "2024-12-02T00:00:00.000000000",
          "2024-12-03T00:00:00.000000000",
          "2024-12-04T00:00:00.000000000",
          "2024-12-05T00:00:00.000000000",
          "2024-12-06T00:00:00.000000000",
          "2024-12-07T00:00:00.000000000",
          "2024-12-08T00:00:00.000000000",
          "2024-12-09T00:00:00.000000000",
          "2024-12-10T00:00:00.000000000",
          "2024-12-11T00:00:00.000000000",
          "2024-12-12T00:00:00.000000000",
          "2024-12-13T00:00:00.000000000",
          "2024-12-14T00:00:00.000000000",
          "2024-12-15T00:00:00.000000000",
          "2024-12-16T00:00:00.000000000",
          "2024-12-17T00:00:00.000000000",
          "2024-12-18T00:00:00.000000000",
          "2024-12-19T00:00:00.000000000",
          "2024-12-20T00:00:00.000000000",
          "2024-12-21T00:00:00.000000000",
          "2024-12-22T00:00:00.000000000",
          "2024-12-23T00:00:00.000000000",
          "2024-12-24T00:00:00.000000000",
          "2024-12-25T00:00:00.000000000",
          "2024-12-26T00:00:00.000000000",
          "2024-12-27T00:00:00.000000000",
          "2024-12-28T00:00:00.000000000",
          "2024-12-29T00:00:00.000000000",
          "2024-12-30T00:00:00.000000000",
          "2024-12-31T00:00:00.000000000",
          "2025-01-01T00:00:00.000000000",
          "2025-01-02T00:00:00.000000000",
          "2025-01-03T00:00:00.000000000",
          "2025-01-04T00:00:00.000000000",
          "2025-01-05T00:00:00.000000000",
          "2025-01-06T00:00:00.000000000",
          "2025-01-07T00:00:00.000000000",
          "2025-01-08T00:00:00.000000000",
          "2025-01-09T00:00:00.000000000",
          "2025-01-10T00:00:00.000000000",
          "2025-01-11T00:00:00.000000000",
          "2025-01-12T00:00:00.000000000",
          "2025-01-13T00:00:00.000000000",
          "2025-01-14T00:00:00.000000000",
          "2025-01-15T00:00:00.000000000",
          "2025-01-16T00:00:00.000000000",
          "2025-01-17T00:00:00.000000000",
          "2025-01-18T00:00:00.000000000",
          "2025-01-19T00:00:00.000000000",
          "2025-01-20T00:00:00.000000000",
          "2025-01-21T00:00:00.000000000",
          "2025-01-22T00:00:00.000000000",
          "2025-01-23T00:00:00.000000000",
          "2025-01-24T00:00:00.000000000",
          "2025-01-25T00:00:00.000000000",
          "2025-01-26T00:00:00.000000000",
          "2025-01-27T00:00:00.000000000",
          "2025-01-28T00:00:00.000000000",
          "2025-01-29T00:00:00.000000000",
          "2025-01-30T00:00:00.000000000",
          "2025-01-31T00:00:00.000000000",
          "2025-02-01T00:00:00.000000000",
          "2025-02-02T00:00:00.000000000",
          "2025-02-03T00:00:00.000000000",
          "2025-02-04T00:00:00.000000000",
          "2025-02-05T00:00:00.000000000",
          "2025-02-06T00:00:00.000000000",
          "2025-02-07T00:00:00.000000000",
          "2025-02-08T00:00:00.000000000",
          "2025-02-09T00:00:00.000000000",
          "2025-02-10T00:00:00.000000000",
          "2025-02-11T00:00:00.000000000",
          "2025-02-12T00:00:00.000000000",
          "2025-02-13T00:00:00.000000000",
          "2025-02-14T00:00:00.000000000",
          "2025-02-15T00:00:00.000000000",
          "2025-02-16T00:00:00.000000000",
          "2025-02-17T00:00:00.000000000",
          "2025-02-18T00:00:00.000000000",
          "2025-02-19T00:00:00.000000000",
          "2025-02-20T00:00:00.000000000",
          "2025-02-21T00:00:00.000000000",
          "2025-02-22T00:00:00.000000000",
          "2025-02-23T00:00:00.000000000",
          "2025-02-24T00:00:00.000000000",
          "2025-02-25T00:00:00.000000000",
          "2025-02-26T00:00:00.000000000",
          "2025-02-27T00:00:00.000000000",
          "2025-02-28T00:00:00.000000000",
          "2025-03-01T00:00:00.000000000",
          "2025-03-02T00:00:00.000000000",
          "2025-03-03T00:00:00.000000000",
          "2025-03-04T00:00:00.000000000",
          "2025-03-05T00:00:00.000000000",
          "2025-03-06T00:00:00.000000000",
          "2025-03-07T00:00:00.000000000",
          "2025-03-08T00:00:00.000000000",
          "2025-03-09T00:00:00.000000000",
          "2025-03-10T00:00:00.000000000",
          "2025-03-11T00:00:00.000000000",
          "2025-03-12T00:00:00.000000000",
          "2025-03-13T00:00:00.000000000",
          "2025-03-14T00:00:00.000000000",
          "2025-03-15T00:00:00.000000000",
          "2025-03-16T00:00:00.000000000",
          "2025-03-17T00:00:00.000000000",
          "2025-03-18T00:00:00.000000000",
          "2025-03-19T00:00:00.000000000",
          "2025-03-20T00:00:00.000000000",
          "2025-03-21T00:00:00.000000000",
          "2025-03-22T00:00:00.000000000",
          "2025-03-23T00:00:00.000000000",
          "2025-03-24T00:00:00.000000000",
          "2025-03-25T00:00:00.000000000",
          "2025-03-26T00:00:00.000000000",
          "2025-03-27T00:00:00.000000000",
          "2025-03-28T00:00:00.000000000",
          "2025-03-29T00:00:00.000000000",
          "2025-03-30T00:00:00.000000000",
          "2025-03-31T00:00:00.000000000",
          "2025-04-01T00:00:00.000000000",
          "2025-04-02T00:00:00.000000000"
         ],
         "y": {
          "bdata": "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",
          "dtype": "f8"
         }
        }
       ],
       "layout": {
        "annotations": [
         {
          "showarrow": false,
          "text": "3% Error Threshold",
          "x": 0,
          "xanchor": "left",
          "xref": "x domain",
          "y": 3,
          "yanchor": "bottom",
          "yref": "y"
         },
         {
          "showarrow": false,
          "text": "Average MAE",
          "x": 0,
          "xanchor": "left",
          "xref": "x domain",
          "y": 1.7951417165714234,
          "yanchor": "bottom",
          "yref": "y"
         },
         {
          "showarrow": false,
          "text": "Average RMSE",
          "x": 0,
          "xanchor": "left",
          "xref": "x domain",
          "y": 2.3010065717351256,
          "yanchor": "bottom",
          "yref": "y"
         },
         {
          "showarrow": false,
          "text": "Worst MAE Spike",
          "x": 0,
          "xanchor": "left",
          "xref": "x domain",
          "y": 11.796029705829229,
          "yanchor": "bottom",
          "yref": "y"
         },
         {
          "showarrow": false,
          "text": "Worst RMSE Spike",
          "x": 0,
          "xanchor": "left",
          "xref": "x domain",
          "y": 6.221117872297824,
          "yanchor": "bottom",
          "yref": "y"
         }
        ],
        "barmode": "overlay",
        "height": 500,
        "shapes": [
         {
          "line": {
           "color": "black",
           "dash": "dash"
          },
          "type": "line",
          "x0": 0,
          "x1": 1,
          "xref": "x domain",
          "y0": 3,
          "y1": 3,
          "yref": "y"
         },
         {
          "line": {
           "color": "purple",
           "dash": "dash"
          },
          "type": "line",
          "x0": 0,
          "x1": 1,
          "xref": "x domain",
          "y0": 1.7951417165714234,
          "y1": 1.7951417165714234,
          "yref": "y"
         },
         {
          "line": {
           "color": "green",
           "dash": "dash"
          },
          "type": "line",
          "x0": 0,
          "x1": 1,
          "xref": "x domain",
          "y0": 2.3010065717351256,
          "y1": 2.3010065717351256,
          "yref": "y"
         },
         {
          "line": {
           "color": "green",
           "dash": "dash"
          },
          "type": "line",
          "x0": 0,
          "x1": 1,
          "xref": "x domain",
          "y0": 11.796029705829229,
          "y1": 11.796029705829229,
          "yref": "y"
         },
         {
          "line": {
           "color": "green",
           "dash": "dash"
          },
          "type": "line",
          "x0": 0,
          "x1": 1,
          "xref": "x domain",
          "y0": 6.221117872297824,
          "y1": 6.221117872297824,
          "yref": "y"
         }
        ],
        "template": {
         "data": {
          "bar": [
           {
            "error_x": {
             "color": "#2a3f5f"
            },
            "error_y": {
             "color": "#2a3f5f"
            },
            "marker": {
             "line": {
              "color": "white",
              "width": 0.5
             },
             "pattern": {
              "fillmode": "overlay",
              "size": 10,
              "solidity": 0.2
             }
            },
            "type": "bar"
           }
          ],
          "barpolar": [
           {
            "marker": {
             "line": {
              "color": "white",
              "width": 0.5
             },
             "pattern": {
              "fillmode": "overlay",
              "size": 10,
              "solidity": 0.2
             }
            },
            "type": "barpolar"
           }
          ],
          "carpet": [
           {
            "aaxis": {
             "endlinecolor": "#2a3f5f",
             "gridcolor": "#C8D4E3",
             "linecolor": "#C8D4E3",
             "minorgridcolor": "#C8D4E3",
             "startlinecolor": "#2a3f5f"
            },
            "baxis": {
             "endlinecolor": "#2a3f5f",
             "gridcolor": "#C8D4E3",
             "linecolor": "#C8D4E3",
             "minorgridcolor": "#C8D4E3",
             "startlinecolor": "#2a3f5f"
            },
            "type": "carpet"
           }
          ],
          "choropleth": [
           {
            "colorbar": {
             "outlinewidth": 0,
             "ticks": ""
            },
            "type": "choropleth"
           }
          ],
          "contour": [
           {
            "colorbar": {
             "outlinewidth": 0,
             "ticks": ""
            },
            "colorscale": [
             [
              0,
              "#0d0887"
             ],
             [
              0.1111111111111111,
              "#46039f"
             ],
             [
              0.2222222222222222,
              "#7201a8"
             ],
             [
              0.3333333333333333,
              "#9c179e"
             ],
             [
              0.4444444444444444,
              "#bd3786"
             ],
             [
              0.5555555555555556,
              "#d8576b"
             ],
             [
              0.6666666666666666,
              "#ed7953"
             ],
             [
              0.7777777777777778,
              "#fb9f3a"
             ],
             [
              0.8888888888888888,
              "#fdca26"
             ],
             [
              1,
              "#f0f921"
             ]
            ],
            "type": "contour"
           }
          ],
          "contourcarpet": [
           {
            "colorbar": {
             "outlinewidth": 0,
             "ticks": ""
            },
            "type": "contourcarpet"
           }
          ],
          "heatmap": [
           {
            "colorbar": {
             "outlinewidth": 0,
             "ticks": ""
            },
            "colorscale": [
             [
              0,
              "#0d0887"
             ],
             [
              0.1111111111111111,
              "#46039f"
             ],
             [
              0.2222222222222222,
              "#7201a8"
             ],
             [
              0.3333333333333333,
              "#9c179e"
             ],
             [
              0.4444444444444444,
              "#bd3786"
             ],
             [
              0.5555555555555556,
              "#d8576b"
             ],
             [
              0.6666666666666666,
              "#ed7953"
             ],
             [
              0.7777777777777778,
              "#fb9f3a"
             ],
             [
              0.8888888888888888,
              "#fdca26"
             ],
             [
              1,
              "#f0f921"
             ]
            ],
            "type": "heatmap"
           }
          ],
          "histogram": [
           {
            "marker": {
             "pattern": {
              "fillmode": "overlay",
              "size": 10,
              "solidity": 0.2
             }
            },
            "type": "histogram"
           }
          ],
          "histogram2d": [
           {
            "colorbar": {
             "outlinewidth": 0,
             "ticks": ""
            },
            "colorscale": [
             [
              0,
              "#0d0887"
             ],
             [
              0.1111111111111111,
              "#46039f"
             ],
             [
              0.2222222222222222,
              "#7201a8"
             ],
             [
              0.3333333333333333,
              "#9c179e"
             ],
             [
              0.4444444444444444,
              "#bd3786"
             ],
             [
              0.5555555555555556,
              "#d8576b"
             ],
             [
              0.6666666666666666,
              "#ed7953"
             ],
             [
              0.7777777777777778,
              "#fb9f3a"
             ],
             [
              0.8888888888888888,
              "#fdca26"
             ],
             [
              1,
              "#f0f921"
             ]
            ],
            "type": "histogram2d"
           }
          ],
          "histogram2dcontour": [
           {
            "colorbar": {
             "outlinewidth": 0,
             "ticks": ""
            },
            "colorscale": [
             [
              0,
              "#0d0887"
             ],
             [
              0.1111111111111111,
              "#46039f"
             ],
             [
              0.2222222222222222,
              "#7201a8"
             ],
             [
              0.3333333333333333,
              "#9c179e"
             ],
             [
              0.4444444444444444,
              "#bd3786"
             ],
             [
              0.5555555555555556,
              "#d8576b"
             ],
             [
              0.6666666666666666,
              "#ed7953"
             ],
             [
              0.7777777777777778,
              "#fb9f3a"
             ],
             [
              0.8888888888888888,
              "#fdca26"
             ],
             [
              1,
              "#f0f921"
             ]
            ],
            "type": "histogram2dcontour"
           }
          ],
          "mesh3d": [
           {
            "colorbar": {
             "outlinewidth": 0,
             "ticks": ""
            },
            "type": "mesh3d"
           }
          ],
          "parcoords": [
           {
            "line": {
             "colorbar": {
              "outlinewidth": 0,
              "ticks": ""
             }
            },
            "type": "parcoords"
           }
          ],
          "pie": [
           {
            "automargin": true,
            "type": "pie"
           }
          ],
          "scatter": [
           {
            "fillpattern": {
             "fillmode": "overlay",
             "size": 10,
             "solidity": 0.2
            },
            "type": "scatter"
           }
          ],
          "scatter3d": [
           {
            "line": {
             "colorbar": {
              "outlinewidth": 0,
              "ticks": ""
             }
            },
            "marker": {
             "colorbar": {
              "outlinewidth": 0,
              "ticks": ""
             }
            },
            "type": "scatter3d"
           }
          ],
          "scattercarpet": [
           {
            "marker": {
             "colorbar": {
              "outlinewidth": 0,
              "ticks": ""
             }
            },
            "type": "scattercarpet"
           }
          ],
          "scattergeo": [
           {
            "marker": {
             "colorbar": {
              "outlinewidth": 0,
              "ticks": ""
             }
            },
            "type": "scattergeo"
           }
          ],
          "scattergl": [
           {
            "marker": {
             "colorbar": {
              "outlinewidth": 0,
              "ticks": ""
             }
            },
            "type": "scattergl"
           }
          ],
          "scattermap": [
           {
            "marker": {
             "colorbar": {
              "outlinewidth": 0,
              "ticks": ""
             }
            },
            "type": "scattermap"
           }
          ],
          "scattermapbox": [
           {
            "marker": {
             "colorbar": {
              "outlinewidth": 0,
              "ticks": ""
             }
            },
            "type": "scattermapbox"
           }
          ],
          "scatterpolar": [
           {
            "marker": {
             "colorbar": {
              "outlinewidth": 0,
              "ticks": ""
             }
            },
            "type": "scatterpolar"
           }
          ],
          "scatterpolargl": [
           {
            "marker": {
             "colorbar": {
              "outlinewidth": 0,
              "ticks": ""
             }
            },
            "type": "scatterpolargl"
           }
          ],
          "scatterternary": [
           {
            "marker": {
             "colorbar": {
              "outlinewidth": 0,
              "ticks": ""
             }
            },
            "type": "scatterternary"
           }
          ],
          "surface": [
           {
            "colorbar": {
             "outlinewidth": 0,
             "ticks": ""
            },
            "colorscale": [
             [
              0,
              "#0d0887"
             ],
             [
              0.1111111111111111,
              "#46039f"
             ],
             [
              0.2222222222222222,
              "#7201a8"
             ],
             [
              0.3333333333333333,
              "#9c179e"
             ],
             [
              0.4444444444444444,
              "#bd3786"
             ],
             [
              0.5555555555555556,
              "#d8576b"
             ],
             [
              0.6666666666666666,
              "#ed7953"
             ],
             [
              0.7777777777777778,
              "#fb9f3a"
             ],
             [
              0.8888888888888888,
              "#fdca26"
             ],
             [
              1,
              "#f0f921"
             ]
            ],
            "type": "surface"
           }
          ],
          "table": [
           {
            "cells": {
             "fill": {
              "color": "#EBF0F8"
             },
             "line": {
              "color": "white"
             }
            },
            "header": {
             "fill": {
              "color": "#C8D4E3"
             },
             "line": {
              "color": "white"
             }
            },
            "type": "table"
           }
          ]
         },
         "layout": {
          "annotationdefaults": {
           "arrowcolor": "#2a3f5f",
           "arrowhead": 0,
           "arrowwidth": 1
          },
          "autotypenumbers": "strict",
          "coloraxis": {
           "colorbar": {
            "outlinewidth": 0,
            "ticks": ""
           }
          },
          "colorscale": {
           "diverging": [
            [
             0,
             "#8e0152"
            ],
            [
             0.1,
             "#c51b7d"
            ],
            [
             0.2,
             "#de77ae"
            ],
            [
             0.3,
             "#f1b6da"
            ],
            [
             0.4,
             "#fde0ef"
            ],
            [
             0.5,
             "#f7f7f7"
            ],
            [
             0.6,
             "#e6f5d0"
            ],
            [
             0.7,
             "#b8e186"
            ],
            [
             0.8,
             "#7fbc41"
            ],
            [
             0.9,
             "#4d9221"
            ],
            [
             1,
             "#276419"
            ]
           ],
           "sequential": [
            [
             0,
             "#0d0887"
            ],
            [
             0.1111111111111111,
             "#46039f"
            ],
            [
             0.2222222222222222,
             "#7201a8"
            ],
            [
             0.3333333333333333,
             "#9c179e"
            ],
            [
             0.4444444444444444,
             "#bd3786"
            ],
            [
             0.5555555555555556,
             "#d8576b"
            ],
            [
             0.6666666666666666,
             "#ed7953"
            ],
            [
             0.7777777777777778,
             "#fb9f3a"
            ],
            [
             0.8888888888888888,
             "#fdca26"
            ],
            [
             1,
             "#f0f921"
            ]
           ],
           "sequentialminus": [
            [
             0,
             "#0d0887"
            ],
            [
             0.1111111111111111,
             "#46039f"
            ],
            [
             0.2222222222222222,
             "#7201a8"
            ],
            [
             0.3333333333333333,
             "#9c179e"
            ],
            [
             0.4444444444444444,
             "#bd3786"
            ],
            [
             0.5555555555555556,
             "#d8576b"
            ],
            [
             0.6666666666666666,
             "#ed7953"
            ],
            [
             0.7777777777777778,
             "#fb9f3a"
            ],
            [
             0.8888888888888888,
             "#fdca26"
            ],
            [
             1,
             "#f0f921"
            ]
           ]
          },
          "colorway": [
           "#636efa",
           "#EF553B",
           "#00cc96",
           "#ab63fa",
           "#FFA15A",
           "#19d3f3",
           "#FF6692",
           "#B6E880",
           "#FF97FF",
           "#FECB52"
          ],
          "font": {
           "color": "#2a3f5f"
          },
          "geo": {
           "bgcolor": "white",
           "lakecolor": "white",
           "landcolor": "white",
           "showlakes": true,
           "showland": true,
           "subunitcolor": "#C8D4E3"
          },
          "hoverlabel": {
           "align": "left"
          },
          "hovermode": "closest",
          "mapbox": {
           "style": "light"
          },
          "paper_bgcolor": "white",
          "plot_bgcolor": "white",
          "polar": {
           "angularaxis": {
            "gridcolor": "#EBF0F8",
            "linecolor": "#EBF0F8",
            "ticks": ""
           },
           "bgcolor": "white",
           "radialaxis": {
            "gridcolor": "#EBF0F8",
            "linecolor": "#EBF0F8",
            "ticks": ""
           }
          },
          "scene": {
           "xaxis": {
            "backgroundcolor": "white",
            "gridcolor": "#DFE8F3",
            "gridwidth": 2,
            "linecolor": "#EBF0F8",
            "showbackground": true,
            "ticks": "",
            "zerolinecolor": "#EBF0F8"
           },
           "yaxis": {
            "backgroundcolor": "white",
            "gridcolor": "#DFE8F3",
            "gridwidth": 2,
            "linecolor": "#EBF0F8",
            "showbackground": true,
            "ticks": "",
            "zerolinecolor": "#EBF0F8"
           },
           "zaxis": {
            "backgroundcolor": "white",
            "gridcolor": "#DFE8F3",
            "gridwidth": 2,
            "linecolor": "#EBF0F8",
            "showbackground": true,
            "ticks": "",
            "zerolinecolor": "#EBF0F8"
           }
          },
          "shapedefaults": {
           "line": {
            "color": "#2a3f5f"
           }
          },
          "ternary": {
           "aaxis": {
            "gridcolor": "#DFE8F3",
            "linecolor": "#A2B1C6",
            "ticks": ""
           },
           "baxis": {
            "gridcolor": "#DFE8F3",
            "linecolor": "#A2B1C6",
            "ticks": ""
           },
           "bgcolor": "white",
           "caxis": {
            "gridcolor": "#DFE8F3",
            "linecolor": "#A2B1C6",
            "ticks": ""
           }
          },
          "title": {
           "x": 0.05
          },
          "xaxis": {
           "automargin": true,
           "gridcolor": "#EBF0F8",
           "linecolor": "#EBF0F8",
           "ticks": "",
           "title": {
            "standoff": 15
           },
           "zerolinecolor": "#EBF0F8",
           "zerolinewidth": 2
          },
          "yaxis": {
           "automargin": true,
           "gridcolor": "#EBF0F8",
           "linecolor": "#EBF0F8",
           "ticks": "",
           "title": {
            "standoff": 15
           },
           "zerolinecolor": "#EBF0F8",
           "zerolinewidth": 2
          }
         }
        },
        "title": {
         "text": "Prediction Error as % of Predicted BTC Price"
        },
        "xaxis": {
         "title": {
          "text": "Date"
         }
        },
        "yaxis": {
         "title": {
          "text": "Error (%)"
         }
        }
       }
      }
     },
     "metadata": {},
     "output_type": "display_data"
    }
   ],
   "source": [
    "# Calculate % error metrics (avoid division by zero just in case)\n",
    "results['MAE_PCT'] = (results['Absolute_Error'] / results['Predicted'].replace(0, 1)) * 100\n",
    "results['RMSE_PCT'] = (results['RMSE_Rolling'] / results['Predicted'].replace(0, 1)) * 100\n",
    "\n",
    "MAEWorstSpike = results['MAE_PCT'].max()\n",
    "RMSEWorstSpike = results['RMSE_PCT'].max()\n",
    "\n",
    "import plotly.graph_objects as go\n",
    "\n",
    "fig = go.Figure()\n",
    "\n",
    "fig.add_hline(\n",
    "    y=3,\n",
    "    line_dash=\"dash\",\n",
    "    line_color=\"black\",\n",
    "    annotation_text=\"3% Error Threshold\",\n",
    "    annotation_position=\"top left\"\n",
    ")\n",
    "\n",
    "fig.add_hline(\n",
    "    y=results['MAE_PCT'].mean(),\n",
    "    line_dash=\"dash\",\n",
    "    line_color=\"purple\",\n",
    "    annotation_text=\"Average MAE\",\n",
    "    annotation_position=\"top left\"\n",
    ")\n",
    "\n",
    "fig.add_hline(\n",
    "    y=results['RMSE_PCT'].mean(),\n",
    "    line_dash=\"dash\",\n",
    "    line_color=\"green\",\n",
    "    annotation_text=\"Average RMSE\",\n",
    "    annotation_position=\"top left\"\n",
    ")\n",
    "\n",
    "fig.add_hline(\n",
    "    y=MAEWorstSpike,\n",
    "    line_dash=\"dash\",\n",
    "    line_color=\"green\",\n",
    "    annotation_text=\"Worst MAE Spike\",\n",
    "    annotation_position=\"top left\"\n",
    ")\n",
    "\n",
    "fig.add_hline(\n",
    "    y=RMSEWorstSpike,\n",
    "    line_dash=\"dash\",\n",
    "    line_color=\"green\",\n",
    "    annotation_text=\"Worst RMSE Spike\",\n",
    "    annotation_position=\"top left\"\n",
    ")\n",
    "\n",
    "\n",
    "\n",
    "fig.add_trace(go.Bar(\n",
    "    x=results['Date'],\n",
    "    y=results['MAE_PCT'],\n",
    "    name='MAE %',\n",
    "    marker_color='blue',\n",
    "    opacity=0.6\n",
    "))\n",
    "\n",
    "fig.add_trace(go.Bar(\n",
    "    x=results['Date'],\n",
    "    y=results['RMSE_PCT'],\n",
    "    name='RMSE %',\n",
    "    marker_color='red',\n",
    "    opacity=0.6\n",
    "))\n",
    "\n",
    "fig.update_layout(\n",
    "    title='Prediction Error as % of Predicted BTC Price',\n",
    "    xaxis_title='Date',\n",
    "    yaxis_title='Error (%)',\n",
    "    barmode='overlay',  # or 'group' if you want side-by-side bars\n",
    "    template='plotly_white',\n",
    "    height=500\n",
    ")\n",
    "\n",
    "fig.show()\n",
    "fig.write_image(\"assets/Prediction_Error_MAE_RMSE.png\")\n",
    "\n"
   ]
  },
  {
   "cell_type": "code",
   "execution_count": 34,
   "id": "20d845f2",
   "metadata": {},
   "outputs": [
    {
     "data": {
      "application/vnd.plotly.v1+json": {
       "config": {
        "plotlyServerURL": "https://plot.ly"
       },
       "data": [
        {
         "marker": {
          "color": "red"
         },
         "name": "RMSE",
         "nbinsx": 40,
         "opacity": 0.6,
         "type": "histogram",
         "x": {
          "bdata": "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",
          "dtype": "f8"
         },
         "xbins": {
          "size": 250
         }
        },
        {
         "line": {
          "color": "red",
          "width": 2
         },
         "name": "RMSE KDE",
         "type": "scatter",
         "x": {
          "bdata": "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",
          "dtype": "f8"
         },
         "y": {
          "bdata": "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",
          "dtype": "f8"
         }
        }
       ],
       "layout": {
        "legend": {
         "x": 0.75,
         "y": 0.95
        },
        "template": {
         "data": {
          "bar": [
           {
            "error_x": {
             "color": "#2a3f5f"
            },
            "error_y": {
             "color": "#2a3f5f"
            },
            "marker": {
             "line": {
              "color": "white",
              "width": 0.5
             },
             "pattern": {
              "fillmode": "overlay",
              "size": 10,
              "solidity": 0.2
             }
            },
            "type": "bar"
           }
          ],
          "barpolar": [
           {
            "marker": {
             "line": {
              "color": "white",
              "width": 0.5
             },
             "pattern": {
              "fillmode": "overlay",
              "size": 10,
              "solidity": 0.2
             }
            },
            "type": "barpolar"
           }
          ],
          "carpet": [
           {
            "aaxis": {
             "endlinecolor": "#2a3f5f",
             "gridcolor": "#C8D4E3",
             "linecolor": "#C8D4E3",
             "minorgridcolor": "#C8D4E3",
             "startlinecolor": "#2a3f5f"
            },
            "baxis": {
             "endlinecolor": "#2a3f5f",
             "gridcolor": "#C8D4E3",
             "linecolor": "#C8D4E3",
             "minorgridcolor": "#C8D4E3",
             "startlinecolor": "#2a3f5f"
            },
            "type": "carpet"
           }
          ],
          "choropleth": [
           {
            "colorbar": {
             "outlinewidth": 0,
             "ticks": ""
            },
            "type": "choropleth"
           }
          ],
          "contour": [
           {
            "colorbar": {
             "outlinewidth": 0,
             "ticks": ""
            },
            "colorscale": [
             [
              0,
              "#0d0887"
             ],
             [
              0.1111111111111111,
              "#46039f"
             ],
             [
              0.2222222222222222,
              "#7201a8"
             ],
             [
              0.3333333333333333,
              "#9c179e"
             ],
             [
              0.4444444444444444,
              "#bd3786"
             ],
             [
              0.5555555555555556,
              "#d8576b"
             ],
             [
              0.6666666666666666,
              "#ed7953"
             ],
             [
              0.7777777777777778,
              "#fb9f3a"
             ],
             [
              0.8888888888888888,
              "#fdca26"
             ],
             [
              1,
              "#f0f921"
             ]
            ],
            "type": "contour"
           }
          ],
          "contourcarpet": [
           {
            "colorbar": {
             "outlinewidth": 0,
             "ticks": ""
            },
            "type": "contourcarpet"
           }
          ],
          "heatmap": [
           {
            "colorbar": {
             "outlinewidth": 0,
             "ticks": ""
            },
            "colorscale": [
             [
              0,
              "#0d0887"
             ],
             [
              0.1111111111111111,
              "#46039f"
             ],
             [
              0.2222222222222222,
              "#7201a8"
             ],
             [
              0.3333333333333333,
              "#9c179e"
             ],
             [
              0.4444444444444444,
              "#bd3786"
             ],
             [
              0.5555555555555556,
              "#d8576b"
             ],
             [
              0.6666666666666666,
              "#ed7953"
             ],
             [
              0.7777777777777778,
              "#fb9f3a"
             ],
             [
              0.8888888888888888,
              "#fdca26"
             ],
             [
              1,
              "#f0f921"
             ]
            ],
            "type": "heatmap"
           }
          ],
          "histogram": [
           {
            "marker": {
             "pattern": {
              "fillmode": "overlay",
              "size": 10,
              "solidity": 0.2
             }
            },
            "type": "histogram"
           }
          ],
          "histogram2d": [
           {
            "colorbar": {
             "outlinewidth": 0,
             "ticks": ""
            },
            "colorscale": [
             [
              0,
              "#0d0887"
             ],
             [
              0.1111111111111111,
              "#46039f"
             ],
             [
              0.2222222222222222,
              "#7201a8"
             ],
             [
              0.3333333333333333,
              "#9c179e"
             ],
             [
              0.4444444444444444,
              "#bd3786"
             ],
             [
              0.5555555555555556,
              "#d8576b"
             ],
             [
              0.6666666666666666,
              "#ed7953"
             ],
             [
              0.7777777777777778,
              "#fb9f3a"
             ],
             [
              0.8888888888888888,
              "#fdca26"
             ],
             [
              1,
              "#f0f921"
             ]
            ],
            "type": "histogram2d"
           }
          ],
          "histogram2dcontour": [
           {
            "colorbar": {
             "outlinewidth": 0,
             "ticks": ""
            },
            "colorscale": [
             [
              0,
              "#0d0887"
             ],
             [
              0.1111111111111111,
              "#46039f"
             ],
             [
              0.2222222222222222,
              "#7201a8"
             ],
             [
              0.3333333333333333,
              "#9c179e"
             ],
             [
              0.4444444444444444,
              "#bd3786"
             ],
             [
              0.5555555555555556,
              "#d8576b"
             ],
             [
              0.6666666666666666,
              "#ed7953"
             ],
             [
              0.7777777777777778,
              "#fb9f3a"
             ],
             [
              0.8888888888888888,
              "#fdca26"
             ],
             [
              1,
              "#f0f921"
             ]
            ],
            "type": "histogram2dcontour"
           }
          ],
          "mesh3d": [
           {
            "colorbar": {
             "outlinewidth": 0,
             "ticks": ""
            },
            "type": "mesh3d"
           }
          ],
          "parcoords": [
           {
            "line": {
             "colorbar": {
              "outlinewidth": 0,
              "ticks": ""
             }
            },
            "type": "parcoords"
           }
          ],
          "pie": [
           {
            "automargin": true,
            "type": "pie"
           }
          ],
          "scatter": [
           {
            "fillpattern": {
             "fillmode": "overlay",
             "size": 10,
             "solidity": 0.2
            },
            "type": "scatter"
           }
          ],
          "scatter3d": [
           {
            "line": {
             "colorbar": {
              "outlinewidth": 0,
              "ticks": ""
             }
            },
            "marker": {
             "colorbar": {
              "outlinewidth": 0,
              "ticks": ""
             }
            },
            "type": "scatter3d"
           }
          ],
          "scattercarpet": [
           {
            "marker": {
             "colorbar": {
              "outlinewidth": 0,
              "ticks": ""
             }
            },
            "type": "scattercarpet"
           }
          ],
          "scattergeo": [
           {
            "marker": {
             "colorbar": {
              "outlinewidth": 0,
              "ticks": ""
             }
            },
            "type": "scattergeo"
           }
          ],
          "scattergl": [
           {
            "marker": {
             "colorbar": {
              "outlinewidth": 0,
              "ticks": ""
             }
            },
            "type": "scattergl"
           }
          ],
          "scattermap": [
           {
            "marker": {
             "colorbar": {
              "outlinewidth": 0,
              "ticks": ""
             }
            },
            "type": "scattermap"
           }
          ],
          "scattermapbox": [
           {
            "marker": {
             "colorbar": {
              "outlinewidth": 0,
              "ticks": ""
             }
            },
            "type": "scattermapbox"
           }
          ],
          "scatterpolar": [
           {
            "marker": {
             "colorbar": {
              "outlinewidth": 0,
              "ticks": ""
             }
            },
            "type": "scatterpolar"
           }
          ],
          "scatterpolargl": [
           {
            "marker": {
             "colorbar": {
              "outlinewidth": 0,
              "ticks": ""
             }
            },
            "type": "scatterpolargl"
           }
          ],
          "scatterternary": [
           {
            "marker": {
             "colorbar": {
              "outlinewidth": 0,
              "ticks": ""
             }
            },
            "type": "scatterternary"
           }
          ],
          "surface": [
           {
            "colorbar": {
             "outlinewidth": 0,
             "ticks": ""
            },
            "colorscale": [
             [
              0,
              "#0d0887"
             ],
             [
              0.1111111111111111,
              "#46039f"
             ],
             [
              0.2222222222222222,
              "#7201a8"
             ],
             [
              0.3333333333333333,
              "#9c179e"
             ],
             [
              0.4444444444444444,
              "#bd3786"
             ],
             [
              0.5555555555555556,
              "#d8576b"
             ],
             [
              0.6666666666666666,
              "#ed7953"
             ],
             [
              0.7777777777777778,
              "#fb9f3a"
             ],
             [
              0.8888888888888888,
              "#fdca26"
             ],
             [
              1,
              "#f0f921"
             ]
            ],
            "type": "surface"
           }
          ],
          "table": [
           {
            "cells": {
             "fill": {
              "color": "#EBF0F8"
             },
             "line": {
              "color": "white"
             }
            },
            "header": {
             "fill": {
              "color": "#C8D4E3"
             },
             "line": {
              "color": "white"
             }
            },
            "type": "table"
           }
          ]
         },
         "layout": {
          "annotationdefaults": {
           "arrowcolor": "#2a3f5f",
           "arrowhead": 0,
           "arrowwidth": 1
          },
          "autotypenumbers": "strict",
          "coloraxis": {
           "colorbar": {
            "outlinewidth": 0,
            "ticks": ""
           }
          },
          "colorscale": {
           "diverging": [
            [
             0,
             "#8e0152"
            ],
            [
             0.1,
             "#c51b7d"
            ],
            [
             0.2,
             "#de77ae"
            ],
            [
             0.3,
             "#f1b6da"
            ],
            [
             0.4,
             "#fde0ef"
            ],
            [
             0.5,
             "#f7f7f7"
            ],
            [
             0.6,
             "#e6f5d0"
            ],
            [
             0.7,
             "#b8e186"
            ],
            [
             0.8,
             "#7fbc41"
            ],
            [
             0.9,
             "#4d9221"
            ],
            [
             1,
             "#276419"
            ]
           ],
           "sequential": [
            [
             0,
             "#0d0887"
            ],
            [
             0.1111111111111111,
             "#46039f"
            ],
            [
             0.2222222222222222,
             "#7201a8"
            ],
            [
             0.3333333333333333,
             "#9c179e"
            ],
            [
             0.4444444444444444,
             "#bd3786"
            ],
            [
             0.5555555555555556,
             "#d8576b"
            ],
            [
             0.6666666666666666,
             "#ed7953"
            ],
            [
             0.7777777777777778,
             "#fb9f3a"
            ],
            [
             0.8888888888888888,
             "#fdca26"
            ],
            [
             1,
             "#f0f921"
            ]
           ],
           "sequentialminus": [
            [
             0,
             "#0d0887"
            ],
            [
             0.1111111111111111,
             "#46039f"
            ],
            [
             0.2222222222222222,
             "#7201a8"
            ],
            [
             0.3333333333333333,
             "#9c179e"
            ],
            [
             0.4444444444444444,
             "#bd3786"
            ],
            [
             0.5555555555555556,
             "#d8576b"
            ],
            [
             0.6666666666666666,
             "#ed7953"
            ],
            [
             0.7777777777777778,
             "#fb9f3a"
            ],
            [
             0.8888888888888888,
             "#fdca26"
            ],
            [
             1,
             "#f0f921"
            ]
           ]
          },
          "colorway": [
           "#636efa",
           "#EF553B",
           "#00cc96",
           "#ab63fa",
           "#FFA15A",
           "#19d3f3",
           "#FF6692",
           "#B6E880",
           "#FF97FF",
           "#FECB52"
          ],
          "font": {
           "color": "#2a3f5f"
          },
          "geo": {
           "bgcolor": "white",
           "lakecolor": "white",
           "landcolor": "white",
           "showlakes": true,
           "showland": true,
           "subunitcolor": "#C8D4E3"
          },
          "hoverlabel": {
           "align": "left"
          },
          "hovermode": "closest",
          "mapbox": {
           "style": "light"
          },
          "paper_bgcolor": "white",
          "plot_bgcolor": "white",
          "polar": {
           "angularaxis": {
            "gridcolor": "#EBF0F8",
            "linecolor": "#EBF0F8",
            "ticks": ""
           },
           "bgcolor": "white",
           "radialaxis": {
            "gridcolor": "#EBF0F8",
            "linecolor": "#EBF0F8",
            "ticks": ""
           }
          },
          "scene": {
           "xaxis": {
            "backgroundcolor": "white",
            "gridcolor": "#DFE8F3",
            "gridwidth": 2,
            "linecolor": "#EBF0F8",
            "showbackground": true,
            "ticks": "",
            "zerolinecolor": "#EBF0F8"
           },
           "yaxis": {
            "backgroundcolor": "white",
            "gridcolor": "#DFE8F3",
            "gridwidth": 2,
            "linecolor": "#EBF0F8",
            "showbackground": true,
            "ticks": "",
            "zerolinecolor": "#EBF0F8"
           },
           "zaxis": {
            "backgroundcolor": "white",
            "gridcolor": "#DFE8F3",
            "gridwidth": 2,
            "linecolor": "#EBF0F8",
            "showbackground": true,
            "ticks": "",
            "zerolinecolor": "#EBF0F8"
           }
          },
          "shapedefaults": {
           "line": {
            "color": "#2a3f5f"
           }
          },
          "ternary": {
           "aaxis": {
            "gridcolor": "#DFE8F3",
            "linecolor": "#A2B1C6",
            "ticks": ""
           },
           "baxis": {
            "gridcolor": "#DFE8F3",
            "linecolor": "#A2B1C6",
            "ticks": ""
           },
           "bgcolor": "white",
           "caxis": {
            "gridcolor": "#DFE8F3",
            "linecolor": "#A2B1C6",
            "ticks": ""
           }
          },
          "title": {
           "x": 0.05
          },
          "xaxis": {
           "automargin": true,
           "gridcolor": "#EBF0F8",
           "linecolor": "#EBF0F8",
           "ticks": "",
           "title": {
            "standoff": 15
           },
           "zerolinecolor": "#EBF0F8",
           "zerolinewidth": 2
          },
          "yaxis": {
           "automargin": true,
           "gridcolor": "#EBF0F8",
           "linecolor": "#EBF0F8",
           "ticks": "",
           "title": {
            "standoff": 15
           },
           "zerolinecolor": "#EBF0F8",
           "zerolinewidth": 2
          }
         }
        },
        "title": {
         "text": "RMSE Error Distribution with KDE"
        },
        "xaxis": {
         "title": {
          "text": "Error Value (USD)"
         }
        },
        "yaxis": {
         "title": {
          "text": "Frequency"
         }
        }
       }
      }
     },
     "metadata": {},
     "output_type": "display_data"
    }
   ],
   "source": [
    "from scipy.stats import gaussian_kde\n",
    "\n",
    "fig = go.Figure()\n",
    "\n",
    "\n",
    "mae_vals = results['Absolute_Error'].dropna()\n",
    "rmse_vals = results['Squared_Error'].dropna() ** 0.5\n",
    "\n",
    "# Generate KDE for MAE\n",
    "mae_kde = gaussian_kde(mae_vals)\n",
    "mae_x = np.linspace(mae_vals.min(), mae_vals.max(), 200)\n",
    "mae_y = mae_kde(mae_x)\n",
    "\n",
    "# Generate KDE for RMSE\n",
    "rmse_kde = gaussian_kde(rmse_vals)\n",
    "rmse_x = np.linspace(rmse_vals.min(), rmse_vals.max(), 200)\n",
    "rmse_y = rmse_kde(rmse_x)\n",
    "\n",
    "# RMSE Histogram + KDE FIRST (goes behind)\n",
    "fig.add_trace(go.Histogram(\n",
    "    x=rmse_vals,\n",
    "    name='RMSE',\n",
    "    opacity=0.6,\n",
    "    nbinsx=40,\n",
    "    marker_color='red',\n",
    "    xbins=dict(size=250)\n",
    "))\n",
    "fig.add_trace(go.Scatter(\n",
    "    x=rmse_x,\n",
    "    y=rmse_y * len(rmse_vals) * 250,\n",
    "    name='RMSE KDE',\n",
    "    line=dict(color='red', width=2)\n",
    "))\n",
    "\n",
    "fig.update_layout(\n",
    "    title='RMSE Error Distribution with KDE',\n",
    "    xaxis_title='Error Value (USD)',\n",
    "    yaxis_title='Frequency',\n",
    "    template='plotly_white',\n",
    "    legend=dict(x=0.75, y=0.95)\n",
    ")\n",
    "\n",
    "\n",
    "fig.show()\n",
    "fig.write_image(\"assets/RMSE_Error_Distribution.png\")\n",
    "\n"
   ]
  },
  {
   "cell_type": "code",
   "execution_count": 35,
   "id": "cef8953f",
   "metadata": {},
   "outputs": [
    {
     "data": {
      "application/vnd.plotly.v1+json": {
       "config": {
        "plotlyServerURL": "https://plot.ly"
       },
       "data": [
        {
         "marker": {
          "color": "blue"
         },
         "name": "MAE",
         "nbinsx": 40,
         "opacity": 0.6,
         "type": "histogram",
         "x": {
          "bdata": "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",
          "dtype": "f8"
         },
         "xbins": {
          "size": 250
         }
        },
        {
         "line": {
          "color": "blue",
          "width": 2
         },
         "name": "MAE KDE",
         "type": "scatter",
         "x": {
          "bdata": "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",
          "dtype": "f8"
         },
         "y": {
          "bdata": "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",
          "dtype": "f8"
         }
        }
       ],
       "layout": {
        "legend": {
         "x": 0.75,
         "y": 0.95
        },
        "template": {
         "data": {
          "bar": [
           {
            "error_x": {
             "color": "#2a3f5f"
            },
            "error_y": {
             "color": "#2a3f5f"
            },
            "marker": {
             "line": {
              "color": "white",
              "width": 0.5
             },
             "pattern": {
              "fillmode": "overlay",
              "size": 10,
              "solidity": 0.2
             }
            },
            "type": "bar"
           }
          ],
          "barpolar": [
           {
            "marker": {
             "line": {
              "color": "white",
              "width": 0.5
             },
             "pattern": {
              "fillmode": "overlay",
              "size": 10,
              "solidity": 0.2
             }
            },
            "type": "barpolar"
           }
          ],
          "carpet": [
           {
            "aaxis": {
             "endlinecolor": "#2a3f5f",
             "gridcolor": "#C8D4E3",
             "linecolor": "#C8D4E3",
             "minorgridcolor": "#C8D4E3",
             "startlinecolor": "#2a3f5f"
            },
            "baxis": {
             "endlinecolor": "#2a3f5f",
             "gridcolor": "#C8D4E3",
             "linecolor": "#C8D4E3",
             "minorgridcolor": "#C8D4E3",
             "startlinecolor": "#2a3f5f"
            },
            "type": "carpet"
           }
          ],
          "choropleth": [
           {
            "colorbar": {
             "outlinewidth": 0,
             "ticks": ""
            },
            "type": "choropleth"
           }
          ],
          "contour": [
           {
            "colorbar": {
             "outlinewidth": 0,
             "ticks": ""
            },
            "colorscale": [
             [
              0,
              "#0d0887"
             ],
             [
              0.1111111111111111,
              "#46039f"
             ],
             [
              0.2222222222222222,
              "#7201a8"
             ],
             [
              0.3333333333333333,
              "#9c179e"
             ],
             [
              0.4444444444444444,
              "#bd3786"
             ],
             [
              0.5555555555555556,
              "#d8576b"
             ],
             [
              0.6666666666666666,
              "#ed7953"
             ],
             [
              0.7777777777777778,
              "#fb9f3a"
             ],
             [
              0.8888888888888888,
              "#fdca26"
             ],
             [
              1,
              "#f0f921"
             ]
            ],
            "type": "contour"
           }
          ],
          "contourcarpet": [
           {
            "colorbar": {
             "outlinewidth": 0,
             "ticks": ""
            },
            "type": "contourcarpet"
           }
          ],
          "heatmap": [
           {
            "colorbar": {
             "outlinewidth": 0,
             "ticks": ""
            },
            "colorscale": [
             [
              0,
              "#0d0887"
             ],
             [
              0.1111111111111111,
              "#46039f"
             ],
             [
              0.2222222222222222,
              "#7201a8"
             ],
             [
              0.3333333333333333,
              "#9c179e"
             ],
             [
              0.4444444444444444,
              "#bd3786"
             ],
             [
              0.5555555555555556,
              "#d8576b"
             ],
             [
              0.6666666666666666,
              "#ed7953"
             ],
             [
              0.7777777777777778,
              "#fb9f3a"
             ],
             [
              0.8888888888888888,
              "#fdca26"
             ],
             [
              1,
              "#f0f921"
             ]
            ],
            "type": "heatmap"
           }
          ],
          "histogram": [
           {
            "marker": {
             "pattern": {
              "fillmode": "overlay",
              "size": 10,
              "solidity": 0.2
             }
            },
            "type": "histogram"
           }
          ],
          "histogram2d": [
           {
            "colorbar": {
             "outlinewidth": 0,
             "ticks": ""
            },
            "colorscale": [
             [
              0,
              "#0d0887"
             ],
             [
              0.1111111111111111,
              "#46039f"
             ],
             [
              0.2222222222222222,
              "#7201a8"
             ],
             [
              0.3333333333333333,
              "#9c179e"
             ],
             [
              0.4444444444444444,
              "#bd3786"
             ],
             [
              0.5555555555555556,
              "#d8576b"
             ],
             [
              0.6666666666666666,
              "#ed7953"
             ],
             [
              0.7777777777777778,
              "#fb9f3a"
             ],
             [
              0.8888888888888888,
              "#fdca26"
             ],
             [
              1,
              "#f0f921"
             ]
            ],
            "type": "histogram2d"
           }
          ],
          "histogram2dcontour": [
           {
            "colorbar": {
             "outlinewidth": 0,
             "ticks": ""
            },
            "colorscale": [
             [
              0,
              "#0d0887"
             ],
             [
              0.1111111111111111,
              "#46039f"
             ],
             [
              0.2222222222222222,
              "#7201a8"
             ],
             [
              0.3333333333333333,
              "#9c179e"
             ],
             [
              0.4444444444444444,
              "#bd3786"
             ],
             [
              0.5555555555555556,
              "#d8576b"
             ],
             [
              0.6666666666666666,
              "#ed7953"
             ],
             [
              0.7777777777777778,
              "#fb9f3a"
             ],
             [
              0.8888888888888888,
              "#fdca26"
             ],
             [
              1,
              "#f0f921"
             ]
            ],
            "type": "histogram2dcontour"
           }
          ],
          "mesh3d": [
           {
            "colorbar": {
             "outlinewidth": 0,
             "ticks": ""
            },
            "type": "mesh3d"
           }
          ],
          "parcoords": [
           {
            "line": {
             "colorbar": {
              "outlinewidth": 0,
              "ticks": ""
             }
            },
            "type": "parcoords"
           }
          ],
          "pie": [
           {
            "automargin": true,
            "type": "pie"
           }
          ],
          "scatter": [
           {
            "fillpattern": {
             "fillmode": "overlay",
             "size": 10,
             "solidity": 0.2
            },
            "type": "scatter"
           }
          ],
          "scatter3d": [
           {
            "line": {
             "colorbar": {
              "outlinewidth": 0,
              "ticks": ""
             }
            },
            "marker": {
             "colorbar": {
              "outlinewidth": 0,
              "ticks": ""
             }
            },
            "type": "scatter3d"
           }
          ],
          "scattercarpet": [
           {
            "marker": {
             "colorbar": {
              "outlinewidth": 0,
              "ticks": ""
             }
            },
            "type": "scattercarpet"
           }
          ],
          "scattergeo": [
           {
            "marker": {
             "colorbar": {
              "outlinewidth": 0,
              "ticks": ""
             }
            },
            "type": "scattergeo"
           }
          ],
          "scattergl": [
           {
            "marker": {
             "colorbar": {
              "outlinewidth": 0,
              "ticks": ""
             }
            },
            "type": "scattergl"
           }
          ],
          "scattermap": [
           {
            "marker": {
             "colorbar": {
              "outlinewidth": 0,
              "ticks": ""
             }
            },
            "type": "scattermap"
           }
          ],
          "scattermapbox": [
           {
            "marker": {
             "colorbar": {
              "outlinewidth": 0,
              "ticks": ""
             }
            },
            "type": "scattermapbox"
           }
          ],
          "scatterpolar": [
           {
            "marker": {
             "colorbar": {
              "outlinewidth": 0,
              "ticks": ""
             }
            },
            "type": "scatterpolar"
           }
          ],
          "scatterpolargl": [
           {
            "marker": {
             "colorbar": {
              "outlinewidth": 0,
              "ticks": ""
             }
            },
            "type": "scatterpolargl"
           }
          ],
          "scatterternary": [
           {
            "marker": {
             "colorbar": {
              "outlinewidth": 0,
              "ticks": ""
             }
            },
            "type": "scatterternary"
           }
          ],
          "surface": [
           {
            "colorbar": {
             "outlinewidth": 0,
             "ticks": ""
            },
            "colorscale": [
             [
              0,
              "#0d0887"
             ],
             [
              0.1111111111111111,
              "#46039f"
             ],
             [
              0.2222222222222222,
              "#7201a8"
             ],
             [
              0.3333333333333333,
              "#9c179e"
             ],
             [
              0.4444444444444444,
              "#bd3786"
             ],
             [
              0.5555555555555556,
              "#d8576b"
             ],
             [
              0.6666666666666666,
              "#ed7953"
             ],
             [
              0.7777777777777778,
              "#fb9f3a"
             ],
             [
              0.8888888888888888,
              "#fdca26"
             ],
             [
              1,
              "#f0f921"
             ]
            ],
            "type": "surface"
           }
          ],
          "table": [
           {
            "cells": {
             "fill": {
              "color": "#EBF0F8"
             },
             "line": {
              "color": "white"
             }
            },
            "header": {
             "fill": {
              "color": "#C8D4E3"
             },
             "line": {
              "color": "white"
             }
            },
            "type": "table"
           }
          ]
         },
         "layout": {
          "annotationdefaults": {
           "arrowcolor": "#2a3f5f",
           "arrowhead": 0,
           "arrowwidth": 1
          },
          "autotypenumbers": "strict",
          "coloraxis": {
           "colorbar": {
            "outlinewidth": 0,
            "ticks": ""
           }
          },
          "colorscale": {
           "diverging": [
            [
             0,
             "#8e0152"
            ],
            [
             0.1,
             "#c51b7d"
            ],
            [
             0.2,
             "#de77ae"
            ],
            [
             0.3,
             "#f1b6da"
            ],
            [
             0.4,
             "#fde0ef"
            ],
            [
             0.5,
             "#f7f7f7"
            ],
            [
             0.6,
             "#e6f5d0"
            ],
            [
             0.7,
             "#b8e186"
            ],
            [
             0.8,
             "#7fbc41"
            ],
            [
             0.9,
             "#4d9221"
            ],
            [
             1,
             "#276419"
            ]
           ],
           "sequential": [
            [
             0,
             "#0d0887"
            ],
            [
             0.1111111111111111,
             "#46039f"
            ],
            [
             0.2222222222222222,
             "#7201a8"
            ],
            [
             0.3333333333333333,
             "#9c179e"
            ],
            [
             0.4444444444444444,
             "#bd3786"
            ],
            [
             0.5555555555555556,
             "#d8576b"
            ],
            [
             0.6666666666666666,
             "#ed7953"
            ],
            [
             0.7777777777777778,
             "#fb9f3a"
            ],
            [
             0.8888888888888888,
             "#fdca26"
            ],
            [
             1,
             "#f0f921"
            ]
           ],
           "sequentialminus": [
            [
             0,
             "#0d0887"
            ],
            [
             0.1111111111111111,
             "#46039f"
            ],
            [
             0.2222222222222222,
             "#7201a8"
            ],
            [
             0.3333333333333333,
             "#9c179e"
            ],
            [
             0.4444444444444444,
             "#bd3786"
            ],
            [
             0.5555555555555556,
             "#d8576b"
            ],
            [
             0.6666666666666666,
             "#ed7953"
            ],
            [
             0.7777777777777778,
             "#fb9f3a"
            ],
            [
             0.8888888888888888,
             "#fdca26"
            ],
            [
             1,
             "#f0f921"
            ]
           ]
          },
          "colorway": [
           "#636efa",
           "#EF553B",
           "#00cc96",
           "#ab63fa",
           "#FFA15A",
           "#19d3f3",
           "#FF6692",
           "#B6E880",
           "#FF97FF",
           "#FECB52"
          ],
          "font": {
           "color": "#2a3f5f"
          },
          "geo": {
           "bgcolor": "white",
           "lakecolor": "white",
           "landcolor": "white",
           "showlakes": true,
           "showland": true,
           "subunitcolor": "#C8D4E3"
          },
          "hoverlabel": {
           "align": "left"
          },
          "hovermode": "closest",
          "mapbox": {
           "style": "light"
          },
          "paper_bgcolor": "white",
          "plot_bgcolor": "white",
          "polar": {
           "angularaxis": {
            "gridcolor": "#EBF0F8",
            "linecolor": "#EBF0F8",
            "ticks": ""
           },
           "bgcolor": "white",
           "radialaxis": {
            "gridcolor": "#EBF0F8",
            "linecolor": "#EBF0F8",
            "ticks": ""
           }
          },
          "scene": {
           "xaxis": {
            "backgroundcolor": "white",
            "gridcolor": "#DFE8F3",
            "gridwidth": 2,
            "linecolor": "#EBF0F8",
            "showbackground": true,
            "ticks": "",
            "zerolinecolor": "#EBF0F8"
           },
           "yaxis": {
            "backgroundcolor": "white",
            "gridcolor": "#DFE8F3",
            "gridwidth": 2,
            "linecolor": "#EBF0F8",
            "showbackground": true,
            "ticks": "",
            "zerolinecolor": "#EBF0F8"
           },
           "zaxis": {
            "backgroundcolor": "white",
            "gridcolor": "#DFE8F3",
            "gridwidth": 2,
            "linecolor": "#EBF0F8",
            "showbackground": true,
            "ticks": "",
            "zerolinecolor": "#EBF0F8"
           }
          },
          "shapedefaults": {
           "line": {
            "color": "#2a3f5f"
           }
          },
          "ternary": {
           "aaxis": {
            "gridcolor": "#DFE8F3",
            "linecolor": "#A2B1C6",
            "ticks": ""
           },
           "baxis": {
            "gridcolor": "#DFE8F3",
            "linecolor": "#A2B1C6",
            "ticks": ""
           },
           "bgcolor": "white",
           "caxis": {
            "gridcolor": "#DFE8F3",
            "linecolor": "#A2B1C6",
            "ticks": ""
           }
          },
          "title": {
           "x": 0.05
          },
          "xaxis": {
           "automargin": true,
           "gridcolor": "#EBF0F8",
           "linecolor": "#EBF0F8",
           "ticks": "",
           "title": {
            "standoff": 15
           },
           "zerolinecolor": "#EBF0F8",
           "zerolinewidth": 2
          },
          "yaxis": {
           "automargin": true,
           "gridcolor": "#EBF0F8",
           "linecolor": "#EBF0F8",
           "ticks": "",
           "title": {
            "standoff": 15
           },
           "zerolinecolor": "#EBF0F8",
           "zerolinewidth": 2
          }
         }
        },
        "title": {
         "text": "MAE Error Distribution with KDE"
        },
        "xaxis": {
         "title": {
          "text": "Error Value (USD)"
         }
        },
        "yaxis": {
         "title": {
          "text": "Frequency"
         }
        }
       }
      }
     },
     "metadata": {},
     "output_type": "display_data"
    }
   ],
   "source": [
    "# MAE Histogram + KDE only\n",
    "fig = go.Figure()\n",
    "\n",
    "fig.add_trace(go.Histogram(\n",
    "    x=mae_vals,\n",
    "    name='MAE',\n",
    "    opacity=0.6,\n",
    "    nbinsx=40,\n",
    "    marker_color='blue',\n",
    "    xbins=dict(size=250)\n",
    "))\n",
    "fig.add_trace(go.Scatter(\n",
    "    x=mae_x,\n",
    "    y=mae_y * len(mae_vals) * 250,\n",
    "    name='MAE KDE',\n",
    "    line=dict(color='blue', width=2)\n",
    "))\n",
    "\n",
    "fig.update_layout(\n",
    "    title='MAE Error Distribution with KDE',\n",
    "    xaxis_title='Error Value (USD)',\n",
    "    yaxis_title='Frequency',\n",
    "    template='plotly_white',\n",
    "    legend=dict(x=0.75, y=0.95)\n",
    ")\n",
    "\n",
    "fig.show()\n"
   ]
  },
  {
   "cell_type": "code",
   "execution_count": 36,
   "id": "017a127e",
   "metadata": {},
   "outputs": [
    {
     "data": {
      "application/vnd.plotly.v1+json": {
       "config": {
        "plotlyServerURL": "https://plot.ly"
       },
       "data": [
        {
         "bingroup": "x",
         "hovertemplate": "Actual=%{x}<br>count=%{y}<extra></extra>",
         "legendgroup": "",
         "marker": {
          "color": "#636efa",
          "opacity": 0.7,
          "pattern": {
           "shape": ""
          }
         },
         "name": "",
         "nbinsx": 50,
         "orientation": "v",
         "showlegend": false,
         "type": "histogram",
         "x": {
          "bdata": "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",
          "dtype": "f8"
         },
         "xaxis": "x",
         "yaxis": "y"
        },
        {
         "hovertemplate": "Actual=%{x}<extra></extra>",
         "legendgroup": "",
         "marker": {
          "color": "#636efa"
         },
         "name": "",
         "scalegroup": "x",
         "showlegend": false,
         "type": "violin",
         "x": {
          "bdata": "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",
          "dtype": "f8"
         },
         "xaxis": "x2",
         "yaxis": "y2"
        }
       ],
       "layout": {
        "bargap": 0.1,
        "barmode": "relative",
        "legend": {
         "tracegroupgap": 0
        },
        "template": {
         "data": {
          "bar": [
           {
            "error_x": {
             "color": "#2a3f5f"
            },
            "error_y": {
             "color": "#2a3f5f"
            },
            "marker": {
             "line": {
              "color": "white",
              "width": 0.5
             },
             "pattern": {
              "fillmode": "overlay",
              "size": 10,
              "solidity": 0.2
             }
            },
            "type": "bar"
           }
          ],
          "barpolar": [
           {
            "marker": {
             "line": {
              "color": "white",
              "width": 0.5
             },
             "pattern": {
              "fillmode": "overlay",
              "size": 10,
              "solidity": 0.2
             }
            },
            "type": "barpolar"
           }
          ],
          "carpet": [
           {
            "aaxis": {
             "endlinecolor": "#2a3f5f",
             "gridcolor": "#C8D4E3",
             "linecolor": "#C8D4E3",
             "minorgridcolor": "#C8D4E3",
             "startlinecolor": "#2a3f5f"
            },
            "baxis": {
             "endlinecolor": "#2a3f5f",
             "gridcolor": "#C8D4E3",
             "linecolor": "#C8D4E3",
             "minorgridcolor": "#C8D4E3",
             "startlinecolor": "#2a3f5f"
            },
            "type": "carpet"
           }
          ],
          "choropleth": [
           {
            "colorbar": {
             "outlinewidth": 0,
             "ticks": ""
            },
            "type": "choropleth"
           }
          ],
          "contour": [
           {
            "colorbar": {
             "outlinewidth": 0,
             "ticks": ""
            },
            "colorscale": [
             [
              0,
              "#0d0887"
             ],
             [
              0.1111111111111111,
              "#46039f"
             ],
             [
              0.2222222222222222,
              "#7201a8"
             ],
             [
              0.3333333333333333,
              "#9c179e"
             ],
             [
              0.4444444444444444,
              "#bd3786"
             ],
             [
              0.5555555555555556,
              "#d8576b"
             ],
             [
              0.6666666666666666,
              "#ed7953"
             ],
             [
              0.7777777777777778,
              "#fb9f3a"
             ],
             [
              0.8888888888888888,
              "#fdca26"
             ],
             [
              1,
              "#f0f921"
             ]
            ],
            "type": "contour"
           }
          ],
          "contourcarpet": [
           {
            "colorbar": {
             "outlinewidth": 0,
             "ticks": ""
            },
            "type": "contourcarpet"
           }
          ],
          "heatmap": [
           {
            "colorbar": {
             "outlinewidth": 0,
             "ticks": ""
            },
            "colorscale": [
             [
              0,
              "#0d0887"
             ],
             [
              0.1111111111111111,
              "#46039f"
             ],
             [
              0.2222222222222222,
              "#7201a8"
             ],
             [
              0.3333333333333333,
              "#9c179e"
             ],
             [
              0.4444444444444444,
              "#bd3786"
             ],
             [
              0.5555555555555556,
              "#d8576b"
             ],
             [
              0.6666666666666666,
              "#ed7953"
             ],
             [
              0.7777777777777778,
              "#fb9f3a"
             ],
             [
              0.8888888888888888,
              "#fdca26"
             ],
             [
              1,
              "#f0f921"
             ]
            ],
            "type": "heatmap"
           }
          ],
          "histogram": [
           {
            "marker": {
             "pattern": {
              "fillmode": "overlay",
              "size": 10,
              "solidity": 0.2
             }
            },
            "type": "histogram"
           }
          ],
          "histogram2d": [
           {
            "colorbar": {
             "outlinewidth": 0,
             "ticks": ""
            },
            "colorscale": [
             [
              0,
              "#0d0887"
             ],
             [
              0.1111111111111111,
              "#46039f"
             ],
             [
              0.2222222222222222,
              "#7201a8"
             ],
             [
              0.3333333333333333,
              "#9c179e"
             ],
             [
              0.4444444444444444,
              "#bd3786"
             ],
             [
              0.5555555555555556,
              "#d8576b"
             ],
             [
              0.6666666666666666,
              "#ed7953"
             ],
             [
              0.7777777777777778,
              "#fb9f3a"
             ],
             [
              0.8888888888888888,
              "#fdca26"
             ],
             [
              1,
              "#f0f921"
             ]
            ],
            "type": "histogram2d"
           }
          ],
          "histogram2dcontour": [
           {
            "colorbar": {
             "outlinewidth": 0,
             "ticks": ""
            },
            "colorscale": [
             [
              0,
              "#0d0887"
             ],
             [
              0.1111111111111111,
              "#46039f"
             ],
             [
              0.2222222222222222,
              "#7201a8"
             ],
             [
              0.3333333333333333,
              "#9c179e"
             ],
             [
              0.4444444444444444,
              "#bd3786"
             ],
             [
              0.5555555555555556,
              "#d8576b"
             ],
             [
              0.6666666666666666,
              "#ed7953"
             ],
             [
              0.7777777777777778,
              "#fb9f3a"
             ],
             [
              0.8888888888888888,
              "#fdca26"
             ],
             [
              1,
              "#f0f921"
             ]
            ],
            "type": "histogram2dcontour"
           }
          ],
          "mesh3d": [
           {
            "colorbar": {
             "outlinewidth": 0,
             "ticks": ""
            },
            "type": "mesh3d"
           }
          ],
          "parcoords": [
           {
            "line": {
             "colorbar": {
              "outlinewidth": 0,
              "ticks": ""
             }
            },
            "type": "parcoords"
           }
          ],
          "pie": [
           {
            "automargin": true,
            "type": "pie"
           }
          ],
          "scatter": [
           {
            "fillpattern": {
             "fillmode": "overlay",
             "size": 10,
             "solidity": 0.2
            },
            "type": "scatter"
           }
          ],
          "scatter3d": [
           {
            "line": {
             "colorbar": {
              "outlinewidth": 0,
              "ticks": ""
             }
            },
            "marker": {
             "colorbar": {
              "outlinewidth": 0,
              "ticks": ""
             }
            },
            "type": "scatter3d"
           }
          ],
          "scattercarpet": [
           {
            "marker": {
             "colorbar": {
              "outlinewidth": 0,
              "ticks": ""
             }
            },
            "type": "scattercarpet"
           }
          ],
          "scattergeo": [
           {
            "marker": {
             "colorbar": {
              "outlinewidth": 0,
              "ticks": ""
             }
            },
            "type": "scattergeo"
           }
          ],
          "scattergl": [
           {
            "marker": {
             "colorbar": {
              "outlinewidth": 0,
              "ticks": ""
             }
            },
            "type": "scattergl"
           }
          ],
          "scattermap": [
           {
            "marker": {
             "colorbar": {
              "outlinewidth": 0,
              "ticks": ""
             }
            },
            "type": "scattermap"
           }
          ],
          "scattermapbox": [
           {
            "marker": {
             "colorbar": {
              "outlinewidth": 0,
              "ticks": ""
             }
            },
            "type": "scattermapbox"
           }
          ],
          "scatterpolar": [
           {
            "marker": {
             "colorbar": {
              "outlinewidth": 0,
              "ticks": ""
             }
            },
            "type": "scatterpolar"
           }
          ],
          "scatterpolargl": [
           {
            "marker": {
             "colorbar": {
              "outlinewidth": 0,
              "ticks": ""
             }
            },
            "type": "scatterpolargl"
           }
          ],
          "scatterternary": [
           {
            "marker": {
             "colorbar": {
              "outlinewidth": 0,
              "ticks": ""
             }
            },
            "type": "scatterternary"
           }
          ],
          "surface": [
           {
            "colorbar": {
             "outlinewidth": 0,
             "ticks": ""
            },
            "colorscale": [
             [
              0,
              "#0d0887"
             ],
             [
              0.1111111111111111,
              "#46039f"
             ],
             [
              0.2222222222222222,
              "#7201a8"
             ],
             [
              0.3333333333333333,
              "#9c179e"
             ],
             [
              0.4444444444444444,
              "#bd3786"
             ],
             [
              0.5555555555555556,
              "#d8576b"
             ],
             [
              0.6666666666666666,
              "#ed7953"
             ],
             [
              0.7777777777777778,
              "#fb9f3a"
             ],
             [
              0.8888888888888888,
              "#fdca26"
             ],
             [
              1,
              "#f0f921"
             ]
            ],
            "type": "surface"
           }
          ],
          "table": [
           {
            "cells": {
             "fill": {
              "color": "#EBF0F8"
             },
             "line": {
              "color": "white"
             }
            },
            "header": {
             "fill": {
              "color": "#C8D4E3"
             },
             "line": {
              "color": "white"
             }
            },
            "type": "table"
           }
          ]
         },
         "layout": {
          "annotationdefaults": {
           "arrowcolor": "#2a3f5f",
           "arrowhead": 0,
           "arrowwidth": 1
          },
          "autotypenumbers": "strict",
          "coloraxis": {
           "colorbar": {
            "outlinewidth": 0,
            "ticks": ""
           }
          },
          "colorscale": {
           "diverging": [
            [
             0,
             "#8e0152"
            ],
            [
             0.1,
             "#c51b7d"
            ],
            [
             0.2,
             "#de77ae"
            ],
            [
             0.3,
             "#f1b6da"
            ],
            [
             0.4,
             "#fde0ef"
            ],
            [
             0.5,
             "#f7f7f7"
            ],
            [
             0.6,
             "#e6f5d0"
            ],
            [
             0.7,
             "#b8e186"
            ],
            [
             0.8,
             "#7fbc41"
            ],
            [
             0.9,
             "#4d9221"
            ],
            [
             1,
             "#276419"
            ]
           ],
           "sequential": [
            [
             0,
             "#0d0887"
            ],
            [
             0.1111111111111111,
             "#46039f"
            ],
            [
             0.2222222222222222,
             "#7201a8"
            ],
            [
             0.3333333333333333,
             "#9c179e"
            ],
            [
             0.4444444444444444,
             "#bd3786"
            ],
            [
             0.5555555555555556,
             "#d8576b"
            ],
            [
             0.6666666666666666,
             "#ed7953"
            ],
            [
             0.7777777777777778,
             "#fb9f3a"
            ],
            [
             0.8888888888888888,
             "#fdca26"
            ],
            [
             1,
             "#f0f921"
            ]
           ],
           "sequentialminus": [
            [
             0,
             "#0d0887"
            ],
            [
             0.1111111111111111,
             "#46039f"
            ],
            [
             0.2222222222222222,
             "#7201a8"
            ],
            [
             0.3333333333333333,
             "#9c179e"
            ],
            [
             0.4444444444444444,
             "#bd3786"
            ],
            [
             0.5555555555555556,
             "#d8576b"
            ],
            [
             0.6666666666666666,
             "#ed7953"
            ],
            [
             0.7777777777777778,
             "#fb9f3a"
            ],
            [
             0.8888888888888888,
             "#fdca26"
            ],
            [
             1,
             "#f0f921"
            ]
           ]
          },
          "colorway": [
           "#636efa",
           "#EF553B",
           "#00cc96",
           "#ab63fa",
           "#FFA15A",
           "#19d3f3",
           "#FF6692",
           "#B6E880",
           "#FF97FF",
           "#FECB52"
          ],
          "font": {
           "color": "#2a3f5f"
          },
          "geo": {
           "bgcolor": "white",
           "lakecolor": "white",
           "landcolor": "white",
           "showlakes": true,
           "showland": true,
           "subunitcolor": "#C8D4E3"
          },
          "hoverlabel": {
           "align": "left"
          },
          "hovermode": "closest",
          "mapbox": {
           "style": "light"
          },
          "paper_bgcolor": "white",
          "plot_bgcolor": "white",
          "polar": {
           "angularaxis": {
            "gridcolor": "#EBF0F8",
            "linecolor": "#EBF0F8",
            "ticks": ""
           },
           "bgcolor": "white",
           "radialaxis": {
            "gridcolor": "#EBF0F8",
            "linecolor": "#EBF0F8",
            "ticks": ""
           }
          },
          "scene": {
           "xaxis": {
            "backgroundcolor": "white",
            "gridcolor": "#DFE8F3",
            "gridwidth": 2,
            "linecolor": "#EBF0F8",
            "showbackground": true,
            "ticks": "",
            "zerolinecolor": "#EBF0F8"
           },
           "yaxis": {
            "backgroundcolor": "white",
            "gridcolor": "#DFE8F3",
            "gridwidth": 2,
            "linecolor": "#EBF0F8",
            "showbackground": true,
            "ticks": "",
            "zerolinecolor": "#EBF0F8"
           },
           "zaxis": {
            "backgroundcolor": "white",
            "gridcolor": "#DFE8F3",
            "gridwidth": 2,
            "linecolor": "#EBF0F8",
            "showbackground": true,
            "ticks": "",
            "zerolinecolor": "#EBF0F8"
           }
          },
          "shapedefaults": {
           "line": {
            "color": "#2a3f5f"
           }
          },
          "ternary": {
           "aaxis": {
            "gridcolor": "#DFE8F3",
            "linecolor": "#A2B1C6",
            "ticks": ""
           },
           "baxis": {
            "gridcolor": "#DFE8F3",
            "linecolor": "#A2B1C6",
            "ticks": ""
           },
           "bgcolor": "white",
           "caxis": {
            "gridcolor": "#DFE8F3",
            "linecolor": "#A2B1C6",
            "ticks": ""
           }
          },
          "title": {
           "x": 0.05
          },
          "xaxis": {
           "automargin": true,
           "gridcolor": "#EBF0F8",
           "linecolor": "#EBF0F8",
           "ticks": "",
           "title": {
            "standoff": 15
           },
           "zerolinecolor": "#EBF0F8",
           "zerolinewidth": 2
          },
          "yaxis": {
           "automargin": true,
           "gridcolor": "#EBF0F8",
           "linecolor": "#EBF0F8",
           "ticks": "",
           "title": {
            "standoff": 15
           },
           "zerolinecolor": "#EBF0F8",
           "zerolinewidth": 2
          }
         }
        },
        "title": {
         "text": "Distribution of Actual Prices"
        },
        "xaxis": {
         "anchor": "y",
         "domain": [
          0,
          1
         ],
         "title": {
          "text": "Actual"
         }
        },
        "xaxis2": {
         "anchor": "y2",
         "domain": [
          0,
          1
         ],
         "matches": "x",
         "showgrid": true,
         "showticklabels": false
        },
        "yaxis": {
         "anchor": "x",
         "domain": [
          0,
          0.8316
         ],
         "title": {
          "text": "Count"
         }
        },
        "yaxis2": {
         "anchor": "x2",
         "domain": [
          0.8416,
          1
         ],
         "matches": "y2",
         "showgrid": false,
         "showline": false,
         "showticklabels": false,
         "ticks": ""
        }
       }
      }
     },
     "metadata": {},
     "output_type": "display_data"
    }
   ],
   "source": [
    "import plotly.express as px\n",
    "\n",
    "# Calculate residuals\n",
    "#results['Residual'] = results['Actual'] - results['Predicted']\n",
    "\n",
    "# Plot histogram with KDE-style curve\n",
    "fig = px.histogram(\n",
    "    results,\n",
    "    x='Actual',\n",
    "    nbins=50,\n",
    "    title='Distribution of Actual Prices',\n",
    "    marginal='violin',  # optional: adds a violin plot on the side\n",
    "    opacity=0.7\n",
    ")\n",
    "\n",
    "fig.update_layout(\n",
    "    xaxis_title='Actual',\n",
    "    yaxis_title='Count',\n",
    "    bargap=0.1,\n",
    "    template='plotly_white'\n",
    ")\n",
    "\n",
    "fig.show()"
   ]
  },
  {
   "cell_type": "code",
   "execution_count": 37,
   "id": "537bb8ad",
   "metadata": {},
   "outputs": [
    {
     "data": {
      "application/vnd.plotly.v1+json": {
       "config": {
        "plotlyServerURL": "https://plot.ly"
       },
       "data": [
        {
         "bingroup": "x",
         "hovertemplate": "Predicted=%{x}<br>count=%{y}<extra></extra>",
         "legendgroup": "",
         "marker": {
          "color": "#636efa",
          "opacity": 0.7,
          "pattern": {
           "shape": ""
          }
         },
         "name": "",
         "nbinsx": 50,
         "orientation": "v",
         "showlegend": false,
         "type": "histogram",
         "x": {
          "bdata": "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",
          "dtype": "f8"
         },
         "xaxis": "x",
         "yaxis": "y"
        },
        {
         "hovertemplate": "Predicted=%{x}<extra></extra>",
         "legendgroup": "",
         "marker": {
          "color": "#636efa"
         },
         "name": "",
         "scalegroup": "x",
         "showlegend": false,
         "type": "violin",
         "x": {
          "bdata": "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",
          "dtype": "f8"
         },
         "xaxis": "x2",
         "yaxis": "y2"
        }
       ],
       "layout": {
        "bargap": 0.1,
        "barmode": "relative",
        "legend": {
         "tracegroupgap": 0
        },
        "template": {
         "data": {
          "bar": [
           {
            "error_x": {
             "color": "#2a3f5f"
            },
            "error_y": {
             "color": "#2a3f5f"
            },
            "marker": {
             "line": {
              "color": "white",
              "width": 0.5
             },
             "pattern": {
              "fillmode": "overlay",
              "size": 10,
              "solidity": 0.2
             }
            },
            "type": "bar"
           }
          ],
          "barpolar": [
           {
            "marker": {
             "line": {
              "color": "white",
              "width": 0.5
             },
             "pattern": {
              "fillmode": "overlay",
              "size": 10,
              "solidity": 0.2
             }
            },
            "type": "barpolar"
           }
          ],
          "carpet": [
           {
            "aaxis": {
             "endlinecolor": "#2a3f5f",
             "gridcolor": "#C8D4E3",
             "linecolor": "#C8D4E3",
             "minorgridcolor": "#C8D4E3",
             "startlinecolor": "#2a3f5f"
            },
            "baxis": {
             "endlinecolor": "#2a3f5f",
             "gridcolor": "#C8D4E3",
             "linecolor": "#C8D4E3",
             "minorgridcolor": "#C8D4E3",
             "startlinecolor": "#2a3f5f"
            },
            "type": "carpet"
           }
          ],
          "choropleth": [
           {
            "colorbar": {
             "outlinewidth": 0,
             "ticks": ""
            },
            "type": "choropleth"
           }
          ],
          "contour": [
           {
            "colorbar": {
             "outlinewidth": 0,
             "ticks": ""
            },
            "colorscale": [
             [
              0,
              "#0d0887"
             ],
             [
              0.1111111111111111,
              "#46039f"
             ],
             [
              0.2222222222222222,
              "#7201a8"
             ],
             [
              0.3333333333333333,
              "#9c179e"
             ],
             [
              0.4444444444444444,
              "#bd3786"
             ],
             [
              0.5555555555555556,
              "#d8576b"
             ],
             [
              0.6666666666666666,
              "#ed7953"
             ],
             [
              0.7777777777777778,
              "#fb9f3a"
             ],
             [
              0.8888888888888888,
              "#fdca26"
             ],
             [
              1,
              "#f0f921"
             ]
            ],
            "type": "contour"
           }
          ],
          "contourcarpet": [
           {
            "colorbar": {
             "outlinewidth": 0,
             "ticks": ""
            },
            "type": "contourcarpet"
           }
          ],
          "heatmap": [
           {
            "colorbar": {
             "outlinewidth": 0,
             "ticks": ""
            },
            "colorscale": [
             [
              0,
              "#0d0887"
             ],
             [
              0.1111111111111111,
              "#46039f"
             ],
             [
              0.2222222222222222,
              "#7201a8"
             ],
             [
              0.3333333333333333,
              "#9c179e"
             ],
             [
              0.4444444444444444,
              "#bd3786"
             ],
             [
              0.5555555555555556,
              "#d8576b"
             ],
             [
              0.6666666666666666,
              "#ed7953"
             ],
             [
              0.7777777777777778,
              "#fb9f3a"
             ],
             [
              0.8888888888888888,
              "#fdca26"
             ],
             [
              1,
              "#f0f921"
             ]
            ],
            "type": "heatmap"
           }
          ],
          "histogram": [
           {
            "marker": {
             "pattern": {
              "fillmode": "overlay",
              "size": 10,
              "solidity": 0.2
             }
            },
            "type": "histogram"
           }
          ],
          "histogram2d": [
           {
            "colorbar": {
             "outlinewidth": 0,
             "ticks": ""
            },
            "colorscale": [
             [
              0,
              "#0d0887"
             ],
             [
              0.1111111111111111,
              "#46039f"
             ],
             [
              0.2222222222222222,
              "#7201a8"
             ],
             [
              0.3333333333333333,
              "#9c179e"
             ],
             [
              0.4444444444444444,
              "#bd3786"
             ],
             [
              0.5555555555555556,
              "#d8576b"
             ],
             [
              0.6666666666666666,
              "#ed7953"
             ],
             [
              0.7777777777777778,
              "#fb9f3a"
             ],
             [
              0.8888888888888888,
              "#fdca26"
             ],
             [
              1,
              "#f0f921"
             ]
            ],
            "type": "histogram2d"
           }
          ],
          "histogram2dcontour": [
           {
            "colorbar": {
             "outlinewidth": 0,
             "ticks": ""
            },
            "colorscale": [
             [
              0,
              "#0d0887"
             ],
             [
              0.1111111111111111,
              "#46039f"
             ],
             [
              0.2222222222222222,
              "#7201a8"
             ],
             [
              0.3333333333333333,
              "#9c179e"
             ],
             [
              0.4444444444444444,
              "#bd3786"
             ],
             [
              0.5555555555555556,
              "#d8576b"
             ],
             [
              0.6666666666666666,
              "#ed7953"
             ],
             [
              0.7777777777777778,
              "#fb9f3a"
             ],
             [
              0.8888888888888888,
              "#fdca26"
             ],
             [
              1,
              "#f0f921"
             ]
            ],
            "type": "histogram2dcontour"
           }
          ],
          "mesh3d": [
           {
            "colorbar": {
             "outlinewidth": 0,
             "ticks": ""
            },
            "type": "mesh3d"
           }
          ],
          "parcoords": [
           {
            "line": {
             "colorbar": {
              "outlinewidth": 0,
              "ticks": ""
             }
            },
            "type": "parcoords"
           }
          ],
          "pie": [
           {
            "automargin": true,
            "type": "pie"
           }
          ],
          "scatter": [
           {
            "fillpattern": {
             "fillmode": "overlay",
             "size": 10,
             "solidity": 0.2
            },
            "type": "scatter"
           }
          ],
          "scatter3d": [
           {
            "line": {
             "colorbar": {
              "outlinewidth": 0,
              "ticks": ""
             }
            },
            "marker": {
             "colorbar": {
              "outlinewidth": 0,
              "ticks": ""
             }
            },
            "type": "scatter3d"
           }
          ],
          "scattercarpet": [
           {
            "marker": {
             "colorbar": {
              "outlinewidth": 0,
              "ticks": ""
             }
            },
            "type": "scattercarpet"
           }
          ],
          "scattergeo": [
           {
            "marker": {
             "colorbar": {
              "outlinewidth": 0,
              "ticks": ""
             }
            },
            "type": "scattergeo"
           }
          ],
          "scattergl": [
           {
            "marker": {
             "colorbar": {
              "outlinewidth": 0,
              "ticks": ""
             }
            },
            "type": "scattergl"
           }
          ],
          "scattermap": [
           {
            "marker": {
             "colorbar": {
              "outlinewidth": 0,
              "ticks": ""
             }
            },
            "type": "scattermap"
           }
          ],
          "scattermapbox": [
           {
            "marker": {
             "colorbar": {
              "outlinewidth": 0,
              "ticks": ""
             }
            },
            "type": "scattermapbox"
           }
          ],
          "scatterpolar": [
           {
            "marker": {
             "colorbar": {
              "outlinewidth": 0,
              "ticks": ""
             }
            },
            "type": "scatterpolar"
           }
          ],
          "scatterpolargl": [
           {
            "marker": {
             "colorbar": {
              "outlinewidth": 0,
              "ticks": ""
             }
            },
            "type": "scatterpolargl"
           }
          ],
          "scatterternary": [
           {
            "marker": {
             "colorbar": {
              "outlinewidth": 0,
              "ticks": ""
             }
            },
            "type": "scatterternary"
           }
          ],
          "surface": [
           {
            "colorbar": {
             "outlinewidth": 0,
             "ticks": ""
            },
            "colorscale": [
             [
              0,
              "#0d0887"
             ],
             [
              0.1111111111111111,
              "#46039f"
             ],
             [
              0.2222222222222222,
              "#7201a8"
             ],
             [
              0.3333333333333333,
              "#9c179e"
             ],
             [
              0.4444444444444444,
              "#bd3786"
             ],
             [
              0.5555555555555556,
              "#d8576b"
             ],
             [
              0.6666666666666666,
              "#ed7953"
             ],
             [
              0.7777777777777778,
              "#fb9f3a"
             ],
             [
              0.8888888888888888,
              "#fdca26"
             ],
             [
              1,
              "#f0f921"
             ]
            ],
            "type": "surface"
           }
          ],
          "table": [
           {
            "cells": {
             "fill": {
              "color": "#EBF0F8"
             },
             "line": {
              "color": "white"
             }
            },
            "header": {
             "fill": {
              "color": "#C8D4E3"
             },
             "line": {
              "color": "white"
             }
            },
            "type": "table"
           }
          ]
         },
         "layout": {
          "annotationdefaults": {
           "arrowcolor": "#2a3f5f",
           "arrowhead": 0,
           "arrowwidth": 1
          },
          "autotypenumbers": "strict",
          "coloraxis": {
           "colorbar": {
            "outlinewidth": 0,
            "ticks": ""
           }
          },
          "colorscale": {
           "diverging": [
            [
             0,
             "#8e0152"
            ],
            [
             0.1,
             "#c51b7d"
            ],
            [
             0.2,
             "#de77ae"
            ],
            [
             0.3,
             "#f1b6da"
            ],
            [
             0.4,
             "#fde0ef"
            ],
            [
             0.5,
             "#f7f7f7"
            ],
            [
             0.6,
             "#e6f5d0"
            ],
            [
             0.7,
             "#b8e186"
            ],
            [
             0.8,
             "#7fbc41"
            ],
            [
             0.9,
             "#4d9221"
            ],
            [
             1,
             "#276419"
            ]
           ],
           "sequential": [
            [
             0,
             "#0d0887"
            ],
            [
             0.1111111111111111,
             "#46039f"
            ],
            [
             0.2222222222222222,
             "#7201a8"
            ],
            [
             0.3333333333333333,
             "#9c179e"
            ],
            [
             0.4444444444444444,
             "#bd3786"
            ],
            [
             0.5555555555555556,
             "#d8576b"
            ],
            [
             0.6666666666666666,
             "#ed7953"
            ],
            [
             0.7777777777777778,
             "#fb9f3a"
            ],
            [
             0.8888888888888888,
             "#fdca26"
            ],
            [
             1,
             "#f0f921"
            ]
           ],
           "sequentialminus": [
            [
             0,
             "#0d0887"
            ],
            [
             0.1111111111111111,
             "#46039f"
            ],
            [
             0.2222222222222222,
             "#7201a8"
            ],
            [
             0.3333333333333333,
             "#9c179e"
            ],
            [
             0.4444444444444444,
             "#bd3786"
            ],
            [
             0.5555555555555556,
             "#d8576b"
            ],
            [
             0.6666666666666666,
             "#ed7953"
            ],
            [
             0.7777777777777778,
             "#fb9f3a"
            ],
            [
             0.8888888888888888,
             "#fdca26"
            ],
            [
             1,
             "#f0f921"
            ]
           ]
          },
          "colorway": [
           "#636efa",
           "#EF553B",
           "#00cc96",
           "#ab63fa",
           "#FFA15A",
           "#19d3f3",
           "#FF6692",
           "#B6E880",
           "#FF97FF",
           "#FECB52"
          ],
          "font": {
           "color": "#2a3f5f"
          },
          "geo": {
           "bgcolor": "white",
           "lakecolor": "white",
           "landcolor": "white",
           "showlakes": true,
           "showland": true,
           "subunitcolor": "#C8D4E3"
          },
          "hoverlabel": {
           "align": "left"
          },
          "hovermode": "closest",
          "mapbox": {
           "style": "light"
          },
          "paper_bgcolor": "white",
          "plot_bgcolor": "white",
          "polar": {
           "angularaxis": {
            "gridcolor": "#EBF0F8",
            "linecolor": "#EBF0F8",
            "ticks": ""
           },
           "bgcolor": "white",
           "radialaxis": {
            "gridcolor": "#EBF0F8",
            "linecolor": "#EBF0F8",
            "ticks": ""
           }
          },
          "scene": {
           "xaxis": {
            "backgroundcolor": "white",
            "gridcolor": "#DFE8F3",
            "gridwidth": 2,
            "linecolor": "#EBF0F8",
            "showbackground": true,
            "ticks": "",
            "zerolinecolor": "#EBF0F8"
           },
           "yaxis": {
            "backgroundcolor": "white",
            "gridcolor": "#DFE8F3",
            "gridwidth": 2,
            "linecolor": "#EBF0F8",
            "showbackground": true,
            "ticks": "",
            "zerolinecolor": "#EBF0F8"
           },
           "zaxis": {
            "backgroundcolor": "white",
            "gridcolor": "#DFE8F3",
            "gridwidth": 2,
            "linecolor": "#EBF0F8",
            "showbackground": true,
            "ticks": "",
            "zerolinecolor": "#EBF0F8"
           }
          },
          "shapedefaults": {
           "line": {
            "color": "#2a3f5f"
           }
          },
          "ternary": {
           "aaxis": {
            "gridcolor": "#DFE8F3",
            "linecolor": "#A2B1C6",
            "ticks": ""
           },
           "baxis": {
            "gridcolor": "#DFE8F3",
            "linecolor": "#A2B1C6",
            "ticks": ""
           },
           "bgcolor": "white",
           "caxis": {
            "gridcolor": "#DFE8F3",
            "linecolor": "#A2B1C6",
            "ticks": ""
           }
          },
          "title": {
           "x": 0.05
          },
          "xaxis": {
           "automargin": true,
           "gridcolor": "#EBF0F8",
           "linecolor": "#EBF0F8",
           "ticks": "",
           "title": {
            "standoff": 15
           },
           "zerolinecolor": "#EBF0F8",
           "zerolinewidth": 2
          },
          "yaxis": {
           "automargin": true,
           "gridcolor": "#EBF0F8",
           "linecolor": "#EBF0F8",
           "ticks": "",
           "title": {
            "standoff": 15
           },
           "zerolinecolor": "#EBF0F8",
           "zerolinewidth": 2
          }
         }
        },
        "title": {
         "text": "Distribution of Predicted Prices"
        },
        "xaxis": {
         "anchor": "y",
         "domain": [
          0,
          1
         ],
         "title": {
          "text": "Predicted"
         }
        },
        "xaxis2": {
         "anchor": "y2",
         "domain": [
          0,
          1
         ],
         "matches": "x",
         "showgrid": true,
         "showticklabels": false
        },
        "yaxis": {
         "anchor": "x",
         "domain": [
          0,
          0.8316
         ],
         "title": {
          "text": "Count"
         }
        },
        "yaxis2": {
         "anchor": "x2",
         "domain": [
          0.8416,
          1
         ],
         "matches": "y2",
         "showgrid": false,
         "showline": false,
         "showticklabels": false,
         "ticks": ""
        }
       }
      }
     },
     "metadata": {},
     "output_type": "display_data"
    }
   ],
   "source": [
    "import plotly.express as px\n",
    "\n",
    "\n",
    "# Plot histogram with KDE-style curve\n",
    "fig = px.histogram(\n",
    "    results,\n",
    "    x='Predicted',\n",
    "    nbins=50,\n",
    "    title='Distribution of Predicted Prices',\n",
    "    marginal='violin',  # optional: adds a violin plot on the side\n",
    "    opacity=0.7\n",
    ")\n",
    "\n",
    "fig.update_layout(\n",
    "    xaxis_title='Predicted',\n",
    "    yaxis_title='Count',\n",
    "    bargap=0.1,\n",
    "    template='plotly_white'\n",
    ")\n",
    "\n",
    "fig.show()"
   ]
  },
  {
   "cell_type": "code",
   "execution_count": 38,
   "id": "60991e0b",
   "metadata": {},
   "outputs": [
    {
     "data": {
      "application/vnd.plotly.v1+json": {
       "config": {
        "plotlyServerURL": "https://plot.ly"
       },
       "data": [
        {
         "bingroup": "x",
         "hovertemplate": "Residual=%{x}<br>count=%{y}<extra></extra>",
         "legendgroup": "",
         "marker": {
          "color": "#636efa",
          "opacity": 0.7,
          "pattern": {
           "shape": ""
          }
         },
         "name": "",
         "nbinsx": 50,
         "orientation": "v",
         "showlegend": false,
         "type": "histogram",
         "x": {
          "bdata": "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",
          "dtype": "f8"
         },
         "xaxis": "x",
         "yaxis": "y"
        },
        {
         "hovertemplate": "Residual=%{x}<extra></extra>",
         "legendgroup": "",
         "marker": {
          "color": "#636efa"
         },
         "name": "",
         "scalegroup": "x",
         "showlegend": false,
         "type": "violin",
         "x": {
          "bdata": "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",
          "dtype": "f8"
         },
         "xaxis": "x2",
         "yaxis": "y2"
        }
       ],
       "layout": {
        "bargap": 0.1,
        "barmode": "relative",
        "legend": {
         "tracegroupgap": 0
        },
        "template": {
         "data": {
          "bar": [
           {
            "error_x": {
             "color": "#2a3f5f"
            },
            "error_y": {
             "color": "#2a3f5f"
            },
            "marker": {
             "line": {
              "color": "white",
              "width": 0.5
             },
             "pattern": {
              "fillmode": "overlay",
              "size": 10,
              "solidity": 0.2
             }
            },
            "type": "bar"
           }
          ],
          "barpolar": [
           {
            "marker": {
             "line": {
              "color": "white",
              "width": 0.5
             },
             "pattern": {
              "fillmode": "overlay",
              "size": 10,
              "solidity": 0.2
             }
            },
            "type": "barpolar"
           }
          ],
          "carpet": [
           {
            "aaxis": {
             "endlinecolor": "#2a3f5f",
             "gridcolor": "#C8D4E3",
             "linecolor": "#C8D4E3",
             "minorgridcolor": "#C8D4E3",
             "startlinecolor": "#2a3f5f"
            },
            "baxis": {
             "endlinecolor": "#2a3f5f",
             "gridcolor": "#C8D4E3",
             "linecolor": "#C8D4E3",
             "minorgridcolor": "#C8D4E3",
             "startlinecolor": "#2a3f5f"
            },
            "type": "carpet"
           }
          ],
          "choropleth": [
           {
            "colorbar": {
             "outlinewidth": 0,
             "ticks": ""
            },
            "type": "choropleth"
           }
          ],
          "contour": [
           {
            "colorbar": {
             "outlinewidth": 0,
             "ticks": ""
            },
            "colorscale": [
             [
              0,
              "#0d0887"
             ],
             [
              0.1111111111111111,
              "#46039f"
             ],
             [
              0.2222222222222222,
              "#7201a8"
             ],
             [
              0.3333333333333333,
              "#9c179e"
             ],
             [
              0.4444444444444444,
              "#bd3786"
             ],
             [
              0.5555555555555556,
              "#d8576b"
             ],
             [
              0.6666666666666666,
              "#ed7953"
             ],
             [
              0.7777777777777778,
              "#fb9f3a"
             ],
             [
              0.8888888888888888,
              "#fdca26"
             ],
             [
              1,
              "#f0f921"
             ]
            ],
            "type": "contour"
           }
          ],
          "contourcarpet": [
           {
            "colorbar": {
             "outlinewidth": 0,
             "ticks": ""
            },
            "type": "contourcarpet"
           }
          ],
          "heatmap": [
           {
            "colorbar": {
             "outlinewidth": 0,
             "ticks": ""
            },
            "colorscale": [
             [
              0,
              "#0d0887"
             ],
             [
              0.1111111111111111,
              "#46039f"
             ],
             [
              0.2222222222222222,
              "#7201a8"
             ],
             [
              0.3333333333333333,
              "#9c179e"
             ],
             [
              0.4444444444444444,
              "#bd3786"
             ],
             [
              0.5555555555555556,
              "#d8576b"
             ],
             [
              0.6666666666666666,
              "#ed7953"
             ],
             [
              0.7777777777777778,
              "#fb9f3a"
             ],
             [
              0.8888888888888888,
              "#fdca26"
             ],
             [
              1,
              "#f0f921"
             ]
            ],
            "type": "heatmap"
           }
          ],
          "histogram": [
           {
            "marker": {
             "pattern": {
              "fillmode": "overlay",
              "size": 10,
              "solidity": 0.2
             }
            },
            "type": "histogram"
           }
          ],
          "histogram2d": [
           {
            "colorbar": {
             "outlinewidth": 0,
             "ticks": ""
            },
            "colorscale": [
             [
              0,
              "#0d0887"
             ],
             [
              0.1111111111111111,
              "#46039f"
             ],
             [
              0.2222222222222222,
              "#7201a8"
             ],
             [
              0.3333333333333333,
              "#9c179e"
             ],
             [
              0.4444444444444444,
              "#bd3786"
             ],
             [
              0.5555555555555556,
              "#d8576b"
             ],
             [
              0.6666666666666666,
              "#ed7953"
             ],
             [
              0.7777777777777778,
              "#fb9f3a"
             ],
             [
              0.8888888888888888,
              "#fdca26"
             ],
             [
              1,
              "#f0f921"
             ]
            ],
            "type": "histogram2d"
           }
          ],
          "histogram2dcontour": [
           {
            "colorbar": {
             "outlinewidth": 0,
             "ticks": ""
            },
            "colorscale": [
             [
              0,
              "#0d0887"
             ],
             [
              0.1111111111111111,
              "#46039f"
             ],
             [
              0.2222222222222222,
              "#7201a8"
             ],
             [
              0.3333333333333333,
              "#9c179e"
             ],
             [
              0.4444444444444444,
              "#bd3786"
             ],
             [
              0.5555555555555556,
              "#d8576b"
             ],
             [
              0.6666666666666666,
              "#ed7953"
             ],
             [
              0.7777777777777778,
              "#fb9f3a"
             ],
             [
              0.8888888888888888,
              "#fdca26"
             ],
             [
              1,
              "#f0f921"
             ]
            ],
            "type": "histogram2dcontour"
           }
          ],
          "mesh3d": [
           {
            "colorbar": {
             "outlinewidth": 0,
             "ticks": ""
            },
            "type": "mesh3d"
           }
          ],
          "parcoords": [
           {
            "line": {
             "colorbar": {
              "outlinewidth": 0,
              "ticks": ""
             }
            },
            "type": "parcoords"
           }
          ],
          "pie": [
           {
            "automargin": true,
            "type": "pie"
           }
          ],
          "scatter": [
           {
            "fillpattern": {
             "fillmode": "overlay",
             "size": 10,
             "solidity": 0.2
            },
            "type": "scatter"
           }
          ],
          "scatter3d": [
           {
            "line": {
             "colorbar": {
              "outlinewidth": 0,
              "ticks": ""
             }
            },
            "marker": {
             "colorbar": {
              "outlinewidth": 0,
              "ticks": ""
             }
            },
            "type": "scatter3d"
           }
          ],
          "scattercarpet": [
           {
            "marker": {
             "colorbar": {
              "outlinewidth": 0,
              "ticks": ""
             }
            },
            "type": "scattercarpet"
           }
          ],
          "scattergeo": [
           {
            "marker": {
             "colorbar": {
              "outlinewidth": 0,
              "ticks": ""
             }
            },
            "type": "scattergeo"
           }
          ],
          "scattergl": [
           {
            "marker": {
             "colorbar": {
              "outlinewidth": 0,
              "ticks": ""
             }
            },
            "type": "scattergl"
           }
          ],
          "scattermap": [
           {
            "marker": {
             "colorbar": {
              "outlinewidth": 0,
              "ticks": ""
             }
            },
            "type": "scattermap"
           }
          ],
          "scattermapbox": [
           {
            "marker": {
             "colorbar": {
              "outlinewidth": 0,
              "ticks": ""
             }
            },
            "type": "scattermapbox"
           }
          ],
          "scatterpolar": [
           {
            "marker": {
             "colorbar": {
              "outlinewidth": 0,
              "ticks": ""
             }
            },
            "type": "scatterpolar"
           }
          ],
          "scatterpolargl": [
           {
            "marker": {
             "colorbar": {
              "outlinewidth": 0,
              "ticks": ""
             }
            },
            "type": "scatterpolargl"
           }
          ],
          "scatterternary": [
           {
            "marker": {
             "colorbar": {
              "outlinewidth": 0,
              "ticks": ""
             }
            },
            "type": "scatterternary"
           }
          ],
          "surface": [
           {
            "colorbar": {
             "outlinewidth": 0,
             "ticks": ""
            },
            "colorscale": [
             [
              0,
              "#0d0887"
             ],
             [
              0.1111111111111111,
              "#46039f"
             ],
             [
              0.2222222222222222,
              "#7201a8"
             ],
             [
              0.3333333333333333,
              "#9c179e"
             ],
             [
              0.4444444444444444,
              "#bd3786"
             ],
             [
              0.5555555555555556,
              "#d8576b"
             ],
             [
              0.6666666666666666,
              "#ed7953"
             ],
             [
              0.7777777777777778,
              "#fb9f3a"
             ],
             [
              0.8888888888888888,
              "#fdca26"
             ],
             [
              1,
              "#f0f921"
             ]
            ],
            "type": "surface"
           }
          ],
          "table": [
           {
            "cells": {
             "fill": {
              "color": "#EBF0F8"
             },
             "line": {
              "color": "white"
             }
            },
            "header": {
             "fill": {
              "color": "#C8D4E3"
             },
             "line": {
              "color": "white"
             }
            },
            "type": "table"
           }
          ]
         },
         "layout": {
          "annotationdefaults": {
           "arrowcolor": "#2a3f5f",
           "arrowhead": 0,
           "arrowwidth": 1
          },
          "autotypenumbers": "strict",
          "coloraxis": {
           "colorbar": {
            "outlinewidth": 0,
            "ticks": ""
           }
          },
          "colorscale": {
           "diverging": [
            [
             0,
             "#8e0152"
            ],
            [
             0.1,
             "#c51b7d"
            ],
            [
             0.2,
             "#de77ae"
            ],
            [
             0.3,
             "#f1b6da"
            ],
            [
             0.4,
             "#fde0ef"
            ],
            [
             0.5,
             "#f7f7f7"
            ],
            [
             0.6,
             "#e6f5d0"
            ],
            [
             0.7,
             "#b8e186"
            ],
            [
             0.8,
             "#7fbc41"
            ],
            [
             0.9,
             "#4d9221"
            ],
            [
             1,
             "#276419"
            ]
           ],
           "sequential": [
            [
             0,
             "#0d0887"
            ],
            [
             0.1111111111111111,
             "#46039f"
            ],
            [
             0.2222222222222222,
             "#7201a8"
            ],
            [
             0.3333333333333333,
             "#9c179e"
            ],
            [
             0.4444444444444444,
             "#bd3786"
            ],
            [
             0.5555555555555556,
             "#d8576b"
            ],
            [
             0.6666666666666666,
             "#ed7953"
            ],
            [
             0.7777777777777778,
             "#fb9f3a"
            ],
            [
             0.8888888888888888,
             "#fdca26"
            ],
            [
             1,
             "#f0f921"
            ]
           ],
           "sequentialminus": [
            [
             0,
             "#0d0887"
            ],
            [
             0.1111111111111111,
             "#46039f"
            ],
            [
             0.2222222222222222,
             "#7201a8"
            ],
            [
             0.3333333333333333,
             "#9c179e"
            ],
            [
             0.4444444444444444,
             "#bd3786"
            ],
            [
             0.5555555555555556,
             "#d8576b"
            ],
            [
             0.6666666666666666,
             "#ed7953"
            ],
            [
             0.7777777777777778,
             "#fb9f3a"
            ],
            [
             0.8888888888888888,
             "#fdca26"
            ],
            [
             1,
             "#f0f921"
            ]
           ]
          },
          "colorway": [
           "#636efa",
           "#EF553B",
           "#00cc96",
           "#ab63fa",
           "#FFA15A",
           "#19d3f3",
           "#FF6692",
           "#B6E880",
           "#FF97FF",
           "#FECB52"
          ],
          "font": {
           "color": "#2a3f5f"
          },
          "geo": {
           "bgcolor": "white",
           "lakecolor": "white",
           "landcolor": "white",
           "showlakes": true,
           "showland": true,
           "subunitcolor": "#C8D4E3"
          },
          "hoverlabel": {
           "align": "left"
          },
          "hovermode": "closest",
          "mapbox": {
           "style": "light"
          },
          "paper_bgcolor": "white",
          "plot_bgcolor": "white",
          "polar": {
           "angularaxis": {
            "gridcolor": "#EBF0F8",
            "linecolor": "#EBF0F8",
            "ticks": ""
           },
           "bgcolor": "white",
           "radialaxis": {
            "gridcolor": "#EBF0F8",
            "linecolor": "#EBF0F8",
            "ticks": ""
           }
          },
          "scene": {
           "xaxis": {
            "backgroundcolor": "white",
            "gridcolor": "#DFE8F3",
            "gridwidth": 2,
            "linecolor": "#EBF0F8",
            "showbackground": true,
            "ticks": "",
            "zerolinecolor": "#EBF0F8"
           },
           "yaxis": {
            "backgroundcolor": "white",
            "gridcolor": "#DFE8F3",
            "gridwidth": 2,
            "linecolor": "#EBF0F8",
            "showbackground": true,
            "ticks": "",
            "zerolinecolor": "#EBF0F8"
           },
           "zaxis": {
            "backgroundcolor": "white",
            "gridcolor": "#DFE8F3",
            "gridwidth": 2,
            "linecolor": "#EBF0F8",
            "showbackground": true,
            "ticks": "",
            "zerolinecolor": "#EBF0F8"
           }
          },
          "shapedefaults": {
           "line": {
            "color": "#2a3f5f"
           }
          },
          "ternary": {
           "aaxis": {
            "gridcolor": "#DFE8F3",
            "linecolor": "#A2B1C6",
            "ticks": ""
           },
           "baxis": {
            "gridcolor": "#DFE8F3",
            "linecolor": "#A2B1C6",
            "ticks": ""
           },
           "bgcolor": "white",
           "caxis": {
            "gridcolor": "#DFE8F3",
            "linecolor": "#A2B1C6",
            "ticks": ""
           }
          },
          "title": {
           "x": 0.05
          },
          "xaxis": {
           "automargin": true,
           "gridcolor": "#EBF0F8",
           "linecolor": "#EBF0F8",
           "ticks": "",
           "title": {
            "standoff": 15
           },
           "zerolinecolor": "#EBF0F8",
           "zerolinewidth": 2
          },
          "yaxis": {
           "automargin": true,
           "gridcolor": "#EBF0F8",
           "linecolor": "#EBF0F8",
           "ticks": "",
           "title": {
            "standoff": 15
           },
           "zerolinecolor": "#EBF0F8",
           "zerolinewidth": 2
          }
         }
        },
        "title": {
         "text": "Distribution of Residuals"
        },
        "xaxis": {
         "anchor": "y",
         "domain": [
          0,
          1
         ],
         "title": {
          "text": "Residual (Actual - Predicted)"
         }
        },
        "xaxis2": {
         "anchor": "y2",
         "domain": [
          0,
          1
         ],
         "matches": "x",
         "showgrid": true,
         "showticklabels": false
        },
        "yaxis": {
         "anchor": "x",
         "domain": [
          0,
          0.8316
         ],
         "title": {
          "text": "Count"
         }
        },
        "yaxis2": {
         "anchor": "x2",
         "domain": [
          0.8416,
          1
         ],
         "matches": "y2",
         "showgrid": false,
         "showline": false,
         "showticklabels": false,
         "ticks": ""
        }
       }
      }
     },
     "metadata": {},
     "output_type": "display_data"
    }
   ],
   "source": [
    "import plotly.express as px\n",
    "\n",
    "# Calculate residuals\n",
    "results['Residual'] = results['Actual'] - results['Predicted']\n",
    "\n",
    "# Plot histogram with KDE-style curve\n",
    "fig = px.histogram(\n",
    "    results,\n",
    "    x='Residual',\n",
    "    nbins=50,\n",
    "    title='Distribution of Residuals',\n",
    "    marginal='violin',  # optional: adds a violin plot on the side\n",
    "    opacity=0.7\n",
    ")\n",
    "\n",
    "fig.update_layout(\n",
    "    xaxis_title='Residual (Actual - Predicted)',\n",
    "    yaxis_title='Count',\n",
    "    bargap=0.1,\n",
    "    template='plotly_white'\n",
    ")\n",
    "\n",
    "fig.show()\n",
    "\n",
    "fig.write_image(\"assets/Distribution_Residuals.png\")\n",
    "\n",
    "\n"
   ]
  },
  {
   "cell_type": "code",
   "execution_count": 39,
   "id": "1554b944",
   "metadata": {},
   "outputs": [
    {
     "name": "stdout",
     "output_type": "stream",
     "text": [
      "Actual price range: 25123.34 - 106159.26\n",
      "Predicted price range: 25215.29284058951 - 105648.87615270568\n",
      "Predicted price std dev: 23924.69739290341\n"
     ]
    }
   ],
   "source": [
    "print(\"Actual price range:\", results['Actual'].min(), \"-\", results['Actual'].max())\n",
    "print(\"Predicted price range:\", results['Predicted'].min(), \"-\", results['Predicted'].max())\n",
    "print(\"Predicted price std dev:\", results['Predicted'].std())\n"
   ]
  },
  {
   "cell_type": "code",
   "execution_count": 40,
   "id": "bce46e22",
   "metadata": {},
   "outputs": [
    {
     "data": {
      "application/vnd.plotly.v1+json": {
       "config": {
        "plotlyServerURL": "https://plot.ly"
       },
       "data": [
        {
         "hovertemplate": "Actual BTC Price=%{x}<br>Predicted BTC Price=%{y}<extra></extra>",
         "legendgroup": "",
         "marker": {
          "color": "#636efa",
          "symbol": "circle"
         },
         "mode": "markers",
         "name": "",
         "orientation": "v",
         "showlegend": false,
         "type": "scatter",
         "x": {
          "bdata": "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",
          "dtype": "f8"
         },
         "xaxis": "x",
         "y": {
          "bdata": "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",
          "dtype": "f8"
         },
         "yaxis": "y"
        },
        {
         "hovertemplate": "<b>OLS trendline</b><br>Predicted = 0.991238 * Actual + 322.899<br>R<sup>2</sup>=0.995354<br><br>Actual BTC Price=%{x}<br>Predicted BTC Price=%{y} <b>(trend)</b><extra></extra>",
         "legendgroup": "",
         "marker": {
          "color": "#636efa",
          "symbol": "circle"
         },
         "mode": "lines",
         "name": "",
         "showlegend": false,
         "type": "scatter",
         "x": {
          "bdata": "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",
          "dtype": "f8"
         },
         "xaxis": "x",
         "y": {
          "bdata": "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",
          "dtype": "f8"
         },
         "yaxis": "y"
        }
       ],
       "layout": {
        "legend": {
         "tracegroupgap": 0
        },
        "template": {
         "data": {
          "bar": [
           {
            "error_x": {
             "color": "#2a3f5f"
            },
            "error_y": {
             "color": "#2a3f5f"
            },
            "marker": {
             "line": {
              "color": "white",
              "width": 0.5
             },
             "pattern": {
              "fillmode": "overlay",
              "size": 10,
              "solidity": 0.2
             }
            },
            "type": "bar"
           }
          ],
          "barpolar": [
           {
            "marker": {
             "line": {
              "color": "white",
              "width": 0.5
             },
             "pattern": {
              "fillmode": "overlay",
              "size": 10,
              "solidity": 0.2
             }
            },
            "type": "barpolar"
           }
          ],
          "carpet": [
           {
            "aaxis": {
             "endlinecolor": "#2a3f5f",
             "gridcolor": "#C8D4E3",
             "linecolor": "#C8D4E3",
             "minorgridcolor": "#C8D4E3",
             "startlinecolor": "#2a3f5f"
            },
            "baxis": {
             "endlinecolor": "#2a3f5f",
             "gridcolor": "#C8D4E3",
             "linecolor": "#C8D4E3",
             "minorgridcolor": "#C8D4E3",
             "startlinecolor": "#2a3f5f"
            },
            "type": "carpet"
           }
          ],
          "choropleth": [
           {
            "colorbar": {
             "outlinewidth": 0,
             "ticks": ""
            },
            "type": "choropleth"
           }
          ],
          "contour": [
           {
            "colorbar": {
             "outlinewidth": 0,
             "ticks": ""
            },
            "colorscale": [
             [
              0,
              "#0d0887"
             ],
             [
              0.1111111111111111,
              "#46039f"
             ],
             [
              0.2222222222222222,
              "#7201a8"
             ],
             [
              0.3333333333333333,
              "#9c179e"
             ],
             [
              0.4444444444444444,
              "#bd3786"
             ],
             [
              0.5555555555555556,
              "#d8576b"
             ],
             [
              0.6666666666666666,
              "#ed7953"
             ],
             [
              0.7777777777777778,
              "#fb9f3a"
             ],
             [
              0.8888888888888888,
              "#fdca26"
             ],
             [
              1,
              "#f0f921"
             ]
            ],
            "type": "contour"
           }
          ],
          "contourcarpet": [
           {
            "colorbar": {
             "outlinewidth": 0,
             "ticks": ""
            },
            "type": "contourcarpet"
           }
          ],
          "heatmap": [
           {
            "colorbar": {
             "outlinewidth": 0,
             "ticks": ""
            },
            "colorscale": [
             [
              0,
              "#0d0887"
             ],
             [
              0.1111111111111111,
              "#46039f"
             ],
             [
              0.2222222222222222,
              "#7201a8"
             ],
             [
              0.3333333333333333,
              "#9c179e"
             ],
             [
              0.4444444444444444,
              "#bd3786"
             ],
             [
              0.5555555555555556,
              "#d8576b"
             ],
             [
              0.6666666666666666,
              "#ed7953"
             ],
             [
              0.7777777777777778,
              "#fb9f3a"
             ],
             [
              0.8888888888888888,
              "#fdca26"
             ],
             [
              1,
              "#f0f921"
             ]
            ],
            "type": "heatmap"
           }
          ],
          "histogram": [
           {
            "marker": {
             "pattern": {
              "fillmode": "overlay",
              "size": 10,
              "solidity": 0.2
             }
            },
            "type": "histogram"
           }
          ],
          "histogram2d": [
           {
            "colorbar": {
             "outlinewidth": 0,
             "ticks": ""
            },
            "colorscale": [
             [
              0,
              "#0d0887"
             ],
             [
              0.1111111111111111,
              "#46039f"
             ],
             [
              0.2222222222222222,
              "#7201a8"
             ],
             [
              0.3333333333333333,
              "#9c179e"
             ],
             [
              0.4444444444444444,
              "#bd3786"
             ],
             [
              0.5555555555555556,
              "#d8576b"
             ],
             [
              0.6666666666666666,
              "#ed7953"
             ],
             [
              0.7777777777777778,
              "#fb9f3a"
             ],
             [
              0.8888888888888888,
              "#fdca26"
             ],
             [
              1,
              "#f0f921"
             ]
            ],
            "type": "histogram2d"
           }
          ],
          "histogram2dcontour": [
           {
            "colorbar": {
             "outlinewidth": 0,
             "ticks": ""
            },
            "colorscale": [
             [
              0,
              "#0d0887"
             ],
             [
              0.1111111111111111,
              "#46039f"
             ],
             [
              0.2222222222222222,
              "#7201a8"
             ],
             [
              0.3333333333333333,
              "#9c179e"
             ],
             [
              0.4444444444444444,
              "#bd3786"
             ],
             [
              0.5555555555555556,
              "#d8576b"
             ],
             [
              0.6666666666666666,
              "#ed7953"
             ],
             [
              0.7777777777777778,
              "#fb9f3a"
             ],
             [
              0.8888888888888888,
              "#fdca26"
             ],
             [
              1,
              "#f0f921"
             ]
            ],
            "type": "histogram2dcontour"
           }
          ],
          "mesh3d": [
           {
            "colorbar": {
             "outlinewidth": 0,
             "ticks": ""
            },
            "type": "mesh3d"
           }
          ],
          "parcoords": [
           {
            "line": {
             "colorbar": {
              "outlinewidth": 0,
              "ticks": ""
             }
            },
            "type": "parcoords"
           }
          ],
          "pie": [
           {
            "automargin": true,
            "type": "pie"
           }
          ],
          "scatter": [
           {
            "fillpattern": {
             "fillmode": "overlay",
             "size": 10,
             "solidity": 0.2
            },
            "type": "scatter"
           }
          ],
          "scatter3d": [
           {
            "line": {
             "colorbar": {
              "outlinewidth": 0,
              "ticks": ""
             }
            },
            "marker": {
             "colorbar": {
              "outlinewidth": 0,
              "ticks": ""
             }
            },
            "type": "scatter3d"
           }
          ],
          "scattercarpet": [
           {
            "marker": {
             "colorbar": {
              "outlinewidth": 0,
              "ticks": ""
             }
            },
            "type": "scattercarpet"
           }
          ],
          "scattergeo": [
           {
            "marker": {
             "colorbar": {
              "outlinewidth": 0,
              "ticks": ""
             }
            },
            "type": "scattergeo"
           }
          ],
          "scattergl": [
           {
            "marker": {
             "colorbar": {
              "outlinewidth": 0,
              "ticks": ""
             }
            },
            "type": "scattergl"
           }
          ],
          "scattermap": [
           {
            "marker": {
             "colorbar": {
              "outlinewidth": 0,
              "ticks": ""
             }
            },
            "type": "scattermap"
           }
          ],
          "scattermapbox": [
           {
            "marker": {
             "colorbar": {
              "outlinewidth": 0,
              "ticks": ""
             }
            },
            "type": "scattermapbox"
           }
          ],
          "scatterpolar": [
           {
            "marker": {
             "colorbar": {
              "outlinewidth": 0,
              "ticks": ""
             }
            },
            "type": "scatterpolar"
           }
          ],
          "scatterpolargl": [
           {
            "marker": {
             "colorbar": {
              "outlinewidth": 0,
              "ticks": ""
             }
            },
            "type": "scatterpolargl"
           }
          ],
          "scatterternary": [
           {
            "marker": {
             "colorbar": {
              "outlinewidth": 0,
              "ticks": ""
             }
            },
            "type": "scatterternary"
           }
          ],
          "surface": [
           {
            "colorbar": {
             "outlinewidth": 0,
             "ticks": ""
            },
            "colorscale": [
             [
              0,
              "#0d0887"
             ],
             [
              0.1111111111111111,
              "#46039f"
             ],
             [
              0.2222222222222222,
              "#7201a8"
             ],
             [
              0.3333333333333333,
              "#9c179e"
             ],
             [
              0.4444444444444444,
              "#bd3786"
             ],
             [
              0.5555555555555556,
              "#d8576b"
             ],
             [
              0.6666666666666666,
              "#ed7953"
             ],
             [
              0.7777777777777778,
              "#fb9f3a"
             ],
             [
              0.8888888888888888,
              "#fdca26"
             ],
             [
              1,
              "#f0f921"
             ]
            ],
            "type": "surface"
           }
          ],
          "table": [
           {
            "cells": {
             "fill": {
              "color": "#EBF0F8"
             },
             "line": {
              "color": "white"
             }
            },
            "header": {
             "fill": {
              "color": "#C8D4E3"
             },
             "line": {
              "color": "white"
             }
            },
            "type": "table"
           }
          ]
         },
         "layout": {
          "annotationdefaults": {
           "arrowcolor": "#2a3f5f",
           "arrowhead": 0,
           "arrowwidth": 1
          },
          "autotypenumbers": "strict",
          "coloraxis": {
           "colorbar": {
            "outlinewidth": 0,
            "ticks": ""
           }
          },
          "colorscale": {
           "diverging": [
            [
             0,
             "#8e0152"
            ],
            [
             0.1,
             "#c51b7d"
            ],
            [
             0.2,
             "#de77ae"
            ],
            [
             0.3,
             "#f1b6da"
            ],
            [
             0.4,
             "#fde0ef"
            ],
            [
             0.5,
             "#f7f7f7"
            ],
            [
             0.6,
             "#e6f5d0"
            ],
            [
             0.7,
             "#b8e186"
            ],
            [
             0.8,
             "#7fbc41"
            ],
            [
             0.9,
             "#4d9221"
            ],
            [
             1,
             "#276419"
            ]
           ],
           "sequential": [
            [
             0,
             "#0d0887"
            ],
            [
             0.1111111111111111,
             "#46039f"
            ],
            [
             0.2222222222222222,
             "#7201a8"
            ],
            [
             0.3333333333333333,
             "#9c179e"
            ],
            [
             0.4444444444444444,
             "#bd3786"
            ],
            [
             0.5555555555555556,
             "#d8576b"
            ],
            [
             0.6666666666666666,
             "#ed7953"
            ],
            [
             0.7777777777777778,
             "#fb9f3a"
            ],
            [
             0.8888888888888888,
             "#fdca26"
            ],
            [
             1,
             "#f0f921"
            ]
           ],
           "sequentialminus": [
            [
             0,
             "#0d0887"
            ],
            [
             0.1111111111111111,
             "#46039f"
            ],
            [
             0.2222222222222222,
             "#7201a8"
            ],
            [
             0.3333333333333333,
             "#9c179e"
            ],
            [
             0.4444444444444444,
             "#bd3786"
            ],
            [
             0.5555555555555556,
             "#d8576b"
            ],
            [
             0.6666666666666666,
             "#ed7953"
            ],
            [
             0.7777777777777778,
             "#fb9f3a"
            ],
            [
             0.8888888888888888,
             "#fdca26"
            ],
            [
             1,
             "#f0f921"
            ]
           ]
          },
          "colorway": [
           "#636efa",
           "#EF553B",
           "#00cc96",
           "#ab63fa",
           "#FFA15A",
           "#19d3f3",
           "#FF6692",
           "#B6E880",
           "#FF97FF",
           "#FECB52"
          ],
          "font": {
           "color": "#2a3f5f"
          },
          "geo": {
           "bgcolor": "white",
           "lakecolor": "white",
           "landcolor": "white",
           "showlakes": true,
           "showland": true,
           "subunitcolor": "#C8D4E3"
          },
          "hoverlabel": {
           "align": "left"
          },
          "hovermode": "closest",
          "mapbox": {
           "style": "light"
          },
          "paper_bgcolor": "white",
          "plot_bgcolor": "white",
          "polar": {
           "angularaxis": {
            "gridcolor": "#EBF0F8",
            "linecolor": "#EBF0F8",
            "ticks": ""
           },
           "bgcolor": "white",
           "radialaxis": {
            "gridcolor": "#EBF0F8",
            "linecolor": "#EBF0F8",
            "ticks": ""
           }
          },
          "scene": {
           "xaxis": {
            "backgroundcolor": "white",
            "gridcolor": "#DFE8F3",
            "gridwidth": 2,
            "linecolor": "#EBF0F8",
            "showbackground": true,
            "ticks": "",
            "zerolinecolor": "#EBF0F8"
           },
           "yaxis": {
            "backgroundcolor": "white",
            "gridcolor": "#DFE8F3",
            "gridwidth": 2,
            "linecolor": "#EBF0F8",
            "showbackground": true,
            "ticks": "",
            "zerolinecolor": "#EBF0F8"
           },
           "zaxis": {
            "backgroundcolor": "white",
            "gridcolor": "#DFE8F3",
            "gridwidth": 2,
            "linecolor": "#EBF0F8",
            "showbackground": true,
            "ticks": "",
            "zerolinecolor": "#EBF0F8"
           }
          },
          "shapedefaults": {
           "line": {
            "color": "#2a3f5f"
           }
          },
          "ternary": {
           "aaxis": {
            "gridcolor": "#DFE8F3",
            "linecolor": "#A2B1C6",
            "ticks": ""
           },
           "baxis": {
            "gridcolor": "#DFE8F3",
            "linecolor": "#A2B1C6",
            "ticks": ""
           },
           "bgcolor": "white",
           "caxis": {
            "gridcolor": "#DFE8F3",
            "linecolor": "#A2B1C6",
            "ticks": ""
           }
          },
          "title": {
           "x": 0.05
          },
          "xaxis": {
           "automargin": true,
           "gridcolor": "#EBF0F8",
           "linecolor": "#EBF0F8",
           "ticks": "",
           "title": {
            "standoff": 15
           },
           "zerolinecolor": "#EBF0F8",
           "zerolinewidth": 2
          },
          "yaxis": {
           "automargin": true,
           "gridcolor": "#EBF0F8",
           "linecolor": "#EBF0F8",
           "ticks": "",
           "title": {
            "standoff": 15
           },
           "zerolinecolor": "#EBF0F8",
           "zerolinewidth": 2
          }
         }
        },
        "title": {
         "text": "Actual vs Predicted Prices"
        },
        "xaxis": {
         "anchor": "y",
         "domain": [
          0,
          1
         ],
         "title": {
          "text": "Actual BTC Price"
         }
        },
        "yaxis": {
         "anchor": "x",
         "domain": [
          0,
          1
         ],
         "title": {
          "text": "Predicted BTC Price"
         }
        }
       }
      }
     },
     "metadata": {},
     "output_type": "display_data"
    }
   ],
   "source": [
    "import plotly.express as px\n",
    "\n",
    "fig = px.scatter(\n",
    "    results,\n",
    "    x='Actual',\n",
    "    y='Predicted',\n",
    "    title='Actual vs Predicted Prices',\n",
    "    labels={'Actual': 'Actual BTC Price', 'Predicted': 'Predicted BTC Price'},\n",
    "    trendline='ols',\n",
    "    template='plotly_white'\n",
    ")\n",
    "\n",
    "fig.show()\n",
    "fig.write_image(\"assets/ActualVsPredicted.png\")\n"
   ]
  },
  {
   "cell_type": "code",
   "execution_count": 41,
   "id": "975d59b7",
   "metadata": {},
   "outputs": [],
   "source": [
    "# Align predictions back to the original index\n",
    "data.loc[results.index, 'Predicted'] = results['Predicted'].values"
   ]
  },
  {
   "cell_type": "code",
   "execution_count": 42,
   "id": "44c3b171",
   "metadata": {},
   "outputs": [
    {
     "data": {
      "text/plain": [
       "3545"
      ]
     },
     "execution_count": 42,
     "metadata": {},
     "output_type": "execute_result"
    }
   ],
   "source": [
    "data.to_sql(\"BTC_ModelOutput\", con=engine, if_exists=\"replace\", index=False)\n"
   ]
  }
 ],
 "metadata": {
  "kernelspec": {
   "display_name": "Python 3",
   "language": "python",
   "name": "python3"
  },
  "language_info": {
   "codemirror_mode": {
    "name": "ipython",
    "version": 3
   },
   "file_extension": ".py",
   "mimetype": "text/x-python",
   "name": "python",
   "nbconvert_exporter": "python",
   "pygments_lexer": "ipython3",
   "version": "3.11.9"
  }
 },
 "nbformat": 4,
 "nbformat_minor": 5
}
