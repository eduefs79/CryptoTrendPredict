{
 "cells": [
  {
   "cell_type": "code",
   "execution_count": 60,
   "id": "e47e4a3e-d4dd-421c-bb9d-458fcef5d3d3",
   "metadata": {},
   "outputs": [],
   "source": [
    "#pip install snowflake-connector-python sqlalchemy pandas matplotlib ta yfinance pymysql snowflake-sqlalchemy python-dotenv cryptography simplejson pandas_datareader  "
   ]
  },
  {
   "cell_type": "code",
   "execution_count": 61,
   "id": "08cec358",
   "metadata": {},
   "outputs": [],
   "source": [
    "#pip install pyqt5  plotly"
   ]
  },
  {
   "cell_type": "code",
   "execution_count": 62,
   "id": "7f1db9ea-992b-4b03-af1d-c8a6922cf06b",
   "metadata": {},
   "outputs": [],
   "source": [
    "import numpy as np\n",
    "import matplotlib.pyplot as plt\n",
    "import pandas as pd\n",
    "import json\n",
    "from datetime import datetime,timedelta\n",
    "import requests\n",
    "import ta"
   ]
  },
  {
   "cell_type": "code",
   "execution_count": 63,
   "id": "0f10b363",
   "metadata": {},
   "outputs": [
    {
     "data": {
      "text/plain": [
       "True"
      ]
     },
     "execution_count": 63,
     "metadata": {},
     "output_type": "execute_result"
    }
   ],
   "source": [
    "import os\n",
    "from dotenv import load_dotenv\n",
    "\n",
    "load_dotenv()"
   ]
  },
  {
   "cell_type": "code",
   "execution_count": 64,
   "id": "438709e3",
   "metadata": {},
   "outputs": [
    {
     "name": "stdout",
     "output_type": "stream",
     "text": [
      "✅ Snowflake connected: ('CRYPTO_USER', 'CRYPTO_ROLE', datetime.datetime(2025, 4, 2, 23, 29, 14, 867000, tzinfo=<DstTzInfo 'America/Los_Angeles' PDT-1 day, 17:00:00 DST>))\n"
     ]
    }
   ],
   "source": [
    "import base64\n",
    "from cryptography.hazmat.primitives import serialization\n",
    "from cryptography.hazmat.backends import default_backend\n",
    "from snowflake.sqlalchemy import URL\n",
    "from sqlalchemy import create_engine\n",
    "import os\n",
    "from dotenv import load_dotenv\n",
    "from sqlalchemy import text\n",
    "\n",
    "load_dotenv()\n",
    "\n",
    "with open(os.getenv(\"PRIVATE_KEY_PATH\"), \"rb\") as key_file:\n",
    "    private_key = serialization.load_pem_private_key(\n",
    "        key_file.read(),\n",
    "        password=None,\n",
    "        backend=default_backend()\n",
    "    )\n",
    "\n",
    "private_key_pkcs8 = base64.b64encode(\n",
    "    private_key.private_bytes(\n",
    "        encoding=serialization.Encoding.DER,\n",
    "        format=serialization.PrivateFormat.PKCS8,\n",
    "        encryption_algorithm=serialization.NoEncryption()\n",
    "    )\n",
    ").decode(\"utf-8\")  # ✅ base64 string, not bytes!\n",
    "\n",
    "engine = create_engine(URL(\n",
    "    account=os.getenv(\"SNOWFLAKE_ACCOUNT\"),\n",
    "    user=os.getenv(\"SNOWFLAKE_USER\"),\n",
    "    private_key=private_key_pkcs8,\n",
    "    warehouse=os.getenv(\"SNOWFLAKE_WAREHOUSE\"),\n",
    "    database=os.getenv(\"SNOWFLAKE_DATABASE\"),\n",
    "    schema=os.getenv(\"SNOWFLAKE_SCHEMA\"),\n",
    "    role=os.getenv(\"SNOWFLAKE_ROLE\")\n",
    "))\n",
    "\n",
    "with engine.connect() as conn:\n",
    "    result = conn.execute(text(\"SELECT CURRENT_USER(), CURRENT_ROLE(), CURRENT_TIMESTAMP();\"))\n",
    "    for row in result:\n",
    "        print(\"✅ Snowflake connected:\", row)\n"
   ]
  },
  {
   "cell_type": "code",
   "execution_count": 65,
   "id": "3621ade1-c87b-4e89-b0dc-5425cf3a8d0f",
   "metadata": {},
   "outputs": [],
   "source": [
    "from datetime import datetime\n",
    "\n",
    "def convert_to_date(date_string, date_format=\"%Y-%m-%d\"):\n",
    "    \"\"\"\n",
    "    Converts a date string to a datetime object.\n",
    "    \n",
    "    Args:\n",
    "        date_string (str): The date as a string.\n",
    "        date_format (str): The format of the date string (default is '%Y-%m-%d').\n",
    "    \n",
    "    Returns:\n",
    "        datetime: A datetime object representing the date, or None if conversion fails.\n",
    "    \"\"\"\n",
    "    try:\n",
    "        return datetime.strptime(date_string, date_format)\n",
    "    except ValueError:\n",
    "        print(f\"Error: '{date_string}' does not match the format '{date_format}'\")\n",
    "        return None\n",
    "\n"
   ]
  },
  {
   "cell_type": "code",
   "execution_count": 66,
   "id": "25134501",
   "metadata": {},
   "outputs": [],
   "source": [
    "import time\n",
    "\n",
    "def fetch_btc_from_coinbase(granularity=86400, limit_days=300):\n",
    "    \"\"\"\n",
    "    Fetch historical daily candles from Coinbase (granularity = 86400 seconds = 1 day).\n",
    "    Coinbase limits each call to 300 candles, so this fetches as many chunks as needed.\n",
    "    \"\"\"\n",
    "    url = \"https://api.exchange.coinbase.com/products/BTC-USD/candles\"\n",
    "    all_data = []\n",
    "    end_time = pd.Timestamp.utcnow()\n",
    "\n",
    "    print(\"Fetching BTC-USD candles from Coinbase...\")\n",
    "\n",
    "    for _ in range((limit_days // 300) + 1):\n",
    "        start_time = end_time - pd.Timedelta(days=300)\n",
    "\n",
    "        params = {\n",
    "            \"start\": start_time.isoformat(),\n",
    "            \"end\": end_time.isoformat(),\n",
    "            \"granularity\": granularity\n",
    "        }\n",
    "\n",
    "        r = requests.get(url, params=params)\n",
    "        r.raise_for_status()\n",
    "        chunk = r.json()\n",
    "\n",
    "        all_data.extend(chunk)\n",
    "        end_time = start_time\n",
    "        time.sleep(1)  # avoid rate limit\n",
    "\n",
    "    # Convert to DataFrame\n",
    "    df = pd.DataFrame(all_data, columns=[\"timestamp\", \"low\", \"high\", \"open\", \"close\", \"volume\"])\n",
    "    df[\"Date\"] = pd.to_datetime(df[\"timestamp\"], unit=\"s\")\n",
    "    df = df[[\"Date\", \"open\", \"high\", \"low\", \"close\", \"volume\"]]\n",
    "    df.columns = [\"Date\", \"Open\", \"High\", \"Low\", \"Close\", \"Volume\"]\n",
    "    df.sort_values(\"Date\", inplace=True)\n",
    "\n",
    "    print(f\"Fetched {len(df)} daily rows of BTC-USD data.\")\n",
    "    return df.reset_index(drop=True)\n"
   ]
  },
  {
   "cell_type": "code",
   "execution_count": 67,
   "id": "6cc37714",
   "metadata": {},
   "outputs": [
    {
     "name": "stdout",
     "output_type": "stream",
     "text": [
      "Fetching BTC-USD candles from Coinbase...\n",
      "Fetched 3546 daily rows of BTC-USD data.\n"
     ]
    },
    {
     "data": {
      "text/html": [
       "<div>\n",
       "<style scoped>\n",
       "    .dataframe tbody tr th:only-of-type {\n",
       "        vertical-align: middle;\n",
       "    }\n",
       "\n",
       "    .dataframe tbody tr th {\n",
       "        vertical-align: top;\n",
       "    }\n",
       "\n",
       "    .dataframe thead th {\n",
       "        text-align: right;\n",
       "    }\n",
       "</style>\n",
       "<table border=\"1\" class=\"dataframe\">\n",
       "  <thead>\n",
       "    <tr style=\"text-align: right;\">\n",
       "      <th></th>\n",
       "      <th>Date</th>\n",
       "      <th>Open</th>\n",
       "      <th>High</th>\n",
       "      <th>Low</th>\n",
       "      <th>Close</th>\n",
       "      <th>Volume</th>\n",
       "    </tr>\n",
       "  </thead>\n",
       "  <tbody>\n",
       "    <tr>\n",
       "      <th>0</th>\n",
       "      <td>2015-07-20</td>\n",
       "      <td>277.98</td>\n",
       "      <td>280.00</td>\n",
       "      <td>277.37</td>\n",
       "      <td>280.00</td>\n",
       "      <td>782.883420</td>\n",
       "    </tr>\n",
       "    <tr>\n",
       "      <th>1</th>\n",
       "      <td>2015-07-21</td>\n",
       "      <td>279.96</td>\n",
       "      <td>281.27</td>\n",
       "      <td>276.85</td>\n",
       "      <td>277.32</td>\n",
       "      <td>4943.559434</td>\n",
       "    </tr>\n",
       "    <tr>\n",
       "      <th>2</th>\n",
       "      <td>2015-07-22</td>\n",
       "      <td>277.33</td>\n",
       "      <td>278.54</td>\n",
       "      <td>275.01</td>\n",
       "      <td>277.89</td>\n",
       "      <td>4687.909383</td>\n",
       "    </tr>\n",
       "    <tr>\n",
       "      <th>3</th>\n",
       "      <td>2015-07-23</td>\n",
       "      <td>277.96</td>\n",
       "      <td>279.75</td>\n",
       "      <td>276.28</td>\n",
       "      <td>277.39</td>\n",
       "      <td>5306.919575</td>\n",
       "    </tr>\n",
       "    <tr>\n",
       "      <th>4</th>\n",
       "      <td>2015-07-24</td>\n",
       "      <td>277.23</td>\n",
       "      <td>291.52</td>\n",
       "      <td>276.43</td>\n",
       "      <td>289.12</td>\n",
       "      <td>7362.469083</td>\n",
       "    </tr>\n",
       "  </tbody>\n",
       "</table>\n",
       "</div>"
      ],
      "text/plain": [
       "        Date    Open    High     Low   Close       Volume\n",
       "0 2015-07-20  277.98  280.00  277.37  280.00   782.883420\n",
       "1 2015-07-21  279.96  281.27  276.85  277.32  4943.559434\n",
       "2 2015-07-22  277.33  278.54  275.01  277.89  4687.909383\n",
       "3 2015-07-23  277.96  279.75  276.28  277.39  5306.919575\n",
       "4 2015-07-24  277.23  291.52  276.43  289.12  7362.469083"
      ]
     },
     "execution_count": 67,
     "metadata": {},
     "output_type": "execute_result"
    }
   ],
   "source": [
    "btc_df = fetch_btc_from_coinbase(limit_days=4000) \n",
    "btc_df.head()\n"
   ]
  },
  {
   "cell_type": "code",
   "execution_count": 68,
   "id": "57b1294f",
   "metadata": {},
   "outputs": [],
   "source": [
    "with engine.connect() as conn:\n",
    "    conn.execute(text(\"DROP TABLE IF EXISTS CRYPTODB.PUBLIC.btcusd\"))"
   ]
  },
  {
   "cell_type": "code",
   "execution_count": 69,
   "id": "43ee379b-10c4-419b-952b-cd3cdf43077d",
   "metadata": {},
   "outputs": [
    {
     "data": {
      "text/plain": [
       "3546"
      ]
     },
     "execution_count": 69,
     "metadata": {},
     "output_type": "execute_result"
    }
   ],
   "source": [
    "from sqlalchemy.types import String, Float, DateTime\n",
    "\n",
    "btc_df.to_sql(\n",
    "    'btcusd',\n",
    "    con=engine,\n",
    "    if_exists='replace',\n",
    "    index=False,\n",
    "    dtype={\n",
    "        \"Date\": DateTime(),\n",
    "        \"Open\": Float(),\n",
    "        \"High\": Float(),\n",
    "        \"Low\": Float(),\n",
    "        \"Close\": Float(),\n",
    "        \"Volume\": Float(),  # or String() if some values are missing\n",
    "    }\n",
    ")\n"
   ]
  },
  {
   "cell_type": "code",
   "execution_count": 70,
   "id": "a86b1279-d749-4444-88e9-76bc5701245f",
   "metadata": {},
   "outputs": [
    {
     "name": "stderr",
     "output_type": "stream",
     "text": [
      "C:\\Users\\edufs\\AppData\\Local\\Temp\\ipykernel_14464\\3101141023.py:14: FutureWarning:\n",
      "\n",
      "The behavior of 'to_datetime' with 'unit' when parsing strings is deprecated. In a future version, strings will be parsed as datetime strings, matching the behavior without a 'unit'. To retain the old behavior, explicitly cast ints or floats to numeric type before calling to_datetime.\n",
      "\n"
     ]
    }
   ],
   "source": [
    "from sqlalchemy import text\n",
    "from sqlalchemy.types import Integer, String, Float, DateTime\n",
    "\n",
    "# Fetch data from Fear & Greed Index API\n",
    "url = 'https://api.alternative.me/fng/?limit=0'\n",
    "response = requests.get(url)\n",
    "response.raise_for_status()\n",
    "data = response.json()['data']\n",
    "\n",
    "# Convert to DataFrame\n",
    "df = pd.DataFrame(data)\n",
    "\n",
    "# Convert 'timestamp' to UTC and then remove timezone info\n",
    "df['timestamp'] = pd.to_datetime(df['timestamp'], unit='s', utc=True)\n",
    "df['timestamp'] = df['timestamp'].dt.tz_localize(None)\n",
    "\n",
    "\n",
    "\n",
    "df['value'] = pd.to_numeric(df['value'])\n",
    "\n",
    "\n",
    "# Drop unneeded columns\n",
    "df.drop(columns=['time_until_update','value_classification'], inplace=True)\n",
    "\n",
    "with engine.connect() as conn:\n",
    "    conn.execute(text('DROP TABLE IF EXISTS feargreedindex'))\n",
    "\n",
    "\n",
    "\n",
    "\n"
   ]
  },
  {
   "cell_type": "code",
   "execution_count": 71,
   "id": "ca2bbf0c",
   "metadata": {},
   "outputs": [
    {
     "name": "stdout",
     "output_type": "stream",
     "text": [
      "✅ FearGreedIndex table successfully written to Snowflake.\n"
     ]
    }
   ],
   "source": [
    "df.to_sql(\n",
    "    'feargreedindex',\n",
    "    con=engine,\n",
    "    if_exists='replace',\n",
    "    index=False,\n",
    "    dtype={\n",
    "        \"value\": Float(),\n",
    "        \"timestamp\": DateTime()\n",
    "    }   \n",
    "    \n",
    ")\n",
    "\n",
    "print(\"✅ FearGreedIndex table successfully written to Snowflake.\")"
   ]
  },
  {
   "cell_type": "code",
   "execution_count": 72,
   "id": "fd390824-2efe-4168-8b8c-5fbc8e36cc85",
   "metadata": {},
   "outputs": [
    {
     "data": {
      "text/html": [
       "<div>\n",
       "<style scoped>\n",
       "    .dataframe tbody tr th:only-of-type {\n",
       "        vertical-align: middle;\n",
       "    }\n",
       "\n",
       "    .dataframe tbody tr th {\n",
       "        vertical-align: top;\n",
       "    }\n",
       "\n",
       "    .dataframe thead th {\n",
       "        text-align: right;\n",
       "    }\n",
       "</style>\n",
       "<table border=\"1\" class=\"dataframe\">\n",
       "  <thead>\n",
       "    <tr style=\"text-align: right;\">\n",
       "      <th></th>\n",
       "      <th>Date</th>\n",
       "      <th>Open</th>\n",
       "      <th>High</th>\n",
       "      <th>Low</th>\n",
       "      <th>Close</th>\n",
       "      <th>Volume</th>\n",
       "      <th>fgi</th>\n",
       "    </tr>\n",
       "  </thead>\n",
       "  <tbody>\n",
       "    <tr>\n",
       "      <th>0</th>\n",
       "      <td>2015-07-20</td>\n",
       "      <td>277.98</td>\n",
       "      <td>280.00</td>\n",
       "      <td>277.37</td>\n",
       "      <td>280.00</td>\n",
       "      <td>782.883420</td>\n",
       "      <td>NaN</td>\n",
       "    </tr>\n",
       "    <tr>\n",
       "      <th>1</th>\n",
       "      <td>2015-07-21</td>\n",
       "      <td>279.96</td>\n",
       "      <td>281.27</td>\n",
       "      <td>276.85</td>\n",
       "      <td>277.32</td>\n",
       "      <td>4943.559434</td>\n",
       "      <td>NaN</td>\n",
       "    </tr>\n",
       "    <tr>\n",
       "      <th>2</th>\n",
       "      <td>2015-07-22</td>\n",
       "      <td>277.33</td>\n",
       "      <td>278.54</td>\n",
       "      <td>275.01</td>\n",
       "      <td>277.89</td>\n",
       "      <td>4687.909383</td>\n",
       "      <td>NaN</td>\n",
       "    </tr>\n",
       "    <tr>\n",
       "      <th>3</th>\n",
       "      <td>2015-07-23</td>\n",
       "      <td>277.96</td>\n",
       "      <td>279.75</td>\n",
       "      <td>276.28</td>\n",
       "      <td>277.39</td>\n",
       "      <td>5306.919575</td>\n",
       "      <td>NaN</td>\n",
       "    </tr>\n",
       "    <tr>\n",
       "      <th>4</th>\n",
       "      <td>2015-07-24</td>\n",
       "      <td>277.23</td>\n",
       "      <td>291.52</td>\n",
       "      <td>276.43</td>\n",
       "      <td>289.12</td>\n",
       "      <td>7362.469083</td>\n",
       "      <td>NaN</td>\n",
       "    </tr>\n",
       "  </tbody>\n",
       "</table>\n",
       "</div>"
      ],
      "text/plain": [
       "        Date    Open    High     Low   Close       Volume  fgi\n",
       "0 2015-07-20  277.98  280.00  277.37  280.00   782.883420  NaN\n",
       "1 2015-07-21  279.96  281.27  276.85  277.32  4943.559434  NaN\n",
       "2 2015-07-22  277.33  278.54  275.01  277.89  4687.909383  NaN\n",
       "3 2015-07-23  277.96  279.75  276.28  277.39  5306.919575  NaN\n",
       "4 2015-07-24  277.23  291.52  276.43  289.12  7362.469083  NaN"
      ]
     },
     "execution_count": 72,
     "metadata": {},
     "output_type": "execute_result"
    }
   ],
   "source": [
    "query = \"\"\"\n",
    "SELECT \"Date\", \"Open\", \"High\", \"Low\", \"Close\", \"Volume\" , cast(fgi.value AS Integer) as Fgi\n",
    "FROM CRYPTODB.PUBLIC.BTCUSD btc\n",
    "LEFT JOIN CRYPTODB.PUBLIC.FEARGREEDINDEX fgi\n",
    "ON btc.\"Date\" = fgi.timestamp\n",
    "Order by 1 \n",
    "\"\"\"\n",
    "\n",
    "data = pd.read_sql(query,con=engine)\n",
    "data.head()"
   ]
  },
  {
   "cell_type": "code",
   "execution_count": 73,
   "id": "b5536e7d-b5be-4de2-8008-c227abe8b3ec",
   "metadata": {},
   "outputs": [
    {
     "name": "stderr",
     "output_type": "stream",
     "text": [
      "C:\\Users\\edufs\\AppData\\Local\\Temp\\ipykernel_14464\\3904962655.py:5: FutureWarning:\n",
      "\n",
      "A value is trying to be set on a copy of a DataFrame or Series through chained assignment using an inplace method.\n",
      "The behavior will change in pandas 3.0. This inplace method will never work because the intermediate object on which we are setting values always behaves as a copy.\n",
      "\n",
      "For example, when doing 'df[col].method(value, inplace=True)', try using 'df.method({col: value}, inplace=True)' or df[col] = df[col].method(value) instead, to perform the operation inplace on the original object.\n",
      "\n",
      "\n",
      "\n"
     ]
    }
   ],
   "source": [
    "# Calculate the average of the FGI column, excluding NaN values\n",
    "fg_average = data['fgi'].mean()\n",
    "\n",
    "# Fill NaN values in the FGI column with the calculated average\n",
    "data['fgi'].fillna(fg_average, inplace=True)"
   ]
  },
  {
   "cell_type": "code",
   "execution_count": 74,
   "id": "6560449d-4060-4430-b7f4-6a1c2cf84a0e",
   "metadata": {},
   "outputs": [],
   "source": [
    "#https://www.investopedia.com/terms/m/macd.asp\n",
    "#macd_object = ta.trend.MACD(data['close'])\n",
    "macd_object = ta.trend.MACD(data['Close'], window_slow = 26, window_fast = 12, window_sign = 9, fillna= True)\n",
    "data['MACD'] = macd_object.macd()\n",
    "data['MACD_Signal'] = macd_object.macd_signal()\n",
    "data['MACD_Diff'] = macd_object.macd_diff()\n",
    "#data.tail()"
   ]
  },
  {
   "cell_type": "code",
   "execution_count": 75,
   "id": "09f70b4f-e403-451d-9e67-cf36ff45fdba",
   "metadata": {},
   "outputs": [],
   "source": [
    "#https://www.investopedia.com/terms/m/mfi.asp\n",
    "mfi_indicator = ta.volume.MFIIndicator(high=data['High'], low=data['Low'], close=data['Close'], volume=data['Volume'], window=14)\n",
    "data['mfi'] = mfi_indicator.money_flow_index()"
   ]
  },
  {
   "cell_type": "code",
   "execution_count": 76,
   "id": "5aad93b0-9ffd-4047-a6e6-1faf6db69d3b",
   "metadata": {},
   "outputs": [],
   "source": [
    "# RSI\n",
    "rsi = ta.momentum.rsi(data['Close'], window=14, fillna=True)\n",
    "data['RSI'] = rsi"
   ]
  },
  {
   "cell_type": "code",
   "execution_count": 77,
   "id": "b6d6f094-01d4-4ac9-8553-50c51036afa7",
   "metadata": {},
   "outputs": [],
   "source": [
    "# EMA\n",
    "ema_short = ta.trend.EMAIndicator(data['Close'], window=12, fillna=True)\n",
    "ema_long = ta.trend.EMAIndicator(data['Close'], window=26, fillna=True)\n",
    "data['EMA_Short'] = ema_short.ema_indicator()\n",
    "data['EMA_Long'] = ema_long.ema_indicator()"
   ]
  },
  {
   "cell_type": "code",
   "execution_count": 78,
   "id": "ae344ddb-1c91-4179-895b-21d91f8ac9a2",
   "metadata": {},
   "outputs": [],
   "source": [
    "# Bollinger Bands\n",
    "bollinger = ta.volatility.BollingerBands(data['Close'], window=20, window_dev=2, fillna=True)\n",
    "data['Bollinger_Upper'] = bollinger.bollinger_hband()\n",
    "data['Bollinger_Lower'] = bollinger.bollinger_lband()\n",
    "data['Bollinger_Middle'] = bollinger.bollinger_mavg()"
   ]
  },
  {
   "cell_type": "code",
   "execution_count": 79,
   "id": "49b91148-d15e-4e00-8d89-0c1545cfb970",
   "metadata": {},
   "outputs": [],
   "source": [
    "# Stochastic Oscillator\n",
    "stoch = ta.momentum.StochasticOscillator(data['High'], data['Low'], data['Close'], window=14, smooth_window=3, fillna=True)\n",
    "data['Stochastic'] = stoch.stoch()\n",
    "data['Stochastic_Signal'] = stoch.stoch_signal()"
   ]
  },
  {
   "cell_type": "code",
   "execution_count": 80,
   "id": "fe1daf30-3b21-4799-86da-af35952b4413",
   "metadata": {},
   "outputs": [],
   "source": [
    "# ATR\n",
    "atr = ta.volatility.AverageTrueRange(data['High'], data['Low'], data['Close'], window=14, fillna=True)\n",
    "data['ATR'] = atr.average_true_range()"
   ]
  },
  {
   "cell_type": "code",
   "execution_count": 81,
   "id": "403f1e49-9637-4616-8956-721b9369596b",
   "metadata": {},
   "outputs": [],
   "source": [
    "# Parabolic SAR\n",
    "sar = ta.trend.PSARIndicator(data['High'], data['Low'], data['Close'], fillna=True)\n",
    "data['SAR'] = sar.psar()"
   ]
  },
  {
   "cell_type": "code",
   "execution_count": 82,
   "id": "38249fea-31b5-4d52-9320-d539534346de",
   "metadata": {},
   "outputs": [],
   "source": [
    "from sklearn.preprocessing import StandardScaler\n",
    "from sklearn.model_selection import train_test_split\n",
    "from sklearn.linear_model import LinearRegression\n",
    "from sklearn.metrics import mean_absolute_error, mean_squared_error, r2_score\n",
    "\n",
    "# Prepare the data (assuming 'data' is already pre-processed with features)\n",
    "data['Date'] = pd.to_datetime(data['Date'], utc=True)\n",
    "data['Target'] = data['Close'].shift(-1)\n",
    "data['Return'] = data['Close'].pct_change().fillna(0)\n",
    "data['Volatility'] = data['Return'].rolling(window=7).std().fillna(0)\n",
    "data['Volatility_x_Return'] = data['Volatility'] * data['Return']\n",
    "\n",
    "data = data.dropna(subset=['Target'])\n",
    "\n",
    "# Select features (excluding 'Date')\n",
    "features = [\n",
    "     'Bollinger_Upper', 'Bollinger_Lower', 'Bollinger_Middle','fgi', 'Close','Return','Volatility','Volatility_x_Return'\n",
    "]\n",
    "\n",
    "X = data[features]\n",
    "y = data['Target']"
   ]
  },
  {
   "cell_type": "code",
   "execution_count": 83,
   "id": "fe107683-4e1e-4f70-9ae9-378a272549c2",
   "metadata": {},
   "outputs": [],
   "source": [
    "# Split the data into training and testing sets (80% train, 20% test)\n",
    "X_train, X_test, y_train, y_test = train_test_split(X, y, test_size=0.2, shuffle=False)"
   ]
  },
  {
   "cell_type": "code",
   "execution_count": 84,
   "id": "1ff12fe6-6ff6-4928-b193-f1f64ef830ef",
   "metadata": {},
   "outputs": [],
   "source": [
    "# Standardize the features\n",
    "scaler = StandardScaler()\n",
    "scaler.fit(X_train)  # Or your main feature training data\n",
    "\n",
    "# Then scale:\n",
    "x_train_scaled = scaler.transform(X_train)\n",
    "x_test_scaled = scaler.transform(X_test)\n",
    "\n",
    "\n",
    "# Train the model\n",
    "model = LinearRegression()\n",
    "model.fit(x_train_scaled, y_train)\n",
    "\n",
    "# Make predictions on the test data\n",
    "y_pred = model.predict(x_test_scaled)"
   ]
  },
  {
   "cell_type": "code",
   "execution_count": null,
   "id": "1b652149-ee7c-4e5b-b07f-66c8d9c57100",
   "metadata": {},
   "outputs": [
    {
     "name": "stdout",
     "output_type": "stream",
     "text": [
      "R-squared: 0.9952814900462568\n",
      "MAE: 1079.24\n",
      "RMSE: 1652.89\n",
      "Predicted next closing price: 82151.53401667508\n"
     ]
    },
    {
     "name": "stderr",
     "output_type": "stream",
     "text": [
      "C:\\Users\\edufs\\AppData\\Local\\Packages\\PythonSoftwareFoundation.Python.3.11_qbz5n2kfra8p0\\LocalCache\\local-packages\\Python311\\site-packages\\sklearn\\metrics\\_regression.py:492: FutureWarning:\n",
      "\n",
      "'squared' is deprecated in version 1.4 and will be removed in 1.6. To calculate the root mean squared error, use the function'root_mean_squared_error'.\n",
      "\n"
     ]
    }
   ],
   "source": [
    "\n",
    "\n",
    "\n",
    "# Make predictions for the next closing price\n",
    "# Use the last row from X_test (or any new data)\n",
    "latest_data = X_test.iloc[-1:]  # Keep it as a DataFrame (not numpy array)\n",
    "\n",
    "# Apply the same scaling to the latest data\n",
    "latest_data_scaled = scaler.transform(latest_data)  # The feature names are kept\n",
    "\n",
    "# Make prediction for the next closing price\n",
    "next_close_pred = model.predict(latest_data_scaled)\n",
    "print(f\"Predicted next closing price: {next_close_pred[0]}\")"
   ]
  },
  {
   "cell_type": "code",
   "execution_count": 86,
   "id": "fa5656a3-5aad-4898-be4c-feaba7e7bbf2",
   "metadata": {},
   "outputs": [
    {
     "name": "stdout",
     "output_type": "stream",
     "text": [
      "Final equation for predicting the next closing price:\n",
      "Predicted next closing price = 14668.01 + (338.79) * Bollinger_Upper + (-265.68) * Bollinger_Lower + (74.04) * Bollinger_Middle + (42.27) * fgi + (16102.62) * Close + (34.25) * Return + (-14.92) * Volatility + (-56.67) * Volatility_x_Return\n"
     ]
    }
   ],
   "source": [
    "# Extract the coefficients and the intercept\n",
    "coefficients = model.coef_\n",
    "intercept = model.intercept_\n",
    "\n",
    "# Create a dictionary mapping feature names to their corresponding coefficients\n",
    "feature_names = X.columns\n",
    "equation = f\"Predicted next closing price = {intercept:.2f}\"\n",
    "\n",
    "# Add each feature and its coefficient to the equation\n",
    "for feature, coef in zip(feature_names, coefficients):\n",
    "    equation += f\" + ({coef:.2f}) * {feature}\"\n",
    "\n",
    "# Display the equation\n",
    "print(\"Final equation for predicting the next closing price:\")\n",
    "print(equation)\n"
   ]
  },
  {
   "cell_type": "code",
   "execution_count": 87,
   "id": "a696a450-b367-42d0-bd29-aee107e6ee0c",
   "metadata": {},
   "outputs": [
    {
     "data": {
      "application/vnd.plotly.v1+json": {
       "config": {
        "plotlyServerURL": "https://plot.ly"
       },
       "data": [
        {
         "line": {
          "color": "blue"
         },
         "mode": "lines",
         "name": "Actual Closing Price",
         "type": "scatter",
         "x": [
          "2023-04-25T00:00:00.000000000",
          "2023-04-26T00:00:00.000000000",
          "2023-04-27T00:00:00.000000000",
          "2023-04-28T00:00:00.000000000",
          "2023-04-29T00:00:00.000000000",
          "2023-04-30T00:00:00.000000000",
          "2023-05-01T00:00:00.000000000",
          "2023-05-02T00:00:00.000000000",
          "2023-05-03T00:00:00.000000000",
          "2023-05-04T00:00:00.000000000",
          "2023-05-05T00:00:00.000000000",
          "2023-05-06T00:00:00.000000000",
          "2023-05-07T00:00:00.000000000",
          "2023-05-08T00:00:00.000000000",
          "2023-05-09T00:00:00.000000000",
          "2023-05-10T00:00:00.000000000",
          "2023-05-11T00:00:00.000000000",
          "2023-05-12T00:00:00.000000000",
          "2023-05-13T00:00:00.000000000",
          "2023-05-14T00:00:00.000000000",
          "2023-05-15T00:00:00.000000000",
          "2023-05-16T00:00:00.000000000",
          "2023-05-17T00:00:00.000000000",
          "2023-05-18T00:00:00.000000000",
          "2023-05-19T00:00:00.000000000",
          "2023-05-20T00:00:00.000000000",
          "2023-05-21T00:00:00.000000000",
          "2023-05-22T00:00:00.000000000",
          "2023-05-23T00:00:00.000000000",
          "2023-05-24T00:00:00.000000000",
          "2023-05-25T00:00:00.000000000",
          "2023-05-26T00:00:00.000000000",
          "2023-05-27T00:00:00.000000000",
          "2023-05-28T00:00:00.000000000",
          "2023-05-29T00:00:00.000000000",
          "2023-05-30T00:00:00.000000000",
          "2023-05-31T00:00:00.000000000",
          "2023-06-01T00:00:00.000000000",
          "2023-06-02T00:00:00.000000000",
          "2023-06-03T00:00:00.000000000",
          "2023-06-04T00:00:00.000000000",
          "2023-06-05T00:00:00.000000000",
          "2023-06-06T00:00:00.000000000",
          "2023-06-07T00:00:00.000000000",
          "2023-06-08T00:00:00.000000000",
          "2023-06-09T00:00:00.000000000",
          "2023-06-10T00:00:00.000000000",
          "2023-06-11T00:00:00.000000000",
          "2023-06-12T00:00:00.000000000",
          "2023-06-13T00:00:00.000000000",
          "2023-06-14T00:00:00.000000000",
          "2023-06-15T00:00:00.000000000",
          "2023-06-16T00:00:00.000000000",
          "2023-06-17T00:00:00.000000000",
          "2023-06-18T00:00:00.000000000",
          "2023-06-19T00:00:00.000000000",
          "2023-06-20T00:00:00.000000000",
          "2023-06-21T00:00:00.000000000",
          "2023-06-22T00:00:00.000000000",
          "2023-06-23T00:00:00.000000000",
          "2023-06-24T00:00:00.000000000",
          "2023-06-25T00:00:00.000000000",
          "2023-06-26T00:00:00.000000000",
          "2023-06-27T00:00:00.000000000",
          "2023-06-28T00:00:00.000000000",
          "2023-06-29T00:00:00.000000000",
          "2023-06-30T00:00:00.000000000",
          "2023-07-01T00:00:00.000000000",
          "2023-07-02T00:00:00.000000000",
          "2023-07-03T00:00:00.000000000",
          "2023-07-04T00:00:00.000000000",
          "2023-07-05T00:00:00.000000000",
          "2023-07-06T00:00:00.000000000",
          "2023-07-07T00:00:00.000000000",
          "2023-07-08T00:00:00.000000000",
          "2023-07-09T00:00:00.000000000",
          "2023-07-10T00:00:00.000000000",
          "2023-07-11T00:00:00.000000000",
          "2023-07-12T00:00:00.000000000",
          "2023-07-13T00:00:00.000000000",
          "2023-07-14T00:00:00.000000000",
          "2023-07-15T00:00:00.000000000",
          "2023-07-16T00:00:00.000000000",
          "2023-07-17T00:00:00.000000000",
          "2023-07-18T00:00:00.000000000",
          "2023-07-19T00:00:00.000000000",
          "2023-07-20T00:00:00.000000000",
          "2023-07-21T00:00:00.000000000",
          "2023-07-22T00:00:00.000000000",
          "2023-07-23T00:00:00.000000000",
          "2023-07-24T00:00:00.000000000",
          "2023-07-25T00:00:00.000000000",
          "2023-07-26T00:00:00.000000000",
          "2023-07-27T00:00:00.000000000",
          "2023-07-28T00:00:00.000000000",
          "2023-07-29T00:00:00.000000000",
          "2023-07-30T00:00:00.000000000",
          "2023-07-31T00:00:00.000000000",
          "2023-08-01T00:00:00.000000000",
          "2023-08-02T00:00:00.000000000",
          "2023-08-03T00:00:00.000000000",
          "2023-08-04T00:00:00.000000000",
          "2023-08-05T00:00:00.000000000",
          "2023-08-06T00:00:00.000000000",
          "2023-08-07T00:00:00.000000000",
          "2023-08-08T00:00:00.000000000",
          "2023-08-09T00:00:00.000000000",
          "2023-08-10T00:00:00.000000000",
          "2023-08-11T00:00:00.000000000",
          "2023-08-12T00:00:00.000000000",
          "2023-08-13T00:00:00.000000000",
          "2023-08-14T00:00:00.000000000",
          "2023-08-15T00:00:00.000000000",
          "2023-08-16T00:00:00.000000000",
          "2023-08-17T00:00:00.000000000",
          "2023-08-18T00:00:00.000000000",
          "2023-08-19T00:00:00.000000000",
          "2023-08-20T00:00:00.000000000",
          "2023-08-21T00:00:00.000000000",
          "2023-08-22T00:00:00.000000000",
          "2023-08-23T00:00:00.000000000",
          "2023-08-24T00:00:00.000000000",
          "2023-08-25T00:00:00.000000000",
          "2023-08-26T00:00:00.000000000",
          "2023-08-27T00:00:00.000000000",
          "2023-08-28T00:00:00.000000000",
          "2023-08-29T00:00:00.000000000",
          "2023-08-30T00:00:00.000000000",
          "2023-08-31T00:00:00.000000000",
          "2023-09-01T00:00:00.000000000",
          "2023-09-02T00:00:00.000000000",
          "2023-09-03T00:00:00.000000000",
          "2023-09-04T00:00:00.000000000",
          "2023-09-05T00:00:00.000000000",
          "2023-09-06T00:00:00.000000000",
          "2023-09-07T00:00:00.000000000",
          "2023-09-08T00:00:00.000000000",
          "2023-09-09T00:00:00.000000000",
          "2023-09-10T00:00:00.000000000",
          "2023-09-11T00:00:00.000000000",
          "2023-09-12T00:00:00.000000000",
          "2023-09-13T00:00:00.000000000",
          "2023-09-14T00:00:00.000000000",
          "2023-09-15T00:00:00.000000000",
          "2023-09-16T00:00:00.000000000",
          "2023-09-17T00:00:00.000000000",
          "2023-09-18T00:00:00.000000000",
          "2023-09-19T00:00:00.000000000",
          "2023-09-20T00:00:00.000000000",
          "2023-09-21T00:00:00.000000000",
          "2023-09-22T00:00:00.000000000",
          "2023-09-23T00:00:00.000000000",
          "2023-09-24T00:00:00.000000000",
          "2023-09-25T00:00:00.000000000",
          "2023-09-26T00:00:00.000000000",
          "2023-09-27T00:00:00.000000000",
          "2023-09-28T00:00:00.000000000",
          "2023-09-29T00:00:00.000000000",
          "2023-09-30T00:00:00.000000000",
          "2023-10-01T00:00:00.000000000",
          "2023-10-02T00:00:00.000000000",
          "2023-10-03T00:00:00.000000000",
          "2023-10-04T00:00:00.000000000",
          "2023-10-05T00:00:00.000000000",
          "2023-10-06T00:00:00.000000000",
          "2023-10-07T00:00:00.000000000",
          "2023-10-08T00:00:00.000000000",
          "2023-10-09T00:00:00.000000000",
          "2023-10-10T00:00:00.000000000",
          "2023-10-11T00:00:00.000000000",
          "2023-10-12T00:00:00.000000000",
          "2023-10-13T00:00:00.000000000",
          "2023-10-14T00:00:00.000000000",
          "2023-10-15T00:00:00.000000000",
          "2023-10-16T00:00:00.000000000",
          "2023-10-17T00:00:00.000000000",
          "2023-10-18T00:00:00.000000000",
          "2023-10-19T00:00:00.000000000",
          "2023-10-20T00:00:00.000000000",
          "2023-10-21T00:00:00.000000000",
          "2023-10-22T00:00:00.000000000",
          "2023-10-23T00:00:00.000000000",
          "2023-10-24T00:00:00.000000000",
          "2023-10-25T00:00:00.000000000",
          "2023-10-26T00:00:00.000000000",
          "2023-10-27T00:00:00.000000000",
          "2023-10-28T00:00:00.000000000",
          "2023-10-29T00:00:00.000000000",
          "2023-10-30T00:00:00.000000000",
          "2023-10-31T00:00:00.000000000",
          "2023-11-01T00:00:00.000000000",
          "2023-11-02T00:00:00.000000000",
          "2023-11-03T00:00:00.000000000",
          "2023-11-04T00:00:00.000000000",
          "2023-11-05T00:00:00.000000000",
          "2023-11-06T00:00:00.000000000",
          "2023-11-07T00:00:00.000000000",
          "2023-11-08T00:00:00.000000000",
          "2023-11-09T00:00:00.000000000",
          "2023-11-10T00:00:00.000000000",
          "2023-11-11T00:00:00.000000000",
          "2023-11-12T00:00:00.000000000",
          "2023-11-13T00:00:00.000000000",
          "2023-11-14T00:00:00.000000000",
          "2023-11-15T00:00:00.000000000",
          "2023-11-16T00:00:00.000000000",
          "2023-11-17T00:00:00.000000000",
          "2023-11-18T00:00:00.000000000",
          "2023-11-19T00:00:00.000000000",
          "2023-11-20T00:00:00.000000000",
          "2023-11-21T00:00:00.000000000",
          "2023-11-22T00:00:00.000000000",
          "2023-11-23T00:00:00.000000000",
          "2023-11-24T00:00:00.000000000",
          "2023-11-25T00:00:00.000000000",
          "2023-11-26T00:00:00.000000000",
          "2023-11-27T00:00:00.000000000",
          "2023-11-28T00:00:00.000000000",
          "2023-11-29T00:00:00.000000000",
          "2023-11-30T00:00:00.000000000",
          "2023-12-01T00:00:00.000000000",
          "2023-12-02T00:00:00.000000000",
          "2023-12-03T00:00:00.000000000",
          "2023-12-04T00:00:00.000000000",
          "2023-12-05T00:00:00.000000000",
          "2023-12-06T00:00:00.000000000",
          "2023-12-07T00:00:00.000000000",
          "2023-12-08T00:00:00.000000000",
          "2023-12-09T00:00:00.000000000",
          "2023-12-10T00:00:00.000000000",
          "2023-12-11T00:00:00.000000000",
          "2023-12-12T00:00:00.000000000",
          "2023-12-13T00:00:00.000000000",
          "2023-12-14T00:00:00.000000000",
          "2023-12-15T00:00:00.000000000",
          "2023-12-16T00:00:00.000000000",
          "2023-12-17T00:00:00.000000000",
          "2023-12-18T00:00:00.000000000",
          "2023-12-19T00:00:00.000000000",
          "2023-12-20T00:00:00.000000000",
          "2023-12-21T00:00:00.000000000",
          "2023-12-22T00:00:00.000000000",
          "2023-12-23T00:00:00.000000000",
          "2023-12-24T00:00:00.000000000",
          "2023-12-25T00:00:00.000000000",
          "2023-12-26T00:00:00.000000000",
          "2023-12-27T00:00:00.000000000",
          "2023-12-28T00:00:00.000000000",
          "2023-12-29T00:00:00.000000000",
          "2023-12-30T00:00:00.000000000",
          "2023-12-31T00:00:00.000000000",
          "2024-01-01T00:00:00.000000000",
          "2024-01-02T00:00:00.000000000",
          "2024-01-03T00:00:00.000000000",
          "2024-01-04T00:00:00.000000000",
          "2024-01-05T00:00:00.000000000",
          "2024-01-06T00:00:00.000000000",
          "2024-01-07T00:00:00.000000000",
          "2024-01-08T00:00:00.000000000",
          "2024-01-09T00:00:00.000000000",
          "2024-01-10T00:00:00.000000000",
          "2024-01-11T00:00:00.000000000",
          "2024-01-12T00:00:00.000000000",
          "2024-01-13T00:00:00.000000000",
          "2024-01-14T00:00:00.000000000",
          "2024-01-15T00:00:00.000000000",
          "2024-01-16T00:00:00.000000000",
          "2024-01-17T00:00:00.000000000",
          "2024-01-18T00:00:00.000000000",
          "2024-01-19T00:00:00.000000000",
          "2024-01-20T00:00:00.000000000",
          "2024-01-21T00:00:00.000000000",
          "2024-01-22T00:00:00.000000000",
          "2024-01-23T00:00:00.000000000",
          "2024-01-24T00:00:00.000000000",
          "2024-01-25T00:00:00.000000000",
          "2024-01-26T00:00:00.000000000",
          "2024-01-27T00:00:00.000000000",
          "2024-01-28T00:00:00.000000000",
          "2024-01-29T00:00:00.000000000",
          "2024-01-30T00:00:00.000000000",
          "2024-01-31T00:00:00.000000000",
          "2024-02-01T00:00:00.000000000",
          "2024-02-02T00:00:00.000000000",
          "2024-02-03T00:00:00.000000000",
          "2024-02-04T00:00:00.000000000",
          "2024-02-05T00:00:00.000000000",
          "2024-02-06T00:00:00.000000000",
          "2024-02-07T00:00:00.000000000",
          "2024-02-08T00:00:00.000000000",
          "2024-02-09T00:00:00.000000000",
          "2024-02-10T00:00:00.000000000",
          "2024-02-11T00:00:00.000000000",
          "2024-02-12T00:00:00.000000000",
          "2024-02-13T00:00:00.000000000",
          "2024-02-14T00:00:00.000000000",
          "2024-02-15T00:00:00.000000000",
          "2024-02-16T00:00:00.000000000",
          "2024-02-17T00:00:00.000000000",
          "2024-02-18T00:00:00.000000000",
          "2024-02-19T00:00:00.000000000",
          "2024-02-20T00:00:00.000000000",
          "2024-02-21T00:00:00.000000000",
          "2024-02-22T00:00:00.000000000",
          "2024-02-23T00:00:00.000000000",
          "2024-02-24T00:00:00.000000000",
          "2024-02-25T00:00:00.000000000",
          "2024-02-26T00:00:00.000000000",
          "2024-02-27T00:00:00.000000000",
          "2024-02-28T00:00:00.000000000",
          "2024-02-29T00:00:00.000000000",
          "2024-03-01T00:00:00.000000000",
          "2024-03-02T00:00:00.000000000",
          "2024-03-03T00:00:00.000000000",
          "2024-03-04T00:00:00.000000000",
          "2024-03-05T00:00:00.000000000",
          "2024-03-06T00:00:00.000000000",
          "2024-03-07T00:00:00.000000000",
          "2024-03-08T00:00:00.000000000",
          "2024-03-09T00:00:00.000000000",
          "2024-03-10T00:00:00.000000000",
          "2024-03-11T00:00:00.000000000",
          "2024-03-12T00:00:00.000000000",
          "2024-03-13T00:00:00.000000000",
          "2024-03-14T00:00:00.000000000",
          "2024-03-15T00:00:00.000000000",
          "2024-03-16T00:00:00.000000000",
          "2024-03-17T00:00:00.000000000",
          "2024-03-18T00:00:00.000000000",
          "2024-03-19T00:00:00.000000000",
          "2024-03-20T00:00:00.000000000",
          "2024-03-21T00:00:00.000000000",
          "2024-03-22T00:00:00.000000000",
          "2024-03-23T00:00:00.000000000",
          "2024-03-24T00:00:00.000000000",
          "2024-03-25T00:00:00.000000000",
          "2024-03-26T00:00:00.000000000",
          "2024-03-27T00:00:00.000000000",
          "2024-03-28T00:00:00.000000000",
          "2024-03-29T00:00:00.000000000",
          "2024-03-30T00:00:00.000000000",
          "2024-03-31T00:00:00.000000000",
          "2024-04-01T00:00:00.000000000",
          "2024-04-02T00:00:00.000000000",
          "2024-04-03T00:00:00.000000000",
          "2024-04-04T00:00:00.000000000",
          "2024-04-05T00:00:00.000000000",
          "2024-04-06T00:00:00.000000000",
          "2024-04-07T00:00:00.000000000",
          "2024-04-08T00:00:00.000000000",
          "2024-04-09T00:00:00.000000000",
          "2024-04-10T00:00:00.000000000",
          "2024-04-11T00:00:00.000000000",
          "2024-04-12T00:00:00.000000000",
          "2024-04-13T00:00:00.000000000",
          "2024-04-14T00:00:00.000000000",
          "2024-04-15T00:00:00.000000000",
          "2024-04-16T00:00:00.000000000",
          "2024-04-17T00:00:00.000000000",
          "2024-04-18T00:00:00.000000000",
          "2024-04-19T00:00:00.000000000",
          "2024-04-20T00:00:00.000000000",
          "2024-04-21T00:00:00.000000000",
          "2024-04-22T00:00:00.000000000",
          "2024-04-23T00:00:00.000000000",
          "2024-04-24T00:00:00.000000000",
          "2024-04-25T00:00:00.000000000",
          "2024-04-26T00:00:00.000000000",
          "2024-04-27T00:00:00.000000000",
          "2024-04-28T00:00:00.000000000",
          "2024-04-29T00:00:00.000000000",
          "2024-04-30T00:00:00.000000000",
          "2024-05-01T00:00:00.000000000",
          "2024-05-02T00:00:00.000000000",
          "2024-05-03T00:00:00.000000000",
          "2024-05-04T00:00:00.000000000",
          "2024-05-05T00:00:00.000000000",
          "2024-05-06T00:00:00.000000000",
          "2024-05-07T00:00:00.000000000",
          "2024-05-08T00:00:00.000000000",
          "2024-05-09T00:00:00.000000000",
          "2024-05-10T00:00:00.000000000",
          "2024-05-11T00:00:00.000000000",
          "2024-05-12T00:00:00.000000000",
          "2024-05-13T00:00:00.000000000",
          "2024-05-14T00:00:00.000000000",
          "2024-05-15T00:00:00.000000000",
          "2024-05-16T00:00:00.000000000",
          "2024-05-17T00:00:00.000000000",
          "2024-05-18T00:00:00.000000000",
          "2024-05-19T00:00:00.000000000",
          "2024-05-20T00:00:00.000000000",
          "2024-05-21T00:00:00.000000000",
          "2024-05-22T00:00:00.000000000",
          "2024-05-23T00:00:00.000000000",
          "2024-05-24T00:00:00.000000000",
          "2024-05-25T00:00:00.000000000",
          "2024-05-26T00:00:00.000000000",
          "2024-05-27T00:00:00.000000000",
          "2024-05-28T00:00:00.000000000",
          "2024-05-29T00:00:00.000000000",
          "2024-05-30T00:00:00.000000000",
          "2024-05-31T00:00:00.000000000",
          "2024-06-01T00:00:00.000000000",
          "2024-06-02T00:00:00.000000000",
          "2024-06-03T00:00:00.000000000",
          "2024-06-04T00:00:00.000000000",
          "2024-06-05T00:00:00.000000000",
          "2024-06-06T00:00:00.000000000",
          "2024-06-07T00:00:00.000000000",
          "2024-06-08T00:00:00.000000000",
          "2024-06-09T00:00:00.000000000",
          "2024-06-10T00:00:00.000000000",
          "2024-06-11T00:00:00.000000000",
          "2024-06-12T00:00:00.000000000",
          "2024-06-13T00:00:00.000000000",
          "2024-06-14T00:00:00.000000000",
          "2024-06-15T00:00:00.000000000",
          "2024-06-16T00:00:00.000000000",
          "2024-06-17T00:00:00.000000000",
          "2024-06-18T00:00:00.000000000",
          "2024-06-19T00:00:00.000000000",
          "2024-06-20T00:00:00.000000000",
          "2024-06-21T00:00:00.000000000",
          "2024-06-22T00:00:00.000000000",
          "2024-06-23T00:00:00.000000000",
          "2024-06-24T00:00:00.000000000",
          "2024-06-25T00:00:00.000000000",
          "2024-06-26T00:00:00.000000000",
          "2024-06-27T00:00:00.000000000",
          "2024-06-28T00:00:00.000000000",
          "2024-06-29T00:00:00.000000000",
          "2024-06-30T00:00:00.000000000",
          "2024-07-01T00:00:00.000000000",
          "2024-07-02T00:00:00.000000000",
          "2024-07-03T00:00:00.000000000",
          "2024-07-04T00:00:00.000000000",
          "2024-07-05T00:00:00.000000000",
          "2024-07-06T00:00:00.000000000",
          "2024-07-07T00:00:00.000000000",
          "2024-07-08T00:00:00.000000000",
          "2024-07-09T00:00:00.000000000",
          "2024-07-10T00:00:00.000000000",
          "2024-07-11T00:00:00.000000000",
          "2024-07-12T00:00:00.000000000",
          "2024-07-13T00:00:00.000000000",
          "2024-07-14T00:00:00.000000000",
          "2024-07-15T00:00:00.000000000",
          "2024-07-16T00:00:00.000000000",
          "2024-07-17T00:00:00.000000000",
          "2024-07-18T00:00:00.000000000",
          "2024-07-19T00:00:00.000000000",
          "2024-07-20T00:00:00.000000000",
          "2024-07-21T00:00:00.000000000",
          "2024-07-22T00:00:00.000000000",
          "2024-07-23T00:00:00.000000000",
          "2024-07-24T00:00:00.000000000",
          "2024-07-25T00:00:00.000000000",
          "2024-07-26T00:00:00.000000000",
          "2024-07-27T00:00:00.000000000",
          "2024-07-28T00:00:00.000000000",
          "2024-07-29T00:00:00.000000000",
          "2024-07-30T00:00:00.000000000",
          "2024-07-31T00:00:00.000000000",
          "2024-08-01T00:00:00.000000000",
          "2024-08-02T00:00:00.000000000",
          "2024-08-03T00:00:00.000000000",
          "2024-08-04T00:00:00.000000000",
          "2024-08-05T00:00:00.000000000",
          "2024-08-06T00:00:00.000000000",
          "2024-08-07T00:00:00.000000000",
          "2024-08-08T00:00:00.000000000",
          "2024-08-09T00:00:00.000000000",
          "2024-08-10T00:00:00.000000000",
          "2024-08-11T00:00:00.000000000",
          "2024-08-12T00:00:00.000000000",
          "2024-08-13T00:00:00.000000000",
          "2024-08-14T00:00:00.000000000",
          "2024-08-15T00:00:00.000000000",
          "2024-08-16T00:00:00.000000000",
          "2024-08-17T00:00:00.000000000",
          "2024-08-18T00:00:00.000000000",
          "2024-08-19T00:00:00.000000000",
          "2024-08-20T00:00:00.000000000",
          "2024-08-21T00:00:00.000000000",
          "2024-08-22T00:00:00.000000000",
          "2024-08-23T00:00:00.000000000",
          "2024-08-24T00:00:00.000000000",
          "2024-08-25T00:00:00.000000000",
          "2024-08-26T00:00:00.000000000",
          "2024-08-27T00:00:00.000000000",
          "2024-08-28T00:00:00.000000000",
          "2024-08-29T00:00:00.000000000",
          "2024-08-30T00:00:00.000000000",
          "2024-08-31T00:00:00.000000000",
          "2024-09-01T00:00:00.000000000",
          "2024-09-02T00:00:00.000000000",
          "2024-09-03T00:00:00.000000000",
          "2024-09-04T00:00:00.000000000",
          "2024-09-05T00:00:00.000000000",
          "2024-09-06T00:00:00.000000000",
          "2024-09-07T00:00:00.000000000",
          "2024-09-08T00:00:00.000000000",
          "2024-09-09T00:00:00.000000000",
          "2024-09-10T00:00:00.000000000",
          "2024-09-11T00:00:00.000000000",
          "2024-09-12T00:00:00.000000000",
          "2024-09-13T00:00:00.000000000",
          "2024-09-14T00:00:00.000000000",
          "2024-09-15T00:00:00.000000000",
          "2024-09-16T00:00:00.000000000",
          "2024-09-17T00:00:00.000000000",
          "2024-09-18T00:00:00.000000000",
          "2024-09-19T00:00:00.000000000",
          "2024-09-20T00:00:00.000000000",
          "2024-09-21T00:00:00.000000000",
          "2024-09-22T00:00:00.000000000",
          "2024-09-23T00:00:00.000000000",
          "2024-09-24T00:00:00.000000000",
          "2024-09-25T00:00:00.000000000",
          "2024-09-26T00:00:00.000000000",
          "2024-09-27T00:00:00.000000000",
          "2024-09-28T00:00:00.000000000",
          "2024-09-29T00:00:00.000000000",
          "2024-09-30T00:00:00.000000000",
          "2024-10-01T00:00:00.000000000",
          "2024-10-02T00:00:00.000000000",
          "2024-10-03T00:00:00.000000000",
          "2024-10-04T00:00:00.000000000",
          "2024-10-05T00:00:00.000000000",
          "2024-10-06T00:00:00.000000000",
          "2024-10-07T00:00:00.000000000",
          "2024-10-08T00:00:00.000000000",
          "2024-10-09T00:00:00.000000000",
          "2024-10-10T00:00:00.000000000",
          "2024-10-11T00:00:00.000000000",
          "2024-10-12T00:00:00.000000000",
          "2024-10-13T00:00:00.000000000",
          "2024-10-14T00:00:00.000000000",
          "2024-10-15T00:00:00.000000000",
          "2024-10-16T00:00:00.000000000",
          "2024-10-17T00:00:00.000000000",
          "2024-10-18T00:00:00.000000000",
          "2024-10-19T00:00:00.000000000",
          "2024-10-20T00:00:00.000000000",
          "2024-10-21T00:00:00.000000000",
          "2024-10-22T00:00:00.000000000",
          "2024-10-23T00:00:00.000000000",
          "2024-10-24T00:00:00.000000000",
          "2024-10-25T00:00:00.000000000",
          "2024-10-26T00:00:00.000000000",
          "2024-10-27T00:00:00.000000000",
          "2024-10-28T00:00:00.000000000",
          "2024-10-29T00:00:00.000000000",
          "2024-10-30T00:00:00.000000000",
          "2024-10-31T00:00:00.000000000",
          "2024-11-01T00:00:00.000000000",
          "2024-11-02T00:00:00.000000000",
          "2024-11-03T00:00:00.000000000",
          "2024-11-04T00:00:00.000000000",
          "2024-11-05T00:00:00.000000000",
          "2024-11-06T00:00:00.000000000",
          "2024-11-07T00:00:00.000000000",
          "2024-11-08T00:00:00.000000000",
          "2024-11-09T00:00:00.000000000",
          "2024-11-10T00:00:00.000000000",
          "2024-11-11T00:00:00.000000000",
          "2024-11-12T00:00:00.000000000",
          "2024-11-13T00:00:00.000000000",
          "2024-11-14T00:00:00.000000000",
          "2024-11-15T00:00:00.000000000",
          "2024-11-16T00:00:00.000000000",
          "2024-11-17T00:00:00.000000000",
          "2024-11-18T00:00:00.000000000",
          "2024-11-19T00:00:00.000000000",
          "2024-11-20T00:00:00.000000000",
          "2024-11-21T00:00:00.000000000",
          "2024-11-22T00:00:00.000000000",
          "2024-11-23T00:00:00.000000000",
          "2024-11-24T00:00:00.000000000",
          "2024-11-25T00:00:00.000000000",
          "2024-11-26T00:00:00.000000000",
          "2024-11-27T00:00:00.000000000",
          "2024-11-28T00:00:00.000000000",
          "2024-11-29T00:00:00.000000000",
          "2024-11-30T00:00:00.000000000",
          "2024-12-01T00:00:00.000000000",
          "2024-12-02T00:00:00.000000000",
          "2024-12-03T00:00:00.000000000",
          "2024-12-04T00:00:00.000000000",
          "2024-12-05T00:00:00.000000000",
          "2024-12-06T00:00:00.000000000",
          "2024-12-07T00:00:00.000000000",
          "2024-12-08T00:00:00.000000000",
          "2024-12-09T00:00:00.000000000",
          "2024-12-10T00:00:00.000000000",
          "2024-12-11T00:00:00.000000000",
          "2024-12-12T00:00:00.000000000",
          "2024-12-13T00:00:00.000000000",
          "2024-12-14T00:00:00.000000000",
          "2024-12-15T00:00:00.000000000",
          "2024-12-16T00:00:00.000000000",
          "2024-12-17T00:00:00.000000000",
          "2024-12-18T00:00:00.000000000",
          "2024-12-19T00:00:00.000000000",
          "2024-12-20T00:00:00.000000000",
          "2024-12-21T00:00:00.000000000",
          "2024-12-22T00:00:00.000000000",
          "2024-12-23T00:00:00.000000000",
          "2024-12-24T00:00:00.000000000",
          "2024-12-25T00:00:00.000000000",
          "2024-12-26T00:00:00.000000000",
          "2024-12-27T00:00:00.000000000",
          "2024-12-28T00:00:00.000000000",
          "2024-12-29T00:00:00.000000000",
          "2024-12-30T00:00:00.000000000",
          "2024-12-31T00:00:00.000000000",
          "2025-01-01T00:00:00.000000000",
          "2025-01-02T00:00:00.000000000",
          "2025-01-03T00:00:00.000000000",
          "2025-01-04T00:00:00.000000000",
          "2025-01-05T00:00:00.000000000",
          "2025-01-06T00:00:00.000000000",
          "2025-01-07T00:00:00.000000000",
          "2025-01-08T00:00:00.000000000",
          "2025-01-09T00:00:00.000000000",
          "2025-01-10T00:00:00.000000000",
          "2025-01-11T00:00:00.000000000",
          "2025-01-12T00:00:00.000000000",
          "2025-01-13T00:00:00.000000000",
          "2025-01-14T00:00:00.000000000",
          "2025-01-15T00:00:00.000000000",
          "2025-01-16T00:00:00.000000000",
          "2025-01-17T00:00:00.000000000",
          "2025-01-18T00:00:00.000000000",
          "2025-01-19T00:00:00.000000000",
          "2025-01-20T00:00:00.000000000",
          "2025-01-21T00:00:00.000000000",
          "2025-01-22T00:00:00.000000000",
          "2025-01-23T00:00:00.000000000",
          "2025-01-24T00:00:00.000000000",
          "2025-01-25T00:00:00.000000000",
          "2025-01-26T00:00:00.000000000",
          "2025-01-27T00:00:00.000000000",
          "2025-01-28T00:00:00.000000000",
          "2025-01-29T00:00:00.000000000",
          "2025-01-30T00:00:00.000000000",
          "2025-01-31T00:00:00.000000000",
          "2025-02-01T00:00:00.000000000",
          "2025-02-02T00:00:00.000000000",
          "2025-02-03T00:00:00.000000000",
          "2025-02-04T00:00:00.000000000",
          "2025-02-05T00:00:00.000000000",
          "2025-02-06T00:00:00.000000000",
          "2025-02-07T00:00:00.000000000",
          "2025-02-08T00:00:00.000000000",
          "2025-02-09T00:00:00.000000000",
          "2025-02-10T00:00:00.000000000",
          "2025-02-11T00:00:00.000000000",
          "2025-02-12T00:00:00.000000000",
          "2025-02-13T00:00:00.000000000",
          "2025-02-14T00:00:00.000000000",
          "2025-02-15T00:00:00.000000000",
          "2025-02-16T00:00:00.000000000",
          "2025-02-17T00:00:00.000000000",
          "2025-02-18T00:00:00.000000000",
          "2025-02-19T00:00:00.000000000",
          "2025-02-20T00:00:00.000000000",
          "2025-02-21T00:00:00.000000000",
          "2025-02-22T00:00:00.000000000",
          "2025-02-23T00:00:00.000000000",
          "2025-02-24T00:00:00.000000000",
          "2025-02-25T00:00:00.000000000",
          "2025-02-26T00:00:00.000000000",
          "2025-02-27T00:00:00.000000000",
          "2025-02-28T00:00:00.000000000",
          "2025-03-01T00:00:00.000000000",
          "2025-03-02T00:00:00.000000000",
          "2025-03-03T00:00:00.000000000",
          "2025-03-04T00:00:00.000000000",
          "2025-03-05T00:00:00.000000000",
          "2025-03-06T00:00:00.000000000",
          "2025-03-07T00:00:00.000000000",
          "2025-03-08T00:00:00.000000000",
          "2025-03-09T00:00:00.000000000",
          "2025-03-10T00:00:00.000000000",
          "2025-03-11T00:00:00.000000000",
          "2025-03-12T00:00:00.000000000",
          "2025-03-13T00:00:00.000000000",
          "2025-03-14T00:00:00.000000000",
          "2025-03-15T00:00:00.000000000",
          "2025-03-16T00:00:00.000000000",
          "2025-03-17T00:00:00.000000000",
          "2025-03-18T00:00:00.000000000",
          "2025-03-19T00:00:00.000000000",
          "2025-03-20T00:00:00.000000000",
          "2025-03-21T00:00:00.000000000",
          "2025-03-22T00:00:00.000000000",
          "2025-03-23T00:00:00.000000000",
          "2025-03-24T00:00:00.000000000",
          "2025-03-25T00:00:00.000000000",
          "2025-03-26T00:00:00.000000000",
          "2025-03-27T00:00:00.000000000",
          "2025-03-28T00:00:00.000000000",
          "2025-03-29T00:00:00.000000000",
          "2025-03-30T00:00:00.000000000",
          "2025-03-31T00:00:00.000000000",
          "2025-04-01T00:00:00.000000000",
          "2025-04-02T00:00:00.000000000"
         ],
         "y": {
          "bdata": "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",
          "dtype": "f8"
         }
        },
        {
         "line": {
          "color": "red",
          "dash": "dash"
         },
         "mode": "lines",
         "name": "Predicted Closing Price",
         "type": "scatter",
         "x": [
          "2023-04-25T00:00:00.000000000",
          "2023-04-26T00:00:00.000000000",
          "2023-04-27T00:00:00.000000000",
          "2023-04-28T00:00:00.000000000",
          "2023-04-29T00:00:00.000000000",
          "2023-04-30T00:00:00.000000000",
          "2023-05-01T00:00:00.000000000",
          "2023-05-02T00:00:00.000000000",
          "2023-05-03T00:00:00.000000000",
          "2023-05-04T00:00:00.000000000",
          "2023-05-05T00:00:00.000000000",
          "2023-05-06T00:00:00.000000000",
          "2023-05-07T00:00:00.000000000",
          "2023-05-08T00:00:00.000000000",
          "2023-05-09T00:00:00.000000000",
          "2023-05-10T00:00:00.000000000",
          "2023-05-11T00:00:00.000000000",
          "2023-05-12T00:00:00.000000000",
          "2023-05-13T00:00:00.000000000",
          "2023-05-14T00:00:00.000000000",
          "2023-05-15T00:00:00.000000000",
          "2023-05-16T00:00:00.000000000",
          "2023-05-17T00:00:00.000000000",
          "2023-05-18T00:00:00.000000000",
          "2023-05-19T00:00:00.000000000",
          "2023-05-20T00:00:00.000000000",
          "2023-05-21T00:00:00.000000000",
          "2023-05-22T00:00:00.000000000",
          "2023-05-23T00:00:00.000000000",
          "2023-05-24T00:00:00.000000000",
          "2023-05-25T00:00:00.000000000",
          "2023-05-26T00:00:00.000000000",
          "2023-05-27T00:00:00.000000000",
          "2023-05-28T00:00:00.000000000",
          "2023-05-29T00:00:00.000000000",
          "2023-05-30T00:00:00.000000000",
          "2023-05-31T00:00:00.000000000",
          "2023-06-01T00:00:00.000000000",
          "2023-06-02T00:00:00.000000000",
          "2023-06-03T00:00:00.000000000",
          "2023-06-04T00:00:00.000000000",
          "2023-06-05T00:00:00.000000000",
          "2023-06-06T00:00:00.000000000",
          "2023-06-07T00:00:00.000000000",
          "2023-06-08T00:00:00.000000000",
          "2023-06-09T00:00:00.000000000",
          "2023-06-10T00:00:00.000000000",
          "2023-06-11T00:00:00.000000000",
          "2023-06-12T00:00:00.000000000",
          "2023-06-13T00:00:00.000000000",
          "2023-06-14T00:00:00.000000000",
          "2023-06-15T00:00:00.000000000",
          "2023-06-16T00:00:00.000000000",
          "2023-06-17T00:00:00.000000000",
          "2023-06-18T00:00:00.000000000",
          "2023-06-19T00:00:00.000000000",
          "2023-06-20T00:00:00.000000000",
          "2023-06-21T00:00:00.000000000",
          "2023-06-22T00:00:00.000000000",
          "2023-06-23T00:00:00.000000000",
          "2023-06-24T00:00:00.000000000",
          "2023-06-25T00:00:00.000000000",
          "2023-06-26T00:00:00.000000000",
          "2023-06-27T00:00:00.000000000",
          "2023-06-28T00:00:00.000000000",
          "2023-06-29T00:00:00.000000000",
          "2023-06-30T00:00:00.000000000",
          "2023-07-01T00:00:00.000000000",
          "2023-07-02T00:00:00.000000000",
          "2023-07-03T00:00:00.000000000",
          "2023-07-04T00:00:00.000000000",
          "2023-07-05T00:00:00.000000000",
          "2023-07-06T00:00:00.000000000",
          "2023-07-07T00:00:00.000000000",
          "2023-07-08T00:00:00.000000000",
          "2023-07-09T00:00:00.000000000",
          "2023-07-10T00:00:00.000000000",
          "2023-07-11T00:00:00.000000000",
          "2023-07-12T00:00:00.000000000",
          "2023-07-13T00:00:00.000000000",
          "2023-07-14T00:00:00.000000000",
          "2023-07-15T00:00:00.000000000",
          "2023-07-16T00:00:00.000000000",
          "2023-07-17T00:00:00.000000000",
          "2023-07-18T00:00:00.000000000",
          "2023-07-19T00:00:00.000000000",
          "2023-07-20T00:00:00.000000000",
          "2023-07-21T00:00:00.000000000",
          "2023-07-22T00:00:00.000000000",
          "2023-07-23T00:00:00.000000000",
          "2023-07-24T00:00:00.000000000",
          "2023-07-25T00:00:00.000000000",
          "2023-07-26T00:00:00.000000000",
          "2023-07-27T00:00:00.000000000",
          "2023-07-28T00:00:00.000000000",
          "2023-07-29T00:00:00.000000000",
          "2023-07-30T00:00:00.000000000",
          "2023-07-31T00:00:00.000000000",
          "2023-08-01T00:00:00.000000000",
          "2023-08-02T00:00:00.000000000",
          "2023-08-03T00:00:00.000000000",
          "2023-08-04T00:00:00.000000000",
          "2023-08-05T00:00:00.000000000",
          "2023-08-06T00:00:00.000000000",
          "2023-08-07T00:00:00.000000000",
          "2023-08-08T00:00:00.000000000",
          "2023-08-09T00:00:00.000000000",
          "2023-08-10T00:00:00.000000000",
          "2023-08-11T00:00:00.000000000",
          "2023-08-12T00:00:00.000000000",
          "2023-08-13T00:00:00.000000000",
          "2023-08-14T00:00:00.000000000",
          "2023-08-15T00:00:00.000000000",
          "2023-08-16T00:00:00.000000000",
          "2023-08-17T00:00:00.000000000",
          "2023-08-18T00:00:00.000000000",
          "2023-08-19T00:00:00.000000000",
          "2023-08-20T00:00:00.000000000",
          "2023-08-21T00:00:00.000000000",
          "2023-08-22T00:00:00.000000000",
          "2023-08-23T00:00:00.000000000",
          "2023-08-24T00:00:00.000000000",
          "2023-08-25T00:00:00.000000000",
          "2023-08-26T00:00:00.000000000",
          "2023-08-27T00:00:00.000000000",
          "2023-08-28T00:00:00.000000000",
          "2023-08-29T00:00:00.000000000",
          "2023-08-30T00:00:00.000000000",
          "2023-08-31T00:00:00.000000000",
          "2023-09-01T00:00:00.000000000",
          "2023-09-02T00:00:00.000000000",
          "2023-09-03T00:00:00.000000000",
          "2023-09-04T00:00:00.000000000",
          "2023-09-05T00:00:00.000000000",
          "2023-09-06T00:00:00.000000000",
          "2023-09-07T00:00:00.000000000",
          "2023-09-08T00:00:00.000000000",
          "2023-09-09T00:00:00.000000000",
          "2023-09-10T00:00:00.000000000",
          "2023-09-11T00:00:00.000000000",
          "2023-09-12T00:00:00.000000000",
          "2023-09-13T00:00:00.000000000",
          "2023-09-14T00:00:00.000000000",
          "2023-09-15T00:00:00.000000000",
          "2023-09-16T00:00:00.000000000",
          "2023-09-17T00:00:00.000000000",
          "2023-09-18T00:00:00.000000000",
          "2023-09-19T00:00:00.000000000",
          "2023-09-20T00:00:00.000000000",
          "2023-09-21T00:00:00.000000000",
          "2023-09-22T00:00:00.000000000",
          "2023-09-23T00:00:00.000000000",
          "2023-09-24T00:00:00.000000000",
          "2023-09-25T00:00:00.000000000",
          "2023-09-26T00:00:00.000000000",
          "2023-09-27T00:00:00.000000000",
          "2023-09-28T00:00:00.000000000",
          "2023-09-29T00:00:00.000000000",
          "2023-09-30T00:00:00.000000000",
          "2023-10-01T00:00:00.000000000",
          "2023-10-02T00:00:00.000000000",
          "2023-10-03T00:00:00.000000000",
          "2023-10-04T00:00:00.000000000",
          "2023-10-05T00:00:00.000000000",
          "2023-10-06T00:00:00.000000000",
          "2023-10-07T00:00:00.000000000",
          "2023-10-08T00:00:00.000000000",
          "2023-10-09T00:00:00.000000000",
          "2023-10-10T00:00:00.000000000",
          "2023-10-11T00:00:00.000000000",
          "2023-10-12T00:00:00.000000000",
          "2023-10-13T00:00:00.000000000",
          "2023-10-14T00:00:00.000000000",
          "2023-10-15T00:00:00.000000000",
          "2023-10-16T00:00:00.000000000",
          "2023-10-17T00:00:00.000000000",
          "2023-10-18T00:00:00.000000000",
          "2023-10-19T00:00:00.000000000",
          "2023-10-20T00:00:00.000000000",
          "2023-10-21T00:00:00.000000000",
          "2023-10-22T00:00:00.000000000",
          "2023-10-23T00:00:00.000000000",
          "2023-10-24T00:00:00.000000000",
          "2023-10-25T00:00:00.000000000",
          "2023-10-26T00:00:00.000000000",
          "2023-10-27T00:00:00.000000000",
          "2023-10-28T00:00:00.000000000",
          "2023-10-29T00:00:00.000000000",
          "2023-10-30T00:00:00.000000000",
          "2023-10-31T00:00:00.000000000",
          "2023-11-01T00:00:00.000000000",
          "2023-11-02T00:00:00.000000000",
          "2023-11-03T00:00:00.000000000",
          "2023-11-04T00:00:00.000000000",
          "2023-11-05T00:00:00.000000000",
          "2023-11-06T00:00:00.000000000",
          "2023-11-07T00:00:00.000000000",
          "2023-11-08T00:00:00.000000000",
          "2023-11-09T00:00:00.000000000",
          "2023-11-10T00:00:00.000000000",
          "2023-11-11T00:00:00.000000000",
          "2023-11-12T00:00:00.000000000",
          "2023-11-13T00:00:00.000000000",
          "2023-11-14T00:00:00.000000000",
          "2023-11-15T00:00:00.000000000",
          "2023-11-16T00:00:00.000000000",
          "2023-11-17T00:00:00.000000000",
          "2023-11-18T00:00:00.000000000",
          "2023-11-19T00:00:00.000000000",
          "2023-11-20T00:00:00.000000000",
          "2023-11-21T00:00:00.000000000",
          "2023-11-22T00:00:00.000000000",
          "2023-11-23T00:00:00.000000000",
          "2023-11-24T00:00:00.000000000",
          "2023-11-25T00:00:00.000000000",
          "2023-11-26T00:00:00.000000000",
          "2023-11-27T00:00:00.000000000",
          "2023-11-28T00:00:00.000000000",
          "2023-11-29T00:00:00.000000000",
          "2023-11-30T00:00:00.000000000",
          "2023-12-01T00:00:00.000000000",
          "2023-12-02T00:00:00.000000000",
          "2023-12-03T00:00:00.000000000",
          "2023-12-04T00:00:00.000000000",
          "2023-12-05T00:00:00.000000000",
          "2023-12-06T00:00:00.000000000",
          "2023-12-07T00:00:00.000000000",
          "2023-12-08T00:00:00.000000000",
          "2023-12-09T00:00:00.000000000",
          "2023-12-10T00:00:00.000000000",
          "2023-12-11T00:00:00.000000000",
          "2023-12-12T00:00:00.000000000",
          "2023-12-13T00:00:00.000000000",
          "2023-12-14T00:00:00.000000000",
          "2023-12-15T00:00:00.000000000",
          "2023-12-16T00:00:00.000000000",
          "2023-12-17T00:00:00.000000000",
          "2023-12-18T00:00:00.000000000",
          "2023-12-19T00:00:00.000000000",
          "2023-12-20T00:00:00.000000000",
          "2023-12-21T00:00:00.000000000",
          "2023-12-22T00:00:00.000000000",
          "2023-12-23T00:00:00.000000000",
          "2023-12-24T00:00:00.000000000",
          "2023-12-25T00:00:00.000000000",
          "2023-12-26T00:00:00.000000000",
          "2023-12-27T00:00:00.000000000",
          "2023-12-28T00:00:00.000000000",
          "2023-12-29T00:00:00.000000000",
          "2023-12-30T00:00:00.000000000",
          "2023-12-31T00:00:00.000000000",
          "2024-01-01T00:00:00.000000000",
          "2024-01-02T00:00:00.000000000",
          "2024-01-03T00:00:00.000000000",
          "2024-01-04T00:00:00.000000000",
          "2024-01-05T00:00:00.000000000",
          "2024-01-06T00:00:00.000000000",
          "2024-01-07T00:00:00.000000000",
          "2024-01-08T00:00:00.000000000",
          "2024-01-09T00:00:00.000000000",
          "2024-01-10T00:00:00.000000000",
          "2024-01-11T00:00:00.000000000",
          "2024-01-12T00:00:00.000000000",
          "2024-01-13T00:00:00.000000000",
          "2024-01-14T00:00:00.000000000",
          "2024-01-15T00:00:00.000000000",
          "2024-01-16T00:00:00.000000000",
          "2024-01-17T00:00:00.000000000",
          "2024-01-18T00:00:00.000000000",
          "2024-01-19T00:00:00.000000000",
          "2024-01-20T00:00:00.000000000",
          "2024-01-21T00:00:00.000000000",
          "2024-01-22T00:00:00.000000000",
          "2024-01-23T00:00:00.000000000",
          "2024-01-24T00:00:00.000000000",
          "2024-01-25T00:00:00.000000000",
          "2024-01-26T00:00:00.000000000",
          "2024-01-27T00:00:00.000000000",
          "2024-01-28T00:00:00.000000000",
          "2024-01-29T00:00:00.000000000",
          "2024-01-30T00:00:00.000000000",
          "2024-01-31T00:00:00.000000000",
          "2024-02-01T00:00:00.000000000",
          "2024-02-02T00:00:00.000000000",
          "2024-02-03T00:00:00.000000000",
          "2024-02-04T00:00:00.000000000",
          "2024-02-05T00:00:00.000000000",
          "2024-02-06T00:00:00.000000000",
          "2024-02-07T00:00:00.000000000",
          "2024-02-08T00:00:00.000000000",
          "2024-02-09T00:00:00.000000000",
          "2024-02-10T00:00:00.000000000",
          "2024-02-11T00:00:00.000000000",
          "2024-02-12T00:00:00.000000000",
          "2024-02-13T00:00:00.000000000",
          "2024-02-14T00:00:00.000000000",
          "2024-02-15T00:00:00.000000000",
          "2024-02-16T00:00:00.000000000",
          "2024-02-17T00:00:00.000000000",
          "2024-02-18T00:00:00.000000000",
          "2024-02-19T00:00:00.000000000",
          "2024-02-20T00:00:00.000000000",
          "2024-02-21T00:00:00.000000000",
          "2024-02-22T00:00:00.000000000",
          "2024-02-23T00:00:00.000000000",
          "2024-02-24T00:00:00.000000000",
          "2024-02-25T00:00:00.000000000",
          "2024-02-26T00:00:00.000000000",
          "2024-02-27T00:00:00.000000000",
          "2024-02-28T00:00:00.000000000",
          "2024-02-29T00:00:00.000000000",
          "2024-03-01T00:00:00.000000000",
          "2024-03-02T00:00:00.000000000",
          "2024-03-03T00:00:00.000000000",
          "2024-03-04T00:00:00.000000000",
          "2024-03-05T00:00:00.000000000",
          "2024-03-06T00:00:00.000000000",
          "2024-03-07T00:00:00.000000000",
          "2024-03-08T00:00:00.000000000",
          "2024-03-09T00:00:00.000000000",
          "2024-03-10T00:00:00.000000000",
          "2024-03-11T00:00:00.000000000",
          "2024-03-12T00:00:00.000000000",
          "2024-03-13T00:00:00.000000000",
          "2024-03-14T00:00:00.000000000",
          "2024-03-15T00:00:00.000000000",
          "2024-03-16T00:00:00.000000000",
          "2024-03-17T00:00:00.000000000",
          "2024-03-18T00:00:00.000000000",
          "2024-03-19T00:00:00.000000000",
          "2024-03-20T00:00:00.000000000",
          "2024-03-21T00:00:00.000000000",
          "2024-03-22T00:00:00.000000000",
          "2024-03-23T00:00:00.000000000",
          "2024-03-24T00:00:00.000000000",
          "2024-03-25T00:00:00.000000000",
          "2024-03-26T00:00:00.000000000",
          "2024-03-27T00:00:00.000000000",
          "2024-03-28T00:00:00.000000000",
          "2024-03-29T00:00:00.000000000",
          "2024-03-30T00:00:00.000000000",
          "2024-03-31T00:00:00.000000000",
          "2024-04-01T00:00:00.000000000",
          "2024-04-02T00:00:00.000000000",
          "2024-04-03T00:00:00.000000000",
          "2024-04-04T00:00:00.000000000",
          "2024-04-05T00:00:00.000000000",
          "2024-04-06T00:00:00.000000000",
          "2024-04-07T00:00:00.000000000",
          "2024-04-08T00:00:00.000000000",
          "2024-04-09T00:00:00.000000000",
          "2024-04-10T00:00:00.000000000",
          "2024-04-11T00:00:00.000000000",
          "2024-04-12T00:00:00.000000000",
          "2024-04-13T00:00:00.000000000",
          "2024-04-14T00:00:00.000000000",
          "2024-04-15T00:00:00.000000000",
          "2024-04-16T00:00:00.000000000",
          "2024-04-17T00:00:00.000000000",
          "2024-04-18T00:00:00.000000000",
          "2024-04-19T00:00:00.000000000",
          "2024-04-20T00:00:00.000000000",
          "2024-04-21T00:00:00.000000000",
          "2024-04-22T00:00:00.000000000",
          "2024-04-23T00:00:00.000000000",
          "2024-04-24T00:00:00.000000000",
          "2024-04-25T00:00:00.000000000",
          "2024-04-26T00:00:00.000000000",
          "2024-04-27T00:00:00.000000000",
          "2024-04-28T00:00:00.000000000",
          "2024-04-29T00:00:00.000000000",
          "2024-04-30T00:00:00.000000000",
          "2024-05-01T00:00:00.000000000",
          "2024-05-02T00:00:00.000000000",
          "2024-05-03T00:00:00.000000000",
          "2024-05-04T00:00:00.000000000",
          "2024-05-05T00:00:00.000000000",
          "2024-05-06T00:00:00.000000000",
          "2024-05-07T00:00:00.000000000",
          "2024-05-08T00:00:00.000000000",
          "2024-05-09T00:00:00.000000000",
          "2024-05-10T00:00:00.000000000",
          "2024-05-11T00:00:00.000000000",
          "2024-05-12T00:00:00.000000000",
          "2024-05-13T00:00:00.000000000",
          "2024-05-14T00:00:00.000000000",
          "2024-05-15T00:00:00.000000000",
          "2024-05-16T00:00:00.000000000",
          "2024-05-17T00:00:00.000000000",
          "2024-05-18T00:00:00.000000000",
          "2024-05-19T00:00:00.000000000",
          "2024-05-20T00:00:00.000000000",
          "2024-05-21T00:00:00.000000000",
          "2024-05-22T00:00:00.000000000",
          "2024-05-23T00:00:00.000000000",
          "2024-05-24T00:00:00.000000000",
          "2024-05-25T00:00:00.000000000",
          "2024-05-26T00:00:00.000000000",
          "2024-05-27T00:00:00.000000000",
          "2024-05-28T00:00:00.000000000",
          "2024-05-29T00:00:00.000000000",
          "2024-05-30T00:00:00.000000000",
          "2024-05-31T00:00:00.000000000",
          "2024-06-01T00:00:00.000000000",
          "2024-06-02T00:00:00.000000000",
          "2024-06-03T00:00:00.000000000",
          "2024-06-04T00:00:00.000000000",
          "2024-06-05T00:00:00.000000000",
          "2024-06-06T00:00:00.000000000",
          "2024-06-07T00:00:00.000000000",
          "2024-06-08T00:00:00.000000000",
          "2024-06-09T00:00:00.000000000",
          "2024-06-10T00:00:00.000000000",
          "2024-06-11T00:00:00.000000000",
          "2024-06-12T00:00:00.000000000",
          "2024-06-13T00:00:00.000000000",
          "2024-06-14T00:00:00.000000000",
          "2024-06-15T00:00:00.000000000",
          "2024-06-16T00:00:00.000000000",
          "2024-06-17T00:00:00.000000000",
          "2024-06-18T00:00:00.000000000",
          "2024-06-19T00:00:00.000000000",
          "2024-06-20T00:00:00.000000000",
          "2024-06-21T00:00:00.000000000",
          "2024-06-22T00:00:00.000000000",
          "2024-06-23T00:00:00.000000000",
          "2024-06-24T00:00:00.000000000",
          "2024-06-25T00:00:00.000000000",
          "2024-06-26T00:00:00.000000000",
          "2024-06-27T00:00:00.000000000",
          "2024-06-28T00:00:00.000000000",
          "2024-06-29T00:00:00.000000000",
          "2024-06-30T00:00:00.000000000",
          "2024-07-01T00:00:00.000000000",
          "2024-07-02T00:00:00.000000000",
          "2024-07-03T00:00:00.000000000",
          "2024-07-04T00:00:00.000000000",
          "2024-07-05T00:00:00.000000000",
          "2024-07-06T00:00:00.000000000",
          "2024-07-07T00:00:00.000000000",
          "2024-07-08T00:00:00.000000000",
          "2024-07-09T00:00:00.000000000",
          "2024-07-10T00:00:00.000000000",
          "2024-07-11T00:00:00.000000000",
          "2024-07-12T00:00:00.000000000",
          "2024-07-13T00:00:00.000000000",
          "2024-07-14T00:00:00.000000000",
          "2024-07-15T00:00:00.000000000",
          "2024-07-16T00:00:00.000000000",
          "2024-07-17T00:00:00.000000000",
          "2024-07-18T00:00:00.000000000",
          "2024-07-19T00:00:00.000000000",
          "2024-07-20T00:00:00.000000000",
          "2024-07-21T00:00:00.000000000",
          "2024-07-22T00:00:00.000000000",
          "2024-07-23T00:00:00.000000000",
          "2024-07-24T00:00:00.000000000",
          "2024-07-25T00:00:00.000000000",
          "2024-07-26T00:00:00.000000000",
          "2024-07-27T00:00:00.000000000",
          "2024-07-28T00:00:00.000000000",
          "2024-07-29T00:00:00.000000000",
          "2024-07-30T00:00:00.000000000",
          "2024-07-31T00:00:00.000000000",
          "2024-08-01T00:00:00.000000000",
          "2024-08-02T00:00:00.000000000",
          "2024-08-03T00:00:00.000000000",
          "2024-08-04T00:00:00.000000000",
          "2024-08-05T00:00:00.000000000",
          "2024-08-06T00:00:00.000000000",
          "2024-08-07T00:00:00.000000000",
          "2024-08-08T00:00:00.000000000",
          "2024-08-09T00:00:00.000000000",
          "2024-08-10T00:00:00.000000000",
          "2024-08-11T00:00:00.000000000",
          "2024-08-12T00:00:00.000000000",
          "2024-08-13T00:00:00.000000000",
          "2024-08-14T00:00:00.000000000",
          "2024-08-15T00:00:00.000000000",
          "2024-08-16T00:00:00.000000000",
          "2024-08-17T00:00:00.000000000",
          "2024-08-18T00:00:00.000000000",
          "2024-08-19T00:00:00.000000000",
          "2024-08-20T00:00:00.000000000",
          "2024-08-21T00:00:00.000000000",
          "2024-08-22T00:00:00.000000000",
          "2024-08-23T00:00:00.000000000",
          "2024-08-24T00:00:00.000000000",
          "2024-08-25T00:00:00.000000000",
          "2024-08-26T00:00:00.000000000",
          "2024-08-27T00:00:00.000000000",
          "2024-08-28T00:00:00.000000000",
          "2024-08-29T00:00:00.000000000",
          "2024-08-30T00:00:00.000000000",
          "2024-08-31T00:00:00.000000000",
          "2024-09-01T00:00:00.000000000",
          "2024-09-02T00:00:00.000000000",
          "2024-09-03T00:00:00.000000000",
          "2024-09-04T00:00:00.000000000",
          "2024-09-05T00:00:00.000000000",
          "2024-09-06T00:00:00.000000000",
          "2024-09-07T00:00:00.000000000",
          "2024-09-08T00:00:00.000000000",
          "2024-09-09T00:00:00.000000000",
          "2024-09-10T00:00:00.000000000",
          "2024-09-11T00:00:00.000000000",
          "2024-09-12T00:00:00.000000000",
          "2024-09-13T00:00:00.000000000",
          "2024-09-14T00:00:00.000000000",
          "2024-09-15T00:00:00.000000000",
          "2024-09-16T00:00:00.000000000",
          "2024-09-17T00:00:00.000000000",
          "2024-09-18T00:00:00.000000000",
          "2024-09-19T00:00:00.000000000",
          "2024-09-20T00:00:00.000000000",
          "2024-09-21T00:00:00.000000000",
          "2024-09-22T00:00:00.000000000",
          "2024-09-23T00:00:00.000000000",
          "2024-09-24T00:00:00.000000000",
          "2024-09-25T00:00:00.000000000",
          "2024-09-26T00:00:00.000000000",
          "2024-09-27T00:00:00.000000000",
          "2024-09-28T00:00:00.000000000",
          "2024-09-29T00:00:00.000000000",
          "2024-09-30T00:00:00.000000000",
          "2024-10-01T00:00:00.000000000",
          "2024-10-02T00:00:00.000000000",
          "2024-10-03T00:00:00.000000000",
          "2024-10-04T00:00:00.000000000",
          "2024-10-05T00:00:00.000000000",
          "2024-10-06T00:00:00.000000000",
          "2024-10-07T00:00:00.000000000",
          "2024-10-08T00:00:00.000000000",
          "2024-10-09T00:00:00.000000000",
          "2024-10-10T00:00:00.000000000",
          "2024-10-11T00:00:00.000000000",
          "2024-10-12T00:00:00.000000000",
          "2024-10-13T00:00:00.000000000",
          "2024-10-14T00:00:00.000000000",
          "2024-10-15T00:00:00.000000000",
          "2024-10-16T00:00:00.000000000",
          "2024-10-17T00:00:00.000000000",
          "2024-10-18T00:00:00.000000000",
          "2024-10-19T00:00:00.000000000",
          "2024-10-20T00:00:00.000000000",
          "2024-10-21T00:00:00.000000000",
          "2024-10-22T00:00:00.000000000",
          "2024-10-23T00:00:00.000000000",
          "2024-10-24T00:00:00.000000000",
          "2024-10-25T00:00:00.000000000",
          "2024-10-26T00:00:00.000000000",
          "2024-10-27T00:00:00.000000000",
          "2024-10-28T00:00:00.000000000",
          "2024-10-29T00:00:00.000000000",
          "2024-10-30T00:00:00.000000000",
          "2024-10-31T00:00:00.000000000",
          "2024-11-01T00:00:00.000000000",
          "2024-11-02T00:00:00.000000000",
          "2024-11-03T00:00:00.000000000",
          "2024-11-04T00:00:00.000000000",
          "2024-11-05T00:00:00.000000000",
          "2024-11-06T00:00:00.000000000",
          "2024-11-07T00:00:00.000000000",
          "2024-11-08T00:00:00.000000000",
          "2024-11-09T00:00:00.000000000",
          "2024-11-10T00:00:00.000000000",
          "2024-11-11T00:00:00.000000000",
          "2024-11-12T00:00:00.000000000",
          "2024-11-13T00:00:00.000000000",
          "2024-11-14T00:00:00.000000000",
          "2024-11-15T00:00:00.000000000",
          "2024-11-16T00:00:00.000000000",
          "2024-11-17T00:00:00.000000000",
          "2024-11-18T00:00:00.000000000",
          "2024-11-19T00:00:00.000000000",
          "2024-11-20T00:00:00.000000000",
          "2024-11-21T00:00:00.000000000",
          "2024-11-22T00:00:00.000000000",
          "2024-11-23T00:00:00.000000000",
          "2024-11-24T00:00:00.000000000",
          "2024-11-25T00:00:00.000000000",
          "2024-11-26T00:00:00.000000000",
          "2024-11-27T00:00:00.000000000",
          "2024-11-28T00:00:00.000000000",
          "2024-11-29T00:00:00.000000000",
          "2024-11-30T00:00:00.000000000",
          "2024-12-01T00:00:00.000000000",
          "2024-12-02T00:00:00.000000000",
          "2024-12-03T00:00:00.000000000",
          "2024-12-04T00:00:00.000000000",
          "2024-12-05T00:00:00.000000000",
          "2024-12-06T00:00:00.000000000",
          "2024-12-07T00:00:00.000000000",
          "2024-12-08T00:00:00.000000000",
          "2024-12-09T00:00:00.000000000",
          "2024-12-10T00:00:00.000000000",
          "2024-12-11T00:00:00.000000000",
          "2024-12-12T00:00:00.000000000",
          "2024-12-13T00:00:00.000000000",
          "2024-12-14T00:00:00.000000000",
          "2024-12-15T00:00:00.000000000",
          "2024-12-16T00:00:00.000000000",
          "2024-12-17T00:00:00.000000000",
          "2024-12-18T00:00:00.000000000",
          "2024-12-19T00:00:00.000000000",
          "2024-12-20T00:00:00.000000000",
          "2024-12-21T00:00:00.000000000",
          "2024-12-22T00:00:00.000000000",
          "2024-12-23T00:00:00.000000000",
          "2024-12-24T00:00:00.000000000",
          "2024-12-25T00:00:00.000000000",
          "2024-12-26T00:00:00.000000000",
          "2024-12-27T00:00:00.000000000",
          "2024-12-28T00:00:00.000000000",
          "2024-12-29T00:00:00.000000000",
          "2024-12-30T00:00:00.000000000",
          "2024-12-31T00:00:00.000000000",
          "2025-01-01T00:00:00.000000000",
          "2025-01-02T00:00:00.000000000",
          "2025-01-03T00:00:00.000000000",
          "2025-01-04T00:00:00.000000000",
          "2025-01-05T00:00:00.000000000",
          "2025-01-06T00:00:00.000000000",
          "2025-01-07T00:00:00.000000000",
          "2025-01-08T00:00:00.000000000",
          "2025-01-09T00:00:00.000000000",
          "2025-01-10T00:00:00.000000000",
          "2025-01-11T00:00:00.000000000",
          "2025-01-12T00:00:00.000000000",
          "2025-01-13T00:00:00.000000000",
          "2025-01-14T00:00:00.000000000",
          "2025-01-15T00:00:00.000000000",
          "2025-01-16T00:00:00.000000000",
          "2025-01-17T00:00:00.000000000",
          "2025-01-18T00:00:00.000000000",
          "2025-01-19T00:00:00.000000000",
          "2025-01-20T00:00:00.000000000",
          "2025-01-21T00:00:00.000000000",
          "2025-01-22T00:00:00.000000000",
          "2025-01-23T00:00:00.000000000",
          "2025-01-24T00:00:00.000000000",
          "2025-01-25T00:00:00.000000000",
          "2025-01-26T00:00:00.000000000",
          "2025-01-27T00:00:00.000000000",
          "2025-01-28T00:00:00.000000000",
          "2025-01-29T00:00:00.000000000",
          "2025-01-30T00:00:00.000000000",
          "2025-01-31T00:00:00.000000000",
          "2025-02-01T00:00:00.000000000",
          "2025-02-02T00:00:00.000000000",
          "2025-02-03T00:00:00.000000000",
          "2025-02-04T00:00:00.000000000",
          "2025-02-05T00:00:00.000000000",
          "2025-02-06T00:00:00.000000000",
          "2025-02-07T00:00:00.000000000",
          "2025-02-08T00:00:00.000000000",
          "2025-02-09T00:00:00.000000000",
          "2025-02-10T00:00:00.000000000",
          "2025-02-11T00:00:00.000000000",
          "2025-02-12T00:00:00.000000000",
          "2025-02-13T00:00:00.000000000",
          "2025-02-14T00:00:00.000000000",
          "2025-02-15T00:00:00.000000000",
          "2025-02-16T00:00:00.000000000",
          "2025-02-17T00:00:00.000000000",
          "2025-02-18T00:00:00.000000000",
          "2025-02-19T00:00:00.000000000",
          "2025-02-20T00:00:00.000000000",
          "2025-02-21T00:00:00.000000000",
          "2025-02-22T00:00:00.000000000",
          "2025-02-23T00:00:00.000000000",
          "2025-02-24T00:00:00.000000000",
          "2025-02-25T00:00:00.000000000",
          "2025-02-26T00:00:00.000000000",
          "2025-02-27T00:00:00.000000000",
          "2025-02-28T00:00:00.000000000",
          "2025-03-01T00:00:00.000000000",
          "2025-03-02T00:00:00.000000000",
          "2025-03-03T00:00:00.000000000",
          "2025-03-04T00:00:00.000000000",
          "2025-03-05T00:00:00.000000000",
          "2025-03-06T00:00:00.000000000",
          "2025-03-07T00:00:00.000000000",
          "2025-03-08T00:00:00.000000000",
          "2025-03-09T00:00:00.000000000",
          "2025-03-10T00:00:00.000000000",
          "2025-03-11T00:00:00.000000000",
          "2025-03-12T00:00:00.000000000",
          "2025-03-13T00:00:00.000000000",
          "2025-03-14T00:00:00.000000000",
          "2025-03-15T00:00:00.000000000",
          "2025-03-16T00:00:00.000000000",
          "2025-03-17T00:00:00.000000000",
          "2025-03-18T00:00:00.000000000",
          "2025-03-19T00:00:00.000000000",
          "2025-03-20T00:00:00.000000000",
          "2025-03-21T00:00:00.000000000",
          "2025-03-22T00:00:00.000000000",
          "2025-03-23T00:00:00.000000000",
          "2025-03-24T00:00:00.000000000",
          "2025-03-25T00:00:00.000000000",
          "2025-03-26T00:00:00.000000000",
          "2025-03-27T00:00:00.000000000",
          "2025-03-28T00:00:00.000000000",
          "2025-03-29T00:00:00.000000000",
          "2025-03-30T00:00:00.000000000",
          "2025-03-31T00:00:00.000000000",
          "2025-04-01T00:00:00.000000000",
          "2025-04-02T00:00:00.000000000"
         ],
         "y": {
          "bdata": "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",
          "dtype": "f8"
         }
        }
       ],
       "layout": {
        "autosize": true,
        "height": 500,
        "legend": {
         "orientation": "h",
         "x": 0,
         "y": 1.1
        },
        "margin": {
         "b": 40,
         "l": 40,
         "r": 40,
         "t": 80
        },
        "template": {
         "data": {
          "bar": [
           {
            "error_x": {
             "color": "#2a3f5f"
            },
            "error_y": {
             "color": "#2a3f5f"
            },
            "marker": {
             "line": {
              "color": "white",
              "width": 0.5
             },
             "pattern": {
              "fillmode": "overlay",
              "size": 10,
              "solidity": 0.2
             }
            },
            "type": "bar"
           }
          ],
          "barpolar": [
           {
            "marker": {
             "line": {
              "color": "white",
              "width": 0.5
             },
             "pattern": {
              "fillmode": "overlay",
              "size": 10,
              "solidity": 0.2
             }
            },
            "type": "barpolar"
           }
          ],
          "carpet": [
           {
            "aaxis": {
             "endlinecolor": "#2a3f5f",
             "gridcolor": "#C8D4E3",
             "linecolor": "#C8D4E3",
             "minorgridcolor": "#C8D4E3",
             "startlinecolor": "#2a3f5f"
            },
            "baxis": {
             "endlinecolor": "#2a3f5f",
             "gridcolor": "#C8D4E3",
             "linecolor": "#C8D4E3",
             "minorgridcolor": "#C8D4E3",
             "startlinecolor": "#2a3f5f"
            },
            "type": "carpet"
           }
          ],
          "choropleth": [
           {
            "colorbar": {
             "outlinewidth": 0,
             "ticks": ""
            },
            "type": "choropleth"
           }
          ],
          "contour": [
           {
            "colorbar": {
             "outlinewidth": 0,
             "ticks": ""
            },
            "colorscale": [
             [
              0,
              "#0d0887"
             ],
             [
              0.1111111111111111,
              "#46039f"
             ],
             [
              0.2222222222222222,
              "#7201a8"
             ],
             [
              0.3333333333333333,
              "#9c179e"
             ],
             [
              0.4444444444444444,
              "#bd3786"
             ],
             [
              0.5555555555555556,
              "#d8576b"
             ],
             [
              0.6666666666666666,
              "#ed7953"
             ],
             [
              0.7777777777777778,
              "#fb9f3a"
             ],
             [
              0.8888888888888888,
              "#fdca26"
             ],
             [
              1,
              "#f0f921"
             ]
            ],
            "type": "contour"
           }
          ],
          "contourcarpet": [
           {
            "colorbar": {
             "outlinewidth": 0,
             "ticks": ""
            },
            "type": "contourcarpet"
           }
          ],
          "heatmap": [
           {
            "colorbar": {
             "outlinewidth": 0,
             "ticks": ""
            },
            "colorscale": [
             [
              0,
              "#0d0887"
             ],
             [
              0.1111111111111111,
              "#46039f"
             ],
             [
              0.2222222222222222,
              "#7201a8"
             ],
             [
              0.3333333333333333,
              "#9c179e"
             ],
             [
              0.4444444444444444,
              "#bd3786"
             ],
             [
              0.5555555555555556,
              "#d8576b"
             ],
             [
              0.6666666666666666,
              "#ed7953"
             ],
             [
              0.7777777777777778,
              "#fb9f3a"
             ],
             [
              0.8888888888888888,
              "#fdca26"
             ],
             [
              1,
              "#f0f921"
             ]
            ],
            "type": "heatmap"
           }
          ],
          "histogram": [
           {
            "marker": {
             "pattern": {
              "fillmode": "overlay",
              "size": 10,
              "solidity": 0.2
             }
            },
            "type": "histogram"
           }
          ],
          "histogram2d": [
           {
            "colorbar": {
             "outlinewidth": 0,
             "ticks": ""
            },
            "colorscale": [
             [
              0,
              "#0d0887"
             ],
             [
              0.1111111111111111,
              "#46039f"
             ],
             [
              0.2222222222222222,
              "#7201a8"
             ],
             [
              0.3333333333333333,
              "#9c179e"
             ],
             [
              0.4444444444444444,
              "#bd3786"
             ],
             [
              0.5555555555555556,
              "#d8576b"
             ],
             [
              0.6666666666666666,
              "#ed7953"
             ],
             [
              0.7777777777777778,
              "#fb9f3a"
             ],
             [
              0.8888888888888888,
              "#fdca26"
             ],
             [
              1,
              "#f0f921"
             ]
            ],
            "type": "histogram2d"
           }
          ],
          "histogram2dcontour": [
           {
            "colorbar": {
             "outlinewidth": 0,
             "ticks": ""
            },
            "colorscale": [
             [
              0,
              "#0d0887"
             ],
             [
              0.1111111111111111,
              "#46039f"
             ],
             [
              0.2222222222222222,
              "#7201a8"
             ],
             [
              0.3333333333333333,
              "#9c179e"
             ],
             [
              0.4444444444444444,
              "#bd3786"
             ],
             [
              0.5555555555555556,
              "#d8576b"
             ],
             [
              0.6666666666666666,
              "#ed7953"
             ],
             [
              0.7777777777777778,
              "#fb9f3a"
             ],
             [
              0.8888888888888888,
              "#fdca26"
             ],
             [
              1,
              "#f0f921"
             ]
            ],
            "type": "histogram2dcontour"
           }
          ],
          "mesh3d": [
           {
            "colorbar": {
             "outlinewidth": 0,
             "ticks": ""
            },
            "type": "mesh3d"
           }
          ],
          "parcoords": [
           {
            "line": {
             "colorbar": {
              "outlinewidth": 0,
              "ticks": ""
             }
            },
            "type": "parcoords"
           }
          ],
          "pie": [
           {
            "automargin": true,
            "type": "pie"
           }
          ],
          "scatter": [
           {
            "fillpattern": {
             "fillmode": "overlay",
             "size": 10,
             "solidity": 0.2
            },
            "type": "scatter"
           }
          ],
          "scatter3d": [
           {
            "line": {
             "colorbar": {
              "outlinewidth": 0,
              "ticks": ""
             }
            },
            "marker": {
             "colorbar": {
              "outlinewidth": 0,
              "ticks": ""
             }
            },
            "type": "scatter3d"
           }
          ],
          "scattercarpet": [
           {
            "marker": {
             "colorbar": {
              "outlinewidth": 0,
              "ticks": ""
             }
            },
            "type": "scattercarpet"
           }
          ],
          "scattergeo": [
           {
            "marker": {
             "colorbar": {
              "outlinewidth": 0,
              "ticks": ""
             }
            },
            "type": "scattergeo"
           }
          ],
          "scattergl": [
           {
            "marker": {
             "colorbar": {
              "outlinewidth": 0,
              "ticks": ""
             }
            },
            "type": "scattergl"
           }
          ],
          "scattermap": [
           {
            "marker": {
             "colorbar": {
              "outlinewidth": 0,
              "ticks": ""
             }
            },
            "type": "scattermap"
           }
          ],
          "scattermapbox": [
           {
            "marker": {
             "colorbar": {
              "outlinewidth": 0,
              "ticks": ""
             }
            },
            "type": "scattermapbox"
           }
          ],
          "scatterpolar": [
           {
            "marker": {
             "colorbar": {
              "outlinewidth": 0,
              "ticks": ""
             }
            },
            "type": "scatterpolar"
           }
          ],
          "scatterpolargl": [
           {
            "marker": {
             "colorbar": {
              "outlinewidth": 0,
              "ticks": ""
             }
            },
            "type": "scatterpolargl"
           }
          ],
          "scatterternary": [
           {
            "marker": {
             "colorbar": {
              "outlinewidth": 0,
              "ticks": ""
             }
            },
            "type": "scatterternary"
           }
          ],
          "surface": [
           {
            "colorbar": {
             "outlinewidth": 0,
             "ticks": ""
            },
            "colorscale": [
             [
              0,
              "#0d0887"
             ],
             [
              0.1111111111111111,
              "#46039f"
             ],
             [
              0.2222222222222222,
              "#7201a8"
             ],
             [
              0.3333333333333333,
              "#9c179e"
             ],
             [
              0.4444444444444444,
              "#bd3786"
             ],
             [
              0.5555555555555556,
              "#d8576b"
             ],
             [
              0.6666666666666666,
              "#ed7953"
             ],
             [
              0.7777777777777778,
              "#fb9f3a"
             ],
             [
              0.8888888888888888,
              "#fdca26"
             ],
             [
              1,
              "#f0f921"
             ]
            ],
            "type": "surface"
           }
          ],
          "table": [
           {
            "cells": {
             "fill": {
              "color": "#EBF0F8"
             },
             "line": {
              "color": "white"
             }
            },
            "header": {
             "fill": {
              "color": "#C8D4E3"
             },
             "line": {
              "color": "white"
             }
            },
            "type": "table"
           }
          ]
         },
         "layout": {
          "annotationdefaults": {
           "arrowcolor": "#2a3f5f",
           "arrowhead": 0,
           "arrowwidth": 1
          },
          "autotypenumbers": "strict",
          "coloraxis": {
           "colorbar": {
            "outlinewidth": 0,
            "ticks": ""
           }
          },
          "colorscale": {
           "diverging": [
            [
             0,
             "#8e0152"
            ],
            [
             0.1,
             "#c51b7d"
            ],
            [
             0.2,
             "#de77ae"
            ],
            [
             0.3,
             "#f1b6da"
            ],
            [
             0.4,
             "#fde0ef"
            ],
            [
             0.5,
             "#f7f7f7"
            ],
            [
             0.6,
             "#e6f5d0"
            ],
            [
             0.7,
             "#b8e186"
            ],
            [
             0.8,
             "#7fbc41"
            ],
            [
             0.9,
             "#4d9221"
            ],
            [
             1,
             "#276419"
            ]
           ],
           "sequential": [
            [
             0,
             "#0d0887"
            ],
            [
             0.1111111111111111,
             "#46039f"
            ],
            [
             0.2222222222222222,
             "#7201a8"
            ],
            [
             0.3333333333333333,
             "#9c179e"
            ],
            [
             0.4444444444444444,
             "#bd3786"
            ],
            [
             0.5555555555555556,
             "#d8576b"
            ],
            [
             0.6666666666666666,
             "#ed7953"
            ],
            [
             0.7777777777777778,
             "#fb9f3a"
            ],
            [
             0.8888888888888888,
             "#fdca26"
            ],
            [
             1,
             "#f0f921"
            ]
           ],
           "sequentialminus": [
            [
             0,
             "#0d0887"
            ],
            [
             0.1111111111111111,
             "#46039f"
            ],
            [
             0.2222222222222222,
             "#7201a8"
            ],
            [
             0.3333333333333333,
             "#9c179e"
            ],
            [
             0.4444444444444444,
             "#bd3786"
            ],
            [
             0.5555555555555556,
             "#d8576b"
            ],
            [
             0.6666666666666666,
             "#ed7953"
            ],
            [
             0.7777777777777778,
             "#fb9f3a"
            ],
            [
             0.8888888888888888,
             "#fdca26"
            ],
            [
             1,
             "#f0f921"
            ]
           ]
          },
          "colorway": [
           "#636efa",
           "#EF553B",
           "#00cc96",
           "#ab63fa",
           "#FFA15A",
           "#19d3f3",
           "#FF6692",
           "#B6E880",
           "#FF97FF",
           "#FECB52"
          ],
          "font": {
           "color": "#2a3f5f"
          },
          "geo": {
           "bgcolor": "white",
           "lakecolor": "white",
           "landcolor": "white",
           "showlakes": true,
           "showland": true,
           "subunitcolor": "#C8D4E3"
          },
          "hoverlabel": {
           "align": "left"
          },
          "hovermode": "closest",
          "mapbox": {
           "style": "light"
          },
          "paper_bgcolor": "white",
          "plot_bgcolor": "white",
          "polar": {
           "angularaxis": {
            "gridcolor": "#EBF0F8",
            "linecolor": "#EBF0F8",
            "ticks": ""
           },
           "bgcolor": "white",
           "radialaxis": {
            "gridcolor": "#EBF0F8",
            "linecolor": "#EBF0F8",
            "ticks": ""
           }
          },
          "scene": {
           "xaxis": {
            "backgroundcolor": "white",
            "gridcolor": "#DFE8F3",
            "gridwidth": 2,
            "linecolor": "#EBF0F8",
            "showbackground": true,
            "ticks": "",
            "zerolinecolor": "#EBF0F8"
           },
           "yaxis": {
            "backgroundcolor": "white",
            "gridcolor": "#DFE8F3",
            "gridwidth": 2,
            "linecolor": "#EBF0F8",
            "showbackground": true,
            "ticks": "",
            "zerolinecolor": "#EBF0F8"
           },
           "zaxis": {
            "backgroundcolor": "white",
            "gridcolor": "#DFE8F3",
            "gridwidth": 2,
            "linecolor": "#EBF0F8",
            "showbackground": true,
            "ticks": "",
            "zerolinecolor": "#EBF0F8"
           }
          },
          "shapedefaults": {
           "line": {
            "color": "#2a3f5f"
           }
          },
          "ternary": {
           "aaxis": {
            "gridcolor": "#DFE8F3",
            "linecolor": "#A2B1C6",
            "ticks": ""
           },
           "baxis": {
            "gridcolor": "#DFE8F3",
            "linecolor": "#A2B1C6",
            "ticks": ""
           },
           "bgcolor": "white",
           "caxis": {
            "gridcolor": "#DFE8F3",
            "linecolor": "#A2B1C6",
            "ticks": ""
           }
          },
          "title": {
           "x": 0.05
          },
          "xaxis": {
           "automargin": true,
           "gridcolor": "#EBF0F8",
           "linecolor": "#EBF0F8",
           "ticks": "",
           "title": {
            "standoff": 15
           },
           "zerolinecolor": "#EBF0F8",
           "zerolinewidth": 2
          },
          "yaxis": {
           "automargin": true,
           "gridcolor": "#EBF0F8",
           "linecolor": "#EBF0F8",
           "ticks": "",
           "title": {
            "standoff": 15
           },
           "zerolinecolor": "#EBF0F8",
           "zerolinewidth": 2
          }
         }
        },
        "title": {
         "text": "Actual vs Predicted Closing Prices"
        },
        "xaxis": {
         "title": {
          "text": "Date"
         }
        },
        "yaxis": {
         "title": {
          "text": "Price (USD)"
         }
        }
       }
      }
     },
     "metadata": {},
     "output_type": "display_data"
    }
   ],
   "source": [
    "\n",
    "\n",
    "import plotly.graph_objects as go\n",
    "\n",
    "# Create a DataFrame to store the actual vs predicted values\n",
    "results = pd.DataFrame({\n",
    "    'Date': X_test.index,\n",
    "    'Actual': y_test,\n",
    "    'Predicted': y_pred\n",
    "})\n",
    "\n",
    "# Make sure Date is datetime (Plotly likes it)\n",
    "results['Date'] = data.loc[X_test.index, 'Date'].values\n",
    "\n",
    "# Build interactive plot\n",
    "fig = go.Figure()\n",
    "\n",
    "fig.add_trace(go.Scatter(\n",
    "    x=results['Date'],\n",
    "    y=results['Actual'],\n",
    "    mode='lines',\n",
    "    name='Actual Closing Price',\n",
    "    line=dict(color='blue')\n",
    "))\n",
    "\n",
    "fig.add_trace(go.Scatter(\n",
    "    x=results['Date'],\n",
    "    y=results['Predicted'],\n",
    "    mode='lines',\n",
    "    name='Predicted Closing Price',\n",
    "    line=dict(color='red', dash='dash')\n",
    "))\n",
    "\n",
    "# Layout styling\n",
    "fig.update_layout(\n",
    "    title='Actual vs Predicted Closing Prices',\n",
    "    xaxis_title='Date',\n",
    "    yaxis_title='Price (USD)',\n",
    "    template='plotly_white',\n",
    "    legend=dict(x=0, y=1.1, orientation='h'),\n",
    "    autosize=True,\n",
    "    margin=dict(l=40, r=40, t=80, b=40),\n",
    "    height=500,\n",
    ")\n",
    "\n",
    "# Show the plot\n",
    "fig.show()\n",
    "\n"
   ]
  },
  {
   "cell_type": "code",
   "execution_count": 100,
   "id": "dea8df4f",
   "metadata": {},
   "outputs": [
    {
     "name": "stdout",
     "output_type": "stream",
     "text": [
      "R-squared: 0.9952814900462568\n",
      "MAE: 1079.24\n",
      "RMSE: 1652.89\n"
     ]
    },
    {
     "name": "stderr",
     "output_type": "stream",
     "text": [
      "C:\\Users\\edufs\\AppData\\Local\\Packages\\PythonSoftwareFoundation.Python.3.11_qbz5n2kfra8p0\\LocalCache\\local-packages\\Python311\\site-packages\\sklearn\\metrics\\_regression.py:492: FutureWarning:\n",
      "\n",
      "'squared' is deprecated in version 1.4 and will be removed in 1.6. To calculate the root mean squared error, use the function'root_mean_squared_error'.\n",
      "\n"
     ]
    }
   ],
   "source": [
    "# Evaluate the model\n",
    "r2 = r2_score(y_test, y_pred)\n",
    "\n",
    "print(f\"R-squared: {r2}\")\n",
    "\n",
    "mae = mean_absolute_error(y_test, y_pred)\n",
    "rmse = mean_squared_error(y_test, y_pred, squared=False)\n",
    "\n",
    "#how far off my predictions are from actual values\n",
    "print(f\"MAE: {mae:.2f}\")\n",
    "\n",
    "print(f\"RMSE: {rmse:.2f}\")"
   ]
  },
  {
   "cell_type": "code",
   "execution_count": null,
   "id": "4a720188",
   "metadata": {},
   "outputs": [],
   "source": []
  },
  {
   "cell_type": "code",
   "execution_count": 99,
   "id": "d50cb717",
   "metadata": {},
   "outputs": [
    {
     "data": {
      "application/vnd.plotly.v1+json": {
       "config": {
        "plotlyServerURL": "https://plot.ly"
       },
       "data": [
        {
         "hovertemplate": "Date=%{x}<br>RMSE=%{y}<extra></extra>",
         "legendgroup": "",
         "line": {
          "color": "#636efa",
          "dash": "solid"
         },
         "marker": {
          "symbol": "circle"
         },
         "mode": "lines",
         "name": "",
         "orientation": "v",
         "showlegend": false,
         "type": "scatter",
         "x": [
          "2023-04-25T00:00:00.000000000",
          "2023-04-26T00:00:00.000000000",
          "2023-04-27T00:00:00.000000000",
          "2023-04-28T00:00:00.000000000",
          "2023-04-29T00:00:00.000000000",
          "2023-04-30T00:00:00.000000000",
          "2023-05-01T00:00:00.000000000",
          "2023-05-02T00:00:00.000000000",
          "2023-05-03T00:00:00.000000000",
          "2023-05-04T00:00:00.000000000",
          "2023-05-05T00:00:00.000000000",
          "2023-05-06T00:00:00.000000000",
          "2023-05-07T00:00:00.000000000",
          "2023-05-08T00:00:00.000000000",
          "2023-05-09T00:00:00.000000000",
          "2023-05-10T00:00:00.000000000",
          "2023-05-11T00:00:00.000000000",
          "2023-05-12T00:00:00.000000000",
          "2023-05-13T00:00:00.000000000",
          "2023-05-14T00:00:00.000000000",
          "2023-05-15T00:00:00.000000000",
          "2023-05-16T00:00:00.000000000",
          "2023-05-17T00:00:00.000000000",
          "2023-05-18T00:00:00.000000000",
          "2023-05-19T00:00:00.000000000",
          "2023-05-20T00:00:00.000000000",
          "2023-05-21T00:00:00.000000000",
          "2023-05-22T00:00:00.000000000",
          "2023-05-23T00:00:00.000000000",
          "2023-05-24T00:00:00.000000000",
          "2023-05-25T00:00:00.000000000",
          "2023-05-26T00:00:00.000000000",
          "2023-05-27T00:00:00.000000000",
          "2023-05-28T00:00:00.000000000",
          "2023-05-29T00:00:00.000000000",
          "2023-05-30T00:00:00.000000000",
          "2023-05-31T00:00:00.000000000",
          "2023-06-01T00:00:00.000000000",
          "2023-06-02T00:00:00.000000000",
          "2023-06-03T00:00:00.000000000",
          "2023-06-04T00:00:00.000000000",
          "2023-06-05T00:00:00.000000000",
          "2023-06-06T00:00:00.000000000",
          "2023-06-07T00:00:00.000000000",
          "2023-06-08T00:00:00.000000000",
          "2023-06-09T00:00:00.000000000",
          "2023-06-10T00:00:00.000000000",
          "2023-06-11T00:00:00.000000000",
          "2023-06-12T00:00:00.000000000",
          "2023-06-13T00:00:00.000000000",
          "2023-06-14T00:00:00.000000000",
          "2023-06-15T00:00:00.000000000",
          "2023-06-16T00:00:00.000000000",
          "2023-06-17T00:00:00.000000000",
          "2023-06-18T00:00:00.000000000",
          "2023-06-19T00:00:00.000000000",
          "2023-06-20T00:00:00.000000000",
          "2023-06-21T00:00:00.000000000",
          "2023-06-22T00:00:00.000000000",
          "2023-06-23T00:00:00.000000000",
          "2023-06-24T00:00:00.000000000",
          "2023-06-25T00:00:00.000000000",
          "2023-06-26T00:00:00.000000000",
          "2023-06-27T00:00:00.000000000",
          "2023-06-28T00:00:00.000000000",
          "2023-06-29T00:00:00.000000000",
          "2023-06-30T00:00:00.000000000",
          "2023-07-01T00:00:00.000000000",
          "2023-07-02T00:00:00.000000000",
          "2023-07-03T00:00:00.000000000",
          "2023-07-04T00:00:00.000000000",
          "2023-07-05T00:00:00.000000000",
          "2023-07-06T00:00:00.000000000",
          "2023-07-07T00:00:00.000000000",
          "2023-07-08T00:00:00.000000000",
          "2023-07-09T00:00:00.000000000",
          "2023-07-10T00:00:00.000000000",
          "2023-07-11T00:00:00.000000000",
          "2023-07-12T00:00:00.000000000",
          "2023-07-13T00:00:00.000000000",
          "2023-07-14T00:00:00.000000000",
          "2023-07-15T00:00:00.000000000",
          "2023-07-16T00:00:00.000000000",
          "2023-07-17T00:00:00.000000000",
          "2023-07-18T00:00:00.000000000",
          "2023-07-19T00:00:00.000000000",
          "2023-07-20T00:00:00.000000000",
          "2023-07-21T00:00:00.000000000",
          "2023-07-22T00:00:00.000000000",
          "2023-07-23T00:00:00.000000000",
          "2023-07-24T00:00:00.000000000",
          "2023-07-25T00:00:00.000000000",
          "2023-07-26T00:00:00.000000000",
          "2023-07-27T00:00:00.000000000",
          "2023-07-28T00:00:00.000000000",
          "2023-07-29T00:00:00.000000000",
          "2023-07-30T00:00:00.000000000",
          "2023-07-31T00:00:00.000000000",
          "2023-08-01T00:00:00.000000000",
          "2023-08-02T00:00:00.000000000",
          "2023-08-03T00:00:00.000000000",
          "2023-08-04T00:00:00.000000000",
          "2023-08-05T00:00:00.000000000",
          "2023-08-06T00:00:00.000000000",
          "2023-08-07T00:00:00.000000000",
          "2023-08-08T00:00:00.000000000",
          "2023-08-09T00:00:00.000000000",
          "2023-08-10T00:00:00.000000000",
          "2023-08-11T00:00:00.000000000",
          "2023-08-12T00:00:00.000000000",
          "2023-08-13T00:00:00.000000000",
          "2023-08-14T00:00:00.000000000",
          "2023-08-15T00:00:00.000000000",
          "2023-08-16T00:00:00.000000000",
          "2023-08-17T00:00:00.000000000",
          "2023-08-18T00:00:00.000000000",
          "2023-08-19T00:00:00.000000000",
          "2023-08-20T00:00:00.000000000",
          "2023-08-21T00:00:00.000000000",
          "2023-08-22T00:00:00.000000000",
          "2023-08-23T00:00:00.000000000",
          "2023-08-24T00:00:00.000000000",
          "2023-08-25T00:00:00.000000000",
          "2023-08-26T00:00:00.000000000",
          "2023-08-27T00:00:00.000000000",
          "2023-08-28T00:00:00.000000000",
          "2023-08-29T00:00:00.000000000",
          "2023-08-30T00:00:00.000000000",
          "2023-08-31T00:00:00.000000000",
          "2023-09-01T00:00:00.000000000",
          "2023-09-02T00:00:00.000000000",
          "2023-09-03T00:00:00.000000000",
          "2023-09-04T00:00:00.000000000",
          "2023-09-05T00:00:00.000000000",
          "2023-09-06T00:00:00.000000000",
          "2023-09-07T00:00:00.000000000",
          "2023-09-08T00:00:00.000000000",
          "2023-09-09T00:00:00.000000000",
          "2023-09-10T00:00:00.000000000",
          "2023-09-11T00:00:00.000000000",
          "2023-09-12T00:00:00.000000000",
          "2023-09-13T00:00:00.000000000",
          "2023-09-14T00:00:00.000000000",
          "2023-09-15T00:00:00.000000000",
          "2023-09-16T00:00:00.000000000",
          "2023-09-17T00:00:00.000000000",
          "2023-09-18T00:00:00.000000000",
          "2023-09-19T00:00:00.000000000",
          "2023-09-20T00:00:00.000000000",
          "2023-09-21T00:00:00.000000000",
          "2023-09-22T00:00:00.000000000",
          "2023-09-23T00:00:00.000000000",
          "2023-09-24T00:00:00.000000000",
          "2023-09-25T00:00:00.000000000",
          "2023-09-26T00:00:00.000000000",
          "2023-09-27T00:00:00.000000000",
          "2023-09-28T00:00:00.000000000",
          "2023-09-29T00:00:00.000000000",
          "2023-09-30T00:00:00.000000000",
          "2023-10-01T00:00:00.000000000",
          "2023-10-02T00:00:00.000000000",
          "2023-10-03T00:00:00.000000000",
          "2023-10-04T00:00:00.000000000",
          "2023-10-05T00:00:00.000000000",
          "2023-10-06T00:00:00.000000000",
          "2023-10-07T00:00:00.000000000",
          "2023-10-08T00:00:00.000000000",
          "2023-10-09T00:00:00.000000000",
          "2023-10-10T00:00:00.000000000",
          "2023-10-11T00:00:00.000000000",
          "2023-10-12T00:00:00.000000000",
          "2023-10-13T00:00:00.000000000",
          "2023-10-14T00:00:00.000000000",
          "2023-10-15T00:00:00.000000000",
          "2023-10-16T00:00:00.000000000",
          "2023-10-17T00:00:00.000000000",
          "2023-10-18T00:00:00.000000000",
          "2023-10-19T00:00:00.000000000",
          "2023-10-20T00:00:00.000000000",
          "2023-10-21T00:00:00.000000000",
          "2023-10-22T00:00:00.000000000",
          "2023-10-23T00:00:00.000000000",
          "2023-10-24T00:00:00.000000000",
          "2023-10-25T00:00:00.000000000",
          "2023-10-26T00:00:00.000000000",
          "2023-10-27T00:00:00.000000000",
          "2023-10-28T00:00:00.000000000",
          "2023-10-29T00:00:00.000000000",
          "2023-10-30T00:00:00.000000000",
          "2023-10-31T00:00:00.000000000",
          "2023-11-01T00:00:00.000000000",
          "2023-11-02T00:00:00.000000000",
          "2023-11-03T00:00:00.000000000",
          "2023-11-04T00:00:00.000000000",
          "2023-11-05T00:00:00.000000000",
          "2023-11-06T00:00:00.000000000",
          "2023-11-07T00:00:00.000000000",
          "2023-11-08T00:00:00.000000000",
          "2023-11-09T00:00:00.000000000",
          "2023-11-10T00:00:00.000000000",
          "2023-11-11T00:00:00.000000000",
          "2023-11-12T00:00:00.000000000",
          "2023-11-13T00:00:00.000000000",
          "2023-11-14T00:00:00.000000000",
          "2023-11-15T00:00:00.000000000",
          "2023-11-16T00:00:00.000000000",
          "2023-11-17T00:00:00.000000000",
          "2023-11-18T00:00:00.000000000",
          "2023-11-19T00:00:00.000000000",
          "2023-11-20T00:00:00.000000000",
          "2023-11-21T00:00:00.000000000",
          "2023-11-22T00:00:00.000000000",
          "2023-11-23T00:00:00.000000000",
          "2023-11-24T00:00:00.000000000",
          "2023-11-25T00:00:00.000000000",
          "2023-11-26T00:00:00.000000000",
          "2023-11-27T00:00:00.000000000",
          "2023-11-28T00:00:00.000000000",
          "2023-11-29T00:00:00.000000000",
          "2023-11-30T00:00:00.000000000",
          "2023-12-01T00:00:00.000000000",
          "2023-12-02T00:00:00.000000000",
          "2023-12-03T00:00:00.000000000",
          "2023-12-04T00:00:00.000000000",
          "2023-12-05T00:00:00.000000000",
          "2023-12-06T00:00:00.000000000",
          "2023-12-07T00:00:00.000000000",
          "2023-12-08T00:00:00.000000000",
          "2023-12-09T00:00:00.000000000",
          "2023-12-10T00:00:00.000000000",
          "2023-12-11T00:00:00.000000000",
          "2023-12-12T00:00:00.000000000",
          "2023-12-13T00:00:00.000000000",
          "2023-12-14T00:00:00.000000000",
          "2023-12-15T00:00:00.000000000",
          "2023-12-16T00:00:00.000000000",
          "2023-12-17T00:00:00.000000000",
          "2023-12-18T00:00:00.000000000",
          "2023-12-19T00:00:00.000000000",
          "2023-12-20T00:00:00.000000000",
          "2023-12-21T00:00:00.000000000",
          "2023-12-22T00:00:00.000000000",
          "2023-12-23T00:00:00.000000000",
          "2023-12-24T00:00:00.000000000",
          "2023-12-25T00:00:00.000000000",
          "2023-12-26T00:00:00.000000000",
          "2023-12-27T00:00:00.000000000",
          "2023-12-28T00:00:00.000000000",
          "2023-12-29T00:00:00.000000000",
          "2023-12-30T00:00:00.000000000",
          "2023-12-31T00:00:00.000000000",
          "2024-01-01T00:00:00.000000000",
          "2024-01-02T00:00:00.000000000",
          "2024-01-03T00:00:00.000000000",
          "2024-01-04T00:00:00.000000000",
          "2024-01-05T00:00:00.000000000",
          "2024-01-06T00:00:00.000000000",
          "2024-01-07T00:00:00.000000000",
          "2024-01-08T00:00:00.000000000",
          "2024-01-09T00:00:00.000000000",
          "2024-01-10T00:00:00.000000000",
          "2024-01-11T00:00:00.000000000",
          "2024-01-12T00:00:00.000000000",
          "2024-01-13T00:00:00.000000000",
          "2024-01-14T00:00:00.000000000",
          "2024-01-15T00:00:00.000000000",
          "2024-01-16T00:00:00.000000000",
          "2024-01-17T00:00:00.000000000",
          "2024-01-18T00:00:00.000000000",
          "2024-01-19T00:00:00.000000000",
          "2024-01-20T00:00:00.000000000",
          "2024-01-21T00:00:00.000000000",
          "2024-01-22T00:00:00.000000000",
          "2024-01-23T00:00:00.000000000",
          "2024-01-24T00:00:00.000000000",
          "2024-01-25T00:00:00.000000000",
          "2024-01-26T00:00:00.000000000",
          "2024-01-27T00:00:00.000000000",
          "2024-01-28T00:00:00.000000000",
          "2024-01-29T00:00:00.000000000",
          "2024-01-30T00:00:00.000000000",
          "2024-01-31T00:00:00.000000000",
          "2024-02-01T00:00:00.000000000",
          "2024-02-02T00:00:00.000000000",
          "2024-02-03T00:00:00.000000000",
          "2024-02-04T00:00:00.000000000",
          "2024-02-05T00:00:00.000000000",
          "2024-02-06T00:00:00.000000000",
          "2024-02-07T00:00:00.000000000",
          "2024-02-08T00:00:00.000000000",
          "2024-02-09T00:00:00.000000000",
          "2024-02-10T00:00:00.000000000",
          "2024-02-11T00:00:00.000000000",
          "2024-02-12T00:00:00.000000000",
          "2024-02-13T00:00:00.000000000",
          "2024-02-14T00:00:00.000000000",
          "2024-02-15T00:00:00.000000000",
          "2024-02-16T00:00:00.000000000",
          "2024-02-17T00:00:00.000000000",
          "2024-02-18T00:00:00.000000000",
          "2024-02-19T00:00:00.000000000",
          "2024-02-20T00:00:00.000000000",
          "2024-02-21T00:00:00.000000000",
          "2024-02-22T00:00:00.000000000",
          "2024-02-23T00:00:00.000000000",
          "2024-02-24T00:00:00.000000000",
          "2024-02-25T00:00:00.000000000",
          "2024-02-26T00:00:00.000000000",
          "2024-02-27T00:00:00.000000000",
          "2024-02-28T00:00:00.000000000",
          "2024-02-29T00:00:00.000000000",
          "2024-03-01T00:00:00.000000000",
          "2024-03-02T00:00:00.000000000",
          "2024-03-03T00:00:00.000000000",
          "2024-03-04T00:00:00.000000000",
          "2024-03-05T00:00:00.000000000",
          "2024-03-06T00:00:00.000000000",
          "2024-03-07T00:00:00.000000000",
          "2024-03-08T00:00:00.000000000",
          "2024-03-09T00:00:00.000000000",
          "2024-03-10T00:00:00.000000000",
          "2024-03-11T00:00:00.000000000",
          "2024-03-12T00:00:00.000000000",
          "2024-03-13T00:00:00.000000000",
          "2024-03-14T00:00:00.000000000",
          "2024-03-15T00:00:00.000000000",
          "2024-03-16T00:00:00.000000000",
          "2024-03-17T00:00:00.000000000",
          "2024-03-18T00:00:00.000000000",
          "2024-03-19T00:00:00.000000000",
          "2024-03-20T00:00:00.000000000",
          "2024-03-21T00:00:00.000000000",
          "2024-03-22T00:00:00.000000000",
          "2024-03-23T00:00:00.000000000",
          "2024-03-24T00:00:00.000000000",
          "2024-03-25T00:00:00.000000000",
          "2024-03-26T00:00:00.000000000",
          "2024-03-27T00:00:00.000000000",
          "2024-03-28T00:00:00.000000000",
          "2024-03-29T00:00:00.000000000",
          "2024-03-30T00:00:00.000000000",
          "2024-03-31T00:00:00.000000000",
          "2024-04-01T00:00:00.000000000",
          "2024-04-02T00:00:00.000000000",
          "2024-04-03T00:00:00.000000000",
          "2024-04-04T00:00:00.000000000",
          "2024-04-05T00:00:00.000000000",
          "2024-04-06T00:00:00.000000000",
          "2024-04-07T00:00:00.000000000",
          "2024-04-08T00:00:00.000000000",
          "2024-04-09T00:00:00.000000000",
          "2024-04-10T00:00:00.000000000",
          "2024-04-11T00:00:00.000000000",
          "2024-04-12T00:00:00.000000000",
          "2024-04-13T00:00:00.000000000",
          "2024-04-14T00:00:00.000000000",
          "2024-04-15T00:00:00.000000000",
          "2024-04-16T00:00:00.000000000",
          "2024-04-17T00:00:00.000000000",
          "2024-04-18T00:00:00.000000000",
          "2024-04-19T00:00:00.000000000",
          "2024-04-20T00:00:00.000000000",
          "2024-04-21T00:00:00.000000000",
          "2024-04-22T00:00:00.000000000",
          "2024-04-23T00:00:00.000000000",
          "2024-04-24T00:00:00.000000000",
          "2024-04-25T00:00:00.000000000",
          "2024-04-26T00:00:00.000000000",
          "2024-04-27T00:00:00.000000000",
          "2024-04-28T00:00:00.000000000",
          "2024-04-29T00:00:00.000000000",
          "2024-04-30T00:00:00.000000000",
          "2024-05-01T00:00:00.000000000",
          "2024-05-02T00:00:00.000000000",
          "2024-05-03T00:00:00.000000000",
          "2024-05-04T00:00:00.000000000",
          "2024-05-05T00:00:00.000000000",
          "2024-05-06T00:00:00.000000000",
          "2024-05-07T00:00:00.000000000",
          "2024-05-08T00:00:00.000000000",
          "2024-05-09T00:00:00.000000000",
          "2024-05-10T00:00:00.000000000",
          "2024-05-11T00:00:00.000000000",
          "2024-05-12T00:00:00.000000000",
          "2024-05-13T00:00:00.000000000",
          "2024-05-14T00:00:00.000000000",
          "2024-05-15T00:00:00.000000000",
          "2024-05-16T00:00:00.000000000",
          "2024-05-17T00:00:00.000000000",
          "2024-05-18T00:00:00.000000000",
          "2024-05-19T00:00:00.000000000",
          "2024-05-20T00:00:00.000000000",
          "2024-05-21T00:00:00.000000000",
          "2024-05-22T00:00:00.000000000",
          "2024-05-23T00:00:00.000000000",
          "2024-05-24T00:00:00.000000000",
          "2024-05-25T00:00:00.000000000",
          "2024-05-26T00:00:00.000000000",
          "2024-05-27T00:00:00.000000000",
          "2024-05-28T00:00:00.000000000",
          "2024-05-29T00:00:00.000000000",
          "2024-05-30T00:00:00.000000000",
          "2024-05-31T00:00:00.000000000",
          "2024-06-01T00:00:00.000000000",
          "2024-06-02T00:00:00.000000000",
          "2024-06-03T00:00:00.000000000",
          "2024-06-04T00:00:00.000000000",
          "2024-06-05T00:00:00.000000000",
          "2024-06-06T00:00:00.000000000",
          "2024-06-07T00:00:00.000000000",
          "2024-06-08T00:00:00.000000000",
          "2024-06-09T00:00:00.000000000",
          "2024-06-10T00:00:00.000000000",
          "2024-06-11T00:00:00.000000000",
          "2024-06-12T00:00:00.000000000",
          "2024-06-13T00:00:00.000000000",
          "2024-06-14T00:00:00.000000000",
          "2024-06-15T00:00:00.000000000",
          "2024-06-16T00:00:00.000000000",
          "2024-06-17T00:00:00.000000000",
          "2024-06-18T00:00:00.000000000",
          "2024-06-19T00:00:00.000000000",
          "2024-06-20T00:00:00.000000000",
          "2024-06-21T00:00:00.000000000",
          "2024-06-22T00:00:00.000000000",
          "2024-06-23T00:00:00.000000000",
          "2024-06-24T00:00:00.000000000",
          "2024-06-25T00:00:00.000000000",
          "2024-06-26T00:00:00.000000000",
          "2024-06-27T00:00:00.000000000",
          "2024-06-28T00:00:00.000000000",
          "2024-06-29T00:00:00.000000000",
          "2024-06-30T00:00:00.000000000",
          "2024-07-01T00:00:00.000000000",
          "2024-07-02T00:00:00.000000000",
          "2024-07-03T00:00:00.000000000",
          "2024-07-04T00:00:00.000000000",
          "2024-07-05T00:00:00.000000000",
          "2024-07-06T00:00:00.000000000",
          "2024-07-07T00:00:00.000000000",
          "2024-07-08T00:00:00.000000000",
          "2024-07-09T00:00:00.000000000",
          "2024-07-10T00:00:00.000000000",
          "2024-07-11T00:00:00.000000000",
          "2024-07-12T00:00:00.000000000",
          "2024-07-13T00:00:00.000000000",
          "2024-07-14T00:00:00.000000000",
          "2024-07-15T00:00:00.000000000",
          "2024-07-16T00:00:00.000000000",
          "2024-07-17T00:00:00.000000000",
          "2024-07-18T00:00:00.000000000",
          "2024-07-19T00:00:00.000000000",
          "2024-07-20T00:00:00.000000000",
          "2024-07-21T00:00:00.000000000",
          "2024-07-22T00:00:00.000000000",
          "2024-07-23T00:00:00.000000000",
          "2024-07-24T00:00:00.000000000",
          "2024-07-25T00:00:00.000000000",
          "2024-07-26T00:00:00.000000000",
          "2024-07-27T00:00:00.000000000",
          "2024-07-28T00:00:00.000000000",
          "2024-07-29T00:00:00.000000000",
          "2024-07-30T00:00:00.000000000",
          "2024-07-31T00:00:00.000000000",
          "2024-08-01T00:00:00.000000000",
          "2024-08-02T00:00:00.000000000",
          "2024-08-03T00:00:00.000000000",
          "2024-08-04T00:00:00.000000000",
          "2024-08-05T00:00:00.000000000",
          "2024-08-06T00:00:00.000000000",
          "2024-08-07T00:00:00.000000000",
          "2024-08-08T00:00:00.000000000",
          "2024-08-09T00:00:00.000000000",
          "2024-08-10T00:00:00.000000000",
          "2024-08-11T00:00:00.000000000",
          "2024-08-12T00:00:00.000000000",
          "2024-08-13T00:00:00.000000000",
          "2024-08-14T00:00:00.000000000",
          "2024-08-15T00:00:00.000000000",
          "2024-08-16T00:00:00.000000000",
          "2024-08-17T00:00:00.000000000",
          "2024-08-18T00:00:00.000000000",
          "2024-08-19T00:00:00.000000000",
          "2024-08-20T00:00:00.000000000",
          "2024-08-21T00:00:00.000000000",
          "2024-08-22T00:00:00.000000000",
          "2024-08-23T00:00:00.000000000",
          "2024-08-24T00:00:00.000000000",
          "2024-08-25T00:00:00.000000000",
          "2024-08-26T00:00:00.000000000",
          "2024-08-27T00:00:00.000000000",
          "2024-08-28T00:00:00.000000000",
          "2024-08-29T00:00:00.000000000",
          "2024-08-30T00:00:00.000000000",
          "2024-08-31T00:00:00.000000000",
          "2024-09-01T00:00:00.000000000",
          "2024-09-02T00:00:00.000000000",
          "2024-09-03T00:00:00.000000000",
          "2024-09-04T00:00:00.000000000",
          "2024-09-05T00:00:00.000000000",
          "2024-09-06T00:00:00.000000000",
          "2024-09-07T00:00:00.000000000",
          "2024-09-08T00:00:00.000000000",
          "2024-09-09T00:00:00.000000000",
          "2024-09-10T00:00:00.000000000",
          "2024-09-11T00:00:00.000000000",
          "2024-09-12T00:00:00.000000000",
          "2024-09-13T00:00:00.000000000",
          "2024-09-14T00:00:00.000000000",
          "2024-09-15T00:00:00.000000000",
          "2024-09-16T00:00:00.000000000",
          "2024-09-17T00:00:00.000000000",
          "2024-09-18T00:00:00.000000000",
          "2024-09-19T00:00:00.000000000",
          "2024-09-20T00:00:00.000000000",
          "2024-09-21T00:00:00.000000000",
          "2024-09-22T00:00:00.000000000",
          "2024-09-23T00:00:00.000000000",
          "2024-09-24T00:00:00.000000000",
          "2024-09-25T00:00:00.000000000",
          "2024-09-26T00:00:00.000000000",
          "2024-09-27T00:00:00.000000000",
          "2024-09-28T00:00:00.000000000",
          "2024-09-29T00:00:00.000000000",
          "2024-09-30T00:00:00.000000000",
          "2024-10-01T00:00:00.000000000",
          "2024-10-02T00:00:00.000000000",
          "2024-10-03T00:00:00.000000000",
          "2024-10-04T00:00:00.000000000",
          "2024-10-05T00:00:00.000000000",
          "2024-10-06T00:00:00.000000000",
          "2024-10-07T00:00:00.000000000",
          "2024-10-08T00:00:00.000000000",
          "2024-10-09T00:00:00.000000000",
          "2024-10-10T00:00:00.000000000",
          "2024-10-11T00:00:00.000000000",
          "2024-10-12T00:00:00.000000000",
          "2024-10-13T00:00:00.000000000",
          "2024-10-14T00:00:00.000000000",
          "2024-10-15T00:00:00.000000000",
          "2024-10-16T00:00:00.000000000",
          "2024-10-17T00:00:00.000000000",
          "2024-10-18T00:00:00.000000000",
          "2024-10-19T00:00:00.000000000",
          "2024-10-20T00:00:00.000000000",
          "2024-10-21T00:00:00.000000000",
          "2024-10-22T00:00:00.000000000",
          "2024-10-23T00:00:00.000000000",
          "2024-10-24T00:00:00.000000000",
          "2024-10-25T00:00:00.000000000",
          "2024-10-26T00:00:00.000000000",
          "2024-10-27T00:00:00.000000000",
          "2024-10-28T00:00:00.000000000",
          "2024-10-29T00:00:00.000000000",
          "2024-10-30T00:00:00.000000000",
          "2024-10-31T00:00:00.000000000",
          "2024-11-01T00:00:00.000000000",
          "2024-11-02T00:00:00.000000000",
          "2024-11-03T00:00:00.000000000",
          "2024-11-04T00:00:00.000000000",
          "2024-11-05T00:00:00.000000000",
          "2024-11-06T00:00:00.000000000",
          "2024-11-07T00:00:00.000000000",
          "2024-11-08T00:00:00.000000000",
          "2024-11-09T00:00:00.000000000",
          "2024-11-10T00:00:00.000000000",
          "2024-11-11T00:00:00.000000000",
          "2024-11-12T00:00:00.000000000",
          "2024-11-13T00:00:00.000000000",
          "2024-11-14T00:00:00.000000000",
          "2024-11-15T00:00:00.000000000",
          "2024-11-16T00:00:00.000000000",
          "2024-11-17T00:00:00.000000000",
          "2024-11-18T00:00:00.000000000",
          "2024-11-19T00:00:00.000000000",
          "2024-11-20T00:00:00.000000000",
          "2024-11-21T00:00:00.000000000",
          "2024-11-22T00:00:00.000000000",
          "2024-11-23T00:00:00.000000000",
          "2024-11-24T00:00:00.000000000",
          "2024-11-25T00:00:00.000000000",
          "2024-11-26T00:00:00.000000000",
          "2024-11-27T00:00:00.000000000",
          "2024-11-28T00:00:00.000000000",
          "2024-11-29T00:00:00.000000000",
          "2024-11-30T00:00:00.000000000",
          "2024-12-01T00:00:00.000000000",
          "2024-12-02T00:00:00.000000000",
          "2024-12-03T00:00:00.000000000",
          "2024-12-04T00:00:00.000000000",
          "2024-12-05T00:00:00.000000000",
          "2024-12-06T00:00:00.000000000",
          "2024-12-07T00:00:00.000000000",
          "2024-12-08T00:00:00.000000000",
          "2024-12-09T00:00:00.000000000",
          "2024-12-10T00:00:00.000000000",
          "2024-12-11T00:00:00.000000000",
          "2024-12-12T00:00:00.000000000",
          "2024-12-13T00:00:00.000000000",
          "2024-12-14T00:00:00.000000000",
          "2024-12-15T00:00:00.000000000",
          "2024-12-16T00:00:00.000000000",
          "2024-12-17T00:00:00.000000000",
          "2024-12-18T00:00:00.000000000",
          "2024-12-19T00:00:00.000000000",
          "2024-12-20T00:00:00.000000000",
          "2024-12-21T00:00:00.000000000",
          "2024-12-22T00:00:00.000000000",
          "2024-12-23T00:00:00.000000000",
          "2024-12-24T00:00:00.000000000",
          "2024-12-25T00:00:00.000000000",
          "2024-12-26T00:00:00.000000000",
          "2024-12-27T00:00:00.000000000",
          "2024-12-28T00:00:00.000000000",
          "2024-12-29T00:00:00.000000000",
          "2024-12-30T00:00:00.000000000",
          "2024-12-31T00:00:00.000000000",
          "2025-01-01T00:00:00.000000000",
          "2025-01-02T00:00:00.000000000",
          "2025-01-03T00:00:00.000000000",
          "2025-01-04T00:00:00.000000000",
          "2025-01-05T00:00:00.000000000",
          "2025-01-06T00:00:00.000000000",
          "2025-01-07T00:00:00.000000000",
          "2025-01-08T00:00:00.000000000",
          "2025-01-09T00:00:00.000000000",
          "2025-01-10T00:00:00.000000000",
          "2025-01-11T00:00:00.000000000",
          "2025-01-12T00:00:00.000000000",
          "2025-01-13T00:00:00.000000000",
          "2025-01-14T00:00:00.000000000",
          "2025-01-15T00:00:00.000000000",
          "2025-01-16T00:00:00.000000000",
          "2025-01-17T00:00:00.000000000",
          "2025-01-18T00:00:00.000000000",
          "2025-01-19T00:00:00.000000000",
          "2025-01-20T00:00:00.000000000",
          "2025-01-21T00:00:00.000000000",
          "2025-01-22T00:00:00.000000000",
          "2025-01-23T00:00:00.000000000",
          "2025-01-24T00:00:00.000000000",
          "2025-01-25T00:00:00.000000000",
          "2025-01-26T00:00:00.000000000",
          "2025-01-27T00:00:00.000000000",
          "2025-01-28T00:00:00.000000000",
          "2025-01-29T00:00:00.000000000",
          "2025-01-30T00:00:00.000000000",
          "2025-01-31T00:00:00.000000000",
          "2025-02-01T00:00:00.000000000",
          "2025-02-02T00:00:00.000000000",
          "2025-02-03T00:00:00.000000000",
          "2025-02-04T00:00:00.000000000",
          "2025-02-05T00:00:00.000000000",
          "2025-02-06T00:00:00.000000000",
          "2025-02-07T00:00:00.000000000",
          "2025-02-08T00:00:00.000000000",
          "2025-02-09T00:00:00.000000000",
          "2025-02-10T00:00:00.000000000",
          "2025-02-11T00:00:00.000000000",
          "2025-02-12T00:00:00.000000000",
          "2025-02-13T00:00:00.000000000",
          "2025-02-14T00:00:00.000000000",
          "2025-02-15T00:00:00.000000000",
          "2025-02-16T00:00:00.000000000",
          "2025-02-17T00:00:00.000000000",
          "2025-02-18T00:00:00.000000000",
          "2025-02-19T00:00:00.000000000",
          "2025-02-20T00:00:00.000000000",
          "2025-02-21T00:00:00.000000000",
          "2025-02-22T00:00:00.000000000",
          "2025-02-23T00:00:00.000000000",
          "2025-02-24T00:00:00.000000000",
          "2025-02-25T00:00:00.000000000",
          "2025-02-26T00:00:00.000000000",
          "2025-02-27T00:00:00.000000000",
          "2025-02-28T00:00:00.000000000",
          "2025-03-01T00:00:00.000000000",
          "2025-03-02T00:00:00.000000000",
          "2025-03-03T00:00:00.000000000",
          "2025-03-04T00:00:00.000000000",
          "2025-03-05T00:00:00.000000000",
          "2025-03-06T00:00:00.000000000",
          "2025-03-07T00:00:00.000000000",
          "2025-03-08T00:00:00.000000000",
          "2025-03-09T00:00:00.000000000",
          "2025-03-10T00:00:00.000000000",
          "2025-03-11T00:00:00.000000000",
          "2025-03-12T00:00:00.000000000",
          "2025-03-13T00:00:00.000000000",
          "2025-03-14T00:00:00.000000000",
          "2025-03-15T00:00:00.000000000",
          "2025-03-16T00:00:00.000000000",
          "2025-03-17T00:00:00.000000000",
          "2025-03-18T00:00:00.000000000",
          "2025-03-19T00:00:00.000000000",
          "2025-03-20T00:00:00.000000000",
          "2025-03-21T00:00:00.000000000",
          "2025-03-22T00:00:00.000000000",
          "2025-03-23T00:00:00.000000000",
          "2025-03-24T00:00:00.000000000",
          "2025-03-25T00:00:00.000000000",
          "2025-03-26T00:00:00.000000000",
          "2025-03-27T00:00:00.000000000",
          "2025-03-28T00:00:00.000000000",
          "2025-03-29T00:00:00.000000000",
          "2025-03-30T00:00:00.000000000",
          "2025-03-31T00:00:00.000000000",
          "2025-04-01T00:00:00.000000000",
          "2025-04-02T00:00:00.000000000"
         ],
         "xaxis": "x",
         "y": {
          "bdata": "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",
          "dtype": "f8"
         },
         "yaxis": "y"
        }
       ],
       "layout": {
        "legend": {
         "tracegroupgap": 0
        },
        "template": {
         "data": {
          "bar": [
           {
            "error_x": {
             "color": "#2a3f5f"
            },
            "error_y": {
             "color": "#2a3f5f"
            },
            "marker": {
             "line": {
              "color": "white",
              "width": 0.5
             },
             "pattern": {
              "fillmode": "overlay",
              "size": 10,
              "solidity": 0.2
             }
            },
            "type": "bar"
           }
          ],
          "barpolar": [
           {
            "marker": {
             "line": {
              "color": "white",
              "width": 0.5
             },
             "pattern": {
              "fillmode": "overlay",
              "size": 10,
              "solidity": 0.2
             }
            },
            "type": "barpolar"
           }
          ],
          "carpet": [
           {
            "aaxis": {
             "endlinecolor": "#2a3f5f",
             "gridcolor": "#C8D4E3",
             "linecolor": "#C8D4E3",
             "minorgridcolor": "#C8D4E3",
             "startlinecolor": "#2a3f5f"
            },
            "baxis": {
             "endlinecolor": "#2a3f5f",
             "gridcolor": "#C8D4E3",
             "linecolor": "#C8D4E3",
             "minorgridcolor": "#C8D4E3",
             "startlinecolor": "#2a3f5f"
            },
            "type": "carpet"
           }
          ],
          "choropleth": [
           {
            "colorbar": {
             "outlinewidth": 0,
             "ticks": ""
            },
            "type": "choropleth"
           }
          ],
          "contour": [
           {
            "colorbar": {
             "outlinewidth": 0,
             "ticks": ""
            },
            "colorscale": [
             [
              0,
              "#0d0887"
             ],
             [
              0.1111111111111111,
              "#46039f"
             ],
             [
              0.2222222222222222,
              "#7201a8"
             ],
             [
              0.3333333333333333,
              "#9c179e"
             ],
             [
              0.4444444444444444,
              "#bd3786"
             ],
             [
              0.5555555555555556,
              "#d8576b"
             ],
             [
              0.6666666666666666,
              "#ed7953"
             ],
             [
              0.7777777777777778,
              "#fb9f3a"
             ],
             [
              0.8888888888888888,
              "#fdca26"
             ],
             [
              1,
              "#f0f921"
             ]
            ],
            "type": "contour"
           }
          ],
          "contourcarpet": [
           {
            "colorbar": {
             "outlinewidth": 0,
             "ticks": ""
            },
            "type": "contourcarpet"
           }
          ],
          "heatmap": [
           {
            "colorbar": {
             "outlinewidth": 0,
             "ticks": ""
            },
            "colorscale": [
             [
              0,
              "#0d0887"
             ],
             [
              0.1111111111111111,
              "#46039f"
             ],
             [
              0.2222222222222222,
              "#7201a8"
             ],
             [
              0.3333333333333333,
              "#9c179e"
             ],
             [
              0.4444444444444444,
              "#bd3786"
             ],
             [
              0.5555555555555556,
              "#d8576b"
             ],
             [
              0.6666666666666666,
              "#ed7953"
             ],
             [
              0.7777777777777778,
              "#fb9f3a"
             ],
             [
              0.8888888888888888,
              "#fdca26"
             ],
             [
              1,
              "#f0f921"
             ]
            ],
            "type": "heatmap"
           }
          ],
          "histogram": [
           {
            "marker": {
             "pattern": {
              "fillmode": "overlay",
              "size": 10,
              "solidity": 0.2
             }
            },
            "type": "histogram"
           }
          ],
          "histogram2d": [
           {
            "colorbar": {
             "outlinewidth": 0,
             "ticks": ""
            },
            "colorscale": [
             [
              0,
              "#0d0887"
             ],
             [
              0.1111111111111111,
              "#46039f"
             ],
             [
              0.2222222222222222,
              "#7201a8"
             ],
             [
              0.3333333333333333,
              "#9c179e"
             ],
             [
              0.4444444444444444,
              "#bd3786"
             ],
             [
              0.5555555555555556,
              "#d8576b"
             ],
             [
              0.6666666666666666,
              "#ed7953"
             ],
             [
              0.7777777777777778,
              "#fb9f3a"
             ],
             [
              0.8888888888888888,
              "#fdca26"
             ],
             [
              1,
              "#f0f921"
             ]
            ],
            "type": "histogram2d"
           }
          ],
          "histogram2dcontour": [
           {
            "colorbar": {
             "outlinewidth": 0,
             "ticks": ""
            },
            "colorscale": [
             [
              0,
              "#0d0887"
             ],
             [
              0.1111111111111111,
              "#46039f"
             ],
             [
              0.2222222222222222,
              "#7201a8"
             ],
             [
              0.3333333333333333,
              "#9c179e"
             ],
             [
              0.4444444444444444,
              "#bd3786"
             ],
             [
              0.5555555555555556,
              "#d8576b"
             ],
             [
              0.6666666666666666,
              "#ed7953"
             ],
             [
              0.7777777777777778,
              "#fb9f3a"
             ],
             [
              0.8888888888888888,
              "#fdca26"
             ],
             [
              1,
              "#f0f921"
             ]
            ],
            "type": "histogram2dcontour"
           }
          ],
          "mesh3d": [
           {
            "colorbar": {
             "outlinewidth": 0,
             "ticks": ""
            },
            "type": "mesh3d"
           }
          ],
          "parcoords": [
           {
            "line": {
             "colorbar": {
              "outlinewidth": 0,
              "ticks": ""
             }
            },
            "type": "parcoords"
           }
          ],
          "pie": [
           {
            "automargin": true,
            "type": "pie"
           }
          ],
          "scatter": [
           {
            "fillpattern": {
             "fillmode": "overlay",
             "size": 10,
             "solidity": 0.2
            },
            "type": "scatter"
           }
          ],
          "scatter3d": [
           {
            "line": {
             "colorbar": {
              "outlinewidth": 0,
              "ticks": ""
             }
            },
            "marker": {
             "colorbar": {
              "outlinewidth": 0,
              "ticks": ""
             }
            },
            "type": "scatter3d"
           }
          ],
          "scattercarpet": [
           {
            "marker": {
             "colorbar": {
              "outlinewidth": 0,
              "ticks": ""
             }
            },
            "type": "scattercarpet"
           }
          ],
          "scattergeo": [
           {
            "marker": {
             "colorbar": {
              "outlinewidth": 0,
              "ticks": ""
             }
            },
            "type": "scattergeo"
           }
          ],
          "scattergl": [
           {
            "marker": {
             "colorbar": {
              "outlinewidth": 0,
              "ticks": ""
             }
            },
            "type": "scattergl"
           }
          ],
          "scattermap": [
           {
            "marker": {
             "colorbar": {
              "outlinewidth": 0,
              "ticks": ""
             }
            },
            "type": "scattermap"
           }
          ],
          "scattermapbox": [
           {
            "marker": {
             "colorbar": {
              "outlinewidth": 0,
              "ticks": ""
             }
            },
            "type": "scattermapbox"
           }
          ],
          "scatterpolar": [
           {
            "marker": {
             "colorbar": {
              "outlinewidth": 0,
              "ticks": ""
             }
            },
            "type": "scatterpolar"
           }
          ],
          "scatterpolargl": [
           {
            "marker": {
             "colorbar": {
              "outlinewidth": 0,
              "ticks": ""
             }
            },
            "type": "scatterpolargl"
           }
          ],
          "scatterternary": [
           {
            "marker": {
             "colorbar": {
              "outlinewidth": 0,
              "ticks": ""
             }
            },
            "type": "scatterternary"
           }
          ],
          "surface": [
           {
            "colorbar": {
             "outlinewidth": 0,
             "ticks": ""
            },
            "colorscale": [
             [
              0,
              "#0d0887"
             ],
             [
              0.1111111111111111,
              "#46039f"
             ],
             [
              0.2222222222222222,
              "#7201a8"
             ],
             [
              0.3333333333333333,
              "#9c179e"
             ],
             [
              0.4444444444444444,
              "#bd3786"
             ],
             [
              0.5555555555555556,
              "#d8576b"
             ],
             [
              0.6666666666666666,
              "#ed7953"
             ],
             [
              0.7777777777777778,
              "#fb9f3a"
             ],
             [
              0.8888888888888888,
              "#fdca26"
             ],
             [
              1,
              "#f0f921"
             ]
            ],
            "type": "surface"
           }
          ],
          "table": [
           {
            "cells": {
             "fill": {
              "color": "#EBF0F8"
             },
             "line": {
              "color": "white"
             }
            },
            "header": {
             "fill": {
              "color": "#C8D4E3"
             },
             "line": {
              "color": "white"
             }
            },
            "type": "table"
           }
          ]
         },
         "layout": {
          "annotationdefaults": {
           "arrowcolor": "#2a3f5f",
           "arrowhead": 0,
           "arrowwidth": 1
          },
          "autotypenumbers": "strict",
          "coloraxis": {
           "colorbar": {
            "outlinewidth": 0,
            "ticks": ""
           }
          },
          "colorscale": {
           "diverging": [
            [
             0,
             "#8e0152"
            ],
            [
             0.1,
             "#c51b7d"
            ],
            [
             0.2,
             "#de77ae"
            ],
            [
             0.3,
             "#f1b6da"
            ],
            [
             0.4,
             "#fde0ef"
            ],
            [
             0.5,
             "#f7f7f7"
            ],
            [
             0.6,
             "#e6f5d0"
            ],
            [
             0.7,
             "#b8e186"
            ],
            [
             0.8,
             "#7fbc41"
            ],
            [
             0.9,
             "#4d9221"
            ],
            [
             1,
             "#276419"
            ]
           ],
           "sequential": [
            [
             0,
             "#0d0887"
            ],
            [
             0.1111111111111111,
             "#46039f"
            ],
            [
             0.2222222222222222,
             "#7201a8"
            ],
            [
             0.3333333333333333,
             "#9c179e"
            ],
            [
             0.4444444444444444,
             "#bd3786"
            ],
            [
             0.5555555555555556,
             "#d8576b"
            ],
            [
             0.6666666666666666,
             "#ed7953"
            ],
            [
             0.7777777777777778,
             "#fb9f3a"
            ],
            [
             0.8888888888888888,
             "#fdca26"
            ],
            [
             1,
             "#f0f921"
            ]
           ],
           "sequentialminus": [
            [
             0,
             "#0d0887"
            ],
            [
             0.1111111111111111,
             "#46039f"
            ],
            [
             0.2222222222222222,
             "#7201a8"
            ],
            [
             0.3333333333333333,
             "#9c179e"
            ],
            [
             0.4444444444444444,
             "#bd3786"
            ],
            [
             0.5555555555555556,
             "#d8576b"
            ],
            [
             0.6666666666666666,
             "#ed7953"
            ],
            [
             0.7777777777777778,
             "#fb9f3a"
            ],
            [
             0.8888888888888888,
             "#fdca26"
            ],
            [
             1,
             "#f0f921"
            ]
           ]
          },
          "colorway": [
           "#636efa",
           "#EF553B",
           "#00cc96",
           "#ab63fa",
           "#FFA15A",
           "#19d3f3",
           "#FF6692",
           "#B6E880",
           "#FF97FF",
           "#FECB52"
          ],
          "font": {
           "color": "#2a3f5f"
          },
          "geo": {
           "bgcolor": "white",
           "lakecolor": "white",
           "landcolor": "white",
           "showlakes": true,
           "showland": true,
           "subunitcolor": "#C8D4E3"
          },
          "hoverlabel": {
           "align": "left"
          },
          "hovermode": "closest",
          "mapbox": {
           "style": "light"
          },
          "paper_bgcolor": "white",
          "plot_bgcolor": "white",
          "polar": {
           "angularaxis": {
            "gridcolor": "#EBF0F8",
            "linecolor": "#EBF0F8",
            "ticks": ""
           },
           "bgcolor": "white",
           "radialaxis": {
            "gridcolor": "#EBF0F8",
            "linecolor": "#EBF0F8",
            "ticks": ""
           }
          },
          "scene": {
           "xaxis": {
            "backgroundcolor": "white",
            "gridcolor": "#DFE8F3",
            "gridwidth": 2,
            "linecolor": "#EBF0F8",
            "showbackground": true,
            "ticks": "",
            "zerolinecolor": "#EBF0F8"
           },
           "yaxis": {
            "backgroundcolor": "white",
            "gridcolor": "#DFE8F3",
            "gridwidth": 2,
            "linecolor": "#EBF0F8",
            "showbackground": true,
            "ticks": "",
            "zerolinecolor": "#EBF0F8"
           },
           "zaxis": {
            "backgroundcolor": "white",
            "gridcolor": "#DFE8F3",
            "gridwidth": 2,
            "linecolor": "#EBF0F8",
            "showbackground": true,
            "ticks": "",
            "zerolinecolor": "#EBF0F8"
           }
          },
          "shapedefaults": {
           "line": {
            "color": "#2a3f5f"
           }
          },
          "ternary": {
           "aaxis": {
            "gridcolor": "#DFE8F3",
            "linecolor": "#A2B1C6",
            "ticks": ""
           },
           "baxis": {
            "gridcolor": "#DFE8F3",
            "linecolor": "#A2B1C6",
            "ticks": ""
           },
           "bgcolor": "white",
           "caxis": {
            "gridcolor": "#DFE8F3",
            "linecolor": "#A2B1C6",
            "ticks": ""
           }
          },
          "title": {
           "x": 0.05
          },
          "xaxis": {
           "automargin": true,
           "gridcolor": "#EBF0F8",
           "linecolor": "#EBF0F8",
           "ticks": "",
           "title": {
            "standoff": 15
           },
           "zerolinecolor": "#EBF0F8",
           "zerolinewidth": 2
          },
          "yaxis": {
           "automargin": true,
           "gridcolor": "#EBF0F8",
           "linecolor": "#EBF0F8",
           "ticks": "",
           "title": {
            "standoff": 15
           },
           "zerolinecolor": "#EBF0F8",
           "zerolinewidth": 2
          }
         }
        },
        "title": {
         "text": "7-Day Rolling RMSE (Prediction Accuracy Over Time)"
        },
        "xaxis": {
         "anchor": "y",
         "domain": [
          0,
          1
         ],
         "title": {
          "text": "Date"
         }
        },
        "yaxis": {
         "anchor": "x",
         "domain": [
          0,
          1
         ],
         "title": {
          "text": "RMSE"
         }
        }
       }
      }
     },
     "metadata": {},
     "output_type": "display_data"
    }
   ],
   "source": [
    "import plotly.express as px\n",
    "\n",
    "# Calculate squared error and rolling RMSE\n",
    "results['Squared_Error'] = (results['Actual'] - results['Predicted']) ** 2\n",
    "results['RMSE_Rolling'] = results['Squared_Error'].rolling(window=7).mean().pow(0.5)\n",
    "\n",
    "# Plot RMSE over time\n",
    "fig = px.line(\n",
    "    results,\n",
    "    x='Date',\n",
    "    y='RMSE_Rolling',\n",
    "    title='7-Day Rolling RMSE (Prediction Accuracy Over Time)',\n",
    "    labels={'RMSE_Rolling': 'RMSE'},\n",
    "    template='plotly_white'\n",
    ")\n",
    "\n",
    "fig.show()\n"
   ]
  },
  {
   "cell_type": "code",
   "execution_count": 102,
   "id": "9ce689aa",
   "metadata": {},
   "outputs": [
    {
     "data": {
      "application/vnd.plotly.v1+json": {
       "config": {
        "plotlyServerURL": "https://plot.ly"
       },
       "data": [
        {
         "line": {
          "color": "red"
         },
         "mode": "lines",
         "name": "Rolling RMSE",
         "type": "scatter",
         "x": [
          "2023-04-25T00:00:00.000000000",
          "2023-04-26T00:00:00.000000000",
          "2023-04-27T00:00:00.000000000",
          "2023-04-28T00:00:00.000000000",
          "2023-04-29T00:00:00.000000000",
          "2023-04-30T00:00:00.000000000",
          "2023-05-01T00:00:00.000000000",
          "2023-05-02T00:00:00.000000000",
          "2023-05-03T00:00:00.000000000",
          "2023-05-04T00:00:00.000000000",
          "2023-05-05T00:00:00.000000000",
          "2023-05-06T00:00:00.000000000",
          "2023-05-07T00:00:00.000000000",
          "2023-05-08T00:00:00.000000000",
          "2023-05-09T00:00:00.000000000",
          "2023-05-10T00:00:00.000000000",
          "2023-05-11T00:00:00.000000000",
          "2023-05-12T00:00:00.000000000",
          "2023-05-13T00:00:00.000000000",
          "2023-05-14T00:00:00.000000000",
          "2023-05-15T00:00:00.000000000",
          "2023-05-16T00:00:00.000000000",
          "2023-05-17T00:00:00.000000000",
          "2023-05-18T00:00:00.000000000",
          "2023-05-19T00:00:00.000000000",
          "2023-05-20T00:00:00.000000000",
          "2023-05-21T00:00:00.000000000",
          "2023-05-22T00:00:00.000000000",
          "2023-05-23T00:00:00.000000000",
          "2023-05-24T00:00:00.000000000",
          "2023-05-25T00:00:00.000000000",
          "2023-05-26T00:00:00.000000000",
          "2023-05-27T00:00:00.000000000",
          "2023-05-28T00:00:00.000000000",
          "2023-05-29T00:00:00.000000000",
          "2023-05-30T00:00:00.000000000",
          "2023-05-31T00:00:00.000000000",
          "2023-06-01T00:00:00.000000000",
          "2023-06-02T00:00:00.000000000",
          "2023-06-03T00:00:00.000000000",
          "2023-06-04T00:00:00.000000000",
          "2023-06-05T00:00:00.000000000",
          "2023-06-06T00:00:00.000000000",
          "2023-06-07T00:00:00.000000000",
          "2023-06-08T00:00:00.000000000",
          "2023-06-09T00:00:00.000000000",
          "2023-06-10T00:00:00.000000000",
          "2023-06-11T00:00:00.000000000",
          "2023-06-12T00:00:00.000000000",
          "2023-06-13T00:00:00.000000000",
          "2023-06-14T00:00:00.000000000",
          "2023-06-15T00:00:00.000000000",
          "2023-06-16T00:00:00.000000000",
          "2023-06-17T00:00:00.000000000",
          "2023-06-18T00:00:00.000000000",
          "2023-06-19T00:00:00.000000000",
          "2023-06-20T00:00:00.000000000",
          "2023-06-21T00:00:00.000000000",
          "2023-06-22T00:00:00.000000000",
          "2023-06-23T00:00:00.000000000",
          "2023-06-24T00:00:00.000000000",
          "2023-06-25T00:00:00.000000000",
          "2023-06-26T00:00:00.000000000",
          "2023-06-27T00:00:00.000000000",
          "2023-06-28T00:00:00.000000000",
          "2023-06-29T00:00:00.000000000",
          "2023-06-30T00:00:00.000000000",
          "2023-07-01T00:00:00.000000000",
          "2023-07-02T00:00:00.000000000",
          "2023-07-03T00:00:00.000000000",
          "2023-07-04T00:00:00.000000000",
          "2023-07-05T00:00:00.000000000",
          "2023-07-06T00:00:00.000000000",
          "2023-07-07T00:00:00.000000000",
          "2023-07-08T00:00:00.000000000",
          "2023-07-09T00:00:00.000000000",
          "2023-07-10T00:00:00.000000000",
          "2023-07-11T00:00:00.000000000",
          "2023-07-12T00:00:00.000000000",
          "2023-07-13T00:00:00.000000000",
          "2023-07-14T00:00:00.000000000",
          "2023-07-15T00:00:00.000000000",
          "2023-07-16T00:00:00.000000000",
          "2023-07-17T00:00:00.000000000",
          "2023-07-18T00:00:00.000000000",
          "2023-07-19T00:00:00.000000000",
          "2023-07-20T00:00:00.000000000",
          "2023-07-21T00:00:00.000000000",
          "2023-07-22T00:00:00.000000000",
          "2023-07-23T00:00:00.000000000",
          "2023-07-24T00:00:00.000000000",
          "2023-07-25T00:00:00.000000000",
          "2023-07-26T00:00:00.000000000",
          "2023-07-27T00:00:00.000000000",
          "2023-07-28T00:00:00.000000000",
          "2023-07-29T00:00:00.000000000",
          "2023-07-30T00:00:00.000000000",
          "2023-07-31T00:00:00.000000000",
          "2023-08-01T00:00:00.000000000",
          "2023-08-02T00:00:00.000000000",
          "2023-08-03T00:00:00.000000000",
          "2023-08-04T00:00:00.000000000",
          "2023-08-05T00:00:00.000000000",
          "2023-08-06T00:00:00.000000000",
          "2023-08-07T00:00:00.000000000",
          "2023-08-08T00:00:00.000000000",
          "2023-08-09T00:00:00.000000000",
          "2023-08-10T00:00:00.000000000",
          "2023-08-11T00:00:00.000000000",
          "2023-08-12T00:00:00.000000000",
          "2023-08-13T00:00:00.000000000",
          "2023-08-14T00:00:00.000000000",
          "2023-08-15T00:00:00.000000000",
          "2023-08-16T00:00:00.000000000",
          "2023-08-17T00:00:00.000000000",
          "2023-08-18T00:00:00.000000000",
          "2023-08-19T00:00:00.000000000",
          "2023-08-20T00:00:00.000000000",
          "2023-08-21T00:00:00.000000000",
          "2023-08-22T00:00:00.000000000",
          "2023-08-23T00:00:00.000000000",
          "2023-08-24T00:00:00.000000000",
          "2023-08-25T00:00:00.000000000",
          "2023-08-26T00:00:00.000000000",
          "2023-08-27T00:00:00.000000000",
          "2023-08-28T00:00:00.000000000",
          "2023-08-29T00:00:00.000000000",
          "2023-08-30T00:00:00.000000000",
          "2023-08-31T00:00:00.000000000",
          "2023-09-01T00:00:00.000000000",
          "2023-09-02T00:00:00.000000000",
          "2023-09-03T00:00:00.000000000",
          "2023-09-04T00:00:00.000000000",
          "2023-09-05T00:00:00.000000000",
          "2023-09-06T00:00:00.000000000",
          "2023-09-07T00:00:00.000000000",
          "2023-09-08T00:00:00.000000000",
          "2023-09-09T00:00:00.000000000",
          "2023-09-10T00:00:00.000000000",
          "2023-09-11T00:00:00.000000000",
          "2023-09-12T00:00:00.000000000",
          "2023-09-13T00:00:00.000000000",
          "2023-09-14T00:00:00.000000000",
          "2023-09-15T00:00:00.000000000",
          "2023-09-16T00:00:00.000000000",
          "2023-09-17T00:00:00.000000000",
          "2023-09-18T00:00:00.000000000",
          "2023-09-19T00:00:00.000000000",
          "2023-09-20T00:00:00.000000000",
          "2023-09-21T00:00:00.000000000",
          "2023-09-22T00:00:00.000000000",
          "2023-09-23T00:00:00.000000000",
          "2023-09-24T00:00:00.000000000",
          "2023-09-25T00:00:00.000000000",
          "2023-09-26T00:00:00.000000000",
          "2023-09-27T00:00:00.000000000",
          "2023-09-28T00:00:00.000000000",
          "2023-09-29T00:00:00.000000000",
          "2023-09-30T00:00:00.000000000",
          "2023-10-01T00:00:00.000000000",
          "2023-10-02T00:00:00.000000000",
          "2023-10-03T00:00:00.000000000",
          "2023-10-04T00:00:00.000000000",
          "2023-10-05T00:00:00.000000000",
          "2023-10-06T00:00:00.000000000",
          "2023-10-07T00:00:00.000000000",
          "2023-10-08T00:00:00.000000000",
          "2023-10-09T00:00:00.000000000",
          "2023-10-10T00:00:00.000000000",
          "2023-10-11T00:00:00.000000000",
          "2023-10-12T00:00:00.000000000",
          "2023-10-13T00:00:00.000000000",
          "2023-10-14T00:00:00.000000000",
          "2023-10-15T00:00:00.000000000",
          "2023-10-16T00:00:00.000000000",
          "2023-10-17T00:00:00.000000000",
          "2023-10-18T00:00:00.000000000",
          "2023-10-19T00:00:00.000000000",
          "2023-10-20T00:00:00.000000000",
          "2023-10-21T00:00:00.000000000",
          "2023-10-22T00:00:00.000000000",
          "2023-10-23T00:00:00.000000000",
          "2023-10-24T00:00:00.000000000",
          "2023-10-25T00:00:00.000000000",
          "2023-10-26T00:00:00.000000000",
          "2023-10-27T00:00:00.000000000",
          "2023-10-28T00:00:00.000000000",
          "2023-10-29T00:00:00.000000000",
          "2023-10-30T00:00:00.000000000",
          "2023-10-31T00:00:00.000000000",
          "2023-11-01T00:00:00.000000000",
          "2023-11-02T00:00:00.000000000",
          "2023-11-03T00:00:00.000000000",
          "2023-11-04T00:00:00.000000000",
          "2023-11-05T00:00:00.000000000",
          "2023-11-06T00:00:00.000000000",
          "2023-11-07T00:00:00.000000000",
          "2023-11-08T00:00:00.000000000",
          "2023-11-09T00:00:00.000000000",
          "2023-11-10T00:00:00.000000000",
          "2023-11-11T00:00:00.000000000",
          "2023-11-12T00:00:00.000000000",
          "2023-11-13T00:00:00.000000000",
          "2023-11-14T00:00:00.000000000",
          "2023-11-15T00:00:00.000000000",
          "2023-11-16T00:00:00.000000000",
          "2023-11-17T00:00:00.000000000",
          "2023-11-18T00:00:00.000000000",
          "2023-11-19T00:00:00.000000000",
          "2023-11-20T00:00:00.000000000",
          "2023-11-21T00:00:00.000000000",
          "2023-11-22T00:00:00.000000000",
          "2023-11-23T00:00:00.000000000",
          "2023-11-24T00:00:00.000000000",
          "2023-11-25T00:00:00.000000000",
          "2023-11-26T00:00:00.000000000",
          "2023-11-27T00:00:00.000000000",
          "2023-11-28T00:00:00.000000000",
          "2023-11-29T00:00:00.000000000",
          "2023-11-30T00:00:00.000000000",
          "2023-12-01T00:00:00.000000000",
          "2023-12-02T00:00:00.000000000",
          "2023-12-03T00:00:00.000000000",
          "2023-12-04T00:00:00.000000000",
          "2023-12-05T00:00:00.000000000",
          "2023-12-06T00:00:00.000000000",
          "2023-12-07T00:00:00.000000000",
          "2023-12-08T00:00:00.000000000",
          "2023-12-09T00:00:00.000000000",
          "2023-12-10T00:00:00.000000000",
          "2023-12-11T00:00:00.000000000",
          "2023-12-12T00:00:00.000000000",
          "2023-12-13T00:00:00.000000000",
          "2023-12-14T00:00:00.000000000",
          "2023-12-15T00:00:00.000000000",
          "2023-12-16T00:00:00.000000000",
          "2023-12-17T00:00:00.000000000",
          "2023-12-18T00:00:00.000000000",
          "2023-12-19T00:00:00.000000000",
          "2023-12-20T00:00:00.000000000",
          "2023-12-21T00:00:00.000000000",
          "2023-12-22T00:00:00.000000000",
          "2023-12-23T00:00:00.000000000",
          "2023-12-24T00:00:00.000000000",
          "2023-12-25T00:00:00.000000000",
          "2023-12-26T00:00:00.000000000",
          "2023-12-27T00:00:00.000000000",
          "2023-12-28T00:00:00.000000000",
          "2023-12-29T00:00:00.000000000",
          "2023-12-30T00:00:00.000000000",
          "2023-12-31T00:00:00.000000000",
          "2024-01-01T00:00:00.000000000",
          "2024-01-02T00:00:00.000000000",
          "2024-01-03T00:00:00.000000000",
          "2024-01-04T00:00:00.000000000",
          "2024-01-05T00:00:00.000000000",
          "2024-01-06T00:00:00.000000000",
          "2024-01-07T00:00:00.000000000",
          "2024-01-08T00:00:00.000000000",
          "2024-01-09T00:00:00.000000000",
          "2024-01-10T00:00:00.000000000",
          "2024-01-11T00:00:00.000000000",
          "2024-01-12T00:00:00.000000000",
          "2024-01-13T00:00:00.000000000",
          "2024-01-14T00:00:00.000000000",
          "2024-01-15T00:00:00.000000000",
          "2024-01-16T00:00:00.000000000",
          "2024-01-17T00:00:00.000000000",
          "2024-01-18T00:00:00.000000000",
          "2024-01-19T00:00:00.000000000",
          "2024-01-20T00:00:00.000000000",
          "2024-01-21T00:00:00.000000000",
          "2024-01-22T00:00:00.000000000",
          "2024-01-23T00:00:00.000000000",
          "2024-01-24T00:00:00.000000000",
          "2024-01-25T00:00:00.000000000",
          "2024-01-26T00:00:00.000000000",
          "2024-01-27T00:00:00.000000000",
          "2024-01-28T00:00:00.000000000",
          "2024-01-29T00:00:00.000000000",
          "2024-01-30T00:00:00.000000000",
          "2024-01-31T00:00:00.000000000",
          "2024-02-01T00:00:00.000000000",
          "2024-02-02T00:00:00.000000000",
          "2024-02-03T00:00:00.000000000",
          "2024-02-04T00:00:00.000000000",
          "2024-02-05T00:00:00.000000000",
          "2024-02-06T00:00:00.000000000",
          "2024-02-07T00:00:00.000000000",
          "2024-02-08T00:00:00.000000000",
          "2024-02-09T00:00:00.000000000",
          "2024-02-10T00:00:00.000000000",
          "2024-02-11T00:00:00.000000000",
          "2024-02-12T00:00:00.000000000",
          "2024-02-13T00:00:00.000000000",
          "2024-02-14T00:00:00.000000000",
          "2024-02-15T00:00:00.000000000",
          "2024-02-16T00:00:00.000000000",
          "2024-02-17T00:00:00.000000000",
          "2024-02-18T00:00:00.000000000",
          "2024-02-19T00:00:00.000000000",
          "2024-02-20T00:00:00.000000000",
          "2024-02-21T00:00:00.000000000",
          "2024-02-22T00:00:00.000000000",
          "2024-02-23T00:00:00.000000000",
          "2024-02-24T00:00:00.000000000",
          "2024-02-25T00:00:00.000000000",
          "2024-02-26T00:00:00.000000000",
          "2024-02-27T00:00:00.000000000",
          "2024-02-28T00:00:00.000000000",
          "2024-02-29T00:00:00.000000000",
          "2024-03-01T00:00:00.000000000",
          "2024-03-02T00:00:00.000000000",
          "2024-03-03T00:00:00.000000000",
          "2024-03-04T00:00:00.000000000",
          "2024-03-05T00:00:00.000000000",
          "2024-03-06T00:00:00.000000000",
          "2024-03-07T00:00:00.000000000",
          "2024-03-08T00:00:00.000000000",
          "2024-03-09T00:00:00.000000000",
          "2024-03-10T00:00:00.000000000",
          "2024-03-11T00:00:00.000000000",
          "2024-03-12T00:00:00.000000000",
          "2024-03-13T00:00:00.000000000",
          "2024-03-14T00:00:00.000000000",
          "2024-03-15T00:00:00.000000000",
          "2024-03-16T00:00:00.000000000",
          "2024-03-17T00:00:00.000000000",
          "2024-03-18T00:00:00.000000000",
          "2024-03-19T00:00:00.000000000",
          "2024-03-20T00:00:00.000000000",
          "2024-03-21T00:00:00.000000000",
          "2024-03-22T00:00:00.000000000",
          "2024-03-23T00:00:00.000000000",
          "2024-03-24T00:00:00.000000000",
          "2024-03-25T00:00:00.000000000",
          "2024-03-26T00:00:00.000000000",
          "2024-03-27T00:00:00.000000000",
          "2024-03-28T00:00:00.000000000",
          "2024-03-29T00:00:00.000000000",
          "2024-03-30T00:00:00.000000000",
          "2024-03-31T00:00:00.000000000",
          "2024-04-01T00:00:00.000000000",
          "2024-04-02T00:00:00.000000000",
          "2024-04-03T00:00:00.000000000",
          "2024-04-04T00:00:00.000000000",
          "2024-04-05T00:00:00.000000000",
          "2024-04-06T00:00:00.000000000",
          "2024-04-07T00:00:00.000000000",
          "2024-04-08T00:00:00.000000000",
          "2024-04-09T00:00:00.000000000",
          "2024-04-10T00:00:00.000000000",
          "2024-04-11T00:00:00.000000000",
          "2024-04-12T00:00:00.000000000",
          "2024-04-13T00:00:00.000000000",
          "2024-04-14T00:00:00.000000000",
          "2024-04-15T00:00:00.000000000",
          "2024-04-16T00:00:00.000000000",
          "2024-04-17T00:00:00.000000000",
          "2024-04-18T00:00:00.000000000",
          "2024-04-19T00:00:00.000000000",
          "2024-04-20T00:00:00.000000000",
          "2024-04-21T00:00:00.000000000",
          "2024-04-22T00:00:00.000000000",
          "2024-04-23T00:00:00.000000000",
          "2024-04-24T00:00:00.000000000",
          "2024-04-25T00:00:00.000000000",
          "2024-04-26T00:00:00.000000000",
          "2024-04-27T00:00:00.000000000",
          "2024-04-28T00:00:00.000000000",
          "2024-04-29T00:00:00.000000000",
          "2024-04-30T00:00:00.000000000",
          "2024-05-01T00:00:00.000000000",
          "2024-05-02T00:00:00.000000000",
          "2024-05-03T00:00:00.000000000",
          "2024-05-04T00:00:00.000000000",
          "2024-05-05T00:00:00.000000000",
          "2024-05-06T00:00:00.000000000",
          "2024-05-07T00:00:00.000000000",
          "2024-05-08T00:00:00.000000000",
          "2024-05-09T00:00:00.000000000",
          "2024-05-10T00:00:00.000000000",
          "2024-05-11T00:00:00.000000000",
          "2024-05-12T00:00:00.000000000",
          "2024-05-13T00:00:00.000000000",
          "2024-05-14T00:00:00.000000000",
          "2024-05-15T00:00:00.000000000",
          "2024-05-16T00:00:00.000000000",
          "2024-05-17T00:00:00.000000000",
          "2024-05-18T00:00:00.000000000",
          "2024-05-19T00:00:00.000000000",
          "2024-05-20T00:00:00.000000000",
          "2024-05-21T00:00:00.000000000",
          "2024-05-22T00:00:00.000000000",
          "2024-05-23T00:00:00.000000000",
          "2024-05-24T00:00:00.000000000",
          "2024-05-25T00:00:00.000000000",
          "2024-05-26T00:00:00.000000000",
          "2024-05-27T00:00:00.000000000",
          "2024-05-28T00:00:00.000000000",
          "2024-05-29T00:00:00.000000000",
          "2024-05-30T00:00:00.000000000",
          "2024-05-31T00:00:00.000000000",
          "2024-06-01T00:00:00.000000000",
          "2024-06-02T00:00:00.000000000",
          "2024-06-03T00:00:00.000000000",
          "2024-06-04T00:00:00.000000000",
          "2024-06-05T00:00:00.000000000",
          "2024-06-06T00:00:00.000000000",
          "2024-06-07T00:00:00.000000000",
          "2024-06-08T00:00:00.000000000",
          "2024-06-09T00:00:00.000000000",
          "2024-06-10T00:00:00.000000000",
          "2024-06-11T00:00:00.000000000",
          "2024-06-12T00:00:00.000000000",
          "2024-06-13T00:00:00.000000000",
          "2024-06-14T00:00:00.000000000",
          "2024-06-15T00:00:00.000000000",
          "2024-06-16T00:00:00.000000000",
          "2024-06-17T00:00:00.000000000",
          "2024-06-18T00:00:00.000000000",
          "2024-06-19T00:00:00.000000000",
          "2024-06-20T00:00:00.000000000",
          "2024-06-21T00:00:00.000000000",
          "2024-06-22T00:00:00.000000000",
          "2024-06-23T00:00:00.000000000",
          "2024-06-24T00:00:00.000000000",
          "2024-06-25T00:00:00.000000000",
          "2024-06-26T00:00:00.000000000",
          "2024-06-27T00:00:00.000000000",
          "2024-06-28T00:00:00.000000000",
          "2024-06-29T00:00:00.000000000",
          "2024-06-30T00:00:00.000000000",
          "2024-07-01T00:00:00.000000000",
          "2024-07-02T00:00:00.000000000",
          "2024-07-03T00:00:00.000000000",
          "2024-07-04T00:00:00.000000000",
          "2024-07-05T00:00:00.000000000",
          "2024-07-06T00:00:00.000000000",
          "2024-07-07T00:00:00.000000000",
          "2024-07-08T00:00:00.000000000",
          "2024-07-09T00:00:00.000000000",
          "2024-07-10T00:00:00.000000000",
          "2024-07-11T00:00:00.000000000",
          "2024-07-12T00:00:00.000000000",
          "2024-07-13T00:00:00.000000000",
          "2024-07-14T00:00:00.000000000",
          "2024-07-15T00:00:00.000000000",
          "2024-07-16T00:00:00.000000000",
          "2024-07-17T00:00:00.000000000",
          "2024-07-18T00:00:00.000000000",
          "2024-07-19T00:00:00.000000000",
          "2024-07-20T00:00:00.000000000",
          "2024-07-21T00:00:00.000000000",
          "2024-07-22T00:00:00.000000000",
          "2024-07-23T00:00:00.000000000",
          "2024-07-24T00:00:00.000000000",
          "2024-07-25T00:00:00.000000000",
          "2024-07-26T00:00:00.000000000",
          "2024-07-27T00:00:00.000000000",
          "2024-07-28T00:00:00.000000000",
          "2024-07-29T00:00:00.000000000",
          "2024-07-30T00:00:00.000000000",
          "2024-07-31T00:00:00.000000000",
          "2024-08-01T00:00:00.000000000",
          "2024-08-02T00:00:00.000000000",
          "2024-08-03T00:00:00.000000000",
          "2024-08-04T00:00:00.000000000",
          "2024-08-05T00:00:00.000000000",
          "2024-08-06T00:00:00.000000000",
          "2024-08-07T00:00:00.000000000",
          "2024-08-08T00:00:00.000000000",
          "2024-08-09T00:00:00.000000000",
          "2024-08-10T00:00:00.000000000",
          "2024-08-11T00:00:00.000000000",
          "2024-08-12T00:00:00.000000000",
          "2024-08-13T00:00:00.000000000",
          "2024-08-14T00:00:00.000000000",
          "2024-08-15T00:00:00.000000000",
          "2024-08-16T00:00:00.000000000",
          "2024-08-17T00:00:00.000000000",
          "2024-08-18T00:00:00.000000000",
          "2024-08-19T00:00:00.000000000",
          "2024-08-20T00:00:00.000000000",
          "2024-08-21T00:00:00.000000000",
          "2024-08-22T00:00:00.000000000",
          "2024-08-23T00:00:00.000000000",
          "2024-08-24T00:00:00.000000000",
          "2024-08-25T00:00:00.000000000",
          "2024-08-26T00:00:00.000000000",
          "2024-08-27T00:00:00.000000000",
          "2024-08-28T00:00:00.000000000",
          "2024-08-29T00:00:00.000000000",
          "2024-08-30T00:00:00.000000000",
          "2024-08-31T00:00:00.000000000",
          "2024-09-01T00:00:00.000000000",
          "2024-09-02T00:00:00.000000000",
          "2024-09-03T00:00:00.000000000",
          "2024-09-04T00:00:00.000000000",
          "2024-09-05T00:00:00.000000000",
          "2024-09-06T00:00:00.000000000",
          "2024-09-07T00:00:00.000000000",
          "2024-09-08T00:00:00.000000000",
          "2024-09-09T00:00:00.000000000",
          "2024-09-10T00:00:00.000000000",
          "2024-09-11T00:00:00.000000000",
          "2024-09-12T00:00:00.000000000",
          "2024-09-13T00:00:00.000000000",
          "2024-09-14T00:00:00.000000000",
          "2024-09-15T00:00:00.000000000",
          "2024-09-16T00:00:00.000000000",
          "2024-09-17T00:00:00.000000000",
          "2024-09-18T00:00:00.000000000",
          "2024-09-19T00:00:00.000000000",
          "2024-09-20T00:00:00.000000000",
          "2024-09-21T00:00:00.000000000",
          "2024-09-22T00:00:00.000000000",
          "2024-09-23T00:00:00.000000000",
          "2024-09-24T00:00:00.000000000",
          "2024-09-25T00:00:00.000000000",
          "2024-09-26T00:00:00.000000000",
          "2024-09-27T00:00:00.000000000",
          "2024-09-28T00:00:00.000000000",
          "2024-09-29T00:00:00.000000000",
          "2024-09-30T00:00:00.000000000",
          "2024-10-01T00:00:00.000000000",
          "2024-10-02T00:00:00.000000000",
          "2024-10-03T00:00:00.000000000",
          "2024-10-04T00:00:00.000000000",
          "2024-10-05T00:00:00.000000000",
          "2024-10-06T00:00:00.000000000",
          "2024-10-07T00:00:00.000000000",
          "2024-10-08T00:00:00.000000000",
          "2024-10-09T00:00:00.000000000",
          "2024-10-10T00:00:00.000000000",
          "2024-10-11T00:00:00.000000000",
          "2024-10-12T00:00:00.000000000",
          "2024-10-13T00:00:00.000000000",
          "2024-10-14T00:00:00.000000000",
          "2024-10-15T00:00:00.000000000",
          "2024-10-16T00:00:00.000000000",
          "2024-10-17T00:00:00.000000000",
          "2024-10-18T00:00:00.000000000",
          "2024-10-19T00:00:00.000000000",
          "2024-10-20T00:00:00.000000000",
          "2024-10-21T00:00:00.000000000",
          "2024-10-22T00:00:00.000000000",
          "2024-10-23T00:00:00.000000000",
          "2024-10-24T00:00:00.000000000",
          "2024-10-25T00:00:00.000000000",
          "2024-10-26T00:00:00.000000000",
          "2024-10-27T00:00:00.000000000",
          "2024-10-28T00:00:00.000000000",
          "2024-10-29T00:00:00.000000000",
          "2024-10-30T00:00:00.000000000",
          "2024-10-31T00:00:00.000000000",
          "2024-11-01T00:00:00.000000000",
          "2024-11-02T00:00:00.000000000",
          "2024-11-03T00:00:00.000000000",
          "2024-11-04T00:00:00.000000000",
          "2024-11-05T00:00:00.000000000",
          "2024-11-06T00:00:00.000000000",
          "2024-11-07T00:00:00.000000000",
          "2024-11-08T00:00:00.000000000",
          "2024-11-09T00:00:00.000000000",
          "2024-11-10T00:00:00.000000000",
          "2024-11-11T00:00:00.000000000",
          "2024-11-12T00:00:00.000000000",
          "2024-11-13T00:00:00.000000000",
          "2024-11-14T00:00:00.000000000",
          "2024-11-15T00:00:00.000000000",
          "2024-11-16T00:00:00.000000000",
          "2024-11-17T00:00:00.000000000",
          "2024-11-18T00:00:00.000000000",
          "2024-11-19T00:00:00.000000000",
          "2024-11-20T00:00:00.000000000",
          "2024-11-21T00:00:00.000000000",
          "2024-11-22T00:00:00.000000000",
          "2024-11-23T00:00:00.000000000",
          "2024-11-24T00:00:00.000000000",
          "2024-11-25T00:00:00.000000000",
          "2024-11-26T00:00:00.000000000",
          "2024-11-27T00:00:00.000000000",
          "2024-11-28T00:00:00.000000000",
          "2024-11-29T00:00:00.000000000",
          "2024-11-30T00:00:00.000000000",
          "2024-12-01T00:00:00.000000000",
          "2024-12-02T00:00:00.000000000",
          "2024-12-03T00:00:00.000000000",
          "2024-12-04T00:00:00.000000000",
          "2024-12-05T00:00:00.000000000",
          "2024-12-06T00:00:00.000000000",
          "2024-12-07T00:00:00.000000000",
          "2024-12-08T00:00:00.000000000",
          "2024-12-09T00:00:00.000000000",
          "2024-12-10T00:00:00.000000000",
          "2024-12-11T00:00:00.000000000",
          "2024-12-12T00:00:00.000000000",
          "2024-12-13T00:00:00.000000000",
          "2024-12-14T00:00:00.000000000",
          "2024-12-15T00:00:00.000000000",
          "2024-12-16T00:00:00.000000000",
          "2024-12-17T00:00:00.000000000",
          "2024-12-18T00:00:00.000000000",
          "2024-12-19T00:00:00.000000000",
          "2024-12-20T00:00:00.000000000",
          "2024-12-21T00:00:00.000000000",
          "2024-12-22T00:00:00.000000000",
          "2024-12-23T00:00:00.000000000",
          "2024-12-24T00:00:00.000000000",
          "2024-12-25T00:00:00.000000000",
          "2024-12-26T00:00:00.000000000",
          "2024-12-27T00:00:00.000000000",
          "2024-12-28T00:00:00.000000000",
          "2024-12-29T00:00:00.000000000",
          "2024-12-30T00:00:00.000000000",
          "2024-12-31T00:00:00.000000000",
          "2025-01-01T00:00:00.000000000",
          "2025-01-02T00:00:00.000000000",
          "2025-01-03T00:00:00.000000000",
          "2025-01-04T00:00:00.000000000",
          "2025-01-05T00:00:00.000000000",
          "2025-01-06T00:00:00.000000000",
          "2025-01-07T00:00:00.000000000",
          "2025-01-08T00:00:00.000000000",
          "2025-01-09T00:00:00.000000000",
          "2025-01-10T00:00:00.000000000",
          "2025-01-11T00:00:00.000000000",
          "2025-01-12T00:00:00.000000000",
          "2025-01-13T00:00:00.000000000",
          "2025-01-14T00:00:00.000000000",
          "2025-01-15T00:00:00.000000000",
          "2025-01-16T00:00:00.000000000",
          "2025-01-17T00:00:00.000000000",
          "2025-01-18T00:00:00.000000000",
          "2025-01-19T00:00:00.000000000",
          "2025-01-20T00:00:00.000000000",
          "2025-01-21T00:00:00.000000000",
          "2025-01-22T00:00:00.000000000",
          "2025-01-23T00:00:00.000000000",
          "2025-01-24T00:00:00.000000000",
          "2025-01-25T00:00:00.000000000",
          "2025-01-26T00:00:00.000000000",
          "2025-01-27T00:00:00.000000000",
          "2025-01-28T00:00:00.000000000",
          "2025-01-29T00:00:00.000000000",
          "2025-01-30T00:00:00.000000000",
          "2025-01-31T00:00:00.000000000",
          "2025-02-01T00:00:00.000000000",
          "2025-02-02T00:00:00.000000000",
          "2025-02-03T00:00:00.000000000",
          "2025-02-04T00:00:00.000000000",
          "2025-02-05T00:00:00.000000000",
          "2025-02-06T00:00:00.000000000",
          "2025-02-07T00:00:00.000000000",
          "2025-02-08T00:00:00.000000000",
          "2025-02-09T00:00:00.000000000",
          "2025-02-10T00:00:00.000000000",
          "2025-02-11T00:00:00.000000000",
          "2025-02-12T00:00:00.000000000",
          "2025-02-13T00:00:00.000000000",
          "2025-02-14T00:00:00.000000000",
          "2025-02-15T00:00:00.000000000",
          "2025-02-16T00:00:00.000000000",
          "2025-02-17T00:00:00.000000000",
          "2025-02-18T00:00:00.000000000",
          "2025-02-19T00:00:00.000000000",
          "2025-02-20T00:00:00.000000000",
          "2025-02-21T00:00:00.000000000",
          "2025-02-22T00:00:00.000000000",
          "2025-02-23T00:00:00.000000000",
          "2025-02-24T00:00:00.000000000",
          "2025-02-25T00:00:00.000000000",
          "2025-02-26T00:00:00.000000000",
          "2025-02-27T00:00:00.000000000",
          "2025-02-28T00:00:00.000000000",
          "2025-03-01T00:00:00.000000000",
          "2025-03-02T00:00:00.000000000",
          "2025-03-03T00:00:00.000000000",
          "2025-03-04T00:00:00.000000000",
          "2025-03-05T00:00:00.000000000",
          "2025-03-06T00:00:00.000000000",
          "2025-03-07T00:00:00.000000000",
          "2025-03-08T00:00:00.000000000",
          "2025-03-09T00:00:00.000000000",
          "2025-03-10T00:00:00.000000000",
          "2025-03-11T00:00:00.000000000",
          "2025-03-12T00:00:00.000000000",
          "2025-03-13T00:00:00.000000000",
          "2025-03-14T00:00:00.000000000",
          "2025-03-15T00:00:00.000000000",
          "2025-03-16T00:00:00.000000000",
          "2025-03-17T00:00:00.000000000",
          "2025-03-18T00:00:00.000000000",
          "2025-03-19T00:00:00.000000000",
          "2025-03-20T00:00:00.000000000",
          "2025-03-21T00:00:00.000000000",
          "2025-03-22T00:00:00.000000000",
          "2025-03-23T00:00:00.000000000",
          "2025-03-24T00:00:00.000000000",
          "2025-03-25T00:00:00.000000000",
          "2025-03-26T00:00:00.000000000",
          "2025-03-27T00:00:00.000000000",
          "2025-03-28T00:00:00.000000000",
          "2025-03-29T00:00:00.000000000",
          "2025-03-30T00:00:00.000000000",
          "2025-03-31T00:00:00.000000000",
          "2025-04-01T00:00:00.000000000",
          "2025-04-02T00:00:00.000000000"
         ],
         "y": {
          "bdata": "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",
          "dtype": "f8"
         }
        },
        {
         "line": {
          "color": "blue"
         },
         "mode": "lines",
         "name": "Rolling MAE",
         "type": "scatter",
         "x": [
          "2023-04-25T00:00:00.000000000",
          "2023-04-26T00:00:00.000000000",
          "2023-04-27T00:00:00.000000000",
          "2023-04-28T00:00:00.000000000",
          "2023-04-29T00:00:00.000000000",
          "2023-04-30T00:00:00.000000000",
          "2023-05-01T00:00:00.000000000",
          "2023-05-02T00:00:00.000000000",
          "2023-05-03T00:00:00.000000000",
          "2023-05-04T00:00:00.000000000",
          "2023-05-05T00:00:00.000000000",
          "2023-05-06T00:00:00.000000000",
          "2023-05-07T00:00:00.000000000",
          "2023-05-08T00:00:00.000000000",
          "2023-05-09T00:00:00.000000000",
          "2023-05-10T00:00:00.000000000",
          "2023-05-11T00:00:00.000000000",
          "2023-05-12T00:00:00.000000000",
          "2023-05-13T00:00:00.000000000",
          "2023-05-14T00:00:00.000000000",
          "2023-05-15T00:00:00.000000000",
          "2023-05-16T00:00:00.000000000",
          "2023-05-17T00:00:00.000000000",
          "2023-05-18T00:00:00.000000000",
          "2023-05-19T00:00:00.000000000",
          "2023-05-20T00:00:00.000000000",
          "2023-05-21T00:00:00.000000000",
          "2023-05-22T00:00:00.000000000",
          "2023-05-23T00:00:00.000000000",
          "2023-05-24T00:00:00.000000000",
          "2023-05-25T00:00:00.000000000",
          "2023-05-26T00:00:00.000000000",
          "2023-05-27T00:00:00.000000000",
          "2023-05-28T00:00:00.000000000",
          "2023-05-29T00:00:00.000000000",
          "2023-05-30T00:00:00.000000000",
          "2023-05-31T00:00:00.000000000",
          "2023-06-01T00:00:00.000000000",
          "2023-06-02T00:00:00.000000000",
          "2023-06-03T00:00:00.000000000",
          "2023-06-04T00:00:00.000000000",
          "2023-06-05T00:00:00.000000000",
          "2023-06-06T00:00:00.000000000",
          "2023-06-07T00:00:00.000000000",
          "2023-06-08T00:00:00.000000000",
          "2023-06-09T00:00:00.000000000",
          "2023-06-10T00:00:00.000000000",
          "2023-06-11T00:00:00.000000000",
          "2023-06-12T00:00:00.000000000",
          "2023-06-13T00:00:00.000000000",
          "2023-06-14T00:00:00.000000000",
          "2023-06-15T00:00:00.000000000",
          "2023-06-16T00:00:00.000000000",
          "2023-06-17T00:00:00.000000000",
          "2023-06-18T00:00:00.000000000",
          "2023-06-19T00:00:00.000000000",
          "2023-06-20T00:00:00.000000000",
          "2023-06-21T00:00:00.000000000",
          "2023-06-22T00:00:00.000000000",
          "2023-06-23T00:00:00.000000000",
          "2023-06-24T00:00:00.000000000",
          "2023-06-25T00:00:00.000000000",
          "2023-06-26T00:00:00.000000000",
          "2023-06-27T00:00:00.000000000",
          "2023-06-28T00:00:00.000000000",
          "2023-06-29T00:00:00.000000000",
          "2023-06-30T00:00:00.000000000",
          "2023-07-01T00:00:00.000000000",
          "2023-07-02T00:00:00.000000000",
          "2023-07-03T00:00:00.000000000",
          "2023-07-04T00:00:00.000000000",
          "2023-07-05T00:00:00.000000000",
          "2023-07-06T00:00:00.000000000",
          "2023-07-07T00:00:00.000000000",
          "2023-07-08T00:00:00.000000000",
          "2023-07-09T00:00:00.000000000",
          "2023-07-10T00:00:00.000000000",
          "2023-07-11T00:00:00.000000000",
          "2023-07-12T00:00:00.000000000",
          "2023-07-13T00:00:00.000000000",
          "2023-07-14T00:00:00.000000000",
          "2023-07-15T00:00:00.000000000",
          "2023-07-16T00:00:00.000000000",
          "2023-07-17T00:00:00.000000000",
          "2023-07-18T00:00:00.000000000",
          "2023-07-19T00:00:00.000000000",
          "2023-07-20T00:00:00.000000000",
          "2023-07-21T00:00:00.000000000",
          "2023-07-22T00:00:00.000000000",
          "2023-07-23T00:00:00.000000000",
          "2023-07-24T00:00:00.000000000",
          "2023-07-25T00:00:00.000000000",
          "2023-07-26T00:00:00.000000000",
          "2023-07-27T00:00:00.000000000",
          "2023-07-28T00:00:00.000000000",
          "2023-07-29T00:00:00.000000000",
          "2023-07-30T00:00:00.000000000",
          "2023-07-31T00:00:00.000000000",
          "2023-08-01T00:00:00.000000000",
          "2023-08-02T00:00:00.000000000",
          "2023-08-03T00:00:00.000000000",
          "2023-08-04T00:00:00.000000000",
          "2023-08-05T00:00:00.000000000",
          "2023-08-06T00:00:00.000000000",
          "2023-08-07T00:00:00.000000000",
          "2023-08-08T00:00:00.000000000",
          "2023-08-09T00:00:00.000000000",
          "2023-08-10T00:00:00.000000000",
          "2023-08-11T00:00:00.000000000",
          "2023-08-12T00:00:00.000000000",
          "2023-08-13T00:00:00.000000000",
          "2023-08-14T00:00:00.000000000",
          "2023-08-15T00:00:00.000000000",
          "2023-08-16T00:00:00.000000000",
          "2023-08-17T00:00:00.000000000",
          "2023-08-18T00:00:00.000000000",
          "2023-08-19T00:00:00.000000000",
          "2023-08-20T00:00:00.000000000",
          "2023-08-21T00:00:00.000000000",
          "2023-08-22T00:00:00.000000000",
          "2023-08-23T00:00:00.000000000",
          "2023-08-24T00:00:00.000000000",
          "2023-08-25T00:00:00.000000000",
          "2023-08-26T00:00:00.000000000",
          "2023-08-27T00:00:00.000000000",
          "2023-08-28T00:00:00.000000000",
          "2023-08-29T00:00:00.000000000",
          "2023-08-30T00:00:00.000000000",
          "2023-08-31T00:00:00.000000000",
          "2023-09-01T00:00:00.000000000",
          "2023-09-02T00:00:00.000000000",
          "2023-09-03T00:00:00.000000000",
          "2023-09-04T00:00:00.000000000",
          "2023-09-05T00:00:00.000000000",
          "2023-09-06T00:00:00.000000000",
          "2023-09-07T00:00:00.000000000",
          "2023-09-08T00:00:00.000000000",
          "2023-09-09T00:00:00.000000000",
          "2023-09-10T00:00:00.000000000",
          "2023-09-11T00:00:00.000000000",
          "2023-09-12T00:00:00.000000000",
          "2023-09-13T00:00:00.000000000",
          "2023-09-14T00:00:00.000000000",
          "2023-09-15T00:00:00.000000000",
          "2023-09-16T00:00:00.000000000",
          "2023-09-17T00:00:00.000000000",
          "2023-09-18T00:00:00.000000000",
          "2023-09-19T00:00:00.000000000",
          "2023-09-20T00:00:00.000000000",
          "2023-09-21T00:00:00.000000000",
          "2023-09-22T00:00:00.000000000",
          "2023-09-23T00:00:00.000000000",
          "2023-09-24T00:00:00.000000000",
          "2023-09-25T00:00:00.000000000",
          "2023-09-26T00:00:00.000000000",
          "2023-09-27T00:00:00.000000000",
          "2023-09-28T00:00:00.000000000",
          "2023-09-29T00:00:00.000000000",
          "2023-09-30T00:00:00.000000000",
          "2023-10-01T00:00:00.000000000",
          "2023-10-02T00:00:00.000000000",
          "2023-10-03T00:00:00.000000000",
          "2023-10-04T00:00:00.000000000",
          "2023-10-05T00:00:00.000000000",
          "2023-10-06T00:00:00.000000000",
          "2023-10-07T00:00:00.000000000",
          "2023-10-08T00:00:00.000000000",
          "2023-10-09T00:00:00.000000000",
          "2023-10-10T00:00:00.000000000",
          "2023-10-11T00:00:00.000000000",
          "2023-10-12T00:00:00.000000000",
          "2023-10-13T00:00:00.000000000",
          "2023-10-14T00:00:00.000000000",
          "2023-10-15T00:00:00.000000000",
          "2023-10-16T00:00:00.000000000",
          "2023-10-17T00:00:00.000000000",
          "2023-10-18T00:00:00.000000000",
          "2023-10-19T00:00:00.000000000",
          "2023-10-20T00:00:00.000000000",
          "2023-10-21T00:00:00.000000000",
          "2023-10-22T00:00:00.000000000",
          "2023-10-23T00:00:00.000000000",
          "2023-10-24T00:00:00.000000000",
          "2023-10-25T00:00:00.000000000",
          "2023-10-26T00:00:00.000000000",
          "2023-10-27T00:00:00.000000000",
          "2023-10-28T00:00:00.000000000",
          "2023-10-29T00:00:00.000000000",
          "2023-10-30T00:00:00.000000000",
          "2023-10-31T00:00:00.000000000",
          "2023-11-01T00:00:00.000000000",
          "2023-11-02T00:00:00.000000000",
          "2023-11-03T00:00:00.000000000",
          "2023-11-04T00:00:00.000000000",
          "2023-11-05T00:00:00.000000000",
          "2023-11-06T00:00:00.000000000",
          "2023-11-07T00:00:00.000000000",
          "2023-11-08T00:00:00.000000000",
          "2023-11-09T00:00:00.000000000",
          "2023-11-10T00:00:00.000000000",
          "2023-11-11T00:00:00.000000000",
          "2023-11-12T00:00:00.000000000",
          "2023-11-13T00:00:00.000000000",
          "2023-11-14T00:00:00.000000000",
          "2023-11-15T00:00:00.000000000",
          "2023-11-16T00:00:00.000000000",
          "2023-11-17T00:00:00.000000000",
          "2023-11-18T00:00:00.000000000",
          "2023-11-19T00:00:00.000000000",
          "2023-11-20T00:00:00.000000000",
          "2023-11-21T00:00:00.000000000",
          "2023-11-22T00:00:00.000000000",
          "2023-11-23T00:00:00.000000000",
          "2023-11-24T00:00:00.000000000",
          "2023-11-25T00:00:00.000000000",
          "2023-11-26T00:00:00.000000000",
          "2023-11-27T00:00:00.000000000",
          "2023-11-28T00:00:00.000000000",
          "2023-11-29T00:00:00.000000000",
          "2023-11-30T00:00:00.000000000",
          "2023-12-01T00:00:00.000000000",
          "2023-12-02T00:00:00.000000000",
          "2023-12-03T00:00:00.000000000",
          "2023-12-04T00:00:00.000000000",
          "2023-12-05T00:00:00.000000000",
          "2023-12-06T00:00:00.000000000",
          "2023-12-07T00:00:00.000000000",
          "2023-12-08T00:00:00.000000000",
          "2023-12-09T00:00:00.000000000",
          "2023-12-10T00:00:00.000000000",
          "2023-12-11T00:00:00.000000000",
          "2023-12-12T00:00:00.000000000",
          "2023-12-13T00:00:00.000000000",
          "2023-12-14T00:00:00.000000000",
          "2023-12-15T00:00:00.000000000",
          "2023-12-16T00:00:00.000000000",
          "2023-12-17T00:00:00.000000000",
          "2023-12-18T00:00:00.000000000",
          "2023-12-19T00:00:00.000000000",
          "2023-12-20T00:00:00.000000000",
          "2023-12-21T00:00:00.000000000",
          "2023-12-22T00:00:00.000000000",
          "2023-12-23T00:00:00.000000000",
          "2023-12-24T00:00:00.000000000",
          "2023-12-25T00:00:00.000000000",
          "2023-12-26T00:00:00.000000000",
          "2023-12-27T00:00:00.000000000",
          "2023-12-28T00:00:00.000000000",
          "2023-12-29T00:00:00.000000000",
          "2023-12-30T00:00:00.000000000",
          "2023-12-31T00:00:00.000000000",
          "2024-01-01T00:00:00.000000000",
          "2024-01-02T00:00:00.000000000",
          "2024-01-03T00:00:00.000000000",
          "2024-01-04T00:00:00.000000000",
          "2024-01-05T00:00:00.000000000",
          "2024-01-06T00:00:00.000000000",
          "2024-01-07T00:00:00.000000000",
          "2024-01-08T00:00:00.000000000",
          "2024-01-09T00:00:00.000000000",
          "2024-01-10T00:00:00.000000000",
          "2024-01-11T00:00:00.000000000",
          "2024-01-12T00:00:00.000000000",
          "2024-01-13T00:00:00.000000000",
          "2024-01-14T00:00:00.000000000",
          "2024-01-15T00:00:00.000000000",
          "2024-01-16T00:00:00.000000000",
          "2024-01-17T00:00:00.000000000",
          "2024-01-18T00:00:00.000000000",
          "2024-01-19T00:00:00.000000000",
          "2024-01-20T00:00:00.000000000",
          "2024-01-21T00:00:00.000000000",
          "2024-01-22T00:00:00.000000000",
          "2024-01-23T00:00:00.000000000",
          "2024-01-24T00:00:00.000000000",
          "2024-01-25T00:00:00.000000000",
          "2024-01-26T00:00:00.000000000",
          "2024-01-27T00:00:00.000000000",
          "2024-01-28T00:00:00.000000000",
          "2024-01-29T00:00:00.000000000",
          "2024-01-30T00:00:00.000000000",
          "2024-01-31T00:00:00.000000000",
          "2024-02-01T00:00:00.000000000",
          "2024-02-02T00:00:00.000000000",
          "2024-02-03T00:00:00.000000000",
          "2024-02-04T00:00:00.000000000",
          "2024-02-05T00:00:00.000000000",
          "2024-02-06T00:00:00.000000000",
          "2024-02-07T00:00:00.000000000",
          "2024-02-08T00:00:00.000000000",
          "2024-02-09T00:00:00.000000000",
          "2024-02-10T00:00:00.000000000",
          "2024-02-11T00:00:00.000000000",
          "2024-02-12T00:00:00.000000000",
          "2024-02-13T00:00:00.000000000",
          "2024-02-14T00:00:00.000000000",
          "2024-02-15T00:00:00.000000000",
          "2024-02-16T00:00:00.000000000",
          "2024-02-17T00:00:00.000000000",
          "2024-02-18T00:00:00.000000000",
          "2024-02-19T00:00:00.000000000",
          "2024-02-20T00:00:00.000000000",
          "2024-02-21T00:00:00.000000000",
          "2024-02-22T00:00:00.000000000",
          "2024-02-23T00:00:00.000000000",
          "2024-02-24T00:00:00.000000000",
          "2024-02-25T00:00:00.000000000",
          "2024-02-26T00:00:00.000000000",
          "2024-02-27T00:00:00.000000000",
          "2024-02-28T00:00:00.000000000",
          "2024-02-29T00:00:00.000000000",
          "2024-03-01T00:00:00.000000000",
          "2024-03-02T00:00:00.000000000",
          "2024-03-03T00:00:00.000000000",
          "2024-03-04T00:00:00.000000000",
          "2024-03-05T00:00:00.000000000",
          "2024-03-06T00:00:00.000000000",
          "2024-03-07T00:00:00.000000000",
          "2024-03-08T00:00:00.000000000",
          "2024-03-09T00:00:00.000000000",
          "2024-03-10T00:00:00.000000000",
          "2024-03-11T00:00:00.000000000",
          "2024-03-12T00:00:00.000000000",
          "2024-03-13T00:00:00.000000000",
          "2024-03-14T00:00:00.000000000",
          "2024-03-15T00:00:00.000000000",
          "2024-03-16T00:00:00.000000000",
          "2024-03-17T00:00:00.000000000",
          "2024-03-18T00:00:00.000000000",
          "2024-03-19T00:00:00.000000000",
          "2024-03-20T00:00:00.000000000",
          "2024-03-21T00:00:00.000000000",
          "2024-03-22T00:00:00.000000000",
          "2024-03-23T00:00:00.000000000",
          "2024-03-24T00:00:00.000000000",
          "2024-03-25T00:00:00.000000000",
          "2024-03-26T00:00:00.000000000",
          "2024-03-27T00:00:00.000000000",
          "2024-03-28T00:00:00.000000000",
          "2024-03-29T00:00:00.000000000",
          "2024-03-30T00:00:00.000000000",
          "2024-03-31T00:00:00.000000000",
          "2024-04-01T00:00:00.000000000",
          "2024-04-02T00:00:00.000000000",
          "2024-04-03T00:00:00.000000000",
          "2024-04-04T00:00:00.000000000",
          "2024-04-05T00:00:00.000000000",
          "2024-04-06T00:00:00.000000000",
          "2024-04-07T00:00:00.000000000",
          "2024-04-08T00:00:00.000000000",
          "2024-04-09T00:00:00.000000000",
          "2024-04-10T00:00:00.000000000",
          "2024-04-11T00:00:00.000000000",
          "2024-04-12T00:00:00.000000000",
          "2024-04-13T00:00:00.000000000",
          "2024-04-14T00:00:00.000000000",
          "2024-04-15T00:00:00.000000000",
          "2024-04-16T00:00:00.000000000",
          "2024-04-17T00:00:00.000000000",
          "2024-04-18T00:00:00.000000000",
          "2024-04-19T00:00:00.000000000",
          "2024-04-20T00:00:00.000000000",
          "2024-04-21T00:00:00.000000000",
          "2024-04-22T00:00:00.000000000",
          "2024-04-23T00:00:00.000000000",
          "2024-04-24T00:00:00.000000000",
          "2024-04-25T00:00:00.000000000",
          "2024-04-26T00:00:00.000000000",
          "2024-04-27T00:00:00.000000000",
          "2024-04-28T00:00:00.000000000",
          "2024-04-29T00:00:00.000000000",
          "2024-04-30T00:00:00.000000000",
          "2024-05-01T00:00:00.000000000",
          "2024-05-02T00:00:00.000000000",
          "2024-05-03T00:00:00.000000000",
          "2024-05-04T00:00:00.000000000",
          "2024-05-05T00:00:00.000000000",
          "2024-05-06T00:00:00.000000000",
          "2024-05-07T00:00:00.000000000",
          "2024-05-08T00:00:00.000000000",
          "2024-05-09T00:00:00.000000000",
          "2024-05-10T00:00:00.000000000",
          "2024-05-11T00:00:00.000000000",
          "2024-05-12T00:00:00.000000000",
          "2024-05-13T00:00:00.000000000",
          "2024-05-14T00:00:00.000000000",
          "2024-05-15T00:00:00.000000000",
          "2024-05-16T00:00:00.000000000",
          "2024-05-17T00:00:00.000000000",
          "2024-05-18T00:00:00.000000000",
          "2024-05-19T00:00:00.000000000",
          "2024-05-20T00:00:00.000000000",
          "2024-05-21T00:00:00.000000000",
          "2024-05-22T00:00:00.000000000",
          "2024-05-23T00:00:00.000000000",
          "2024-05-24T00:00:00.000000000",
          "2024-05-25T00:00:00.000000000",
          "2024-05-26T00:00:00.000000000",
          "2024-05-27T00:00:00.000000000",
          "2024-05-28T00:00:00.000000000",
          "2024-05-29T00:00:00.000000000",
          "2024-05-30T00:00:00.000000000",
          "2024-05-31T00:00:00.000000000",
          "2024-06-01T00:00:00.000000000",
          "2024-06-02T00:00:00.000000000",
          "2024-06-03T00:00:00.000000000",
          "2024-06-04T00:00:00.000000000",
          "2024-06-05T00:00:00.000000000",
          "2024-06-06T00:00:00.000000000",
          "2024-06-07T00:00:00.000000000",
          "2024-06-08T00:00:00.000000000",
          "2024-06-09T00:00:00.000000000",
          "2024-06-10T00:00:00.000000000",
          "2024-06-11T00:00:00.000000000",
          "2024-06-12T00:00:00.000000000",
          "2024-06-13T00:00:00.000000000",
          "2024-06-14T00:00:00.000000000",
          "2024-06-15T00:00:00.000000000",
          "2024-06-16T00:00:00.000000000",
          "2024-06-17T00:00:00.000000000",
          "2024-06-18T00:00:00.000000000",
          "2024-06-19T00:00:00.000000000",
          "2024-06-20T00:00:00.000000000",
          "2024-06-21T00:00:00.000000000",
          "2024-06-22T00:00:00.000000000",
          "2024-06-23T00:00:00.000000000",
          "2024-06-24T00:00:00.000000000",
          "2024-06-25T00:00:00.000000000",
          "2024-06-26T00:00:00.000000000",
          "2024-06-27T00:00:00.000000000",
          "2024-06-28T00:00:00.000000000",
          "2024-06-29T00:00:00.000000000",
          "2024-06-30T00:00:00.000000000",
          "2024-07-01T00:00:00.000000000",
          "2024-07-02T00:00:00.000000000",
          "2024-07-03T00:00:00.000000000",
          "2024-07-04T00:00:00.000000000",
          "2024-07-05T00:00:00.000000000",
          "2024-07-06T00:00:00.000000000",
          "2024-07-07T00:00:00.000000000",
          "2024-07-08T00:00:00.000000000",
          "2024-07-09T00:00:00.000000000",
          "2024-07-10T00:00:00.000000000",
          "2024-07-11T00:00:00.000000000",
          "2024-07-12T00:00:00.000000000",
          "2024-07-13T00:00:00.000000000",
          "2024-07-14T00:00:00.000000000",
          "2024-07-15T00:00:00.000000000",
          "2024-07-16T00:00:00.000000000",
          "2024-07-17T00:00:00.000000000",
          "2024-07-18T00:00:00.000000000",
          "2024-07-19T00:00:00.000000000",
          "2024-07-20T00:00:00.000000000",
          "2024-07-21T00:00:00.000000000",
          "2024-07-22T00:00:00.000000000",
          "2024-07-23T00:00:00.000000000",
          "2024-07-24T00:00:00.000000000",
          "2024-07-25T00:00:00.000000000",
          "2024-07-26T00:00:00.000000000",
          "2024-07-27T00:00:00.000000000",
          "2024-07-28T00:00:00.000000000",
          "2024-07-29T00:00:00.000000000",
          "2024-07-30T00:00:00.000000000",
          "2024-07-31T00:00:00.000000000",
          "2024-08-01T00:00:00.000000000",
          "2024-08-02T00:00:00.000000000",
          "2024-08-03T00:00:00.000000000",
          "2024-08-04T00:00:00.000000000",
          "2024-08-05T00:00:00.000000000",
          "2024-08-06T00:00:00.000000000",
          "2024-08-07T00:00:00.000000000",
          "2024-08-08T00:00:00.000000000",
          "2024-08-09T00:00:00.000000000",
          "2024-08-10T00:00:00.000000000",
          "2024-08-11T00:00:00.000000000",
          "2024-08-12T00:00:00.000000000",
          "2024-08-13T00:00:00.000000000",
          "2024-08-14T00:00:00.000000000",
          "2024-08-15T00:00:00.000000000",
          "2024-08-16T00:00:00.000000000",
          "2024-08-17T00:00:00.000000000",
          "2024-08-18T00:00:00.000000000",
          "2024-08-19T00:00:00.000000000",
          "2024-08-20T00:00:00.000000000",
          "2024-08-21T00:00:00.000000000",
          "2024-08-22T00:00:00.000000000",
          "2024-08-23T00:00:00.000000000",
          "2024-08-24T00:00:00.000000000",
          "2024-08-25T00:00:00.000000000",
          "2024-08-26T00:00:00.000000000",
          "2024-08-27T00:00:00.000000000",
          "2024-08-28T00:00:00.000000000",
          "2024-08-29T00:00:00.000000000",
          "2024-08-30T00:00:00.000000000",
          "2024-08-31T00:00:00.000000000",
          "2024-09-01T00:00:00.000000000",
          "2024-09-02T00:00:00.000000000",
          "2024-09-03T00:00:00.000000000",
          "2024-09-04T00:00:00.000000000",
          "2024-09-05T00:00:00.000000000",
          "2024-09-06T00:00:00.000000000",
          "2024-09-07T00:00:00.000000000",
          "2024-09-08T00:00:00.000000000",
          "2024-09-09T00:00:00.000000000",
          "2024-09-10T00:00:00.000000000",
          "2024-09-11T00:00:00.000000000",
          "2024-09-12T00:00:00.000000000",
          "2024-09-13T00:00:00.000000000",
          "2024-09-14T00:00:00.000000000",
          "2024-09-15T00:00:00.000000000",
          "2024-09-16T00:00:00.000000000",
          "2024-09-17T00:00:00.000000000",
          "2024-09-18T00:00:00.000000000",
          "2024-09-19T00:00:00.000000000",
          "2024-09-20T00:00:00.000000000",
          "2024-09-21T00:00:00.000000000",
          "2024-09-22T00:00:00.000000000",
          "2024-09-23T00:00:00.000000000",
          "2024-09-24T00:00:00.000000000",
          "2024-09-25T00:00:00.000000000",
          "2024-09-26T00:00:00.000000000",
          "2024-09-27T00:00:00.000000000",
          "2024-09-28T00:00:00.000000000",
          "2024-09-29T00:00:00.000000000",
          "2024-09-30T00:00:00.000000000",
          "2024-10-01T00:00:00.000000000",
          "2024-10-02T00:00:00.000000000",
          "2024-10-03T00:00:00.000000000",
          "2024-10-04T00:00:00.000000000",
          "2024-10-05T00:00:00.000000000",
          "2024-10-06T00:00:00.000000000",
          "2024-10-07T00:00:00.000000000",
          "2024-10-08T00:00:00.000000000",
          "2024-10-09T00:00:00.000000000",
          "2024-10-10T00:00:00.000000000",
          "2024-10-11T00:00:00.000000000",
          "2024-10-12T00:00:00.000000000",
          "2024-10-13T00:00:00.000000000",
          "2024-10-14T00:00:00.000000000",
          "2024-10-15T00:00:00.000000000",
          "2024-10-16T00:00:00.000000000",
          "2024-10-17T00:00:00.000000000",
          "2024-10-18T00:00:00.000000000",
          "2024-10-19T00:00:00.000000000",
          "2024-10-20T00:00:00.000000000",
          "2024-10-21T00:00:00.000000000",
          "2024-10-22T00:00:00.000000000",
          "2024-10-23T00:00:00.000000000",
          "2024-10-24T00:00:00.000000000",
          "2024-10-25T00:00:00.000000000",
          "2024-10-26T00:00:00.000000000",
          "2024-10-27T00:00:00.000000000",
          "2024-10-28T00:00:00.000000000",
          "2024-10-29T00:00:00.000000000",
          "2024-10-30T00:00:00.000000000",
          "2024-10-31T00:00:00.000000000",
          "2024-11-01T00:00:00.000000000",
          "2024-11-02T00:00:00.000000000",
          "2024-11-03T00:00:00.000000000",
          "2024-11-04T00:00:00.000000000",
          "2024-11-05T00:00:00.000000000",
          "2024-11-06T00:00:00.000000000",
          "2024-11-07T00:00:00.000000000",
          "2024-11-08T00:00:00.000000000",
          "2024-11-09T00:00:00.000000000",
          "2024-11-10T00:00:00.000000000",
          "2024-11-11T00:00:00.000000000",
          "2024-11-12T00:00:00.000000000",
          "2024-11-13T00:00:00.000000000",
          "2024-11-14T00:00:00.000000000",
          "2024-11-15T00:00:00.000000000",
          "2024-11-16T00:00:00.000000000",
          "2024-11-17T00:00:00.000000000",
          "2024-11-18T00:00:00.000000000",
          "2024-11-19T00:00:00.000000000",
          "2024-11-20T00:00:00.000000000",
          "2024-11-21T00:00:00.000000000",
          "2024-11-22T00:00:00.000000000",
          "2024-11-23T00:00:00.000000000",
          "2024-11-24T00:00:00.000000000",
          "2024-11-25T00:00:00.000000000",
          "2024-11-26T00:00:00.000000000",
          "2024-11-27T00:00:00.000000000",
          "2024-11-28T00:00:00.000000000",
          "2024-11-29T00:00:00.000000000",
          "2024-11-30T00:00:00.000000000",
          "2024-12-01T00:00:00.000000000",
          "2024-12-02T00:00:00.000000000",
          "2024-12-03T00:00:00.000000000",
          "2024-12-04T00:00:00.000000000",
          "2024-12-05T00:00:00.000000000",
          "2024-12-06T00:00:00.000000000",
          "2024-12-07T00:00:00.000000000",
          "2024-12-08T00:00:00.000000000",
          "2024-12-09T00:00:00.000000000",
          "2024-12-10T00:00:00.000000000",
          "2024-12-11T00:00:00.000000000",
          "2024-12-12T00:00:00.000000000",
          "2024-12-13T00:00:00.000000000",
          "2024-12-14T00:00:00.000000000",
          "2024-12-15T00:00:00.000000000",
          "2024-12-16T00:00:00.000000000",
          "2024-12-17T00:00:00.000000000",
          "2024-12-18T00:00:00.000000000",
          "2024-12-19T00:00:00.000000000",
          "2024-12-20T00:00:00.000000000",
          "2024-12-21T00:00:00.000000000",
          "2024-12-22T00:00:00.000000000",
          "2024-12-23T00:00:00.000000000",
          "2024-12-24T00:00:00.000000000",
          "2024-12-25T00:00:00.000000000",
          "2024-12-26T00:00:00.000000000",
          "2024-12-27T00:00:00.000000000",
          "2024-12-28T00:00:00.000000000",
          "2024-12-29T00:00:00.000000000",
          "2024-12-30T00:00:00.000000000",
          "2024-12-31T00:00:00.000000000",
          "2025-01-01T00:00:00.000000000",
          "2025-01-02T00:00:00.000000000",
          "2025-01-03T00:00:00.000000000",
          "2025-01-04T00:00:00.000000000",
          "2025-01-05T00:00:00.000000000",
          "2025-01-06T00:00:00.000000000",
          "2025-01-07T00:00:00.000000000",
          "2025-01-08T00:00:00.000000000",
          "2025-01-09T00:00:00.000000000",
          "2025-01-10T00:00:00.000000000",
          "2025-01-11T00:00:00.000000000",
          "2025-01-12T00:00:00.000000000",
          "2025-01-13T00:00:00.000000000",
          "2025-01-14T00:00:00.000000000",
          "2025-01-15T00:00:00.000000000",
          "2025-01-16T00:00:00.000000000",
          "2025-01-17T00:00:00.000000000",
          "2025-01-18T00:00:00.000000000",
          "2025-01-19T00:00:00.000000000",
          "2025-01-20T00:00:00.000000000",
          "2025-01-21T00:00:00.000000000",
          "2025-01-22T00:00:00.000000000",
          "2025-01-23T00:00:00.000000000",
          "2025-01-24T00:00:00.000000000",
          "2025-01-25T00:00:00.000000000",
          "2025-01-26T00:00:00.000000000",
          "2025-01-27T00:00:00.000000000",
          "2025-01-28T00:00:00.000000000",
          "2025-01-29T00:00:00.000000000",
          "2025-01-30T00:00:00.000000000",
          "2025-01-31T00:00:00.000000000",
          "2025-02-01T00:00:00.000000000",
          "2025-02-02T00:00:00.000000000",
          "2025-02-03T00:00:00.000000000",
          "2025-02-04T00:00:00.000000000",
          "2025-02-05T00:00:00.000000000",
          "2025-02-06T00:00:00.000000000",
          "2025-02-07T00:00:00.000000000",
          "2025-02-08T00:00:00.000000000",
          "2025-02-09T00:00:00.000000000",
          "2025-02-10T00:00:00.000000000",
          "2025-02-11T00:00:00.000000000",
          "2025-02-12T00:00:00.000000000",
          "2025-02-13T00:00:00.000000000",
          "2025-02-14T00:00:00.000000000",
          "2025-02-15T00:00:00.000000000",
          "2025-02-16T00:00:00.000000000",
          "2025-02-17T00:00:00.000000000",
          "2025-02-18T00:00:00.000000000",
          "2025-02-19T00:00:00.000000000",
          "2025-02-20T00:00:00.000000000",
          "2025-02-21T00:00:00.000000000",
          "2025-02-22T00:00:00.000000000",
          "2025-02-23T00:00:00.000000000",
          "2025-02-24T00:00:00.000000000",
          "2025-02-25T00:00:00.000000000",
          "2025-02-26T00:00:00.000000000",
          "2025-02-27T00:00:00.000000000",
          "2025-02-28T00:00:00.000000000",
          "2025-03-01T00:00:00.000000000",
          "2025-03-02T00:00:00.000000000",
          "2025-03-03T00:00:00.000000000",
          "2025-03-04T00:00:00.000000000",
          "2025-03-05T00:00:00.000000000",
          "2025-03-06T00:00:00.000000000",
          "2025-03-07T00:00:00.000000000",
          "2025-03-08T00:00:00.000000000",
          "2025-03-09T00:00:00.000000000",
          "2025-03-10T00:00:00.000000000",
          "2025-03-11T00:00:00.000000000",
          "2025-03-12T00:00:00.000000000",
          "2025-03-13T00:00:00.000000000",
          "2025-03-14T00:00:00.000000000",
          "2025-03-15T00:00:00.000000000",
          "2025-03-16T00:00:00.000000000",
          "2025-03-17T00:00:00.000000000",
          "2025-03-18T00:00:00.000000000",
          "2025-03-19T00:00:00.000000000",
          "2025-03-20T00:00:00.000000000",
          "2025-03-21T00:00:00.000000000",
          "2025-03-22T00:00:00.000000000",
          "2025-03-23T00:00:00.000000000",
          "2025-03-24T00:00:00.000000000",
          "2025-03-25T00:00:00.000000000",
          "2025-03-26T00:00:00.000000000",
          "2025-03-27T00:00:00.000000000",
          "2025-03-28T00:00:00.000000000",
          "2025-03-29T00:00:00.000000000",
          "2025-03-30T00:00:00.000000000",
          "2025-03-31T00:00:00.000000000",
          "2025-04-01T00:00:00.000000000",
          "2025-04-02T00:00:00.000000000"
         ],
         "y": {
          "bdata": "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",
          "dtype": "f8"
         }
        }
       ],
       "layout": {
        "template": {
         "data": {
          "bar": [
           {
            "error_x": {
             "color": "#2a3f5f"
            },
            "error_y": {
             "color": "#2a3f5f"
            },
            "marker": {
             "line": {
              "color": "white",
              "width": 0.5
             },
             "pattern": {
              "fillmode": "overlay",
              "size": 10,
              "solidity": 0.2
             }
            },
            "type": "bar"
           }
          ],
          "barpolar": [
           {
            "marker": {
             "line": {
              "color": "white",
              "width": 0.5
             },
             "pattern": {
              "fillmode": "overlay",
              "size": 10,
              "solidity": 0.2
             }
            },
            "type": "barpolar"
           }
          ],
          "carpet": [
           {
            "aaxis": {
             "endlinecolor": "#2a3f5f",
             "gridcolor": "#C8D4E3",
             "linecolor": "#C8D4E3",
             "minorgridcolor": "#C8D4E3",
             "startlinecolor": "#2a3f5f"
            },
            "baxis": {
             "endlinecolor": "#2a3f5f",
             "gridcolor": "#C8D4E3",
             "linecolor": "#C8D4E3",
             "minorgridcolor": "#C8D4E3",
             "startlinecolor": "#2a3f5f"
            },
            "type": "carpet"
           }
          ],
          "choropleth": [
           {
            "colorbar": {
             "outlinewidth": 0,
             "ticks": ""
            },
            "type": "choropleth"
           }
          ],
          "contour": [
           {
            "colorbar": {
             "outlinewidth": 0,
             "ticks": ""
            },
            "colorscale": [
             [
              0,
              "#0d0887"
             ],
             [
              0.1111111111111111,
              "#46039f"
             ],
             [
              0.2222222222222222,
              "#7201a8"
             ],
             [
              0.3333333333333333,
              "#9c179e"
             ],
             [
              0.4444444444444444,
              "#bd3786"
             ],
             [
              0.5555555555555556,
              "#d8576b"
             ],
             [
              0.6666666666666666,
              "#ed7953"
             ],
             [
              0.7777777777777778,
              "#fb9f3a"
             ],
             [
              0.8888888888888888,
              "#fdca26"
             ],
             [
              1,
              "#f0f921"
             ]
            ],
            "type": "contour"
           }
          ],
          "contourcarpet": [
           {
            "colorbar": {
             "outlinewidth": 0,
             "ticks": ""
            },
            "type": "contourcarpet"
           }
          ],
          "heatmap": [
           {
            "colorbar": {
             "outlinewidth": 0,
             "ticks": ""
            },
            "colorscale": [
             [
              0,
              "#0d0887"
             ],
             [
              0.1111111111111111,
              "#46039f"
             ],
             [
              0.2222222222222222,
              "#7201a8"
             ],
             [
              0.3333333333333333,
              "#9c179e"
             ],
             [
              0.4444444444444444,
              "#bd3786"
             ],
             [
              0.5555555555555556,
              "#d8576b"
             ],
             [
              0.6666666666666666,
              "#ed7953"
             ],
             [
              0.7777777777777778,
              "#fb9f3a"
             ],
             [
              0.8888888888888888,
              "#fdca26"
             ],
             [
              1,
              "#f0f921"
             ]
            ],
            "type": "heatmap"
           }
          ],
          "histogram": [
           {
            "marker": {
             "pattern": {
              "fillmode": "overlay",
              "size": 10,
              "solidity": 0.2
             }
            },
            "type": "histogram"
           }
          ],
          "histogram2d": [
           {
            "colorbar": {
             "outlinewidth": 0,
             "ticks": ""
            },
            "colorscale": [
             [
              0,
              "#0d0887"
             ],
             [
              0.1111111111111111,
              "#46039f"
             ],
             [
              0.2222222222222222,
              "#7201a8"
             ],
             [
              0.3333333333333333,
              "#9c179e"
             ],
             [
              0.4444444444444444,
              "#bd3786"
             ],
             [
              0.5555555555555556,
              "#d8576b"
             ],
             [
              0.6666666666666666,
              "#ed7953"
             ],
             [
              0.7777777777777778,
              "#fb9f3a"
             ],
             [
              0.8888888888888888,
              "#fdca26"
             ],
             [
              1,
              "#f0f921"
             ]
            ],
            "type": "histogram2d"
           }
          ],
          "histogram2dcontour": [
           {
            "colorbar": {
             "outlinewidth": 0,
             "ticks": ""
            },
            "colorscale": [
             [
              0,
              "#0d0887"
             ],
             [
              0.1111111111111111,
              "#46039f"
             ],
             [
              0.2222222222222222,
              "#7201a8"
             ],
             [
              0.3333333333333333,
              "#9c179e"
             ],
             [
              0.4444444444444444,
              "#bd3786"
             ],
             [
              0.5555555555555556,
              "#d8576b"
             ],
             [
              0.6666666666666666,
              "#ed7953"
             ],
             [
              0.7777777777777778,
              "#fb9f3a"
             ],
             [
              0.8888888888888888,
              "#fdca26"
             ],
             [
              1,
              "#f0f921"
             ]
            ],
            "type": "histogram2dcontour"
           }
          ],
          "mesh3d": [
           {
            "colorbar": {
             "outlinewidth": 0,
             "ticks": ""
            },
            "type": "mesh3d"
           }
          ],
          "parcoords": [
           {
            "line": {
             "colorbar": {
              "outlinewidth": 0,
              "ticks": ""
             }
            },
            "type": "parcoords"
           }
          ],
          "pie": [
           {
            "automargin": true,
            "type": "pie"
           }
          ],
          "scatter": [
           {
            "fillpattern": {
             "fillmode": "overlay",
             "size": 10,
             "solidity": 0.2
            },
            "type": "scatter"
           }
          ],
          "scatter3d": [
           {
            "line": {
             "colorbar": {
              "outlinewidth": 0,
              "ticks": ""
             }
            },
            "marker": {
             "colorbar": {
              "outlinewidth": 0,
              "ticks": ""
             }
            },
            "type": "scatter3d"
           }
          ],
          "scattercarpet": [
           {
            "marker": {
             "colorbar": {
              "outlinewidth": 0,
              "ticks": ""
             }
            },
            "type": "scattercarpet"
           }
          ],
          "scattergeo": [
           {
            "marker": {
             "colorbar": {
              "outlinewidth": 0,
              "ticks": ""
             }
            },
            "type": "scattergeo"
           }
          ],
          "scattergl": [
           {
            "marker": {
             "colorbar": {
              "outlinewidth": 0,
              "ticks": ""
             }
            },
            "type": "scattergl"
           }
          ],
          "scattermap": [
           {
            "marker": {
             "colorbar": {
              "outlinewidth": 0,
              "ticks": ""
             }
            },
            "type": "scattermap"
           }
          ],
          "scattermapbox": [
           {
            "marker": {
             "colorbar": {
              "outlinewidth": 0,
              "ticks": ""
             }
            },
            "type": "scattermapbox"
           }
          ],
          "scatterpolar": [
           {
            "marker": {
             "colorbar": {
              "outlinewidth": 0,
              "ticks": ""
             }
            },
            "type": "scatterpolar"
           }
          ],
          "scatterpolargl": [
           {
            "marker": {
             "colorbar": {
              "outlinewidth": 0,
              "ticks": ""
             }
            },
            "type": "scatterpolargl"
           }
          ],
          "scatterternary": [
           {
            "marker": {
             "colorbar": {
              "outlinewidth": 0,
              "ticks": ""
             }
            },
            "type": "scatterternary"
           }
          ],
          "surface": [
           {
            "colorbar": {
             "outlinewidth": 0,
             "ticks": ""
            },
            "colorscale": [
             [
              0,
              "#0d0887"
             ],
             [
              0.1111111111111111,
              "#46039f"
             ],
             [
              0.2222222222222222,
              "#7201a8"
             ],
             [
              0.3333333333333333,
              "#9c179e"
             ],
             [
              0.4444444444444444,
              "#bd3786"
             ],
             [
              0.5555555555555556,
              "#d8576b"
             ],
             [
              0.6666666666666666,
              "#ed7953"
             ],
             [
              0.7777777777777778,
              "#fb9f3a"
             ],
             [
              0.8888888888888888,
              "#fdca26"
             ],
             [
              1,
              "#f0f921"
             ]
            ],
            "type": "surface"
           }
          ],
          "table": [
           {
            "cells": {
             "fill": {
              "color": "#EBF0F8"
             },
             "line": {
              "color": "white"
             }
            },
            "header": {
             "fill": {
              "color": "#C8D4E3"
             },
             "line": {
              "color": "white"
             }
            },
            "type": "table"
           }
          ]
         },
         "layout": {
          "annotationdefaults": {
           "arrowcolor": "#2a3f5f",
           "arrowhead": 0,
           "arrowwidth": 1
          },
          "autotypenumbers": "strict",
          "coloraxis": {
           "colorbar": {
            "outlinewidth": 0,
            "ticks": ""
           }
          },
          "colorscale": {
           "diverging": [
            [
             0,
             "#8e0152"
            ],
            [
             0.1,
             "#c51b7d"
            ],
            [
             0.2,
             "#de77ae"
            ],
            [
             0.3,
             "#f1b6da"
            ],
            [
             0.4,
             "#fde0ef"
            ],
            [
             0.5,
             "#f7f7f7"
            ],
            [
             0.6,
             "#e6f5d0"
            ],
            [
             0.7,
             "#b8e186"
            ],
            [
             0.8,
             "#7fbc41"
            ],
            [
             0.9,
             "#4d9221"
            ],
            [
             1,
             "#276419"
            ]
           ],
           "sequential": [
            [
             0,
             "#0d0887"
            ],
            [
             0.1111111111111111,
             "#46039f"
            ],
            [
             0.2222222222222222,
             "#7201a8"
            ],
            [
             0.3333333333333333,
             "#9c179e"
            ],
            [
             0.4444444444444444,
             "#bd3786"
            ],
            [
             0.5555555555555556,
             "#d8576b"
            ],
            [
             0.6666666666666666,
             "#ed7953"
            ],
            [
             0.7777777777777778,
             "#fb9f3a"
            ],
            [
             0.8888888888888888,
             "#fdca26"
            ],
            [
             1,
             "#f0f921"
            ]
           ],
           "sequentialminus": [
            [
             0,
             "#0d0887"
            ],
            [
             0.1111111111111111,
             "#46039f"
            ],
            [
             0.2222222222222222,
             "#7201a8"
            ],
            [
             0.3333333333333333,
             "#9c179e"
            ],
            [
             0.4444444444444444,
             "#bd3786"
            ],
            [
             0.5555555555555556,
             "#d8576b"
            ],
            [
             0.6666666666666666,
             "#ed7953"
            ],
            [
             0.7777777777777778,
             "#fb9f3a"
            ],
            [
             0.8888888888888888,
             "#fdca26"
            ],
            [
             1,
             "#f0f921"
            ]
           ]
          },
          "colorway": [
           "#636efa",
           "#EF553B",
           "#00cc96",
           "#ab63fa",
           "#FFA15A",
           "#19d3f3",
           "#FF6692",
           "#B6E880",
           "#FF97FF",
           "#FECB52"
          ],
          "font": {
           "color": "#2a3f5f"
          },
          "geo": {
           "bgcolor": "white",
           "lakecolor": "white",
           "landcolor": "white",
           "showlakes": true,
           "showland": true,
           "subunitcolor": "#C8D4E3"
          },
          "hoverlabel": {
           "align": "left"
          },
          "hovermode": "closest",
          "mapbox": {
           "style": "light"
          },
          "paper_bgcolor": "white",
          "plot_bgcolor": "white",
          "polar": {
           "angularaxis": {
            "gridcolor": "#EBF0F8",
            "linecolor": "#EBF0F8",
            "ticks": ""
           },
           "bgcolor": "white",
           "radialaxis": {
            "gridcolor": "#EBF0F8",
            "linecolor": "#EBF0F8",
            "ticks": ""
           }
          },
          "scene": {
           "xaxis": {
            "backgroundcolor": "white",
            "gridcolor": "#DFE8F3",
            "gridwidth": 2,
            "linecolor": "#EBF0F8",
            "showbackground": true,
            "ticks": "",
            "zerolinecolor": "#EBF0F8"
           },
           "yaxis": {
            "backgroundcolor": "white",
            "gridcolor": "#DFE8F3",
            "gridwidth": 2,
            "linecolor": "#EBF0F8",
            "showbackground": true,
            "ticks": "",
            "zerolinecolor": "#EBF0F8"
           },
           "zaxis": {
            "backgroundcolor": "white",
            "gridcolor": "#DFE8F3",
            "gridwidth": 2,
            "linecolor": "#EBF0F8",
            "showbackground": true,
            "ticks": "",
            "zerolinecolor": "#EBF0F8"
           }
          },
          "shapedefaults": {
           "line": {
            "color": "#2a3f5f"
           }
          },
          "ternary": {
           "aaxis": {
            "gridcolor": "#DFE8F3",
            "linecolor": "#A2B1C6",
            "ticks": ""
           },
           "baxis": {
            "gridcolor": "#DFE8F3",
            "linecolor": "#A2B1C6",
            "ticks": ""
           },
           "bgcolor": "white",
           "caxis": {
            "gridcolor": "#DFE8F3",
            "linecolor": "#A2B1C6",
            "ticks": ""
           }
          },
          "title": {
           "x": 0.05
          },
          "xaxis": {
           "automargin": true,
           "gridcolor": "#EBF0F8",
           "linecolor": "#EBF0F8",
           "ticks": "",
           "title": {
            "standoff": 15
           },
           "zerolinecolor": "#EBF0F8",
           "zerolinewidth": 2
          },
          "yaxis": {
           "automargin": true,
           "gridcolor": "#EBF0F8",
           "linecolor": "#EBF0F8",
           "ticks": "",
           "title": {
            "standoff": 15
           },
           "zerolinecolor": "#EBF0F8",
           "zerolinewidth": 2
          }
         }
        },
        "title": {
         "text": "7-Day Rolling MAE and RMSE Over Time"
        },
        "xaxis": {
         "title": {
          "text": "Date"
         }
        },
        "yaxis": {
         "title": {
          "text": "Error (USD)"
         }
        }
       }
      }
     },
     "metadata": {},
     "output_type": "display_data"
    }
   ],
   "source": [
    "# Calculate absolute error and rolling MAE\n",
    "results['Absolute_Error'] = abs(results['Actual'] - results['Predicted'])\n",
    "results['MAE_Rolling'] = results['Absolute_Error'].rolling(window=7).mean()\n",
    "\n",
    "# Plot Rolling MAE and RMSE on the same chart\n",
    "import plotly.graph_objects as go\n",
    "\n",
    "fig = go.Figure()\n",
    "\n",
    "fig.add_trace(go.Scatter(\n",
    "    x=results['Date'],\n",
    "    y=results['RMSE_Rolling'],\n",
    "    mode='lines',\n",
    "    name='Rolling RMSE',\n",
    "    line=dict(color='red')\n",
    "))\n",
    "\n",
    "fig.add_trace(go.Scatter(\n",
    "    x=results['Date'],\n",
    "    y=results['MAE_Rolling'],\n",
    "    mode='lines',\n",
    "    name='Rolling MAE',\n",
    "    line=dict(color='blue')\n",
    "))\n",
    "\n",
    "fig.update_layout(\n",
    "    title='7-Day Rolling MAE and RMSE Over Time',\n",
    "    xaxis_title='Date',\n",
    "    yaxis_title='Error (USD)',\n",
    "    template='plotly_white'\n",
    ")\n",
    "\n",
    "fig.show()\n"
   ]
  },
  {
   "cell_type": "code",
   "execution_count": 88,
   "id": "ecc6c3b7-10e8-4600-a5dd-3d995cb794d0",
   "metadata": {
    "scrolled": true
   },
   "outputs": [
    {
     "name": "stdout",
     "output_type": "stream",
     "text": [
      "Feature p-values (human-readable labels):\n",
      "Bollinger_Upper: 0.0031 (Significant)\n",
      "Bollinger_Lower: 0.0112 (Significant)\n",
      "Bollinger_Middle: 0.1564 (Not Significant)\n",
      "fgi: 0.0245 (Significant)\n",
      "Close: 0.0000 (Significant)\n",
      "Return: 0.3159 (Not Significant)\n",
      "Volatility: 0.3904 (Not Significant)\n",
      "Volatility_x_Return: 0.0902 (Not Significant)\n",
      "\n",
      "Full summary with p-values:\n",
      "                            OLS Regression Results                            \n",
      "==============================================================================\n",
      "Dep. Variable:                      y   R-squared:                       0.997\n",
      "Model:                            OLS   Adj. R-squared:                  0.997\n",
      "Method:                 Least Squares   F-statistic:                 1.527e+05\n",
      "Date:                Thu, 03 Apr 2025   Prob (F-statistic):               0.00\n",
      "Time:                        02:29:43   Log-Likelihood:                -23106.\n",
      "No. Observations:                2836   AIC:                         4.623e+04\n",
      "Df Residuals:                    2828   BIC:                         4.628e+04\n",
      "Df Model:                           7                                         \n",
      "Covariance Type:            nonrobust                                         \n",
      "==============================================================================\n",
      "                 coef    std err          t      P>|t|      [0.025      0.975]\n",
      "------------------------------------------------------------------------------\n",
      "const       1.467e+04     15.719    933.110      0.000    1.46e+04    1.47e+04\n",
      "x1           338.7883    114.421      2.961      0.003     114.432     563.145\n",
      "x2          -265.6790    104.707     -2.537      0.011    -470.989     -60.369\n",
      "x3            74.0393     52.225      1.418      0.156     -28.363     176.441\n",
      "x4            42.2713     18.788      2.250      0.025       5.432      79.111\n",
      "x5           1.61e+04    150.315    107.126      0.000    1.58e+04    1.64e+04\n",
      "x6            34.2463     34.137      1.003      0.316     -32.690     101.183\n",
      "x7           -14.9158     17.363     -0.859      0.390     -48.962      19.130\n",
      "x8           -56.6675     33.437     -1.695      0.090    -122.232       8.896\n",
      "==============================================================================\n",
      "Omnibus:                      624.844   Durbin-Watson:                   2.038\n",
      "Prob(Omnibus):                  0.000   Jarque-Bera (JB):            25493.085\n",
      "Skew:                          -0.137   Prob(JB):                         0.00\n",
      "Kurtosis:                      17.685   Cond. No.                     7.76e+15\n",
      "==============================================================================\n",
      "\n",
      "Notes:\n",
      "[1] Standard Errors assume that the covariance matrix of the errors is correctly specified.\n",
      "[2] The smallest eigenvalue is 1.89e-28. This might indicate that there are\n",
      "strong multicollinearity problems or that the design matrix is singular.\n"
     ]
    },
    {
     "data": {
      "application/vnd.plotly.v1+json": {
       "config": {
        "plotlyServerURL": "https://plot.ly"
       },
       "data": [
        {
         "hovertemplate": "color=True<br>Feature=%{x}<br>P-Value=%{y}<extra></extra>",
         "legendgroup": "True",
         "marker": {
          "color": "green",
          "pattern": {
           "shape": ""
          }
         },
         "name": "True",
         "orientation": "v",
         "showlegend": true,
         "textposition": "auto",
         "type": "bar",
         "x": [
          "Close",
          "Bollinger_Upper",
          "Bollinger_Lower",
          "fgi"
         ],
         "xaxis": "x",
         "y": {
          "bdata": "AAAAAAAAAADy4EY0a1ZpP9q36/vt+4Y/l4VheYwemT8=",
          "dtype": "f8"
         },
         "yaxis": "y"
        },
        {
         "hovertemplate": "color=False<br>Feature=%{x}<br>P-Value=%{y}<extra></extra>",
         "legendgroup": "False",
         "marker": {
          "color": "red",
          "pattern": {
           "shape": ""
          }
         },
         "name": "False",
         "orientation": "v",
         "showlegend": true,
         "textposition": "auto",
         "type": "bar",
         "x": [
          "Volatility_x_Return",
          "Bollinger_Middle",
          "Return",
          "Volatility"
         ],
         "xaxis": "x",
         "y": {
          "bdata": "0Q86lKEZtz/IaYVKdATEP83Ak6HmNtQ/YoN6vBr82D8=",
          "dtype": "f8"
         },
         "yaxis": "y"
        }
       ],
       "layout": {
        "barmode": "relative",
        "legend": {
         "title": {
          "text": "color"
         },
         "tracegroupgap": 0
        },
        "shapes": [
         {
          "line": {
           "color": "black",
           "dash": "dash"
          },
          "type": "line",
          "x0": 0,
          "x1": 1,
          "xref": "x domain",
          "y0": 0.05,
          "y1": 0.05,
          "yref": "y"
         }
        ],
        "showlegend": false,
        "template": {
         "data": {
          "bar": [
           {
            "error_x": {
             "color": "#2a3f5f"
            },
            "error_y": {
             "color": "#2a3f5f"
            },
            "marker": {
             "line": {
              "color": "white",
              "width": 0.5
             },
             "pattern": {
              "fillmode": "overlay",
              "size": 10,
              "solidity": 0.2
             }
            },
            "type": "bar"
           }
          ],
          "barpolar": [
           {
            "marker": {
             "line": {
              "color": "white",
              "width": 0.5
             },
             "pattern": {
              "fillmode": "overlay",
              "size": 10,
              "solidity": 0.2
             }
            },
            "type": "barpolar"
           }
          ],
          "carpet": [
           {
            "aaxis": {
             "endlinecolor": "#2a3f5f",
             "gridcolor": "#C8D4E3",
             "linecolor": "#C8D4E3",
             "minorgridcolor": "#C8D4E3",
             "startlinecolor": "#2a3f5f"
            },
            "baxis": {
             "endlinecolor": "#2a3f5f",
             "gridcolor": "#C8D4E3",
             "linecolor": "#C8D4E3",
             "minorgridcolor": "#C8D4E3",
             "startlinecolor": "#2a3f5f"
            },
            "type": "carpet"
           }
          ],
          "choropleth": [
           {
            "colorbar": {
             "outlinewidth": 0,
             "ticks": ""
            },
            "type": "choropleth"
           }
          ],
          "contour": [
           {
            "colorbar": {
             "outlinewidth": 0,
             "ticks": ""
            },
            "colorscale": [
             [
              0,
              "#0d0887"
             ],
             [
              0.1111111111111111,
              "#46039f"
             ],
             [
              0.2222222222222222,
              "#7201a8"
             ],
             [
              0.3333333333333333,
              "#9c179e"
             ],
             [
              0.4444444444444444,
              "#bd3786"
             ],
             [
              0.5555555555555556,
              "#d8576b"
             ],
             [
              0.6666666666666666,
              "#ed7953"
             ],
             [
              0.7777777777777778,
              "#fb9f3a"
             ],
             [
              0.8888888888888888,
              "#fdca26"
             ],
             [
              1,
              "#f0f921"
             ]
            ],
            "type": "contour"
           }
          ],
          "contourcarpet": [
           {
            "colorbar": {
             "outlinewidth": 0,
             "ticks": ""
            },
            "type": "contourcarpet"
           }
          ],
          "heatmap": [
           {
            "colorbar": {
             "outlinewidth": 0,
             "ticks": ""
            },
            "colorscale": [
             [
              0,
              "#0d0887"
             ],
             [
              0.1111111111111111,
              "#46039f"
             ],
             [
              0.2222222222222222,
              "#7201a8"
             ],
             [
              0.3333333333333333,
              "#9c179e"
             ],
             [
              0.4444444444444444,
              "#bd3786"
             ],
             [
              0.5555555555555556,
              "#d8576b"
             ],
             [
              0.6666666666666666,
              "#ed7953"
             ],
             [
              0.7777777777777778,
              "#fb9f3a"
             ],
             [
              0.8888888888888888,
              "#fdca26"
             ],
             [
              1,
              "#f0f921"
             ]
            ],
            "type": "heatmap"
           }
          ],
          "histogram": [
           {
            "marker": {
             "pattern": {
              "fillmode": "overlay",
              "size": 10,
              "solidity": 0.2
             }
            },
            "type": "histogram"
           }
          ],
          "histogram2d": [
           {
            "colorbar": {
             "outlinewidth": 0,
             "ticks": ""
            },
            "colorscale": [
             [
              0,
              "#0d0887"
             ],
             [
              0.1111111111111111,
              "#46039f"
             ],
             [
              0.2222222222222222,
              "#7201a8"
             ],
             [
              0.3333333333333333,
              "#9c179e"
             ],
             [
              0.4444444444444444,
              "#bd3786"
             ],
             [
              0.5555555555555556,
              "#d8576b"
             ],
             [
              0.6666666666666666,
              "#ed7953"
             ],
             [
              0.7777777777777778,
              "#fb9f3a"
             ],
             [
              0.8888888888888888,
              "#fdca26"
             ],
             [
              1,
              "#f0f921"
             ]
            ],
            "type": "histogram2d"
           }
          ],
          "histogram2dcontour": [
           {
            "colorbar": {
             "outlinewidth": 0,
             "ticks": ""
            },
            "colorscale": [
             [
              0,
              "#0d0887"
             ],
             [
              0.1111111111111111,
              "#46039f"
             ],
             [
              0.2222222222222222,
              "#7201a8"
             ],
             [
              0.3333333333333333,
              "#9c179e"
             ],
             [
              0.4444444444444444,
              "#bd3786"
             ],
             [
              0.5555555555555556,
              "#d8576b"
             ],
             [
              0.6666666666666666,
              "#ed7953"
             ],
             [
              0.7777777777777778,
              "#fb9f3a"
             ],
             [
              0.8888888888888888,
              "#fdca26"
             ],
             [
              1,
              "#f0f921"
             ]
            ],
            "type": "histogram2dcontour"
           }
          ],
          "mesh3d": [
           {
            "colorbar": {
             "outlinewidth": 0,
             "ticks": ""
            },
            "type": "mesh3d"
           }
          ],
          "parcoords": [
           {
            "line": {
             "colorbar": {
              "outlinewidth": 0,
              "ticks": ""
             }
            },
            "type": "parcoords"
           }
          ],
          "pie": [
           {
            "automargin": true,
            "type": "pie"
           }
          ],
          "scatter": [
           {
            "fillpattern": {
             "fillmode": "overlay",
             "size": 10,
             "solidity": 0.2
            },
            "type": "scatter"
           }
          ],
          "scatter3d": [
           {
            "line": {
             "colorbar": {
              "outlinewidth": 0,
              "ticks": ""
             }
            },
            "marker": {
             "colorbar": {
              "outlinewidth": 0,
              "ticks": ""
             }
            },
            "type": "scatter3d"
           }
          ],
          "scattercarpet": [
           {
            "marker": {
             "colorbar": {
              "outlinewidth": 0,
              "ticks": ""
             }
            },
            "type": "scattercarpet"
           }
          ],
          "scattergeo": [
           {
            "marker": {
             "colorbar": {
              "outlinewidth": 0,
              "ticks": ""
             }
            },
            "type": "scattergeo"
           }
          ],
          "scattergl": [
           {
            "marker": {
             "colorbar": {
              "outlinewidth": 0,
              "ticks": ""
             }
            },
            "type": "scattergl"
           }
          ],
          "scattermap": [
           {
            "marker": {
             "colorbar": {
              "outlinewidth": 0,
              "ticks": ""
             }
            },
            "type": "scattermap"
           }
          ],
          "scattermapbox": [
           {
            "marker": {
             "colorbar": {
              "outlinewidth": 0,
              "ticks": ""
             }
            },
            "type": "scattermapbox"
           }
          ],
          "scatterpolar": [
           {
            "marker": {
             "colorbar": {
              "outlinewidth": 0,
              "ticks": ""
             }
            },
            "type": "scatterpolar"
           }
          ],
          "scatterpolargl": [
           {
            "marker": {
             "colorbar": {
              "outlinewidth": 0,
              "ticks": ""
             }
            },
            "type": "scatterpolargl"
           }
          ],
          "scatterternary": [
           {
            "marker": {
             "colorbar": {
              "outlinewidth": 0,
              "ticks": ""
             }
            },
            "type": "scatterternary"
           }
          ],
          "surface": [
           {
            "colorbar": {
             "outlinewidth": 0,
             "ticks": ""
            },
            "colorscale": [
             [
              0,
              "#0d0887"
             ],
             [
              0.1111111111111111,
              "#46039f"
             ],
             [
              0.2222222222222222,
              "#7201a8"
             ],
             [
              0.3333333333333333,
              "#9c179e"
             ],
             [
              0.4444444444444444,
              "#bd3786"
             ],
             [
              0.5555555555555556,
              "#d8576b"
             ],
             [
              0.6666666666666666,
              "#ed7953"
             ],
             [
              0.7777777777777778,
              "#fb9f3a"
             ],
             [
              0.8888888888888888,
              "#fdca26"
             ],
             [
              1,
              "#f0f921"
             ]
            ],
            "type": "surface"
           }
          ],
          "table": [
           {
            "cells": {
             "fill": {
              "color": "#EBF0F8"
             },
             "line": {
              "color": "white"
             }
            },
            "header": {
             "fill": {
              "color": "#C8D4E3"
             },
             "line": {
              "color": "white"
             }
            },
            "type": "table"
           }
          ]
         },
         "layout": {
          "annotationdefaults": {
           "arrowcolor": "#2a3f5f",
           "arrowhead": 0,
           "arrowwidth": 1
          },
          "autotypenumbers": "strict",
          "coloraxis": {
           "colorbar": {
            "outlinewidth": 0,
            "ticks": ""
           }
          },
          "colorscale": {
           "diverging": [
            [
             0,
             "#8e0152"
            ],
            [
             0.1,
             "#c51b7d"
            ],
            [
             0.2,
             "#de77ae"
            ],
            [
             0.3,
             "#f1b6da"
            ],
            [
             0.4,
             "#fde0ef"
            ],
            [
             0.5,
             "#f7f7f7"
            ],
            [
             0.6,
             "#e6f5d0"
            ],
            [
             0.7,
             "#b8e186"
            ],
            [
             0.8,
             "#7fbc41"
            ],
            [
             0.9,
             "#4d9221"
            ],
            [
             1,
             "#276419"
            ]
           ],
           "sequential": [
            [
             0,
             "#0d0887"
            ],
            [
             0.1111111111111111,
             "#46039f"
            ],
            [
             0.2222222222222222,
             "#7201a8"
            ],
            [
             0.3333333333333333,
             "#9c179e"
            ],
            [
             0.4444444444444444,
             "#bd3786"
            ],
            [
             0.5555555555555556,
             "#d8576b"
            ],
            [
             0.6666666666666666,
             "#ed7953"
            ],
            [
             0.7777777777777778,
             "#fb9f3a"
            ],
            [
             0.8888888888888888,
             "#fdca26"
            ],
            [
             1,
             "#f0f921"
            ]
           ],
           "sequentialminus": [
            [
             0,
             "#0d0887"
            ],
            [
             0.1111111111111111,
             "#46039f"
            ],
            [
             0.2222222222222222,
             "#7201a8"
            ],
            [
             0.3333333333333333,
             "#9c179e"
            ],
            [
             0.4444444444444444,
             "#bd3786"
            ],
            [
             0.5555555555555556,
             "#d8576b"
            ],
            [
             0.6666666666666666,
             "#ed7953"
            ],
            [
             0.7777777777777778,
             "#fb9f3a"
            ],
            [
             0.8888888888888888,
             "#fdca26"
            ],
            [
             1,
             "#f0f921"
            ]
           ]
          },
          "colorway": [
           "#636efa",
           "#EF553B",
           "#00cc96",
           "#ab63fa",
           "#FFA15A",
           "#19d3f3",
           "#FF6692",
           "#B6E880",
           "#FF97FF",
           "#FECB52"
          ],
          "font": {
           "color": "#2a3f5f"
          },
          "geo": {
           "bgcolor": "white",
           "lakecolor": "white",
           "landcolor": "white",
           "showlakes": true,
           "showland": true,
           "subunitcolor": "#C8D4E3"
          },
          "hoverlabel": {
           "align": "left"
          },
          "hovermode": "closest",
          "mapbox": {
           "style": "light"
          },
          "paper_bgcolor": "white",
          "plot_bgcolor": "white",
          "polar": {
           "angularaxis": {
            "gridcolor": "#EBF0F8",
            "linecolor": "#EBF0F8",
            "ticks": ""
           },
           "bgcolor": "white",
           "radialaxis": {
            "gridcolor": "#EBF0F8",
            "linecolor": "#EBF0F8",
            "ticks": ""
           }
          },
          "scene": {
           "xaxis": {
            "backgroundcolor": "white",
            "gridcolor": "#DFE8F3",
            "gridwidth": 2,
            "linecolor": "#EBF0F8",
            "showbackground": true,
            "ticks": "",
            "zerolinecolor": "#EBF0F8"
           },
           "yaxis": {
            "backgroundcolor": "white",
            "gridcolor": "#DFE8F3",
            "gridwidth": 2,
            "linecolor": "#EBF0F8",
            "showbackground": true,
            "ticks": "",
            "zerolinecolor": "#EBF0F8"
           },
           "zaxis": {
            "backgroundcolor": "white",
            "gridcolor": "#DFE8F3",
            "gridwidth": 2,
            "linecolor": "#EBF0F8",
            "showbackground": true,
            "ticks": "",
            "zerolinecolor": "#EBF0F8"
           }
          },
          "shapedefaults": {
           "line": {
            "color": "#2a3f5f"
           }
          },
          "ternary": {
           "aaxis": {
            "gridcolor": "#DFE8F3",
            "linecolor": "#A2B1C6",
            "ticks": ""
           },
           "baxis": {
            "gridcolor": "#DFE8F3",
            "linecolor": "#A2B1C6",
            "ticks": ""
           },
           "bgcolor": "white",
           "caxis": {
            "gridcolor": "#DFE8F3",
            "linecolor": "#A2B1C6",
            "ticks": ""
           }
          },
          "title": {
           "x": 0.05
          },
          "xaxis": {
           "automargin": true,
           "gridcolor": "#EBF0F8",
           "linecolor": "#EBF0F8",
           "ticks": "",
           "title": {
            "standoff": 15
           },
           "zerolinecolor": "#EBF0F8",
           "zerolinewidth": 2
          },
          "yaxis": {
           "automargin": true,
           "gridcolor": "#EBF0F8",
           "linecolor": "#EBF0F8",
           "ticks": "",
           "title": {
            "standoff": 15
           },
           "zerolinecolor": "#EBF0F8",
           "zerolinewidth": 2
          }
         }
        },
        "title": {
         "text": "Feature Significance (P-Values)"
        },
        "xaxis": {
         "anchor": "y",
         "domain": [
          0,
          1
         ],
         "title": {
          "text": "Feature"
         }
        },
        "yaxis": {
         "anchor": "x",
         "domain": [
          0,
          1
         ],
         "range": [
          0,
          1
         ],
         "title": {
          "text": "P-Value"
         }
        }
       }
      }
     },
     "metadata": {},
     "output_type": "display_data"
    }
   ],
   "source": [
    "import statsmodels.api as sm\n",
    "\n",
    "# Store original column names\n",
    "original_columns = X_train.columns\n",
    "\n",
    "# Standardize the features (X_train_scaled) for fitting the model\n",
    "X_with_intercept = sm.add_constant(x_train_scaled)  # Add intercept term to the features\n",
    "y_train_array = y_train.values  # Convert to numpy array for Statsmodels compatibility\n",
    "\n",
    "# Fit the model using Statsmodels\n",
    "model_sm = sm.OLS(y_train_array, X_with_intercept)  # Ordinary Least Squares Regression\n",
    "results = model_sm.fit()  # Fit the model\n",
    "\n",
    "# Display the summary, which includes the p-values for each feature\n",
    "summary = results.summary()\n",
    "\n",
    "# Map p-values to the original feature names\n",
    "p_values = results.pvalues[1:]  # Exclude the intercept (constant)\n",
    "features_with_p_values = dict(zip(original_columns, p_values))\n",
    "\n",
    "# Print the p-values for each feature and check significance\n",
    "print(\"Feature p-values (human-readable labels):\")\n",
    "for feature, p_value in features_with_p_values.items():\n",
    "    significance = \"Significant\" if p_value < 0.05 else \"Not Significant\"\n",
    "    print(f\"{feature}: {p_value:.4f} ({significance})\")\n",
    "\n",
    "# Optionally, print the full summary\n",
    "print(\"\\nFull summary with p-values:\")\n",
    "print(summary)\n",
    "\n",
    "\n",
    "# Convert to DataFrame for plotting\n",
    "pval_df = pd.DataFrame({\n",
    "    'Feature': list(features_with_p_values.keys()),\n",
    "    'P_Value': list(features_with_p_values.values())\n",
    "})\n",
    "\n",
    "# Sort by P-value\n",
    "pval_df = pval_df.sort_values('P_Value')\n",
    "\n",
    "# Plot\n",
    "fig = px.bar(\n",
    "    pval_df,\n",
    "    x='Feature',\n",
    "    y='P_Value',\n",
    "    color=pval_df['P_Value'] < 0.05,\n",
    "    color_discrete_map={True: 'green', False: 'red'},\n",
    "    title=\"Feature Significance (P-Values)\",\n",
    "    labels={'P_Value': 'P-Value', 'Feature': 'Feature'},\n",
    "    template='plotly_white'\n",
    ")\n",
    "\n",
    "fig.update_layout(\n",
    "    yaxis_range=[0, 1],\n",
    "    showlegend=False\n",
    ")\n",
    "\n",
    "fig.add_hline(y=0.05, line_dash=\"dash\", line_color=\"black\")\n",
    "\n",
    "fig.show()\n",
    "\n",
    "\n",
    "\n"
   ]
  },
  {
   "cell_type": "code",
   "execution_count": 90,
   "id": "23e6ba9b",
   "metadata": {},
   "outputs": [
    {
     "data": {
      "application/vnd.plotly.v1+json": {
       "config": {
        "plotlyServerURL": "https://plot.ly"
       },
       "data": [
        {
         "alignmentgroup": "True",
         "boxpoints": "all",
         "hovertemplate": "Type=%{x}<br>Price=%{y}<extra></extra>",
         "legendgroup": "Actual",
         "marker": {
          "color": "#636efa"
         },
         "name": "Actual",
         "notched": false,
         "offsetgroup": "Actual",
         "orientation": "v",
         "showlegend": true,
         "type": "box",
         "x": [
          "Actual",
          "Actual",
          "Actual",
          "Actual",
          "Actual",
          "Actual",
          "Actual",
          "Actual",
          "Actual",
          "Actual",
          "Actual",
          "Actual",
          "Actual",
          "Actual",
          "Actual",
          "Actual",
          "Actual",
          "Actual",
          "Actual",
          "Actual",
          "Actual",
          "Actual",
          "Actual",
          "Actual",
          "Actual",
          "Actual",
          "Actual",
          "Actual",
          "Actual",
          "Actual",
          "Actual",
          "Actual",
          "Actual",
          "Actual",
          "Actual",
          "Actual",
          "Actual",
          "Actual",
          "Actual",
          "Actual",
          "Actual",
          "Actual",
          "Actual",
          "Actual",
          "Actual",
          "Actual",
          "Actual",
          "Actual",
          "Actual",
          "Actual",
          "Actual",
          "Actual",
          "Actual",
          "Actual",
          "Actual",
          "Actual",
          "Actual",
          "Actual",
          "Actual",
          "Actual",
          "Actual",
          "Actual",
          "Actual",
          "Actual",
          "Actual",
          "Actual",
          "Actual",
          "Actual",
          "Actual",
          "Actual",
          "Actual",
          "Actual",
          "Actual",
          "Actual",
          "Actual",
          "Actual",
          "Actual",
          "Actual",
          "Actual",
          "Actual",
          "Actual",
          "Actual",
          "Actual",
          "Actual",
          "Actual",
          "Actual",
          "Actual",
          "Actual",
          "Actual",
          "Actual",
          "Actual",
          "Actual",
          "Actual",
          "Actual",
          "Actual",
          "Actual",
          "Actual",
          "Actual",
          "Actual",
          "Actual",
          "Actual",
          "Actual",
          "Actual",
          "Actual",
          "Actual",
          "Actual",
          "Actual",
          "Actual",
          "Actual",
          "Actual",
          "Actual",
          "Actual",
          "Actual",
          "Actual",
          "Actual",
          "Actual",
          "Actual",
          "Actual",
          "Actual",
          "Actual",
          "Actual",
          "Actual",
          "Actual",
          "Actual",
          "Actual",
          "Actual",
          "Actual",
          "Actual",
          "Actual",
          "Actual",
          "Actual",
          "Actual",
          "Actual",
          "Actual",
          "Actual",
          "Actual",
          "Actual",
          "Actual",
          "Actual",
          "Actual",
          "Actual",
          "Actual",
          "Actual",
          "Actual",
          "Actual",
          "Actual",
          "Actual",
          "Actual",
          "Actual",
          "Actual",
          "Actual",
          "Actual",
          "Actual",
          "Actual",
          "Actual",
          "Actual",
          "Actual",
          "Actual",
          "Actual",
          "Actual",
          "Actual",
          "Actual",
          "Actual",
          "Actual",
          "Actual",
          "Actual",
          "Actual",
          "Actual",
          "Actual",
          "Actual",
          "Actual",
          "Actual",
          "Actual",
          "Actual",
          "Actual",
          "Actual",
          "Actual",
          "Actual",
          "Actual",
          "Actual",
          "Actual",
          "Actual",
          "Actual",
          "Actual",
          "Actual",
          "Actual",
          "Actual",
          "Actual",
          "Actual",
          "Actual",
          "Actual",
          "Actual",
          "Actual",
          "Actual",
          "Actual",
          "Actual",
          "Actual",
          "Actual",
          "Actual",
          "Actual",
          "Actual",
          "Actual",
          "Actual",
          "Actual",
          "Actual",
          "Actual",
          "Actual",
          "Actual",
          "Actual",
          "Actual",
          "Actual",
          "Actual",
          "Actual",
          "Actual",
          "Actual",
          "Actual",
          "Actual",
          "Actual",
          "Actual",
          "Actual",
          "Actual",
          "Actual",
          "Actual",
          "Actual",
          "Actual",
          "Actual",
          "Actual",
          "Actual",
          "Actual",
          "Actual",
          "Actual",
          "Actual",
          "Actual",
          "Actual",
          "Actual",
          "Actual",
          "Actual",
          "Actual",
          "Actual",
          "Actual",
          "Actual",
          "Actual",
          "Actual",
          "Actual",
          "Actual",
          "Actual",
          "Actual",
          "Actual",
          "Actual",
          "Actual",
          "Actual",
          "Actual",
          "Actual",
          "Actual",
          "Actual",
          "Actual",
          "Actual",
          "Actual",
          "Actual",
          "Actual",
          "Actual",
          "Actual",
          "Actual",
          "Actual",
          "Actual",
          "Actual",
          "Actual",
          "Actual",
          "Actual",
          "Actual",
          "Actual",
          "Actual",
          "Actual",
          "Actual",
          "Actual",
          "Actual",
          "Actual",
          "Actual",
          "Actual",
          "Actual",
          "Actual",
          "Actual",
          "Actual",
          "Actual",
          "Actual",
          "Actual",
          "Actual",
          "Actual",
          "Actual",
          "Actual",
          "Actual",
          "Actual",
          "Actual",
          "Actual",
          "Actual",
          "Actual",
          "Actual",
          "Actual",
          "Actual",
          "Actual",
          "Actual",
          "Actual",
          "Actual",
          "Actual",
          "Actual",
          "Actual",
          "Actual",
          "Actual",
          "Actual",
          "Actual",
          "Actual",
          "Actual",
          "Actual",
          "Actual",
          "Actual",
          "Actual",
          "Actual",
          "Actual",
          "Actual",
          "Actual",
          "Actual",
          "Actual",
          "Actual",
          "Actual",
          "Actual",
          "Actual",
          "Actual",
          "Actual",
          "Actual",
          "Actual",
          "Actual",
          "Actual",
          "Actual",
          "Actual",
          "Actual",
          "Actual",
          "Actual",
          "Actual",
          "Actual",
          "Actual",
          "Actual",
          "Actual",
          "Actual",
          "Actual",
          "Actual",
          "Actual",
          "Actual",
          "Actual",
          "Actual",
          "Actual",
          "Actual",
          "Actual",
          "Actual",
          "Actual",
          "Actual",
          "Actual",
          "Actual",
          "Actual",
          "Actual",
          "Actual",
          "Actual",
          "Actual",
          "Actual",
          "Actual",
          "Actual",
          "Actual",
          "Actual",
          "Actual",
          "Actual",
          "Actual",
          "Actual",
          "Actual",
          "Actual",
          "Actual",
          "Actual",
          "Actual",
          "Actual",
          "Actual",
          "Actual",
          "Actual",
          "Actual",
          "Actual",
          "Actual",
          "Actual",
          "Actual",
          "Actual",
          "Actual",
          "Actual",
          "Actual",
          "Actual",
          "Actual",
          "Actual",
          "Actual",
          "Actual",
          "Actual",
          "Actual",
          "Actual",
          "Actual",
          "Actual",
          "Actual",
          "Actual",
          "Actual",
          "Actual",
          "Actual",
          "Actual",
          "Actual",
          "Actual",
          "Actual",
          "Actual",
          "Actual",
          "Actual",
          "Actual",
          "Actual",
          "Actual",
          "Actual",
          "Actual",
          "Actual",
          "Actual",
          "Actual",
          "Actual",
          "Actual",
          "Actual",
          "Actual",
          "Actual",
          "Actual",
          "Actual",
          "Actual",
          "Actual",
          "Actual",
          "Actual",
          "Actual",
          "Actual",
          "Actual",
          "Actual",
          "Actual",
          "Actual",
          "Actual",
          "Actual",
          "Actual",
          "Actual",
          "Actual",
          "Actual",
          "Actual",
          "Actual",
          "Actual",
          "Actual",
          "Actual",
          "Actual",
          "Actual",
          "Actual",
          "Actual",
          "Actual",
          "Actual",
          "Actual",
          "Actual",
          "Actual",
          "Actual",
          "Actual",
          "Actual",
          "Actual",
          "Actual",
          "Actual",
          "Actual",
          "Actual",
          "Actual",
          "Actual",
          "Actual",
          "Actual",
          "Actual",
          "Actual",
          "Actual",
          "Actual",
          "Actual",
          "Actual",
          "Actual",
          "Actual",
          "Actual",
          "Actual",
          "Actual",
          "Actual",
          "Actual",
          "Actual",
          "Actual",
          "Actual",
          "Actual",
          "Actual",
          "Actual",
          "Actual",
          "Actual",
          "Actual",
          "Actual",
          "Actual",
          "Actual",
          "Actual",
          "Actual",
          "Actual",
          "Actual",
          "Actual",
          "Actual",
          "Actual",
          "Actual",
          "Actual",
          "Actual",
          "Actual",
          "Actual",
          "Actual",
          "Actual",
          "Actual",
          "Actual",
          "Actual",
          "Actual",
          "Actual",
          "Actual",
          "Actual",
          "Actual",
          "Actual",
          "Actual",
          "Actual",
          "Actual",
          "Actual",
          "Actual",
          "Actual",
          "Actual",
          "Actual",
          "Actual",
          "Actual",
          "Actual",
          "Actual",
          "Actual",
          "Actual",
          "Actual",
          "Actual",
          "Actual",
          "Actual",
          "Actual",
          "Actual",
          "Actual",
          "Actual",
          "Actual",
          "Actual",
          "Actual",
          "Actual",
          "Actual",
          "Actual",
          "Actual",
          "Actual",
          "Actual",
          "Actual",
          "Actual",
          "Actual",
          "Actual",
          "Actual",
          "Actual",
          "Actual",
          "Actual",
          "Actual",
          "Actual",
          "Actual",
          "Actual",
          "Actual",
          "Actual",
          "Actual",
          "Actual",
          "Actual",
          "Actual",
          "Actual",
          "Actual",
          "Actual",
          "Actual",
          "Actual",
          "Actual",
          "Actual",
          "Actual",
          "Actual",
          "Actual",
          "Actual",
          "Actual",
          "Actual",
          "Actual",
          "Actual",
          "Actual",
          "Actual",
          "Actual",
          "Actual",
          "Actual",
          "Actual",
          "Actual",
          "Actual",
          "Actual",
          "Actual",
          "Actual",
          "Actual",
          "Actual",
          "Actual",
          "Actual",
          "Actual",
          "Actual",
          "Actual",
          "Actual",
          "Actual",
          "Actual",
          "Actual",
          "Actual",
          "Actual",
          "Actual",
          "Actual",
          "Actual",
          "Actual",
          "Actual",
          "Actual",
          "Actual",
          "Actual",
          "Actual",
          "Actual",
          "Actual",
          "Actual",
          "Actual",
          "Actual",
          "Actual",
          "Actual",
          "Actual",
          "Actual",
          "Actual",
          "Actual",
          "Actual",
          "Actual",
          "Actual",
          "Actual",
          "Actual",
          "Actual",
          "Actual",
          "Actual",
          "Actual",
          "Actual",
          "Actual",
          "Actual",
          "Actual",
          "Actual",
          "Actual",
          "Actual",
          "Actual",
          "Actual",
          "Actual",
          "Actual",
          "Actual",
          "Actual",
          "Actual",
          "Actual",
          "Actual",
          "Actual",
          "Actual",
          "Actual",
          "Actual",
          "Actual",
          "Actual",
          "Actual",
          "Actual",
          "Actual",
          "Actual",
          "Actual",
          "Actual",
          "Actual",
          "Actual",
          "Actual",
          "Actual",
          "Actual",
          "Actual",
          "Actual",
          "Actual",
          "Actual",
          "Actual",
          "Actual",
          "Actual",
          "Actual",
          "Actual",
          "Actual",
          "Actual",
          "Actual",
          "Actual",
          "Actual",
          "Actual",
          "Actual",
          "Actual",
          "Actual",
          "Actual",
          "Actual",
          "Actual",
          "Actual",
          "Actual",
          "Actual",
          "Actual",
          "Actual",
          "Actual",
          "Actual",
          "Actual",
          "Actual",
          "Actual",
          "Actual",
          "Actual",
          "Actual",
          "Actual",
          "Actual",
          "Actual",
          "Actual",
          "Actual",
          "Actual",
          "Actual",
          "Actual",
          "Actual"
         ],
         "x0": " ",
         "xaxis": "x",
         "y": {
          "bdata": "7FG4HoXC20BI4XoU7srcQB+F61GoptxAZmZmZlaQ3EBcj8L1yI/cQHsUrkdRa9tAmpmZmRkD3EAAAAAAsFvcQIXrUbhOLtxAPQrXozDY3EDXo3A9qjncQLgeheuhzttAcT0K18ML20D2KFyP0v/aQD0K16MA+tpAcT0K16Na2kApXI/CNS7aQIXrUbheKdpAhetRuH5M2kAfhetRyIjaQFK4HoVrZ9pAexSuR/HD2kDD9ShcHzHaQHsUrkeRQtpApHA9Cmd62kCamZmZKSDaQIXrUbiuOdpASOF6FM6V2kCamZmZWbTZQHE9CtfD29lApHA9CrcW2kDD9Shc/zzaQPYoXI+CadtArkfhejQY20CamZmZCQ3bQOxRuB7FldpAFK5H4Roz2kCPwvUorJzaQGZmZmZmcdpA9ihcj4J82kAAAAAAYCPZQB+F61HomtpA16NwPZq62UCuR+F6FOPZQHE9Ctez3NlAZmZmZgZA2UB7FK5HQVTZQK5H4Xp0TNlAhetRuI5S2UApXI/C1YjYQMP1KFx/+NhAZmZmZma22UBxPQrXo+LZQArXo3AduNlAuB6F63E12kBSuB6FG6jbQOxRuB7FSt1AcT0K15Mv3UCkcD0K5/zdQFK4HoXL1N1Aw/UoXA/E3UBSuB6FC5DdQB+F61FY+t1Aj8L1KLxe3UBI4XoUnrvdQEjhehSuwN1ACtejcM3e3UA9CtejYOXdQDMzMzNzbt5AAAAAANAM3kB7FK5H0cjdQB+F61HYMt1A7FG4HgWk3UCPwvUo7JTdQB+F61EYdt1AXI/C9fi03UAzMzMzo+jdQHE9Ctdzq91A7FG4HvW73kB7FK5HoZ7dQJqZmZlpl91AXI/C9eiJ3UDsUbgexW/dQFK4HoV7Kd1ASOF6FC433UAfhetRSBzdQIXrUbj+NN1AuB6F68EY3UCkcD0KZ2DdQIXrUbg+ftxAXI/C9UiK3ECF61G4TqrcQBSuR+G6h9xAmpmZmQmh3EAK16Nw7arcQFyPwvVYmNxAFK5H4aqL3EB7FK5HUQDdQEjhehQOe9xAUrgehYt93ECF61G4HmXcQOF6FK7HXdxAPQrXowBc3EAK16NwzX7cQD0K16OAEt1APQrXo7De3EC4HoXrAbzcQM3MzMwcttxACtejcD263ECPwvUo/JbcQMP1KFxft9xAXI/C9Yh83EA9CtejIAfcQK5H4XrkANpAXI/C9Thw2UAUrkfhGnzZQFyPwvVIk9lAUrgehUuD2UCkcD0Kh27ZQPYoXI/iztlAw/UoXN+M2UBcj8L1WHDZQKRwPQpnZtlA16NwPcp62UD2KFyPQn3ZQIXrUbh+EdtAcT0K14Oq2kDNzMzMHFPZQB+F61G4MNlA7FG4HvVC2UDsUbgedVzZQB+F61EINtlA16NwPfot2UAfhetR6CTZQDMzMzMTqdlAKVyPwpVM2UCuR+F6dErZQD0K16PwOdlAXI/C9QiQ2ECkcD0KJzzZQJqZmZmpnNlAPQrXozDp2UAUrkfhmvrZQI/C9Shs8tlAzczMzLzo2UDD9ShcHyPaQB+F61EIlNpAj8L1KPx82kD2KFyPIvHZQJqZmZmZ9NlAZmZmZub02UDD9Shcj6LZQOxRuB4FrtlAj8L1KByY2UDhehSuZ73ZQFyPwvXIZNpAAAAAAMBG2kAAAAAAQFTaQArXo3DdVttA9ihcjwLc2kAK16NwPcnaQAAAAACwIttACtejcD3F2kAUrkfhSkrbQFK4HoUbUttAMzMzM2NH20AUrkfhKvPaQPYoXI9SwNpAj8L1KEw92kA9CtejoB/aQLgehevhO9pACtejcO042kAfhetRiIzaQMP1KFwP2ttA7FG4HjW+20A9CtejoKnbQClcj8LVD9xAhetRuC793EApXI/CNTndQJqZmZkJTd1A9ihcj/In4EA9CtejUJDgQDMzMzNL2eBAhetRuFat4EAUrkfhQo7gQArXo3CtpOBAw/UoXM/c4EB7FK5HudfgQM3MzMwM7OBAMzMzMwNO4UAAAAAAwBDhQD0K16No9eBAH4XrUeAh4UAK16NwbRvhQIXrUbhuHuFAXI/C9QhL4UCPwvUo5GbhQBSuR+FS7OFA9ihcj5o54kBxPQrXYyLiQFyPwvXAG+JACtejcHXP4UAUrkfhQlzhQDMzMzOrf+JAzczMzCSo4UCPwvUozOLhQK5H4Xpc3uFASOF6FOZB4kCuR+F6dEziQK5H4Xr8dOFAuB6F6wlG4kCamZmZATfiQBSuR+E6buJA4XoUrr914kB7FK5H2UriQI/C9Sg0L+JAH4XrUch54kAUrkfh+nziQD0K16OIbOJAexSuR/Hl4kBmZmZm3kbjQLgehesZhuNA4XoUrmeA5ECuR+F6jIblQJqZmZmBXuVAZmZmZh4i5UBxPQrXG5TlQAAAAABoWeVAKVyPwjVi5UBSuB6FsyHkQK5H4XqsQORAexSuR7Hw5EA9CtejeALlQK5H4Xq8eeRAexSuR6mf5EAUrkfhsjDkQB+F61FA0+RApHA9Ckej5EA9CtejWFPlQNejcD1qbOVAw/UoXLd95UAzMzMzy1nlQFyPwvUgAuVACtejcLVI5UBcj8L1cMLkQM3MzMxMOuVAw/UoXKfK5EBmZmZm7onkQFyPwvWgk+RAuB6F6wGm5EBcj8L1mJflQJqZmZmZ9eVASOF6FM7t5EB7FK5HKZTlQBSuR+FSk+VASOF6FA575UBcj8L1yHXlQDMzMzNj8uZA9ihcj4KF5kBSuB6FQ8nmQOxRuB7VoOZAXI/C9aDi5ED2KFyP6urkQPYoXI8qXORA7FG4HkW/5EBmZmZmTg/lQOF6FK5v3uRAAAAAALAp5EDXo3A9AlPkQArXo3BVWORAmpmZmUFK5EA9CtejiEzjQJqZmZnJeONAXI/C9biR40DsUbgetYDjQJqZmZnZauRAmpmZmdGR5EAUrkfhUobkQClcj8JFJeVAXI/C9dj35ED2KFyPgsbkQLgehevZCOVA7FG4HrUV5UAK16NwVQDlQJqZmZkRyeRACtejcDXU5EB7FK5H+QrlQFK4HoXzpuVAZmZmZiYf5kDsUbgeDQfnQLgehevhUudAmpmZmYmX50C4HoXruWLoQFK4HoWrR+hAFK5H4VJS6UB7FK5HyVvpQK5H4XpUeOlApHA9Ckc66UCPwvUoNHfpQJqZmZlhSelAPQrXo7CG6UAK16NwdVHpQGZmZmZWB+lAmpmZmWHH6EDNzMzMVC7pQAAAAABgQulAw/UoXK+g6kDXo3A9ot7rQM3MzMzchu5AXI/C9WDf7UCkcD0Kl3zuQFyPwvW4S+5A4XoUrk/W7kDXo3A9grDwQFyPwvUYJ+9ArkfheqQk8EDD9Shco1fwQPYoXI8SrPBAAAAAAAC48EC4HoXrgdrwQOF6FK7vmvFAFK5H4T5z8UA9Ctej8NrxQHsUrkdJbPFASOF6FC748ECkcD0Kx9zvQNejcD16r/BAPQrXo9CB8EA9CtejSDruQM3MzMwskfBAZmZmZpb570C4HoXr0SjvQFK4HoXbP+9AFK5H4U5o8ECuR+F6JBDxQGZmZmaGFvFAw/UoXL/z8EAUrkfhEknxQAAAAAD8EPFAuB6F663/8EBmZmZmjmfxQOxRuB4dA/FArkfhegT370CF61G4PhzwQOF6FK7TuvBAj8L1KAiR8EDXo3A9ftPwQArXo3Bl7vBArkfhemh88UCPwvUo0N/wQD0K16OgPvFA4XoUrksY8UApXI/CyWTwQD0K16MYQ+9AzczMzBAP8EApXI/ChfvuQEjhehTeKO9AUrgehevr7UAzMzMzOwPvQHE9CtcLLe9AcT0K1xu570AK16NwHbfvQIXrUbiyUvBA9ihcj+I28EBcj8L1+F/vQEjhehSOfO9Arkfheswf70AAAAAAwPfuQEjhehSe0O5AMzMzM5ss70AzMzMzw5ntQBSuR+Eyc+xArkfhevzX7EBcj8L1ILjuQI/C9SjcM+9AZmZmZu5C70DhehSuR9fuQB+F61F4be5AXI/C9TDe7UDXo3A9MszuQKRwPQpvru1Aj8L1KNSx7UA9CtejoAHuQHE9CteLuu5AFK5H4XoM7kCkcD0KSyzwQClcj8KF3O9AexSuR2Ve8EC4HoXrvVbwQLgehetZLfBAhetRuIJw8UAK16Nw7R/xQBSuR+Fe3/BAMzMzM0eW8EDNzMzMPLzwQIXrUbia6vBAUrgehZu38EBSuB6Fi+/wQOF6FK4frvBAMzMzMxd/8EB7FK5HKa/wQPYoXI8GefBAPQrXo3SI8EAfhetReInwQAAAAABwy/BA7FG4HuU48UApXI/CEV3xQNejcD1aR/FArkfhesjs8EDNzMzMgOvwQLgehetdAPFA4XoUrpv38ECuR+F6SG/wQJqZmZmJqfBAmpmZmS1L8EDXo3A9Rh3wQAAAAAAAKfBAAAAAAExE8EBcj8L1HDvwQJqZmZkZ0O9AexSuR/m170CPwvUoHKnvQFyPwvUIT+9AH4XrUWBd70ApXI/CbdjuQAAAAADgbO1AhetRuLYr7kApXI/CFbLtQK5H4XrsFe5AMzMzMytz7UAK16NwtbrtQB+F61GIme5Aj8L1KMSt7kCkcD0KB0vuQB+F61EgXu1ArkfhekTa60ApXI/C7afrQAAAAACYcOxAFK5H4cJF60ApXI/Cba/rQFK4HoX7V+xAFK5H4RIu7EA9CtejmP/rQFyPwvWgRuxA9ihcjxLr7EAK16NwDbHtQOxRuB6lnu9A4XoUrh/I70C4HoXruUrvQFK4HoXbPe9AKVyPwjlJ8EB7FK5HvWXwQK5H4XpUpfBAUrgehWN+8EBxPQrXMxnwQM3MzMzM6u9AhetRuDYQ8EB7FK5HQZXwQPYoXI+2k/BAzczMzESp8EAzMzMzN03wQBSuR+GaJ/BAcT0K1zOM70ApXI/CBeHvQLgehetB/e1AKVyPwl2g7UBmZmZmXmLsQHE9CtejYepA9ihcjwJe60AzMzMzg+3qQPYoXI8yIe5Aj8L1KMS37UA9Ctej4MDtQOF6FK5PrOxAXI/C9dj77EBI4XoUZpftQHE9CtdTqOxAUrgehfMY7EDhehSuH8HsQOF6FK4vDe1AzczMzLyI7EAK16NwlQftQBSuR+Ey0exAXI/C9Wjd7UB7FK5H6XvtQKRwPQrXSu9Aj8L1KHRW70ApXI/CfV/vQAAAAAAAr+5ArkfhevQF7UCPwvUovNTsQKRwPQqP/OxAPQrXoxjd7EBxPQrXC8vsQAAAAABg+utA9ihcj3rg7EAUrkfhmg/sQAAAAABgTuxA16NwPZpr60AfhetRwFfqQPYoXI+KcepAUrgehSPM6kDNzMzMvNvrQBSuR+GyJexAexSuRxkB7EB7FK5HMWPsQDMzMzPrj+1AMzMzM4tN7UD2KFyPSt7sQAAAAAAYbOxAMzMzMxNz7UApXI/CJSnuQK5H4XoEvu5ASOF6FFbd7kDhehSuV/DuQOxRuB41C+9AcT0K11vt7kApXI/CHWLvQK5H4Xpc0+5AhetRuCbT70AAAAAA0A/wQHE9CtcvFPBAj8L1KAAE8EAAAAAAqOjuQAAAAADAru1AcT0K1+ua7UDhehSuH6ntQIXrUbhWUe5AexSuR2lM7kBSuB6FW6vuQFyPwvUIX+5APQrXo0BV7kBcj8L1SJTtQFyPwvXwbu1AAAAAANiG7kCkcD0Kb9ruQJqZmZmpr+5AZmZmZhoh8ECamZmZCV/wQKRwPQqHgfBAexSuR6V08EApXI/CobTwQOF6FK67sPBAKVyPwm3Z8EBmZmZmInHwQHsUrkdBc/BAKVyPwpFC8EAK16NwzaPwQI/C9ShIQPBAXI/C9Uhc8ECkcD0Kc5bwQAAAAABIEvFAmpmZmUXB8UD2KFyPLqjxQHsUrkddI/FAPQrXo7T18ECkcD0K7+7wQBSuR+EiyPBA4XoUrveN8EDhehSuS/DwQM3MzMzod/JAAAAAAACJ8kDhehSua7HyQFyPwvXAuvJAhetRuM6i80DhehSuK6z1QBSuR+E2fvVA7FG4Ht0X9kBmZmZmxlL1QClcj8IlO/ZAcT0K18Mg9kCkcD0K6/H1QM3MzMyEGfZA16NwPT6R9kBmZmZmkgv3QArXo3BxCPhArkfhegAt+EAfhetRLN/3QBSuR+HC7vdAj8L1KIC09kA9CtejmHH2QKRwPQrzbPdArkfhehhb90Bcj8L1KM33QIXrUbgWjfdAFK5H4fK+90DXo3A9bmf3QB+F61FIa/dAcT0K16Mb+EDhehSuQ7H3QJqZmZk1Y/hA7FG4HpVl+EBxPQrXb7P4QFyPwvXMwvdAj8L1KEyZ90ApXI/CIbX4QFK4HoXna/hAAAAAAEzD+EBxPQrXf8H4QI/C9Sj8f/lAXI/C9Tzn+UBxPQrXj+n5QOF6FK5rc/hAw/UoXMPF90AAAAAAUN73QHsUrkfhvPdAAAAAAPw290Bcj8L1yCL3QFK4HoUnEvhArkfheiRB+EBxPQrXV1v3QNejcD2+/fZA7FG4Hq0590CamZmZtdf2QMP1KFzLnPZAUrgehaPK9kAK16Nw+Qr3QKRwPQpzqPdAj8L1KIj190CamZmZHfr3QHsUrkeVAvhA9ihcj3b4+EDhehSu36r3QEjhehTKM/dApHA9CjeY9kAUrkfh0h73QB+F61FQFvdAuB6F69kS90AzMzMzpxL3QMP1KFxvkfdA4XoUruOJ+ECuR+F63Gj4QAAAAACwavlAAAAAADB/+UBI4XoUsrX4QBSuR+EW8PhAj8L1KPTq+UApXI/CMU/5QClcj8JlX/lAH4XrUSSZ+UBcj8L12JH5QAAAAAAwCvlAhetRuObq+EAAAAAAoLr4QAAAAAA0VPlA16NwPWqS+UCPwvUotAD5QJqZmZn9kPhAH4XrUcjY90AzMzMzQ8X4QM3MzMww4PdAexSuR+WX90C4HoXrSZP3QHsUrkeRkfdAAAAAAMSN90DsUbgevY33QPYoXI9GyvdAexSuR+Fh90CuR+F6aOT3QD0K16MUl/dArkfhelDO90CkcD0Kz9P3QEjhehR+d/dAzczMzFxi90BmZmZmdlf3QK5H4XqAl/dAMzMzM7MC+ECuR+F60Hn3QLgehethlPdA4XoUrp+A90DsUbgebVf2QHE9Ctd7oPVArkfhevyI9ECkcD0KE6n0QOF6FK6blPRAj8L1KCwA9UDhehSulwP3QJqZmZkRCfVAw/UoXB9N9UDhehSuux72QJqZmZkd9PVA4XoUrk8u9UCkcD0K6wv1QIXrUbiys/NAw/UoXAst80CPwvUoKD70QBSuR+G2bPRAFK5H4RbL80BxPQrXx4D0QMP1KFz3l/RA7FG4Hiko9EBmZmZmtoL0QI/C9SisMPRAw/UoXN819UCF61G4do30QMP1KFzfhfRArkfhesB49ECkcD0KzwT1QLgehes5XvVASOF6FD5Y9UCPwvUo4Dj1QOF6FK4XS/VAzczMzNyZ9EB7FK5HjSv0QOF6FK6/HPRA7FG4HmUm9EC4HoXrJcv0QHsUrkehI/RA16NwPW5T9EA=",
          "dtype": "f8"
         },
         "y0": " ",
         "yaxis": "y"
        },
        {
         "alignmentgroup": "True",
         "boxpoints": "all",
         "hovertemplate": "Type=%{x}<br>Price=%{y}<extra></extra>",
         "legendgroup": "Predicted",
         "marker": {
          "color": "#EF553B"
         },
         "name": "Predicted",
         "notched": false,
         "offsetgroup": "Predicted",
         "orientation": "v",
         "showlegend": true,
         "type": "box",
         "x": [
          "Predicted",
          "Predicted",
          "Predicted",
          "Predicted",
          "Predicted",
          "Predicted",
          "Predicted",
          "Predicted",
          "Predicted",
          "Predicted",
          "Predicted",
          "Predicted",
          "Predicted",
          "Predicted",
          "Predicted",
          "Predicted",
          "Predicted",
          "Predicted",
          "Predicted",
          "Predicted",
          "Predicted",
          "Predicted",
          "Predicted",
          "Predicted",
          "Predicted",
          "Predicted",
          "Predicted",
          "Predicted",
          "Predicted",
          "Predicted",
          "Predicted",
          "Predicted",
          "Predicted",
          "Predicted",
          "Predicted",
          "Predicted",
          "Predicted",
          "Predicted",
          "Predicted",
          "Predicted",
          "Predicted",
          "Predicted",
          "Predicted",
          "Predicted",
          "Predicted",
          "Predicted",
          "Predicted",
          "Predicted",
          "Predicted",
          "Predicted",
          "Predicted",
          "Predicted",
          "Predicted",
          "Predicted",
          "Predicted",
          "Predicted",
          "Predicted",
          "Predicted",
          "Predicted",
          "Predicted",
          "Predicted",
          "Predicted",
          "Predicted",
          "Predicted",
          "Predicted",
          "Predicted",
          "Predicted",
          "Predicted",
          "Predicted",
          "Predicted",
          "Predicted",
          "Predicted",
          "Predicted",
          "Predicted",
          "Predicted",
          "Predicted",
          "Predicted",
          "Predicted",
          "Predicted",
          "Predicted",
          "Predicted",
          "Predicted",
          "Predicted",
          "Predicted",
          "Predicted",
          "Predicted",
          "Predicted",
          "Predicted",
          "Predicted",
          "Predicted",
          "Predicted",
          "Predicted",
          "Predicted",
          "Predicted",
          "Predicted",
          "Predicted",
          "Predicted",
          "Predicted",
          "Predicted",
          "Predicted",
          "Predicted",
          "Predicted",
          "Predicted",
          "Predicted",
          "Predicted",
          "Predicted",
          "Predicted",
          "Predicted",
          "Predicted",
          "Predicted",
          "Predicted",
          "Predicted",
          "Predicted",
          "Predicted",
          "Predicted",
          "Predicted",
          "Predicted",
          "Predicted",
          "Predicted",
          "Predicted",
          "Predicted",
          "Predicted",
          "Predicted",
          "Predicted",
          "Predicted",
          "Predicted",
          "Predicted",
          "Predicted",
          "Predicted",
          "Predicted",
          "Predicted",
          "Predicted",
          "Predicted",
          "Predicted",
          "Predicted",
          "Predicted",
          "Predicted",
          "Predicted",
          "Predicted",
          "Predicted",
          "Predicted",
          "Predicted",
          "Predicted",
          "Predicted",
          "Predicted",
          "Predicted",
          "Predicted",
          "Predicted",
          "Predicted",
          "Predicted",
          "Predicted",
          "Predicted",
          "Predicted",
          "Predicted",
          "Predicted",
          "Predicted",
          "Predicted",
          "Predicted",
          "Predicted",
          "Predicted",
          "Predicted",
          "Predicted",
          "Predicted",
          "Predicted",
          "Predicted",
          "Predicted",
          "Predicted",
          "Predicted",
          "Predicted",
          "Predicted",
          "Predicted",
          "Predicted",
          "Predicted",
          "Predicted",
          "Predicted",
          "Predicted",
          "Predicted",
          "Predicted",
          "Predicted",
          "Predicted",
          "Predicted",
          "Predicted",
          "Predicted",
          "Predicted",
          "Predicted",
          "Predicted",
          "Predicted",
          "Predicted",
          "Predicted",
          "Predicted",
          "Predicted",
          "Predicted",
          "Predicted",
          "Predicted",
          "Predicted",
          "Predicted",
          "Predicted",
          "Predicted",
          "Predicted",
          "Predicted",
          "Predicted",
          "Predicted",
          "Predicted",
          "Predicted",
          "Predicted",
          "Predicted",
          "Predicted",
          "Predicted",
          "Predicted",
          "Predicted",
          "Predicted",
          "Predicted",
          "Predicted",
          "Predicted",
          "Predicted",
          "Predicted",
          "Predicted",
          "Predicted",
          "Predicted",
          "Predicted",
          "Predicted",
          "Predicted",
          "Predicted",
          "Predicted",
          "Predicted",
          "Predicted",
          "Predicted",
          "Predicted",
          "Predicted",
          "Predicted",
          "Predicted",
          "Predicted",
          "Predicted",
          "Predicted",
          "Predicted",
          "Predicted",
          "Predicted",
          "Predicted",
          "Predicted",
          "Predicted",
          "Predicted",
          "Predicted",
          "Predicted",
          "Predicted",
          "Predicted",
          "Predicted",
          "Predicted",
          "Predicted",
          "Predicted",
          "Predicted",
          "Predicted",
          "Predicted",
          "Predicted",
          "Predicted",
          "Predicted",
          "Predicted",
          "Predicted",
          "Predicted",
          "Predicted",
          "Predicted",
          "Predicted",
          "Predicted",
          "Predicted",
          "Predicted",
          "Predicted",
          "Predicted",
          "Predicted",
          "Predicted",
          "Predicted",
          "Predicted",
          "Predicted",
          "Predicted",
          "Predicted",
          "Predicted",
          "Predicted",
          "Predicted",
          "Predicted",
          "Predicted",
          "Predicted",
          "Predicted",
          "Predicted",
          "Predicted",
          "Predicted",
          "Predicted",
          "Predicted",
          "Predicted",
          "Predicted",
          "Predicted",
          "Predicted",
          "Predicted",
          "Predicted",
          "Predicted",
          "Predicted",
          "Predicted",
          "Predicted",
          "Predicted",
          "Predicted",
          "Predicted",
          "Predicted",
          "Predicted",
          "Predicted",
          "Predicted",
          "Predicted",
          "Predicted",
          "Predicted",
          "Predicted",
          "Predicted",
          "Predicted",
          "Predicted",
          "Predicted",
          "Predicted",
          "Predicted",
          "Predicted",
          "Predicted",
          "Predicted",
          "Predicted",
          "Predicted",
          "Predicted",
          "Predicted",
          "Predicted",
          "Predicted",
          "Predicted",
          "Predicted",
          "Predicted",
          "Predicted",
          "Predicted",
          "Predicted",
          "Predicted",
          "Predicted",
          "Predicted",
          "Predicted",
          "Predicted",
          "Predicted",
          "Predicted",
          "Predicted",
          "Predicted",
          "Predicted",
          "Predicted",
          "Predicted",
          "Predicted",
          "Predicted",
          "Predicted",
          "Predicted",
          "Predicted",
          "Predicted",
          "Predicted",
          "Predicted",
          "Predicted",
          "Predicted",
          "Predicted",
          "Predicted",
          "Predicted",
          "Predicted",
          "Predicted",
          "Predicted",
          "Predicted",
          "Predicted",
          "Predicted",
          "Predicted",
          "Predicted",
          "Predicted",
          "Predicted",
          "Predicted",
          "Predicted",
          "Predicted",
          "Predicted",
          "Predicted",
          "Predicted",
          "Predicted",
          "Predicted",
          "Predicted",
          "Predicted",
          "Predicted",
          "Predicted",
          "Predicted",
          "Predicted",
          "Predicted",
          "Predicted",
          "Predicted",
          "Predicted",
          "Predicted",
          "Predicted",
          "Predicted",
          "Predicted",
          "Predicted",
          "Predicted",
          "Predicted",
          "Predicted",
          "Predicted",
          "Predicted",
          "Predicted",
          "Predicted",
          "Predicted",
          "Predicted",
          "Predicted",
          "Predicted",
          "Predicted",
          "Predicted",
          "Predicted",
          "Predicted",
          "Predicted",
          "Predicted",
          "Predicted",
          "Predicted",
          "Predicted",
          "Predicted",
          "Predicted",
          "Predicted",
          "Predicted",
          "Predicted",
          "Predicted",
          "Predicted",
          "Predicted",
          "Predicted",
          "Predicted",
          "Predicted",
          "Predicted",
          "Predicted",
          "Predicted",
          "Predicted",
          "Predicted",
          "Predicted",
          "Predicted",
          "Predicted",
          "Predicted",
          "Predicted",
          "Predicted",
          "Predicted",
          "Predicted",
          "Predicted",
          "Predicted",
          "Predicted",
          "Predicted",
          "Predicted",
          "Predicted",
          "Predicted",
          "Predicted",
          "Predicted",
          "Predicted",
          "Predicted",
          "Predicted",
          "Predicted",
          "Predicted",
          "Predicted",
          "Predicted",
          "Predicted",
          "Predicted",
          "Predicted",
          "Predicted",
          "Predicted",
          "Predicted",
          "Predicted",
          "Predicted",
          "Predicted",
          "Predicted",
          "Predicted",
          "Predicted",
          "Predicted",
          "Predicted",
          "Predicted",
          "Predicted",
          "Predicted",
          "Predicted",
          "Predicted",
          "Predicted",
          "Predicted",
          "Predicted",
          "Predicted",
          "Predicted",
          "Predicted",
          "Predicted",
          "Predicted",
          "Predicted",
          "Predicted",
          "Predicted",
          "Predicted",
          "Predicted",
          "Predicted",
          "Predicted",
          "Predicted",
          "Predicted",
          "Predicted",
          "Predicted",
          "Predicted",
          "Predicted",
          "Predicted",
          "Predicted",
          "Predicted",
          "Predicted",
          "Predicted",
          "Predicted",
          "Predicted",
          "Predicted",
          "Predicted",
          "Predicted",
          "Predicted",
          "Predicted",
          "Predicted",
          "Predicted",
          "Predicted",
          "Predicted",
          "Predicted",
          "Predicted",
          "Predicted",
          "Predicted",
          "Predicted",
          "Predicted",
          "Predicted",
          "Predicted",
          "Predicted",
          "Predicted",
          "Predicted",
          "Predicted",
          "Predicted",
          "Predicted",
          "Predicted",
          "Predicted",
          "Predicted",
          "Predicted",
          "Predicted",
          "Predicted",
          "Predicted",
          "Predicted",
          "Predicted",
          "Predicted",
          "Predicted",
          "Predicted",
          "Predicted",
          "Predicted",
          "Predicted",
          "Predicted",
          "Predicted",
          "Predicted",
          "Predicted",
          "Predicted",
          "Predicted",
          "Predicted",
          "Predicted",
          "Predicted",
          "Predicted",
          "Predicted",
          "Predicted",
          "Predicted",
          "Predicted",
          "Predicted",
          "Predicted",
          "Predicted",
          "Predicted",
          "Predicted",
          "Predicted",
          "Predicted",
          "Predicted",
          "Predicted",
          "Predicted",
          "Predicted",
          "Predicted",
          "Predicted",
          "Predicted",
          "Predicted",
          "Predicted",
          "Predicted",
          "Predicted",
          "Predicted",
          "Predicted",
          "Predicted",
          "Predicted",
          "Predicted",
          "Predicted",
          "Predicted",
          "Predicted",
          "Predicted",
          "Predicted",
          "Predicted",
          "Predicted",
          "Predicted",
          "Predicted",
          "Predicted",
          "Predicted",
          "Predicted",
          "Predicted",
          "Predicted",
          "Predicted",
          "Predicted",
          "Predicted",
          "Predicted",
          "Predicted",
          "Predicted",
          "Predicted",
          "Predicted",
          "Predicted",
          "Predicted",
          "Predicted",
          "Predicted",
          "Predicted",
          "Predicted",
          "Predicted",
          "Predicted",
          "Predicted",
          "Predicted",
          "Predicted",
          "Predicted",
          "Predicted",
          "Predicted",
          "Predicted",
          "Predicted",
          "Predicted",
          "Predicted",
          "Predicted",
          "Predicted",
          "Predicted",
          "Predicted",
          "Predicted",
          "Predicted",
          "Predicted",
          "Predicted",
          "Predicted",
          "Predicted",
          "Predicted",
          "Predicted",
          "Predicted",
          "Predicted",
          "Predicted",
          "Predicted",
          "Predicted",
          "Predicted",
          "Predicted",
          "Predicted",
          "Predicted",
          "Predicted",
          "Predicted",
          "Predicted",
          "Predicted",
          "Predicted",
          "Predicted",
          "Predicted",
          "Predicted",
          "Predicted",
          "Predicted",
          "Predicted",
          "Predicted",
          "Predicted",
          "Predicted",
          "Predicted",
          "Predicted",
          "Predicted",
          "Predicted",
          "Predicted",
          "Predicted",
          "Predicted",
          "Predicted",
          "Predicted",
          "Predicted",
          "Predicted",
          "Predicted",
          "Predicted",
          "Predicted",
          "Predicted",
          "Predicted",
          "Predicted",
          "Predicted",
          "Predicted",
          "Predicted",
          "Predicted",
          "Predicted",
          "Predicted",
          "Predicted",
          "Predicted",
          "Predicted",
          "Predicted",
          "Predicted",
          "Predicted",
          "Predicted",
          "Predicted",
          "Predicted",
          "Predicted",
          "Predicted",
          "Predicted",
          "Predicted",
          "Predicted",
          "Predicted",
          "Predicted",
          "Predicted",
          "Predicted",
          "Predicted",
          "Predicted",
          "Predicted",
          "Predicted",
          "Predicted",
          "Predicted",
          "Predicted",
          "Predicted",
          "Predicted",
          "Predicted",
          "Predicted",
          "Predicted",
          "Predicted",
          "Predicted",
          "Predicted",
          "Predicted",
          "Predicted",
          "Predicted",
          "Predicted",
          "Predicted",
          "Predicted",
          "Predicted",
          "Predicted",
          "Predicted",
          "Predicted",
          "Predicted"
         ],
         "x0": " ",
         "xaxis": "x",
         "y": {
          "bdata": "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",
          "dtype": "f8"
         },
         "y0": " ",
         "yaxis": "y"
        }
       ],
       "layout": {
        "boxmode": "overlay",
        "legend": {
         "title": {
          "text": "Type"
         },
         "tracegroupgap": 0
        },
        "showlegend": false,
        "template": {
         "data": {
          "bar": [
           {
            "error_x": {
             "color": "#2a3f5f"
            },
            "error_y": {
             "color": "#2a3f5f"
            },
            "marker": {
             "line": {
              "color": "white",
              "width": 0.5
             },
             "pattern": {
              "fillmode": "overlay",
              "size": 10,
              "solidity": 0.2
             }
            },
            "type": "bar"
           }
          ],
          "barpolar": [
           {
            "marker": {
             "line": {
              "color": "white",
              "width": 0.5
             },
             "pattern": {
              "fillmode": "overlay",
              "size": 10,
              "solidity": 0.2
             }
            },
            "type": "barpolar"
           }
          ],
          "carpet": [
           {
            "aaxis": {
             "endlinecolor": "#2a3f5f",
             "gridcolor": "#C8D4E3",
             "linecolor": "#C8D4E3",
             "minorgridcolor": "#C8D4E3",
             "startlinecolor": "#2a3f5f"
            },
            "baxis": {
             "endlinecolor": "#2a3f5f",
             "gridcolor": "#C8D4E3",
             "linecolor": "#C8D4E3",
             "minorgridcolor": "#C8D4E3",
             "startlinecolor": "#2a3f5f"
            },
            "type": "carpet"
           }
          ],
          "choropleth": [
           {
            "colorbar": {
             "outlinewidth": 0,
             "ticks": ""
            },
            "type": "choropleth"
           }
          ],
          "contour": [
           {
            "colorbar": {
             "outlinewidth": 0,
             "ticks": ""
            },
            "colorscale": [
             [
              0,
              "#0d0887"
             ],
             [
              0.1111111111111111,
              "#46039f"
             ],
             [
              0.2222222222222222,
              "#7201a8"
             ],
             [
              0.3333333333333333,
              "#9c179e"
             ],
             [
              0.4444444444444444,
              "#bd3786"
             ],
             [
              0.5555555555555556,
              "#d8576b"
             ],
             [
              0.6666666666666666,
              "#ed7953"
             ],
             [
              0.7777777777777778,
              "#fb9f3a"
             ],
             [
              0.8888888888888888,
              "#fdca26"
             ],
             [
              1,
              "#f0f921"
             ]
            ],
            "type": "contour"
           }
          ],
          "contourcarpet": [
           {
            "colorbar": {
             "outlinewidth": 0,
             "ticks": ""
            },
            "type": "contourcarpet"
           }
          ],
          "heatmap": [
           {
            "colorbar": {
             "outlinewidth": 0,
             "ticks": ""
            },
            "colorscale": [
             [
              0,
              "#0d0887"
             ],
             [
              0.1111111111111111,
              "#46039f"
             ],
             [
              0.2222222222222222,
              "#7201a8"
             ],
             [
              0.3333333333333333,
              "#9c179e"
             ],
             [
              0.4444444444444444,
              "#bd3786"
             ],
             [
              0.5555555555555556,
              "#d8576b"
             ],
             [
              0.6666666666666666,
              "#ed7953"
             ],
             [
              0.7777777777777778,
              "#fb9f3a"
             ],
             [
              0.8888888888888888,
              "#fdca26"
             ],
             [
              1,
              "#f0f921"
             ]
            ],
            "type": "heatmap"
           }
          ],
          "histogram": [
           {
            "marker": {
             "pattern": {
              "fillmode": "overlay",
              "size": 10,
              "solidity": 0.2
             }
            },
            "type": "histogram"
           }
          ],
          "histogram2d": [
           {
            "colorbar": {
             "outlinewidth": 0,
             "ticks": ""
            },
            "colorscale": [
             [
              0,
              "#0d0887"
             ],
             [
              0.1111111111111111,
              "#46039f"
             ],
             [
              0.2222222222222222,
              "#7201a8"
             ],
             [
              0.3333333333333333,
              "#9c179e"
             ],
             [
              0.4444444444444444,
              "#bd3786"
             ],
             [
              0.5555555555555556,
              "#d8576b"
             ],
             [
              0.6666666666666666,
              "#ed7953"
             ],
             [
              0.7777777777777778,
              "#fb9f3a"
             ],
             [
              0.8888888888888888,
              "#fdca26"
             ],
             [
              1,
              "#f0f921"
             ]
            ],
            "type": "histogram2d"
           }
          ],
          "histogram2dcontour": [
           {
            "colorbar": {
             "outlinewidth": 0,
             "ticks": ""
            },
            "colorscale": [
             [
              0,
              "#0d0887"
             ],
             [
              0.1111111111111111,
              "#46039f"
             ],
             [
              0.2222222222222222,
              "#7201a8"
             ],
             [
              0.3333333333333333,
              "#9c179e"
             ],
             [
              0.4444444444444444,
              "#bd3786"
             ],
             [
              0.5555555555555556,
              "#d8576b"
             ],
             [
              0.6666666666666666,
              "#ed7953"
             ],
             [
              0.7777777777777778,
              "#fb9f3a"
             ],
             [
              0.8888888888888888,
              "#fdca26"
             ],
             [
              1,
              "#f0f921"
             ]
            ],
            "type": "histogram2dcontour"
           }
          ],
          "mesh3d": [
           {
            "colorbar": {
             "outlinewidth": 0,
             "ticks": ""
            },
            "type": "mesh3d"
           }
          ],
          "parcoords": [
           {
            "line": {
             "colorbar": {
              "outlinewidth": 0,
              "ticks": ""
             }
            },
            "type": "parcoords"
           }
          ],
          "pie": [
           {
            "automargin": true,
            "type": "pie"
           }
          ],
          "scatter": [
           {
            "fillpattern": {
             "fillmode": "overlay",
             "size": 10,
             "solidity": 0.2
            },
            "type": "scatter"
           }
          ],
          "scatter3d": [
           {
            "line": {
             "colorbar": {
              "outlinewidth": 0,
              "ticks": ""
             }
            },
            "marker": {
             "colorbar": {
              "outlinewidth": 0,
              "ticks": ""
             }
            },
            "type": "scatter3d"
           }
          ],
          "scattercarpet": [
           {
            "marker": {
             "colorbar": {
              "outlinewidth": 0,
              "ticks": ""
             }
            },
            "type": "scattercarpet"
           }
          ],
          "scattergeo": [
           {
            "marker": {
             "colorbar": {
              "outlinewidth": 0,
              "ticks": ""
             }
            },
            "type": "scattergeo"
           }
          ],
          "scattergl": [
           {
            "marker": {
             "colorbar": {
              "outlinewidth": 0,
              "ticks": ""
             }
            },
            "type": "scattergl"
           }
          ],
          "scattermap": [
           {
            "marker": {
             "colorbar": {
              "outlinewidth": 0,
              "ticks": ""
             }
            },
            "type": "scattermap"
           }
          ],
          "scattermapbox": [
           {
            "marker": {
             "colorbar": {
              "outlinewidth": 0,
              "ticks": ""
             }
            },
            "type": "scattermapbox"
           }
          ],
          "scatterpolar": [
           {
            "marker": {
             "colorbar": {
              "outlinewidth": 0,
              "ticks": ""
             }
            },
            "type": "scatterpolar"
           }
          ],
          "scatterpolargl": [
           {
            "marker": {
             "colorbar": {
              "outlinewidth": 0,
              "ticks": ""
             }
            },
            "type": "scatterpolargl"
           }
          ],
          "scatterternary": [
           {
            "marker": {
             "colorbar": {
              "outlinewidth": 0,
              "ticks": ""
             }
            },
            "type": "scatterternary"
           }
          ],
          "surface": [
           {
            "colorbar": {
             "outlinewidth": 0,
             "ticks": ""
            },
            "colorscale": [
             [
              0,
              "#0d0887"
             ],
             [
              0.1111111111111111,
              "#46039f"
             ],
             [
              0.2222222222222222,
              "#7201a8"
             ],
             [
              0.3333333333333333,
              "#9c179e"
             ],
             [
              0.4444444444444444,
              "#bd3786"
             ],
             [
              0.5555555555555556,
              "#d8576b"
             ],
             [
              0.6666666666666666,
              "#ed7953"
             ],
             [
              0.7777777777777778,
              "#fb9f3a"
             ],
             [
              0.8888888888888888,
              "#fdca26"
             ],
             [
              1,
              "#f0f921"
             ]
            ],
            "type": "surface"
           }
          ],
          "table": [
           {
            "cells": {
             "fill": {
              "color": "#EBF0F8"
             },
             "line": {
              "color": "white"
             }
            },
            "header": {
             "fill": {
              "color": "#C8D4E3"
             },
             "line": {
              "color": "white"
             }
            },
            "type": "table"
           }
          ]
         },
         "layout": {
          "annotationdefaults": {
           "arrowcolor": "#2a3f5f",
           "arrowhead": 0,
           "arrowwidth": 1
          },
          "autotypenumbers": "strict",
          "coloraxis": {
           "colorbar": {
            "outlinewidth": 0,
            "ticks": ""
           }
          },
          "colorscale": {
           "diverging": [
            [
             0,
             "#8e0152"
            ],
            [
             0.1,
             "#c51b7d"
            ],
            [
             0.2,
             "#de77ae"
            ],
            [
             0.3,
             "#f1b6da"
            ],
            [
             0.4,
             "#fde0ef"
            ],
            [
             0.5,
             "#f7f7f7"
            ],
            [
             0.6,
             "#e6f5d0"
            ],
            [
             0.7,
             "#b8e186"
            ],
            [
             0.8,
             "#7fbc41"
            ],
            [
             0.9,
             "#4d9221"
            ],
            [
             1,
             "#276419"
            ]
           ],
           "sequential": [
            [
             0,
             "#0d0887"
            ],
            [
             0.1111111111111111,
             "#46039f"
            ],
            [
             0.2222222222222222,
             "#7201a8"
            ],
            [
             0.3333333333333333,
             "#9c179e"
            ],
            [
             0.4444444444444444,
             "#bd3786"
            ],
            [
             0.5555555555555556,
             "#d8576b"
            ],
            [
             0.6666666666666666,
             "#ed7953"
            ],
            [
             0.7777777777777778,
             "#fb9f3a"
            ],
            [
             0.8888888888888888,
             "#fdca26"
            ],
            [
             1,
             "#f0f921"
            ]
           ],
           "sequentialminus": [
            [
             0,
             "#0d0887"
            ],
            [
             0.1111111111111111,
             "#46039f"
            ],
            [
             0.2222222222222222,
             "#7201a8"
            ],
            [
             0.3333333333333333,
             "#9c179e"
            ],
            [
             0.4444444444444444,
             "#bd3786"
            ],
            [
             0.5555555555555556,
             "#d8576b"
            ],
            [
             0.6666666666666666,
             "#ed7953"
            ],
            [
             0.7777777777777778,
             "#fb9f3a"
            ],
            [
             0.8888888888888888,
             "#fdca26"
            ],
            [
             1,
             "#f0f921"
            ]
           ]
          },
          "colorway": [
           "#636efa",
           "#EF553B",
           "#00cc96",
           "#ab63fa",
           "#FFA15A",
           "#19d3f3",
           "#FF6692",
           "#B6E880",
           "#FF97FF",
           "#FECB52"
          ],
          "font": {
           "color": "#2a3f5f"
          },
          "geo": {
           "bgcolor": "white",
           "lakecolor": "white",
           "landcolor": "white",
           "showlakes": true,
           "showland": true,
           "subunitcolor": "#C8D4E3"
          },
          "hoverlabel": {
           "align": "left"
          },
          "hovermode": "closest",
          "mapbox": {
           "style": "light"
          },
          "paper_bgcolor": "white",
          "plot_bgcolor": "white",
          "polar": {
           "angularaxis": {
            "gridcolor": "#EBF0F8",
            "linecolor": "#EBF0F8",
            "ticks": ""
           },
           "bgcolor": "white",
           "radialaxis": {
            "gridcolor": "#EBF0F8",
            "linecolor": "#EBF0F8",
            "ticks": ""
           }
          },
          "scene": {
           "xaxis": {
            "backgroundcolor": "white",
            "gridcolor": "#DFE8F3",
            "gridwidth": 2,
            "linecolor": "#EBF0F8",
            "showbackground": true,
            "ticks": "",
            "zerolinecolor": "#EBF0F8"
           },
           "yaxis": {
            "backgroundcolor": "white",
            "gridcolor": "#DFE8F3",
            "gridwidth": 2,
            "linecolor": "#EBF0F8",
            "showbackground": true,
            "ticks": "",
            "zerolinecolor": "#EBF0F8"
           },
           "zaxis": {
            "backgroundcolor": "white",
            "gridcolor": "#DFE8F3",
            "gridwidth": 2,
            "linecolor": "#EBF0F8",
            "showbackground": true,
            "ticks": "",
            "zerolinecolor": "#EBF0F8"
           }
          },
          "shapedefaults": {
           "line": {
            "color": "#2a3f5f"
           }
          },
          "ternary": {
           "aaxis": {
            "gridcolor": "#DFE8F3",
            "linecolor": "#A2B1C6",
            "ticks": ""
           },
           "baxis": {
            "gridcolor": "#DFE8F3",
            "linecolor": "#A2B1C6",
            "ticks": ""
           },
           "bgcolor": "white",
           "caxis": {
            "gridcolor": "#DFE8F3",
            "linecolor": "#A2B1C6",
            "ticks": ""
           }
          },
          "title": {
           "x": 0.05
          },
          "xaxis": {
           "automargin": true,
           "gridcolor": "#EBF0F8",
           "linecolor": "#EBF0F8",
           "ticks": "",
           "title": {
            "standoff": 15
           },
           "zerolinecolor": "#EBF0F8",
           "zerolinewidth": 2
          },
          "yaxis": {
           "automargin": true,
           "gridcolor": "#EBF0F8",
           "linecolor": "#EBF0F8",
           "ticks": "",
           "title": {
            "standoff": 15
           },
           "zerolinecolor": "#EBF0F8",
           "zerolinewidth": 2
          }
         }
        },
        "title": {
         "text": "Distribution of Actual vs Predicted Prices"
        },
        "xaxis": {
         "anchor": "y",
         "categoryarray": [
          "Actual",
          "Predicted"
         ],
         "categoryorder": "array",
         "domain": [
          0,
          1
         ],
         "title": {
          "text": "Type"
         }
        },
        "yaxis": {
         "anchor": "x",
         "domain": [
          0,
          1
         ],
         "title": {
          "text": "BTC Price (USD)"
         }
        }
       }
      }
     },
     "metadata": {},
     "output_type": "display_data"
    }
   ],
   "source": [
    "import plotly.express as px\n",
    "\n",
    "\n",
    "# Assume results DataFrame contains 'Actual' and 'Predicted' columns\n",
    "\n",
    "# Melt the DataFrame so we can compare both Actual and Predicted in a single boxplot\n",
    "box_df = results.melt(\n",
    "    value_vars=['Actual', 'Predicted'],\n",
    "    var_name='Type',\n",
    "    value_name='Price'\n",
    ")\n",
    "\n",
    "# Create boxplot\n",
    "fig = px.box(\n",
    "    box_df,\n",
    "    x='Type',\n",
    "    y='Price',\n",
    "    color='Type',\n",
    "    title='Distribution of Actual vs Predicted Prices',\n",
    "    points='all',  # Show all data points (adds scatter to boxplot)\n",
    "    template='plotly_white'\n",
    ")\n",
    "\n",
    "fig.update_layout(\n",
    "    yaxis_title='BTC Price (USD)',\n",
    "    xaxis_title='Type',\n",
    "    showlegend=False\n",
    ")\n",
    "\n",
    "fig.show()\n"
   ]
  },
  {
   "cell_type": "code",
   "execution_count": 105,
   "id": "05dc521a",
   "metadata": {},
   "outputs": [
    {
     "data": {
      "application/vnd.plotly.v1+json": {
       "config": {
        "plotlyServerURL": "https://plot.ly"
       },
       "data": [
        {
         "line": {
          "color": "blue"
         },
         "mode": "lines",
         "name": "Predicted Price",
         "type": "scatter",
         "x": [
          "2023-04-25T00:00:00.000000000",
          "2023-04-26T00:00:00.000000000",
          "2023-04-27T00:00:00.000000000",
          "2023-04-28T00:00:00.000000000",
          "2023-04-29T00:00:00.000000000",
          "2023-04-30T00:00:00.000000000",
          "2023-05-01T00:00:00.000000000",
          "2023-05-02T00:00:00.000000000",
          "2023-05-03T00:00:00.000000000",
          "2023-05-04T00:00:00.000000000",
          "2023-05-05T00:00:00.000000000",
          "2023-05-06T00:00:00.000000000",
          "2023-05-07T00:00:00.000000000",
          "2023-05-08T00:00:00.000000000",
          "2023-05-09T00:00:00.000000000",
          "2023-05-10T00:00:00.000000000",
          "2023-05-11T00:00:00.000000000",
          "2023-05-12T00:00:00.000000000",
          "2023-05-13T00:00:00.000000000",
          "2023-05-14T00:00:00.000000000",
          "2023-05-15T00:00:00.000000000",
          "2023-05-16T00:00:00.000000000",
          "2023-05-17T00:00:00.000000000",
          "2023-05-18T00:00:00.000000000",
          "2023-05-19T00:00:00.000000000",
          "2023-05-20T00:00:00.000000000",
          "2023-05-21T00:00:00.000000000",
          "2023-05-22T00:00:00.000000000",
          "2023-05-23T00:00:00.000000000",
          "2023-05-24T00:00:00.000000000",
          "2023-05-25T00:00:00.000000000",
          "2023-05-26T00:00:00.000000000",
          "2023-05-27T00:00:00.000000000",
          "2023-05-28T00:00:00.000000000",
          "2023-05-29T00:00:00.000000000",
          "2023-05-30T00:00:00.000000000",
          "2023-05-31T00:00:00.000000000",
          "2023-06-01T00:00:00.000000000",
          "2023-06-02T00:00:00.000000000",
          "2023-06-03T00:00:00.000000000",
          "2023-06-04T00:00:00.000000000",
          "2023-06-05T00:00:00.000000000",
          "2023-06-06T00:00:00.000000000",
          "2023-06-07T00:00:00.000000000",
          "2023-06-08T00:00:00.000000000",
          "2023-06-09T00:00:00.000000000",
          "2023-06-10T00:00:00.000000000",
          "2023-06-11T00:00:00.000000000",
          "2023-06-12T00:00:00.000000000",
          "2023-06-13T00:00:00.000000000",
          "2023-06-14T00:00:00.000000000",
          "2023-06-15T00:00:00.000000000",
          "2023-06-16T00:00:00.000000000",
          "2023-06-17T00:00:00.000000000",
          "2023-06-18T00:00:00.000000000",
          "2023-06-19T00:00:00.000000000",
          "2023-06-20T00:00:00.000000000",
          "2023-06-21T00:00:00.000000000",
          "2023-06-22T00:00:00.000000000",
          "2023-06-23T00:00:00.000000000",
          "2023-06-24T00:00:00.000000000",
          "2023-06-25T00:00:00.000000000",
          "2023-06-26T00:00:00.000000000",
          "2023-06-27T00:00:00.000000000",
          "2023-06-28T00:00:00.000000000",
          "2023-06-29T00:00:00.000000000",
          "2023-06-30T00:00:00.000000000",
          "2023-07-01T00:00:00.000000000",
          "2023-07-02T00:00:00.000000000",
          "2023-07-03T00:00:00.000000000",
          "2023-07-04T00:00:00.000000000",
          "2023-07-05T00:00:00.000000000",
          "2023-07-06T00:00:00.000000000",
          "2023-07-07T00:00:00.000000000",
          "2023-07-08T00:00:00.000000000",
          "2023-07-09T00:00:00.000000000",
          "2023-07-10T00:00:00.000000000",
          "2023-07-11T00:00:00.000000000",
          "2023-07-12T00:00:00.000000000",
          "2023-07-13T00:00:00.000000000",
          "2023-07-14T00:00:00.000000000",
          "2023-07-15T00:00:00.000000000",
          "2023-07-16T00:00:00.000000000",
          "2023-07-17T00:00:00.000000000",
          "2023-07-18T00:00:00.000000000",
          "2023-07-19T00:00:00.000000000",
          "2023-07-20T00:00:00.000000000",
          "2023-07-21T00:00:00.000000000",
          "2023-07-22T00:00:00.000000000",
          "2023-07-23T00:00:00.000000000",
          "2023-07-24T00:00:00.000000000",
          "2023-07-25T00:00:00.000000000",
          "2023-07-26T00:00:00.000000000",
          "2023-07-27T00:00:00.000000000",
          "2023-07-28T00:00:00.000000000",
          "2023-07-29T00:00:00.000000000",
          "2023-07-30T00:00:00.000000000",
          "2023-07-31T00:00:00.000000000",
          "2023-08-01T00:00:00.000000000",
          "2023-08-02T00:00:00.000000000",
          "2023-08-03T00:00:00.000000000",
          "2023-08-04T00:00:00.000000000",
          "2023-08-05T00:00:00.000000000",
          "2023-08-06T00:00:00.000000000",
          "2023-08-07T00:00:00.000000000",
          "2023-08-08T00:00:00.000000000",
          "2023-08-09T00:00:00.000000000",
          "2023-08-10T00:00:00.000000000",
          "2023-08-11T00:00:00.000000000",
          "2023-08-12T00:00:00.000000000",
          "2023-08-13T00:00:00.000000000",
          "2023-08-14T00:00:00.000000000",
          "2023-08-15T00:00:00.000000000",
          "2023-08-16T00:00:00.000000000",
          "2023-08-17T00:00:00.000000000",
          "2023-08-18T00:00:00.000000000",
          "2023-08-19T00:00:00.000000000",
          "2023-08-20T00:00:00.000000000",
          "2023-08-21T00:00:00.000000000",
          "2023-08-22T00:00:00.000000000",
          "2023-08-23T00:00:00.000000000",
          "2023-08-24T00:00:00.000000000",
          "2023-08-25T00:00:00.000000000",
          "2023-08-26T00:00:00.000000000",
          "2023-08-27T00:00:00.000000000",
          "2023-08-28T00:00:00.000000000",
          "2023-08-29T00:00:00.000000000",
          "2023-08-30T00:00:00.000000000",
          "2023-08-31T00:00:00.000000000",
          "2023-09-01T00:00:00.000000000",
          "2023-09-02T00:00:00.000000000",
          "2023-09-03T00:00:00.000000000",
          "2023-09-04T00:00:00.000000000",
          "2023-09-05T00:00:00.000000000",
          "2023-09-06T00:00:00.000000000",
          "2023-09-07T00:00:00.000000000",
          "2023-09-08T00:00:00.000000000",
          "2023-09-09T00:00:00.000000000",
          "2023-09-10T00:00:00.000000000",
          "2023-09-11T00:00:00.000000000",
          "2023-09-12T00:00:00.000000000",
          "2023-09-13T00:00:00.000000000",
          "2023-09-14T00:00:00.000000000",
          "2023-09-15T00:00:00.000000000",
          "2023-09-16T00:00:00.000000000",
          "2023-09-17T00:00:00.000000000",
          "2023-09-18T00:00:00.000000000",
          "2023-09-19T00:00:00.000000000",
          "2023-09-20T00:00:00.000000000",
          "2023-09-21T00:00:00.000000000",
          "2023-09-22T00:00:00.000000000",
          "2023-09-23T00:00:00.000000000",
          "2023-09-24T00:00:00.000000000",
          "2023-09-25T00:00:00.000000000",
          "2023-09-26T00:00:00.000000000",
          "2023-09-27T00:00:00.000000000",
          "2023-09-28T00:00:00.000000000",
          "2023-09-29T00:00:00.000000000",
          "2023-09-30T00:00:00.000000000",
          "2023-10-01T00:00:00.000000000",
          "2023-10-02T00:00:00.000000000",
          "2023-10-03T00:00:00.000000000",
          "2023-10-04T00:00:00.000000000",
          "2023-10-05T00:00:00.000000000",
          "2023-10-06T00:00:00.000000000",
          "2023-10-07T00:00:00.000000000",
          "2023-10-08T00:00:00.000000000",
          "2023-10-09T00:00:00.000000000",
          "2023-10-10T00:00:00.000000000",
          "2023-10-11T00:00:00.000000000",
          "2023-10-12T00:00:00.000000000",
          "2023-10-13T00:00:00.000000000",
          "2023-10-14T00:00:00.000000000",
          "2023-10-15T00:00:00.000000000",
          "2023-10-16T00:00:00.000000000",
          "2023-10-17T00:00:00.000000000",
          "2023-10-18T00:00:00.000000000",
          "2023-10-19T00:00:00.000000000",
          "2023-10-20T00:00:00.000000000",
          "2023-10-21T00:00:00.000000000",
          "2023-10-22T00:00:00.000000000",
          "2023-10-23T00:00:00.000000000",
          "2023-10-24T00:00:00.000000000",
          "2023-10-25T00:00:00.000000000",
          "2023-10-26T00:00:00.000000000",
          "2023-10-27T00:00:00.000000000",
          "2023-10-28T00:00:00.000000000",
          "2023-10-29T00:00:00.000000000",
          "2023-10-30T00:00:00.000000000",
          "2023-10-31T00:00:00.000000000",
          "2023-11-01T00:00:00.000000000",
          "2023-11-02T00:00:00.000000000",
          "2023-11-03T00:00:00.000000000",
          "2023-11-04T00:00:00.000000000",
          "2023-11-05T00:00:00.000000000",
          "2023-11-06T00:00:00.000000000",
          "2023-11-07T00:00:00.000000000",
          "2023-11-08T00:00:00.000000000",
          "2023-11-09T00:00:00.000000000",
          "2023-11-10T00:00:00.000000000",
          "2023-11-11T00:00:00.000000000",
          "2023-11-12T00:00:00.000000000",
          "2023-11-13T00:00:00.000000000",
          "2023-11-14T00:00:00.000000000",
          "2023-11-15T00:00:00.000000000",
          "2023-11-16T00:00:00.000000000",
          "2023-11-17T00:00:00.000000000",
          "2023-11-18T00:00:00.000000000",
          "2023-11-19T00:00:00.000000000",
          "2023-11-20T00:00:00.000000000",
          "2023-11-21T00:00:00.000000000",
          "2023-11-22T00:00:00.000000000",
          "2023-11-23T00:00:00.000000000",
          "2023-11-24T00:00:00.000000000",
          "2023-11-25T00:00:00.000000000",
          "2023-11-26T00:00:00.000000000",
          "2023-11-27T00:00:00.000000000",
          "2023-11-28T00:00:00.000000000",
          "2023-11-29T00:00:00.000000000",
          "2023-11-30T00:00:00.000000000",
          "2023-12-01T00:00:00.000000000",
          "2023-12-02T00:00:00.000000000",
          "2023-12-03T00:00:00.000000000",
          "2023-12-04T00:00:00.000000000",
          "2023-12-05T00:00:00.000000000",
          "2023-12-06T00:00:00.000000000",
          "2023-12-07T00:00:00.000000000",
          "2023-12-08T00:00:00.000000000",
          "2023-12-09T00:00:00.000000000",
          "2023-12-10T00:00:00.000000000",
          "2023-12-11T00:00:00.000000000",
          "2023-12-12T00:00:00.000000000",
          "2023-12-13T00:00:00.000000000",
          "2023-12-14T00:00:00.000000000",
          "2023-12-15T00:00:00.000000000",
          "2023-12-16T00:00:00.000000000",
          "2023-12-17T00:00:00.000000000",
          "2023-12-18T00:00:00.000000000",
          "2023-12-19T00:00:00.000000000",
          "2023-12-20T00:00:00.000000000",
          "2023-12-21T00:00:00.000000000",
          "2023-12-22T00:00:00.000000000",
          "2023-12-23T00:00:00.000000000",
          "2023-12-24T00:00:00.000000000",
          "2023-12-25T00:00:00.000000000",
          "2023-12-26T00:00:00.000000000",
          "2023-12-27T00:00:00.000000000",
          "2023-12-28T00:00:00.000000000",
          "2023-12-29T00:00:00.000000000",
          "2023-12-30T00:00:00.000000000",
          "2023-12-31T00:00:00.000000000",
          "2024-01-01T00:00:00.000000000",
          "2024-01-02T00:00:00.000000000",
          "2024-01-03T00:00:00.000000000",
          "2024-01-04T00:00:00.000000000",
          "2024-01-05T00:00:00.000000000",
          "2024-01-06T00:00:00.000000000",
          "2024-01-07T00:00:00.000000000",
          "2024-01-08T00:00:00.000000000",
          "2024-01-09T00:00:00.000000000",
          "2024-01-10T00:00:00.000000000",
          "2024-01-11T00:00:00.000000000",
          "2024-01-12T00:00:00.000000000",
          "2024-01-13T00:00:00.000000000",
          "2024-01-14T00:00:00.000000000",
          "2024-01-15T00:00:00.000000000",
          "2024-01-16T00:00:00.000000000",
          "2024-01-17T00:00:00.000000000",
          "2024-01-18T00:00:00.000000000",
          "2024-01-19T00:00:00.000000000",
          "2024-01-20T00:00:00.000000000",
          "2024-01-21T00:00:00.000000000",
          "2024-01-22T00:00:00.000000000",
          "2024-01-23T00:00:00.000000000",
          "2024-01-24T00:00:00.000000000",
          "2024-01-25T00:00:00.000000000",
          "2024-01-26T00:00:00.000000000",
          "2024-01-27T00:00:00.000000000",
          "2024-01-28T00:00:00.000000000",
          "2024-01-29T00:00:00.000000000",
          "2024-01-30T00:00:00.000000000",
          "2024-01-31T00:00:00.000000000",
          "2024-02-01T00:00:00.000000000",
          "2024-02-02T00:00:00.000000000",
          "2024-02-03T00:00:00.000000000",
          "2024-02-04T00:00:00.000000000",
          "2024-02-05T00:00:00.000000000",
          "2024-02-06T00:00:00.000000000",
          "2024-02-07T00:00:00.000000000",
          "2024-02-08T00:00:00.000000000",
          "2024-02-09T00:00:00.000000000",
          "2024-02-10T00:00:00.000000000",
          "2024-02-11T00:00:00.000000000",
          "2024-02-12T00:00:00.000000000",
          "2024-02-13T00:00:00.000000000",
          "2024-02-14T00:00:00.000000000",
          "2024-02-15T00:00:00.000000000",
          "2024-02-16T00:00:00.000000000",
          "2024-02-17T00:00:00.000000000",
          "2024-02-18T00:00:00.000000000",
          "2024-02-19T00:00:00.000000000",
          "2024-02-20T00:00:00.000000000",
          "2024-02-21T00:00:00.000000000",
          "2024-02-22T00:00:00.000000000",
          "2024-02-23T00:00:00.000000000",
          "2024-02-24T00:00:00.000000000",
          "2024-02-25T00:00:00.000000000",
          "2024-02-26T00:00:00.000000000",
          "2024-02-27T00:00:00.000000000",
          "2024-02-28T00:00:00.000000000",
          "2024-02-29T00:00:00.000000000",
          "2024-03-01T00:00:00.000000000",
          "2024-03-02T00:00:00.000000000",
          "2024-03-03T00:00:00.000000000",
          "2024-03-04T00:00:00.000000000",
          "2024-03-05T00:00:00.000000000",
          "2024-03-06T00:00:00.000000000",
          "2024-03-07T00:00:00.000000000",
          "2024-03-08T00:00:00.000000000",
          "2024-03-09T00:00:00.000000000",
          "2024-03-10T00:00:00.000000000",
          "2024-03-11T00:00:00.000000000",
          "2024-03-12T00:00:00.000000000",
          "2024-03-13T00:00:00.000000000",
          "2024-03-14T00:00:00.000000000",
          "2024-03-15T00:00:00.000000000",
          "2024-03-16T00:00:00.000000000",
          "2024-03-17T00:00:00.000000000",
          "2024-03-18T00:00:00.000000000",
          "2024-03-19T00:00:00.000000000",
          "2024-03-20T00:00:00.000000000",
          "2024-03-21T00:00:00.000000000",
          "2024-03-22T00:00:00.000000000",
          "2024-03-23T00:00:00.000000000",
          "2024-03-24T00:00:00.000000000",
          "2024-03-25T00:00:00.000000000",
          "2024-03-26T00:00:00.000000000",
          "2024-03-27T00:00:00.000000000",
          "2024-03-28T00:00:00.000000000",
          "2024-03-29T00:00:00.000000000",
          "2024-03-30T00:00:00.000000000",
          "2024-03-31T00:00:00.000000000",
          "2024-04-01T00:00:00.000000000",
          "2024-04-02T00:00:00.000000000",
          "2024-04-03T00:00:00.000000000",
          "2024-04-04T00:00:00.000000000",
          "2024-04-05T00:00:00.000000000",
          "2024-04-06T00:00:00.000000000",
          "2024-04-07T00:00:00.000000000",
          "2024-04-08T00:00:00.000000000",
          "2024-04-09T00:00:00.000000000",
          "2024-04-10T00:00:00.000000000",
          "2024-04-11T00:00:00.000000000",
          "2024-04-12T00:00:00.000000000",
          "2024-04-13T00:00:00.000000000",
          "2024-04-14T00:00:00.000000000",
          "2024-04-15T00:00:00.000000000",
          "2024-04-16T00:00:00.000000000",
          "2024-04-17T00:00:00.000000000",
          "2024-04-18T00:00:00.000000000",
          "2024-04-19T00:00:00.000000000",
          "2024-04-20T00:00:00.000000000",
          "2024-04-21T00:00:00.000000000",
          "2024-04-22T00:00:00.000000000",
          "2024-04-23T00:00:00.000000000",
          "2024-04-24T00:00:00.000000000",
          "2024-04-25T00:00:00.000000000",
          "2024-04-26T00:00:00.000000000",
          "2024-04-27T00:00:00.000000000",
          "2024-04-28T00:00:00.000000000",
          "2024-04-29T00:00:00.000000000",
          "2024-04-30T00:00:00.000000000",
          "2024-05-01T00:00:00.000000000",
          "2024-05-02T00:00:00.000000000",
          "2024-05-03T00:00:00.000000000",
          "2024-05-04T00:00:00.000000000",
          "2024-05-05T00:00:00.000000000",
          "2024-05-06T00:00:00.000000000",
          "2024-05-07T00:00:00.000000000",
          "2024-05-08T00:00:00.000000000",
          "2024-05-09T00:00:00.000000000",
          "2024-05-10T00:00:00.000000000",
          "2024-05-11T00:00:00.000000000",
          "2024-05-12T00:00:00.000000000",
          "2024-05-13T00:00:00.000000000",
          "2024-05-14T00:00:00.000000000",
          "2024-05-15T00:00:00.000000000",
          "2024-05-16T00:00:00.000000000",
          "2024-05-17T00:00:00.000000000",
          "2024-05-18T00:00:00.000000000",
          "2024-05-19T00:00:00.000000000",
          "2024-05-20T00:00:00.000000000",
          "2024-05-21T00:00:00.000000000",
          "2024-05-22T00:00:00.000000000",
          "2024-05-23T00:00:00.000000000",
          "2024-05-24T00:00:00.000000000",
          "2024-05-25T00:00:00.000000000",
          "2024-05-26T00:00:00.000000000",
          "2024-05-27T00:00:00.000000000",
          "2024-05-28T00:00:00.000000000",
          "2024-05-29T00:00:00.000000000",
          "2024-05-30T00:00:00.000000000",
          "2024-05-31T00:00:00.000000000",
          "2024-06-01T00:00:00.000000000",
          "2024-06-02T00:00:00.000000000",
          "2024-06-03T00:00:00.000000000",
          "2024-06-04T00:00:00.000000000",
          "2024-06-05T00:00:00.000000000",
          "2024-06-06T00:00:00.000000000",
          "2024-06-07T00:00:00.000000000",
          "2024-06-08T00:00:00.000000000",
          "2024-06-09T00:00:00.000000000",
          "2024-06-10T00:00:00.000000000",
          "2024-06-11T00:00:00.000000000",
          "2024-06-12T00:00:00.000000000",
          "2024-06-13T00:00:00.000000000",
          "2024-06-14T00:00:00.000000000",
          "2024-06-15T00:00:00.000000000",
          "2024-06-16T00:00:00.000000000",
          "2024-06-17T00:00:00.000000000",
          "2024-06-18T00:00:00.000000000",
          "2024-06-19T00:00:00.000000000",
          "2024-06-20T00:00:00.000000000",
          "2024-06-21T00:00:00.000000000",
          "2024-06-22T00:00:00.000000000",
          "2024-06-23T00:00:00.000000000",
          "2024-06-24T00:00:00.000000000",
          "2024-06-25T00:00:00.000000000",
          "2024-06-26T00:00:00.000000000",
          "2024-06-27T00:00:00.000000000",
          "2024-06-28T00:00:00.000000000",
          "2024-06-29T00:00:00.000000000",
          "2024-06-30T00:00:00.000000000",
          "2024-07-01T00:00:00.000000000",
          "2024-07-02T00:00:00.000000000",
          "2024-07-03T00:00:00.000000000",
          "2024-07-04T00:00:00.000000000",
          "2024-07-05T00:00:00.000000000",
          "2024-07-06T00:00:00.000000000",
          "2024-07-07T00:00:00.000000000",
          "2024-07-08T00:00:00.000000000",
          "2024-07-09T00:00:00.000000000",
          "2024-07-10T00:00:00.000000000",
          "2024-07-11T00:00:00.000000000",
          "2024-07-12T00:00:00.000000000",
          "2024-07-13T00:00:00.000000000",
          "2024-07-14T00:00:00.000000000",
          "2024-07-15T00:00:00.000000000",
          "2024-07-16T00:00:00.000000000",
          "2024-07-17T00:00:00.000000000",
          "2024-07-18T00:00:00.000000000",
          "2024-07-19T00:00:00.000000000",
          "2024-07-20T00:00:00.000000000",
          "2024-07-21T00:00:00.000000000",
          "2024-07-22T00:00:00.000000000",
          "2024-07-23T00:00:00.000000000",
          "2024-07-24T00:00:00.000000000",
          "2024-07-25T00:00:00.000000000",
          "2024-07-26T00:00:00.000000000",
          "2024-07-27T00:00:00.000000000",
          "2024-07-28T00:00:00.000000000",
          "2024-07-29T00:00:00.000000000",
          "2024-07-30T00:00:00.000000000",
          "2024-07-31T00:00:00.000000000",
          "2024-08-01T00:00:00.000000000",
          "2024-08-02T00:00:00.000000000",
          "2024-08-03T00:00:00.000000000",
          "2024-08-04T00:00:00.000000000",
          "2024-08-05T00:00:00.000000000",
          "2024-08-06T00:00:00.000000000",
          "2024-08-07T00:00:00.000000000",
          "2024-08-08T00:00:00.000000000",
          "2024-08-09T00:00:00.000000000",
          "2024-08-10T00:00:00.000000000",
          "2024-08-11T00:00:00.000000000",
          "2024-08-12T00:00:00.000000000",
          "2024-08-13T00:00:00.000000000",
          "2024-08-14T00:00:00.000000000",
          "2024-08-15T00:00:00.000000000",
          "2024-08-16T00:00:00.000000000",
          "2024-08-17T00:00:00.000000000",
          "2024-08-18T00:00:00.000000000",
          "2024-08-19T00:00:00.000000000",
          "2024-08-20T00:00:00.000000000",
          "2024-08-21T00:00:00.000000000",
          "2024-08-22T00:00:00.000000000",
          "2024-08-23T00:00:00.000000000",
          "2024-08-24T00:00:00.000000000",
          "2024-08-25T00:00:00.000000000",
          "2024-08-26T00:00:00.000000000",
          "2024-08-27T00:00:00.000000000",
          "2024-08-28T00:00:00.000000000",
          "2024-08-29T00:00:00.000000000",
          "2024-08-30T00:00:00.000000000",
          "2024-08-31T00:00:00.000000000",
          "2024-09-01T00:00:00.000000000",
          "2024-09-02T00:00:00.000000000",
          "2024-09-03T00:00:00.000000000",
          "2024-09-04T00:00:00.000000000",
          "2024-09-05T00:00:00.000000000",
          "2024-09-06T00:00:00.000000000",
          "2024-09-07T00:00:00.000000000",
          "2024-09-08T00:00:00.000000000",
          "2024-09-09T00:00:00.000000000",
          "2024-09-10T00:00:00.000000000",
          "2024-09-11T00:00:00.000000000",
          "2024-09-12T00:00:00.000000000",
          "2024-09-13T00:00:00.000000000",
          "2024-09-14T00:00:00.000000000",
          "2024-09-15T00:00:00.000000000",
          "2024-09-16T00:00:00.000000000",
          "2024-09-17T00:00:00.000000000",
          "2024-09-18T00:00:00.000000000",
          "2024-09-19T00:00:00.000000000",
          "2024-09-20T00:00:00.000000000",
          "2024-09-21T00:00:00.000000000",
          "2024-09-22T00:00:00.000000000",
          "2024-09-23T00:00:00.000000000",
          "2024-09-24T00:00:00.000000000",
          "2024-09-25T00:00:00.000000000",
          "2024-09-26T00:00:00.000000000",
          "2024-09-27T00:00:00.000000000",
          "2024-09-28T00:00:00.000000000",
          "2024-09-29T00:00:00.000000000",
          "2024-09-30T00:00:00.000000000",
          "2024-10-01T00:00:00.000000000",
          "2024-10-02T00:00:00.000000000",
          "2024-10-03T00:00:00.000000000",
          "2024-10-04T00:00:00.000000000",
          "2024-10-05T00:00:00.000000000",
          "2024-10-06T00:00:00.000000000",
          "2024-10-07T00:00:00.000000000",
          "2024-10-08T00:00:00.000000000",
          "2024-10-09T00:00:00.000000000",
          "2024-10-10T00:00:00.000000000",
          "2024-10-11T00:00:00.000000000",
          "2024-10-12T00:00:00.000000000",
          "2024-10-13T00:00:00.000000000",
          "2024-10-14T00:00:00.000000000",
          "2024-10-15T00:00:00.000000000",
          "2024-10-16T00:00:00.000000000",
          "2024-10-17T00:00:00.000000000",
          "2024-10-18T00:00:00.000000000",
          "2024-10-19T00:00:00.000000000",
          "2024-10-20T00:00:00.000000000",
          "2024-10-21T00:00:00.000000000",
          "2024-10-22T00:00:00.000000000",
          "2024-10-23T00:00:00.000000000",
          "2024-10-24T00:00:00.000000000",
          "2024-10-25T00:00:00.000000000",
          "2024-10-26T00:00:00.000000000",
          "2024-10-27T00:00:00.000000000",
          "2024-10-28T00:00:00.000000000",
          "2024-10-29T00:00:00.000000000",
          "2024-10-30T00:00:00.000000000",
          "2024-10-31T00:00:00.000000000",
          "2024-11-01T00:00:00.000000000",
          "2024-11-02T00:00:00.000000000",
          "2024-11-03T00:00:00.000000000",
          "2024-11-04T00:00:00.000000000",
          "2024-11-05T00:00:00.000000000",
          "2024-11-06T00:00:00.000000000",
          "2024-11-07T00:00:00.000000000",
          "2024-11-08T00:00:00.000000000",
          "2024-11-09T00:00:00.000000000",
          "2024-11-10T00:00:00.000000000",
          "2024-11-11T00:00:00.000000000",
          "2024-11-12T00:00:00.000000000",
          "2024-11-13T00:00:00.000000000",
          "2024-11-14T00:00:00.000000000",
          "2024-11-15T00:00:00.000000000",
          "2024-11-16T00:00:00.000000000",
          "2024-11-17T00:00:00.000000000",
          "2024-11-18T00:00:00.000000000",
          "2024-11-19T00:00:00.000000000",
          "2024-11-20T00:00:00.000000000",
          "2024-11-21T00:00:00.000000000",
          "2024-11-22T00:00:00.000000000",
          "2024-11-23T00:00:00.000000000",
          "2024-11-24T00:00:00.000000000",
          "2024-11-25T00:00:00.000000000",
          "2024-11-26T00:00:00.000000000",
          "2024-11-27T00:00:00.000000000",
          "2024-11-28T00:00:00.000000000",
          "2024-11-29T00:00:00.000000000",
          "2024-11-30T00:00:00.000000000",
          "2024-12-01T00:00:00.000000000",
          "2024-12-02T00:00:00.000000000",
          "2024-12-03T00:00:00.000000000",
          "2024-12-04T00:00:00.000000000",
          "2024-12-05T00:00:00.000000000",
          "2024-12-06T00:00:00.000000000",
          "2024-12-07T00:00:00.000000000",
          "2024-12-08T00:00:00.000000000",
          "2024-12-09T00:00:00.000000000",
          "2024-12-10T00:00:00.000000000",
          "2024-12-11T00:00:00.000000000",
          "2024-12-12T00:00:00.000000000",
          "2024-12-13T00:00:00.000000000",
          "2024-12-14T00:00:00.000000000",
          "2024-12-15T00:00:00.000000000",
          "2024-12-16T00:00:00.000000000",
          "2024-12-17T00:00:00.000000000",
          "2024-12-18T00:00:00.000000000",
          "2024-12-19T00:00:00.000000000",
          "2024-12-20T00:00:00.000000000",
          "2024-12-21T00:00:00.000000000",
          "2024-12-22T00:00:00.000000000",
          "2024-12-23T00:00:00.000000000",
          "2024-12-24T00:00:00.000000000",
          "2024-12-25T00:00:00.000000000",
          "2024-12-26T00:00:00.000000000",
          "2024-12-27T00:00:00.000000000",
          "2024-12-28T00:00:00.000000000",
          "2024-12-29T00:00:00.000000000",
          "2024-12-30T00:00:00.000000000",
          "2024-12-31T00:00:00.000000000",
          "2025-01-01T00:00:00.000000000",
          "2025-01-02T00:00:00.000000000",
          "2025-01-03T00:00:00.000000000",
          "2025-01-04T00:00:00.000000000",
          "2025-01-05T00:00:00.000000000",
          "2025-01-06T00:00:00.000000000",
          "2025-01-07T00:00:00.000000000",
          "2025-01-08T00:00:00.000000000",
          "2025-01-09T00:00:00.000000000",
          "2025-01-10T00:00:00.000000000",
          "2025-01-11T00:00:00.000000000",
          "2025-01-12T00:00:00.000000000",
          "2025-01-13T00:00:00.000000000",
          "2025-01-14T00:00:00.000000000",
          "2025-01-15T00:00:00.000000000",
          "2025-01-16T00:00:00.000000000",
          "2025-01-17T00:00:00.000000000",
          "2025-01-18T00:00:00.000000000",
          "2025-01-19T00:00:00.000000000",
          "2025-01-20T00:00:00.000000000",
          "2025-01-21T00:00:00.000000000",
          "2025-01-22T00:00:00.000000000",
          "2025-01-23T00:00:00.000000000",
          "2025-01-24T00:00:00.000000000",
          "2025-01-25T00:00:00.000000000",
          "2025-01-26T00:00:00.000000000",
          "2025-01-27T00:00:00.000000000",
          "2025-01-28T00:00:00.000000000",
          "2025-01-29T00:00:00.000000000",
          "2025-01-30T00:00:00.000000000",
          "2025-01-31T00:00:00.000000000",
          "2025-02-01T00:00:00.000000000",
          "2025-02-02T00:00:00.000000000",
          "2025-02-03T00:00:00.000000000",
          "2025-02-04T00:00:00.000000000",
          "2025-02-05T00:00:00.000000000",
          "2025-02-06T00:00:00.000000000",
          "2025-02-07T00:00:00.000000000",
          "2025-02-08T00:00:00.000000000",
          "2025-02-09T00:00:00.000000000",
          "2025-02-10T00:00:00.000000000",
          "2025-02-11T00:00:00.000000000",
          "2025-02-12T00:00:00.000000000",
          "2025-02-13T00:00:00.000000000",
          "2025-02-14T00:00:00.000000000",
          "2025-02-15T00:00:00.000000000",
          "2025-02-16T00:00:00.000000000",
          "2025-02-17T00:00:00.000000000",
          "2025-02-18T00:00:00.000000000",
          "2025-02-19T00:00:00.000000000",
          "2025-02-20T00:00:00.000000000",
          "2025-02-21T00:00:00.000000000",
          "2025-02-22T00:00:00.000000000",
          "2025-02-23T00:00:00.000000000",
          "2025-02-24T00:00:00.000000000",
          "2025-02-25T00:00:00.000000000",
          "2025-02-26T00:00:00.000000000",
          "2025-02-27T00:00:00.000000000",
          "2025-02-28T00:00:00.000000000",
          "2025-03-01T00:00:00.000000000",
          "2025-03-02T00:00:00.000000000",
          "2025-03-03T00:00:00.000000000",
          "2025-03-04T00:00:00.000000000",
          "2025-03-05T00:00:00.000000000",
          "2025-03-06T00:00:00.000000000",
          "2025-03-07T00:00:00.000000000",
          "2025-03-08T00:00:00.000000000",
          "2025-03-09T00:00:00.000000000",
          "2025-03-10T00:00:00.000000000",
          "2025-03-11T00:00:00.000000000",
          "2025-03-12T00:00:00.000000000",
          "2025-03-13T00:00:00.000000000",
          "2025-03-14T00:00:00.000000000",
          "2025-03-15T00:00:00.000000000",
          "2025-03-16T00:00:00.000000000",
          "2025-03-17T00:00:00.000000000",
          "2025-03-18T00:00:00.000000000",
          "2025-03-19T00:00:00.000000000",
          "2025-03-20T00:00:00.000000000",
          "2025-03-21T00:00:00.000000000",
          "2025-03-22T00:00:00.000000000",
          "2025-03-23T00:00:00.000000000",
          "2025-03-24T00:00:00.000000000",
          "2025-03-25T00:00:00.000000000",
          "2025-03-26T00:00:00.000000000",
          "2025-03-27T00:00:00.000000000",
          "2025-03-28T00:00:00.000000000",
          "2025-03-29T00:00:00.000000000",
          "2025-03-30T00:00:00.000000000",
          "2025-03-31T00:00:00.000000000",
          "2025-04-01T00:00:00.000000000",
          "2025-04-02T00:00:00.000000000"
         ],
         "y": {
          "bdata": "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",
          "dtype": "f8"
         }
        },
        {
         "line": {
          "color": "orange",
          "dash": "dash"
         },
         "mode": "lines",
         "name": "Rolling MAE",
         "type": "scatter",
         "x": [
          "2023-04-25T00:00:00.000000000",
          "2023-04-26T00:00:00.000000000",
          "2023-04-27T00:00:00.000000000",
          "2023-04-28T00:00:00.000000000",
          "2023-04-29T00:00:00.000000000",
          "2023-04-30T00:00:00.000000000",
          "2023-05-01T00:00:00.000000000",
          "2023-05-02T00:00:00.000000000",
          "2023-05-03T00:00:00.000000000",
          "2023-05-04T00:00:00.000000000",
          "2023-05-05T00:00:00.000000000",
          "2023-05-06T00:00:00.000000000",
          "2023-05-07T00:00:00.000000000",
          "2023-05-08T00:00:00.000000000",
          "2023-05-09T00:00:00.000000000",
          "2023-05-10T00:00:00.000000000",
          "2023-05-11T00:00:00.000000000",
          "2023-05-12T00:00:00.000000000",
          "2023-05-13T00:00:00.000000000",
          "2023-05-14T00:00:00.000000000",
          "2023-05-15T00:00:00.000000000",
          "2023-05-16T00:00:00.000000000",
          "2023-05-17T00:00:00.000000000",
          "2023-05-18T00:00:00.000000000",
          "2023-05-19T00:00:00.000000000",
          "2023-05-20T00:00:00.000000000",
          "2023-05-21T00:00:00.000000000",
          "2023-05-22T00:00:00.000000000",
          "2023-05-23T00:00:00.000000000",
          "2023-05-24T00:00:00.000000000",
          "2023-05-25T00:00:00.000000000",
          "2023-05-26T00:00:00.000000000",
          "2023-05-27T00:00:00.000000000",
          "2023-05-28T00:00:00.000000000",
          "2023-05-29T00:00:00.000000000",
          "2023-05-30T00:00:00.000000000",
          "2023-05-31T00:00:00.000000000",
          "2023-06-01T00:00:00.000000000",
          "2023-06-02T00:00:00.000000000",
          "2023-06-03T00:00:00.000000000",
          "2023-06-04T00:00:00.000000000",
          "2023-06-05T00:00:00.000000000",
          "2023-06-06T00:00:00.000000000",
          "2023-06-07T00:00:00.000000000",
          "2023-06-08T00:00:00.000000000",
          "2023-06-09T00:00:00.000000000",
          "2023-06-10T00:00:00.000000000",
          "2023-06-11T00:00:00.000000000",
          "2023-06-12T00:00:00.000000000",
          "2023-06-13T00:00:00.000000000",
          "2023-06-14T00:00:00.000000000",
          "2023-06-15T00:00:00.000000000",
          "2023-06-16T00:00:00.000000000",
          "2023-06-17T00:00:00.000000000",
          "2023-06-18T00:00:00.000000000",
          "2023-06-19T00:00:00.000000000",
          "2023-06-20T00:00:00.000000000",
          "2023-06-21T00:00:00.000000000",
          "2023-06-22T00:00:00.000000000",
          "2023-06-23T00:00:00.000000000",
          "2023-06-24T00:00:00.000000000",
          "2023-06-25T00:00:00.000000000",
          "2023-06-26T00:00:00.000000000",
          "2023-06-27T00:00:00.000000000",
          "2023-06-28T00:00:00.000000000",
          "2023-06-29T00:00:00.000000000",
          "2023-06-30T00:00:00.000000000",
          "2023-07-01T00:00:00.000000000",
          "2023-07-02T00:00:00.000000000",
          "2023-07-03T00:00:00.000000000",
          "2023-07-04T00:00:00.000000000",
          "2023-07-05T00:00:00.000000000",
          "2023-07-06T00:00:00.000000000",
          "2023-07-07T00:00:00.000000000",
          "2023-07-08T00:00:00.000000000",
          "2023-07-09T00:00:00.000000000",
          "2023-07-10T00:00:00.000000000",
          "2023-07-11T00:00:00.000000000",
          "2023-07-12T00:00:00.000000000",
          "2023-07-13T00:00:00.000000000",
          "2023-07-14T00:00:00.000000000",
          "2023-07-15T00:00:00.000000000",
          "2023-07-16T00:00:00.000000000",
          "2023-07-17T00:00:00.000000000",
          "2023-07-18T00:00:00.000000000",
          "2023-07-19T00:00:00.000000000",
          "2023-07-20T00:00:00.000000000",
          "2023-07-21T00:00:00.000000000",
          "2023-07-22T00:00:00.000000000",
          "2023-07-23T00:00:00.000000000",
          "2023-07-24T00:00:00.000000000",
          "2023-07-25T00:00:00.000000000",
          "2023-07-26T00:00:00.000000000",
          "2023-07-27T00:00:00.000000000",
          "2023-07-28T00:00:00.000000000",
          "2023-07-29T00:00:00.000000000",
          "2023-07-30T00:00:00.000000000",
          "2023-07-31T00:00:00.000000000",
          "2023-08-01T00:00:00.000000000",
          "2023-08-02T00:00:00.000000000",
          "2023-08-03T00:00:00.000000000",
          "2023-08-04T00:00:00.000000000",
          "2023-08-05T00:00:00.000000000",
          "2023-08-06T00:00:00.000000000",
          "2023-08-07T00:00:00.000000000",
          "2023-08-08T00:00:00.000000000",
          "2023-08-09T00:00:00.000000000",
          "2023-08-10T00:00:00.000000000",
          "2023-08-11T00:00:00.000000000",
          "2023-08-12T00:00:00.000000000",
          "2023-08-13T00:00:00.000000000",
          "2023-08-14T00:00:00.000000000",
          "2023-08-15T00:00:00.000000000",
          "2023-08-16T00:00:00.000000000",
          "2023-08-17T00:00:00.000000000",
          "2023-08-18T00:00:00.000000000",
          "2023-08-19T00:00:00.000000000",
          "2023-08-20T00:00:00.000000000",
          "2023-08-21T00:00:00.000000000",
          "2023-08-22T00:00:00.000000000",
          "2023-08-23T00:00:00.000000000",
          "2023-08-24T00:00:00.000000000",
          "2023-08-25T00:00:00.000000000",
          "2023-08-26T00:00:00.000000000",
          "2023-08-27T00:00:00.000000000",
          "2023-08-28T00:00:00.000000000",
          "2023-08-29T00:00:00.000000000",
          "2023-08-30T00:00:00.000000000",
          "2023-08-31T00:00:00.000000000",
          "2023-09-01T00:00:00.000000000",
          "2023-09-02T00:00:00.000000000",
          "2023-09-03T00:00:00.000000000",
          "2023-09-04T00:00:00.000000000",
          "2023-09-05T00:00:00.000000000",
          "2023-09-06T00:00:00.000000000",
          "2023-09-07T00:00:00.000000000",
          "2023-09-08T00:00:00.000000000",
          "2023-09-09T00:00:00.000000000",
          "2023-09-10T00:00:00.000000000",
          "2023-09-11T00:00:00.000000000",
          "2023-09-12T00:00:00.000000000",
          "2023-09-13T00:00:00.000000000",
          "2023-09-14T00:00:00.000000000",
          "2023-09-15T00:00:00.000000000",
          "2023-09-16T00:00:00.000000000",
          "2023-09-17T00:00:00.000000000",
          "2023-09-18T00:00:00.000000000",
          "2023-09-19T00:00:00.000000000",
          "2023-09-20T00:00:00.000000000",
          "2023-09-21T00:00:00.000000000",
          "2023-09-22T00:00:00.000000000",
          "2023-09-23T00:00:00.000000000",
          "2023-09-24T00:00:00.000000000",
          "2023-09-25T00:00:00.000000000",
          "2023-09-26T00:00:00.000000000",
          "2023-09-27T00:00:00.000000000",
          "2023-09-28T00:00:00.000000000",
          "2023-09-29T00:00:00.000000000",
          "2023-09-30T00:00:00.000000000",
          "2023-10-01T00:00:00.000000000",
          "2023-10-02T00:00:00.000000000",
          "2023-10-03T00:00:00.000000000",
          "2023-10-04T00:00:00.000000000",
          "2023-10-05T00:00:00.000000000",
          "2023-10-06T00:00:00.000000000",
          "2023-10-07T00:00:00.000000000",
          "2023-10-08T00:00:00.000000000",
          "2023-10-09T00:00:00.000000000",
          "2023-10-10T00:00:00.000000000",
          "2023-10-11T00:00:00.000000000",
          "2023-10-12T00:00:00.000000000",
          "2023-10-13T00:00:00.000000000",
          "2023-10-14T00:00:00.000000000",
          "2023-10-15T00:00:00.000000000",
          "2023-10-16T00:00:00.000000000",
          "2023-10-17T00:00:00.000000000",
          "2023-10-18T00:00:00.000000000",
          "2023-10-19T00:00:00.000000000",
          "2023-10-20T00:00:00.000000000",
          "2023-10-21T00:00:00.000000000",
          "2023-10-22T00:00:00.000000000",
          "2023-10-23T00:00:00.000000000",
          "2023-10-24T00:00:00.000000000",
          "2023-10-25T00:00:00.000000000",
          "2023-10-26T00:00:00.000000000",
          "2023-10-27T00:00:00.000000000",
          "2023-10-28T00:00:00.000000000",
          "2023-10-29T00:00:00.000000000",
          "2023-10-30T00:00:00.000000000",
          "2023-10-31T00:00:00.000000000",
          "2023-11-01T00:00:00.000000000",
          "2023-11-02T00:00:00.000000000",
          "2023-11-03T00:00:00.000000000",
          "2023-11-04T00:00:00.000000000",
          "2023-11-05T00:00:00.000000000",
          "2023-11-06T00:00:00.000000000",
          "2023-11-07T00:00:00.000000000",
          "2023-11-08T00:00:00.000000000",
          "2023-11-09T00:00:00.000000000",
          "2023-11-10T00:00:00.000000000",
          "2023-11-11T00:00:00.000000000",
          "2023-11-12T00:00:00.000000000",
          "2023-11-13T00:00:00.000000000",
          "2023-11-14T00:00:00.000000000",
          "2023-11-15T00:00:00.000000000",
          "2023-11-16T00:00:00.000000000",
          "2023-11-17T00:00:00.000000000",
          "2023-11-18T00:00:00.000000000",
          "2023-11-19T00:00:00.000000000",
          "2023-11-20T00:00:00.000000000",
          "2023-11-21T00:00:00.000000000",
          "2023-11-22T00:00:00.000000000",
          "2023-11-23T00:00:00.000000000",
          "2023-11-24T00:00:00.000000000",
          "2023-11-25T00:00:00.000000000",
          "2023-11-26T00:00:00.000000000",
          "2023-11-27T00:00:00.000000000",
          "2023-11-28T00:00:00.000000000",
          "2023-11-29T00:00:00.000000000",
          "2023-11-30T00:00:00.000000000",
          "2023-12-01T00:00:00.000000000",
          "2023-12-02T00:00:00.000000000",
          "2023-12-03T00:00:00.000000000",
          "2023-12-04T00:00:00.000000000",
          "2023-12-05T00:00:00.000000000",
          "2023-12-06T00:00:00.000000000",
          "2023-12-07T00:00:00.000000000",
          "2023-12-08T00:00:00.000000000",
          "2023-12-09T00:00:00.000000000",
          "2023-12-10T00:00:00.000000000",
          "2023-12-11T00:00:00.000000000",
          "2023-12-12T00:00:00.000000000",
          "2023-12-13T00:00:00.000000000",
          "2023-12-14T00:00:00.000000000",
          "2023-12-15T00:00:00.000000000",
          "2023-12-16T00:00:00.000000000",
          "2023-12-17T00:00:00.000000000",
          "2023-12-18T00:00:00.000000000",
          "2023-12-19T00:00:00.000000000",
          "2023-12-20T00:00:00.000000000",
          "2023-12-21T00:00:00.000000000",
          "2023-12-22T00:00:00.000000000",
          "2023-12-23T00:00:00.000000000",
          "2023-12-24T00:00:00.000000000",
          "2023-12-25T00:00:00.000000000",
          "2023-12-26T00:00:00.000000000",
          "2023-12-27T00:00:00.000000000",
          "2023-12-28T00:00:00.000000000",
          "2023-12-29T00:00:00.000000000",
          "2023-12-30T00:00:00.000000000",
          "2023-12-31T00:00:00.000000000",
          "2024-01-01T00:00:00.000000000",
          "2024-01-02T00:00:00.000000000",
          "2024-01-03T00:00:00.000000000",
          "2024-01-04T00:00:00.000000000",
          "2024-01-05T00:00:00.000000000",
          "2024-01-06T00:00:00.000000000",
          "2024-01-07T00:00:00.000000000",
          "2024-01-08T00:00:00.000000000",
          "2024-01-09T00:00:00.000000000",
          "2024-01-10T00:00:00.000000000",
          "2024-01-11T00:00:00.000000000",
          "2024-01-12T00:00:00.000000000",
          "2024-01-13T00:00:00.000000000",
          "2024-01-14T00:00:00.000000000",
          "2024-01-15T00:00:00.000000000",
          "2024-01-16T00:00:00.000000000",
          "2024-01-17T00:00:00.000000000",
          "2024-01-18T00:00:00.000000000",
          "2024-01-19T00:00:00.000000000",
          "2024-01-20T00:00:00.000000000",
          "2024-01-21T00:00:00.000000000",
          "2024-01-22T00:00:00.000000000",
          "2024-01-23T00:00:00.000000000",
          "2024-01-24T00:00:00.000000000",
          "2024-01-25T00:00:00.000000000",
          "2024-01-26T00:00:00.000000000",
          "2024-01-27T00:00:00.000000000",
          "2024-01-28T00:00:00.000000000",
          "2024-01-29T00:00:00.000000000",
          "2024-01-30T00:00:00.000000000",
          "2024-01-31T00:00:00.000000000",
          "2024-02-01T00:00:00.000000000",
          "2024-02-02T00:00:00.000000000",
          "2024-02-03T00:00:00.000000000",
          "2024-02-04T00:00:00.000000000",
          "2024-02-05T00:00:00.000000000",
          "2024-02-06T00:00:00.000000000",
          "2024-02-07T00:00:00.000000000",
          "2024-02-08T00:00:00.000000000",
          "2024-02-09T00:00:00.000000000",
          "2024-02-10T00:00:00.000000000",
          "2024-02-11T00:00:00.000000000",
          "2024-02-12T00:00:00.000000000",
          "2024-02-13T00:00:00.000000000",
          "2024-02-14T00:00:00.000000000",
          "2024-02-15T00:00:00.000000000",
          "2024-02-16T00:00:00.000000000",
          "2024-02-17T00:00:00.000000000",
          "2024-02-18T00:00:00.000000000",
          "2024-02-19T00:00:00.000000000",
          "2024-02-20T00:00:00.000000000",
          "2024-02-21T00:00:00.000000000",
          "2024-02-22T00:00:00.000000000",
          "2024-02-23T00:00:00.000000000",
          "2024-02-24T00:00:00.000000000",
          "2024-02-25T00:00:00.000000000",
          "2024-02-26T00:00:00.000000000",
          "2024-02-27T00:00:00.000000000",
          "2024-02-28T00:00:00.000000000",
          "2024-02-29T00:00:00.000000000",
          "2024-03-01T00:00:00.000000000",
          "2024-03-02T00:00:00.000000000",
          "2024-03-03T00:00:00.000000000",
          "2024-03-04T00:00:00.000000000",
          "2024-03-05T00:00:00.000000000",
          "2024-03-06T00:00:00.000000000",
          "2024-03-07T00:00:00.000000000",
          "2024-03-08T00:00:00.000000000",
          "2024-03-09T00:00:00.000000000",
          "2024-03-10T00:00:00.000000000",
          "2024-03-11T00:00:00.000000000",
          "2024-03-12T00:00:00.000000000",
          "2024-03-13T00:00:00.000000000",
          "2024-03-14T00:00:00.000000000",
          "2024-03-15T00:00:00.000000000",
          "2024-03-16T00:00:00.000000000",
          "2024-03-17T00:00:00.000000000",
          "2024-03-18T00:00:00.000000000",
          "2024-03-19T00:00:00.000000000",
          "2024-03-20T00:00:00.000000000",
          "2024-03-21T00:00:00.000000000",
          "2024-03-22T00:00:00.000000000",
          "2024-03-23T00:00:00.000000000",
          "2024-03-24T00:00:00.000000000",
          "2024-03-25T00:00:00.000000000",
          "2024-03-26T00:00:00.000000000",
          "2024-03-27T00:00:00.000000000",
          "2024-03-28T00:00:00.000000000",
          "2024-03-29T00:00:00.000000000",
          "2024-03-30T00:00:00.000000000",
          "2024-03-31T00:00:00.000000000",
          "2024-04-01T00:00:00.000000000",
          "2024-04-02T00:00:00.000000000",
          "2024-04-03T00:00:00.000000000",
          "2024-04-04T00:00:00.000000000",
          "2024-04-05T00:00:00.000000000",
          "2024-04-06T00:00:00.000000000",
          "2024-04-07T00:00:00.000000000",
          "2024-04-08T00:00:00.000000000",
          "2024-04-09T00:00:00.000000000",
          "2024-04-10T00:00:00.000000000",
          "2024-04-11T00:00:00.000000000",
          "2024-04-12T00:00:00.000000000",
          "2024-04-13T00:00:00.000000000",
          "2024-04-14T00:00:00.000000000",
          "2024-04-15T00:00:00.000000000",
          "2024-04-16T00:00:00.000000000",
          "2024-04-17T00:00:00.000000000",
          "2024-04-18T00:00:00.000000000",
          "2024-04-19T00:00:00.000000000",
          "2024-04-20T00:00:00.000000000",
          "2024-04-21T00:00:00.000000000",
          "2024-04-22T00:00:00.000000000",
          "2024-04-23T00:00:00.000000000",
          "2024-04-24T00:00:00.000000000",
          "2024-04-25T00:00:00.000000000",
          "2024-04-26T00:00:00.000000000",
          "2024-04-27T00:00:00.000000000",
          "2024-04-28T00:00:00.000000000",
          "2024-04-29T00:00:00.000000000",
          "2024-04-30T00:00:00.000000000",
          "2024-05-01T00:00:00.000000000",
          "2024-05-02T00:00:00.000000000",
          "2024-05-03T00:00:00.000000000",
          "2024-05-04T00:00:00.000000000",
          "2024-05-05T00:00:00.000000000",
          "2024-05-06T00:00:00.000000000",
          "2024-05-07T00:00:00.000000000",
          "2024-05-08T00:00:00.000000000",
          "2024-05-09T00:00:00.000000000",
          "2024-05-10T00:00:00.000000000",
          "2024-05-11T00:00:00.000000000",
          "2024-05-12T00:00:00.000000000",
          "2024-05-13T00:00:00.000000000",
          "2024-05-14T00:00:00.000000000",
          "2024-05-15T00:00:00.000000000",
          "2024-05-16T00:00:00.000000000",
          "2024-05-17T00:00:00.000000000",
          "2024-05-18T00:00:00.000000000",
          "2024-05-19T00:00:00.000000000",
          "2024-05-20T00:00:00.000000000",
          "2024-05-21T00:00:00.000000000",
          "2024-05-22T00:00:00.000000000",
          "2024-05-23T00:00:00.000000000",
          "2024-05-24T00:00:00.000000000",
          "2024-05-25T00:00:00.000000000",
          "2024-05-26T00:00:00.000000000",
          "2024-05-27T00:00:00.000000000",
          "2024-05-28T00:00:00.000000000",
          "2024-05-29T00:00:00.000000000",
          "2024-05-30T00:00:00.000000000",
          "2024-05-31T00:00:00.000000000",
          "2024-06-01T00:00:00.000000000",
          "2024-06-02T00:00:00.000000000",
          "2024-06-03T00:00:00.000000000",
          "2024-06-04T00:00:00.000000000",
          "2024-06-05T00:00:00.000000000",
          "2024-06-06T00:00:00.000000000",
          "2024-06-07T00:00:00.000000000",
          "2024-06-08T00:00:00.000000000",
          "2024-06-09T00:00:00.000000000",
          "2024-06-10T00:00:00.000000000",
          "2024-06-11T00:00:00.000000000",
          "2024-06-12T00:00:00.000000000",
          "2024-06-13T00:00:00.000000000",
          "2024-06-14T00:00:00.000000000",
          "2024-06-15T00:00:00.000000000",
          "2024-06-16T00:00:00.000000000",
          "2024-06-17T00:00:00.000000000",
          "2024-06-18T00:00:00.000000000",
          "2024-06-19T00:00:00.000000000",
          "2024-06-20T00:00:00.000000000",
          "2024-06-21T00:00:00.000000000",
          "2024-06-22T00:00:00.000000000",
          "2024-06-23T00:00:00.000000000",
          "2024-06-24T00:00:00.000000000",
          "2024-06-25T00:00:00.000000000",
          "2024-06-26T00:00:00.000000000",
          "2024-06-27T00:00:00.000000000",
          "2024-06-28T00:00:00.000000000",
          "2024-06-29T00:00:00.000000000",
          "2024-06-30T00:00:00.000000000",
          "2024-07-01T00:00:00.000000000",
          "2024-07-02T00:00:00.000000000",
          "2024-07-03T00:00:00.000000000",
          "2024-07-04T00:00:00.000000000",
          "2024-07-05T00:00:00.000000000",
          "2024-07-06T00:00:00.000000000",
          "2024-07-07T00:00:00.000000000",
          "2024-07-08T00:00:00.000000000",
          "2024-07-09T00:00:00.000000000",
          "2024-07-10T00:00:00.000000000",
          "2024-07-11T00:00:00.000000000",
          "2024-07-12T00:00:00.000000000",
          "2024-07-13T00:00:00.000000000",
          "2024-07-14T00:00:00.000000000",
          "2024-07-15T00:00:00.000000000",
          "2024-07-16T00:00:00.000000000",
          "2024-07-17T00:00:00.000000000",
          "2024-07-18T00:00:00.000000000",
          "2024-07-19T00:00:00.000000000",
          "2024-07-20T00:00:00.000000000",
          "2024-07-21T00:00:00.000000000",
          "2024-07-22T00:00:00.000000000",
          "2024-07-23T00:00:00.000000000",
          "2024-07-24T00:00:00.000000000",
          "2024-07-25T00:00:00.000000000",
          "2024-07-26T00:00:00.000000000",
          "2024-07-27T00:00:00.000000000",
          "2024-07-28T00:00:00.000000000",
          "2024-07-29T00:00:00.000000000",
          "2024-07-30T00:00:00.000000000",
          "2024-07-31T00:00:00.000000000",
          "2024-08-01T00:00:00.000000000",
          "2024-08-02T00:00:00.000000000",
          "2024-08-03T00:00:00.000000000",
          "2024-08-04T00:00:00.000000000",
          "2024-08-05T00:00:00.000000000",
          "2024-08-06T00:00:00.000000000",
          "2024-08-07T00:00:00.000000000",
          "2024-08-08T00:00:00.000000000",
          "2024-08-09T00:00:00.000000000",
          "2024-08-10T00:00:00.000000000",
          "2024-08-11T00:00:00.000000000",
          "2024-08-12T00:00:00.000000000",
          "2024-08-13T00:00:00.000000000",
          "2024-08-14T00:00:00.000000000",
          "2024-08-15T00:00:00.000000000",
          "2024-08-16T00:00:00.000000000",
          "2024-08-17T00:00:00.000000000",
          "2024-08-18T00:00:00.000000000",
          "2024-08-19T00:00:00.000000000",
          "2024-08-20T00:00:00.000000000",
          "2024-08-21T00:00:00.000000000",
          "2024-08-22T00:00:00.000000000",
          "2024-08-23T00:00:00.000000000",
          "2024-08-24T00:00:00.000000000",
          "2024-08-25T00:00:00.000000000",
          "2024-08-26T00:00:00.000000000",
          "2024-08-27T00:00:00.000000000",
          "2024-08-28T00:00:00.000000000",
          "2024-08-29T00:00:00.000000000",
          "2024-08-30T00:00:00.000000000",
          "2024-08-31T00:00:00.000000000",
          "2024-09-01T00:00:00.000000000",
          "2024-09-02T00:00:00.000000000",
          "2024-09-03T00:00:00.000000000",
          "2024-09-04T00:00:00.000000000",
          "2024-09-05T00:00:00.000000000",
          "2024-09-06T00:00:00.000000000",
          "2024-09-07T00:00:00.000000000",
          "2024-09-08T00:00:00.000000000",
          "2024-09-09T00:00:00.000000000",
          "2024-09-10T00:00:00.000000000",
          "2024-09-11T00:00:00.000000000",
          "2024-09-12T00:00:00.000000000",
          "2024-09-13T00:00:00.000000000",
          "2024-09-14T00:00:00.000000000",
          "2024-09-15T00:00:00.000000000",
          "2024-09-16T00:00:00.000000000",
          "2024-09-17T00:00:00.000000000",
          "2024-09-18T00:00:00.000000000",
          "2024-09-19T00:00:00.000000000",
          "2024-09-20T00:00:00.000000000",
          "2024-09-21T00:00:00.000000000",
          "2024-09-22T00:00:00.000000000",
          "2024-09-23T00:00:00.000000000",
          "2024-09-24T00:00:00.000000000",
          "2024-09-25T00:00:00.000000000",
          "2024-09-26T00:00:00.000000000",
          "2024-09-27T00:00:00.000000000",
          "2024-09-28T00:00:00.000000000",
          "2024-09-29T00:00:00.000000000",
          "2024-09-30T00:00:00.000000000",
          "2024-10-01T00:00:00.000000000",
          "2024-10-02T00:00:00.000000000",
          "2024-10-03T00:00:00.000000000",
          "2024-10-04T00:00:00.000000000",
          "2024-10-05T00:00:00.000000000",
          "2024-10-06T00:00:00.000000000",
          "2024-10-07T00:00:00.000000000",
          "2024-10-08T00:00:00.000000000",
          "2024-10-09T00:00:00.000000000",
          "2024-10-10T00:00:00.000000000",
          "2024-10-11T00:00:00.000000000",
          "2024-10-12T00:00:00.000000000",
          "2024-10-13T00:00:00.000000000",
          "2024-10-14T00:00:00.000000000",
          "2024-10-15T00:00:00.000000000",
          "2024-10-16T00:00:00.000000000",
          "2024-10-17T00:00:00.000000000",
          "2024-10-18T00:00:00.000000000",
          "2024-10-19T00:00:00.000000000",
          "2024-10-20T00:00:00.000000000",
          "2024-10-21T00:00:00.000000000",
          "2024-10-22T00:00:00.000000000",
          "2024-10-23T00:00:00.000000000",
          "2024-10-24T00:00:00.000000000",
          "2024-10-25T00:00:00.000000000",
          "2024-10-26T00:00:00.000000000",
          "2024-10-27T00:00:00.000000000",
          "2024-10-28T00:00:00.000000000",
          "2024-10-29T00:00:00.000000000",
          "2024-10-30T00:00:00.000000000",
          "2024-10-31T00:00:00.000000000",
          "2024-11-01T00:00:00.000000000",
          "2024-11-02T00:00:00.000000000",
          "2024-11-03T00:00:00.000000000",
          "2024-11-04T00:00:00.000000000",
          "2024-11-05T00:00:00.000000000",
          "2024-11-06T00:00:00.000000000",
          "2024-11-07T00:00:00.000000000",
          "2024-11-08T00:00:00.000000000",
          "2024-11-09T00:00:00.000000000",
          "2024-11-10T00:00:00.000000000",
          "2024-11-11T00:00:00.000000000",
          "2024-11-12T00:00:00.000000000",
          "2024-11-13T00:00:00.000000000",
          "2024-11-14T00:00:00.000000000",
          "2024-11-15T00:00:00.000000000",
          "2024-11-16T00:00:00.000000000",
          "2024-11-17T00:00:00.000000000",
          "2024-11-18T00:00:00.000000000",
          "2024-11-19T00:00:00.000000000",
          "2024-11-20T00:00:00.000000000",
          "2024-11-21T00:00:00.000000000",
          "2024-11-22T00:00:00.000000000",
          "2024-11-23T00:00:00.000000000",
          "2024-11-24T00:00:00.000000000",
          "2024-11-25T00:00:00.000000000",
          "2024-11-26T00:00:00.000000000",
          "2024-11-27T00:00:00.000000000",
          "2024-11-28T00:00:00.000000000",
          "2024-11-29T00:00:00.000000000",
          "2024-11-30T00:00:00.000000000",
          "2024-12-01T00:00:00.000000000",
          "2024-12-02T00:00:00.000000000",
          "2024-12-03T00:00:00.000000000",
          "2024-12-04T00:00:00.000000000",
          "2024-12-05T00:00:00.000000000",
          "2024-12-06T00:00:00.000000000",
          "2024-12-07T00:00:00.000000000",
          "2024-12-08T00:00:00.000000000",
          "2024-12-09T00:00:00.000000000",
          "2024-12-10T00:00:00.000000000",
          "2024-12-11T00:00:00.000000000",
          "2024-12-12T00:00:00.000000000",
          "2024-12-13T00:00:00.000000000",
          "2024-12-14T00:00:00.000000000",
          "2024-12-15T00:00:00.000000000",
          "2024-12-16T00:00:00.000000000",
          "2024-12-17T00:00:00.000000000",
          "2024-12-18T00:00:00.000000000",
          "2024-12-19T00:00:00.000000000",
          "2024-12-20T00:00:00.000000000",
          "2024-12-21T00:00:00.000000000",
          "2024-12-22T00:00:00.000000000",
          "2024-12-23T00:00:00.000000000",
          "2024-12-24T00:00:00.000000000",
          "2024-12-25T00:00:00.000000000",
          "2024-12-26T00:00:00.000000000",
          "2024-12-27T00:00:00.000000000",
          "2024-12-28T00:00:00.000000000",
          "2024-12-29T00:00:00.000000000",
          "2024-12-30T00:00:00.000000000",
          "2024-12-31T00:00:00.000000000",
          "2025-01-01T00:00:00.000000000",
          "2025-01-02T00:00:00.000000000",
          "2025-01-03T00:00:00.000000000",
          "2025-01-04T00:00:00.000000000",
          "2025-01-05T00:00:00.000000000",
          "2025-01-06T00:00:00.000000000",
          "2025-01-07T00:00:00.000000000",
          "2025-01-08T00:00:00.000000000",
          "2025-01-09T00:00:00.000000000",
          "2025-01-10T00:00:00.000000000",
          "2025-01-11T00:00:00.000000000",
          "2025-01-12T00:00:00.000000000",
          "2025-01-13T00:00:00.000000000",
          "2025-01-14T00:00:00.000000000",
          "2025-01-15T00:00:00.000000000",
          "2025-01-16T00:00:00.000000000",
          "2025-01-17T00:00:00.000000000",
          "2025-01-18T00:00:00.000000000",
          "2025-01-19T00:00:00.000000000",
          "2025-01-20T00:00:00.000000000",
          "2025-01-21T00:00:00.000000000",
          "2025-01-22T00:00:00.000000000",
          "2025-01-23T00:00:00.000000000",
          "2025-01-24T00:00:00.000000000",
          "2025-01-25T00:00:00.000000000",
          "2025-01-26T00:00:00.000000000",
          "2025-01-27T00:00:00.000000000",
          "2025-01-28T00:00:00.000000000",
          "2025-01-29T00:00:00.000000000",
          "2025-01-30T00:00:00.000000000",
          "2025-01-31T00:00:00.000000000",
          "2025-02-01T00:00:00.000000000",
          "2025-02-02T00:00:00.000000000",
          "2025-02-03T00:00:00.000000000",
          "2025-02-04T00:00:00.000000000",
          "2025-02-05T00:00:00.000000000",
          "2025-02-06T00:00:00.000000000",
          "2025-02-07T00:00:00.000000000",
          "2025-02-08T00:00:00.000000000",
          "2025-02-09T00:00:00.000000000",
          "2025-02-10T00:00:00.000000000",
          "2025-02-11T00:00:00.000000000",
          "2025-02-12T00:00:00.000000000",
          "2025-02-13T00:00:00.000000000",
          "2025-02-14T00:00:00.000000000",
          "2025-02-15T00:00:00.000000000",
          "2025-02-16T00:00:00.000000000",
          "2025-02-17T00:00:00.000000000",
          "2025-02-18T00:00:00.000000000",
          "2025-02-19T00:00:00.000000000",
          "2025-02-20T00:00:00.000000000",
          "2025-02-21T00:00:00.000000000",
          "2025-02-22T00:00:00.000000000",
          "2025-02-23T00:00:00.000000000",
          "2025-02-24T00:00:00.000000000",
          "2025-02-25T00:00:00.000000000",
          "2025-02-26T00:00:00.000000000",
          "2025-02-27T00:00:00.000000000",
          "2025-02-28T00:00:00.000000000",
          "2025-03-01T00:00:00.000000000",
          "2025-03-02T00:00:00.000000000",
          "2025-03-03T00:00:00.000000000",
          "2025-03-04T00:00:00.000000000",
          "2025-03-05T00:00:00.000000000",
          "2025-03-06T00:00:00.000000000",
          "2025-03-07T00:00:00.000000000",
          "2025-03-08T00:00:00.000000000",
          "2025-03-09T00:00:00.000000000",
          "2025-03-10T00:00:00.000000000",
          "2025-03-11T00:00:00.000000000",
          "2025-03-12T00:00:00.000000000",
          "2025-03-13T00:00:00.000000000",
          "2025-03-14T00:00:00.000000000",
          "2025-03-15T00:00:00.000000000",
          "2025-03-16T00:00:00.000000000",
          "2025-03-17T00:00:00.000000000",
          "2025-03-18T00:00:00.000000000",
          "2025-03-19T00:00:00.000000000",
          "2025-03-20T00:00:00.000000000",
          "2025-03-21T00:00:00.000000000",
          "2025-03-22T00:00:00.000000000",
          "2025-03-23T00:00:00.000000000",
          "2025-03-24T00:00:00.000000000",
          "2025-03-25T00:00:00.000000000",
          "2025-03-26T00:00:00.000000000",
          "2025-03-27T00:00:00.000000000",
          "2025-03-28T00:00:00.000000000",
          "2025-03-29T00:00:00.000000000",
          "2025-03-30T00:00:00.000000000",
          "2025-03-31T00:00:00.000000000",
          "2025-04-01T00:00:00.000000000",
          "2025-04-02T00:00:00.000000000"
         ],
         "y": {
          "bdata": "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",
          "dtype": "f8"
         },
         "yaxis": "y2"
        },
        {
         "line": {
          "color": "red",
          "dash": "dot"
         },
         "mode": "lines",
         "name": "Rolling RMSE",
         "type": "scatter",
         "x": [
          "2023-04-25T00:00:00.000000000",
          "2023-04-26T00:00:00.000000000",
          "2023-04-27T00:00:00.000000000",
          "2023-04-28T00:00:00.000000000",
          "2023-04-29T00:00:00.000000000",
          "2023-04-30T00:00:00.000000000",
          "2023-05-01T00:00:00.000000000",
          "2023-05-02T00:00:00.000000000",
          "2023-05-03T00:00:00.000000000",
          "2023-05-04T00:00:00.000000000",
          "2023-05-05T00:00:00.000000000",
          "2023-05-06T00:00:00.000000000",
          "2023-05-07T00:00:00.000000000",
          "2023-05-08T00:00:00.000000000",
          "2023-05-09T00:00:00.000000000",
          "2023-05-10T00:00:00.000000000",
          "2023-05-11T00:00:00.000000000",
          "2023-05-12T00:00:00.000000000",
          "2023-05-13T00:00:00.000000000",
          "2023-05-14T00:00:00.000000000",
          "2023-05-15T00:00:00.000000000",
          "2023-05-16T00:00:00.000000000",
          "2023-05-17T00:00:00.000000000",
          "2023-05-18T00:00:00.000000000",
          "2023-05-19T00:00:00.000000000",
          "2023-05-20T00:00:00.000000000",
          "2023-05-21T00:00:00.000000000",
          "2023-05-22T00:00:00.000000000",
          "2023-05-23T00:00:00.000000000",
          "2023-05-24T00:00:00.000000000",
          "2023-05-25T00:00:00.000000000",
          "2023-05-26T00:00:00.000000000",
          "2023-05-27T00:00:00.000000000",
          "2023-05-28T00:00:00.000000000",
          "2023-05-29T00:00:00.000000000",
          "2023-05-30T00:00:00.000000000",
          "2023-05-31T00:00:00.000000000",
          "2023-06-01T00:00:00.000000000",
          "2023-06-02T00:00:00.000000000",
          "2023-06-03T00:00:00.000000000",
          "2023-06-04T00:00:00.000000000",
          "2023-06-05T00:00:00.000000000",
          "2023-06-06T00:00:00.000000000",
          "2023-06-07T00:00:00.000000000",
          "2023-06-08T00:00:00.000000000",
          "2023-06-09T00:00:00.000000000",
          "2023-06-10T00:00:00.000000000",
          "2023-06-11T00:00:00.000000000",
          "2023-06-12T00:00:00.000000000",
          "2023-06-13T00:00:00.000000000",
          "2023-06-14T00:00:00.000000000",
          "2023-06-15T00:00:00.000000000",
          "2023-06-16T00:00:00.000000000",
          "2023-06-17T00:00:00.000000000",
          "2023-06-18T00:00:00.000000000",
          "2023-06-19T00:00:00.000000000",
          "2023-06-20T00:00:00.000000000",
          "2023-06-21T00:00:00.000000000",
          "2023-06-22T00:00:00.000000000",
          "2023-06-23T00:00:00.000000000",
          "2023-06-24T00:00:00.000000000",
          "2023-06-25T00:00:00.000000000",
          "2023-06-26T00:00:00.000000000",
          "2023-06-27T00:00:00.000000000",
          "2023-06-28T00:00:00.000000000",
          "2023-06-29T00:00:00.000000000",
          "2023-06-30T00:00:00.000000000",
          "2023-07-01T00:00:00.000000000",
          "2023-07-02T00:00:00.000000000",
          "2023-07-03T00:00:00.000000000",
          "2023-07-04T00:00:00.000000000",
          "2023-07-05T00:00:00.000000000",
          "2023-07-06T00:00:00.000000000",
          "2023-07-07T00:00:00.000000000",
          "2023-07-08T00:00:00.000000000",
          "2023-07-09T00:00:00.000000000",
          "2023-07-10T00:00:00.000000000",
          "2023-07-11T00:00:00.000000000",
          "2023-07-12T00:00:00.000000000",
          "2023-07-13T00:00:00.000000000",
          "2023-07-14T00:00:00.000000000",
          "2023-07-15T00:00:00.000000000",
          "2023-07-16T00:00:00.000000000",
          "2023-07-17T00:00:00.000000000",
          "2023-07-18T00:00:00.000000000",
          "2023-07-19T00:00:00.000000000",
          "2023-07-20T00:00:00.000000000",
          "2023-07-21T00:00:00.000000000",
          "2023-07-22T00:00:00.000000000",
          "2023-07-23T00:00:00.000000000",
          "2023-07-24T00:00:00.000000000",
          "2023-07-25T00:00:00.000000000",
          "2023-07-26T00:00:00.000000000",
          "2023-07-27T00:00:00.000000000",
          "2023-07-28T00:00:00.000000000",
          "2023-07-29T00:00:00.000000000",
          "2023-07-30T00:00:00.000000000",
          "2023-07-31T00:00:00.000000000",
          "2023-08-01T00:00:00.000000000",
          "2023-08-02T00:00:00.000000000",
          "2023-08-03T00:00:00.000000000",
          "2023-08-04T00:00:00.000000000",
          "2023-08-05T00:00:00.000000000",
          "2023-08-06T00:00:00.000000000",
          "2023-08-07T00:00:00.000000000",
          "2023-08-08T00:00:00.000000000",
          "2023-08-09T00:00:00.000000000",
          "2023-08-10T00:00:00.000000000",
          "2023-08-11T00:00:00.000000000",
          "2023-08-12T00:00:00.000000000",
          "2023-08-13T00:00:00.000000000",
          "2023-08-14T00:00:00.000000000",
          "2023-08-15T00:00:00.000000000",
          "2023-08-16T00:00:00.000000000",
          "2023-08-17T00:00:00.000000000",
          "2023-08-18T00:00:00.000000000",
          "2023-08-19T00:00:00.000000000",
          "2023-08-20T00:00:00.000000000",
          "2023-08-21T00:00:00.000000000",
          "2023-08-22T00:00:00.000000000",
          "2023-08-23T00:00:00.000000000",
          "2023-08-24T00:00:00.000000000",
          "2023-08-25T00:00:00.000000000",
          "2023-08-26T00:00:00.000000000",
          "2023-08-27T00:00:00.000000000",
          "2023-08-28T00:00:00.000000000",
          "2023-08-29T00:00:00.000000000",
          "2023-08-30T00:00:00.000000000",
          "2023-08-31T00:00:00.000000000",
          "2023-09-01T00:00:00.000000000",
          "2023-09-02T00:00:00.000000000",
          "2023-09-03T00:00:00.000000000",
          "2023-09-04T00:00:00.000000000",
          "2023-09-05T00:00:00.000000000",
          "2023-09-06T00:00:00.000000000",
          "2023-09-07T00:00:00.000000000",
          "2023-09-08T00:00:00.000000000",
          "2023-09-09T00:00:00.000000000",
          "2023-09-10T00:00:00.000000000",
          "2023-09-11T00:00:00.000000000",
          "2023-09-12T00:00:00.000000000",
          "2023-09-13T00:00:00.000000000",
          "2023-09-14T00:00:00.000000000",
          "2023-09-15T00:00:00.000000000",
          "2023-09-16T00:00:00.000000000",
          "2023-09-17T00:00:00.000000000",
          "2023-09-18T00:00:00.000000000",
          "2023-09-19T00:00:00.000000000",
          "2023-09-20T00:00:00.000000000",
          "2023-09-21T00:00:00.000000000",
          "2023-09-22T00:00:00.000000000",
          "2023-09-23T00:00:00.000000000",
          "2023-09-24T00:00:00.000000000",
          "2023-09-25T00:00:00.000000000",
          "2023-09-26T00:00:00.000000000",
          "2023-09-27T00:00:00.000000000",
          "2023-09-28T00:00:00.000000000",
          "2023-09-29T00:00:00.000000000",
          "2023-09-30T00:00:00.000000000",
          "2023-10-01T00:00:00.000000000",
          "2023-10-02T00:00:00.000000000",
          "2023-10-03T00:00:00.000000000",
          "2023-10-04T00:00:00.000000000",
          "2023-10-05T00:00:00.000000000",
          "2023-10-06T00:00:00.000000000",
          "2023-10-07T00:00:00.000000000",
          "2023-10-08T00:00:00.000000000",
          "2023-10-09T00:00:00.000000000",
          "2023-10-10T00:00:00.000000000",
          "2023-10-11T00:00:00.000000000",
          "2023-10-12T00:00:00.000000000",
          "2023-10-13T00:00:00.000000000",
          "2023-10-14T00:00:00.000000000",
          "2023-10-15T00:00:00.000000000",
          "2023-10-16T00:00:00.000000000",
          "2023-10-17T00:00:00.000000000",
          "2023-10-18T00:00:00.000000000",
          "2023-10-19T00:00:00.000000000",
          "2023-10-20T00:00:00.000000000",
          "2023-10-21T00:00:00.000000000",
          "2023-10-22T00:00:00.000000000",
          "2023-10-23T00:00:00.000000000",
          "2023-10-24T00:00:00.000000000",
          "2023-10-25T00:00:00.000000000",
          "2023-10-26T00:00:00.000000000",
          "2023-10-27T00:00:00.000000000",
          "2023-10-28T00:00:00.000000000",
          "2023-10-29T00:00:00.000000000",
          "2023-10-30T00:00:00.000000000",
          "2023-10-31T00:00:00.000000000",
          "2023-11-01T00:00:00.000000000",
          "2023-11-02T00:00:00.000000000",
          "2023-11-03T00:00:00.000000000",
          "2023-11-04T00:00:00.000000000",
          "2023-11-05T00:00:00.000000000",
          "2023-11-06T00:00:00.000000000",
          "2023-11-07T00:00:00.000000000",
          "2023-11-08T00:00:00.000000000",
          "2023-11-09T00:00:00.000000000",
          "2023-11-10T00:00:00.000000000",
          "2023-11-11T00:00:00.000000000",
          "2023-11-12T00:00:00.000000000",
          "2023-11-13T00:00:00.000000000",
          "2023-11-14T00:00:00.000000000",
          "2023-11-15T00:00:00.000000000",
          "2023-11-16T00:00:00.000000000",
          "2023-11-17T00:00:00.000000000",
          "2023-11-18T00:00:00.000000000",
          "2023-11-19T00:00:00.000000000",
          "2023-11-20T00:00:00.000000000",
          "2023-11-21T00:00:00.000000000",
          "2023-11-22T00:00:00.000000000",
          "2023-11-23T00:00:00.000000000",
          "2023-11-24T00:00:00.000000000",
          "2023-11-25T00:00:00.000000000",
          "2023-11-26T00:00:00.000000000",
          "2023-11-27T00:00:00.000000000",
          "2023-11-28T00:00:00.000000000",
          "2023-11-29T00:00:00.000000000",
          "2023-11-30T00:00:00.000000000",
          "2023-12-01T00:00:00.000000000",
          "2023-12-02T00:00:00.000000000",
          "2023-12-03T00:00:00.000000000",
          "2023-12-04T00:00:00.000000000",
          "2023-12-05T00:00:00.000000000",
          "2023-12-06T00:00:00.000000000",
          "2023-12-07T00:00:00.000000000",
          "2023-12-08T00:00:00.000000000",
          "2023-12-09T00:00:00.000000000",
          "2023-12-10T00:00:00.000000000",
          "2023-12-11T00:00:00.000000000",
          "2023-12-12T00:00:00.000000000",
          "2023-12-13T00:00:00.000000000",
          "2023-12-14T00:00:00.000000000",
          "2023-12-15T00:00:00.000000000",
          "2023-12-16T00:00:00.000000000",
          "2023-12-17T00:00:00.000000000",
          "2023-12-18T00:00:00.000000000",
          "2023-12-19T00:00:00.000000000",
          "2023-12-20T00:00:00.000000000",
          "2023-12-21T00:00:00.000000000",
          "2023-12-22T00:00:00.000000000",
          "2023-12-23T00:00:00.000000000",
          "2023-12-24T00:00:00.000000000",
          "2023-12-25T00:00:00.000000000",
          "2023-12-26T00:00:00.000000000",
          "2023-12-27T00:00:00.000000000",
          "2023-12-28T00:00:00.000000000",
          "2023-12-29T00:00:00.000000000",
          "2023-12-30T00:00:00.000000000",
          "2023-12-31T00:00:00.000000000",
          "2024-01-01T00:00:00.000000000",
          "2024-01-02T00:00:00.000000000",
          "2024-01-03T00:00:00.000000000",
          "2024-01-04T00:00:00.000000000",
          "2024-01-05T00:00:00.000000000",
          "2024-01-06T00:00:00.000000000",
          "2024-01-07T00:00:00.000000000",
          "2024-01-08T00:00:00.000000000",
          "2024-01-09T00:00:00.000000000",
          "2024-01-10T00:00:00.000000000",
          "2024-01-11T00:00:00.000000000",
          "2024-01-12T00:00:00.000000000",
          "2024-01-13T00:00:00.000000000",
          "2024-01-14T00:00:00.000000000",
          "2024-01-15T00:00:00.000000000",
          "2024-01-16T00:00:00.000000000",
          "2024-01-17T00:00:00.000000000",
          "2024-01-18T00:00:00.000000000",
          "2024-01-19T00:00:00.000000000",
          "2024-01-20T00:00:00.000000000",
          "2024-01-21T00:00:00.000000000",
          "2024-01-22T00:00:00.000000000",
          "2024-01-23T00:00:00.000000000",
          "2024-01-24T00:00:00.000000000",
          "2024-01-25T00:00:00.000000000",
          "2024-01-26T00:00:00.000000000",
          "2024-01-27T00:00:00.000000000",
          "2024-01-28T00:00:00.000000000",
          "2024-01-29T00:00:00.000000000",
          "2024-01-30T00:00:00.000000000",
          "2024-01-31T00:00:00.000000000",
          "2024-02-01T00:00:00.000000000",
          "2024-02-02T00:00:00.000000000",
          "2024-02-03T00:00:00.000000000",
          "2024-02-04T00:00:00.000000000",
          "2024-02-05T00:00:00.000000000",
          "2024-02-06T00:00:00.000000000",
          "2024-02-07T00:00:00.000000000",
          "2024-02-08T00:00:00.000000000",
          "2024-02-09T00:00:00.000000000",
          "2024-02-10T00:00:00.000000000",
          "2024-02-11T00:00:00.000000000",
          "2024-02-12T00:00:00.000000000",
          "2024-02-13T00:00:00.000000000",
          "2024-02-14T00:00:00.000000000",
          "2024-02-15T00:00:00.000000000",
          "2024-02-16T00:00:00.000000000",
          "2024-02-17T00:00:00.000000000",
          "2024-02-18T00:00:00.000000000",
          "2024-02-19T00:00:00.000000000",
          "2024-02-20T00:00:00.000000000",
          "2024-02-21T00:00:00.000000000",
          "2024-02-22T00:00:00.000000000",
          "2024-02-23T00:00:00.000000000",
          "2024-02-24T00:00:00.000000000",
          "2024-02-25T00:00:00.000000000",
          "2024-02-26T00:00:00.000000000",
          "2024-02-27T00:00:00.000000000",
          "2024-02-28T00:00:00.000000000",
          "2024-02-29T00:00:00.000000000",
          "2024-03-01T00:00:00.000000000",
          "2024-03-02T00:00:00.000000000",
          "2024-03-03T00:00:00.000000000",
          "2024-03-04T00:00:00.000000000",
          "2024-03-05T00:00:00.000000000",
          "2024-03-06T00:00:00.000000000",
          "2024-03-07T00:00:00.000000000",
          "2024-03-08T00:00:00.000000000",
          "2024-03-09T00:00:00.000000000",
          "2024-03-10T00:00:00.000000000",
          "2024-03-11T00:00:00.000000000",
          "2024-03-12T00:00:00.000000000",
          "2024-03-13T00:00:00.000000000",
          "2024-03-14T00:00:00.000000000",
          "2024-03-15T00:00:00.000000000",
          "2024-03-16T00:00:00.000000000",
          "2024-03-17T00:00:00.000000000",
          "2024-03-18T00:00:00.000000000",
          "2024-03-19T00:00:00.000000000",
          "2024-03-20T00:00:00.000000000",
          "2024-03-21T00:00:00.000000000",
          "2024-03-22T00:00:00.000000000",
          "2024-03-23T00:00:00.000000000",
          "2024-03-24T00:00:00.000000000",
          "2024-03-25T00:00:00.000000000",
          "2024-03-26T00:00:00.000000000",
          "2024-03-27T00:00:00.000000000",
          "2024-03-28T00:00:00.000000000",
          "2024-03-29T00:00:00.000000000",
          "2024-03-30T00:00:00.000000000",
          "2024-03-31T00:00:00.000000000",
          "2024-04-01T00:00:00.000000000",
          "2024-04-02T00:00:00.000000000",
          "2024-04-03T00:00:00.000000000",
          "2024-04-04T00:00:00.000000000",
          "2024-04-05T00:00:00.000000000",
          "2024-04-06T00:00:00.000000000",
          "2024-04-07T00:00:00.000000000",
          "2024-04-08T00:00:00.000000000",
          "2024-04-09T00:00:00.000000000",
          "2024-04-10T00:00:00.000000000",
          "2024-04-11T00:00:00.000000000",
          "2024-04-12T00:00:00.000000000",
          "2024-04-13T00:00:00.000000000",
          "2024-04-14T00:00:00.000000000",
          "2024-04-15T00:00:00.000000000",
          "2024-04-16T00:00:00.000000000",
          "2024-04-17T00:00:00.000000000",
          "2024-04-18T00:00:00.000000000",
          "2024-04-19T00:00:00.000000000",
          "2024-04-20T00:00:00.000000000",
          "2024-04-21T00:00:00.000000000",
          "2024-04-22T00:00:00.000000000",
          "2024-04-23T00:00:00.000000000",
          "2024-04-24T00:00:00.000000000",
          "2024-04-25T00:00:00.000000000",
          "2024-04-26T00:00:00.000000000",
          "2024-04-27T00:00:00.000000000",
          "2024-04-28T00:00:00.000000000",
          "2024-04-29T00:00:00.000000000",
          "2024-04-30T00:00:00.000000000",
          "2024-05-01T00:00:00.000000000",
          "2024-05-02T00:00:00.000000000",
          "2024-05-03T00:00:00.000000000",
          "2024-05-04T00:00:00.000000000",
          "2024-05-05T00:00:00.000000000",
          "2024-05-06T00:00:00.000000000",
          "2024-05-07T00:00:00.000000000",
          "2024-05-08T00:00:00.000000000",
          "2024-05-09T00:00:00.000000000",
          "2024-05-10T00:00:00.000000000",
          "2024-05-11T00:00:00.000000000",
          "2024-05-12T00:00:00.000000000",
          "2024-05-13T00:00:00.000000000",
          "2024-05-14T00:00:00.000000000",
          "2024-05-15T00:00:00.000000000",
          "2024-05-16T00:00:00.000000000",
          "2024-05-17T00:00:00.000000000",
          "2024-05-18T00:00:00.000000000",
          "2024-05-19T00:00:00.000000000",
          "2024-05-20T00:00:00.000000000",
          "2024-05-21T00:00:00.000000000",
          "2024-05-22T00:00:00.000000000",
          "2024-05-23T00:00:00.000000000",
          "2024-05-24T00:00:00.000000000",
          "2024-05-25T00:00:00.000000000",
          "2024-05-26T00:00:00.000000000",
          "2024-05-27T00:00:00.000000000",
          "2024-05-28T00:00:00.000000000",
          "2024-05-29T00:00:00.000000000",
          "2024-05-30T00:00:00.000000000",
          "2024-05-31T00:00:00.000000000",
          "2024-06-01T00:00:00.000000000",
          "2024-06-02T00:00:00.000000000",
          "2024-06-03T00:00:00.000000000",
          "2024-06-04T00:00:00.000000000",
          "2024-06-05T00:00:00.000000000",
          "2024-06-06T00:00:00.000000000",
          "2024-06-07T00:00:00.000000000",
          "2024-06-08T00:00:00.000000000",
          "2024-06-09T00:00:00.000000000",
          "2024-06-10T00:00:00.000000000",
          "2024-06-11T00:00:00.000000000",
          "2024-06-12T00:00:00.000000000",
          "2024-06-13T00:00:00.000000000",
          "2024-06-14T00:00:00.000000000",
          "2024-06-15T00:00:00.000000000",
          "2024-06-16T00:00:00.000000000",
          "2024-06-17T00:00:00.000000000",
          "2024-06-18T00:00:00.000000000",
          "2024-06-19T00:00:00.000000000",
          "2024-06-20T00:00:00.000000000",
          "2024-06-21T00:00:00.000000000",
          "2024-06-22T00:00:00.000000000",
          "2024-06-23T00:00:00.000000000",
          "2024-06-24T00:00:00.000000000",
          "2024-06-25T00:00:00.000000000",
          "2024-06-26T00:00:00.000000000",
          "2024-06-27T00:00:00.000000000",
          "2024-06-28T00:00:00.000000000",
          "2024-06-29T00:00:00.000000000",
          "2024-06-30T00:00:00.000000000",
          "2024-07-01T00:00:00.000000000",
          "2024-07-02T00:00:00.000000000",
          "2024-07-03T00:00:00.000000000",
          "2024-07-04T00:00:00.000000000",
          "2024-07-05T00:00:00.000000000",
          "2024-07-06T00:00:00.000000000",
          "2024-07-07T00:00:00.000000000",
          "2024-07-08T00:00:00.000000000",
          "2024-07-09T00:00:00.000000000",
          "2024-07-10T00:00:00.000000000",
          "2024-07-11T00:00:00.000000000",
          "2024-07-12T00:00:00.000000000",
          "2024-07-13T00:00:00.000000000",
          "2024-07-14T00:00:00.000000000",
          "2024-07-15T00:00:00.000000000",
          "2024-07-16T00:00:00.000000000",
          "2024-07-17T00:00:00.000000000",
          "2024-07-18T00:00:00.000000000",
          "2024-07-19T00:00:00.000000000",
          "2024-07-20T00:00:00.000000000",
          "2024-07-21T00:00:00.000000000",
          "2024-07-22T00:00:00.000000000",
          "2024-07-23T00:00:00.000000000",
          "2024-07-24T00:00:00.000000000",
          "2024-07-25T00:00:00.000000000",
          "2024-07-26T00:00:00.000000000",
          "2024-07-27T00:00:00.000000000",
          "2024-07-28T00:00:00.000000000",
          "2024-07-29T00:00:00.000000000",
          "2024-07-30T00:00:00.000000000",
          "2024-07-31T00:00:00.000000000",
          "2024-08-01T00:00:00.000000000",
          "2024-08-02T00:00:00.000000000",
          "2024-08-03T00:00:00.000000000",
          "2024-08-04T00:00:00.000000000",
          "2024-08-05T00:00:00.000000000",
          "2024-08-06T00:00:00.000000000",
          "2024-08-07T00:00:00.000000000",
          "2024-08-08T00:00:00.000000000",
          "2024-08-09T00:00:00.000000000",
          "2024-08-10T00:00:00.000000000",
          "2024-08-11T00:00:00.000000000",
          "2024-08-12T00:00:00.000000000",
          "2024-08-13T00:00:00.000000000",
          "2024-08-14T00:00:00.000000000",
          "2024-08-15T00:00:00.000000000",
          "2024-08-16T00:00:00.000000000",
          "2024-08-17T00:00:00.000000000",
          "2024-08-18T00:00:00.000000000",
          "2024-08-19T00:00:00.000000000",
          "2024-08-20T00:00:00.000000000",
          "2024-08-21T00:00:00.000000000",
          "2024-08-22T00:00:00.000000000",
          "2024-08-23T00:00:00.000000000",
          "2024-08-24T00:00:00.000000000",
          "2024-08-25T00:00:00.000000000",
          "2024-08-26T00:00:00.000000000",
          "2024-08-27T00:00:00.000000000",
          "2024-08-28T00:00:00.000000000",
          "2024-08-29T00:00:00.000000000",
          "2024-08-30T00:00:00.000000000",
          "2024-08-31T00:00:00.000000000",
          "2024-09-01T00:00:00.000000000",
          "2024-09-02T00:00:00.000000000",
          "2024-09-03T00:00:00.000000000",
          "2024-09-04T00:00:00.000000000",
          "2024-09-05T00:00:00.000000000",
          "2024-09-06T00:00:00.000000000",
          "2024-09-07T00:00:00.000000000",
          "2024-09-08T00:00:00.000000000",
          "2024-09-09T00:00:00.000000000",
          "2024-09-10T00:00:00.000000000",
          "2024-09-11T00:00:00.000000000",
          "2024-09-12T00:00:00.000000000",
          "2024-09-13T00:00:00.000000000",
          "2024-09-14T00:00:00.000000000",
          "2024-09-15T00:00:00.000000000",
          "2024-09-16T00:00:00.000000000",
          "2024-09-17T00:00:00.000000000",
          "2024-09-18T00:00:00.000000000",
          "2024-09-19T00:00:00.000000000",
          "2024-09-20T00:00:00.000000000",
          "2024-09-21T00:00:00.000000000",
          "2024-09-22T00:00:00.000000000",
          "2024-09-23T00:00:00.000000000",
          "2024-09-24T00:00:00.000000000",
          "2024-09-25T00:00:00.000000000",
          "2024-09-26T00:00:00.000000000",
          "2024-09-27T00:00:00.000000000",
          "2024-09-28T00:00:00.000000000",
          "2024-09-29T00:00:00.000000000",
          "2024-09-30T00:00:00.000000000",
          "2024-10-01T00:00:00.000000000",
          "2024-10-02T00:00:00.000000000",
          "2024-10-03T00:00:00.000000000",
          "2024-10-04T00:00:00.000000000",
          "2024-10-05T00:00:00.000000000",
          "2024-10-06T00:00:00.000000000",
          "2024-10-07T00:00:00.000000000",
          "2024-10-08T00:00:00.000000000",
          "2024-10-09T00:00:00.000000000",
          "2024-10-10T00:00:00.000000000",
          "2024-10-11T00:00:00.000000000",
          "2024-10-12T00:00:00.000000000",
          "2024-10-13T00:00:00.000000000",
          "2024-10-14T00:00:00.000000000",
          "2024-10-15T00:00:00.000000000",
          "2024-10-16T00:00:00.000000000",
          "2024-10-17T00:00:00.000000000",
          "2024-10-18T00:00:00.000000000",
          "2024-10-19T00:00:00.000000000",
          "2024-10-20T00:00:00.000000000",
          "2024-10-21T00:00:00.000000000",
          "2024-10-22T00:00:00.000000000",
          "2024-10-23T00:00:00.000000000",
          "2024-10-24T00:00:00.000000000",
          "2024-10-25T00:00:00.000000000",
          "2024-10-26T00:00:00.000000000",
          "2024-10-27T00:00:00.000000000",
          "2024-10-28T00:00:00.000000000",
          "2024-10-29T00:00:00.000000000",
          "2024-10-30T00:00:00.000000000",
          "2024-10-31T00:00:00.000000000",
          "2024-11-01T00:00:00.000000000",
          "2024-11-02T00:00:00.000000000",
          "2024-11-03T00:00:00.000000000",
          "2024-11-04T00:00:00.000000000",
          "2024-11-05T00:00:00.000000000",
          "2024-11-06T00:00:00.000000000",
          "2024-11-07T00:00:00.000000000",
          "2024-11-08T00:00:00.000000000",
          "2024-11-09T00:00:00.000000000",
          "2024-11-10T00:00:00.000000000",
          "2024-11-11T00:00:00.000000000",
          "2024-11-12T00:00:00.000000000",
          "2024-11-13T00:00:00.000000000",
          "2024-11-14T00:00:00.000000000",
          "2024-11-15T00:00:00.000000000",
          "2024-11-16T00:00:00.000000000",
          "2024-11-17T00:00:00.000000000",
          "2024-11-18T00:00:00.000000000",
          "2024-11-19T00:00:00.000000000",
          "2024-11-20T00:00:00.000000000",
          "2024-11-21T00:00:00.000000000",
          "2024-11-22T00:00:00.000000000",
          "2024-11-23T00:00:00.000000000",
          "2024-11-24T00:00:00.000000000",
          "2024-11-25T00:00:00.000000000",
          "2024-11-26T00:00:00.000000000",
          "2024-11-27T00:00:00.000000000",
          "2024-11-28T00:00:00.000000000",
          "2024-11-29T00:00:00.000000000",
          "2024-11-30T00:00:00.000000000",
          "2024-12-01T00:00:00.000000000",
          "2024-12-02T00:00:00.000000000",
          "2024-12-03T00:00:00.000000000",
          "2024-12-04T00:00:00.000000000",
          "2024-12-05T00:00:00.000000000",
          "2024-12-06T00:00:00.000000000",
          "2024-12-07T00:00:00.000000000",
          "2024-12-08T00:00:00.000000000",
          "2024-12-09T00:00:00.000000000",
          "2024-12-10T00:00:00.000000000",
          "2024-12-11T00:00:00.000000000",
          "2024-12-12T00:00:00.000000000",
          "2024-12-13T00:00:00.000000000",
          "2024-12-14T00:00:00.000000000",
          "2024-12-15T00:00:00.000000000",
          "2024-12-16T00:00:00.000000000",
          "2024-12-17T00:00:00.000000000",
          "2024-12-18T00:00:00.000000000",
          "2024-12-19T00:00:00.000000000",
          "2024-12-20T00:00:00.000000000",
          "2024-12-21T00:00:00.000000000",
          "2024-12-22T00:00:00.000000000",
          "2024-12-23T00:00:00.000000000",
          "2024-12-24T00:00:00.000000000",
          "2024-12-25T00:00:00.000000000",
          "2024-12-26T00:00:00.000000000",
          "2024-12-27T00:00:00.000000000",
          "2024-12-28T00:00:00.000000000",
          "2024-12-29T00:00:00.000000000",
          "2024-12-30T00:00:00.000000000",
          "2024-12-31T00:00:00.000000000",
          "2025-01-01T00:00:00.000000000",
          "2025-01-02T00:00:00.000000000",
          "2025-01-03T00:00:00.000000000",
          "2025-01-04T00:00:00.000000000",
          "2025-01-05T00:00:00.000000000",
          "2025-01-06T00:00:00.000000000",
          "2025-01-07T00:00:00.000000000",
          "2025-01-08T00:00:00.000000000",
          "2025-01-09T00:00:00.000000000",
          "2025-01-10T00:00:00.000000000",
          "2025-01-11T00:00:00.000000000",
          "2025-01-12T00:00:00.000000000",
          "2025-01-13T00:00:00.000000000",
          "2025-01-14T00:00:00.000000000",
          "2025-01-15T00:00:00.000000000",
          "2025-01-16T00:00:00.000000000",
          "2025-01-17T00:00:00.000000000",
          "2025-01-18T00:00:00.000000000",
          "2025-01-19T00:00:00.000000000",
          "2025-01-20T00:00:00.000000000",
          "2025-01-21T00:00:00.000000000",
          "2025-01-22T00:00:00.000000000",
          "2025-01-23T00:00:00.000000000",
          "2025-01-24T00:00:00.000000000",
          "2025-01-25T00:00:00.000000000",
          "2025-01-26T00:00:00.000000000",
          "2025-01-27T00:00:00.000000000",
          "2025-01-28T00:00:00.000000000",
          "2025-01-29T00:00:00.000000000",
          "2025-01-30T00:00:00.000000000",
          "2025-01-31T00:00:00.000000000",
          "2025-02-01T00:00:00.000000000",
          "2025-02-02T00:00:00.000000000",
          "2025-02-03T00:00:00.000000000",
          "2025-02-04T00:00:00.000000000",
          "2025-02-05T00:00:00.000000000",
          "2025-02-06T00:00:00.000000000",
          "2025-02-07T00:00:00.000000000",
          "2025-02-08T00:00:00.000000000",
          "2025-02-09T00:00:00.000000000",
          "2025-02-10T00:00:00.000000000",
          "2025-02-11T00:00:00.000000000",
          "2025-02-12T00:00:00.000000000",
          "2025-02-13T00:00:00.000000000",
          "2025-02-14T00:00:00.000000000",
          "2025-02-15T00:00:00.000000000",
          "2025-02-16T00:00:00.000000000",
          "2025-02-17T00:00:00.000000000",
          "2025-02-18T00:00:00.000000000",
          "2025-02-19T00:00:00.000000000",
          "2025-02-20T00:00:00.000000000",
          "2025-02-21T00:00:00.000000000",
          "2025-02-22T00:00:00.000000000",
          "2025-02-23T00:00:00.000000000",
          "2025-02-24T00:00:00.000000000",
          "2025-02-25T00:00:00.000000000",
          "2025-02-26T00:00:00.000000000",
          "2025-02-27T00:00:00.000000000",
          "2025-02-28T00:00:00.000000000",
          "2025-03-01T00:00:00.000000000",
          "2025-03-02T00:00:00.000000000",
          "2025-03-03T00:00:00.000000000",
          "2025-03-04T00:00:00.000000000",
          "2025-03-05T00:00:00.000000000",
          "2025-03-06T00:00:00.000000000",
          "2025-03-07T00:00:00.000000000",
          "2025-03-08T00:00:00.000000000",
          "2025-03-09T00:00:00.000000000",
          "2025-03-10T00:00:00.000000000",
          "2025-03-11T00:00:00.000000000",
          "2025-03-12T00:00:00.000000000",
          "2025-03-13T00:00:00.000000000",
          "2025-03-14T00:00:00.000000000",
          "2025-03-15T00:00:00.000000000",
          "2025-03-16T00:00:00.000000000",
          "2025-03-17T00:00:00.000000000",
          "2025-03-18T00:00:00.000000000",
          "2025-03-19T00:00:00.000000000",
          "2025-03-20T00:00:00.000000000",
          "2025-03-21T00:00:00.000000000",
          "2025-03-22T00:00:00.000000000",
          "2025-03-23T00:00:00.000000000",
          "2025-03-24T00:00:00.000000000",
          "2025-03-25T00:00:00.000000000",
          "2025-03-26T00:00:00.000000000",
          "2025-03-27T00:00:00.000000000",
          "2025-03-28T00:00:00.000000000",
          "2025-03-29T00:00:00.000000000",
          "2025-03-30T00:00:00.000000000",
          "2025-03-31T00:00:00.000000000",
          "2025-04-01T00:00:00.000000000",
          "2025-04-02T00:00:00.000000000"
         ],
         "y": {
          "bdata": "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",
          "dtype": "f8"
         },
         "yaxis": "y2"
        }
       ],
       "layout": {
        "height": 500,
        "legend": {
         "orientation": "h",
         "x": 0,
         "y": 1.1
        },
        "template": {
         "data": {
          "bar": [
           {
            "error_x": {
             "color": "#2a3f5f"
            },
            "error_y": {
             "color": "#2a3f5f"
            },
            "marker": {
             "line": {
              "color": "white",
              "width": 0.5
             },
             "pattern": {
              "fillmode": "overlay",
              "size": 10,
              "solidity": 0.2
             }
            },
            "type": "bar"
           }
          ],
          "barpolar": [
           {
            "marker": {
             "line": {
              "color": "white",
              "width": 0.5
             },
             "pattern": {
              "fillmode": "overlay",
              "size": 10,
              "solidity": 0.2
             }
            },
            "type": "barpolar"
           }
          ],
          "carpet": [
           {
            "aaxis": {
             "endlinecolor": "#2a3f5f",
             "gridcolor": "#C8D4E3",
             "linecolor": "#C8D4E3",
             "minorgridcolor": "#C8D4E3",
             "startlinecolor": "#2a3f5f"
            },
            "baxis": {
             "endlinecolor": "#2a3f5f",
             "gridcolor": "#C8D4E3",
             "linecolor": "#C8D4E3",
             "minorgridcolor": "#C8D4E3",
             "startlinecolor": "#2a3f5f"
            },
            "type": "carpet"
           }
          ],
          "choropleth": [
           {
            "colorbar": {
             "outlinewidth": 0,
             "ticks": ""
            },
            "type": "choropleth"
           }
          ],
          "contour": [
           {
            "colorbar": {
             "outlinewidth": 0,
             "ticks": ""
            },
            "colorscale": [
             [
              0,
              "#0d0887"
             ],
             [
              0.1111111111111111,
              "#46039f"
             ],
             [
              0.2222222222222222,
              "#7201a8"
             ],
             [
              0.3333333333333333,
              "#9c179e"
             ],
             [
              0.4444444444444444,
              "#bd3786"
             ],
             [
              0.5555555555555556,
              "#d8576b"
             ],
             [
              0.6666666666666666,
              "#ed7953"
             ],
             [
              0.7777777777777778,
              "#fb9f3a"
             ],
             [
              0.8888888888888888,
              "#fdca26"
             ],
             [
              1,
              "#f0f921"
             ]
            ],
            "type": "contour"
           }
          ],
          "contourcarpet": [
           {
            "colorbar": {
             "outlinewidth": 0,
             "ticks": ""
            },
            "type": "contourcarpet"
           }
          ],
          "heatmap": [
           {
            "colorbar": {
             "outlinewidth": 0,
             "ticks": ""
            },
            "colorscale": [
             [
              0,
              "#0d0887"
             ],
             [
              0.1111111111111111,
              "#46039f"
             ],
             [
              0.2222222222222222,
              "#7201a8"
             ],
             [
              0.3333333333333333,
              "#9c179e"
             ],
             [
              0.4444444444444444,
              "#bd3786"
             ],
             [
              0.5555555555555556,
              "#d8576b"
             ],
             [
              0.6666666666666666,
              "#ed7953"
             ],
             [
              0.7777777777777778,
              "#fb9f3a"
             ],
             [
              0.8888888888888888,
              "#fdca26"
             ],
             [
              1,
              "#f0f921"
             ]
            ],
            "type": "heatmap"
           }
          ],
          "histogram": [
           {
            "marker": {
             "pattern": {
              "fillmode": "overlay",
              "size": 10,
              "solidity": 0.2
             }
            },
            "type": "histogram"
           }
          ],
          "histogram2d": [
           {
            "colorbar": {
             "outlinewidth": 0,
             "ticks": ""
            },
            "colorscale": [
             [
              0,
              "#0d0887"
             ],
             [
              0.1111111111111111,
              "#46039f"
             ],
             [
              0.2222222222222222,
              "#7201a8"
             ],
             [
              0.3333333333333333,
              "#9c179e"
             ],
             [
              0.4444444444444444,
              "#bd3786"
             ],
             [
              0.5555555555555556,
              "#d8576b"
             ],
             [
              0.6666666666666666,
              "#ed7953"
             ],
             [
              0.7777777777777778,
              "#fb9f3a"
             ],
             [
              0.8888888888888888,
              "#fdca26"
             ],
             [
              1,
              "#f0f921"
             ]
            ],
            "type": "histogram2d"
           }
          ],
          "histogram2dcontour": [
           {
            "colorbar": {
             "outlinewidth": 0,
             "ticks": ""
            },
            "colorscale": [
             [
              0,
              "#0d0887"
             ],
             [
              0.1111111111111111,
              "#46039f"
             ],
             [
              0.2222222222222222,
              "#7201a8"
             ],
             [
              0.3333333333333333,
              "#9c179e"
             ],
             [
              0.4444444444444444,
              "#bd3786"
             ],
             [
              0.5555555555555556,
              "#d8576b"
             ],
             [
              0.6666666666666666,
              "#ed7953"
             ],
             [
              0.7777777777777778,
              "#fb9f3a"
             ],
             [
              0.8888888888888888,
              "#fdca26"
             ],
             [
              1,
              "#f0f921"
             ]
            ],
            "type": "histogram2dcontour"
           }
          ],
          "mesh3d": [
           {
            "colorbar": {
             "outlinewidth": 0,
             "ticks": ""
            },
            "type": "mesh3d"
           }
          ],
          "parcoords": [
           {
            "line": {
             "colorbar": {
              "outlinewidth": 0,
              "ticks": ""
             }
            },
            "type": "parcoords"
           }
          ],
          "pie": [
           {
            "automargin": true,
            "type": "pie"
           }
          ],
          "scatter": [
           {
            "fillpattern": {
             "fillmode": "overlay",
             "size": 10,
             "solidity": 0.2
            },
            "type": "scatter"
           }
          ],
          "scatter3d": [
           {
            "line": {
             "colorbar": {
              "outlinewidth": 0,
              "ticks": ""
             }
            },
            "marker": {
             "colorbar": {
              "outlinewidth": 0,
              "ticks": ""
             }
            },
            "type": "scatter3d"
           }
          ],
          "scattercarpet": [
           {
            "marker": {
             "colorbar": {
              "outlinewidth": 0,
              "ticks": ""
             }
            },
            "type": "scattercarpet"
           }
          ],
          "scattergeo": [
           {
            "marker": {
             "colorbar": {
              "outlinewidth": 0,
              "ticks": ""
             }
            },
            "type": "scattergeo"
           }
          ],
          "scattergl": [
           {
            "marker": {
             "colorbar": {
              "outlinewidth": 0,
              "ticks": ""
             }
            },
            "type": "scattergl"
           }
          ],
          "scattermap": [
           {
            "marker": {
             "colorbar": {
              "outlinewidth": 0,
              "ticks": ""
             }
            },
            "type": "scattermap"
           }
          ],
          "scattermapbox": [
           {
            "marker": {
             "colorbar": {
              "outlinewidth": 0,
              "ticks": ""
             }
            },
            "type": "scattermapbox"
           }
          ],
          "scatterpolar": [
           {
            "marker": {
             "colorbar": {
              "outlinewidth": 0,
              "ticks": ""
             }
            },
            "type": "scatterpolar"
           }
          ],
          "scatterpolargl": [
           {
            "marker": {
             "colorbar": {
              "outlinewidth": 0,
              "ticks": ""
             }
            },
            "type": "scatterpolargl"
           }
          ],
          "scatterternary": [
           {
            "marker": {
             "colorbar": {
              "outlinewidth": 0,
              "ticks": ""
             }
            },
            "type": "scatterternary"
           }
          ],
          "surface": [
           {
            "colorbar": {
             "outlinewidth": 0,
             "ticks": ""
            },
            "colorscale": [
             [
              0,
              "#0d0887"
             ],
             [
              0.1111111111111111,
              "#46039f"
             ],
             [
              0.2222222222222222,
              "#7201a8"
             ],
             [
              0.3333333333333333,
              "#9c179e"
             ],
             [
              0.4444444444444444,
              "#bd3786"
             ],
             [
              0.5555555555555556,
              "#d8576b"
             ],
             [
              0.6666666666666666,
              "#ed7953"
             ],
             [
              0.7777777777777778,
              "#fb9f3a"
             ],
             [
              0.8888888888888888,
              "#fdca26"
             ],
             [
              1,
              "#f0f921"
             ]
            ],
            "type": "surface"
           }
          ],
          "table": [
           {
            "cells": {
             "fill": {
              "color": "#EBF0F8"
             },
             "line": {
              "color": "white"
             }
            },
            "header": {
             "fill": {
              "color": "#C8D4E3"
             },
             "line": {
              "color": "white"
             }
            },
            "type": "table"
           }
          ]
         },
         "layout": {
          "annotationdefaults": {
           "arrowcolor": "#2a3f5f",
           "arrowhead": 0,
           "arrowwidth": 1
          },
          "autotypenumbers": "strict",
          "coloraxis": {
           "colorbar": {
            "outlinewidth": 0,
            "ticks": ""
           }
          },
          "colorscale": {
           "diverging": [
            [
             0,
             "#8e0152"
            ],
            [
             0.1,
             "#c51b7d"
            ],
            [
             0.2,
             "#de77ae"
            ],
            [
             0.3,
             "#f1b6da"
            ],
            [
             0.4,
             "#fde0ef"
            ],
            [
             0.5,
             "#f7f7f7"
            ],
            [
             0.6,
             "#e6f5d0"
            ],
            [
             0.7,
             "#b8e186"
            ],
            [
             0.8,
             "#7fbc41"
            ],
            [
             0.9,
             "#4d9221"
            ],
            [
             1,
             "#276419"
            ]
           ],
           "sequential": [
            [
             0,
             "#0d0887"
            ],
            [
             0.1111111111111111,
             "#46039f"
            ],
            [
             0.2222222222222222,
             "#7201a8"
            ],
            [
             0.3333333333333333,
             "#9c179e"
            ],
            [
             0.4444444444444444,
             "#bd3786"
            ],
            [
             0.5555555555555556,
             "#d8576b"
            ],
            [
             0.6666666666666666,
             "#ed7953"
            ],
            [
             0.7777777777777778,
             "#fb9f3a"
            ],
            [
             0.8888888888888888,
             "#fdca26"
            ],
            [
             1,
             "#f0f921"
            ]
           ],
           "sequentialminus": [
            [
             0,
             "#0d0887"
            ],
            [
             0.1111111111111111,
             "#46039f"
            ],
            [
             0.2222222222222222,
             "#7201a8"
            ],
            [
             0.3333333333333333,
             "#9c179e"
            ],
            [
             0.4444444444444444,
             "#bd3786"
            ],
            [
             0.5555555555555556,
             "#d8576b"
            ],
            [
             0.6666666666666666,
             "#ed7953"
            ],
            [
             0.7777777777777778,
             "#fb9f3a"
            ],
            [
             0.8888888888888888,
             "#fdca26"
            ],
            [
             1,
             "#f0f921"
            ]
           ]
          },
          "colorway": [
           "#636efa",
           "#EF553B",
           "#00cc96",
           "#ab63fa",
           "#FFA15A",
           "#19d3f3",
           "#FF6692",
           "#B6E880",
           "#FF97FF",
           "#FECB52"
          ],
          "font": {
           "color": "#2a3f5f"
          },
          "geo": {
           "bgcolor": "white",
           "lakecolor": "white",
           "landcolor": "white",
           "showlakes": true,
           "showland": true,
           "subunitcolor": "#C8D4E3"
          },
          "hoverlabel": {
           "align": "left"
          },
          "hovermode": "closest",
          "mapbox": {
           "style": "light"
          },
          "paper_bgcolor": "white",
          "plot_bgcolor": "white",
          "polar": {
           "angularaxis": {
            "gridcolor": "#EBF0F8",
            "linecolor": "#EBF0F8",
            "ticks": ""
           },
           "bgcolor": "white",
           "radialaxis": {
            "gridcolor": "#EBF0F8",
            "linecolor": "#EBF0F8",
            "ticks": ""
           }
          },
          "scene": {
           "xaxis": {
            "backgroundcolor": "white",
            "gridcolor": "#DFE8F3",
            "gridwidth": 2,
            "linecolor": "#EBF0F8",
            "showbackground": true,
            "ticks": "",
            "zerolinecolor": "#EBF0F8"
           },
           "yaxis": {
            "backgroundcolor": "white",
            "gridcolor": "#DFE8F3",
            "gridwidth": 2,
            "linecolor": "#EBF0F8",
            "showbackground": true,
            "ticks": "",
            "zerolinecolor": "#EBF0F8"
           },
           "zaxis": {
            "backgroundcolor": "white",
            "gridcolor": "#DFE8F3",
            "gridwidth": 2,
            "linecolor": "#EBF0F8",
            "showbackground": true,
            "ticks": "",
            "zerolinecolor": "#EBF0F8"
           }
          },
          "shapedefaults": {
           "line": {
            "color": "#2a3f5f"
           }
          },
          "ternary": {
           "aaxis": {
            "gridcolor": "#DFE8F3",
            "linecolor": "#A2B1C6",
            "ticks": ""
           },
           "baxis": {
            "gridcolor": "#DFE8F3",
            "linecolor": "#A2B1C6",
            "ticks": ""
           },
           "bgcolor": "white",
           "caxis": {
            "gridcolor": "#DFE8F3",
            "linecolor": "#A2B1C6",
            "ticks": ""
           }
          },
          "title": {
           "x": 0.05
          },
          "xaxis": {
           "automargin": true,
           "gridcolor": "#EBF0F8",
           "linecolor": "#EBF0F8",
           "ticks": "",
           "title": {
            "standoff": 15
           },
           "zerolinecolor": "#EBF0F8",
           "zerolinewidth": 2
          },
          "yaxis": {
           "automargin": true,
           "gridcolor": "#EBF0F8",
           "linecolor": "#EBF0F8",
           "ticks": "",
           "title": {
            "standoff": 15
           },
           "zerolinecolor": "#EBF0F8",
           "zerolinewidth": 2
          }
         }
        },
        "title": {
         "text": "Predicted BTC Price with Rolling MAE and RMSE"
        },
        "xaxis": {
         "title": {
          "text": "Date"
         }
        },
        "yaxis": {
         "side": "left",
         "title": {
          "text": "Predicted Price (USD)"
         }
        },
        "yaxis2": {
         "overlaying": "y",
         "showgrid": false,
         "side": "right",
         "title": {
          "text": "Error (USD)"
         }
        }
       }
      }
     },
     "metadata": {},
     "output_type": "display_data"
    }
   ],
   "source": [
    "import plotly.graph_objects as go\n",
    "\n",
    "# Calculate rolling metrics if not already done\n",
    "results['Absolute_Error'] = abs(results['Actual'] - results['Predicted'])\n",
    "results['MAE_Rolling'] = results['Absolute_Error'].rolling(window=7).mean()\n",
    "results['Squared_Error'] = (results['Actual'] - results['Predicted']) ** 2\n",
    "results['RMSE_Rolling'] = results['Squared_Error'].rolling(window=7).mean() ** 0.5\n",
    "\n",
    "# Create figure with secondary y-axis\n",
    "fig = go.Figure()\n",
    "\n",
    "# Primary y-axis: Predicted price\n",
    "fig.add_trace(go.Scatter(\n",
    "    x=results['Date'],\n",
    "    y=results['Predicted'],\n",
    "    name='Predicted Price',\n",
    "    mode='lines',\n",
    "    line=dict(color='blue')\n",
    "))\n",
    "\n",
    "# Secondary y-axis: MAE\n",
    "fig.add_trace(go.Scatter(\n",
    "    x=results['Date'],\n",
    "    y=results['MAE_Rolling'],\n",
    "    name='Rolling MAE',\n",
    "    mode='lines',\n",
    "    yaxis='y2',\n",
    "    line=dict(color='orange', dash='dash')\n",
    "))\n",
    "\n",
    "# Secondary y-axis: RMSE\n",
    "fig.add_trace(go.Scatter(\n",
    "    x=results['Date'],\n",
    "    y=results['RMSE_Rolling'],\n",
    "    name='Rolling RMSE',\n",
    "    mode='lines',\n",
    "    yaxis='y2',\n",
    "    line=dict(color='red', dash='dot')\n",
    "))\n",
    "\n",
    "# Layout\n",
    "fig.update_layout(\n",
    "    title='Predicted BTC Price with Rolling MAE and RMSE',\n",
    "    xaxis=dict(title='Date'),\n",
    "    yaxis=dict(title='Predicted Price (USD)', side='left'),\n",
    "    yaxis2=dict(\n",
    "        title='Error (USD)',\n",
    "        overlaying='y',\n",
    "        side='right',\n",
    "        showgrid=False\n",
    "    ),\n",
    "    legend=dict(x=0, y=1.1, orientation='h'),\n",
    "    template='plotly_white',\n",
    "    height=500\n",
    ")\n",
    "\n",
    "fig.show()\n"
   ]
  },
  {
   "cell_type": "code",
   "execution_count": 108,
   "id": "e702e673",
   "metadata": {},
   "outputs": [
    {
     "data": {
      "application/vnd.plotly.v1+json": {
       "config": {
        "plotlyServerURL": "https://plot.ly"
       },
       "data": [
        {
         "marker": {
          "color": "blue"
         },
         "name": "MAE %",
         "opacity": 0.6,
         "type": "bar",
         "x": [
          "2023-04-25T00:00:00.000000000",
          "2023-04-26T00:00:00.000000000",
          "2023-04-27T00:00:00.000000000",
          "2023-04-28T00:00:00.000000000",
          "2023-04-29T00:00:00.000000000",
          "2023-04-30T00:00:00.000000000",
          "2023-05-01T00:00:00.000000000",
          "2023-05-02T00:00:00.000000000",
          "2023-05-03T00:00:00.000000000",
          "2023-05-04T00:00:00.000000000",
          "2023-05-05T00:00:00.000000000",
          "2023-05-06T00:00:00.000000000",
          "2023-05-07T00:00:00.000000000",
          "2023-05-08T00:00:00.000000000",
          "2023-05-09T00:00:00.000000000",
          "2023-05-10T00:00:00.000000000",
          "2023-05-11T00:00:00.000000000",
          "2023-05-12T00:00:00.000000000",
          "2023-05-13T00:00:00.000000000",
          "2023-05-14T00:00:00.000000000",
          "2023-05-15T00:00:00.000000000",
          "2023-05-16T00:00:00.000000000",
          "2023-05-17T00:00:00.000000000",
          "2023-05-18T00:00:00.000000000",
          "2023-05-19T00:00:00.000000000",
          "2023-05-20T00:00:00.000000000",
          "2023-05-21T00:00:00.000000000",
          "2023-05-22T00:00:00.000000000",
          "2023-05-23T00:00:00.000000000",
          "2023-05-24T00:00:00.000000000",
          "2023-05-25T00:00:00.000000000",
          "2023-05-26T00:00:00.000000000",
          "2023-05-27T00:00:00.000000000",
          "2023-05-28T00:00:00.000000000",
          "2023-05-29T00:00:00.000000000",
          "2023-05-30T00:00:00.000000000",
          "2023-05-31T00:00:00.000000000",
          "2023-06-01T00:00:00.000000000",
          "2023-06-02T00:00:00.000000000",
          "2023-06-03T00:00:00.000000000",
          "2023-06-04T00:00:00.000000000",
          "2023-06-05T00:00:00.000000000",
          "2023-06-06T00:00:00.000000000",
          "2023-06-07T00:00:00.000000000",
          "2023-06-08T00:00:00.000000000",
          "2023-06-09T00:00:00.000000000",
          "2023-06-10T00:00:00.000000000",
          "2023-06-11T00:00:00.000000000",
          "2023-06-12T00:00:00.000000000",
          "2023-06-13T00:00:00.000000000",
          "2023-06-14T00:00:00.000000000",
          "2023-06-15T00:00:00.000000000",
          "2023-06-16T00:00:00.000000000",
          "2023-06-17T00:00:00.000000000",
          "2023-06-18T00:00:00.000000000",
          "2023-06-19T00:00:00.000000000",
          "2023-06-20T00:00:00.000000000",
          "2023-06-21T00:00:00.000000000",
          "2023-06-22T00:00:00.000000000",
          "2023-06-23T00:00:00.000000000",
          "2023-06-24T00:00:00.000000000",
          "2023-06-25T00:00:00.000000000",
          "2023-06-26T00:00:00.000000000",
          "2023-06-27T00:00:00.000000000",
          "2023-06-28T00:00:00.000000000",
          "2023-06-29T00:00:00.000000000",
          "2023-06-30T00:00:00.000000000",
          "2023-07-01T00:00:00.000000000",
          "2023-07-02T00:00:00.000000000",
          "2023-07-03T00:00:00.000000000",
          "2023-07-04T00:00:00.000000000",
          "2023-07-05T00:00:00.000000000",
          "2023-07-06T00:00:00.000000000",
          "2023-07-07T00:00:00.000000000",
          "2023-07-08T00:00:00.000000000",
          "2023-07-09T00:00:00.000000000",
          "2023-07-10T00:00:00.000000000",
          "2023-07-11T00:00:00.000000000",
          "2023-07-12T00:00:00.000000000",
          "2023-07-13T00:00:00.000000000",
          "2023-07-14T00:00:00.000000000",
          "2023-07-15T00:00:00.000000000",
          "2023-07-16T00:00:00.000000000",
          "2023-07-17T00:00:00.000000000",
          "2023-07-18T00:00:00.000000000",
          "2023-07-19T00:00:00.000000000",
          "2023-07-20T00:00:00.000000000",
          "2023-07-21T00:00:00.000000000",
          "2023-07-22T00:00:00.000000000",
          "2023-07-23T00:00:00.000000000",
          "2023-07-24T00:00:00.000000000",
          "2023-07-25T00:00:00.000000000",
          "2023-07-26T00:00:00.000000000",
          "2023-07-27T00:00:00.000000000",
          "2023-07-28T00:00:00.000000000",
          "2023-07-29T00:00:00.000000000",
          "2023-07-30T00:00:00.000000000",
          "2023-07-31T00:00:00.000000000",
          "2023-08-01T00:00:00.000000000",
          "2023-08-02T00:00:00.000000000",
          "2023-08-03T00:00:00.000000000",
          "2023-08-04T00:00:00.000000000",
          "2023-08-05T00:00:00.000000000",
          "2023-08-06T00:00:00.000000000",
          "2023-08-07T00:00:00.000000000",
          "2023-08-08T00:00:00.000000000",
          "2023-08-09T00:00:00.000000000",
          "2023-08-10T00:00:00.000000000",
          "2023-08-11T00:00:00.000000000",
          "2023-08-12T00:00:00.000000000",
          "2023-08-13T00:00:00.000000000",
          "2023-08-14T00:00:00.000000000",
          "2023-08-15T00:00:00.000000000",
          "2023-08-16T00:00:00.000000000",
          "2023-08-17T00:00:00.000000000",
          "2023-08-18T00:00:00.000000000",
          "2023-08-19T00:00:00.000000000",
          "2023-08-20T00:00:00.000000000",
          "2023-08-21T00:00:00.000000000",
          "2023-08-22T00:00:00.000000000",
          "2023-08-23T00:00:00.000000000",
          "2023-08-24T00:00:00.000000000",
          "2023-08-25T00:00:00.000000000",
          "2023-08-26T00:00:00.000000000",
          "2023-08-27T00:00:00.000000000",
          "2023-08-28T00:00:00.000000000",
          "2023-08-29T00:00:00.000000000",
          "2023-08-30T00:00:00.000000000",
          "2023-08-31T00:00:00.000000000",
          "2023-09-01T00:00:00.000000000",
          "2023-09-02T00:00:00.000000000",
          "2023-09-03T00:00:00.000000000",
          "2023-09-04T00:00:00.000000000",
          "2023-09-05T00:00:00.000000000",
          "2023-09-06T00:00:00.000000000",
          "2023-09-07T00:00:00.000000000",
          "2023-09-08T00:00:00.000000000",
          "2023-09-09T00:00:00.000000000",
          "2023-09-10T00:00:00.000000000",
          "2023-09-11T00:00:00.000000000",
          "2023-09-12T00:00:00.000000000",
          "2023-09-13T00:00:00.000000000",
          "2023-09-14T00:00:00.000000000",
          "2023-09-15T00:00:00.000000000",
          "2023-09-16T00:00:00.000000000",
          "2023-09-17T00:00:00.000000000",
          "2023-09-18T00:00:00.000000000",
          "2023-09-19T00:00:00.000000000",
          "2023-09-20T00:00:00.000000000",
          "2023-09-21T00:00:00.000000000",
          "2023-09-22T00:00:00.000000000",
          "2023-09-23T00:00:00.000000000",
          "2023-09-24T00:00:00.000000000",
          "2023-09-25T00:00:00.000000000",
          "2023-09-26T00:00:00.000000000",
          "2023-09-27T00:00:00.000000000",
          "2023-09-28T00:00:00.000000000",
          "2023-09-29T00:00:00.000000000",
          "2023-09-30T00:00:00.000000000",
          "2023-10-01T00:00:00.000000000",
          "2023-10-02T00:00:00.000000000",
          "2023-10-03T00:00:00.000000000",
          "2023-10-04T00:00:00.000000000",
          "2023-10-05T00:00:00.000000000",
          "2023-10-06T00:00:00.000000000",
          "2023-10-07T00:00:00.000000000",
          "2023-10-08T00:00:00.000000000",
          "2023-10-09T00:00:00.000000000",
          "2023-10-10T00:00:00.000000000",
          "2023-10-11T00:00:00.000000000",
          "2023-10-12T00:00:00.000000000",
          "2023-10-13T00:00:00.000000000",
          "2023-10-14T00:00:00.000000000",
          "2023-10-15T00:00:00.000000000",
          "2023-10-16T00:00:00.000000000",
          "2023-10-17T00:00:00.000000000",
          "2023-10-18T00:00:00.000000000",
          "2023-10-19T00:00:00.000000000",
          "2023-10-20T00:00:00.000000000",
          "2023-10-21T00:00:00.000000000",
          "2023-10-22T00:00:00.000000000",
          "2023-10-23T00:00:00.000000000",
          "2023-10-24T00:00:00.000000000",
          "2023-10-25T00:00:00.000000000",
          "2023-10-26T00:00:00.000000000",
          "2023-10-27T00:00:00.000000000",
          "2023-10-28T00:00:00.000000000",
          "2023-10-29T00:00:00.000000000",
          "2023-10-30T00:00:00.000000000",
          "2023-10-31T00:00:00.000000000",
          "2023-11-01T00:00:00.000000000",
          "2023-11-02T00:00:00.000000000",
          "2023-11-03T00:00:00.000000000",
          "2023-11-04T00:00:00.000000000",
          "2023-11-05T00:00:00.000000000",
          "2023-11-06T00:00:00.000000000",
          "2023-11-07T00:00:00.000000000",
          "2023-11-08T00:00:00.000000000",
          "2023-11-09T00:00:00.000000000",
          "2023-11-10T00:00:00.000000000",
          "2023-11-11T00:00:00.000000000",
          "2023-11-12T00:00:00.000000000",
          "2023-11-13T00:00:00.000000000",
          "2023-11-14T00:00:00.000000000",
          "2023-11-15T00:00:00.000000000",
          "2023-11-16T00:00:00.000000000",
          "2023-11-17T00:00:00.000000000",
          "2023-11-18T00:00:00.000000000",
          "2023-11-19T00:00:00.000000000",
          "2023-11-20T00:00:00.000000000",
          "2023-11-21T00:00:00.000000000",
          "2023-11-22T00:00:00.000000000",
          "2023-11-23T00:00:00.000000000",
          "2023-11-24T00:00:00.000000000",
          "2023-11-25T00:00:00.000000000",
          "2023-11-26T00:00:00.000000000",
          "2023-11-27T00:00:00.000000000",
          "2023-11-28T00:00:00.000000000",
          "2023-11-29T00:00:00.000000000",
          "2023-11-30T00:00:00.000000000",
          "2023-12-01T00:00:00.000000000",
          "2023-12-02T00:00:00.000000000",
          "2023-12-03T00:00:00.000000000",
          "2023-12-04T00:00:00.000000000",
          "2023-12-05T00:00:00.000000000",
          "2023-12-06T00:00:00.000000000",
          "2023-12-07T00:00:00.000000000",
          "2023-12-08T00:00:00.000000000",
          "2023-12-09T00:00:00.000000000",
          "2023-12-10T00:00:00.000000000",
          "2023-12-11T00:00:00.000000000",
          "2023-12-12T00:00:00.000000000",
          "2023-12-13T00:00:00.000000000",
          "2023-12-14T00:00:00.000000000",
          "2023-12-15T00:00:00.000000000",
          "2023-12-16T00:00:00.000000000",
          "2023-12-17T00:00:00.000000000",
          "2023-12-18T00:00:00.000000000",
          "2023-12-19T00:00:00.000000000",
          "2023-12-20T00:00:00.000000000",
          "2023-12-21T00:00:00.000000000",
          "2023-12-22T00:00:00.000000000",
          "2023-12-23T00:00:00.000000000",
          "2023-12-24T00:00:00.000000000",
          "2023-12-25T00:00:00.000000000",
          "2023-12-26T00:00:00.000000000",
          "2023-12-27T00:00:00.000000000",
          "2023-12-28T00:00:00.000000000",
          "2023-12-29T00:00:00.000000000",
          "2023-12-30T00:00:00.000000000",
          "2023-12-31T00:00:00.000000000",
          "2024-01-01T00:00:00.000000000",
          "2024-01-02T00:00:00.000000000",
          "2024-01-03T00:00:00.000000000",
          "2024-01-04T00:00:00.000000000",
          "2024-01-05T00:00:00.000000000",
          "2024-01-06T00:00:00.000000000",
          "2024-01-07T00:00:00.000000000",
          "2024-01-08T00:00:00.000000000",
          "2024-01-09T00:00:00.000000000",
          "2024-01-10T00:00:00.000000000",
          "2024-01-11T00:00:00.000000000",
          "2024-01-12T00:00:00.000000000",
          "2024-01-13T00:00:00.000000000",
          "2024-01-14T00:00:00.000000000",
          "2024-01-15T00:00:00.000000000",
          "2024-01-16T00:00:00.000000000",
          "2024-01-17T00:00:00.000000000",
          "2024-01-18T00:00:00.000000000",
          "2024-01-19T00:00:00.000000000",
          "2024-01-20T00:00:00.000000000",
          "2024-01-21T00:00:00.000000000",
          "2024-01-22T00:00:00.000000000",
          "2024-01-23T00:00:00.000000000",
          "2024-01-24T00:00:00.000000000",
          "2024-01-25T00:00:00.000000000",
          "2024-01-26T00:00:00.000000000",
          "2024-01-27T00:00:00.000000000",
          "2024-01-28T00:00:00.000000000",
          "2024-01-29T00:00:00.000000000",
          "2024-01-30T00:00:00.000000000",
          "2024-01-31T00:00:00.000000000",
          "2024-02-01T00:00:00.000000000",
          "2024-02-02T00:00:00.000000000",
          "2024-02-03T00:00:00.000000000",
          "2024-02-04T00:00:00.000000000",
          "2024-02-05T00:00:00.000000000",
          "2024-02-06T00:00:00.000000000",
          "2024-02-07T00:00:00.000000000",
          "2024-02-08T00:00:00.000000000",
          "2024-02-09T00:00:00.000000000",
          "2024-02-10T00:00:00.000000000",
          "2024-02-11T00:00:00.000000000",
          "2024-02-12T00:00:00.000000000",
          "2024-02-13T00:00:00.000000000",
          "2024-02-14T00:00:00.000000000",
          "2024-02-15T00:00:00.000000000",
          "2024-02-16T00:00:00.000000000",
          "2024-02-17T00:00:00.000000000",
          "2024-02-18T00:00:00.000000000",
          "2024-02-19T00:00:00.000000000",
          "2024-02-20T00:00:00.000000000",
          "2024-02-21T00:00:00.000000000",
          "2024-02-22T00:00:00.000000000",
          "2024-02-23T00:00:00.000000000",
          "2024-02-24T00:00:00.000000000",
          "2024-02-25T00:00:00.000000000",
          "2024-02-26T00:00:00.000000000",
          "2024-02-27T00:00:00.000000000",
          "2024-02-28T00:00:00.000000000",
          "2024-02-29T00:00:00.000000000",
          "2024-03-01T00:00:00.000000000",
          "2024-03-02T00:00:00.000000000",
          "2024-03-03T00:00:00.000000000",
          "2024-03-04T00:00:00.000000000",
          "2024-03-05T00:00:00.000000000",
          "2024-03-06T00:00:00.000000000",
          "2024-03-07T00:00:00.000000000",
          "2024-03-08T00:00:00.000000000",
          "2024-03-09T00:00:00.000000000",
          "2024-03-10T00:00:00.000000000",
          "2024-03-11T00:00:00.000000000",
          "2024-03-12T00:00:00.000000000",
          "2024-03-13T00:00:00.000000000",
          "2024-03-14T00:00:00.000000000",
          "2024-03-15T00:00:00.000000000",
          "2024-03-16T00:00:00.000000000",
          "2024-03-17T00:00:00.000000000",
          "2024-03-18T00:00:00.000000000",
          "2024-03-19T00:00:00.000000000",
          "2024-03-20T00:00:00.000000000",
          "2024-03-21T00:00:00.000000000",
          "2024-03-22T00:00:00.000000000",
          "2024-03-23T00:00:00.000000000",
          "2024-03-24T00:00:00.000000000",
          "2024-03-25T00:00:00.000000000",
          "2024-03-26T00:00:00.000000000",
          "2024-03-27T00:00:00.000000000",
          "2024-03-28T00:00:00.000000000",
          "2024-03-29T00:00:00.000000000",
          "2024-03-30T00:00:00.000000000",
          "2024-03-31T00:00:00.000000000",
          "2024-04-01T00:00:00.000000000",
          "2024-04-02T00:00:00.000000000",
          "2024-04-03T00:00:00.000000000",
          "2024-04-04T00:00:00.000000000",
          "2024-04-05T00:00:00.000000000",
          "2024-04-06T00:00:00.000000000",
          "2024-04-07T00:00:00.000000000",
          "2024-04-08T00:00:00.000000000",
          "2024-04-09T00:00:00.000000000",
          "2024-04-10T00:00:00.000000000",
          "2024-04-11T00:00:00.000000000",
          "2024-04-12T00:00:00.000000000",
          "2024-04-13T00:00:00.000000000",
          "2024-04-14T00:00:00.000000000",
          "2024-04-15T00:00:00.000000000",
          "2024-04-16T00:00:00.000000000",
          "2024-04-17T00:00:00.000000000",
          "2024-04-18T00:00:00.000000000",
          "2024-04-19T00:00:00.000000000",
          "2024-04-20T00:00:00.000000000",
          "2024-04-21T00:00:00.000000000",
          "2024-04-22T00:00:00.000000000",
          "2024-04-23T00:00:00.000000000",
          "2024-04-24T00:00:00.000000000",
          "2024-04-25T00:00:00.000000000",
          "2024-04-26T00:00:00.000000000",
          "2024-04-27T00:00:00.000000000",
          "2024-04-28T00:00:00.000000000",
          "2024-04-29T00:00:00.000000000",
          "2024-04-30T00:00:00.000000000",
          "2024-05-01T00:00:00.000000000",
          "2024-05-02T00:00:00.000000000",
          "2024-05-03T00:00:00.000000000",
          "2024-05-04T00:00:00.000000000",
          "2024-05-05T00:00:00.000000000",
          "2024-05-06T00:00:00.000000000",
          "2024-05-07T00:00:00.000000000",
          "2024-05-08T00:00:00.000000000",
          "2024-05-09T00:00:00.000000000",
          "2024-05-10T00:00:00.000000000",
          "2024-05-11T00:00:00.000000000",
          "2024-05-12T00:00:00.000000000",
          "2024-05-13T00:00:00.000000000",
          "2024-05-14T00:00:00.000000000",
          "2024-05-15T00:00:00.000000000",
          "2024-05-16T00:00:00.000000000",
          "2024-05-17T00:00:00.000000000",
          "2024-05-18T00:00:00.000000000",
          "2024-05-19T00:00:00.000000000",
          "2024-05-20T00:00:00.000000000",
          "2024-05-21T00:00:00.000000000",
          "2024-05-22T00:00:00.000000000",
          "2024-05-23T00:00:00.000000000",
          "2024-05-24T00:00:00.000000000",
          "2024-05-25T00:00:00.000000000",
          "2024-05-26T00:00:00.000000000",
          "2024-05-27T00:00:00.000000000",
          "2024-05-28T00:00:00.000000000",
          "2024-05-29T00:00:00.000000000",
          "2024-05-30T00:00:00.000000000",
          "2024-05-31T00:00:00.000000000",
          "2024-06-01T00:00:00.000000000",
          "2024-06-02T00:00:00.000000000",
          "2024-06-03T00:00:00.000000000",
          "2024-06-04T00:00:00.000000000",
          "2024-06-05T00:00:00.000000000",
          "2024-06-06T00:00:00.000000000",
          "2024-06-07T00:00:00.000000000",
          "2024-06-08T00:00:00.000000000",
          "2024-06-09T00:00:00.000000000",
          "2024-06-10T00:00:00.000000000",
          "2024-06-11T00:00:00.000000000",
          "2024-06-12T00:00:00.000000000",
          "2024-06-13T00:00:00.000000000",
          "2024-06-14T00:00:00.000000000",
          "2024-06-15T00:00:00.000000000",
          "2024-06-16T00:00:00.000000000",
          "2024-06-17T00:00:00.000000000",
          "2024-06-18T00:00:00.000000000",
          "2024-06-19T00:00:00.000000000",
          "2024-06-20T00:00:00.000000000",
          "2024-06-21T00:00:00.000000000",
          "2024-06-22T00:00:00.000000000",
          "2024-06-23T00:00:00.000000000",
          "2024-06-24T00:00:00.000000000",
          "2024-06-25T00:00:00.000000000",
          "2024-06-26T00:00:00.000000000",
          "2024-06-27T00:00:00.000000000",
          "2024-06-28T00:00:00.000000000",
          "2024-06-29T00:00:00.000000000",
          "2024-06-30T00:00:00.000000000",
          "2024-07-01T00:00:00.000000000",
          "2024-07-02T00:00:00.000000000",
          "2024-07-03T00:00:00.000000000",
          "2024-07-04T00:00:00.000000000",
          "2024-07-05T00:00:00.000000000",
          "2024-07-06T00:00:00.000000000",
          "2024-07-07T00:00:00.000000000",
          "2024-07-08T00:00:00.000000000",
          "2024-07-09T00:00:00.000000000",
          "2024-07-10T00:00:00.000000000",
          "2024-07-11T00:00:00.000000000",
          "2024-07-12T00:00:00.000000000",
          "2024-07-13T00:00:00.000000000",
          "2024-07-14T00:00:00.000000000",
          "2024-07-15T00:00:00.000000000",
          "2024-07-16T00:00:00.000000000",
          "2024-07-17T00:00:00.000000000",
          "2024-07-18T00:00:00.000000000",
          "2024-07-19T00:00:00.000000000",
          "2024-07-20T00:00:00.000000000",
          "2024-07-21T00:00:00.000000000",
          "2024-07-22T00:00:00.000000000",
          "2024-07-23T00:00:00.000000000",
          "2024-07-24T00:00:00.000000000",
          "2024-07-25T00:00:00.000000000",
          "2024-07-26T00:00:00.000000000",
          "2024-07-27T00:00:00.000000000",
          "2024-07-28T00:00:00.000000000",
          "2024-07-29T00:00:00.000000000",
          "2024-07-30T00:00:00.000000000",
          "2024-07-31T00:00:00.000000000",
          "2024-08-01T00:00:00.000000000",
          "2024-08-02T00:00:00.000000000",
          "2024-08-03T00:00:00.000000000",
          "2024-08-04T00:00:00.000000000",
          "2024-08-05T00:00:00.000000000",
          "2024-08-06T00:00:00.000000000",
          "2024-08-07T00:00:00.000000000",
          "2024-08-08T00:00:00.000000000",
          "2024-08-09T00:00:00.000000000",
          "2024-08-10T00:00:00.000000000",
          "2024-08-11T00:00:00.000000000",
          "2024-08-12T00:00:00.000000000",
          "2024-08-13T00:00:00.000000000",
          "2024-08-14T00:00:00.000000000",
          "2024-08-15T00:00:00.000000000",
          "2024-08-16T00:00:00.000000000",
          "2024-08-17T00:00:00.000000000",
          "2024-08-18T00:00:00.000000000",
          "2024-08-19T00:00:00.000000000",
          "2024-08-20T00:00:00.000000000",
          "2024-08-21T00:00:00.000000000",
          "2024-08-22T00:00:00.000000000",
          "2024-08-23T00:00:00.000000000",
          "2024-08-24T00:00:00.000000000",
          "2024-08-25T00:00:00.000000000",
          "2024-08-26T00:00:00.000000000",
          "2024-08-27T00:00:00.000000000",
          "2024-08-28T00:00:00.000000000",
          "2024-08-29T00:00:00.000000000",
          "2024-08-30T00:00:00.000000000",
          "2024-08-31T00:00:00.000000000",
          "2024-09-01T00:00:00.000000000",
          "2024-09-02T00:00:00.000000000",
          "2024-09-03T00:00:00.000000000",
          "2024-09-04T00:00:00.000000000",
          "2024-09-05T00:00:00.000000000",
          "2024-09-06T00:00:00.000000000",
          "2024-09-07T00:00:00.000000000",
          "2024-09-08T00:00:00.000000000",
          "2024-09-09T00:00:00.000000000",
          "2024-09-10T00:00:00.000000000",
          "2024-09-11T00:00:00.000000000",
          "2024-09-12T00:00:00.000000000",
          "2024-09-13T00:00:00.000000000",
          "2024-09-14T00:00:00.000000000",
          "2024-09-15T00:00:00.000000000",
          "2024-09-16T00:00:00.000000000",
          "2024-09-17T00:00:00.000000000",
          "2024-09-18T00:00:00.000000000",
          "2024-09-19T00:00:00.000000000",
          "2024-09-20T00:00:00.000000000",
          "2024-09-21T00:00:00.000000000",
          "2024-09-22T00:00:00.000000000",
          "2024-09-23T00:00:00.000000000",
          "2024-09-24T00:00:00.000000000",
          "2024-09-25T00:00:00.000000000",
          "2024-09-26T00:00:00.000000000",
          "2024-09-27T00:00:00.000000000",
          "2024-09-28T00:00:00.000000000",
          "2024-09-29T00:00:00.000000000",
          "2024-09-30T00:00:00.000000000",
          "2024-10-01T00:00:00.000000000",
          "2024-10-02T00:00:00.000000000",
          "2024-10-03T00:00:00.000000000",
          "2024-10-04T00:00:00.000000000",
          "2024-10-05T00:00:00.000000000",
          "2024-10-06T00:00:00.000000000",
          "2024-10-07T00:00:00.000000000",
          "2024-10-08T00:00:00.000000000",
          "2024-10-09T00:00:00.000000000",
          "2024-10-10T00:00:00.000000000",
          "2024-10-11T00:00:00.000000000",
          "2024-10-12T00:00:00.000000000",
          "2024-10-13T00:00:00.000000000",
          "2024-10-14T00:00:00.000000000",
          "2024-10-15T00:00:00.000000000",
          "2024-10-16T00:00:00.000000000",
          "2024-10-17T00:00:00.000000000",
          "2024-10-18T00:00:00.000000000",
          "2024-10-19T00:00:00.000000000",
          "2024-10-20T00:00:00.000000000",
          "2024-10-21T00:00:00.000000000",
          "2024-10-22T00:00:00.000000000",
          "2024-10-23T00:00:00.000000000",
          "2024-10-24T00:00:00.000000000",
          "2024-10-25T00:00:00.000000000",
          "2024-10-26T00:00:00.000000000",
          "2024-10-27T00:00:00.000000000",
          "2024-10-28T00:00:00.000000000",
          "2024-10-29T00:00:00.000000000",
          "2024-10-30T00:00:00.000000000",
          "2024-10-31T00:00:00.000000000",
          "2024-11-01T00:00:00.000000000",
          "2024-11-02T00:00:00.000000000",
          "2024-11-03T00:00:00.000000000",
          "2024-11-04T00:00:00.000000000",
          "2024-11-05T00:00:00.000000000",
          "2024-11-06T00:00:00.000000000",
          "2024-11-07T00:00:00.000000000",
          "2024-11-08T00:00:00.000000000",
          "2024-11-09T00:00:00.000000000",
          "2024-11-10T00:00:00.000000000",
          "2024-11-11T00:00:00.000000000",
          "2024-11-12T00:00:00.000000000",
          "2024-11-13T00:00:00.000000000",
          "2024-11-14T00:00:00.000000000",
          "2024-11-15T00:00:00.000000000",
          "2024-11-16T00:00:00.000000000",
          "2024-11-17T00:00:00.000000000",
          "2024-11-18T00:00:00.000000000",
          "2024-11-19T00:00:00.000000000",
          "2024-11-20T00:00:00.000000000",
          "2024-11-21T00:00:00.000000000",
          "2024-11-22T00:00:00.000000000",
          "2024-11-23T00:00:00.000000000",
          "2024-11-24T00:00:00.000000000",
          "2024-11-25T00:00:00.000000000",
          "2024-11-26T00:00:00.000000000",
          "2024-11-27T00:00:00.000000000",
          "2024-11-28T00:00:00.000000000",
          "2024-11-29T00:00:00.000000000",
          "2024-11-30T00:00:00.000000000",
          "2024-12-01T00:00:00.000000000",
          "2024-12-02T00:00:00.000000000",
          "2024-12-03T00:00:00.000000000",
          "2024-12-04T00:00:00.000000000",
          "2024-12-05T00:00:00.000000000",
          "2024-12-06T00:00:00.000000000",
          "2024-12-07T00:00:00.000000000",
          "2024-12-08T00:00:00.000000000",
          "2024-12-09T00:00:00.000000000",
          "2024-12-10T00:00:00.000000000",
          "2024-12-11T00:00:00.000000000",
          "2024-12-12T00:00:00.000000000",
          "2024-12-13T00:00:00.000000000",
          "2024-12-14T00:00:00.000000000",
          "2024-12-15T00:00:00.000000000",
          "2024-12-16T00:00:00.000000000",
          "2024-12-17T00:00:00.000000000",
          "2024-12-18T00:00:00.000000000",
          "2024-12-19T00:00:00.000000000",
          "2024-12-20T00:00:00.000000000",
          "2024-12-21T00:00:00.000000000",
          "2024-12-22T00:00:00.000000000",
          "2024-12-23T00:00:00.000000000",
          "2024-12-24T00:00:00.000000000",
          "2024-12-25T00:00:00.000000000",
          "2024-12-26T00:00:00.000000000",
          "2024-12-27T00:00:00.000000000",
          "2024-12-28T00:00:00.000000000",
          "2024-12-29T00:00:00.000000000",
          "2024-12-30T00:00:00.000000000",
          "2024-12-31T00:00:00.000000000",
          "2025-01-01T00:00:00.000000000",
          "2025-01-02T00:00:00.000000000",
          "2025-01-03T00:00:00.000000000",
          "2025-01-04T00:00:00.000000000",
          "2025-01-05T00:00:00.000000000",
          "2025-01-06T00:00:00.000000000",
          "2025-01-07T00:00:00.000000000",
          "2025-01-08T00:00:00.000000000",
          "2025-01-09T00:00:00.000000000",
          "2025-01-10T00:00:00.000000000",
          "2025-01-11T00:00:00.000000000",
          "2025-01-12T00:00:00.000000000",
          "2025-01-13T00:00:00.000000000",
          "2025-01-14T00:00:00.000000000",
          "2025-01-15T00:00:00.000000000",
          "2025-01-16T00:00:00.000000000",
          "2025-01-17T00:00:00.000000000",
          "2025-01-18T00:00:00.000000000",
          "2025-01-19T00:00:00.000000000",
          "2025-01-20T00:00:00.000000000",
          "2025-01-21T00:00:00.000000000",
          "2025-01-22T00:00:00.000000000",
          "2025-01-23T00:00:00.000000000",
          "2025-01-24T00:00:00.000000000",
          "2025-01-25T00:00:00.000000000",
          "2025-01-26T00:00:00.000000000",
          "2025-01-27T00:00:00.000000000",
          "2025-01-28T00:00:00.000000000",
          "2025-01-29T00:00:00.000000000",
          "2025-01-30T00:00:00.000000000",
          "2025-01-31T00:00:00.000000000",
          "2025-02-01T00:00:00.000000000",
          "2025-02-02T00:00:00.000000000",
          "2025-02-03T00:00:00.000000000",
          "2025-02-04T00:00:00.000000000",
          "2025-02-05T00:00:00.000000000",
          "2025-02-06T00:00:00.000000000",
          "2025-02-07T00:00:00.000000000",
          "2025-02-08T00:00:00.000000000",
          "2025-02-09T00:00:00.000000000",
          "2025-02-10T00:00:00.000000000",
          "2025-02-11T00:00:00.000000000",
          "2025-02-12T00:00:00.000000000",
          "2025-02-13T00:00:00.000000000",
          "2025-02-14T00:00:00.000000000",
          "2025-02-15T00:00:00.000000000",
          "2025-02-16T00:00:00.000000000",
          "2025-02-17T00:00:00.000000000",
          "2025-02-18T00:00:00.000000000",
          "2025-02-19T00:00:00.000000000",
          "2025-02-20T00:00:00.000000000",
          "2025-02-21T00:00:00.000000000",
          "2025-02-22T00:00:00.000000000",
          "2025-02-23T00:00:00.000000000",
          "2025-02-24T00:00:00.000000000",
          "2025-02-25T00:00:00.000000000",
          "2025-02-26T00:00:00.000000000",
          "2025-02-27T00:00:00.000000000",
          "2025-02-28T00:00:00.000000000",
          "2025-03-01T00:00:00.000000000",
          "2025-03-02T00:00:00.000000000",
          "2025-03-03T00:00:00.000000000",
          "2025-03-04T00:00:00.000000000",
          "2025-03-05T00:00:00.000000000",
          "2025-03-06T00:00:00.000000000",
          "2025-03-07T00:00:00.000000000",
          "2025-03-08T00:00:00.000000000",
          "2025-03-09T00:00:00.000000000",
          "2025-03-10T00:00:00.000000000",
          "2025-03-11T00:00:00.000000000",
          "2025-03-12T00:00:00.000000000",
          "2025-03-13T00:00:00.000000000",
          "2025-03-14T00:00:00.000000000",
          "2025-03-15T00:00:00.000000000",
          "2025-03-16T00:00:00.000000000",
          "2025-03-17T00:00:00.000000000",
          "2025-03-18T00:00:00.000000000",
          "2025-03-19T00:00:00.000000000",
          "2025-03-20T00:00:00.000000000",
          "2025-03-21T00:00:00.000000000",
          "2025-03-22T00:00:00.000000000",
          "2025-03-23T00:00:00.000000000",
          "2025-03-24T00:00:00.000000000",
          "2025-03-25T00:00:00.000000000",
          "2025-03-26T00:00:00.000000000",
          "2025-03-27T00:00:00.000000000",
          "2025-03-28T00:00:00.000000000",
          "2025-03-29T00:00:00.000000000",
          "2025-03-30T00:00:00.000000000",
          "2025-03-31T00:00:00.000000000",
          "2025-04-01T00:00:00.000000000",
          "2025-04-02T00:00:00.000000000"
         ],
         "y": {
          "bdata": "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",
          "dtype": "f8"
         }
        },
        {
         "marker": {
          "color": "red"
         },
         "name": "RMSE %",
         "opacity": 0.6,
         "type": "bar",
         "x": [
          "2023-04-25T00:00:00.000000000",
          "2023-04-26T00:00:00.000000000",
          "2023-04-27T00:00:00.000000000",
          "2023-04-28T00:00:00.000000000",
          "2023-04-29T00:00:00.000000000",
          "2023-04-30T00:00:00.000000000",
          "2023-05-01T00:00:00.000000000",
          "2023-05-02T00:00:00.000000000",
          "2023-05-03T00:00:00.000000000",
          "2023-05-04T00:00:00.000000000",
          "2023-05-05T00:00:00.000000000",
          "2023-05-06T00:00:00.000000000",
          "2023-05-07T00:00:00.000000000",
          "2023-05-08T00:00:00.000000000",
          "2023-05-09T00:00:00.000000000",
          "2023-05-10T00:00:00.000000000",
          "2023-05-11T00:00:00.000000000",
          "2023-05-12T00:00:00.000000000",
          "2023-05-13T00:00:00.000000000",
          "2023-05-14T00:00:00.000000000",
          "2023-05-15T00:00:00.000000000",
          "2023-05-16T00:00:00.000000000",
          "2023-05-17T00:00:00.000000000",
          "2023-05-18T00:00:00.000000000",
          "2023-05-19T00:00:00.000000000",
          "2023-05-20T00:00:00.000000000",
          "2023-05-21T00:00:00.000000000",
          "2023-05-22T00:00:00.000000000",
          "2023-05-23T00:00:00.000000000",
          "2023-05-24T00:00:00.000000000",
          "2023-05-25T00:00:00.000000000",
          "2023-05-26T00:00:00.000000000",
          "2023-05-27T00:00:00.000000000",
          "2023-05-28T00:00:00.000000000",
          "2023-05-29T00:00:00.000000000",
          "2023-05-30T00:00:00.000000000",
          "2023-05-31T00:00:00.000000000",
          "2023-06-01T00:00:00.000000000",
          "2023-06-02T00:00:00.000000000",
          "2023-06-03T00:00:00.000000000",
          "2023-06-04T00:00:00.000000000",
          "2023-06-05T00:00:00.000000000",
          "2023-06-06T00:00:00.000000000",
          "2023-06-07T00:00:00.000000000",
          "2023-06-08T00:00:00.000000000",
          "2023-06-09T00:00:00.000000000",
          "2023-06-10T00:00:00.000000000",
          "2023-06-11T00:00:00.000000000",
          "2023-06-12T00:00:00.000000000",
          "2023-06-13T00:00:00.000000000",
          "2023-06-14T00:00:00.000000000",
          "2023-06-15T00:00:00.000000000",
          "2023-06-16T00:00:00.000000000",
          "2023-06-17T00:00:00.000000000",
          "2023-06-18T00:00:00.000000000",
          "2023-06-19T00:00:00.000000000",
          "2023-06-20T00:00:00.000000000",
          "2023-06-21T00:00:00.000000000",
          "2023-06-22T00:00:00.000000000",
          "2023-06-23T00:00:00.000000000",
          "2023-06-24T00:00:00.000000000",
          "2023-06-25T00:00:00.000000000",
          "2023-06-26T00:00:00.000000000",
          "2023-06-27T00:00:00.000000000",
          "2023-06-28T00:00:00.000000000",
          "2023-06-29T00:00:00.000000000",
          "2023-06-30T00:00:00.000000000",
          "2023-07-01T00:00:00.000000000",
          "2023-07-02T00:00:00.000000000",
          "2023-07-03T00:00:00.000000000",
          "2023-07-04T00:00:00.000000000",
          "2023-07-05T00:00:00.000000000",
          "2023-07-06T00:00:00.000000000",
          "2023-07-07T00:00:00.000000000",
          "2023-07-08T00:00:00.000000000",
          "2023-07-09T00:00:00.000000000",
          "2023-07-10T00:00:00.000000000",
          "2023-07-11T00:00:00.000000000",
          "2023-07-12T00:00:00.000000000",
          "2023-07-13T00:00:00.000000000",
          "2023-07-14T00:00:00.000000000",
          "2023-07-15T00:00:00.000000000",
          "2023-07-16T00:00:00.000000000",
          "2023-07-17T00:00:00.000000000",
          "2023-07-18T00:00:00.000000000",
          "2023-07-19T00:00:00.000000000",
          "2023-07-20T00:00:00.000000000",
          "2023-07-21T00:00:00.000000000",
          "2023-07-22T00:00:00.000000000",
          "2023-07-23T00:00:00.000000000",
          "2023-07-24T00:00:00.000000000",
          "2023-07-25T00:00:00.000000000",
          "2023-07-26T00:00:00.000000000",
          "2023-07-27T00:00:00.000000000",
          "2023-07-28T00:00:00.000000000",
          "2023-07-29T00:00:00.000000000",
          "2023-07-30T00:00:00.000000000",
          "2023-07-31T00:00:00.000000000",
          "2023-08-01T00:00:00.000000000",
          "2023-08-02T00:00:00.000000000",
          "2023-08-03T00:00:00.000000000",
          "2023-08-04T00:00:00.000000000",
          "2023-08-05T00:00:00.000000000",
          "2023-08-06T00:00:00.000000000",
          "2023-08-07T00:00:00.000000000",
          "2023-08-08T00:00:00.000000000",
          "2023-08-09T00:00:00.000000000",
          "2023-08-10T00:00:00.000000000",
          "2023-08-11T00:00:00.000000000",
          "2023-08-12T00:00:00.000000000",
          "2023-08-13T00:00:00.000000000",
          "2023-08-14T00:00:00.000000000",
          "2023-08-15T00:00:00.000000000",
          "2023-08-16T00:00:00.000000000",
          "2023-08-17T00:00:00.000000000",
          "2023-08-18T00:00:00.000000000",
          "2023-08-19T00:00:00.000000000",
          "2023-08-20T00:00:00.000000000",
          "2023-08-21T00:00:00.000000000",
          "2023-08-22T00:00:00.000000000",
          "2023-08-23T00:00:00.000000000",
          "2023-08-24T00:00:00.000000000",
          "2023-08-25T00:00:00.000000000",
          "2023-08-26T00:00:00.000000000",
          "2023-08-27T00:00:00.000000000",
          "2023-08-28T00:00:00.000000000",
          "2023-08-29T00:00:00.000000000",
          "2023-08-30T00:00:00.000000000",
          "2023-08-31T00:00:00.000000000",
          "2023-09-01T00:00:00.000000000",
          "2023-09-02T00:00:00.000000000",
          "2023-09-03T00:00:00.000000000",
          "2023-09-04T00:00:00.000000000",
          "2023-09-05T00:00:00.000000000",
          "2023-09-06T00:00:00.000000000",
          "2023-09-07T00:00:00.000000000",
          "2023-09-08T00:00:00.000000000",
          "2023-09-09T00:00:00.000000000",
          "2023-09-10T00:00:00.000000000",
          "2023-09-11T00:00:00.000000000",
          "2023-09-12T00:00:00.000000000",
          "2023-09-13T00:00:00.000000000",
          "2023-09-14T00:00:00.000000000",
          "2023-09-15T00:00:00.000000000",
          "2023-09-16T00:00:00.000000000",
          "2023-09-17T00:00:00.000000000",
          "2023-09-18T00:00:00.000000000",
          "2023-09-19T00:00:00.000000000",
          "2023-09-20T00:00:00.000000000",
          "2023-09-21T00:00:00.000000000",
          "2023-09-22T00:00:00.000000000",
          "2023-09-23T00:00:00.000000000",
          "2023-09-24T00:00:00.000000000",
          "2023-09-25T00:00:00.000000000",
          "2023-09-26T00:00:00.000000000",
          "2023-09-27T00:00:00.000000000",
          "2023-09-28T00:00:00.000000000",
          "2023-09-29T00:00:00.000000000",
          "2023-09-30T00:00:00.000000000",
          "2023-10-01T00:00:00.000000000",
          "2023-10-02T00:00:00.000000000",
          "2023-10-03T00:00:00.000000000",
          "2023-10-04T00:00:00.000000000",
          "2023-10-05T00:00:00.000000000",
          "2023-10-06T00:00:00.000000000",
          "2023-10-07T00:00:00.000000000",
          "2023-10-08T00:00:00.000000000",
          "2023-10-09T00:00:00.000000000",
          "2023-10-10T00:00:00.000000000",
          "2023-10-11T00:00:00.000000000",
          "2023-10-12T00:00:00.000000000",
          "2023-10-13T00:00:00.000000000",
          "2023-10-14T00:00:00.000000000",
          "2023-10-15T00:00:00.000000000",
          "2023-10-16T00:00:00.000000000",
          "2023-10-17T00:00:00.000000000",
          "2023-10-18T00:00:00.000000000",
          "2023-10-19T00:00:00.000000000",
          "2023-10-20T00:00:00.000000000",
          "2023-10-21T00:00:00.000000000",
          "2023-10-22T00:00:00.000000000",
          "2023-10-23T00:00:00.000000000",
          "2023-10-24T00:00:00.000000000",
          "2023-10-25T00:00:00.000000000",
          "2023-10-26T00:00:00.000000000",
          "2023-10-27T00:00:00.000000000",
          "2023-10-28T00:00:00.000000000",
          "2023-10-29T00:00:00.000000000",
          "2023-10-30T00:00:00.000000000",
          "2023-10-31T00:00:00.000000000",
          "2023-11-01T00:00:00.000000000",
          "2023-11-02T00:00:00.000000000",
          "2023-11-03T00:00:00.000000000",
          "2023-11-04T00:00:00.000000000",
          "2023-11-05T00:00:00.000000000",
          "2023-11-06T00:00:00.000000000",
          "2023-11-07T00:00:00.000000000",
          "2023-11-08T00:00:00.000000000",
          "2023-11-09T00:00:00.000000000",
          "2023-11-10T00:00:00.000000000",
          "2023-11-11T00:00:00.000000000",
          "2023-11-12T00:00:00.000000000",
          "2023-11-13T00:00:00.000000000",
          "2023-11-14T00:00:00.000000000",
          "2023-11-15T00:00:00.000000000",
          "2023-11-16T00:00:00.000000000",
          "2023-11-17T00:00:00.000000000",
          "2023-11-18T00:00:00.000000000",
          "2023-11-19T00:00:00.000000000",
          "2023-11-20T00:00:00.000000000",
          "2023-11-21T00:00:00.000000000",
          "2023-11-22T00:00:00.000000000",
          "2023-11-23T00:00:00.000000000",
          "2023-11-24T00:00:00.000000000",
          "2023-11-25T00:00:00.000000000",
          "2023-11-26T00:00:00.000000000",
          "2023-11-27T00:00:00.000000000",
          "2023-11-28T00:00:00.000000000",
          "2023-11-29T00:00:00.000000000",
          "2023-11-30T00:00:00.000000000",
          "2023-12-01T00:00:00.000000000",
          "2023-12-02T00:00:00.000000000",
          "2023-12-03T00:00:00.000000000",
          "2023-12-04T00:00:00.000000000",
          "2023-12-05T00:00:00.000000000",
          "2023-12-06T00:00:00.000000000",
          "2023-12-07T00:00:00.000000000",
          "2023-12-08T00:00:00.000000000",
          "2023-12-09T00:00:00.000000000",
          "2023-12-10T00:00:00.000000000",
          "2023-12-11T00:00:00.000000000",
          "2023-12-12T00:00:00.000000000",
          "2023-12-13T00:00:00.000000000",
          "2023-12-14T00:00:00.000000000",
          "2023-12-15T00:00:00.000000000",
          "2023-12-16T00:00:00.000000000",
          "2023-12-17T00:00:00.000000000",
          "2023-12-18T00:00:00.000000000",
          "2023-12-19T00:00:00.000000000",
          "2023-12-20T00:00:00.000000000",
          "2023-12-21T00:00:00.000000000",
          "2023-12-22T00:00:00.000000000",
          "2023-12-23T00:00:00.000000000",
          "2023-12-24T00:00:00.000000000",
          "2023-12-25T00:00:00.000000000",
          "2023-12-26T00:00:00.000000000",
          "2023-12-27T00:00:00.000000000",
          "2023-12-28T00:00:00.000000000",
          "2023-12-29T00:00:00.000000000",
          "2023-12-30T00:00:00.000000000",
          "2023-12-31T00:00:00.000000000",
          "2024-01-01T00:00:00.000000000",
          "2024-01-02T00:00:00.000000000",
          "2024-01-03T00:00:00.000000000",
          "2024-01-04T00:00:00.000000000",
          "2024-01-05T00:00:00.000000000",
          "2024-01-06T00:00:00.000000000",
          "2024-01-07T00:00:00.000000000",
          "2024-01-08T00:00:00.000000000",
          "2024-01-09T00:00:00.000000000",
          "2024-01-10T00:00:00.000000000",
          "2024-01-11T00:00:00.000000000",
          "2024-01-12T00:00:00.000000000",
          "2024-01-13T00:00:00.000000000",
          "2024-01-14T00:00:00.000000000",
          "2024-01-15T00:00:00.000000000",
          "2024-01-16T00:00:00.000000000",
          "2024-01-17T00:00:00.000000000",
          "2024-01-18T00:00:00.000000000",
          "2024-01-19T00:00:00.000000000",
          "2024-01-20T00:00:00.000000000",
          "2024-01-21T00:00:00.000000000",
          "2024-01-22T00:00:00.000000000",
          "2024-01-23T00:00:00.000000000",
          "2024-01-24T00:00:00.000000000",
          "2024-01-25T00:00:00.000000000",
          "2024-01-26T00:00:00.000000000",
          "2024-01-27T00:00:00.000000000",
          "2024-01-28T00:00:00.000000000",
          "2024-01-29T00:00:00.000000000",
          "2024-01-30T00:00:00.000000000",
          "2024-01-31T00:00:00.000000000",
          "2024-02-01T00:00:00.000000000",
          "2024-02-02T00:00:00.000000000",
          "2024-02-03T00:00:00.000000000",
          "2024-02-04T00:00:00.000000000",
          "2024-02-05T00:00:00.000000000",
          "2024-02-06T00:00:00.000000000",
          "2024-02-07T00:00:00.000000000",
          "2024-02-08T00:00:00.000000000",
          "2024-02-09T00:00:00.000000000",
          "2024-02-10T00:00:00.000000000",
          "2024-02-11T00:00:00.000000000",
          "2024-02-12T00:00:00.000000000",
          "2024-02-13T00:00:00.000000000",
          "2024-02-14T00:00:00.000000000",
          "2024-02-15T00:00:00.000000000",
          "2024-02-16T00:00:00.000000000",
          "2024-02-17T00:00:00.000000000",
          "2024-02-18T00:00:00.000000000",
          "2024-02-19T00:00:00.000000000",
          "2024-02-20T00:00:00.000000000",
          "2024-02-21T00:00:00.000000000",
          "2024-02-22T00:00:00.000000000",
          "2024-02-23T00:00:00.000000000",
          "2024-02-24T00:00:00.000000000",
          "2024-02-25T00:00:00.000000000",
          "2024-02-26T00:00:00.000000000",
          "2024-02-27T00:00:00.000000000",
          "2024-02-28T00:00:00.000000000",
          "2024-02-29T00:00:00.000000000",
          "2024-03-01T00:00:00.000000000",
          "2024-03-02T00:00:00.000000000",
          "2024-03-03T00:00:00.000000000",
          "2024-03-04T00:00:00.000000000",
          "2024-03-05T00:00:00.000000000",
          "2024-03-06T00:00:00.000000000",
          "2024-03-07T00:00:00.000000000",
          "2024-03-08T00:00:00.000000000",
          "2024-03-09T00:00:00.000000000",
          "2024-03-10T00:00:00.000000000",
          "2024-03-11T00:00:00.000000000",
          "2024-03-12T00:00:00.000000000",
          "2024-03-13T00:00:00.000000000",
          "2024-03-14T00:00:00.000000000",
          "2024-03-15T00:00:00.000000000",
          "2024-03-16T00:00:00.000000000",
          "2024-03-17T00:00:00.000000000",
          "2024-03-18T00:00:00.000000000",
          "2024-03-19T00:00:00.000000000",
          "2024-03-20T00:00:00.000000000",
          "2024-03-21T00:00:00.000000000",
          "2024-03-22T00:00:00.000000000",
          "2024-03-23T00:00:00.000000000",
          "2024-03-24T00:00:00.000000000",
          "2024-03-25T00:00:00.000000000",
          "2024-03-26T00:00:00.000000000",
          "2024-03-27T00:00:00.000000000",
          "2024-03-28T00:00:00.000000000",
          "2024-03-29T00:00:00.000000000",
          "2024-03-30T00:00:00.000000000",
          "2024-03-31T00:00:00.000000000",
          "2024-04-01T00:00:00.000000000",
          "2024-04-02T00:00:00.000000000",
          "2024-04-03T00:00:00.000000000",
          "2024-04-04T00:00:00.000000000",
          "2024-04-05T00:00:00.000000000",
          "2024-04-06T00:00:00.000000000",
          "2024-04-07T00:00:00.000000000",
          "2024-04-08T00:00:00.000000000",
          "2024-04-09T00:00:00.000000000",
          "2024-04-10T00:00:00.000000000",
          "2024-04-11T00:00:00.000000000",
          "2024-04-12T00:00:00.000000000",
          "2024-04-13T00:00:00.000000000",
          "2024-04-14T00:00:00.000000000",
          "2024-04-15T00:00:00.000000000",
          "2024-04-16T00:00:00.000000000",
          "2024-04-17T00:00:00.000000000",
          "2024-04-18T00:00:00.000000000",
          "2024-04-19T00:00:00.000000000",
          "2024-04-20T00:00:00.000000000",
          "2024-04-21T00:00:00.000000000",
          "2024-04-22T00:00:00.000000000",
          "2024-04-23T00:00:00.000000000",
          "2024-04-24T00:00:00.000000000",
          "2024-04-25T00:00:00.000000000",
          "2024-04-26T00:00:00.000000000",
          "2024-04-27T00:00:00.000000000",
          "2024-04-28T00:00:00.000000000",
          "2024-04-29T00:00:00.000000000",
          "2024-04-30T00:00:00.000000000",
          "2024-05-01T00:00:00.000000000",
          "2024-05-02T00:00:00.000000000",
          "2024-05-03T00:00:00.000000000",
          "2024-05-04T00:00:00.000000000",
          "2024-05-05T00:00:00.000000000",
          "2024-05-06T00:00:00.000000000",
          "2024-05-07T00:00:00.000000000",
          "2024-05-08T00:00:00.000000000",
          "2024-05-09T00:00:00.000000000",
          "2024-05-10T00:00:00.000000000",
          "2024-05-11T00:00:00.000000000",
          "2024-05-12T00:00:00.000000000",
          "2024-05-13T00:00:00.000000000",
          "2024-05-14T00:00:00.000000000",
          "2024-05-15T00:00:00.000000000",
          "2024-05-16T00:00:00.000000000",
          "2024-05-17T00:00:00.000000000",
          "2024-05-18T00:00:00.000000000",
          "2024-05-19T00:00:00.000000000",
          "2024-05-20T00:00:00.000000000",
          "2024-05-21T00:00:00.000000000",
          "2024-05-22T00:00:00.000000000",
          "2024-05-23T00:00:00.000000000",
          "2024-05-24T00:00:00.000000000",
          "2024-05-25T00:00:00.000000000",
          "2024-05-26T00:00:00.000000000",
          "2024-05-27T00:00:00.000000000",
          "2024-05-28T00:00:00.000000000",
          "2024-05-29T00:00:00.000000000",
          "2024-05-30T00:00:00.000000000",
          "2024-05-31T00:00:00.000000000",
          "2024-06-01T00:00:00.000000000",
          "2024-06-02T00:00:00.000000000",
          "2024-06-03T00:00:00.000000000",
          "2024-06-04T00:00:00.000000000",
          "2024-06-05T00:00:00.000000000",
          "2024-06-06T00:00:00.000000000",
          "2024-06-07T00:00:00.000000000",
          "2024-06-08T00:00:00.000000000",
          "2024-06-09T00:00:00.000000000",
          "2024-06-10T00:00:00.000000000",
          "2024-06-11T00:00:00.000000000",
          "2024-06-12T00:00:00.000000000",
          "2024-06-13T00:00:00.000000000",
          "2024-06-14T00:00:00.000000000",
          "2024-06-15T00:00:00.000000000",
          "2024-06-16T00:00:00.000000000",
          "2024-06-17T00:00:00.000000000",
          "2024-06-18T00:00:00.000000000",
          "2024-06-19T00:00:00.000000000",
          "2024-06-20T00:00:00.000000000",
          "2024-06-21T00:00:00.000000000",
          "2024-06-22T00:00:00.000000000",
          "2024-06-23T00:00:00.000000000",
          "2024-06-24T00:00:00.000000000",
          "2024-06-25T00:00:00.000000000",
          "2024-06-26T00:00:00.000000000",
          "2024-06-27T00:00:00.000000000",
          "2024-06-28T00:00:00.000000000",
          "2024-06-29T00:00:00.000000000",
          "2024-06-30T00:00:00.000000000",
          "2024-07-01T00:00:00.000000000",
          "2024-07-02T00:00:00.000000000",
          "2024-07-03T00:00:00.000000000",
          "2024-07-04T00:00:00.000000000",
          "2024-07-05T00:00:00.000000000",
          "2024-07-06T00:00:00.000000000",
          "2024-07-07T00:00:00.000000000",
          "2024-07-08T00:00:00.000000000",
          "2024-07-09T00:00:00.000000000",
          "2024-07-10T00:00:00.000000000",
          "2024-07-11T00:00:00.000000000",
          "2024-07-12T00:00:00.000000000",
          "2024-07-13T00:00:00.000000000",
          "2024-07-14T00:00:00.000000000",
          "2024-07-15T00:00:00.000000000",
          "2024-07-16T00:00:00.000000000",
          "2024-07-17T00:00:00.000000000",
          "2024-07-18T00:00:00.000000000",
          "2024-07-19T00:00:00.000000000",
          "2024-07-20T00:00:00.000000000",
          "2024-07-21T00:00:00.000000000",
          "2024-07-22T00:00:00.000000000",
          "2024-07-23T00:00:00.000000000",
          "2024-07-24T00:00:00.000000000",
          "2024-07-25T00:00:00.000000000",
          "2024-07-26T00:00:00.000000000",
          "2024-07-27T00:00:00.000000000",
          "2024-07-28T00:00:00.000000000",
          "2024-07-29T00:00:00.000000000",
          "2024-07-30T00:00:00.000000000",
          "2024-07-31T00:00:00.000000000",
          "2024-08-01T00:00:00.000000000",
          "2024-08-02T00:00:00.000000000",
          "2024-08-03T00:00:00.000000000",
          "2024-08-04T00:00:00.000000000",
          "2024-08-05T00:00:00.000000000",
          "2024-08-06T00:00:00.000000000",
          "2024-08-07T00:00:00.000000000",
          "2024-08-08T00:00:00.000000000",
          "2024-08-09T00:00:00.000000000",
          "2024-08-10T00:00:00.000000000",
          "2024-08-11T00:00:00.000000000",
          "2024-08-12T00:00:00.000000000",
          "2024-08-13T00:00:00.000000000",
          "2024-08-14T00:00:00.000000000",
          "2024-08-15T00:00:00.000000000",
          "2024-08-16T00:00:00.000000000",
          "2024-08-17T00:00:00.000000000",
          "2024-08-18T00:00:00.000000000",
          "2024-08-19T00:00:00.000000000",
          "2024-08-20T00:00:00.000000000",
          "2024-08-21T00:00:00.000000000",
          "2024-08-22T00:00:00.000000000",
          "2024-08-23T00:00:00.000000000",
          "2024-08-24T00:00:00.000000000",
          "2024-08-25T00:00:00.000000000",
          "2024-08-26T00:00:00.000000000",
          "2024-08-27T00:00:00.000000000",
          "2024-08-28T00:00:00.000000000",
          "2024-08-29T00:00:00.000000000",
          "2024-08-30T00:00:00.000000000",
          "2024-08-31T00:00:00.000000000",
          "2024-09-01T00:00:00.000000000",
          "2024-09-02T00:00:00.000000000",
          "2024-09-03T00:00:00.000000000",
          "2024-09-04T00:00:00.000000000",
          "2024-09-05T00:00:00.000000000",
          "2024-09-06T00:00:00.000000000",
          "2024-09-07T00:00:00.000000000",
          "2024-09-08T00:00:00.000000000",
          "2024-09-09T00:00:00.000000000",
          "2024-09-10T00:00:00.000000000",
          "2024-09-11T00:00:00.000000000",
          "2024-09-12T00:00:00.000000000",
          "2024-09-13T00:00:00.000000000",
          "2024-09-14T00:00:00.000000000",
          "2024-09-15T00:00:00.000000000",
          "2024-09-16T00:00:00.000000000",
          "2024-09-17T00:00:00.000000000",
          "2024-09-18T00:00:00.000000000",
          "2024-09-19T00:00:00.000000000",
          "2024-09-20T00:00:00.000000000",
          "2024-09-21T00:00:00.000000000",
          "2024-09-22T00:00:00.000000000",
          "2024-09-23T00:00:00.000000000",
          "2024-09-24T00:00:00.000000000",
          "2024-09-25T00:00:00.000000000",
          "2024-09-26T00:00:00.000000000",
          "2024-09-27T00:00:00.000000000",
          "2024-09-28T00:00:00.000000000",
          "2024-09-29T00:00:00.000000000",
          "2024-09-30T00:00:00.000000000",
          "2024-10-01T00:00:00.000000000",
          "2024-10-02T00:00:00.000000000",
          "2024-10-03T00:00:00.000000000",
          "2024-10-04T00:00:00.000000000",
          "2024-10-05T00:00:00.000000000",
          "2024-10-06T00:00:00.000000000",
          "2024-10-07T00:00:00.000000000",
          "2024-10-08T00:00:00.000000000",
          "2024-10-09T00:00:00.000000000",
          "2024-10-10T00:00:00.000000000",
          "2024-10-11T00:00:00.000000000",
          "2024-10-12T00:00:00.000000000",
          "2024-10-13T00:00:00.000000000",
          "2024-10-14T00:00:00.000000000",
          "2024-10-15T00:00:00.000000000",
          "2024-10-16T00:00:00.000000000",
          "2024-10-17T00:00:00.000000000",
          "2024-10-18T00:00:00.000000000",
          "2024-10-19T00:00:00.000000000",
          "2024-10-20T00:00:00.000000000",
          "2024-10-21T00:00:00.000000000",
          "2024-10-22T00:00:00.000000000",
          "2024-10-23T00:00:00.000000000",
          "2024-10-24T00:00:00.000000000",
          "2024-10-25T00:00:00.000000000",
          "2024-10-26T00:00:00.000000000",
          "2024-10-27T00:00:00.000000000",
          "2024-10-28T00:00:00.000000000",
          "2024-10-29T00:00:00.000000000",
          "2024-10-30T00:00:00.000000000",
          "2024-10-31T00:00:00.000000000",
          "2024-11-01T00:00:00.000000000",
          "2024-11-02T00:00:00.000000000",
          "2024-11-03T00:00:00.000000000",
          "2024-11-04T00:00:00.000000000",
          "2024-11-05T00:00:00.000000000",
          "2024-11-06T00:00:00.000000000",
          "2024-11-07T00:00:00.000000000",
          "2024-11-08T00:00:00.000000000",
          "2024-11-09T00:00:00.000000000",
          "2024-11-10T00:00:00.000000000",
          "2024-11-11T00:00:00.000000000",
          "2024-11-12T00:00:00.000000000",
          "2024-11-13T00:00:00.000000000",
          "2024-11-14T00:00:00.000000000",
          "2024-11-15T00:00:00.000000000",
          "2024-11-16T00:00:00.000000000",
          "2024-11-17T00:00:00.000000000",
          "2024-11-18T00:00:00.000000000",
          "2024-11-19T00:00:00.000000000",
          "2024-11-20T00:00:00.000000000",
          "2024-11-21T00:00:00.000000000",
          "2024-11-22T00:00:00.000000000",
          "2024-11-23T00:00:00.000000000",
          "2024-11-24T00:00:00.000000000",
          "2024-11-25T00:00:00.000000000",
          "2024-11-26T00:00:00.000000000",
          "2024-11-27T00:00:00.000000000",
          "2024-11-28T00:00:00.000000000",
          "2024-11-29T00:00:00.000000000",
          "2024-11-30T00:00:00.000000000",
          "2024-12-01T00:00:00.000000000",
          "2024-12-02T00:00:00.000000000",
          "2024-12-03T00:00:00.000000000",
          "2024-12-04T00:00:00.000000000",
          "2024-12-05T00:00:00.000000000",
          "2024-12-06T00:00:00.000000000",
          "2024-12-07T00:00:00.000000000",
          "2024-12-08T00:00:00.000000000",
          "2024-12-09T00:00:00.000000000",
          "2024-12-10T00:00:00.000000000",
          "2024-12-11T00:00:00.000000000",
          "2024-12-12T00:00:00.000000000",
          "2024-12-13T00:00:00.000000000",
          "2024-12-14T00:00:00.000000000",
          "2024-12-15T00:00:00.000000000",
          "2024-12-16T00:00:00.000000000",
          "2024-12-17T00:00:00.000000000",
          "2024-12-18T00:00:00.000000000",
          "2024-12-19T00:00:00.000000000",
          "2024-12-20T00:00:00.000000000",
          "2024-12-21T00:00:00.000000000",
          "2024-12-22T00:00:00.000000000",
          "2024-12-23T00:00:00.000000000",
          "2024-12-24T00:00:00.000000000",
          "2024-12-25T00:00:00.000000000",
          "2024-12-26T00:00:00.000000000",
          "2024-12-27T00:00:00.000000000",
          "2024-12-28T00:00:00.000000000",
          "2024-12-29T00:00:00.000000000",
          "2024-12-30T00:00:00.000000000",
          "2024-12-31T00:00:00.000000000",
          "2025-01-01T00:00:00.000000000",
          "2025-01-02T00:00:00.000000000",
          "2025-01-03T00:00:00.000000000",
          "2025-01-04T00:00:00.000000000",
          "2025-01-05T00:00:00.000000000",
          "2025-01-06T00:00:00.000000000",
          "2025-01-07T00:00:00.000000000",
          "2025-01-08T00:00:00.000000000",
          "2025-01-09T00:00:00.000000000",
          "2025-01-10T00:00:00.000000000",
          "2025-01-11T00:00:00.000000000",
          "2025-01-12T00:00:00.000000000",
          "2025-01-13T00:00:00.000000000",
          "2025-01-14T00:00:00.000000000",
          "2025-01-15T00:00:00.000000000",
          "2025-01-16T00:00:00.000000000",
          "2025-01-17T00:00:00.000000000",
          "2025-01-18T00:00:00.000000000",
          "2025-01-19T00:00:00.000000000",
          "2025-01-20T00:00:00.000000000",
          "2025-01-21T00:00:00.000000000",
          "2025-01-22T00:00:00.000000000",
          "2025-01-23T00:00:00.000000000",
          "2025-01-24T00:00:00.000000000",
          "2025-01-25T00:00:00.000000000",
          "2025-01-26T00:00:00.000000000",
          "2025-01-27T00:00:00.000000000",
          "2025-01-28T00:00:00.000000000",
          "2025-01-29T00:00:00.000000000",
          "2025-01-30T00:00:00.000000000",
          "2025-01-31T00:00:00.000000000",
          "2025-02-01T00:00:00.000000000",
          "2025-02-02T00:00:00.000000000",
          "2025-02-03T00:00:00.000000000",
          "2025-02-04T00:00:00.000000000",
          "2025-02-05T00:00:00.000000000",
          "2025-02-06T00:00:00.000000000",
          "2025-02-07T00:00:00.000000000",
          "2025-02-08T00:00:00.000000000",
          "2025-02-09T00:00:00.000000000",
          "2025-02-10T00:00:00.000000000",
          "2025-02-11T00:00:00.000000000",
          "2025-02-12T00:00:00.000000000",
          "2025-02-13T00:00:00.000000000",
          "2025-02-14T00:00:00.000000000",
          "2025-02-15T00:00:00.000000000",
          "2025-02-16T00:00:00.000000000",
          "2025-02-17T00:00:00.000000000",
          "2025-02-18T00:00:00.000000000",
          "2025-02-19T00:00:00.000000000",
          "2025-02-20T00:00:00.000000000",
          "2025-02-21T00:00:00.000000000",
          "2025-02-22T00:00:00.000000000",
          "2025-02-23T00:00:00.000000000",
          "2025-02-24T00:00:00.000000000",
          "2025-02-25T00:00:00.000000000",
          "2025-02-26T00:00:00.000000000",
          "2025-02-27T00:00:00.000000000",
          "2025-02-28T00:00:00.000000000",
          "2025-03-01T00:00:00.000000000",
          "2025-03-02T00:00:00.000000000",
          "2025-03-03T00:00:00.000000000",
          "2025-03-04T00:00:00.000000000",
          "2025-03-05T00:00:00.000000000",
          "2025-03-06T00:00:00.000000000",
          "2025-03-07T00:00:00.000000000",
          "2025-03-08T00:00:00.000000000",
          "2025-03-09T00:00:00.000000000",
          "2025-03-10T00:00:00.000000000",
          "2025-03-11T00:00:00.000000000",
          "2025-03-12T00:00:00.000000000",
          "2025-03-13T00:00:00.000000000",
          "2025-03-14T00:00:00.000000000",
          "2025-03-15T00:00:00.000000000",
          "2025-03-16T00:00:00.000000000",
          "2025-03-17T00:00:00.000000000",
          "2025-03-18T00:00:00.000000000",
          "2025-03-19T00:00:00.000000000",
          "2025-03-20T00:00:00.000000000",
          "2025-03-21T00:00:00.000000000",
          "2025-03-22T00:00:00.000000000",
          "2025-03-23T00:00:00.000000000",
          "2025-03-24T00:00:00.000000000",
          "2025-03-25T00:00:00.000000000",
          "2025-03-26T00:00:00.000000000",
          "2025-03-27T00:00:00.000000000",
          "2025-03-28T00:00:00.000000000",
          "2025-03-29T00:00:00.000000000",
          "2025-03-30T00:00:00.000000000",
          "2025-03-31T00:00:00.000000000",
          "2025-04-01T00:00:00.000000000",
          "2025-04-02T00:00:00.000000000"
         ],
         "y": {
          "bdata": "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",
          "dtype": "f8"
         }
        }
       ],
       "layout": {
        "annotations": [
         {
          "showarrow": false,
          "text": "3% Error Threshold",
          "x": 0,
          "xanchor": "left",
          "xref": "x domain",
          "y": 3,
          "yanchor": "bottom",
          "yref": "y"
         }
        ],
        "barmode": "overlay",
        "height": 500,
        "shapes": [
         {
          "line": {
           "color": "black",
           "dash": "dash"
          },
          "type": "line",
          "x0": 0,
          "x1": 1,
          "xref": "x domain",
          "y0": 3,
          "y1": 3,
          "yref": "y"
         }
        ],
        "template": {
         "data": {
          "bar": [
           {
            "error_x": {
             "color": "#2a3f5f"
            },
            "error_y": {
             "color": "#2a3f5f"
            },
            "marker": {
             "line": {
              "color": "white",
              "width": 0.5
             },
             "pattern": {
              "fillmode": "overlay",
              "size": 10,
              "solidity": 0.2
             }
            },
            "type": "bar"
           }
          ],
          "barpolar": [
           {
            "marker": {
             "line": {
              "color": "white",
              "width": 0.5
             },
             "pattern": {
              "fillmode": "overlay",
              "size": 10,
              "solidity": 0.2
             }
            },
            "type": "barpolar"
           }
          ],
          "carpet": [
           {
            "aaxis": {
             "endlinecolor": "#2a3f5f",
             "gridcolor": "#C8D4E3",
             "linecolor": "#C8D4E3",
             "minorgridcolor": "#C8D4E3",
             "startlinecolor": "#2a3f5f"
            },
            "baxis": {
             "endlinecolor": "#2a3f5f",
             "gridcolor": "#C8D4E3",
             "linecolor": "#C8D4E3",
             "minorgridcolor": "#C8D4E3",
             "startlinecolor": "#2a3f5f"
            },
            "type": "carpet"
           }
          ],
          "choropleth": [
           {
            "colorbar": {
             "outlinewidth": 0,
             "ticks": ""
            },
            "type": "choropleth"
           }
          ],
          "contour": [
           {
            "colorbar": {
             "outlinewidth": 0,
             "ticks": ""
            },
            "colorscale": [
             [
              0,
              "#0d0887"
             ],
             [
              0.1111111111111111,
              "#46039f"
             ],
             [
              0.2222222222222222,
              "#7201a8"
             ],
             [
              0.3333333333333333,
              "#9c179e"
             ],
             [
              0.4444444444444444,
              "#bd3786"
             ],
             [
              0.5555555555555556,
              "#d8576b"
             ],
             [
              0.6666666666666666,
              "#ed7953"
             ],
             [
              0.7777777777777778,
              "#fb9f3a"
             ],
             [
              0.8888888888888888,
              "#fdca26"
             ],
             [
              1,
              "#f0f921"
             ]
            ],
            "type": "contour"
           }
          ],
          "contourcarpet": [
           {
            "colorbar": {
             "outlinewidth": 0,
             "ticks": ""
            },
            "type": "contourcarpet"
           }
          ],
          "heatmap": [
           {
            "colorbar": {
             "outlinewidth": 0,
             "ticks": ""
            },
            "colorscale": [
             [
              0,
              "#0d0887"
             ],
             [
              0.1111111111111111,
              "#46039f"
             ],
             [
              0.2222222222222222,
              "#7201a8"
             ],
             [
              0.3333333333333333,
              "#9c179e"
             ],
             [
              0.4444444444444444,
              "#bd3786"
             ],
             [
              0.5555555555555556,
              "#d8576b"
             ],
             [
              0.6666666666666666,
              "#ed7953"
             ],
             [
              0.7777777777777778,
              "#fb9f3a"
             ],
             [
              0.8888888888888888,
              "#fdca26"
             ],
             [
              1,
              "#f0f921"
             ]
            ],
            "type": "heatmap"
           }
          ],
          "histogram": [
           {
            "marker": {
             "pattern": {
              "fillmode": "overlay",
              "size": 10,
              "solidity": 0.2
             }
            },
            "type": "histogram"
           }
          ],
          "histogram2d": [
           {
            "colorbar": {
             "outlinewidth": 0,
             "ticks": ""
            },
            "colorscale": [
             [
              0,
              "#0d0887"
             ],
             [
              0.1111111111111111,
              "#46039f"
             ],
             [
              0.2222222222222222,
              "#7201a8"
             ],
             [
              0.3333333333333333,
              "#9c179e"
             ],
             [
              0.4444444444444444,
              "#bd3786"
             ],
             [
              0.5555555555555556,
              "#d8576b"
             ],
             [
              0.6666666666666666,
              "#ed7953"
             ],
             [
              0.7777777777777778,
              "#fb9f3a"
             ],
             [
              0.8888888888888888,
              "#fdca26"
             ],
             [
              1,
              "#f0f921"
             ]
            ],
            "type": "histogram2d"
           }
          ],
          "histogram2dcontour": [
           {
            "colorbar": {
             "outlinewidth": 0,
             "ticks": ""
            },
            "colorscale": [
             [
              0,
              "#0d0887"
             ],
             [
              0.1111111111111111,
              "#46039f"
             ],
             [
              0.2222222222222222,
              "#7201a8"
             ],
             [
              0.3333333333333333,
              "#9c179e"
             ],
             [
              0.4444444444444444,
              "#bd3786"
             ],
             [
              0.5555555555555556,
              "#d8576b"
             ],
             [
              0.6666666666666666,
              "#ed7953"
             ],
             [
              0.7777777777777778,
              "#fb9f3a"
             ],
             [
              0.8888888888888888,
              "#fdca26"
             ],
             [
              1,
              "#f0f921"
             ]
            ],
            "type": "histogram2dcontour"
           }
          ],
          "mesh3d": [
           {
            "colorbar": {
             "outlinewidth": 0,
             "ticks": ""
            },
            "type": "mesh3d"
           }
          ],
          "parcoords": [
           {
            "line": {
             "colorbar": {
              "outlinewidth": 0,
              "ticks": ""
             }
            },
            "type": "parcoords"
           }
          ],
          "pie": [
           {
            "automargin": true,
            "type": "pie"
           }
          ],
          "scatter": [
           {
            "fillpattern": {
             "fillmode": "overlay",
             "size": 10,
             "solidity": 0.2
            },
            "type": "scatter"
           }
          ],
          "scatter3d": [
           {
            "line": {
             "colorbar": {
              "outlinewidth": 0,
              "ticks": ""
             }
            },
            "marker": {
             "colorbar": {
              "outlinewidth": 0,
              "ticks": ""
             }
            },
            "type": "scatter3d"
           }
          ],
          "scattercarpet": [
           {
            "marker": {
             "colorbar": {
              "outlinewidth": 0,
              "ticks": ""
             }
            },
            "type": "scattercarpet"
           }
          ],
          "scattergeo": [
           {
            "marker": {
             "colorbar": {
              "outlinewidth": 0,
              "ticks": ""
             }
            },
            "type": "scattergeo"
           }
          ],
          "scattergl": [
           {
            "marker": {
             "colorbar": {
              "outlinewidth": 0,
              "ticks": ""
             }
            },
            "type": "scattergl"
           }
          ],
          "scattermap": [
           {
            "marker": {
             "colorbar": {
              "outlinewidth": 0,
              "ticks": ""
             }
            },
            "type": "scattermap"
           }
          ],
          "scattermapbox": [
           {
            "marker": {
             "colorbar": {
              "outlinewidth": 0,
              "ticks": ""
             }
            },
            "type": "scattermapbox"
           }
          ],
          "scatterpolar": [
           {
            "marker": {
             "colorbar": {
              "outlinewidth": 0,
              "ticks": ""
             }
            },
            "type": "scatterpolar"
           }
          ],
          "scatterpolargl": [
           {
            "marker": {
             "colorbar": {
              "outlinewidth": 0,
              "ticks": ""
             }
            },
            "type": "scatterpolargl"
           }
          ],
          "scatterternary": [
           {
            "marker": {
             "colorbar": {
              "outlinewidth": 0,
              "ticks": ""
             }
            },
            "type": "scatterternary"
           }
          ],
          "surface": [
           {
            "colorbar": {
             "outlinewidth": 0,
             "ticks": ""
            },
            "colorscale": [
             [
              0,
              "#0d0887"
             ],
             [
              0.1111111111111111,
              "#46039f"
             ],
             [
              0.2222222222222222,
              "#7201a8"
             ],
             [
              0.3333333333333333,
              "#9c179e"
             ],
             [
              0.4444444444444444,
              "#bd3786"
             ],
             [
              0.5555555555555556,
              "#d8576b"
             ],
             [
              0.6666666666666666,
              "#ed7953"
             ],
             [
              0.7777777777777778,
              "#fb9f3a"
             ],
             [
              0.8888888888888888,
              "#fdca26"
             ],
             [
              1,
              "#f0f921"
             ]
            ],
            "type": "surface"
           }
          ],
          "table": [
           {
            "cells": {
             "fill": {
              "color": "#EBF0F8"
             },
             "line": {
              "color": "white"
             }
            },
            "header": {
             "fill": {
              "color": "#C8D4E3"
             },
             "line": {
              "color": "white"
             }
            },
            "type": "table"
           }
          ]
         },
         "layout": {
          "annotationdefaults": {
           "arrowcolor": "#2a3f5f",
           "arrowhead": 0,
           "arrowwidth": 1
          },
          "autotypenumbers": "strict",
          "coloraxis": {
           "colorbar": {
            "outlinewidth": 0,
            "ticks": ""
           }
          },
          "colorscale": {
           "diverging": [
            [
             0,
             "#8e0152"
            ],
            [
             0.1,
             "#c51b7d"
            ],
            [
             0.2,
             "#de77ae"
            ],
            [
             0.3,
             "#f1b6da"
            ],
            [
             0.4,
             "#fde0ef"
            ],
            [
             0.5,
             "#f7f7f7"
            ],
            [
             0.6,
             "#e6f5d0"
            ],
            [
             0.7,
             "#b8e186"
            ],
            [
             0.8,
             "#7fbc41"
            ],
            [
             0.9,
             "#4d9221"
            ],
            [
             1,
             "#276419"
            ]
           ],
           "sequential": [
            [
             0,
             "#0d0887"
            ],
            [
             0.1111111111111111,
             "#46039f"
            ],
            [
             0.2222222222222222,
             "#7201a8"
            ],
            [
             0.3333333333333333,
             "#9c179e"
            ],
            [
             0.4444444444444444,
             "#bd3786"
            ],
            [
             0.5555555555555556,
             "#d8576b"
            ],
            [
             0.6666666666666666,
             "#ed7953"
            ],
            [
             0.7777777777777778,
             "#fb9f3a"
            ],
            [
             0.8888888888888888,
             "#fdca26"
            ],
            [
             1,
             "#f0f921"
            ]
           ],
           "sequentialminus": [
            [
             0,
             "#0d0887"
            ],
            [
             0.1111111111111111,
             "#46039f"
            ],
            [
             0.2222222222222222,
             "#7201a8"
            ],
            [
             0.3333333333333333,
             "#9c179e"
            ],
            [
             0.4444444444444444,
             "#bd3786"
            ],
            [
             0.5555555555555556,
             "#d8576b"
            ],
            [
             0.6666666666666666,
             "#ed7953"
            ],
            [
             0.7777777777777778,
             "#fb9f3a"
            ],
            [
             0.8888888888888888,
             "#fdca26"
            ],
            [
             1,
             "#f0f921"
            ]
           ]
          },
          "colorway": [
           "#636efa",
           "#EF553B",
           "#00cc96",
           "#ab63fa",
           "#FFA15A",
           "#19d3f3",
           "#FF6692",
           "#B6E880",
           "#FF97FF",
           "#FECB52"
          ],
          "font": {
           "color": "#2a3f5f"
          },
          "geo": {
           "bgcolor": "white",
           "lakecolor": "white",
           "landcolor": "white",
           "showlakes": true,
           "showland": true,
           "subunitcolor": "#C8D4E3"
          },
          "hoverlabel": {
           "align": "left"
          },
          "hovermode": "closest",
          "mapbox": {
           "style": "light"
          },
          "paper_bgcolor": "white",
          "plot_bgcolor": "white",
          "polar": {
           "angularaxis": {
            "gridcolor": "#EBF0F8",
            "linecolor": "#EBF0F8",
            "ticks": ""
           },
           "bgcolor": "white",
           "radialaxis": {
            "gridcolor": "#EBF0F8",
            "linecolor": "#EBF0F8",
            "ticks": ""
           }
          },
          "scene": {
           "xaxis": {
            "backgroundcolor": "white",
            "gridcolor": "#DFE8F3",
            "gridwidth": 2,
            "linecolor": "#EBF0F8",
            "showbackground": true,
            "ticks": "",
            "zerolinecolor": "#EBF0F8"
           },
           "yaxis": {
            "backgroundcolor": "white",
            "gridcolor": "#DFE8F3",
            "gridwidth": 2,
            "linecolor": "#EBF0F8",
            "showbackground": true,
            "ticks": "",
            "zerolinecolor": "#EBF0F8"
           },
           "zaxis": {
            "backgroundcolor": "white",
            "gridcolor": "#DFE8F3",
            "gridwidth": 2,
            "linecolor": "#EBF0F8",
            "showbackground": true,
            "ticks": "",
            "zerolinecolor": "#EBF0F8"
           }
          },
          "shapedefaults": {
           "line": {
            "color": "#2a3f5f"
           }
          },
          "ternary": {
           "aaxis": {
            "gridcolor": "#DFE8F3",
            "linecolor": "#A2B1C6",
            "ticks": ""
           },
           "baxis": {
            "gridcolor": "#DFE8F3",
            "linecolor": "#A2B1C6",
            "ticks": ""
           },
           "bgcolor": "white",
           "caxis": {
            "gridcolor": "#DFE8F3",
            "linecolor": "#A2B1C6",
            "ticks": ""
           }
          },
          "title": {
           "x": 0.05
          },
          "xaxis": {
           "automargin": true,
           "gridcolor": "#EBF0F8",
           "linecolor": "#EBF0F8",
           "ticks": "",
           "title": {
            "standoff": 15
           },
           "zerolinecolor": "#EBF0F8",
           "zerolinewidth": 2
          },
          "yaxis": {
           "automargin": true,
           "gridcolor": "#EBF0F8",
           "linecolor": "#EBF0F8",
           "ticks": "",
           "title": {
            "standoff": 15
           },
           "zerolinecolor": "#EBF0F8",
           "zerolinewidth": 2
          }
         }
        },
        "title": {
         "text": "Prediction Error as % of Predicted BTC Price"
        },
        "xaxis": {
         "title": {
          "text": "Date"
         }
        },
        "yaxis": {
         "title": {
          "text": "Error (%)"
         }
        }
       }
      }
     },
     "metadata": {},
     "output_type": "display_data"
    }
   ],
   "source": [
    "# Calculate % error metrics (avoid division by zero just in case)\n",
    "results['MAE_PCT'] = (results['Absolute_Error'] / results['Predicted'].replace(0, 1)) * 100\n",
    "results['RMSE_PCT'] = (results['RMSE_Rolling'] / results['Predicted'].replace(0, 1)) * 100\n",
    "\n",
    "import plotly.graph_objects as go\n",
    "\n",
    "fig = go.Figure()\n",
    "\n",
    "fig.add_hline(\n",
    "    y=3,\n",
    "    line_dash=\"dash\",\n",
    "    line_color=\"black\",\n",
    "    annotation_text=\"3% Error Threshold\",\n",
    "    annotation_position=\"top left\"\n",
    ")\n",
    "\n",
    "\n",
    "\n",
    "fig.add_trace(go.Bar(\n",
    "    x=results['Date'],\n",
    "    y=results['MAE_PCT'],\n",
    "    name='MAE %',\n",
    "    marker_color='blue',\n",
    "    opacity=0.6\n",
    "))\n",
    "\n",
    "fig.add_trace(go.Bar(\n",
    "    x=results['Date'],\n",
    "    y=results['RMSE_PCT'],\n",
    "    name='RMSE %',\n",
    "    marker_color='red',\n",
    "    opacity=0.6\n",
    "))\n",
    "\n",
    "fig.update_layout(\n",
    "    title='Prediction Error as % of Predicted BTC Price',\n",
    "    xaxis_title='Date',\n",
    "    yaxis_title='Error (%)',\n",
    "    barmode='overlay',  # or 'group' if you want side-by-side bars\n",
    "    template='plotly_white',\n",
    "    height=500\n",
    ")\n",
    "\n",
    "fig.show()\n",
    "\n"
   ]
  },
  {
   "cell_type": "code",
   "execution_count": 91,
   "id": "017a127e",
   "metadata": {},
   "outputs": [
    {
     "data": {
      "application/vnd.plotly.v1+json": {
       "config": {
        "plotlyServerURL": "https://plot.ly"
       },
       "data": [
        {
         "bingroup": "x",
         "hovertemplate": "Actual=%{x}<br>count=%{y}<extra></extra>",
         "legendgroup": "",
         "marker": {
          "color": "#636efa",
          "opacity": 0.7,
          "pattern": {
           "shape": ""
          }
         },
         "name": "",
         "nbinsx": 50,
         "orientation": "v",
         "showlegend": false,
         "type": "histogram",
         "x": {
          "bdata": "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",
          "dtype": "f8"
         },
         "xaxis": "x",
         "yaxis": "y"
        },
        {
         "hovertemplate": "Actual=%{x}<extra></extra>",
         "legendgroup": "",
         "marker": {
          "color": "#636efa"
         },
         "name": "",
         "scalegroup": "x",
         "showlegend": false,
         "type": "violin",
         "x": {
          "bdata": "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",
          "dtype": "f8"
         },
         "xaxis": "x2",
         "yaxis": "y2"
        }
       ],
       "layout": {
        "bargap": 0.1,
        "barmode": "relative",
        "legend": {
         "tracegroupgap": 0
        },
        "template": {
         "data": {
          "bar": [
           {
            "error_x": {
             "color": "#2a3f5f"
            },
            "error_y": {
             "color": "#2a3f5f"
            },
            "marker": {
             "line": {
              "color": "white",
              "width": 0.5
             },
             "pattern": {
              "fillmode": "overlay",
              "size": 10,
              "solidity": 0.2
             }
            },
            "type": "bar"
           }
          ],
          "barpolar": [
           {
            "marker": {
             "line": {
              "color": "white",
              "width": 0.5
             },
             "pattern": {
              "fillmode": "overlay",
              "size": 10,
              "solidity": 0.2
             }
            },
            "type": "barpolar"
           }
          ],
          "carpet": [
           {
            "aaxis": {
             "endlinecolor": "#2a3f5f",
             "gridcolor": "#C8D4E3",
             "linecolor": "#C8D4E3",
             "minorgridcolor": "#C8D4E3",
             "startlinecolor": "#2a3f5f"
            },
            "baxis": {
             "endlinecolor": "#2a3f5f",
             "gridcolor": "#C8D4E3",
             "linecolor": "#C8D4E3",
             "minorgridcolor": "#C8D4E3",
             "startlinecolor": "#2a3f5f"
            },
            "type": "carpet"
           }
          ],
          "choropleth": [
           {
            "colorbar": {
             "outlinewidth": 0,
             "ticks": ""
            },
            "type": "choropleth"
           }
          ],
          "contour": [
           {
            "colorbar": {
             "outlinewidth": 0,
             "ticks": ""
            },
            "colorscale": [
             [
              0,
              "#0d0887"
             ],
             [
              0.1111111111111111,
              "#46039f"
             ],
             [
              0.2222222222222222,
              "#7201a8"
             ],
             [
              0.3333333333333333,
              "#9c179e"
             ],
             [
              0.4444444444444444,
              "#bd3786"
             ],
             [
              0.5555555555555556,
              "#d8576b"
             ],
             [
              0.6666666666666666,
              "#ed7953"
             ],
             [
              0.7777777777777778,
              "#fb9f3a"
             ],
             [
              0.8888888888888888,
              "#fdca26"
             ],
             [
              1,
              "#f0f921"
             ]
            ],
            "type": "contour"
           }
          ],
          "contourcarpet": [
           {
            "colorbar": {
             "outlinewidth": 0,
             "ticks": ""
            },
            "type": "contourcarpet"
           }
          ],
          "heatmap": [
           {
            "colorbar": {
             "outlinewidth": 0,
             "ticks": ""
            },
            "colorscale": [
             [
              0,
              "#0d0887"
             ],
             [
              0.1111111111111111,
              "#46039f"
             ],
             [
              0.2222222222222222,
              "#7201a8"
             ],
             [
              0.3333333333333333,
              "#9c179e"
             ],
             [
              0.4444444444444444,
              "#bd3786"
             ],
             [
              0.5555555555555556,
              "#d8576b"
             ],
             [
              0.6666666666666666,
              "#ed7953"
             ],
             [
              0.7777777777777778,
              "#fb9f3a"
             ],
             [
              0.8888888888888888,
              "#fdca26"
             ],
             [
              1,
              "#f0f921"
             ]
            ],
            "type": "heatmap"
           }
          ],
          "histogram": [
           {
            "marker": {
             "pattern": {
              "fillmode": "overlay",
              "size": 10,
              "solidity": 0.2
             }
            },
            "type": "histogram"
           }
          ],
          "histogram2d": [
           {
            "colorbar": {
             "outlinewidth": 0,
             "ticks": ""
            },
            "colorscale": [
             [
              0,
              "#0d0887"
             ],
             [
              0.1111111111111111,
              "#46039f"
             ],
             [
              0.2222222222222222,
              "#7201a8"
             ],
             [
              0.3333333333333333,
              "#9c179e"
             ],
             [
              0.4444444444444444,
              "#bd3786"
             ],
             [
              0.5555555555555556,
              "#d8576b"
             ],
             [
              0.6666666666666666,
              "#ed7953"
             ],
             [
              0.7777777777777778,
              "#fb9f3a"
             ],
             [
              0.8888888888888888,
              "#fdca26"
             ],
             [
              1,
              "#f0f921"
             ]
            ],
            "type": "histogram2d"
           }
          ],
          "histogram2dcontour": [
           {
            "colorbar": {
             "outlinewidth": 0,
             "ticks": ""
            },
            "colorscale": [
             [
              0,
              "#0d0887"
             ],
             [
              0.1111111111111111,
              "#46039f"
             ],
             [
              0.2222222222222222,
              "#7201a8"
             ],
             [
              0.3333333333333333,
              "#9c179e"
             ],
             [
              0.4444444444444444,
              "#bd3786"
             ],
             [
              0.5555555555555556,
              "#d8576b"
             ],
             [
              0.6666666666666666,
              "#ed7953"
             ],
             [
              0.7777777777777778,
              "#fb9f3a"
             ],
             [
              0.8888888888888888,
              "#fdca26"
             ],
             [
              1,
              "#f0f921"
             ]
            ],
            "type": "histogram2dcontour"
           }
          ],
          "mesh3d": [
           {
            "colorbar": {
             "outlinewidth": 0,
             "ticks": ""
            },
            "type": "mesh3d"
           }
          ],
          "parcoords": [
           {
            "line": {
             "colorbar": {
              "outlinewidth": 0,
              "ticks": ""
             }
            },
            "type": "parcoords"
           }
          ],
          "pie": [
           {
            "automargin": true,
            "type": "pie"
           }
          ],
          "scatter": [
           {
            "fillpattern": {
             "fillmode": "overlay",
             "size": 10,
             "solidity": 0.2
            },
            "type": "scatter"
           }
          ],
          "scatter3d": [
           {
            "line": {
             "colorbar": {
              "outlinewidth": 0,
              "ticks": ""
             }
            },
            "marker": {
             "colorbar": {
              "outlinewidth": 0,
              "ticks": ""
             }
            },
            "type": "scatter3d"
           }
          ],
          "scattercarpet": [
           {
            "marker": {
             "colorbar": {
              "outlinewidth": 0,
              "ticks": ""
             }
            },
            "type": "scattercarpet"
           }
          ],
          "scattergeo": [
           {
            "marker": {
             "colorbar": {
              "outlinewidth": 0,
              "ticks": ""
             }
            },
            "type": "scattergeo"
           }
          ],
          "scattergl": [
           {
            "marker": {
             "colorbar": {
              "outlinewidth": 0,
              "ticks": ""
             }
            },
            "type": "scattergl"
           }
          ],
          "scattermap": [
           {
            "marker": {
             "colorbar": {
              "outlinewidth": 0,
              "ticks": ""
             }
            },
            "type": "scattermap"
           }
          ],
          "scattermapbox": [
           {
            "marker": {
             "colorbar": {
              "outlinewidth": 0,
              "ticks": ""
             }
            },
            "type": "scattermapbox"
           }
          ],
          "scatterpolar": [
           {
            "marker": {
             "colorbar": {
              "outlinewidth": 0,
              "ticks": ""
             }
            },
            "type": "scatterpolar"
           }
          ],
          "scatterpolargl": [
           {
            "marker": {
             "colorbar": {
              "outlinewidth": 0,
              "ticks": ""
             }
            },
            "type": "scatterpolargl"
           }
          ],
          "scatterternary": [
           {
            "marker": {
             "colorbar": {
              "outlinewidth": 0,
              "ticks": ""
             }
            },
            "type": "scatterternary"
           }
          ],
          "surface": [
           {
            "colorbar": {
             "outlinewidth": 0,
             "ticks": ""
            },
            "colorscale": [
             [
              0,
              "#0d0887"
             ],
             [
              0.1111111111111111,
              "#46039f"
             ],
             [
              0.2222222222222222,
              "#7201a8"
             ],
             [
              0.3333333333333333,
              "#9c179e"
             ],
             [
              0.4444444444444444,
              "#bd3786"
             ],
             [
              0.5555555555555556,
              "#d8576b"
             ],
             [
              0.6666666666666666,
              "#ed7953"
             ],
             [
              0.7777777777777778,
              "#fb9f3a"
             ],
             [
              0.8888888888888888,
              "#fdca26"
             ],
             [
              1,
              "#f0f921"
             ]
            ],
            "type": "surface"
           }
          ],
          "table": [
           {
            "cells": {
             "fill": {
              "color": "#EBF0F8"
             },
             "line": {
              "color": "white"
             }
            },
            "header": {
             "fill": {
              "color": "#C8D4E3"
             },
             "line": {
              "color": "white"
             }
            },
            "type": "table"
           }
          ]
         },
         "layout": {
          "annotationdefaults": {
           "arrowcolor": "#2a3f5f",
           "arrowhead": 0,
           "arrowwidth": 1
          },
          "autotypenumbers": "strict",
          "coloraxis": {
           "colorbar": {
            "outlinewidth": 0,
            "ticks": ""
           }
          },
          "colorscale": {
           "diverging": [
            [
             0,
             "#8e0152"
            ],
            [
             0.1,
             "#c51b7d"
            ],
            [
             0.2,
             "#de77ae"
            ],
            [
             0.3,
             "#f1b6da"
            ],
            [
             0.4,
             "#fde0ef"
            ],
            [
             0.5,
             "#f7f7f7"
            ],
            [
             0.6,
             "#e6f5d0"
            ],
            [
             0.7,
             "#b8e186"
            ],
            [
             0.8,
             "#7fbc41"
            ],
            [
             0.9,
             "#4d9221"
            ],
            [
             1,
             "#276419"
            ]
           ],
           "sequential": [
            [
             0,
             "#0d0887"
            ],
            [
             0.1111111111111111,
             "#46039f"
            ],
            [
             0.2222222222222222,
             "#7201a8"
            ],
            [
             0.3333333333333333,
             "#9c179e"
            ],
            [
             0.4444444444444444,
             "#bd3786"
            ],
            [
             0.5555555555555556,
             "#d8576b"
            ],
            [
             0.6666666666666666,
             "#ed7953"
            ],
            [
             0.7777777777777778,
             "#fb9f3a"
            ],
            [
             0.8888888888888888,
             "#fdca26"
            ],
            [
             1,
             "#f0f921"
            ]
           ],
           "sequentialminus": [
            [
             0,
             "#0d0887"
            ],
            [
             0.1111111111111111,
             "#46039f"
            ],
            [
             0.2222222222222222,
             "#7201a8"
            ],
            [
             0.3333333333333333,
             "#9c179e"
            ],
            [
             0.4444444444444444,
             "#bd3786"
            ],
            [
             0.5555555555555556,
             "#d8576b"
            ],
            [
             0.6666666666666666,
             "#ed7953"
            ],
            [
             0.7777777777777778,
             "#fb9f3a"
            ],
            [
             0.8888888888888888,
             "#fdca26"
            ],
            [
             1,
             "#f0f921"
            ]
           ]
          },
          "colorway": [
           "#636efa",
           "#EF553B",
           "#00cc96",
           "#ab63fa",
           "#FFA15A",
           "#19d3f3",
           "#FF6692",
           "#B6E880",
           "#FF97FF",
           "#FECB52"
          ],
          "font": {
           "color": "#2a3f5f"
          },
          "geo": {
           "bgcolor": "white",
           "lakecolor": "white",
           "landcolor": "white",
           "showlakes": true,
           "showland": true,
           "subunitcolor": "#C8D4E3"
          },
          "hoverlabel": {
           "align": "left"
          },
          "hovermode": "closest",
          "mapbox": {
           "style": "light"
          },
          "paper_bgcolor": "white",
          "plot_bgcolor": "white",
          "polar": {
           "angularaxis": {
            "gridcolor": "#EBF0F8",
            "linecolor": "#EBF0F8",
            "ticks": ""
           },
           "bgcolor": "white",
           "radialaxis": {
            "gridcolor": "#EBF0F8",
            "linecolor": "#EBF0F8",
            "ticks": ""
           }
          },
          "scene": {
           "xaxis": {
            "backgroundcolor": "white",
            "gridcolor": "#DFE8F3",
            "gridwidth": 2,
            "linecolor": "#EBF0F8",
            "showbackground": true,
            "ticks": "",
            "zerolinecolor": "#EBF0F8"
           },
           "yaxis": {
            "backgroundcolor": "white",
            "gridcolor": "#DFE8F3",
            "gridwidth": 2,
            "linecolor": "#EBF0F8",
            "showbackground": true,
            "ticks": "",
            "zerolinecolor": "#EBF0F8"
           },
           "zaxis": {
            "backgroundcolor": "white",
            "gridcolor": "#DFE8F3",
            "gridwidth": 2,
            "linecolor": "#EBF0F8",
            "showbackground": true,
            "ticks": "",
            "zerolinecolor": "#EBF0F8"
           }
          },
          "shapedefaults": {
           "line": {
            "color": "#2a3f5f"
           }
          },
          "ternary": {
           "aaxis": {
            "gridcolor": "#DFE8F3",
            "linecolor": "#A2B1C6",
            "ticks": ""
           },
           "baxis": {
            "gridcolor": "#DFE8F3",
            "linecolor": "#A2B1C6",
            "ticks": ""
           },
           "bgcolor": "white",
           "caxis": {
            "gridcolor": "#DFE8F3",
            "linecolor": "#A2B1C6",
            "ticks": ""
           }
          },
          "title": {
           "x": 0.05
          },
          "xaxis": {
           "automargin": true,
           "gridcolor": "#EBF0F8",
           "linecolor": "#EBF0F8",
           "ticks": "",
           "title": {
            "standoff": 15
           },
           "zerolinecolor": "#EBF0F8",
           "zerolinewidth": 2
          },
          "yaxis": {
           "automargin": true,
           "gridcolor": "#EBF0F8",
           "linecolor": "#EBF0F8",
           "ticks": "",
           "title": {
            "standoff": 15
           },
           "zerolinecolor": "#EBF0F8",
           "zerolinewidth": 2
          }
         }
        },
        "title": {
         "text": "Distribution of Actual Prices"
        },
        "xaxis": {
         "anchor": "y",
         "domain": [
          0,
          1
         ],
         "title": {
          "text": "Actual"
         }
        },
        "xaxis2": {
         "anchor": "y2",
         "domain": [
          0,
          1
         ],
         "matches": "x",
         "showgrid": true,
         "showticklabels": false
        },
        "yaxis": {
         "anchor": "x",
         "domain": [
          0,
          0.8316
         ],
         "title": {
          "text": "Count"
         }
        },
        "yaxis2": {
         "anchor": "x2",
         "domain": [
          0.8416,
          1
         ],
         "matches": "y2",
         "showgrid": false,
         "showline": false,
         "showticklabels": false,
         "ticks": ""
        }
       }
      }
     },
     "metadata": {},
     "output_type": "display_data"
    }
   ],
   "source": [
    "import plotly.express as px\n",
    "\n",
    "# Calculate residuals\n",
    "#results['Residual'] = results['Actual'] - results['Predicted']\n",
    "\n",
    "# Plot histogram with KDE-style curve\n",
    "fig = px.histogram(\n",
    "    results,\n",
    "    x='Actual',\n",
    "    nbins=50,\n",
    "    title='Distribution of Actual Prices',\n",
    "    marginal='violin',  # optional: adds a violin plot on the side\n",
    "    opacity=0.7\n",
    ")\n",
    "\n",
    "fig.update_layout(\n",
    "    xaxis_title='Actual',\n",
    "    yaxis_title='Count',\n",
    "    bargap=0.1,\n",
    "    template='plotly_white'\n",
    ")\n",
    "\n",
    "fig.show()"
   ]
  },
  {
   "cell_type": "code",
   "execution_count": 92,
   "id": "537bb8ad",
   "metadata": {},
   "outputs": [
    {
     "data": {
      "application/vnd.plotly.v1+json": {
       "config": {
        "plotlyServerURL": "https://plot.ly"
       },
       "data": [
        {
         "bingroup": "x",
         "hovertemplate": "Predicted=%{x}<br>count=%{y}<extra></extra>",
         "legendgroup": "",
         "marker": {
          "color": "#636efa",
          "opacity": 0.7,
          "pattern": {
           "shape": ""
          }
         },
         "name": "",
         "nbinsx": 50,
         "orientation": "v",
         "showlegend": false,
         "type": "histogram",
         "x": {
          "bdata": "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",
          "dtype": "f8"
         },
         "xaxis": "x",
         "yaxis": "y"
        },
        {
         "hovertemplate": "Predicted=%{x}<extra></extra>",
         "legendgroup": "",
         "marker": {
          "color": "#636efa"
         },
         "name": "",
         "scalegroup": "x",
         "showlegend": false,
         "type": "violin",
         "x": {
          "bdata": "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",
          "dtype": "f8"
         },
         "xaxis": "x2",
         "yaxis": "y2"
        }
       ],
       "layout": {
        "bargap": 0.1,
        "barmode": "relative",
        "legend": {
         "tracegroupgap": 0
        },
        "template": {
         "data": {
          "bar": [
           {
            "error_x": {
             "color": "#2a3f5f"
            },
            "error_y": {
             "color": "#2a3f5f"
            },
            "marker": {
             "line": {
              "color": "white",
              "width": 0.5
             },
             "pattern": {
              "fillmode": "overlay",
              "size": 10,
              "solidity": 0.2
             }
            },
            "type": "bar"
           }
          ],
          "barpolar": [
           {
            "marker": {
             "line": {
              "color": "white",
              "width": 0.5
             },
             "pattern": {
              "fillmode": "overlay",
              "size": 10,
              "solidity": 0.2
             }
            },
            "type": "barpolar"
           }
          ],
          "carpet": [
           {
            "aaxis": {
             "endlinecolor": "#2a3f5f",
             "gridcolor": "#C8D4E3",
             "linecolor": "#C8D4E3",
             "minorgridcolor": "#C8D4E3",
             "startlinecolor": "#2a3f5f"
            },
            "baxis": {
             "endlinecolor": "#2a3f5f",
             "gridcolor": "#C8D4E3",
             "linecolor": "#C8D4E3",
             "minorgridcolor": "#C8D4E3",
             "startlinecolor": "#2a3f5f"
            },
            "type": "carpet"
           }
          ],
          "choropleth": [
           {
            "colorbar": {
             "outlinewidth": 0,
             "ticks": ""
            },
            "type": "choropleth"
           }
          ],
          "contour": [
           {
            "colorbar": {
             "outlinewidth": 0,
             "ticks": ""
            },
            "colorscale": [
             [
              0,
              "#0d0887"
             ],
             [
              0.1111111111111111,
              "#46039f"
             ],
             [
              0.2222222222222222,
              "#7201a8"
             ],
             [
              0.3333333333333333,
              "#9c179e"
             ],
             [
              0.4444444444444444,
              "#bd3786"
             ],
             [
              0.5555555555555556,
              "#d8576b"
             ],
             [
              0.6666666666666666,
              "#ed7953"
             ],
             [
              0.7777777777777778,
              "#fb9f3a"
             ],
             [
              0.8888888888888888,
              "#fdca26"
             ],
             [
              1,
              "#f0f921"
             ]
            ],
            "type": "contour"
           }
          ],
          "contourcarpet": [
           {
            "colorbar": {
             "outlinewidth": 0,
             "ticks": ""
            },
            "type": "contourcarpet"
           }
          ],
          "heatmap": [
           {
            "colorbar": {
             "outlinewidth": 0,
             "ticks": ""
            },
            "colorscale": [
             [
              0,
              "#0d0887"
             ],
             [
              0.1111111111111111,
              "#46039f"
             ],
             [
              0.2222222222222222,
              "#7201a8"
             ],
             [
              0.3333333333333333,
              "#9c179e"
             ],
             [
              0.4444444444444444,
              "#bd3786"
             ],
             [
              0.5555555555555556,
              "#d8576b"
             ],
             [
              0.6666666666666666,
              "#ed7953"
             ],
             [
              0.7777777777777778,
              "#fb9f3a"
             ],
             [
              0.8888888888888888,
              "#fdca26"
             ],
             [
              1,
              "#f0f921"
             ]
            ],
            "type": "heatmap"
           }
          ],
          "histogram": [
           {
            "marker": {
             "pattern": {
              "fillmode": "overlay",
              "size": 10,
              "solidity": 0.2
             }
            },
            "type": "histogram"
           }
          ],
          "histogram2d": [
           {
            "colorbar": {
             "outlinewidth": 0,
             "ticks": ""
            },
            "colorscale": [
             [
              0,
              "#0d0887"
             ],
             [
              0.1111111111111111,
              "#46039f"
             ],
             [
              0.2222222222222222,
              "#7201a8"
             ],
             [
              0.3333333333333333,
              "#9c179e"
             ],
             [
              0.4444444444444444,
              "#bd3786"
             ],
             [
              0.5555555555555556,
              "#d8576b"
             ],
             [
              0.6666666666666666,
              "#ed7953"
             ],
             [
              0.7777777777777778,
              "#fb9f3a"
             ],
             [
              0.8888888888888888,
              "#fdca26"
             ],
             [
              1,
              "#f0f921"
             ]
            ],
            "type": "histogram2d"
           }
          ],
          "histogram2dcontour": [
           {
            "colorbar": {
             "outlinewidth": 0,
             "ticks": ""
            },
            "colorscale": [
             [
              0,
              "#0d0887"
             ],
             [
              0.1111111111111111,
              "#46039f"
             ],
             [
              0.2222222222222222,
              "#7201a8"
             ],
             [
              0.3333333333333333,
              "#9c179e"
             ],
             [
              0.4444444444444444,
              "#bd3786"
             ],
             [
              0.5555555555555556,
              "#d8576b"
             ],
             [
              0.6666666666666666,
              "#ed7953"
             ],
             [
              0.7777777777777778,
              "#fb9f3a"
             ],
             [
              0.8888888888888888,
              "#fdca26"
             ],
             [
              1,
              "#f0f921"
             ]
            ],
            "type": "histogram2dcontour"
           }
          ],
          "mesh3d": [
           {
            "colorbar": {
             "outlinewidth": 0,
             "ticks": ""
            },
            "type": "mesh3d"
           }
          ],
          "parcoords": [
           {
            "line": {
             "colorbar": {
              "outlinewidth": 0,
              "ticks": ""
             }
            },
            "type": "parcoords"
           }
          ],
          "pie": [
           {
            "automargin": true,
            "type": "pie"
           }
          ],
          "scatter": [
           {
            "fillpattern": {
             "fillmode": "overlay",
             "size": 10,
             "solidity": 0.2
            },
            "type": "scatter"
           }
          ],
          "scatter3d": [
           {
            "line": {
             "colorbar": {
              "outlinewidth": 0,
              "ticks": ""
             }
            },
            "marker": {
             "colorbar": {
              "outlinewidth": 0,
              "ticks": ""
             }
            },
            "type": "scatter3d"
           }
          ],
          "scattercarpet": [
           {
            "marker": {
             "colorbar": {
              "outlinewidth": 0,
              "ticks": ""
             }
            },
            "type": "scattercarpet"
           }
          ],
          "scattergeo": [
           {
            "marker": {
             "colorbar": {
              "outlinewidth": 0,
              "ticks": ""
             }
            },
            "type": "scattergeo"
           }
          ],
          "scattergl": [
           {
            "marker": {
             "colorbar": {
              "outlinewidth": 0,
              "ticks": ""
             }
            },
            "type": "scattergl"
           }
          ],
          "scattermap": [
           {
            "marker": {
             "colorbar": {
              "outlinewidth": 0,
              "ticks": ""
             }
            },
            "type": "scattermap"
           }
          ],
          "scattermapbox": [
           {
            "marker": {
             "colorbar": {
              "outlinewidth": 0,
              "ticks": ""
             }
            },
            "type": "scattermapbox"
           }
          ],
          "scatterpolar": [
           {
            "marker": {
             "colorbar": {
              "outlinewidth": 0,
              "ticks": ""
             }
            },
            "type": "scatterpolar"
           }
          ],
          "scatterpolargl": [
           {
            "marker": {
             "colorbar": {
              "outlinewidth": 0,
              "ticks": ""
             }
            },
            "type": "scatterpolargl"
           }
          ],
          "scatterternary": [
           {
            "marker": {
             "colorbar": {
              "outlinewidth": 0,
              "ticks": ""
             }
            },
            "type": "scatterternary"
           }
          ],
          "surface": [
           {
            "colorbar": {
             "outlinewidth": 0,
             "ticks": ""
            },
            "colorscale": [
             [
              0,
              "#0d0887"
             ],
             [
              0.1111111111111111,
              "#46039f"
             ],
             [
              0.2222222222222222,
              "#7201a8"
             ],
             [
              0.3333333333333333,
              "#9c179e"
             ],
             [
              0.4444444444444444,
              "#bd3786"
             ],
             [
              0.5555555555555556,
              "#d8576b"
             ],
             [
              0.6666666666666666,
              "#ed7953"
             ],
             [
              0.7777777777777778,
              "#fb9f3a"
             ],
             [
              0.8888888888888888,
              "#fdca26"
             ],
             [
              1,
              "#f0f921"
             ]
            ],
            "type": "surface"
           }
          ],
          "table": [
           {
            "cells": {
             "fill": {
              "color": "#EBF0F8"
             },
             "line": {
              "color": "white"
             }
            },
            "header": {
             "fill": {
              "color": "#C8D4E3"
             },
             "line": {
              "color": "white"
             }
            },
            "type": "table"
           }
          ]
         },
         "layout": {
          "annotationdefaults": {
           "arrowcolor": "#2a3f5f",
           "arrowhead": 0,
           "arrowwidth": 1
          },
          "autotypenumbers": "strict",
          "coloraxis": {
           "colorbar": {
            "outlinewidth": 0,
            "ticks": ""
           }
          },
          "colorscale": {
           "diverging": [
            [
             0,
             "#8e0152"
            ],
            [
             0.1,
             "#c51b7d"
            ],
            [
             0.2,
             "#de77ae"
            ],
            [
             0.3,
             "#f1b6da"
            ],
            [
             0.4,
             "#fde0ef"
            ],
            [
             0.5,
             "#f7f7f7"
            ],
            [
             0.6,
             "#e6f5d0"
            ],
            [
             0.7,
             "#b8e186"
            ],
            [
             0.8,
             "#7fbc41"
            ],
            [
             0.9,
             "#4d9221"
            ],
            [
             1,
             "#276419"
            ]
           ],
           "sequential": [
            [
             0,
             "#0d0887"
            ],
            [
             0.1111111111111111,
             "#46039f"
            ],
            [
             0.2222222222222222,
             "#7201a8"
            ],
            [
             0.3333333333333333,
             "#9c179e"
            ],
            [
             0.4444444444444444,
             "#bd3786"
            ],
            [
             0.5555555555555556,
             "#d8576b"
            ],
            [
             0.6666666666666666,
             "#ed7953"
            ],
            [
             0.7777777777777778,
             "#fb9f3a"
            ],
            [
             0.8888888888888888,
             "#fdca26"
            ],
            [
             1,
             "#f0f921"
            ]
           ],
           "sequentialminus": [
            [
             0,
             "#0d0887"
            ],
            [
             0.1111111111111111,
             "#46039f"
            ],
            [
             0.2222222222222222,
             "#7201a8"
            ],
            [
             0.3333333333333333,
             "#9c179e"
            ],
            [
             0.4444444444444444,
             "#bd3786"
            ],
            [
             0.5555555555555556,
             "#d8576b"
            ],
            [
             0.6666666666666666,
             "#ed7953"
            ],
            [
             0.7777777777777778,
             "#fb9f3a"
            ],
            [
             0.8888888888888888,
             "#fdca26"
            ],
            [
             1,
             "#f0f921"
            ]
           ]
          },
          "colorway": [
           "#636efa",
           "#EF553B",
           "#00cc96",
           "#ab63fa",
           "#FFA15A",
           "#19d3f3",
           "#FF6692",
           "#B6E880",
           "#FF97FF",
           "#FECB52"
          ],
          "font": {
           "color": "#2a3f5f"
          },
          "geo": {
           "bgcolor": "white",
           "lakecolor": "white",
           "landcolor": "white",
           "showlakes": true,
           "showland": true,
           "subunitcolor": "#C8D4E3"
          },
          "hoverlabel": {
           "align": "left"
          },
          "hovermode": "closest",
          "mapbox": {
           "style": "light"
          },
          "paper_bgcolor": "white",
          "plot_bgcolor": "white",
          "polar": {
           "angularaxis": {
            "gridcolor": "#EBF0F8",
            "linecolor": "#EBF0F8",
            "ticks": ""
           },
           "bgcolor": "white",
           "radialaxis": {
            "gridcolor": "#EBF0F8",
            "linecolor": "#EBF0F8",
            "ticks": ""
           }
          },
          "scene": {
           "xaxis": {
            "backgroundcolor": "white",
            "gridcolor": "#DFE8F3",
            "gridwidth": 2,
            "linecolor": "#EBF0F8",
            "showbackground": true,
            "ticks": "",
            "zerolinecolor": "#EBF0F8"
           },
           "yaxis": {
            "backgroundcolor": "white",
            "gridcolor": "#DFE8F3",
            "gridwidth": 2,
            "linecolor": "#EBF0F8",
            "showbackground": true,
            "ticks": "",
            "zerolinecolor": "#EBF0F8"
           },
           "zaxis": {
            "backgroundcolor": "white",
            "gridcolor": "#DFE8F3",
            "gridwidth": 2,
            "linecolor": "#EBF0F8",
            "showbackground": true,
            "ticks": "",
            "zerolinecolor": "#EBF0F8"
           }
          },
          "shapedefaults": {
           "line": {
            "color": "#2a3f5f"
           }
          },
          "ternary": {
           "aaxis": {
            "gridcolor": "#DFE8F3",
            "linecolor": "#A2B1C6",
            "ticks": ""
           },
           "baxis": {
            "gridcolor": "#DFE8F3",
            "linecolor": "#A2B1C6",
            "ticks": ""
           },
           "bgcolor": "white",
           "caxis": {
            "gridcolor": "#DFE8F3",
            "linecolor": "#A2B1C6",
            "ticks": ""
           }
          },
          "title": {
           "x": 0.05
          },
          "xaxis": {
           "automargin": true,
           "gridcolor": "#EBF0F8",
           "linecolor": "#EBF0F8",
           "ticks": "",
           "title": {
            "standoff": 15
           },
           "zerolinecolor": "#EBF0F8",
           "zerolinewidth": 2
          },
          "yaxis": {
           "automargin": true,
           "gridcolor": "#EBF0F8",
           "linecolor": "#EBF0F8",
           "ticks": "",
           "title": {
            "standoff": 15
           },
           "zerolinecolor": "#EBF0F8",
           "zerolinewidth": 2
          }
         }
        },
        "title": {
         "text": "Distribution of Predicted Prices"
        },
        "xaxis": {
         "anchor": "y",
         "domain": [
          0,
          1
         ],
         "title": {
          "text": "Predicted"
         }
        },
        "xaxis2": {
         "anchor": "y2",
         "domain": [
          0,
          1
         ],
         "matches": "x",
         "showgrid": true,
         "showticklabels": false
        },
        "yaxis": {
         "anchor": "x",
         "domain": [
          0,
          0.8316
         ],
         "title": {
          "text": "Count"
         }
        },
        "yaxis2": {
         "anchor": "x2",
         "domain": [
          0.8416,
          1
         ],
         "matches": "y2",
         "showgrid": false,
         "showline": false,
         "showticklabels": false,
         "ticks": ""
        }
       }
      }
     },
     "metadata": {},
     "output_type": "display_data"
    }
   ],
   "source": [
    "import plotly.express as px\n",
    "\n",
    "\n",
    "# Plot histogram with KDE-style curve\n",
    "fig = px.histogram(\n",
    "    results,\n",
    "    x='Predicted',\n",
    "    nbins=50,\n",
    "    title='Distribution of Predicted Prices',\n",
    "    marginal='violin',  # optional: adds a violin plot on the side\n",
    "    opacity=0.7\n",
    ")\n",
    "\n",
    "fig.update_layout(\n",
    "    xaxis_title='Predicted',\n",
    "    yaxis_title='Count',\n",
    "    bargap=0.1,\n",
    "    template='plotly_white'\n",
    ")\n",
    "\n",
    "fig.show()"
   ]
  },
  {
   "cell_type": "code",
   "execution_count": 93,
   "id": "60991e0b",
   "metadata": {},
   "outputs": [
    {
     "data": {
      "application/vnd.plotly.v1+json": {
       "config": {
        "plotlyServerURL": "https://plot.ly"
       },
       "data": [
        {
         "bingroup": "x",
         "hovertemplate": "Residual=%{x}<br>count=%{y}<extra></extra>",
         "legendgroup": "",
         "marker": {
          "color": "#636efa",
          "opacity": 0.7,
          "pattern": {
           "shape": ""
          }
         },
         "name": "",
         "nbinsx": 50,
         "orientation": "v",
         "showlegend": false,
         "type": "histogram",
         "x": {
          "bdata": "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",
          "dtype": "f8"
         },
         "xaxis": "x",
         "yaxis": "y"
        },
        {
         "hovertemplate": "Residual=%{x}<extra></extra>",
         "legendgroup": "",
         "marker": {
          "color": "#636efa"
         },
         "name": "",
         "scalegroup": "x",
         "showlegend": false,
         "type": "violin",
         "x": {
          "bdata": "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",
          "dtype": "f8"
         },
         "xaxis": "x2",
         "yaxis": "y2"
        }
       ],
       "layout": {
        "bargap": 0.1,
        "barmode": "relative",
        "legend": {
         "tracegroupgap": 0
        },
        "template": {
         "data": {
          "bar": [
           {
            "error_x": {
             "color": "#2a3f5f"
            },
            "error_y": {
             "color": "#2a3f5f"
            },
            "marker": {
             "line": {
              "color": "white",
              "width": 0.5
             },
             "pattern": {
              "fillmode": "overlay",
              "size": 10,
              "solidity": 0.2
             }
            },
            "type": "bar"
           }
          ],
          "barpolar": [
           {
            "marker": {
             "line": {
              "color": "white",
              "width": 0.5
             },
             "pattern": {
              "fillmode": "overlay",
              "size": 10,
              "solidity": 0.2
             }
            },
            "type": "barpolar"
           }
          ],
          "carpet": [
           {
            "aaxis": {
             "endlinecolor": "#2a3f5f",
             "gridcolor": "#C8D4E3",
             "linecolor": "#C8D4E3",
             "minorgridcolor": "#C8D4E3",
             "startlinecolor": "#2a3f5f"
            },
            "baxis": {
             "endlinecolor": "#2a3f5f",
             "gridcolor": "#C8D4E3",
             "linecolor": "#C8D4E3",
             "minorgridcolor": "#C8D4E3",
             "startlinecolor": "#2a3f5f"
            },
            "type": "carpet"
           }
          ],
          "choropleth": [
           {
            "colorbar": {
             "outlinewidth": 0,
             "ticks": ""
            },
            "type": "choropleth"
           }
          ],
          "contour": [
           {
            "colorbar": {
             "outlinewidth": 0,
             "ticks": ""
            },
            "colorscale": [
             [
              0,
              "#0d0887"
             ],
             [
              0.1111111111111111,
              "#46039f"
             ],
             [
              0.2222222222222222,
              "#7201a8"
             ],
             [
              0.3333333333333333,
              "#9c179e"
             ],
             [
              0.4444444444444444,
              "#bd3786"
             ],
             [
              0.5555555555555556,
              "#d8576b"
             ],
             [
              0.6666666666666666,
              "#ed7953"
             ],
             [
              0.7777777777777778,
              "#fb9f3a"
             ],
             [
              0.8888888888888888,
              "#fdca26"
             ],
             [
              1,
              "#f0f921"
             ]
            ],
            "type": "contour"
           }
          ],
          "contourcarpet": [
           {
            "colorbar": {
             "outlinewidth": 0,
             "ticks": ""
            },
            "type": "contourcarpet"
           }
          ],
          "heatmap": [
           {
            "colorbar": {
             "outlinewidth": 0,
             "ticks": ""
            },
            "colorscale": [
             [
              0,
              "#0d0887"
             ],
             [
              0.1111111111111111,
              "#46039f"
             ],
             [
              0.2222222222222222,
              "#7201a8"
             ],
             [
              0.3333333333333333,
              "#9c179e"
             ],
             [
              0.4444444444444444,
              "#bd3786"
             ],
             [
              0.5555555555555556,
              "#d8576b"
             ],
             [
              0.6666666666666666,
              "#ed7953"
             ],
             [
              0.7777777777777778,
              "#fb9f3a"
             ],
             [
              0.8888888888888888,
              "#fdca26"
             ],
             [
              1,
              "#f0f921"
             ]
            ],
            "type": "heatmap"
           }
          ],
          "histogram": [
           {
            "marker": {
             "pattern": {
              "fillmode": "overlay",
              "size": 10,
              "solidity": 0.2
             }
            },
            "type": "histogram"
           }
          ],
          "histogram2d": [
           {
            "colorbar": {
             "outlinewidth": 0,
             "ticks": ""
            },
            "colorscale": [
             [
              0,
              "#0d0887"
             ],
             [
              0.1111111111111111,
              "#46039f"
             ],
             [
              0.2222222222222222,
              "#7201a8"
             ],
             [
              0.3333333333333333,
              "#9c179e"
             ],
             [
              0.4444444444444444,
              "#bd3786"
             ],
             [
              0.5555555555555556,
              "#d8576b"
             ],
             [
              0.6666666666666666,
              "#ed7953"
             ],
             [
              0.7777777777777778,
              "#fb9f3a"
             ],
             [
              0.8888888888888888,
              "#fdca26"
             ],
             [
              1,
              "#f0f921"
             ]
            ],
            "type": "histogram2d"
           }
          ],
          "histogram2dcontour": [
           {
            "colorbar": {
             "outlinewidth": 0,
             "ticks": ""
            },
            "colorscale": [
             [
              0,
              "#0d0887"
             ],
             [
              0.1111111111111111,
              "#46039f"
             ],
             [
              0.2222222222222222,
              "#7201a8"
             ],
             [
              0.3333333333333333,
              "#9c179e"
             ],
             [
              0.4444444444444444,
              "#bd3786"
             ],
             [
              0.5555555555555556,
              "#d8576b"
             ],
             [
              0.6666666666666666,
              "#ed7953"
             ],
             [
              0.7777777777777778,
              "#fb9f3a"
             ],
             [
              0.8888888888888888,
              "#fdca26"
             ],
             [
              1,
              "#f0f921"
             ]
            ],
            "type": "histogram2dcontour"
           }
          ],
          "mesh3d": [
           {
            "colorbar": {
             "outlinewidth": 0,
             "ticks": ""
            },
            "type": "mesh3d"
           }
          ],
          "parcoords": [
           {
            "line": {
             "colorbar": {
              "outlinewidth": 0,
              "ticks": ""
             }
            },
            "type": "parcoords"
           }
          ],
          "pie": [
           {
            "automargin": true,
            "type": "pie"
           }
          ],
          "scatter": [
           {
            "fillpattern": {
             "fillmode": "overlay",
             "size": 10,
             "solidity": 0.2
            },
            "type": "scatter"
           }
          ],
          "scatter3d": [
           {
            "line": {
             "colorbar": {
              "outlinewidth": 0,
              "ticks": ""
             }
            },
            "marker": {
             "colorbar": {
              "outlinewidth": 0,
              "ticks": ""
             }
            },
            "type": "scatter3d"
           }
          ],
          "scattercarpet": [
           {
            "marker": {
             "colorbar": {
              "outlinewidth": 0,
              "ticks": ""
             }
            },
            "type": "scattercarpet"
           }
          ],
          "scattergeo": [
           {
            "marker": {
             "colorbar": {
              "outlinewidth": 0,
              "ticks": ""
             }
            },
            "type": "scattergeo"
           }
          ],
          "scattergl": [
           {
            "marker": {
             "colorbar": {
              "outlinewidth": 0,
              "ticks": ""
             }
            },
            "type": "scattergl"
           }
          ],
          "scattermap": [
           {
            "marker": {
             "colorbar": {
              "outlinewidth": 0,
              "ticks": ""
             }
            },
            "type": "scattermap"
           }
          ],
          "scattermapbox": [
           {
            "marker": {
             "colorbar": {
              "outlinewidth": 0,
              "ticks": ""
             }
            },
            "type": "scattermapbox"
           }
          ],
          "scatterpolar": [
           {
            "marker": {
             "colorbar": {
              "outlinewidth": 0,
              "ticks": ""
             }
            },
            "type": "scatterpolar"
           }
          ],
          "scatterpolargl": [
           {
            "marker": {
             "colorbar": {
              "outlinewidth": 0,
              "ticks": ""
             }
            },
            "type": "scatterpolargl"
           }
          ],
          "scatterternary": [
           {
            "marker": {
             "colorbar": {
              "outlinewidth": 0,
              "ticks": ""
             }
            },
            "type": "scatterternary"
           }
          ],
          "surface": [
           {
            "colorbar": {
             "outlinewidth": 0,
             "ticks": ""
            },
            "colorscale": [
             [
              0,
              "#0d0887"
             ],
             [
              0.1111111111111111,
              "#46039f"
             ],
             [
              0.2222222222222222,
              "#7201a8"
             ],
             [
              0.3333333333333333,
              "#9c179e"
             ],
             [
              0.4444444444444444,
              "#bd3786"
             ],
             [
              0.5555555555555556,
              "#d8576b"
             ],
             [
              0.6666666666666666,
              "#ed7953"
             ],
             [
              0.7777777777777778,
              "#fb9f3a"
             ],
             [
              0.8888888888888888,
              "#fdca26"
             ],
             [
              1,
              "#f0f921"
             ]
            ],
            "type": "surface"
           }
          ],
          "table": [
           {
            "cells": {
             "fill": {
              "color": "#EBF0F8"
             },
             "line": {
              "color": "white"
             }
            },
            "header": {
             "fill": {
              "color": "#C8D4E3"
             },
             "line": {
              "color": "white"
             }
            },
            "type": "table"
           }
          ]
         },
         "layout": {
          "annotationdefaults": {
           "arrowcolor": "#2a3f5f",
           "arrowhead": 0,
           "arrowwidth": 1
          },
          "autotypenumbers": "strict",
          "coloraxis": {
           "colorbar": {
            "outlinewidth": 0,
            "ticks": ""
           }
          },
          "colorscale": {
           "diverging": [
            [
             0,
             "#8e0152"
            ],
            [
             0.1,
             "#c51b7d"
            ],
            [
             0.2,
             "#de77ae"
            ],
            [
             0.3,
             "#f1b6da"
            ],
            [
             0.4,
             "#fde0ef"
            ],
            [
             0.5,
             "#f7f7f7"
            ],
            [
             0.6,
             "#e6f5d0"
            ],
            [
             0.7,
             "#b8e186"
            ],
            [
             0.8,
             "#7fbc41"
            ],
            [
             0.9,
             "#4d9221"
            ],
            [
             1,
             "#276419"
            ]
           ],
           "sequential": [
            [
             0,
             "#0d0887"
            ],
            [
             0.1111111111111111,
             "#46039f"
            ],
            [
             0.2222222222222222,
             "#7201a8"
            ],
            [
             0.3333333333333333,
             "#9c179e"
            ],
            [
             0.4444444444444444,
             "#bd3786"
            ],
            [
             0.5555555555555556,
             "#d8576b"
            ],
            [
             0.6666666666666666,
             "#ed7953"
            ],
            [
             0.7777777777777778,
             "#fb9f3a"
            ],
            [
             0.8888888888888888,
             "#fdca26"
            ],
            [
             1,
             "#f0f921"
            ]
           ],
           "sequentialminus": [
            [
             0,
             "#0d0887"
            ],
            [
             0.1111111111111111,
             "#46039f"
            ],
            [
             0.2222222222222222,
             "#7201a8"
            ],
            [
             0.3333333333333333,
             "#9c179e"
            ],
            [
             0.4444444444444444,
             "#bd3786"
            ],
            [
             0.5555555555555556,
             "#d8576b"
            ],
            [
             0.6666666666666666,
             "#ed7953"
            ],
            [
             0.7777777777777778,
             "#fb9f3a"
            ],
            [
             0.8888888888888888,
             "#fdca26"
            ],
            [
             1,
             "#f0f921"
            ]
           ]
          },
          "colorway": [
           "#636efa",
           "#EF553B",
           "#00cc96",
           "#ab63fa",
           "#FFA15A",
           "#19d3f3",
           "#FF6692",
           "#B6E880",
           "#FF97FF",
           "#FECB52"
          ],
          "font": {
           "color": "#2a3f5f"
          },
          "geo": {
           "bgcolor": "white",
           "lakecolor": "white",
           "landcolor": "white",
           "showlakes": true,
           "showland": true,
           "subunitcolor": "#C8D4E3"
          },
          "hoverlabel": {
           "align": "left"
          },
          "hovermode": "closest",
          "mapbox": {
           "style": "light"
          },
          "paper_bgcolor": "white",
          "plot_bgcolor": "white",
          "polar": {
           "angularaxis": {
            "gridcolor": "#EBF0F8",
            "linecolor": "#EBF0F8",
            "ticks": ""
           },
           "bgcolor": "white",
           "radialaxis": {
            "gridcolor": "#EBF0F8",
            "linecolor": "#EBF0F8",
            "ticks": ""
           }
          },
          "scene": {
           "xaxis": {
            "backgroundcolor": "white",
            "gridcolor": "#DFE8F3",
            "gridwidth": 2,
            "linecolor": "#EBF0F8",
            "showbackground": true,
            "ticks": "",
            "zerolinecolor": "#EBF0F8"
           },
           "yaxis": {
            "backgroundcolor": "white",
            "gridcolor": "#DFE8F3",
            "gridwidth": 2,
            "linecolor": "#EBF0F8",
            "showbackground": true,
            "ticks": "",
            "zerolinecolor": "#EBF0F8"
           },
           "zaxis": {
            "backgroundcolor": "white",
            "gridcolor": "#DFE8F3",
            "gridwidth": 2,
            "linecolor": "#EBF0F8",
            "showbackground": true,
            "ticks": "",
            "zerolinecolor": "#EBF0F8"
           }
          },
          "shapedefaults": {
           "line": {
            "color": "#2a3f5f"
           }
          },
          "ternary": {
           "aaxis": {
            "gridcolor": "#DFE8F3",
            "linecolor": "#A2B1C6",
            "ticks": ""
           },
           "baxis": {
            "gridcolor": "#DFE8F3",
            "linecolor": "#A2B1C6",
            "ticks": ""
           },
           "bgcolor": "white",
           "caxis": {
            "gridcolor": "#DFE8F3",
            "linecolor": "#A2B1C6",
            "ticks": ""
           }
          },
          "title": {
           "x": 0.05
          },
          "xaxis": {
           "automargin": true,
           "gridcolor": "#EBF0F8",
           "linecolor": "#EBF0F8",
           "ticks": "",
           "title": {
            "standoff": 15
           },
           "zerolinecolor": "#EBF0F8",
           "zerolinewidth": 2
          },
          "yaxis": {
           "automargin": true,
           "gridcolor": "#EBF0F8",
           "linecolor": "#EBF0F8",
           "ticks": "",
           "title": {
            "standoff": 15
           },
           "zerolinecolor": "#EBF0F8",
           "zerolinewidth": 2
          }
         }
        },
        "title": {
         "text": "Distribution of Residuals"
        },
        "xaxis": {
         "anchor": "y",
         "domain": [
          0,
          1
         ],
         "title": {
          "text": "Residual (Actual - Predicted)"
         }
        },
        "xaxis2": {
         "anchor": "y2",
         "domain": [
          0,
          1
         ],
         "matches": "x",
         "showgrid": true,
         "showticklabels": false
        },
        "yaxis": {
         "anchor": "x",
         "domain": [
          0,
          0.8316
         ],
         "title": {
          "text": "Count"
         }
        },
        "yaxis2": {
         "anchor": "x2",
         "domain": [
          0.8416,
          1
         ],
         "matches": "y2",
         "showgrid": false,
         "showline": false,
         "showticklabels": false,
         "ticks": ""
        }
       }
      }
     },
     "metadata": {},
     "output_type": "display_data"
    }
   ],
   "source": [
    "import plotly.express as px\n",
    "\n",
    "# Calculate residuals\n",
    "results['Residual'] = results['Actual'] - results['Predicted']\n",
    "\n",
    "# Plot histogram with KDE-style curve\n",
    "fig = px.histogram(\n",
    "    results,\n",
    "    x='Residual',\n",
    "    nbins=50,\n",
    "    title='Distribution of Residuals',\n",
    "    marginal='violin',  # optional: adds a violin plot on the side\n",
    "    opacity=0.7\n",
    ")\n",
    "\n",
    "fig.update_layout(\n",
    "    xaxis_title='Residual (Actual - Predicted)',\n",
    "    yaxis_title='Count',\n",
    "    bargap=0.1,\n",
    "    template='plotly_white'\n",
    ")\n",
    "\n",
    "fig.show()\n",
    "\n",
    "\n"
   ]
  },
  {
   "cell_type": "code",
   "execution_count": 94,
   "id": "1554b944",
   "metadata": {},
   "outputs": [
    {
     "name": "stdout",
     "output_type": "stream",
     "text": [
      "Actual price range: 25123.34 - 106159.26\n",
      "Predicted price range: 25062.09864315907 - 105872.0134988656\n",
      "Predicted price std dev: 24020.210102986664\n"
     ]
    }
   ],
   "source": [
    "print(\"Actual price range:\", results['Actual'].min(), \"-\", results['Actual'].max())\n",
    "print(\"Predicted price range:\", results['Predicted'].min(), \"-\", results['Predicted'].max())\n",
    "print(\"Predicted price std dev:\", results['Predicted'].std())\n"
   ]
  },
  {
   "cell_type": "code",
   "execution_count": 95,
   "id": "bce46e22",
   "metadata": {},
   "outputs": [
    {
     "data": {
      "application/vnd.plotly.v1+json": {
       "config": {
        "plotlyServerURL": "https://plot.ly"
       },
       "data": [
        {
         "hovertemplate": "Actual BTC Price=%{x}<br>Predicted BTC Price=%{y}<extra></extra>",
         "legendgroup": "",
         "marker": {
          "color": "#636efa",
          "symbol": "circle"
         },
         "mode": "markers",
         "name": "",
         "orientation": "v",
         "showlegend": false,
         "type": "scatter",
         "x": {
          "bdata": "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",
          "dtype": "f8"
         },
         "xaxis": "x",
         "y": {
          "bdata": "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",
          "dtype": "f8"
         },
         "yaxis": "y"
        },
        {
         "hovertemplate": "<b>OLS trendline</b><br>Predicted = 0.995211 * Actual + 85.183<br>R<sup>2</sup>=0.995343<br><br>Actual BTC Price=%{x}<br>Predicted BTC Price=%{y} <b>(trend)</b><extra></extra>",
         "legendgroup": "",
         "marker": {
          "color": "#636efa",
          "symbol": "circle"
         },
         "mode": "lines",
         "name": "",
         "showlegend": false,
         "type": "scatter",
         "x": {
          "bdata": "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",
          "dtype": "f8"
         },
         "xaxis": "x",
         "y": {
          "bdata": "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",
          "dtype": "f8"
         },
         "yaxis": "y"
        }
       ],
       "layout": {
        "legend": {
         "tracegroupgap": 0
        },
        "template": {
         "data": {
          "bar": [
           {
            "error_x": {
             "color": "#2a3f5f"
            },
            "error_y": {
             "color": "#2a3f5f"
            },
            "marker": {
             "line": {
              "color": "white",
              "width": 0.5
             },
             "pattern": {
              "fillmode": "overlay",
              "size": 10,
              "solidity": 0.2
             }
            },
            "type": "bar"
           }
          ],
          "barpolar": [
           {
            "marker": {
             "line": {
              "color": "white",
              "width": 0.5
             },
             "pattern": {
              "fillmode": "overlay",
              "size": 10,
              "solidity": 0.2
             }
            },
            "type": "barpolar"
           }
          ],
          "carpet": [
           {
            "aaxis": {
             "endlinecolor": "#2a3f5f",
             "gridcolor": "#C8D4E3",
             "linecolor": "#C8D4E3",
             "minorgridcolor": "#C8D4E3",
             "startlinecolor": "#2a3f5f"
            },
            "baxis": {
             "endlinecolor": "#2a3f5f",
             "gridcolor": "#C8D4E3",
             "linecolor": "#C8D4E3",
             "minorgridcolor": "#C8D4E3",
             "startlinecolor": "#2a3f5f"
            },
            "type": "carpet"
           }
          ],
          "choropleth": [
           {
            "colorbar": {
             "outlinewidth": 0,
             "ticks": ""
            },
            "type": "choropleth"
           }
          ],
          "contour": [
           {
            "colorbar": {
             "outlinewidth": 0,
             "ticks": ""
            },
            "colorscale": [
             [
              0,
              "#0d0887"
             ],
             [
              0.1111111111111111,
              "#46039f"
             ],
             [
              0.2222222222222222,
              "#7201a8"
             ],
             [
              0.3333333333333333,
              "#9c179e"
             ],
             [
              0.4444444444444444,
              "#bd3786"
             ],
             [
              0.5555555555555556,
              "#d8576b"
             ],
             [
              0.6666666666666666,
              "#ed7953"
             ],
             [
              0.7777777777777778,
              "#fb9f3a"
             ],
             [
              0.8888888888888888,
              "#fdca26"
             ],
             [
              1,
              "#f0f921"
             ]
            ],
            "type": "contour"
           }
          ],
          "contourcarpet": [
           {
            "colorbar": {
             "outlinewidth": 0,
             "ticks": ""
            },
            "type": "contourcarpet"
           }
          ],
          "heatmap": [
           {
            "colorbar": {
             "outlinewidth": 0,
             "ticks": ""
            },
            "colorscale": [
             [
              0,
              "#0d0887"
             ],
             [
              0.1111111111111111,
              "#46039f"
             ],
             [
              0.2222222222222222,
              "#7201a8"
             ],
             [
              0.3333333333333333,
              "#9c179e"
             ],
             [
              0.4444444444444444,
              "#bd3786"
             ],
             [
              0.5555555555555556,
              "#d8576b"
             ],
             [
              0.6666666666666666,
              "#ed7953"
             ],
             [
              0.7777777777777778,
              "#fb9f3a"
             ],
             [
              0.8888888888888888,
              "#fdca26"
             ],
             [
              1,
              "#f0f921"
             ]
            ],
            "type": "heatmap"
           }
          ],
          "histogram": [
           {
            "marker": {
             "pattern": {
              "fillmode": "overlay",
              "size": 10,
              "solidity": 0.2
             }
            },
            "type": "histogram"
           }
          ],
          "histogram2d": [
           {
            "colorbar": {
             "outlinewidth": 0,
             "ticks": ""
            },
            "colorscale": [
             [
              0,
              "#0d0887"
             ],
             [
              0.1111111111111111,
              "#46039f"
             ],
             [
              0.2222222222222222,
              "#7201a8"
             ],
             [
              0.3333333333333333,
              "#9c179e"
             ],
             [
              0.4444444444444444,
              "#bd3786"
             ],
             [
              0.5555555555555556,
              "#d8576b"
             ],
             [
              0.6666666666666666,
              "#ed7953"
             ],
             [
              0.7777777777777778,
              "#fb9f3a"
             ],
             [
              0.8888888888888888,
              "#fdca26"
             ],
             [
              1,
              "#f0f921"
             ]
            ],
            "type": "histogram2d"
           }
          ],
          "histogram2dcontour": [
           {
            "colorbar": {
             "outlinewidth": 0,
             "ticks": ""
            },
            "colorscale": [
             [
              0,
              "#0d0887"
             ],
             [
              0.1111111111111111,
              "#46039f"
             ],
             [
              0.2222222222222222,
              "#7201a8"
             ],
             [
              0.3333333333333333,
              "#9c179e"
             ],
             [
              0.4444444444444444,
              "#bd3786"
             ],
             [
              0.5555555555555556,
              "#d8576b"
             ],
             [
              0.6666666666666666,
              "#ed7953"
             ],
             [
              0.7777777777777778,
              "#fb9f3a"
             ],
             [
              0.8888888888888888,
              "#fdca26"
             ],
             [
              1,
              "#f0f921"
             ]
            ],
            "type": "histogram2dcontour"
           }
          ],
          "mesh3d": [
           {
            "colorbar": {
             "outlinewidth": 0,
             "ticks": ""
            },
            "type": "mesh3d"
           }
          ],
          "parcoords": [
           {
            "line": {
             "colorbar": {
              "outlinewidth": 0,
              "ticks": ""
             }
            },
            "type": "parcoords"
           }
          ],
          "pie": [
           {
            "automargin": true,
            "type": "pie"
           }
          ],
          "scatter": [
           {
            "fillpattern": {
             "fillmode": "overlay",
             "size": 10,
             "solidity": 0.2
            },
            "type": "scatter"
           }
          ],
          "scatter3d": [
           {
            "line": {
             "colorbar": {
              "outlinewidth": 0,
              "ticks": ""
             }
            },
            "marker": {
             "colorbar": {
              "outlinewidth": 0,
              "ticks": ""
             }
            },
            "type": "scatter3d"
           }
          ],
          "scattercarpet": [
           {
            "marker": {
             "colorbar": {
              "outlinewidth": 0,
              "ticks": ""
             }
            },
            "type": "scattercarpet"
           }
          ],
          "scattergeo": [
           {
            "marker": {
             "colorbar": {
              "outlinewidth": 0,
              "ticks": ""
             }
            },
            "type": "scattergeo"
           }
          ],
          "scattergl": [
           {
            "marker": {
             "colorbar": {
              "outlinewidth": 0,
              "ticks": ""
             }
            },
            "type": "scattergl"
           }
          ],
          "scattermap": [
           {
            "marker": {
             "colorbar": {
              "outlinewidth": 0,
              "ticks": ""
             }
            },
            "type": "scattermap"
           }
          ],
          "scattermapbox": [
           {
            "marker": {
             "colorbar": {
              "outlinewidth": 0,
              "ticks": ""
             }
            },
            "type": "scattermapbox"
           }
          ],
          "scatterpolar": [
           {
            "marker": {
             "colorbar": {
              "outlinewidth": 0,
              "ticks": ""
             }
            },
            "type": "scatterpolar"
           }
          ],
          "scatterpolargl": [
           {
            "marker": {
             "colorbar": {
              "outlinewidth": 0,
              "ticks": ""
             }
            },
            "type": "scatterpolargl"
           }
          ],
          "scatterternary": [
           {
            "marker": {
             "colorbar": {
              "outlinewidth": 0,
              "ticks": ""
             }
            },
            "type": "scatterternary"
           }
          ],
          "surface": [
           {
            "colorbar": {
             "outlinewidth": 0,
             "ticks": ""
            },
            "colorscale": [
             [
              0,
              "#0d0887"
             ],
             [
              0.1111111111111111,
              "#46039f"
             ],
             [
              0.2222222222222222,
              "#7201a8"
             ],
             [
              0.3333333333333333,
              "#9c179e"
             ],
             [
              0.4444444444444444,
              "#bd3786"
             ],
             [
              0.5555555555555556,
              "#d8576b"
             ],
             [
              0.6666666666666666,
              "#ed7953"
             ],
             [
              0.7777777777777778,
              "#fb9f3a"
             ],
             [
              0.8888888888888888,
              "#fdca26"
             ],
             [
              1,
              "#f0f921"
             ]
            ],
            "type": "surface"
           }
          ],
          "table": [
           {
            "cells": {
             "fill": {
              "color": "#EBF0F8"
             },
             "line": {
              "color": "white"
             }
            },
            "header": {
             "fill": {
              "color": "#C8D4E3"
             },
             "line": {
              "color": "white"
             }
            },
            "type": "table"
           }
          ]
         },
         "layout": {
          "annotationdefaults": {
           "arrowcolor": "#2a3f5f",
           "arrowhead": 0,
           "arrowwidth": 1
          },
          "autotypenumbers": "strict",
          "coloraxis": {
           "colorbar": {
            "outlinewidth": 0,
            "ticks": ""
           }
          },
          "colorscale": {
           "diverging": [
            [
             0,
             "#8e0152"
            ],
            [
             0.1,
             "#c51b7d"
            ],
            [
             0.2,
             "#de77ae"
            ],
            [
             0.3,
             "#f1b6da"
            ],
            [
             0.4,
             "#fde0ef"
            ],
            [
             0.5,
             "#f7f7f7"
            ],
            [
             0.6,
             "#e6f5d0"
            ],
            [
             0.7,
             "#b8e186"
            ],
            [
             0.8,
             "#7fbc41"
            ],
            [
             0.9,
             "#4d9221"
            ],
            [
             1,
             "#276419"
            ]
           ],
           "sequential": [
            [
             0,
             "#0d0887"
            ],
            [
             0.1111111111111111,
             "#46039f"
            ],
            [
             0.2222222222222222,
             "#7201a8"
            ],
            [
             0.3333333333333333,
             "#9c179e"
            ],
            [
             0.4444444444444444,
             "#bd3786"
            ],
            [
             0.5555555555555556,
             "#d8576b"
            ],
            [
             0.6666666666666666,
             "#ed7953"
            ],
            [
             0.7777777777777778,
             "#fb9f3a"
            ],
            [
             0.8888888888888888,
             "#fdca26"
            ],
            [
             1,
             "#f0f921"
            ]
           ],
           "sequentialminus": [
            [
             0,
             "#0d0887"
            ],
            [
             0.1111111111111111,
             "#46039f"
            ],
            [
             0.2222222222222222,
             "#7201a8"
            ],
            [
             0.3333333333333333,
             "#9c179e"
            ],
            [
             0.4444444444444444,
             "#bd3786"
            ],
            [
             0.5555555555555556,
             "#d8576b"
            ],
            [
             0.6666666666666666,
             "#ed7953"
            ],
            [
             0.7777777777777778,
             "#fb9f3a"
            ],
            [
             0.8888888888888888,
             "#fdca26"
            ],
            [
             1,
             "#f0f921"
            ]
           ]
          },
          "colorway": [
           "#636efa",
           "#EF553B",
           "#00cc96",
           "#ab63fa",
           "#FFA15A",
           "#19d3f3",
           "#FF6692",
           "#B6E880",
           "#FF97FF",
           "#FECB52"
          ],
          "font": {
           "color": "#2a3f5f"
          },
          "geo": {
           "bgcolor": "white",
           "lakecolor": "white",
           "landcolor": "white",
           "showlakes": true,
           "showland": true,
           "subunitcolor": "#C8D4E3"
          },
          "hoverlabel": {
           "align": "left"
          },
          "hovermode": "closest",
          "mapbox": {
           "style": "light"
          },
          "paper_bgcolor": "white",
          "plot_bgcolor": "white",
          "polar": {
           "angularaxis": {
            "gridcolor": "#EBF0F8",
            "linecolor": "#EBF0F8",
            "ticks": ""
           },
           "bgcolor": "white",
           "radialaxis": {
            "gridcolor": "#EBF0F8",
            "linecolor": "#EBF0F8",
            "ticks": ""
           }
          },
          "scene": {
           "xaxis": {
            "backgroundcolor": "white",
            "gridcolor": "#DFE8F3",
            "gridwidth": 2,
            "linecolor": "#EBF0F8",
            "showbackground": true,
            "ticks": "",
            "zerolinecolor": "#EBF0F8"
           },
           "yaxis": {
            "backgroundcolor": "white",
            "gridcolor": "#DFE8F3",
            "gridwidth": 2,
            "linecolor": "#EBF0F8",
            "showbackground": true,
            "ticks": "",
            "zerolinecolor": "#EBF0F8"
           },
           "zaxis": {
            "backgroundcolor": "white",
            "gridcolor": "#DFE8F3",
            "gridwidth": 2,
            "linecolor": "#EBF0F8",
            "showbackground": true,
            "ticks": "",
            "zerolinecolor": "#EBF0F8"
           }
          },
          "shapedefaults": {
           "line": {
            "color": "#2a3f5f"
           }
          },
          "ternary": {
           "aaxis": {
            "gridcolor": "#DFE8F3",
            "linecolor": "#A2B1C6",
            "ticks": ""
           },
           "baxis": {
            "gridcolor": "#DFE8F3",
            "linecolor": "#A2B1C6",
            "ticks": ""
           },
           "bgcolor": "white",
           "caxis": {
            "gridcolor": "#DFE8F3",
            "linecolor": "#A2B1C6",
            "ticks": ""
           }
          },
          "title": {
           "x": 0.05
          },
          "xaxis": {
           "automargin": true,
           "gridcolor": "#EBF0F8",
           "linecolor": "#EBF0F8",
           "ticks": "",
           "title": {
            "standoff": 15
           },
           "zerolinecolor": "#EBF0F8",
           "zerolinewidth": 2
          },
          "yaxis": {
           "automargin": true,
           "gridcolor": "#EBF0F8",
           "linecolor": "#EBF0F8",
           "ticks": "",
           "title": {
            "standoff": 15
           },
           "zerolinecolor": "#EBF0F8",
           "zerolinewidth": 2
          }
         }
        },
        "title": {
         "text": "Actual vs Predicted Prices"
        },
        "xaxis": {
         "anchor": "y",
         "domain": [
          0,
          1
         ],
         "title": {
          "text": "Actual BTC Price"
         }
        },
        "yaxis": {
         "anchor": "x",
         "domain": [
          0,
          1
         ],
         "title": {
          "text": "Predicted BTC Price"
         }
        }
       }
      }
     },
     "metadata": {},
     "output_type": "display_data"
    }
   ],
   "source": [
    "import plotly.express as px\n",
    "\n",
    "fig = px.scatter(\n",
    "    results,\n",
    "    x='Actual',\n",
    "    y='Predicted',\n",
    "    title='Actual vs Predicted Prices',\n",
    "    labels={'Actual': 'Actual BTC Price', 'Predicted': 'Predicted BTC Price'},\n",
    "    trendline='ols',\n",
    "    template='plotly_white'\n",
    ")\n",
    "\n",
    "fig.show()\n"
   ]
  },
  {
   "cell_type": "code",
   "execution_count": 96,
   "id": "975d59b7",
   "metadata": {},
   "outputs": [],
   "source": [
    "# Align predictions back to the original index\n",
    "data.loc[results.index, 'Predicted'] = results['Predicted'].values"
   ]
  },
  {
   "cell_type": "code",
   "execution_count": 97,
   "id": "44c3b171",
   "metadata": {},
   "outputs": [
    {
     "data": {
      "text/plain": [
       "3545"
      ]
     },
     "execution_count": 97,
     "metadata": {},
     "output_type": "execute_result"
    }
   ],
   "source": [
    "data.to_sql(\"BTC_ModelOutput\", con=engine, if_exists=\"replace\", index=False)\n"
   ]
  }
 ],
 "metadata": {
  "kernelspec": {
   "display_name": "Python 3",
   "language": "python",
   "name": "python3"
  },
  "language_info": {
   "codemirror_mode": {
    "name": "ipython",
    "version": 3
   },
   "file_extension": ".py",
   "mimetype": "text/x-python",
   "name": "python",
   "nbconvert_exporter": "python",
   "pygments_lexer": "ipython3",
   "version": "3.11.9"
  }
 },
 "nbformat": 4,
 "nbformat_minor": 5
}
