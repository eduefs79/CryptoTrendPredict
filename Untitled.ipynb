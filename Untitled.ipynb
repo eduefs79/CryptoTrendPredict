{
 "cells": [
  {
   "cell_type": "code",
   "execution_count": 1,
   "id": "ee0fc288-e32d-43b1-a360-3e4b560eef51",
   "metadata": {},
   "outputs": [
    {
     "name": "stdout",
     "output_type": "stream",
     "text": [
      "Requirement already satisfied: lxml in /usr/local/lib/python3.10/site-packages (5.4.0)\n",
      "\u001b[33mWARNING: Running pip as the 'root' user can result in broken permissions and conflicting behaviour with the system package manager, possibly rendering your system unusable. It is recommended to use a virtual environment instead: https://pip.pypa.io/warnings/venv. Use the --root-user-action option if you know what you are doing and want to suppress this warning.\u001b[0m\u001b[33m\n",
      "\u001b[0mNote: you may need to restart the kernel to use updated packages.\n"
     ]
    }
   ],
   "source": [
    "pip install lxml"
   ]
  },
  {
   "cell_type": "code",
   "execution_count": 2,
   "id": "938759f1-5659-4023-b90e-d9a0fe7013e3",
   "metadata": {},
   "outputs": [
    {
     "name": "stdout",
     "output_type": "stream",
     "text": [
      "✅ Nasdaq-100 added. File saved as 'Assets_Categorized_With_Nasdaq100.csv'\n"
     ]
    },
    {
     "name": "stderr",
     "output_type": "stream",
     "text": [
      "/tmp/ipykernel_809/2703619848.py:18: DeprecationWarning: Call to deprecated method findAll. (Replaced by find_all) -- Deprecated since version 4.0.0.\n",
      "  for row in table.findAll('tr')[1:]:\n",
      "/tmp/ipykernel_809/2703619848.py:19: DeprecationWarning: Call to deprecated method findAll. (Replaced by find_all) -- Deprecated since version 4.0.0.\n",
      "  cols = row.findAll('td')\n"
     ]
    }
   ],
   "source": [
    "import pandas as pd\n",
    "import requests\n",
    "from bs4 import BeautifulSoup\n",
    "\n",
    "# Load your asset file\n",
    "df_assets = pd.read_csv(\"Assets_Categorized.csv\")\n",
    "\n",
    "# Scrape Nasdaq-100 from Wikipedia\n",
    "url = \"https://en.wikipedia.org/wiki/Nasdaq-100\"\n",
    "resp = requests.get(url)\n",
    "soup = BeautifulSoup(resp.text, 'lxml')\n",
    "\n",
    "# Find the table\n",
    "table = soup.find('table', {'class': 'wikitable sortable'})\n",
    "\n",
    "# Parse tickers and names\n",
    "nasdaq100 = []\n",
    "for row in table.findAll('tr')[1:]:\n",
    "    cols = row.findAll('td')\n",
    "    ticker = cols[1].text.strip().replace('.', '-')\n",
    "    name = cols[0].text.strip()\n",
    "    nasdaq100.append({\n",
    "        \"name\": name,\n",
    "        \"realticker\": ticker,\n",
    "        \"category\": \"Nasdaq-100\",\n",
    "        \"market\": \"Stock\",\n",
    "        \"ticker\": ticker\n",
    "    })\n",
    "\n",
    "# Merge into your file\n",
    "df_nasdaq100 = pd.DataFrame(nasdaq100)\n",
    "df_updated = pd.concat([df_assets, df_nasdaq100], ignore_index=True)\n",
    "\n",
    "# Save\n",
    "df_updated.to_csv(\"Assets_Categorized_With_Nasdaq100.csv\", index=False)\n",
    "print(\"✅ Nasdaq-100 added. File saved as 'Assets_Categorized_With_Nasdaq100.csv'\")\n"
   ]
  },
  {
   "cell_type": "code",
   "execution_count": null,
   "id": "d465fcb9-384b-44fa-80a8-84546431aa25",
   "metadata": {},
   "outputs": [],
   "source": []
  }
 ],
 "metadata": {
  "kernelspec": {
   "display_name": "Python 3 (ipykernel)",
   "language": "python",
   "name": "python3"
  },
  "language_info": {
   "codemirror_mode": {
    "name": "ipython",
    "version": 3
   },
   "file_extension": ".py",
   "mimetype": "text/x-python",
   "name": "python",
   "nbconvert_exporter": "python",
   "pygments_lexer": "ipython3",
   "version": "3.10.17"
  }
 },
 "nbformat": 4,
 "nbformat_minor": 5
}
